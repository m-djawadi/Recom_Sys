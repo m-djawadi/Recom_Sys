{
  "nbformat": 4,
  "nbformat_minor": 0,
  "metadata": {
    "colab": {
      "name": "Preprocess_electronicsdata.ipynb",
      "provenance": []
    },
    "kernelspec": {
      "name": "python3",
      "display_name": "Python 3"
    },
    "language_info": {
      "name": "python"
    }
  },
  "cells": [
    {
      "cell_type": "code",
      "metadata": {
        "colab": {
          "base_uri": "https://localhost:8080/"
        },
        "id": "3OFCDjp7AFMD",
        "outputId": "556ce5dd-3300-475a-bdb0-b7e441b9cd68"
      },
      "source": [
        "! pip install deepctr"
      ],
      "execution_count": 2,
      "outputs": [
        {
          "output_type": "stream",
          "text": [
            "Collecting deepctr\n",
            "\u001b[?25l  Downloading https://files.pythonhosted.org/packages/e1/23/a0c89b3a1631f8017dde94ee096db6ba14dfe0c996df8d5a0bdfb795ca54/deepctr-0.8.5-py3-none-any.whl (116kB)\n",
            "\r\u001b[K     |██▉                             | 10kB 14.8MB/s eta 0:00:01\r\u001b[K     |█████▋                          | 20kB 14.5MB/s eta 0:00:01\r\u001b[K     |████████▍                       | 30kB 10.3MB/s eta 0:00:01\r\u001b[K     |███████████▎                    | 40kB 8.9MB/s eta 0:00:01\r\u001b[K     |██████████████                  | 51kB 5.5MB/s eta 0:00:01\r\u001b[K     |████████████████▉               | 61kB 5.8MB/s eta 0:00:01\r\u001b[K     |███████████████████▊            | 71kB 6.2MB/s eta 0:00:01\r\u001b[K     |██████████████████████▌         | 81kB 6.6MB/s eta 0:00:01\r\u001b[K     |█████████████████████████▎      | 92kB 6.3MB/s eta 0:00:01\r\u001b[K     |████████████████████████████▏   | 102kB 5.3MB/s eta 0:00:01\r\u001b[K     |███████████████████████████████ | 112kB 5.3MB/s eta 0:00:01\r\u001b[K     |████████████████████████████████| 122kB 5.3MB/s \n",
            "\u001b[?25hRequirement already satisfied: requests in /usr/local/lib/python3.7/dist-packages (from deepctr) (2.23.0)\n",
            "Requirement already satisfied: h5py==2.10.0 in /usr/local/lib/python3.7/dist-packages (from deepctr) (2.10.0)\n",
            "Requirement already satisfied: certifi>=2017.4.17 in /usr/local/lib/python3.7/dist-packages (from requests->deepctr) (2020.12.5)\n",
            "Requirement already satisfied: chardet<4,>=3.0.2 in /usr/local/lib/python3.7/dist-packages (from requests->deepctr) (3.0.4)\n",
            "Requirement already satisfied: urllib3!=1.25.0,!=1.25.1,<1.26,>=1.21.1 in /usr/local/lib/python3.7/dist-packages (from requests->deepctr) (1.24.3)\n",
            "Requirement already satisfied: idna<3,>=2.5 in /usr/local/lib/python3.7/dist-packages (from requests->deepctr) (2.10)\n",
            "Requirement already satisfied: six in /usr/local/lib/python3.7/dist-packages (from h5py==2.10.0->deepctr) (1.15.0)\n",
            "Requirement already satisfied: numpy>=1.7 in /usr/local/lib/python3.7/dist-packages (from h5py==2.10.0->deepctr) (1.19.5)\n",
            "Installing collected packages: deepctr\n",
            "Successfully installed deepctr-0.8.5\n"
          ],
          "name": "stdout"
        }
      ]
    },
    {
      "cell_type": "code",
      "metadata": {
        "id": "KmNwSBEL_y7W"
      },
      "source": [
        "import pandas as pd\n",
        "from deepctr.feature_column import SparseFeat,DenseFeat,VarLenSparseFeat,get_feature_names\n",
        "from deepctr.models import DIN\n",
        "import random\n",
        "import datetime\n",
        "import time\n",
        "import numpy as np"
      ],
      "execution_count": 3,
      "outputs": []
    },
    {
      "cell_type": "code",
      "metadata": {
        "colab": {
          "base_uri": "https://localhost:8080/"
        },
        "id": "DGP14pWN_352",
        "outputId": "fc27093e-18dc-4333-98aa-867437e2bca0"
      },
      "source": [
        "from google.colab import drive\n",
        "drive.mount('/content/gdrive')"
      ],
      "execution_count": 4,
      "outputs": [
        {
          "output_type": "stream",
          "text": [
            "Mounted at /content/gdrive\n"
          ],
          "name": "stdout"
        }
      ]
    },
    {
      "cell_type": "code",
      "metadata": {
        "id": "EZvFOYDW__0e"
      },
      "source": [
        "df_electronics=pd.read_csv('/content/gdrive/My Drive/dl_group/df_electronics_train.csv')\n",
        "df_electronics=df_electronics[:1000]"
      ],
      "execution_count": 9,
      "outputs": []
    },
    {
      "cell_type": "code",
      "metadata": {
        "id": "-SES--Uk_qhK"
      },
      "source": [
        "import random\n",
        "def model_attr(model_attr):\n",
        "    if '&' in model_attr:\n",
        "        result=model_attr.split(\"&\")\n",
        "        return random.choice(result)\n",
        "    else:\n",
        "        return model_attr\n",
        "df_electronics['model_attr']=df_electronics['model_attr'].map(lambda x:model_attr(x))\n",
        "\n",
        "def expand(df, col, sep=','):\n",
        "    r = df[col].str.split(sep)\n",
        "    d = {c: df[c].values.repeat(r.str.len(), axis=0) for c in df.columns}\n",
        "    d[col] = [i for sub in r for i in sub]\n",
        "    return pd.DataFrame(d)\n",
        "df_electronics=expand(df_electronics, 'category', '&')\n",
        "\n",
        "def category(category):\n",
        "    if '&' not in category:\n",
        "        return category+\"&\"+\"other\"\n",
        "    else:\n",
        "        return category\n",
        "\n",
        "def user_attr_2int(user_attr,user_attr_dict):\n",
        "    if user_attr in user_attr_dict:\n",
        "        return user_attr_dict[user_attr]\n",
        "    else:\n",
        "        return random.choice(list(user_attr_dict.values()))\n",
        "def model_attr2int(model_attr,model_attr_dict):\n",
        "    if model_attr in model_attr_dict:\n",
        "        return model_attr_dict[model_attr]\n",
        "    else:\n",
        "        return random.choice(list(model_attr_dict.values()))\n",
        "\n",
        "\n",
        "def brand_2int(brand_2,brand_dict):\n",
        "    if brand_2 in brand_dict:\n",
        "        return brand_dict[brand_2]\n",
        "    else:\n",
        "        return random.choice(list(brand_dict.values()))\n",
        "\n",
        "def category_12int(category_1,category_1_dict):\n",
        "    if category_1 in category_1_dict:\n",
        "        return category_1_dict[category_1]\n",
        "    else:\n",
        "        return random.choice(list(category_1_dict.values()))\n",
        "def category_22int(category_2,category_2_dict):\n",
        "    if category_2 in category_2_dict:\n",
        "        return category_2_dict[category_2]\n",
        "    else:\n",
        "        return random.choice(list(category_2_dict.values()))\n",
        "\n",
        "def item_id_2int(item_id, item_id_dict):\n",
        "    if item_id in item_id_dict:\n",
        "        return item_id_dict[item_id]\n",
        "    else:\n",
        "        return random.choice(list(item_id_dict.values()))\n",
        "\n",
        "def user_id_2int(user_id, user_id_dict):\n",
        "    if user_id in user_id_dict:\n",
        "        return user_id_dict[user_id]\n",
        "    else:\n",
        "        return random.choice(list(user_id_dict.values()))\n",
        "\n",
        "item_id_set=set(df_electronics['item_id'].unique())\n",
        "item_id_dict={}\n",
        "for index,cate in enumerate(item_id_set):\n",
        "    item_id_dict[cate]=index\n",
        "\n",
        "user_id_set=set(df_electronics['user_id'].unique())\n",
        "user_id_dict={}\n",
        "for index,cate in enumerate(user_id_set):\n",
        "    user_id_dict[cate]=index\n",
        "\n",
        "\n",
        "model_attr_set=set(df_electronics['model_attr'].unique())\n",
        "model_attr_dict={}\n",
        "for index,gender in enumerate(model_attr_set):\n",
        "    model_attr_dict[gender]=index\n",
        "category_set=set(df_electronics['category'].unique())\n",
        "category_dict={}\n",
        "for index,cate in enumerate(category_set):\n",
        "    category_dict[cate]=index\n",
        "\n",
        "brand_set=set(df_electronics['brand'].unique())\n",
        "brand_dict={}\n",
        "for index,cate in enumerate(brand_set):\n",
        "    brand_dict[cate]=index\n",
        "\n",
        "user_attr_set=set(df_electronics['user_attr'].unique())\n",
        "user_attr_dict={}\n",
        "for index,cate in enumerate(user_attr_set):\n",
        "    user_attr_dict[cate]=index\n",
        "\n",
        "item_id_set=set(df_electronics['item_id'].unique())\n",
        "item_id_dict={}\n",
        "for index,cate in enumerate(item_id_set):\n",
        "    item_id_dict[cate]=index\n",
        "\n",
        "\n",
        "df_electronics['model_attr']=df_electronics['model_attr'].map(lambda x:model_attr2int(x,model_attr_dict))\n",
        "df_electronics['category']=df_electronics['category'].map(lambda x:category_12int(x,category_dict))\n",
        "df_electronics['brand']=df_electronics['brand'].map(lambda x:brand_2int(x,brand_dict))\n",
        "df_electronics['user_attr']=df_electronics['user_attr'].map(lambda x:user_attr_2int(x,user_attr_dict))\n",
        "df_electronics['item_id']=df_electronics['item_id'].map(lambda x:item_id_2int(x,item_id_dict))\n",
        "df_electronics['user_id']=df_electronics['user_id'].map(lambda x:user_id_2int(x,user_id_dict))\n",
        "\n"
      ],
      "execution_count": 10,
      "outputs": []
    },
    {
      "cell_type": "code",
      "metadata": {
        "colab": {
          "base_uri": "https://localhost:8080/"
        },
        "id": "ohJDMTeoAw20",
        "outputId": "f1c96191-892b-4daa-9e31-af7edcb371ad"
      },
      "source": [
        "def convert(x):\n",
        "    d = datetime.datetime.strptime(x,\"%Y-%m-%d\")\n",
        "    t = d.timetuple()\n",
        "    timeStamp = int(time.mktime(t))\n",
        "    return timeStamp\n",
        "###################################################\n",
        "df_electronics['timestamp'] = df_electronics.timestamp.apply(lambda x: convert(x))\n",
        "df_electronics=df_electronics.sort_values(by=\"timestamp\", ascending=True)\n",
        "itemprofile=df_electronics[['category','brand','item_id']].to_dict(orient='records')\n",
        "electronics_profile=df_electronics.to_dict(orient='records')\n",
        "user_df=df_electronics.drop_duplicates(\"user_id\")\n",
        "groupdata=user_df.groupby(\"user_id\")\n",
        "user_behavior=[]\n",
        "max=0\n",
        "for groupname,data in groupdata:\n",
        "    userkey=groupname\n",
        "    data=data.to_dict(orient=\"records\")\n",
        "    item_id={item['item_id'] for item  in data}\n",
        "    items=list(item_id)\n",
        "    length = len(items)\n",
        "\n",
        "    allitems=set(item_id_dict.values())\n",
        "\n",
        "    seleted1 = set(random.sample(allitems, 10))\n",
        "    otheritems=allitems.difference(seleted1)\n",
        "    if length>max:\n",
        "        max=length\n",
        "    getnum=10\n",
        "    seleted2=[]\n",
        "    seleted2.extend(items)\n",
        "    samplenum=getnum-length\n",
        "    if samplenum>0:\n",
        "        seleted = set(random.sample(otheritems, samplenum))\n",
        "        seleted2.extend(list(seleted))\n",
        "\n",
        "    behavior = []\n",
        "\n",
        "    for item in seleted1:\n",
        "        if len(behavior) <10:\n",
        "            userdict = {}\n",
        "            behavior.append(item)\n",
        "            hist_len = len(behavior)\n",
        "            behavior1 = []\n",
        "            behavior1.extend(behavior)\n",
        "            if len(seleted2)<1:\n",
        "                continue\n",
        "            else:\n",
        "                itemid = random.choice(seleted2)\n",
        "                seleted2.remove(itemid)\n",
        "\n",
        "                for cuitem in electronics_profile:\n",
        "                    #'item_id', 'user_id', 'rating', 'timestamp', 'size', 'user_attr','model_attr', 'category', 'brand'\n",
        "                    if cuitem[\"user_id\"]==groupname:\n",
        "                        userdict['model_attr']=cuitem['model_attr']\n",
        "                        userdict['user_attr']=cuitem['user_attr']\n",
        "                        userdict['user_id'] = groupname\n",
        "                        if cuitem['item_id']==itemid:\n",
        "                            userdict['brand']=cuitem['brand']\n",
        "                            userdict['category']=cuitem['category']\n",
        "                            userdict['rating'] = cuitem['rating']\n",
        "                            userdict['item_id'] = itemid\n",
        "                        else:\n",
        "                            for item in itemprofile:\n",
        "                                if item[\"item_id\"] == itemid:\n",
        "                                    userdict['brand'] = item['brand']\n",
        "                                    userdict['category'] = item['category']\n",
        "                                    userdict['rating'] = 0\n",
        "                                    userdict['item_id'] = itemid\n",
        "\n",
        "            if len(behavior1) < 10:\n",
        "               num = 10 - len(behavior1)\n",
        "               for i in range(num+1):\n",
        "                   behavior1.append(0)\n",
        "               userdict[\"hist_movie_id\"]= \" \".join((str(id) for id in behavior1))\n",
        "               userdict['hist_len']=len(behavior)\n",
        "               user_behavior.append(userdict)\n",
        "               continue\n",
        "\n",
        "        else:\n",
        "            userdict = {}\n",
        "            hist_len = 10\n",
        "            if len(seleted2) < 1:\n",
        "                continue\n",
        "            else:\n",
        "             behavior1 = []\n",
        "             behavior1.extend(behavior)\n",
        "             itemid = random.choice(seleted2)\n",
        "             seleted2.remove(itemid)\n",
        "             for cuitem in electronics_profile:\n",
        "                 # 'item_id', 'user_id', 'rating', 'timestamp', 'size', 'user_attr','model_attr', 'category', 'brand'\n",
        "                 if cuitem[\"user_id\"] == groupname:\n",
        "                     userdict['model_attr'] = cuitem['model_attr']\n",
        "                     userdict['user_attr'] = cuitem['user_attr']\n",
        "                     userdict['user_id'] = groupname\n",
        "                     if cuitem['item_id'] == itemid:\n",
        "                         userdict['brand'] = cuitem['brand']\n",
        "                         userdict['category'] = cuitem['category']\n",
        "                         userdict['item_id'] = itemid\n",
        "                         userdict['rating'] = cuitem['rating']\n",
        "                     else:\n",
        "                         for item in itemprofile:\n",
        "                             if item[\"item_id\"] == itemid:\n",
        "                                 userdict['brand'] = item['brand']\n",
        "                                 userdict['category'] = item['category']\n",
        "                                 userdict['rating'] = 0\n",
        "                                 userdict['item_id'] = itemid\n",
        "                 userdict[\"hist_movie_id\"] = \" \".join((str(id) for id in behavior1))\n",
        "                 userdict['hist_len'] = len(behavior)\n",
        "                 user_behavior.append(userdict)\n",
        "                 continue\n",
        "\n",
        "finalResult=pd.DataFrame(user_behavior)\n",
        "finalResult.to_csv('electtrain.csv',sep='\\t')\n",
        "#\n",
        "# all_data_dict=df_movies.to_dict(orient=\"records\")\n",
        "#\n",
        "# user_behavior_df=pd.DataFrame(user_behavior)\n",
        "\n",
        "\n",
        "print(\"preprocess done !!!\")"
      ],
      "execution_count": 11,
      "outputs": [
        {
          "output_type": "stream",
          "text": [
            "preprocess done !!!\n"
          ],
          "name": "stdout"
        }
      ]
    }
  ]
}