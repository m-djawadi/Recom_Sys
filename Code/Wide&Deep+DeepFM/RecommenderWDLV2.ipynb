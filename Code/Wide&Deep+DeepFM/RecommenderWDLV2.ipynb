{
 "cells": [
  {
   "cell_type": "code",
   "execution_count": 18,
   "metadata": {},
   "outputs": [],
   "source": [
    "import numpy as np\n",
    "import pandas as pd\n",
    "from sklearn.preprocessing import LabelEncoder\n",
    "from tensorflow.python.keras.preprocessing.sequence import pad_sequences\n",
    "import tensorflow as tf\n",
    "from sklearn.metrics import accuracy_score,classification_report,mean_squared_error\n",
    "import math\n",
    "from deepctr.models import WDL\n",
    "from deepctr.feature_column import SparseFeat, VarLenSparseFeat\n",
    "from tensorflow import keras\n"
   ]
  },
  {
   "cell_type": "code",
   "execution_count": 19,
   "metadata": {},
   "outputs": [],
   "source": [
    "def RecommenderWDL(train, test, sparse_features, \n",
    "                   sequence_features, PK_features, target, batch_size, epochs, \n",
    "                   sep=\" \",embedding_dim=32,dnn_dropout=0.2,dnn_hidden_units=(256,128), \n",
    "                   optimizer='SGD', learning_rate=0.01):\n",
    "    print('optimizer:{0} | embedding_dim:{1} | lr:{2} | dropout:{3} | hidden_units:{4} | epochs:{5} | batch_size:{6}'.format(optimizer,embedding_dim,\n",
    "                                                                            learning_rate,dnn_dropout,dnn_hidden_units,\n",
    "                                                                            epochs, batch_size))\n",
    "    traindata = train.copy()\n",
    "    testdata = test.copy()\n",
    "    \n",
    "    def split(x):\n",
    "        key_ans = x.split(sep)\n",
    "        key_ans = [k.strip() for k in key_ans]\n",
    "        for key in key_ans:\n",
    "            if key not in key2index:\n",
    "                # Notice : input value 0 is a special \"padding\",so we do not use 0 to encode valid feature for sequence input\n",
    "                key2index[key] = len(key2index) + 1\n",
    "        return list(map(lambda x: key2index[x], key_ans))  \n",
    "    \n",
    "    traindata[target[0]] = pd.to_numeric(traindata[target[0]], downcast='signed')\n",
    "    \n",
    "    testdata[target[0]] = pd.to_numeric(testdata[target[0]], downcast='signed')\n",
    "    \n",
    "    data = pd.concat([traindata,testdata], ignore_index = True)\n",
    "    \n",
    "    # 1.Label Encoding for sparse features,and process sequence features\n",
    "    for feat in sparse_features:\n",
    "        lbe = LabelEncoder()\n",
    "        #data[feat] = lbe.fit_transform(data[feat])  \n",
    "        data[feat + \"_Encoding\"] = lbe.fit_transform(data[feat])\n",
    "    \n",
    "    fixlen_feature_columns = [SparseFeat(feat + \"_Encoding\", data[feat + \"_Encoding\"].nunique(),embedding_dim=embedding_dim)\n",
    "                            for feat in sparse_features]\n",
    "    \n",
    "    \n",
    "    linear_feature_columns = fixlen_feature_columns\n",
    "    dnn_feature_columns = fixlen_feature_columns  \n",
    "    \n",
    "    for feat in sequence_features:    \n",
    "        key2index = {}\n",
    "        templist = list(map(split, data[feat].values))\n",
    "        length = np.array(list(map(len, templist)))\n",
    "        max_len = max(length)\n",
    "        # Notice : padding=`post`\n",
    "        templist = pad_sequences(templist, maxlen = max_len, padding = 'post', )\n",
    "        \n",
    "        use_weighted_sequence = False\n",
    "        if use_weighted_sequence:\n",
    "            varlen_feature_columns = [VarLenSparseFeat(SparseFeat(feat + \"_Encoding\",vocabulary_size=len(key2index) + 1,\n",
    "                                        embedding_dim = embedding_dim), maxlen = max_len, combiner='mean',weight_name = feat + \"_Encoding\" + \"_weight\")]  # Notice : value 0 is for padding for sequence input feature\n",
    "        else:\n",
    "            varlen_feature_columns = [VarLenSparseFeat(SparseFeat(feat + \"_Encoding\",vocabulary_size= len(key2index) + 1,\n",
    "                                        embedding_dim = embedding_dim), maxlen = max_len, combiner='mean',weight_name = None)]  # Notice : value 0 is for padding for sequence input feature\n",
    "    \n",
    "        dnn_feature_columns += varlen_feature_columns\n",
    "        linear_feature_columns += varlen_feature_columns    \n",
    "        data[feat + \"_Encoding\"] = list(templist)  \n",
    "\n",
    "    # 2. generate input data for model\n",
    "    encodedfeat = [feat +'_Encoding' for feat in sparse_features + sequence_features]\n",
    "    encodedfeat = PK_features + target + encodedfeat\n",
    "\n",
    "    traindata.drop(columns=target,inplace =True)\n",
    "    trainEncoded = data.merge(traindata,on = PK_features).loc[:,encodedfeat]\n",
    "\n",
    "    testdata.drop(columns=target,inplace =True)\n",
    "    testEncoded = data.merge(testdata,on = PK_features).loc[:,encodedfeat]\n",
    "\n",
    "    model_input = {feat + \"_Encoding\":trainEncoded[feat + \"_Encoding\"] for feat in sparse_features} \n",
    "    for feat in sequence_features:\n",
    "        model_input[feat + \"_Encoding\"] = np.array([d.T for d in trainEncoded[feat + \"_Encoding\"].values])\n",
    "\n",
    "    test_model_input = {feat + \"_Encoding\":testEncoded[feat + \"_Encoding\"] for feat in sparse_features} \n",
    "    for feat in sequence_features:\n",
    "        test_model_input[feat + \"_Encoding\"] = np.array([d.T for d in testEncoded[feat + \"_Encoding\"].values])\n",
    "\n",
    "    # 3.Define Model,train,predict and evaluate\n",
    "    WDLModel = WDL(linear_feature_columns,dnn_feature_columns,dnn_hidden_units=dnn_hidden_units, l2_reg_linear=1e-5,\n",
    "        l2_reg_embedding=1e-5, l2_reg_dnn=0, seed=1024, dnn_dropout=dnn_dropout, dnn_activation='relu',task='regression')\n",
    "    \n",
    "    opt = ''\n",
    "    \n",
    "    if optimizer == 'Adam':        \n",
    "        opt = tf.keras.optimizers.Adam(learning_rate=learning_rate)\n",
    "    else:\n",
    "        opt = tf.keras.optimizers.SGD(learning_rate=learning_rate)\n",
    "        \n",
    "    WDLModel.compile(opt, loss = \"mse\")\n",
    "    \n",
    "    historyModel = WDLModel.fit(model_input, data[target].values, batch_size=batch_size, epochs=epochs, verbose=2, \n",
    "                                validation_split=0.1,)\n",
    "\n",
    "    # 4. make class predictions with the model and evaluation\n",
    "    predictions = WDLModel.predict(test_model_input)    \n",
    "    \n",
    "    maxrating = testEncoded[target].max()[0]\n",
    "    minrating = testEncoded[target].min()[0]   \n",
    "    \n",
    "    predictions_rounded = []\n",
    "    for x in predictions:\n",
    "        if x > maxrating:\n",
    "            predictions_rounded.append(maxrating)\n",
    "        elif x < minrating:\n",
    "            predictions_rounded.append(minrating)\n",
    "        else:\n",
    "            predictions_rounded.append(round(x[0]))   \n",
    "    \n",
    "    MSE = mean_squared_error(testEncoded[target].values, predictions_rounded)\n",
    "    print(\"MSE:\",MSE)   \n",
    "    \n",
    "    return (WDLModel, MSE)"
   ]
  },
  {
   "cell_type": "code",
   "execution_count": 20,
   "metadata": {},
   "outputs": [],
   "source": [
    "traindata = pd.read_csv(\"./Movies_train.csv\") "
   ]
  },
  {
   "cell_type": "code",
   "execution_count": 21,
   "metadata": {},
   "outputs": [],
   "source": [
    "testdata = pd.read_csv(\"./Movies_test.csv\") "
   ]
  },
  {
   "cell_type": "code",
   "execution_count": 22,
   "metadata": {},
   "outputs": [],
   "source": [
    "sparse_features = ['NAME', 'USER_MD5', 'MOVIE_ID', \n",
    "                   'DOUBAN_SCORE', 'DOUBAN_VOTES']\n",
    "\n",
    "sequence_features = ['ACTORS', 'DIRECTORS', 'GENRES', 'REGIONS', \n",
    "                     'TAGS', 'LANGUAGES', 'MovieNameWord']\n",
    "\n",
    "PK_features = ['USER_MD5', 'MOVIE_ID']\n",
    "\n",
    "target = ['RATING']\n",
    "\n",
    "epochs = 5\n",
    "\n",
    "batch_size = 32"
   ]
  },
  {
   "cell_type": "code",
   "execution_count": 23,
   "metadata": {},
   "outputs": [
    {
     "name": "stdout",
     "output_type": "stream",
     "text": [
      "optimizer:SGD | embedding_dim:32 | lr:0.01 | dropout:0.2 | hidden_units:(256, 128) | epochs:5 | batch_size:32\n",
      "Epoch 1/5\n"
     ]
    },
    {
     "name": "stderr",
     "output_type": "stream",
     "text": [
      "C:\\Users\\Montr\\anaconda3\\lib\\site-packages\\tensorflow\\python\\framework\\indexed_slices.py:433: UserWarning: Converting sparse IndexedSlices to a dense Tensor of unknown shape. This may consume a large amount of memory.\n",
      "  \"Converting sparse IndexedSlices to a dense Tensor of unknown shape. \"\n"
     ]
    },
    {
     "name": "stdout",
     "output_type": "stream",
     "text": [
      "4960/4960 - 191s - loss: 0.9506 - val_loss: 0.8501\n",
      "Epoch 2/5\n",
      "4960/4960 - 253s - loss: 0.8362 - val_loss: 0.8389\n",
      "Epoch 3/5\n",
      "4960/4960 - 276s - loss: 0.8015 - val_loss: 0.8174\n",
      "Epoch 4/5\n",
      "4960/4960 - 292s - loss: 0.7393 - val_loss: 0.8093\n",
      "Epoch 5/5\n",
      "4960/4960 - 290s - loss: 0.6232 - val_loss: 0.8842\n",
      "MSE: 0.96427196\n"
     ]
    }
   ],
   "source": [
    "model = RecommenderWDL(traindata,testdata, sparse_features, sequence_features,PK_features, target, batch_size, epochs, sep=\"|\")"
   ]
  },
  {
   "cell_type": "code",
   "execution_count": 20,
   "metadata": {},
   "outputs": [],
   "source": [
    "# Save the model in order that we can use it as much as we want without training it everytime\n",
    "#model.save(\"WDLMoviesRatingV2\")"
   ]
  },
  {
   "cell_type": "code",
   "execution_count": 21,
   "metadata": {},
   "outputs": [],
   "source": [
    "# Amazon Electronics"
   ]
  },
  {
   "cell_type": "code",
   "execution_count": 4,
   "metadata": {},
   "outputs": [],
   "source": [
    "electronicstraindata = pd.read_csv(\"./df_electronics_train.csv\") "
   ]
  },
  {
   "cell_type": "code",
   "execution_count": 293,
   "metadata": {},
   "outputs": [
    {
     "data": {
      "text/plain": [
       "Index(['item_id', 'user_id', 'rating', 'timestamp', 'model_attr', 'category',\n",
       "       'brand', 'user_attr'],\n",
       "      dtype='object')"
      ]
     },
     "execution_count": 293,
     "metadata": {},
     "output_type": "execute_result"
    }
   ],
   "source": [
    "electronicstraindata.columns"
   ]
  },
  {
   "cell_type": "code",
   "execution_count": 5,
   "metadata": {},
   "outputs": [],
   "source": [
    "electronicstestdata = pd.read_csv(\"./df_electronics_test.csv\") "
   ]
  },
  {
   "cell_type": "code",
   "execution_count": 8,
   "metadata": {},
   "outputs": [],
   "source": [
    "sparse_features = ['item_id','timestamp', 'user_id','brand', 'user_attr']\n",
    "\n",
    "sequence_features = ['model_attr', 'category']\n",
    "\n",
    "PK_features = ['item_id', 'user_id']\n",
    "\n",
    "target = ['rating']\n",
    "\n",
    "sep=\"&\"\n",
    "\n",
    "epochs = 5\n",
    "\n",
    "batch_size = 32"
   ]
  },
  {
   "cell_type": "code",
   "execution_count": 16,
   "metadata": {},
   "outputs": [],
   "source": [
    "tuningConfig = {\"batch_size\":[32,64],\n",
    "               \"epochs\":[3,5],\n",
    "               \"embedding_dim\":[32,128],\n",
    "               \"dnn_dropout\":[0.2,0.5],\n",
    "               \"dnn_hidden_units\":[(128,128),(256,128)],\n",
    "               \"optimizer\":[\"Adam\",\"SGD\"],\n",
    "               \"learning_rate\":[0.0001,0.01]}\n",
    "\n"
   ]
  },
  {
   "cell_type": "code",
   "execution_count": 17,
   "metadata": {},
   "outputs": [
    {
     "name": "stdout",
     "output_type": "stream",
     "text": [
      "optimizer:Adam | embedding_dim:32 | lr:0.0001 | dropout:0.2 | hidden_units:(128, 128) | epochs:3 | batch_size:32\n",
      "Epoch 1/3\n"
     ]
    },
    {
     "name": "stderr",
     "output_type": "stream",
     "text": [
      "C:\\Users\\Montr\\anaconda3\\lib\\site-packages\\tensorflow\\python\\framework\\indexed_slices.py:433: UserWarning: Converting sparse IndexedSlices to a dense Tensor of unknown shape. This may consume a large amount of memory.\n",
      "  \"Converting sparse IndexedSlices to a dense Tensor of unknown shape. \"\n"
     ]
    },
    {
     "name": "stdout",
     "output_type": "stream",
     "text": [
      "1017/1017 - 9s - loss: 3.5352 - val_loss: 1.4116\n",
      "Epoch 2/3\n",
      "1017/1017 - 9s - loss: 1.2340 - val_loss: 1.4583\n",
      "Epoch 3/3\n",
      "1017/1017 - 9s - loss: 0.6183 - val_loss: 1.5756\n",
      "MSE: 1.6281824\n",
      "optimizer:Adam | embedding_dim:32 | lr:0.0001 | dropout:0.2 | hidden_units:(128, 128) | epochs:3 | batch_size:64\n",
      "Epoch 1/3\n"
     ]
    },
    {
     "name": "stderr",
     "output_type": "stream",
     "text": [
      "C:\\Users\\Montr\\anaconda3\\lib\\site-packages\\tensorflow\\python\\framework\\indexed_slices.py:433: UserWarning: Converting sparse IndexedSlices to a dense Tensor of unknown shape. This may consume a large amount of memory.\n",
      "  \"Converting sparse IndexedSlices to a dense Tensor of unknown shape. \"\n"
     ]
    },
    {
     "name": "stdout",
     "output_type": "stream",
     "text": [
      "509/509 - 5s - loss: 5.6619 - val_loss: 1.4345\n",
      "Epoch 2/3\n",
      "509/509 - 5s - loss: 1.4559 - val_loss: 1.4586\n",
      "Epoch 3/3\n",
      "509/509 - 5s - loss: 0.8762 - val_loss: 1.5046\n",
      "MSE: 1.5656409\n",
      "optimizer:Adam | embedding_dim:32 | lr:0.0001 | dropout:0.2 | hidden_units:(128, 128) | epochs:5 | batch_size:32\n",
      "Epoch 1/5\n"
     ]
    },
    {
     "name": "stderr",
     "output_type": "stream",
     "text": [
      "C:\\Users\\Montr\\anaconda3\\lib\\site-packages\\tensorflow\\python\\framework\\indexed_slices.py:433: UserWarning: Converting sparse IndexedSlices to a dense Tensor of unknown shape. This may consume a large amount of memory.\n",
      "  \"Converting sparse IndexedSlices to a dense Tensor of unknown shape. \"\n"
     ]
    },
    {
     "name": "stdout",
     "output_type": "stream",
     "text": [
      "1017/1017 - 9s - loss: 3.5587 - val_loss: 1.4210\n",
      "Epoch 2/5\n",
      "1017/1017 - 9s - loss: 1.2365 - val_loss: 1.4595\n",
      "Epoch 3/5\n",
      "1017/1017 - 9s - loss: 0.6154 - val_loss: 1.5925\n",
      "Epoch 4/5\n",
      "1017/1017 - 9s - loss: 0.4022 - val_loss: 1.5384\n",
      "Epoch 5/5\n",
      "1017/1017 - 9s - loss: 0.3049 - val_loss: 1.5472\n",
      "MSE: 1.6281824\n",
      "optimizer:Adam | embedding_dim:32 | lr:0.0001 | dropout:0.2 | hidden_units:(128, 128) | epochs:5 | batch_size:64\n",
      "Epoch 1/5\n"
     ]
    },
    {
     "name": "stderr",
     "output_type": "stream",
     "text": [
      "C:\\Users\\Montr\\anaconda3\\lib\\site-packages\\tensorflow\\python\\framework\\indexed_slices.py:433: UserWarning: Converting sparse IndexedSlices to a dense Tensor of unknown shape. This may consume a large amount of memory.\n",
      "  \"Converting sparse IndexedSlices to a dense Tensor of unknown shape. \"\n"
     ]
    },
    {
     "name": "stdout",
     "output_type": "stream",
     "text": [
      "509/509 - 5s - loss: 5.6190 - val_loss: 1.4329\n",
      "Epoch 2/5\n",
      "509/509 - 5s - loss: 1.4228 - val_loss: 1.4132\n",
      "Epoch 3/5\n",
      "509/509 - 5s - loss: 0.8288 - val_loss: 1.5280\n",
      "Epoch 4/5\n",
      "509/509 - 5s - loss: 0.4637 - val_loss: 1.5625\n",
      "Epoch 5/5\n",
      "509/509 - 5s - loss: 0.3478 - val_loss: 1.5656\n",
      "MSE: 1.6332743\n",
      "optimizer:Adam | embedding_dim:128 | lr:0.0001 | dropout:0.2 | hidden_units:(128, 128) | epochs:3 | batch_size:32\n",
      "Epoch 1/3\n"
     ]
    },
    {
     "name": "stderr",
     "output_type": "stream",
     "text": [
      "C:\\Users\\Montr\\anaconda3\\lib\\site-packages\\tensorflow\\python\\framework\\indexed_slices.py:433: UserWarning: Converting sparse IndexedSlices to a dense Tensor of unknown shape. This may consume a large amount of memory.\n",
      "  \"Converting sparse IndexedSlices to a dense Tensor of unknown shape. \"\n"
     ]
    },
    {
     "name": "stdout",
     "output_type": "stream",
     "text": [
      "1017/1017 - 35s - loss: 3.0244 - val_loss: 1.4094\n",
      "Epoch 2/3\n",
      "1017/1017 - 39s - loss: 1.0867 - val_loss: 1.5682\n",
      "Epoch 3/3\n",
      "1017/1017 - 39s - loss: 0.6130 - val_loss: 1.4913\n",
      "MSE: 1.5664158\n",
      "optimizer:Adam | embedding_dim:128 | lr:0.0001 | dropout:0.2 | hidden_units:(128, 128) | epochs:3 | batch_size:64\n",
      "Epoch 1/3\n"
     ]
    },
    {
     "name": "stderr",
     "output_type": "stream",
     "text": [
      "C:\\Users\\Montr\\anaconda3\\lib\\site-packages\\tensorflow\\python\\framework\\indexed_slices.py:433: UserWarning: Converting sparse IndexedSlices to a dense Tensor of unknown shape. This may consume a large amount of memory.\n",
      "  \"Converting sparse IndexedSlices to a dense Tensor of unknown shape. \"\n"
     ]
    },
    {
     "name": "stdout",
     "output_type": "stream",
     "text": [
      "509/509 - 21s - loss: 4.4111 - val_loss: 1.4202\n",
      "Epoch 2/3\n",
      "509/509 - 21s - loss: 1.2716 - val_loss: 1.4558\n",
      "Epoch 3/3\n",
      "509/509 - 22s - loss: 0.6728 - val_loss: 1.5855\n",
      "MSE: 1.6075935\n",
      "optimizer:Adam | embedding_dim:128 | lr:0.0001 | dropout:0.2 | hidden_units:(128, 128) | epochs:5 | batch_size:32\n",
      "Epoch 1/5\n"
     ]
    },
    {
     "name": "stderr",
     "output_type": "stream",
     "text": [
      "C:\\Users\\Montr\\anaconda3\\lib\\site-packages\\tensorflow\\python\\framework\\indexed_slices.py:433: UserWarning: Converting sparse IndexedSlices to a dense Tensor of unknown shape. This may consume a large amount of memory.\n",
      "  \"Converting sparse IndexedSlices to a dense Tensor of unknown shape. \"\n"
     ]
    },
    {
     "name": "stdout",
     "output_type": "stream",
     "text": [
      "1017/1017 - 43s - loss: 3.0078 - val_loss: 1.4003\n",
      "Epoch 2/5\n",
      "1017/1017 - 44s - loss: 1.0922 - val_loss: 1.6046\n",
      "Epoch 3/5\n",
      "1017/1017 - 45s - loss: 0.6235 - val_loss: 1.5161\n",
      "Epoch 4/5\n",
      "1017/1017 - 47s - loss: 0.4077 - val_loss: 1.5341\n",
      "Epoch 5/5\n",
      "1017/1017 - 48s - loss: 0.3232 - val_loss: 1.5625\n",
      "MSE: 1.6549702\n",
      "optimizer:Adam | embedding_dim:128 | lr:0.0001 | dropout:0.2 | hidden_units:(128, 128) | epochs:5 | batch_size:64\n",
      "Epoch 1/5\n"
     ]
    },
    {
     "name": "stderr",
     "output_type": "stream",
     "text": [
      "C:\\Users\\Montr\\anaconda3\\lib\\site-packages\\tensorflow\\python\\framework\\indexed_slices.py:433: UserWarning: Converting sparse IndexedSlices to a dense Tensor of unknown shape. This may consume a large amount of memory.\n",
      "  \"Converting sparse IndexedSlices to a dense Tensor of unknown shape. \"\n"
     ]
    },
    {
     "name": "stdout",
     "output_type": "stream",
     "text": [
      "509/509 - 25s - loss: 4.3118 - val_loss: 1.4231\n",
      "Epoch 2/5\n",
      "509/509 - 24s - loss: 1.2747 - val_loss: 1.4650\n",
      "Epoch 3/5\n",
      "509/509 - 24s - loss: 0.6621 - val_loss: 1.5642\n",
      "Epoch 4/5\n",
      "509/509 - 24s - loss: 0.4535 - val_loss: 1.5883\n",
      "Epoch 5/5\n",
      "509/509 - 24s - loss: 0.3408 - val_loss: 1.5810\n",
      "MSE: 1.6520921\n",
      "optimizer:Adam | embedding_dim:32 | lr:0.0001 | dropout:0.5 | hidden_units:(128, 128) | epochs:3 | batch_size:32\n",
      "Epoch 1/3\n"
     ]
    },
    {
     "name": "stderr",
     "output_type": "stream",
     "text": [
      "C:\\Users\\Montr\\anaconda3\\lib\\site-packages\\tensorflow\\python\\framework\\indexed_slices.py:433: UserWarning: Converting sparse IndexedSlices to a dense Tensor of unknown shape. This may consume a large amount of memory.\n",
      "  \"Converting sparse IndexedSlices to a dense Tensor of unknown shape. \"\n"
     ]
    },
    {
     "name": "stdout",
     "output_type": "stream",
     "text": [
      "1017/1017 - 13s - loss: 4.0828 - val_loss: 1.4351\n",
      "Epoch 2/3\n",
      "1017/1017 - 13s - loss: 1.7423 - val_loss: 1.4252\n",
      "Epoch 3/3\n",
      "1017/1017 - 13s - loss: 1.1317 - val_loss: 1.5744\n",
      "MSE: 1.6274076\n",
      "optimizer:Adam | embedding_dim:32 | lr:0.0001 | dropout:0.5 | hidden_units:(128, 128) | epochs:3 | batch_size:64\n",
      "Epoch 1/3\n"
     ]
    },
    {
     "name": "stderr",
     "output_type": "stream",
     "text": [
      "C:\\Users\\Montr\\anaconda3\\lib\\site-packages\\tensorflow\\python\\framework\\indexed_slices.py:433: UserWarning: Converting sparse IndexedSlices to a dense Tensor of unknown shape. This may consume a large amount of memory.\n",
      "  \"Converting sparse IndexedSlices to a dense Tensor of unknown shape. \"\n"
     ]
    },
    {
     "name": "stdout",
     "output_type": "stream",
     "text": [
      "509/509 - 7s - loss: 6.2491 - val_loss: 1.4812\n",
      "Epoch 2/3\n",
      "509/509 - 7s - loss: 1.9607 - val_loss: 1.4440\n",
      "Epoch 3/3\n",
      "509/509 - 7s - loss: 1.5255 - val_loss: 1.4905\n",
      "MSE: 1.5629842\n",
      "optimizer:Adam | embedding_dim:32 | lr:0.0001 | dropout:0.5 | hidden_units:(128, 128) | epochs:5 | batch_size:32\n",
      "Epoch 1/5\n"
     ]
    },
    {
     "name": "stderr",
     "output_type": "stream",
     "text": [
      "C:\\Users\\Montr\\anaconda3\\lib\\site-packages\\tensorflow\\python\\framework\\indexed_slices.py:433: UserWarning: Converting sparse IndexedSlices to a dense Tensor of unknown shape. This may consume a large amount of memory.\n",
      "  \"Converting sparse IndexedSlices to a dense Tensor of unknown shape. \"\n"
     ]
    },
    {
     "name": "stdout",
     "output_type": "stream",
     "text": [
      "1017/1017 - 13s - loss: 4.1220 - val_loss: 1.4224\n",
      "Epoch 2/5\n",
      "1017/1017 - 13s - loss: 1.7669 - val_loss: 1.4645\n",
      "Epoch 3/5\n",
      "1017/1017 - 13s - loss: 1.1841 - val_loss: 1.5698\n",
      "Epoch 4/5\n",
      "1017/1017 - 13s - loss: 0.8359 - val_loss: 1.5920\n",
      "Epoch 5/5\n",
      "1017/1017 - 13s - loss: 0.6294 - val_loss: 1.5799\n",
      "MSE: 1.6308391\n",
      "optimizer:Adam | embedding_dim:32 | lr:0.0001 | dropout:0.5 | hidden_units:(128, 128) | epochs:5 | batch_size:64\n",
      "Epoch 1/5\n"
     ]
    },
    {
     "name": "stderr",
     "output_type": "stream",
     "text": [
      "C:\\Users\\Montr\\anaconda3\\lib\\site-packages\\tensorflow\\python\\framework\\indexed_slices.py:433: UserWarning: Converting sparse IndexedSlices to a dense Tensor of unknown shape. This may consume a large amount of memory.\n",
      "  \"Converting sparse IndexedSlices to a dense Tensor of unknown shape. \"\n"
     ]
    },
    {
     "name": "stdout",
     "output_type": "stream",
     "text": [
      "509/509 - 7s - loss: 5.9176 - val_loss: 1.4513\n",
      "Epoch 2/5\n",
      "509/509 - 7s - loss: 1.8641 - val_loss: 1.4414\n",
      "Epoch 3/5\n",
      "509/509 - 7s - loss: 1.4108 - val_loss: 1.4966\n",
      "Epoch 4/5\n",
      "509/509 - 7s - loss: 0.9632 - val_loss: 1.6218\n",
      "Epoch 5/5\n",
      "509/509 - 7s - loss: 0.7740 - val_loss: 1.5929\n",
      "MSE: 1.6450077\n",
      "optimizer:Adam | embedding_dim:128 | lr:0.0001 | dropout:0.5 | hidden_units:(128, 128) | epochs:3 | batch_size:32\n",
      "Epoch 1/3\n"
     ]
    },
    {
     "name": "stderr",
     "output_type": "stream",
     "text": [
      "C:\\Users\\Montr\\anaconda3\\lib\\site-packages\\tensorflow\\python\\framework\\indexed_slices.py:433: UserWarning: Converting sparse IndexedSlices to a dense Tensor of unknown shape. This may consume a large amount of memory.\n",
      "  \"Converting sparse IndexedSlices to a dense Tensor of unknown shape. \"\n"
     ]
    },
    {
     "name": "stdout",
     "output_type": "stream",
     "text": [
      "1017/1017 - 49s - loss: 3.4922 - val_loss: 1.4100\n",
      "Epoch 2/3\n",
      "1017/1017 - 62s - loss: 1.6441 - val_loss: 1.4686\n",
      "Epoch 3/3\n",
      "1017/1017 - 54s - loss: 1.0887 - val_loss: 1.5228\n",
      "MSE: 1.5867833\n",
      "optimizer:Adam | embedding_dim:128 | lr:0.0001 | dropout:0.5 | hidden_units:(128, 128) | epochs:3 | batch_size:64\n",
      "Epoch 1/3\n"
     ]
    },
    {
     "name": "stderr",
     "output_type": "stream",
     "text": [
      "C:\\Users\\Montr\\anaconda3\\lib\\site-packages\\tensorflow\\python\\framework\\indexed_slices.py:433: UserWarning: Converting sparse IndexedSlices to a dense Tensor of unknown shape. This may consume a large amount of memory.\n",
      "  \"Converting sparse IndexedSlices to a dense Tensor of unknown shape. \"\n"
     ]
    },
    {
     "name": "stdout",
     "output_type": "stream",
     "text": [
      "509/509 - 27s - loss: 4.8475 - val_loss: 1.4808\n",
      "Epoch 2/3\n",
      "509/509 - 27s - loss: 1.8278 - val_loss: 1.4350\n",
      "Epoch 3/3\n",
      "509/509 - 27s - loss: 1.2675 - val_loss: 1.5972\n",
      "MSE: 1.6172239\n",
      "optimizer:Adam | embedding_dim:128 | lr:0.0001 | dropout:0.5 | hidden_units:(128, 128) | epochs:5 | batch_size:32\n",
      "Epoch 1/5\n"
     ]
    },
    {
     "name": "stderr",
     "output_type": "stream",
     "text": [
      "C:\\Users\\Montr\\anaconda3\\lib\\site-packages\\tensorflow\\python\\framework\\indexed_slices.py:433: UserWarning: Converting sparse IndexedSlices to a dense Tensor of unknown shape. This may consume a large amount of memory.\n",
      "  \"Converting sparse IndexedSlices to a dense Tensor of unknown shape. \"\n"
     ]
    },
    {
     "name": "stdout",
     "output_type": "stream",
     "text": [
      "1017/1017 - 52s - loss: 3.5264 - val_loss: 1.4093\n",
      "Epoch 2/5\n",
      "1017/1017 - 52s - loss: 1.6794 - val_loss: 1.4758\n",
      "Epoch 3/5\n",
      "1017/1017 - 57s - loss: 1.1029 - val_loss: 1.5212\n",
      "Epoch 4/5\n",
      "1017/1017 - 51s - loss: 0.7935 - val_loss: 1.6040\n",
      "Epoch 5/5\n",
      "1017/1017 - 51s - loss: 0.6209 - val_loss: 1.5746\n",
      "MSE: 1.6217623\n",
      "optimizer:Adam | embedding_dim:128 | lr:0.0001 | dropout:0.5 | hidden_units:(128, 128) | epochs:5 | batch_size:64\n",
      "Epoch 1/5\n"
     ]
    },
    {
     "name": "stderr",
     "output_type": "stream",
     "text": [
      "C:\\Users\\Montr\\anaconda3\\lib\\site-packages\\tensorflow\\python\\framework\\indexed_slices.py:433: UserWarning: Converting sparse IndexedSlices to a dense Tensor of unknown shape. This may consume a large amount of memory.\n",
      "  \"Converting sparse IndexedSlices to a dense Tensor of unknown shape. \"\n"
     ]
    },
    {
     "name": "stdout",
     "output_type": "stream",
     "text": [
      "509/509 - 27s - loss: 5.0833 - val_loss: 1.4524\n",
      "Epoch 2/5\n",
      "509/509 - 26s - loss: 1.8787 - val_loss: 1.5194\n",
      "Epoch 3/5\n",
      "509/509 - 26s - loss: 1.2998 - val_loss: 1.5876\n",
      "Epoch 4/5\n",
      "509/509 - 26s - loss: 0.9930 - val_loss: 1.7107\n",
      "Epoch 5/5\n",
      "509/509 - 26s - loss: 0.8379 - val_loss: 1.6574\n",
      "MSE: 1.6696923\n",
      "optimizer:Adam | embedding_dim:32 | lr:0.0001 | dropout:0.2 | hidden_units:(256, 128) | epochs:3 | batch_size:32\n",
      "Epoch 1/3\n"
     ]
    },
    {
     "name": "stderr",
     "output_type": "stream",
     "text": [
      "C:\\Users\\Montr\\anaconda3\\lib\\site-packages\\tensorflow\\python\\framework\\indexed_slices.py:433: UserWarning: Converting sparse IndexedSlices to a dense Tensor of unknown shape. This may consume a large amount of memory.\n",
      "  \"Converting sparse IndexedSlices to a dense Tensor of unknown shape. \"\n"
     ]
    },
    {
     "name": "stdout",
     "output_type": "stream",
     "text": [
      "1017/1017 - 15s - loss: 3.2693 - val_loss: 1.4042\n",
      "Epoch 2/3\n",
      "1017/1017 - 15s - loss: 1.1203 - val_loss: 1.5154\n",
      "Epoch 3/3\n",
      "1017/1017 - 14s - loss: 0.5645 - val_loss: 1.5120\n",
      "MSE: 1.588665\n",
      "optimizer:Adam | embedding_dim:32 | lr:0.0001 | dropout:0.2 | hidden_units:(256, 128) | epochs:3 | batch_size:64\n",
      "Epoch 1/3\n"
     ]
    },
    {
     "name": "stderr",
     "output_type": "stream",
     "text": [
      "C:\\Users\\Montr\\anaconda3\\lib\\site-packages\\tensorflow\\python\\framework\\indexed_slices.py:433: UserWarning: Converting sparse IndexedSlices to a dense Tensor of unknown shape. This may consume a large amount of memory.\n",
      "  \"Converting sparse IndexedSlices to a dense Tensor of unknown shape. \"\n"
     ]
    },
    {
     "name": "stdout",
     "output_type": "stream",
     "text": [
      "509/509 - 9s - loss: 4.7879 - val_loss: 1.4276\n",
      "Epoch 2/3\n",
      "509/509 - 9s - loss: 1.3177 - val_loss: 1.4280\n",
      "Epoch 3/3\n",
      "509/509 - 8s - loss: 0.6656 - val_loss: 1.5593\n",
      "MSE: 1.6050476\n",
      "optimizer:Adam | embedding_dim:32 | lr:0.0001 | dropout:0.2 | hidden_units:(256, 128) | epochs:5 | batch_size:32\n",
      "Epoch 1/5\n"
     ]
    },
    {
     "name": "stderr",
     "output_type": "stream",
     "text": [
      "C:\\Users\\Montr\\anaconda3\\lib\\site-packages\\tensorflow\\python\\framework\\indexed_slices.py:433: UserWarning: Converting sparse IndexedSlices to a dense Tensor of unknown shape. This may consume a large amount of memory.\n",
      "  \"Converting sparse IndexedSlices to a dense Tensor of unknown shape. \"\n"
     ]
    },
    {
     "name": "stdout",
     "output_type": "stream",
     "text": [
      "1017/1017 - 14s - loss: 3.1606 - val_loss: 1.4030\n",
      "Epoch 2/5\n",
      "1017/1017 - 13s - loss: 1.1073 - val_loss: 1.5219\n",
      "Epoch 3/5\n",
      "1017/1017 - 14s - loss: 0.5515 - val_loss: 1.5105\n",
      "Epoch 4/5\n",
      "1017/1017 - 14s - loss: 0.3496 - val_loss: 1.5443\n",
      "Epoch 5/5\n",
      "1017/1017 - 14s - loss: 0.2714 - val_loss: 1.5455\n",
      "MSE: 1.6378127\n",
      "optimizer:Adam | embedding_dim:32 | lr:0.0001 | dropout:0.2 | hidden_units:(256, 128) | epochs:5 | batch_size:64\n",
      "Epoch 1/5\n"
     ]
    },
    {
     "name": "stderr",
     "output_type": "stream",
     "text": [
      "C:\\Users\\Montr\\anaconda3\\lib\\site-packages\\tensorflow\\python\\framework\\indexed_slices.py:433: UserWarning: Converting sparse IndexedSlices to a dense Tensor of unknown shape. This may consume a large amount of memory.\n",
      "  \"Converting sparse IndexedSlices to a dense Tensor of unknown shape. \"\n"
     ]
    },
    {
     "name": "stdout",
     "output_type": "stream",
     "text": [
      "509/509 - 8s - loss: 4.8222 - val_loss: 1.4242\n",
      "Epoch 2/5\n",
      "509/509 - 8s - loss: 1.3054 - val_loss: 1.4321\n",
      "Epoch 3/5\n",
      "509/509 - 8s - loss: 0.6641 - val_loss: 1.5816\n",
      "Epoch 4/5\n",
      "509/509 - 8s - loss: 0.4115 - val_loss: 1.6142\n",
      "Epoch 5/5\n",
      "509/509 - 8s - loss: 0.3017 - val_loss: 1.6062\n",
      "MSE: 1.6602833\n",
      "optimizer:Adam | embedding_dim:128 | lr:0.0001 | dropout:0.2 | hidden_units:(256, 128) | epochs:3 | batch_size:32\n",
      "Epoch 1/3\n"
     ]
    },
    {
     "name": "stderr",
     "output_type": "stream",
     "text": [
      "C:\\Users\\Montr\\anaconda3\\lib\\site-packages\\tensorflow\\python\\framework\\indexed_slices.py:433: UserWarning: Converting sparse IndexedSlices to a dense Tensor of unknown shape. This may consume a large amount of memory.\n",
      "  \"Converting sparse IndexedSlices to a dense Tensor of unknown shape. \"\n"
     ]
    },
    {
     "name": "stdout",
     "output_type": "stream",
     "text": [
      "1017/1017 - 51s - loss: 2.7534 - val_loss: 1.3981\n",
      "Epoch 2/3\n",
      "1017/1017 - 51s - loss: 0.9843 - val_loss: 1.6496\n",
      "Epoch 3/3\n",
      "1017/1017 - 53s - loss: 0.5558 - val_loss: 1.4991\n",
      "MSE: 1.5836838\n",
      "optimizer:Adam | embedding_dim:128 | lr:0.0001 | dropout:0.2 | hidden_units:(256, 128) | epochs:3 | batch_size:64\n",
      "Epoch 1/3\n"
     ]
    },
    {
     "name": "stderr",
     "output_type": "stream",
     "text": [
      "C:\\Users\\Montr\\anaconda3\\lib\\site-packages\\tensorflow\\python\\framework\\indexed_slices.py:433: UserWarning: Converting sparse IndexedSlices to a dense Tensor of unknown shape. This may consume a large amount of memory.\n",
      "  \"Converting sparse IndexedSlices to a dense Tensor of unknown shape. \"\n"
     ]
    },
    {
     "name": "stdout",
     "output_type": "stream",
     "text": [
      "509/509 - 29s - loss: 3.8292 - val_loss: 1.4031\n",
      "Epoch 2/3\n",
      "509/509 - 29s - loss: 1.1403 - val_loss: 1.4939\n",
      "Epoch 3/3\n",
      "509/509 - 29s - loss: 0.5961 - val_loss: 1.5513\n",
      "MSE: 1.5901041\n",
      "optimizer:Adam | embedding_dim:128 | lr:0.0001 | dropout:0.2 | hidden_units:(256, 128) | epochs:5 | batch_size:32\n",
      "Epoch 1/5\n"
     ]
    },
    {
     "name": "stderr",
     "output_type": "stream",
     "text": [
      "C:\\Users\\Montr\\anaconda3\\lib\\site-packages\\tensorflow\\python\\framework\\indexed_slices.py:433: UserWarning: Converting sparse IndexedSlices to a dense Tensor of unknown shape. This may consume a large amount of memory.\n",
      "  \"Converting sparse IndexedSlices to a dense Tensor of unknown shape. \"\n"
     ]
    },
    {
     "name": "stdout",
     "output_type": "stream",
     "text": [
      "1017/1017 - 54s - loss: 2.7747 - val_loss: 1.3933\n",
      "Epoch 2/5\n",
      "1017/1017 - 54s - loss: 0.9872 - val_loss: 1.5898\n",
      "Epoch 3/5\n",
      "1017/1017 - 53s - loss: 0.5469 - val_loss: 1.4713\n",
      "Epoch 4/5\n",
      "1017/1017 - 54s - loss: 0.3464 - val_loss: 1.5280\n",
      "Epoch 5/5\n",
      "1017/1017 - 54s - loss: 0.2899 - val_loss: 1.5162\n",
      "MSE: 1.6185521\n",
      "optimizer:Adam | embedding_dim:128 | lr:0.0001 | dropout:0.2 | hidden_units:(256, 128) | epochs:5 | batch_size:64\n",
      "Epoch 1/5\n"
     ]
    },
    {
     "name": "stderr",
     "output_type": "stream",
     "text": [
      "C:\\Users\\Montr\\anaconda3\\lib\\site-packages\\tensorflow\\python\\framework\\indexed_slices.py:433: UserWarning: Converting sparse IndexedSlices to a dense Tensor of unknown shape. This may consume a large amount of memory.\n",
      "  \"Converting sparse IndexedSlices to a dense Tensor of unknown shape. \"\n"
     ]
    },
    {
     "name": "stdout",
     "output_type": "stream",
     "text": [
      "509/509 - 29s - loss: 3.8440 - val_loss: 1.4140\n",
      "Epoch 2/5\n",
      "509/509 - 29s - loss: 1.1334 - val_loss: 1.5213\n",
      "Epoch 3/5\n",
      "509/509 - 29s - loss: 0.6020 - val_loss: 1.6299\n",
      "Epoch 4/5\n",
      "509/509 - 29s - loss: 0.4028 - val_loss: 1.5930\n",
      "Epoch 5/5\n",
      "509/509 - 29s - loss: 0.2955 - val_loss: 1.5800\n",
      "MSE: 1.6367058\n",
      "optimizer:Adam | embedding_dim:32 | lr:0.0001 | dropout:0.5 | hidden_units:(256, 128) | epochs:3 | batch_size:32\n",
      "Epoch 1/3\n"
     ]
    },
    {
     "name": "stderr",
     "output_type": "stream",
     "text": [
      "C:\\Users\\Montr\\anaconda3\\lib\\site-packages\\tensorflow\\python\\framework\\indexed_slices.py:433: UserWarning: Converting sparse IndexedSlices to a dense Tensor of unknown shape. This may consume a large amount of memory.\n",
      "  \"Converting sparse IndexedSlices to a dense Tensor of unknown shape. \"\n"
     ]
    },
    {
     "name": "stdout",
     "output_type": "stream",
     "text": [
      "1017/1017 - 15s - loss: 3.6898 - val_loss: 1.4171\n",
      "Epoch 2/3\n",
      "1017/1017 - 14s - loss: 1.5457 - val_loss: 1.4974\n",
      "Epoch 3/3\n",
      "1017/1017 - 14s - loss: 0.9761 - val_loss: 1.5526\n",
      "MSE: 1.5894399\n",
      "optimizer:Adam | embedding_dim:32 | lr:0.0001 | dropout:0.5 | hidden_units:(256, 128) | epochs:3 | batch_size:64\n",
      "Epoch 1/3\n"
     ]
    },
    {
     "name": "stderr",
     "output_type": "stream",
     "text": [
      "C:\\Users\\Montr\\anaconda3\\lib\\site-packages\\tensorflow\\python\\framework\\indexed_slices.py:433: UserWarning: Converting sparse IndexedSlices to a dense Tensor of unknown shape. This may consume a large amount of memory.\n",
      "  \"Converting sparse IndexedSlices to a dense Tensor of unknown shape. \"\n"
     ]
    },
    {
     "name": "stdout",
     "output_type": "stream",
     "text": [
      "509/509 - 9s - loss: 5.2056 - val_loss: 1.4314\n",
      "Epoch 2/3\n",
      "509/509 - 8s - loss: 1.7113 - val_loss: 1.4161\n",
      "Epoch 3/3\n",
      "509/509 - 9s - loss: 1.1635 - val_loss: 1.5208\n",
      "MSE: 1.5689617\n",
      "optimizer:Adam | embedding_dim:32 | lr:0.0001 | dropout:0.5 | hidden_units:(256, 128) | epochs:5 | batch_size:32\n",
      "Epoch 1/5\n"
     ]
    },
    {
     "name": "stderr",
     "output_type": "stream",
     "text": [
      "C:\\Users\\Montr\\anaconda3\\lib\\site-packages\\tensorflow\\python\\framework\\indexed_slices.py:433: UserWarning: Converting sparse IndexedSlices to a dense Tensor of unknown shape. This may consume a large amount of memory.\n",
      "  \"Converting sparse IndexedSlices to a dense Tensor of unknown shape. \"\n"
     ]
    },
    {
     "name": "stdout",
     "output_type": "stream",
     "text": [
      "1017/1017 - 15s - loss: 3.6148 - val_loss: 1.3996\n",
      "Epoch 2/5\n",
      "1017/1017 - 14s - loss: 1.5261 - val_loss: 1.4995\n",
      "Epoch 3/5\n",
      "1017/1017 - 14s - loss: 0.9550 - val_loss: 1.5343\n",
      "Epoch 4/5\n",
      "1017/1017 - 14s - loss: 0.6990 - val_loss: 1.5830\n",
      "Epoch 5/5\n",
      "1017/1017 - 14s - loss: 0.5620 - val_loss: 1.5450\n",
      "MSE: 1.616781\n",
      "optimizer:Adam | embedding_dim:32 | lr:0.0001 | dropout:0.5 | hidden_units:(256, 128) | epochs:5 | batch_size:64\n",
      "Epoch 1/5\n"
     ]
    },
    {
     "name": "stderr",
     "output_type": "stream",
     "text": [
      "C:\\Users\\Montr\\anaconda3\\lib\\site-packages\\tensorflow\\python\\framework\\indexed_slices.py:433: UserWarning: Converting sparse IndexedSlices to a dense Tensor of unknown shape. This may consume a large amount of memory.\n",
      "  \"Converting sparse IndexedSlices to a dense Tensor of unknown shape. \"\n"
     ]
    },
    {
     "name": "stdout",
     "output_type": "stream",
     "text": [
      "509/509 - 8s - loss: 5.0234 - val_loss: 1.4558\n",
      "Epoch 2/5\n",
      "509/509 - 8s - loss: 1.6941 - val_loss: 1.4505\n",
      "Epoch 3/5\n",
      "509/509 - 8s - loss: 1.1320 - val_loss: 1.5947\n",
      "Epoch 4/5\n",
      "509/509 - 8s - loss: 0.7934 - val_loss: 1.6276\n",
      "Epoch 5/5\n",
      "509/509 - 8s - loss: 0.6471 - val_loss: 1.6200\n",
      "MSE: 1.6794332\n",
      "optimizer:Adam | embedding_dim:128 | lr:0.0001 | dropout:0.5 | hidden_units:(256, 128) | epochs:3 | batch_size:32\n",
      "Epoch 1/3\n"
     ]
    },
    {
     "name": "stderr",
     "output_type": "stream",
     "text": [
      "C:\\Users\\Montr\\anaconda3\\lib\\site-packages\\tensorflow\\python\\framework\\indexed_slices.py:433: UserWarning: Converting sparse IndexedSlices to a dense Tensor of unknown shape. This may consume a large amount of memory.\n",
      "  \"Converting sparse IndexedSlices to a dense Tensor of unknown shape. \"\n"
     ]
    },
    {
     "name": "stdout",
     "output_type": "stream",
     "text": [
      "1017/1017 - 52s - loss: 3.1944 - val_loss: 1.4039\n",
      "Epoch 2/3\n",
      "1017/1017 - 52s - loss: 1.4600 - val_loss: 1.5158\n",
      "Epoch 3/3\n",
      "1017/1017 - 52s - loss: 0.9637 - val_loss: 1.5201\n",
      "MSE: 1.5763781\n",
      "optimizer:Adam | embedding_dim:128 | lr:0.0001 | dropout:0.5 | hidden_units:(256, 128) | epochs:3 | batch_size:64\n",
      "Epoch 1/3\n"
     ]
    },
    {
     "name": "stderr",
     "output_type": "stream",
     "text": [
      "C:\\Users\\Montr\\anaconda3\\lib\\site-packages\\tensorflow\\python\\framework\\indexed_slices.py:433: UserWarning: Converting sparse IndexedSlices to a dense Tensor of unknown shape. This may consume a large amount of memory.\n",
      "  \"Converting sparse IndexedSlices to a dense Tensor of unknown shape. \"\n"
     ]
    },
    {
     "name": "stdout",
     "output_type": "stream",
     "text": [
      "509/509 - 28s - loss: 4.2733 - val_loss: 1.4316\n",
      "Epoch 2/3\n",
      "509/509 - 28s - loss: 1.6137 - val_loss: 1.4919\n",
      "Epoch 3/3\n",
      "509/509 - 28s - loss: 1.0290 - val_loss: 1.5586\n",
      "MSE: 1.604937\n",
      "optimizer:Adam | embedding_dim:128 | lr:0.0001 | dropout:0.5 | hidden_units:(256, 128) | epochs:5 | batch_size:32\n",
      "Epoch 1/5\n"
     ]
    },
    {
     "name": "stderr",
     "output_type": "stream",
     "text": [
      "C:\\Users\\Montr\\anaconda3\\lib\\site-packages\\tensorflow\\python\\framework\\indexed_slices.py:433: UserWarning: Converting sparse IndexedSlices to a dense Tensor of unknown shape. This may consume a large amount of memory.\n",
      "  \"Converting sparse IndexedSlices to a dense Tensor of unknown shape. \"\n"
     ]
    },
    {
     "name": "stdout",
     "output_type": "stream",
     "text": [
      "1017/1017 - 52s - loss: 3.0798 - val_loss: 1.3981\n",
      "Epoch 2/5\n",
      "1017/1017 - 52s - loss: 1.4198 - val_loss: 1.5558\n",
      "Epoch 3/5\n",
      "1017/1017 - 52s - loss: 0.9648 - val_loss: 1.5360\n",
      "Epoch 4/5\n",
      "1017/1017 - 52s - loss: 0.6970 - val_loss: 1.5778\n",
      "Epoch 5/5\n",
      "1017/1017 - 55s - loss: 0.5625 - val_loss: 1.5536\n",
      "MSE: 1.6148993\n",
      "optimizer:Adam | embedding_dim:128 | lr:0.0001 | dropout:0.5 | hidden_units:(256, 128) | epochs:5 | batch_size:64\n",
      "Epoch 1/5\n"
     ]
    },
    {
     "name": "stderr",
     "output_type": "stream",
     "text": [
      "C:\\Users\\Montr\\anaconda3\\lib\\site-packages\\tensorflow\\python\\framework\\indexed_slices.py:433: UserWarning: Converting sparse IndexedSlices to a dense Tensor of unknown shape. This may consume a large amount of memory.\n",
      "  \"Converting sparse IndexedSlices to a dense Tensor of unknown shape. \"\n"
     ]
    },
    {
     "name": "stdout",
     "output_type": "stream",
     "text": [
      "509/509 - 30s - loss: 4.3788 - val_loss: 1.4408\n",
      "Epoch 2/5\n",
      "509/509 - 29s - loss: 1.6279 - val_loss: 1.4394\n",
      "Epoch 3/5\n",
      "509/509 - 29s - loss: 1.0525 - val_loss: 1.5302\n",
      "Epoch 4/5\n",
      "509/509 - 29s - loss: 0.8085 - val_loss: 1.5677\n",
      "Epoch 5/5\n",
      "509/509 - 29s - loss: 0.6718 - val_loss: 1.6328\n",
      "MSE: 1.6985831\n",
      "optimizer:Adam | embedding_dim:32 | lr:0.01 | dropout:0.2 | hidden_units:(128, 128) | epochs:3 | batch_size:32\n",
      "Epoch 1/3\n"
     ]
    },
    {
     "name": "stderr",
     "output_type": "stream",
     "text": [
      "C:\\Users\\Montr\\anaconda3\\lib\\site-packages\\tensorflow\\python\\framework\\indexed_slices.py:433: UserWarning: Converting sparse IndexedSlices to a dense Tensor of unknown shape. This may consume a large amount of memory.\n",
      "  \"Converting sparse IndexedSlices to a dense Tensor of unknown shape. \"\n"
     ]
    },
    {
     "name": "stdout",
     "output_type": "stream",
     "text": [
      "1017/1017 - 14s - loss: 1.6705 - val_loss: 1.5101\n",
      "Epoch 2/3\n",
      "1017/1017 - 14s - loss: 1.2059 - val_loss: 1.7335\n",
      "Epoch 3/3\n",
      "1017/1017 - 14s - loss: 0.9289 - val_loss: 1.8175\n",
      "MSE: 1.6286252\n",
      "optimizer:Adam | embedding_dim:32 | lr:0.01 | dropout:0.2 | hidden_units:(128, 128) | epochs:3 | batch_size:64\n",
      "Epoch 1/3\n"
     ]
    },
    {
     "name": "stderr",
     "output_type": "stream",
     "text": [
      "C:\\Users\\Montr\\anaconda3\\lib\\site-packages\\tensorflow\\python\\framework\\indexed_slices.py:433: UserWarning: Converting sparse IndexedSlices to a dense Tensor of unknown shape. This may consume a large amount of memory.\n",
      "  \"Converting sparse IndexedSlices to a dense Tensor of unknown shape. \"\n"
     ]
    },
    {
     "name": "stdout",
     "output_type": "stream",
     "text": [
      "509/509 - 8s - loss: 1.7592 - val_loss: 1.5729\n",
      "Epoch 2/3\n",
      "509/509 - 7s - loss: 0.9306 - val_loss: 1.8893\n",
      "Epoch 3/3\n",
      "509/509 - 7s - loss: 0.8348 - val_loss: 1.9755\n",
      "MSE: 1.7211645\n",
      "optimizer:Adam | embedding_dim:32 | lr:0.01 | dropout:0.2 | hidden_units:(128, 128) | epochs:5 | batch_size:32\n",
      "Epoch 1/5\n"
     ]
    },
    {
     "name": "stderr",
     "output_type": "stream",
     "text": [
      "C:\\Users\\Montr\\anaconda3\\lib\\site-packages\\tensorflow\\python\\framework\\indexed_slices.py:433: UserWarning: Converting sparse IndexedSlices to a dense Tensor of unknown shape. This may consume a large amount of memory.\n",
      "  \"Converting sparse IndexedSlices to a dense Tensor of unknown shape. \"\n"
     ]
    },
    {
     "name": "stdout",
     "output_type": "stream",
     "text": [
      "1017/1017 - 14s - loss: 1.6716 - val_loss: 1.4893\n",
      "Epoch 2/5\n",
      "1017/1017 - 14s - loss: 1.1722 - val_loss: 1.7810\n",
      "Epoch 3/5\n",
      "1017/1017 - 14s - loss: 0.8968 - val_loss: 1.9098\n",
      "Epoch 4/5\n",
      "1017/1017 - 14s - loss: 0.7139 - val_loss: 1.7625\n",
      "Epoch 5/5\n",
      "1017/1017 - 14s - loss: 0.6124 - val_loss: 1.7577\n",
      "MSE: 1.6158955\n",
      "optimizer:Adam | embedding_dim:32 | lr:0.01 | dropout:0.2 | hidden_units:(128, 128) | epochs:5 | batch_size:64\n",
      "Epoch 1/5\n"
     ]
    },
    {
     "name": "stderr",
     "output_type": "stream",
     "text": [
      "C:\\Users\\Montr\\anaconda3\\lib\\site-packages\\tensorflow\\python\\framework\\indexed_slices.py:433: UserWarning: Converting sparse IndexedSlices to a dense Tensor of unknown shape. This may consume a large amount of memory.\n",
      "  \"Converting sparse IndexedSlices to a dense Tensor of unknown shape. \"\n"
     ]
    },
    {
     "name": "stdout",
     "output_type": "stream",
     "text": [
      "509/509 - 8s - loss: 1.7515 - val_loss: 1.5741\n",
      "Epoch 2/5\n",
      "509/509 - 7s - loss: 0.9814 - val_loss: 1.8734\n",
      "Epoch 3/5\n",
      "509/509 - 7s - loss: 0.8717 - val_loss: 2.0313\n",
      "Epoch 4/5\n",
      "509/509 - 7s - loss: 0.6240 - val_loss: 1.8926\n",
      "Epoch 5/5\n",
      "509/509 - 7s - loss: 0.5001 - val_loss: 1.8544\n",
      "MSE: 1.6890635\n",
      "optimizer:Adam | embedding_dim:128 | lr:0.01 | dropout:0.2 | hidden_units:(128, 128) | epochs:3 | batch_size:32\n",
      "Epoch 1/3\n"
     ]
    },
    {
     "name": "stderr",
     "output_type": "stream",
     "text": [
      "C:\\Users\\Montr\\anaconda3\\lib\\site-packages\\tensorflow\\python\\framework\\indexed_slices.py:433: UserWarning: Converting sparse IndexedSlices to a dense Tensor of unknown shape. This may consume a large amount of memory.\n",
      "  \"Converting sparse IndexedSlices to a dense Tensor of unknown shape. \"\n"
     ]
    },
    {
     "name": "stdout",
     "output_type": "stream",
     "text": [
      "1017/1017 - 49s - loss: 1.8399 - val_loss: 1.6687\n",
      "Epoch 2/3\n",
      "1017/1017 - 49s - loss: 1.4458 - val_loss: 2.0912\n",
      "Epoch 3/3\n",
      "1017/1017 - 49s - loss: 1.1085 - val_loss: 1.9702\n",
      "MSE: 1.6130174\n",
      "optimizer:Adam | embedding_dim:128 | lr:0.01 | dropout:0.2 | hidden_units:(128, 128) | epochs:3 | batch_size:64\n",
      "Epoch 1/3\n"
     ]
    },
    {
     "name": "stderr",
     "output_type": "stream",
     "text": [
      "C:\\Users\\Montr\\anaconda3\\lib\\site-packages\\tensorflow\\python\\framework\\indexed_slices.py:433: UserWarning: Converting sparse IndexedSlices to a dense Tensor of unknown shape. This may consume a large amount of memory.\n",
      "  \"Converting sparse IndexedSlices to a dense Tensor of unknown shape. \"\n"
     ]
    },
    {
     "name": "stdout",
     "output_type": "stream",
     "text": [
      "509/509 - 26s - loss: 1.9247 - val_loss: 1.8174\n",
      "Epoch 2/3\n",
      "509/509 - 25s - loss: 1.2915 - val_loss: 2.3987\n",
      "Epoch 3/3\n",
      "509/509 - 26s - loss: 1.3605 - val_loss: 2.3162\n",
      "MSE: 1.6954837\n",
      "optimizer:Adam | embedding_dim:128 | lr:0.01 | dropout:0.2 | hidden_units:(128, 128) | epochs:5 | batch_size:32\n",
      "Epoch 1/5\n"
     ]
    },
    {
     "name": "stderr",
     "output_type": "stream",
     "text": [
      "C:\\Users\\Montr\\anaconda3\\lib\\site-packages\\tensorflow\\python\\framework\\indexed_slices.py:433: UserWarning: Converting sparse IndexedSlices to a dense Tensor of unknown shape. This may consume a large amount of memory.\n",
      "  \"Converting sparse IndexedSlices to a dense Tensor of unknown shape. \"\n"
     ]
    },
    {
     "name": "stdout",
     "output_type": "stream",
     "text": [
      "1017/1017 - 49s - loss: 1.8830 - val_loss: 1.6730\n",
      "Epoch 2/5\n",
      "1017/1017 - 49s - loss: 1.5541 - val_loss: 2.2527\n",
      "Epoch 3/5\n",
      "1017/1017 - 49s - loss: 1.2388 - val_loss: 2.0908\n",
      "Epoch 4/5\n",
      "1017/1017 - 49s - loss: 0.8940 - val_loss: 1.9440\n",
      "Epoch 5/5\n",
      "1017/1017 - 50s - loss: 0.7422 - val_loss: 1.9331\n",
      "MSE: 1.6243082\n",
      "optimizer:Adam | embedding_dim:128 | lr:0.01 | dropout:0.2 | hidden_units:(128, 128) | epochs:5 | batch_size:64\n",
      "Epoch 1/5\n"
     ]
    },
    {
     "name": "stderr",
     "output_type": "stream",
     "text": [
      "C:\\Users\\Montr\\anaconda3\\lib\\site-packages\\tensorflow\\python\\framework\\indexed_slices.py:433: UserWarning: Converting sparse IndexedSlices to a dense Tensor of unknown shape. This may consume a large amount of memory.\n",
      "  \"Converting sparse IndexedSlices to a dense Tensor of unknown shape. \"\n"
     ]
    },
    {
     "name": "stdout",
     "output_type": "stream",
     "text": [
      "509/509 - 27s - loss: 1.9377 - val_loss: 1.8325\n",
      "Epoch 2/5\n",
      "509/509 - 27s - loss: 1.1745 - val_loss: 2.2923\n",
      "Epoch 3/5\n",
      "509/509 - 27s - loss: 1.3015 - val_loss: 2.2897\n",
      "Epoch 4/5\n",
      "509/509 - 27s - loss: 1.0287 - val_loss: 2.1422\n",
      "Epoch 5/5\n",
      "509/509 - 27s - loss: 0.7865 - val_loss: 2.1028\n",
      "MSE: 1.7100952\n",
      "optimizer:Adam | embedding_dim:32 | lr:0.01 | dropout:0.5 | hidden_units:(128, 128) | epochs:3 | batch_size:32\n",
      "Epoch 1/3\n"
     ]
    },
    {
     "name": "stderr",
     "output_type": "stream",
     "text": [
      "C:\\Users\\Montr\\anaconda3\\lib\\site-packages\\tensorflow\\python\\framework\\indexed_slices.py:433: UserWarning: Converting sparse IndexedSlices to a dense Tensor of unknown shape. This may consume a large amount of memory.\n",
      "  \"Converting sparse IndexedSlices to a dense Tensor of unknown shape. \"\n"
     ]
    },
    {
     "name": "stdout",
     "output_type": "stream",
     "text": [
      "1017/1017 - 14s - loss: 1.7164 - val_loss: 1.4980\n",
      "Epoch 2/3\n",
      "1017/1017 - 14s - loss: 1.1791 - val_loss: 1.5479\n",
      "Epoch 3/3\n",
      "1017/1017 - 14s - loss: 0.9015 - val_loss: 1.5897\n",
      "MSE: 1.5845695\n",
      "optimizer:Adam | embedding_dim:32 | lr:0.01 | dropout:0.5 | hidden_units:(128, 128) | epochs:3 | batch_size:64\n",
      "Epoch 1/3\n"
     ]
    },
    {
     "name": "stderr",
     "output_type": "stream",
     "text": [
      "C:\\Users\\Montr\\anaconda3\\lib\\site-packages\\tensorflow\\python\\framework\\indexed_slices.py:433: UserWarning: Converting sparse IndexedSlices to a dense Tensor of unknown shape. This may consume a large amount of memory.\n",
      "  \"Converting sparse IndexedSlices to a dense Tensor of unknown shape. \"\n"
     ]
    },
    {
     "name": "stdout",
     "output_type": "stream",
     "text": [
      "509/509 - 7s - loss: 1.7801 - val_loss: 1.5349\n",
      "Epoch 2/3\n",
      "509/509 - 7s - loss: 1.1980 - val_loss: 1.7136\n",
      "Epoch 3/3\n",
      "509/509 - 7s - loss: 0.8776 - val_loss: 1.7379\n",
      "MSE: 1.6007305\n",
      "optimizer:Adam | embedding_dim:32 | lr:0.01 | dropout:0.5 | hidden_units:(128, 128) | epochs:5 | batch_size:32\n",
      "Epoch 1/5\n"
     ]
    },
    {
     "name": "stderr",
     "output_type": "stream",
     "text": [
      "C:\\Users\\Montr\\anaconda3\\lib\\site-packages\\tensorflow\\python\\framework\\indexed_slices.py:433: UserWarning: Converting sparse IndexedSlices to a dense Tensor of unknown shape. This may consume a large amount of memory.\n",
      "  \"Converting sparse IndexedSlices to a dense Tensor of unknown shape. \"\n"
     ]
    },
    {
     "name": "stdout",
     "output_type": "stream",
     "text": [
      "1017/1017 - 14s - loss: 1.7026 - val_loss: 1.5317\n",
      "Epoch 2/5\n",
      "1017/1017 - 13s - loss: 1.2111 - val_loss: 1.6248\n",
      "Epoch 3/5\n",
      "1017/1017 - 14s - loss: 0.9390 - val_loss: 1.6736\n",
      "Epoch 4/5\n",
      "1017/1017 - 13s - loss: 0.7732 - val_loss: 1.7079\n",
      "Epoch 5/5\n",
      "1017/1017 - 14s - loss: 0.6725 - val_loss: 1.7114\n",
      "MSE: 1.6181093\n",
      "optimizer:Adam | embedding_dim:32 | lr:0.01 | dropout:0.5 | hidden_units:(128, 128) | epochs:5 | batch_size:64\n",
      "Epoch 1/5\n"
     ]
    },
    {
     "name": "stderr",
     "output_type": "stream",
     "text": [
      "C:\\Users\\Montr\\anaconda3\\lib\\site-packages\\tensorflow\\python\\framework\\indexed_slices.py:433: UserWarning: Converting sparse IndexedSlices to a dense Tensor of unknown shape. This may consume a large amount of memory.\n",
      "  \"Converting sparse IndexedSlices to a dense Tensor of unknown shape. \"\n"
     ]
    },
    {
     "name": "stdout",
     "output_type": "stream",
     "text": [
      "509/509 - 7s - loss: 1.8134 - val_loss: 1.5883\n",
      "Epoch 2/5\n",
      "509/509 - 7s - loss: 1.1995 - val_loss: 1.7892\n",
      "Epoch 3/5\n",
      "509/509 - 7s - loss: 0.8621 - val_loss: 1.7702\n",
      "Epoch 4/5\n",
      "509/509 - 7s - loss: 0.6847 - val_loss: 1.7881\n",
      "Epoch 5/5\n",
      "509/509 - 7s - loss: 0.5959 - val_loss: 1.7566\n",
      "MSE: 1.6289573\n",
      "optimizer:Adam | embedding_dim:128 | lr:0.01 | dropout:0.5 | hidden_units:(128, 128) | epochs:3 | batch_size:32\n",
      "Epoch 1/3\n"
     ]
    },
    {
     "name": "stderr",
     "output_type": "stream",
     "text": [
      "C:\\Users\\Montr\\anaconda3\\lib\\site-packages\\tensorflow\\python\\framework\\indexed_slices.py:433: UserWarning: Converting sparse IndexedSlices to a dense Tensor of unknown shape. This may consume a large amount of memory.\n",
      "  \"Converting sparse IndexedSlices to a dense Tensor of unknown shape. \"\n"
     ]
    },
    {
     "name": "stdout",
     "output_type": "stream",
     "text": [
      "1017/1017 - 49s - loss: 1.8787 - val_loss: 1.6618\n",
      "Epoch 2/3\n",
      "1017/1017 - 49s - loss: 1.2906 - val_loss: 1.5538\n",
      "Epoch 3/3\n",
      "1017/1017 - 49s - loss: 0.9078 - val_loss: 1.5793\n",
      "MSE: 1.5764889\n",
      "optimizer:Adam | embedding_dim:128 | lr:0.01 | dropout:0.5 | hidden_units:(128, 128) | epochs:3 | batch_size:64\n",
      "Epoch 1/3\n"
     ]
    },
    {
     "name": "stderr",
     "output_type": "stream",
     "text": [
      "C:\\Users\\Montr\\anaconda3\\lib\\site-packages\\tensorflow\\python\\framework\\indexed_slices.py:433: UserWarning: Converting sparse IndexedSlices to a dense Tensor of unknown shape. This may consume a large amount of memory.\n",
      "  \"Converting sparse IndexedSlices to a dense Tensor of unknown shape. \"\n"
     ]
    },
    {
     "name": "stdout",
     "output_type": "stream",
     "text": [
      "509/509 - 26s - loss: 1.9565 - val_loss: 1.7503\n",
      "Epoch 2/3\n",
      "509/509 - 26s - loss: 1.4066 - val_loss: 1.8865\n",
      "Epoch 3/3\n",
      "509/509 - 25s - loss: 1.1511 - val_loss: 1.8488\n",
      "MSE: 1.5554571\n",
      "optimizer:Adam | embedding_dim:128 | lr:0.01 | dropout:0.5 | hidden_units:(128, 128) | epochs:5 | batch_size:32\n",
      "Epoch 1/5\n"
     ]
    },
    {
     "name": "stderr",
     "output_type": "stream",
     "text": [
      "C:\\Users\\Montr\\anaconda3\\lib\\site-packages\\tensorflow\\python\\framework\\indexed_slices.py:433: UserWarning: Converting sparse IndexedSlices to a dense Tensor of unknown shape. This may consume a large amount of memory.\n",
      "  \"Converting sparse IndexedSlices to a dense Tensor of unknown shape. \"\n"
     ]
    },
    {
     "name": "stdout",
     "output_type": "stream",
     "text": [
      "1017/1017 - 58s - loss: 1.9858 - val_loss: 1.8001\n",
      "Epoch 2/5\n",
      "1017/1017 - 62s - loss: 1.3921 - val_loss: 1.6712\n",
      "Epoch 3/5\n",
      "1017/1017 - 58s - loss: 1.0029 - val_loss: 1.6195\n",
      "Epoch 4/5\n",
      "1017/1017 - 52s - loss: 0.7602 - val_loss: 1.6463\n",
      "Epoch 5/5\n",
      "1017/1017 - 52s - loss: 0.6359 - val_loss: 1.6614\n",
      "MSE: 1.5990702\n",
      "optimizer:Adam | embedding_dim:128 | lr:0.01 | dropout:0.5 | hidden_units:(128, 128) | epochs:5 | batch_size:64\n",
      "Epoch 1/5\n"
     ]
    },
    {
     "name": "stderr",
     "output_type": "stream",
     "text": [
      "C:\\Users\\Montr\\anaconda3\\lib\\site-packages\\tensorflow\\python\\framework\\indexed_slices.py:433: UserWarning: Converting sparse IndexedSlices to a dense Tensor of unknown shape. This may consume a large amount of memory.\n",
      "  \"Converting sparse IndexedSlices to a dense Tensor of unknown shape. \"\n"
     ]
    },
    {
     "name": "stdout",
     "output_type": "stream",
     "text": [
      "509/509 - 28s - loss: 1.9811 - val_loss: 1.7915\n",
      "Epoch 2/5\n",
      "509/509 - 27s - loss: 1.5212 - val_loss: 2.0589\n",
      "Epoch 3/5\n",
      "509/509 - 27s - loss: 1.1973 - val_loss: 2.0342\n",
      "Epoch 4/5\n",
      "509/509 - 27s - loss: 0.9973 - val_loss: 2.0175\n",
      "Epoch 5/5\n",
      "509/509 - 28s - loss: 0.8824 - val_loss: 1.9875\n",
      "MSE: 1.5946425\n",
      "optimizer:Adam | embedding_dim:32 | lr:0.01 | dropout:0.2 | hidden_units:(256, 128) | epochs:3 | batch_size:32\n",
      "Epoch 1/3\n"
     ]
    },
    {
     "name": "stderr",
     "output_type": "stream",
     "text": [
      "C:\\Users\\Montr\\anaconda3\\lib\\site-packages\\tensorflow\\python\\framework\\indexed_slices.py:433: UserWarning: Converting sparse IndexedSlices to a dense Tensor of unknown shape. This may consume a large amount of memory.\n",
      "  \"Converting sparse IndexedSlices to a dense Tensor of unknown shape. \"\n"
     ]
    },
    {
     "name": "stdout",
     "output_type": "stream",
     "text": [
      "1017/1017 - 15s - loss: 1.7549 - val_loss: 1.5795\n",
      "Epoch 2/3\n",
      "1017/1017 - 15s - loss: 1.1644 - val_loss: 1.9325\n",
      "Epoch 3/3\n",
      "1017/1017 - 14s - loss: 1.0186 - val_loss: 1.8927\n",
      "MSE: 1.6123533\n",
      "optimizer:Adam | embedding_dim:32 | lr:0.01 | dropout:0.2 | hidden_units:(256, 128) | epochs:3 | batch_size:64\n",
      "Epoch 1/3\n"
     ]
    },
    {
     "name": "stderr",
     "output_type": "stream",
     "text": [
      "C:\\Users\\Montr\\anaconda3\\lib\\site-packages\\tensorflow\\python\\framework\\indexed_slices.py:433: UserWarning: Converting sparse IndexedSlices to a dense Tensor of unknown shape. This may consume a large amount of memory.\n",
      "  \"Converting sparse IndexedSlices to a dense Tensor of unknown shape. \"\n"
     ]
    },
    {
     "name": "stdout",
     "output_type": "stream",
     "text": [
      "509/509 - 8s - loss: 1.7781 - val_loss: 1.6222\n",
      "Epoch 2/3\n",
      "509/509 - 8s - loss: 0.8715 - val_loss: 1.7857\n",
      "Epoch 3/3\n",
      "509/509 - 8s - loss: 0.8350 - val_loss: 1.8606\n",
      "MSE: 1.6653752\n",
      "optimizer:Adam | embedding_dim:32 | lr:0.01 | dropout:0.2 | hidden_units:(256, 128) | epochs:5 | batch_size:32\n",
      "Epoch 1/5\n"
     ]
    },
    {
     "name": "stderr",
     "output_type": "stream",
     "text": [
      "C:\\Users\\Montr\\anaconda3\\lib\\site-packages\\tensorflow\\python\\framework\\indexed_slices.py:433: UserWarning: Converting sparse IndexedSlices to a dense Tensor of unknown shape. This may consume a large amount of memory.\n",
      "  \"Converting sparse IndexedSlices to a dense Tensor of unknown shape. \"\n"
     ]
    },
    {
     "name": "stdout",
     "output_type": "stream",
     "text": [
      "1017/1017 - 14s - loss: 1.7445 - val_loss: 1.5866\n",
      "Epoch 2/5\n",
      "1017/1017 - 13s - loss: 1.0130 - val_loss: 1.8975\n",
      "Epoch 3/5\n",
      "1017/1017 - 13s - loss: 0.9855 - val_loss: 1.9991\n",
      "Epoch 4/5\n",
      "1017/1017 - 14s - loss: 0.7348 - val_loss: 1.9675\n",
      "Epoch 5/5\n",
      "1017/1017 - 14s - loss: 0.6163 - val_loss: 1.9401\n",
      "MSE: 1.6919415\n",
      "optimizer:Adam | embedding_dim:32 | lr:0.01 | dropout:0.2 | hidden_units:(256, 128) | epochs:5 | batch_size:64\n",
      "Epoch 1/5\n"
     ]
    },
    {
     "name": "stderr",
     "output_type": "stream",
     "text": [
      "C:\\Users\\Montr\\anaconda3\\lib\\site-packages\\tensorflow\\python\\framework\\indexed_slices.py:433: UserWarning: Converting sparse IndexedSlices to a dense Tensor of unknown shape. This may consume a large amount of memory.\n",
      "  \"Converting sparse IndexedSlices to a dense Tensor of unknown shape. \"\n"
     ]
    },
    {
     "name": "stdout",
     "output_type": "stream",
     "text": [
      "509/509 - 8s - loss: 1.8745 - val_loss: 1.6226\n",
      "Epoch 2/5\n",
      "509/509 - 8s - loss: 0.8872 - val_loss: 1.7647\n",
      "Epoch 3/5\n",
      "509/509 - 8s - loss: 0.7652 - val_loss: 1.8661\n",
      "Epoch 4/5\n",
      "509/509 - 8s - loss: 0.6009 - val_loss: 1.8410\n",
      "Epoch 5/5\n",
      "509/509 - 8s - loss: 0.4951 - val_loss: 1.7994\n",
      "MSE: 1.6786584\n",
      "optimizer:Adam | embedding_dim:128 | lr:0.01 | dropout:0.2 | hidden_units:(256, 128) | epochs:3 | batch_size:32\n",
      "Epoch 1/3\n"
     ]
    },
    {
     "name": "stderr",
     "output_type": "stream",
     "text": [
      "C:\\Users\\Montr\\anaconda3\\lib\\site-packages\\tensorflow\\python\\framework\\indexed_slices.py:433: UserWarning: Converting sparse IndexedSlices to a dense Tensor of unknown shape. This may consume a large amount of memory.\n",
      "  \"Converting sparse IndexedSlices to a dense Tensor of unknown shape. \"\n"
     ]
    },
    {
     "name": "stdout",
     "output_type": "stream",
     "text": [
      "1017/1017 - 52s - loss: 1.9077 - val_loss: 1.6461\n",
      "Epoch 2/3\n",
      "1017/1017 - 57s - loss: 1.5550 - val_loss: 2.4148\n",
      "Epoch 3/3\n",
      "1017/1017 - 80s - loss: 1.3522 - val_loss: 2.1128\n",
      "MSE: 1.6150099\n",
      "optimizer:Adam | embedding_dim:128 | lr:0.01 | dropout:0.2 | hidden_units:(256, 128) | epochs:3 | batch_size:64\n",
      "Epoch 1/3\n"
     ]
    },
    {
     "name": "stderr",
     "output_type": "stream",
     "text": [
      "C:\\Users\\Montr\\anaconda3\\lib\\site-packages\\tensorflow\\python\\framework\\indexed_slices.py:433: UserWarning: Converting sparse IndexedSlices to a dense Tensor of unknown shape. This may consume a large amount of memory.\n",
      "  \"Converting sparse IndexedSlices to a dense Tensor of unknown shape. \"\n"
     ]
    },
    {
     "name": "stdout",
     "output_type": "stream",
     "text": [
      "509/509 - 35s - loss: 2.1631 - val_loss: 1.8529\n",
      "Epoch 2/3\n",
      "509/509 - 35s - loss: 1.1629 - val_loss: 2.2576\n",
      "Epoch 3/3\n",
      "509/509 - 34s - loss: 1.3129 - val_loss: 2.2960\n",
      "MSE: 1.5813593\n",
      "optimizer:Adam | embedding_dim:128 | lr:0.01 | dropout:0.2 | hidden_units:(256, 128) | epochs:5 | batch_size:32\n",
      "Epoch 1/5\n"
     ]
    },
    {
     "name": "stderr",
     "output_type": "stream",
     "text": [
      "C:\\Users\\Montr\\anaconda3\\lib\\site-packages\\tensorflow\\python\\framework\\indexed_slices.py:433: UserWarning: Converting sparse IndexedSlices to a dense Tensor of unknown shape. This may consume a large amount of memory.\n",
      "  \"Converting sparse IndexedSlices to a dense Tensor of unknown shape. \"\n"
     ]
    },
    {
     "name": "stdout",
     "output_type": "stream",
     "text": [
      "1017/1017 - 75s - loss: 1.8610 - val_loss: 1.6071\n",
      "Epoch 2/5\n",
      "1017/1017 - 83s - loss: 1.6217 - val_loss: 2.4801\n",
      "Epoch 3/5\n",
      "1017/1017 - 69s - loss: 1.3488 - val_loss: 2.0695\n",
      "Epoch 4/5\n",
      "1017/1017 - 62s - loss: 0.8819 - val_loss: 2.0114\n",
      "Epoch 5/5\n",
      "1017/1017 - 63s - loss: 0.7710 - val_loss: 1.9103\n",
      "MSE: 1.6299535\n",
      "optimizer:Adam | embedding_dim:128 | lr:0.01 | dropout:0.2 | hidden_units:(256, 128) | epochs:5 | batch_size:64\n",
      "Epoch 1/5\n"
     ]
    },
    {
     "name": "stderr",
     "output_type": "stream",
     "text": [
      "C:\\Users\\Montr\\anaconda3\\lib\\site-packages\\tensorflow\\python\\framework\\indexed_slices.py:433: UserWarning: Converting sparse IndexedSlices to a dense Tensor of unknown shape. This may consume a large amount of memory.\n",
      "  \"Converting sparse IndexedSlices to a dense Tensor of unknown shape. \"\n"
     ]
    },
    {
     "name": "stdout",
     "output_type": "stream",
     "text": [
      "509/509 - 33s - loss: 2.1636 - val_loss: 1.8508\n",
      "Epoch 2/5\n",
      "509/509 - 32s - loss: 1.1707 - val_loss: 2.3245\n",
      "Epoch 3/5\n",
      "509/509 - 31s - loss: 1.3520 - val_loss: 2.3451\n",
      "Epoch 4/5\n",
      "509/509 - 32s - loss: 1.1383 - val_loss: 2.2091\n",
      "Epoch 5/5\n",
      "509/509 - 31s - loss: 0.8384 - val_loss: 2.1506\n",
      "MSE: 1.7425282\n",
      "optimizer:Adam | embedding_dim:32 | lr:0.01 | dropout:0.5 | hidden_units:(256, 128) | epochs:3 | batch_size:32\n",
      "Epoch 1/3\n"
     ]
    },
    {
     "name": "stderr",
     "output_type": "stream",
     "text": [
      "C:\\Users\\Montr\\anaconda3\\lib\\site-packages\\tensorflow\\python\\framework\\indexed_slices.py:433: UserWarning: Converting sparse IndexedSlices to a dense Tensor of unknown shape. This may consume a large amount of memory.\n",
      "  \"Converting sparse IndexedSlices to a dense Tensor of unknown shape. \"\n"
     ]
    },
    {
     "name": "stdout",
     "output_type": "stream",
     "text": [
      "1017/1017 - 17s - loss: 1.7430 - val_loss: 1.6171\n",
      "Epoch 2/3\n",
      "1017/1017 - 17s - loss: 1.2919 - val_loss: 1.6768\n",
      "Epoch 3/3\n",
      "1017/1017 - 18s - loss: 1.0314 - val_loss: 1.6669\n",
      "MSE: 1.5991808\n",
      "optimizer:Adam | embedding_dim:32 | lr:0.01 | dropout:0.5 | hidden_units:(256, 128) | epochs:3 | batch_size:64\n",
      "Epoch 1/3\n"
     ]
    },
    {
     "name": "stderr",
     "output_type": "stream",
     "text": [
      "C:\\Users\\Montr\\anaconda3\\lib\\site-packages\\tensorflow\\python\\framework\\indexed_slices.py:433: UserWarning: Converting sparse IndexedSlices to a dense Tensor of unknown shape. This may consume a large amount of memory.\n",
      "  \"Converting sparse IndexedSlices to a dense Tensor of unknown shape. \"\n"
     ]
    },
    {
     "name": "stdout",
     "output_type": "stream",
     "text": [
      "509/509 - 9s - loss: 1.8619 - val_loss: 1.5705\n",
      "Epoch 2/3\n",
      "509/509 - 9s - loss: 1.1594 - val_loss: 1.7941\n",
      "Epoch 3/3\n",
      "509/509 - 9s - loss: 0.8534 - val_loss: 1.7874\n",
      "MSE: 1.6203232\n",
      "optimizer:Adam | embedding_dim:32 | lr:0.01 | dropout:0.5 | hidden_units:(256, 128) | epochs:5 | batch_size:32\n",
      "Epoch 1/5\n"
     ]
    },
    {
     "name": "stderr",
     "output_type": "stream",
     "text": [
      "C:\\Users\\Montr\\anaconda3\\lib\\site-packages\\tensorflow\\python\\framework\\indexed_slices.py:433: UserWarning: Converting sparse IndexedSlices to a dense Tensor of unknown shape. This may consume a large amount of memory.\n",
      "  \"Converting sparse IndexedSlices to a dense Tensor of unknown shape. \"\n"
     ]
    },
    {
     "name": "stdout",
     "output_type": "stream",
     "text": [
      "1017/1017 - 15s - loss: 1.7474 - val_loss: 1.5940\n",
      "Epoch 2/5\n",
      "1017/1017 - 15s - loss: 1.2784 - val_loss: 1.6663\n",
      "Epoch 3/5\n",
      "1017/1017 - 15s - loss: 1.0077 - val_loss: 1.6635\n",
      "Epoch 4/5\n",
      "1017/1017 - 20s - loss: 0.8064 - val_loss: 1.6901\n",
      "Epoch 5/5\n",
      "1017/1017 - 17s - loss: 0.6768 - val_loss: 1.6973\n",
      "MSE: 1.6256365\n",
      "optimizer:Adam | embedding_dim:32 | lr:0.01 | dropout:0.5 | hidden_units:(256, 128) | epochs:5 | batch_size:64\n",
      "Epoch 1/5\n"
     ]
    },
    {
     "name": "stderr",
     "output_type": "stream",
     "text": [
      "C:\\Users\\Montr\\anaconda3\\lib\\site-packages\\tensorflow\\python\\framework\\indexed_slices.py:433: UserWarning: Converting sparse IndexedSlices to a dense Tensor of unknown shape. This may consume a large amount of memory.\n",
      "  \"Converting sparse IndexedSlices to a dense Tensor of unknown shape. \"\n"
     ]
    },
    {
     "name": "stdout",
     "output_type": "stream",
     "text": [
      "509/509 - 9s - loss: 1.8874 - val_loss: 1.5873\n",
      "Epoch 2/5\n",
      "509/509 - 9s - loss: 1.1864 - val_loss: 1.7897\n",
      "Epoch 3/5\n",
      "509/509 - 9s - loss: 0.8512 - val_loss: 1.8373\n",
      "Epoch 4/5\n",
      "509/509 - 9s - loss: 0.6476 - val_loss: 1.8509\n",
      "Epoch 5/5\n",
      "509/509 - 9s - loss: 0.5980 - val_loss: 1.8176\n",
      "MSE: 1.6491034\n",
      "optimizer:Adam | embedding_dim:128 | lr:0.01 | dropout:0.5 | hidden_units:(256, 128) | epochs:3 | batch_size:32\n",
      "Epoch 1/3\n"
     ]
    },
    {
     "name": "stderr",
     "output_type": "stream",
     "text": [
      "C:\\Users\\Montr\\anaconda3\\lib\\site-packages\\tensorflow\\python\\framework\\indexed_slices.py:433: UserWarning: Converting sparse IndexedSlices to a dense Tensor of unknown shape. This may consume a large amount of memory.\n",
      "  \"Converting sparse IndexedSlices to a dense Tensor of unknown shape. \"\n"
     ]
    },
    {
     "name": "stdout",
     "output_type": "stream",
     "text": [
      "1017/1017 - 57s - loss: 1.8875 - val_loss: 1.6441\n",
      "Epoch 2/3\n",
      "1017/1017 - 59s - loss: 1.2509 - val_loss: 1.5998\n",
      "Epoch 3/3\n",
      "1017/1017 - 63s - loss: 0.9246 - val_loss: 1.5727\n",
      "MSE: 1.5781492\n",
      "optimizer:Adam | embedding_dim:128 | lr:0.01 | dropout:0.5 | hidden_units:(256, 128) | epochs:3 | batch_size:64\n",
      "Epoch 1/3\n"
     ]
    },
    {
     "name": "stderr",
     "output_type": "stream",
     "text": [
      "C:\\Users\\Montr\\anaconda3\\lib\\site-packages\\tensorflow\\python\\framework\\indexed_slices.py:433: UserWarning: Converting sparse IndexedSlices to a dense Tensor of unknown shape. This may consume a large amount of memory.\n",
      "  \"Converting sparse IndexedSlices to a dense Tensor of unknown shape. \"\n"
     ]
    },
    {
     "name": "stdout",
     "output_type": "stream",
     "text": [
      "509/509 - 36s - loss: 2.2006 - val_loss: 1.7959\n",
      "Epoch 2/3\n",
      "509/509 - 33s - loss: 1.4360 - val_loss: 2.2093\n",
      "Epoch 3/3\n",
      "509/509 - 34s - loss: 1.3752 - val_loss: 2.1283\n",
      "MSE: 1.571397\n",
      "optimizer:Adam | embedding_dim:128 | lr:0.01 | dropout:0.5 | hidden_units:(256, 128) | epochs:5 | batch_size:32\n",
      "Epoch 1/5\n"
     ]
    },
    {
     "name": "stderr",
     "output_type": "stream",
     "text": [
      "C:\\Users\\Montr\\anaconda3\\lib\\site-packages\\tensorflow\\python\\framework\\indexed_slices.py:433: UserWarning: Converting sparse IndexedSlices to a dense Tensor of unknown shape. This may consume a large amount of memory.\n",
      "  \"Converting sparse IndexedSlices to a dense Tensor of unknown shape. \"\n"
     ]
    },
    {
     "name": "stdout",
     "output_type": "stream",
     "text": [
      "1017/1017 - 65s - loss: 1.8776 - val_loss: 1.6471\n",
      "Epoch 2/5\n",
      "1017/1017 - 65s - loss: 1.2519 - val_loss: 1.5629\n",
      "Epoch 3/5\n",
      "1017/1017 - 62s - loss: 0.9185 - val_loss: 1.5918\n",
      "Epoch 4/5\n",
      "1017/1017 - 62s - loss: 0.7373 - val_loss: 1.6256\n",
      "Epoch 5/5\n",
      "1017/1017 - 61s - loss: 0.6305 - val_loss: 1.6744\n",
      "MSE: 1.6243082\n",
      "optimizer:Adam | embedding_dim:128 | lr:0.01 | dropout:0.5 | hidden_units:(256, 128) | epochs:5 | batch_size:64\n",
      "Epoch 1/5\n"
     ]
    },
    {
     "name": "stderr",
     "output_type": "stream",
     "text": [
      "C:\\Users\\Montr\\anaconda3\\lib\\site-packages\\tensorflow\\python\\framework\\indexed_slices.py:433: UserWarning: Converting sparse IndexedSlices to a dense Tensor of unknown shape. This may consume a large amount of memory.\n",
      "  \"Converting sparse IndexedSlices to a dense Tensor of unknown shape. \"\n"
     ]
    },
    {
     "name": "stdout",
     "output_type": "stream",
     "text": [
      "509/509 - 32s - loss: 2.0336 - val_loss: 1.7615\n",
      "Epoch 2/5\n",
      "509/509 - 33s - loss: 1.4684 - val_loss: 2.1672\n",
      "Epoch 3/5\n",
      "509/509 - 46s - loss: 1.3191 - val_loss: 2.0978\n",
      "Epoch 4/5\n",
      "509/509 - 33s - loss: 1.0698 - val_loss: 2.0343\n",
      "Epoch 5/5\n",
      "509/509 - 32s - loss: 0.9687 - val_loss: 2.0151\n",
      "MSE: 1.5855657\n",
      "optimizer:SGD | embedding_dim:32 | lr:0.0001 | dropout:0.2 | hidden_units:(128, 128) | epochs:3 | batch_size:32\n",
      "Epoch 1/3\n"
     ]
    },
    {
     "name": "stderr",
     "output_type": "stream",
     "text": [
      "C:\\Users\\Montr\\anaconda3\\lib\\site-packages\\tensorflow\\python\\framework\\indexed_slices.py:433: UserWarning: Converting sparse IndexedSlices to a dense Tensor of unknown shape. This may consume a large amount of memory.\n",
      "  \"Converting sparse IndexedSlices to a dense Tensor of unknown shape. \"\n"
     ]
    },
    {
     "name": "stdout",
     "output_type": "stream",
     "text": [
      "1017/1017 - 22s - loss: 7.9736 - val_loss: 2.6260\n",
      "Epoch 2/3\n",
      "1017/1017 - 15s - loss: 1.8815 - val_loss: 1.5689\n",
      "Epoch 3/3\n",
      "1017/1017 - 18s - loss: 1.5975 - val_loss: 1.5283\n",
      "MSE: 1.5164932\n",
      "optimizer:SGD | embedding_dim:32 | lr:0.0001 | dropout:0.2 | hidden_units:(128, 128) | epochs:3 | batch_size:64\n",
      "Epoch 1/3\n"
     ]
    },
    {
     "name": "stderr",
     "output_type": "stream",
     "text": [
      "C:\\Users\\Montr\\anaconda3\\lib\\site-packages\\tensorflow\\python\\framework\\indexed_slices.py:433: UserWarning: Converting sparse IndexedSlices to a dense Tensor of unknown shape. This may consume a large amount of memory.\n",
      "  \"Converting sparse IndexedSlices to a dense Tensor of unknown shape. \"\n"
     ]
    },
    {
     "name": "stdout",
     "output_type": "stream",
     "text": [
      "509/509 - 9s - loss: 11.7060 - val_loss: 6.4882\n",
      "Epoch 2/3\n",
      "509/509 - 12s - loss: 4.0997 - val_loss: 2.5630\n",
      "Epoch 3/3\n",
      "509/509 - 13s - loss: 2.0515 - val_loss: 1.7063\n",
      "MSE: 1.5841266\n",
      "optimizer:SGD | embedding_dim:32 | lr:0.0001 | dropout:0.2 | hidden_units:(128, 128) | epochs:5 | batch_size:32\n",
      "Epoch 1/5\n"
     ]
    },
    {
     "name": "stderr",
     "output_type": "stream",
     "text": [
      "C:\\Users\\Montr\\anaconda3\\lib\\site-packages\\tensorflow\\python\\framework\\indexed_slices.py:433: UserWarning: Converting sparse IndexedSlices to a dense Tensor of unknown shape. This may consume a large amount of memory.\n",
      "  \"Converting sparse IndexedSlices to a dense Tensor of unknown shape. \"\n"
     ]
    },
    {
     "name": "stdout",
     "output_type": "stream",
     "text": [
      "1017/1017 - 15s - loss: 8.1373 - val_loss: 2.8016\n",
      "Epoch 2/5\n",
      "1017/1017 - 16s - loss: 1.9475 - val_loss: 1.5887\n",
      "Epoch 3/5\n",
      "1017/1017 - 22s - loss: 1.5953 - val_loss: 1.5331\n",
      "Epoch 4/5\n",
      "1017/1017 - 15s - loss: 1.5717 - val_loss: 1.5189\n",
      "Epoch 5/5\n",
      "1017/1017 - 16s - loss: 1.5557 - val_loss: 1.5106\n",
      "MSE: 1.5106266\n",
      "optimizer:SGD | embedding_dim:32 | lr:0.0001 | dropout:0.2 | hidden_units:(128, 128) | epochs:5 | batch_size:64\n",
      "Epoch 1/5\n"
     ]
    },
    {
     "name": "stderr",
     "output_type": "stream",
     "text": [
      "C:\\Users\\Montr\\anaconda3\\lib\\site-packages\\tensorflow\\python\\framework\\indexed_slices.py:433: UserWarning: Converting sparse IndexedSlices to a dense Tensor of unknown shape. This may consume a large amount of memory.\n",
      "  \"Converting sparse IndexedSlices to a dense Tensor of unknown shape. \"\n"
     ]
    },
    {
     "name": "stdout",
     "output_type": "stream",
     "text": [
      "509/509 - 9s - loss: 11.7624 - val_loss: 6.5914\n",
      "Epoch 2/5\n",
      "509/509 - 10s - loss: 4.2109 - val_loss: 2.6553\n",
      "Epoch 3/5\n",
      "509/509 - 10s - loss: 2.1116 - val_loss: 1.7375\n",
      "Epoch 4/5\n",
      "509/509 - 10s - loss: 1.6809 - val_loss: 1.5735\n",
      "Epoch 5/5\n",
      "509/509 - 7s - loss: 1.6032 - val_loss: 1.5405\n",
      "MSE: 1.516604\n",
      "optimizer:SGD | embedding_dim:128 | lr:0.0001 | dropout:0.2 | hidden_units:(128, 128) | epochs:3 | batch_size:32\n",
      "Epoch 1/3\n"
     ]
    },
    {
     "name": "stderr",
     "output_type": "stream",
     "text": [
      "C:\\Users\\Montr\\anaconda3\\lib\\site-packages\\tensorflow\\python\\framework\\indexed_slices.py:433: UserWarning: Converting sparse IndexedSlices to a dense Tensor of unknown shape. This may consume a large amount of memory.\n",
      "  \"Converting sparse IndexedSlices to a dense Tensor of unknown shape. \"\n"
     ]
    },
    {
     "name": "stdout",
     "output_type": "stream",
     "text": [
      "1017/1017 - 59s - loss: 7.7941 - val_loss: 2.4858\n",
      "Epoch 2/3\n",
      "1017/1017 - 61s - loss: 1.8286 - val_loss: 1.5602\n",
      "Epoch 3/3\n",
      "1017/1017 - 58s - loss: 1.5917 - val_loss: 1.5256\n",
      "MSE: 1.516604\n",
      "optimizer:SGD | embedding_dim:128 | lr:0.0001 | dropout:0.2 | hidden_units:(128, 128) | epochs:3 | batch_size:64\n",
      "Epoch 1/3\n"
     ]
    },
    {
     "name": "stderr",
     "output_type": "stream",
     "text": [
      "C:\\Users\\Montr\\anaconda3\\lib\\site-packages\\tensorflow\\python\\framework\\indexed_slices.py:433: UserWarning: Converting sparse IndexedSlices to a dense Tensor of unknown shape. This may consume a large amount of memory.\n",
      "  \"Converting sparse IndexedSlices to a dense Tensor of unknown shape. \"\n"
     ]
    },
    {
     "name": "stdout",
     "output_type": "stream",
     "text": [
      "509/509 - 31s - loss: 11.5537 - val_loss: 6.2732\n",
      "Epoch 2/3\n",
      "509/509 - 31s - loss: 3.9301 - val_loss: 2.4366\n",
      "Epoch 3/3\n",
      "509/509 - 32s - loss: 1.9832 - val_loss: 1.6670\n",
      "MSE: 1.553686\n",
      "optimizer:SGD | embedding_dim:128 | lr:0.0001 | dropout:0.2 | hidden_units:(128, 128) | epochs:5 | batch_size:32\n",
      "Epoch 1/5\n"
     ]
    },
    {
     "name": "stderr",
     "output_type": "stream",
     "text": [
      "C:\\Users\\Montr\\anaconda3\\lib\\site-packages\\tensorflow\\python\\framework\\indexed_slices.py:433: UserWarning: Converting sparse IndexedSlices to a dense Tensor of unknown shape. This may consume a large amount of memory.\n",
      "  \"Converting sparse IndexedSlices to a dense Tensor of unknown shape. \"\n"
     ]
    },
    {
     "name": "stdout",
     "output_type": "stream",
     "text": [
      "1017/1017 - 70s - loss: 7.7578 - val_loss: 2.4421\n",
      "Epoch 2/5\n",
      "1017/1017 - 52s - loss: 1.8128 - val_loss: 1.5579\n",
      "Epoch 3/5\n",
      "1017/1017 - 48s - loss: 1.5903 - val_loss: 1.5247\n",
      "Epoch 4/5\n",
      "1017/1017 - 49s - loss: 1.5670 - val_loss: 1.5137\n",
      "Epoch 5/5\n",
      "1017/1017 - 45s - loss: 1.5565 - val_loss: 1.5072\n",
      "MSE: 1.5114014\n",
      "optimizer:SGD | embedding_dim:128 | lr:0.0001 | dropout:0.2 | hidden_units:(128, 128) | epochs:5 | batch_size:64\n",
      "Epoch 1/5\n"
     ]
    },
    {
     "name": "stderr",
     "output_type": "stream",
     "text": [
      "C:\\Users\\Montr\\anaconda3\\lib\\site-packages\\tensorflow\\python\\framework\\indexed_slices.py:433: UserWarning: Converting sparse IndexedSlices to a dense Tensor of unknown shape. This may consume a large amount of memory.\n",
      "  \"Converting sparse IndexedSlices to a dense Tensor of unknown shape. \"\n"
     ]
    },
    {
     "name": "stdout",
     "output_type": "stream",
     "text": [
      "509/509 - 25s - loss: 11.4213 - val_loss: 6.0796\n",
      "Epoch 2/5\n",
      "509/509 - 25s - loss: 3.7791 - val_loss: 2.3346\n",
      "Epoch 3/5\n",
      "509/509 - 23s - loss: 1.9347 - val_loss: 1.6458\n",
      "Epoch 4/5\n",
      "509/509 - 24s - loss: 1.6483 - val_loss: 1.5510\n",
      "Epoch 5/5\n",
      "509/509 - 25s - loss: 1.5985 - val_loss: 1.5315\n",
      "MSE: 1.5174894\n",
      "optimizer:SGD | embedding_dim:32 | lr:0.0001 | dropout:0.5 | hidden_units:(128, 128) | epochs:3 | batch_size:32\n",
      "Epoch 1/3\n"
     ]
    },
    {
     "name": "stderr",
     "output_type": "stream",
     "text": [
      "C:\\Users\\Montr\\anaconda3\\lib\\site-packages\\tensorflow\\python\\framework\\indexed_slices.py:433: UserWarning: Converting sparse IndexedSlices to a dense Tensor of unknown shape. This may consume a large amount of memory.\n",
      "  \"Converting sparse IndexedSlices to a dense Tensor of unknown shape. \"\n"
     ]
    },
    {
     "name": "stdout",
     "output_type": "stream",
     "text": [
      "1017/1017 - 15s - loss: 7.9764 - val_loss: 2.6128\n",
      "Epoch 2/3\n",
      "1017/1017 - 13s - loss: 1.9678 - val_loss: 1.5769\n",
      "Epoch 3/3\n",
      "1017/1017 - 12s - loss: 1.6899 - val_loss: 1.5319\n",
      "MSE: 1.5136153\n",
      "optimizer:SGD | embedding_dim:32 | lr:0.0001 | dropout:0.5 | hidden_units:(128, 128) | epochs:3 | batch_size:64\n",
      "Epoch 1/3\n"
     ]
    },
    {
     "name": "stderr",
     "output_type": "stream",
     "text": [
      "C:\\Users\\Montr\\anaconda3\\lib\\site-packages\\tensorflow\\python\\framework\\indexed_slices.py:433: UserWarning: Converting sparse IndexedSlices to a dense Tensor of unknown shape. This may consume a large amount of memory.\n",
      "  \"Converting sparse IndexedSlices to a dense Tensor of unknown shape. \"\n"
     ]
    },
    {
     "name": "stdout",
     "output_type": "stream",
     "text": [
      "509/509 - 7s - loss: 11.9060 - val_loss: 6.7820\n",
      "Epoch 2/3\n",
      "509/509 - 7s - loss: 4.4171 - val_loss: 2.8027\n",
      "Epoch 3/3\n",
      "509/509 - 7s - loss: 2.2703 - val_loss: 1.8009\n",
      "MSE: 1.7626743\n",
      "optimizer:SGD | embedding_dim:32 | lr:0.0001 | dropout:0.5 | hidden_units:(128, 128) | epochs:5 | batch_size:32\n",
      "Epoch 1/5\n"
     ]
    },
    {
     "name": "stderr",
     "output_type": "stream",
     "text": [
      "C:\\Users\\Montr\\anaconda3\\lib\\site-packages\\tensorflow\\python\\framework\\indexed_slices.py:433: UserWarning: Converting sparse IndexedSlices to a dense Tensor of unknown shape. This may consume a large amount of memory.\n",
      "  \"Converting sparse IndexedSlices to a dense Tensor of unknown shape. \"\n"
     ]
    },
    {
     "name": "stdout",
     "output_type": "stream",
     "text": [
      "1017/1017 - 12s - loss: 7.9988 - val_loss: 2.6407\n",
      "Epoch 2/5\n",
      "1017/1017 - 11s - loss: 1.9796 - val_loss: 1.5810\n",
      "Epoch 3/5\n",
      "1017/1017 - 11s - loss: 1.6859 - val_loss: 1.5334\n",
      "Epoch 4/5\n",
      "1017/1017 - 13s - loss: 1.6538 - val_loss: 1.5206\n",
      "Epoch 5/5\n",
      "1017/1017 - 14s - loss: 1.6306 - val_loss: 1.5130\n",
      "MSE: 1.5114014\n",
      "optimizer:SGD | embedding_dim:32 | lr:0.0001 | dropout:0.5 | hidden_units:(128, 128) | epochs:5 | batch_size:64\n",
      "Epoch 1/5\n"
     ]
    },
    {
     "name": "stderr",
     "output_type": "stream",
     "text": [
      "C:\\Users\\Montr\\anaconda3\\lib\\site-packages\\tensorflow\\python\\framework\\indexed_slices.py:433: UserWarning: Converting sparse IndexedSlices to a dense Tensor of unknown shape. This may consume a large amount of memory.\n",
      "  \"Converting sparse IndexedSlices to a dense Tensor of unknown shape. \"\n"
     ]
    },
    {
     "name": "stdout",
     "output_type": "stream",
     "text": [
      "509/509 - 8s - loss: 11.9056 - val_loss: 6.7441\n",
      "Epoch 2/5\n",
      "509/509 - 7s - loss: 4.3976 - val_loss: 2.7533\n",
      "Epoch 3/5\n",
      "509/509 - 7s - loss: 2.2466 - val_loss: 1.7751\n",
      "Epoch 4/5\n",
      "509/509 - 7s - loss: 1.7729 - val_loss: 1.5860\n",
      "Epoch 5/5\n",
      "509/509 - 6s - loss: 1.6952 - val_loss: 1.5475\n",
      "MSE: 1.5153863\n",
      "optimizer:SGD | embedding_dim:128 | lr:0.0001 | dropout:0.5 | hidden_units:(128, 128) | epochs:3 | batch_size:32\n",
      "Epoch 1/3\n"
     ]
    },
    {
     "name": "stderr",
     "output_type": "stream",
     "text": [
      "C:\\Users\\Montr\\anaconda3\\lib\\site-packages\\tensorflow\\python\\framework\\indexed_slices.py:433: UserWarning: Converting sparse IndexedSlices to a dense Tensor of unknown shape. This may consume a large amount of memory.\n",
      "  \"Converting sparse IndexedSlices to a dense Tensor of unknown shape. \"\n"
     ]
    },
    {
     "name": "stdout",
     "output_type": "stream",
     "text": [
      "1017/1017 - 50s - loss: 7.9903 - val_loss: 2.6224\n",
      "Epoch 2/3\n",
      "1017/1017 - 50s - loss: 1.9738 - val_loss: 1.5796\n",
      "Epoch 3/3\n",
      "1017/1017 - 53s - loss: 1.7021 - val_loss: 1.5328\n",
      "MSE: 1.516604\n",
      "optimizer:SGD | embedding_dim:128 | lr:0.0001 | dropout:0.5 | hidden_units:(128, 128) | epochs:3 | batch_size:64\n",
      "Epoch 1/3\n"
     ]
    },
    {
     "name": "stderr",
     "output_type": "stream",
     "text": [
      "C:\\Users\\Montr\\anaconda3\\lib\\site-packages\\tensorflow\\python\\framework\\indexed_slices.py:433: UserWarning: Converting sparse IndexedSlices to a dense Tensor of unknown shape. This may consume a large amount of memory.\n",
      "  \"Converting sparse IndexedSlices to a dense Tensor of unknown shape. \"\n"
     ]
    },
    {
     "name": "stdout",
     "output_type": "stream",
     "text": [
      "509/509 - 29s - loss: 11.8020 - val_loss: 6.5802\n",
      "Epoch 2/3\n",
      "509/509 - 29s - loss: 4.2765 - val_loss: 2.6494\n",
      "Epoch 3/3\n",
      "509/509 - 28s - loss: 2.2032 - val_loss: 1.7401\n",
      "MSE: 1.6900598\n",
      "optimizer:SGD | embedding_dim:128 | lr:0.0001 | dropout:0.5 | hidden_units:(128, 128) | epochs:5 | batch_size:32\n",
      "Epoch 1/5\n"
     ]
    },
    {
     "name": "stderr",
     "output_type": "stream",
     "text": [
      "C:\\Users\\Montr\\anaconda3\\lib\\site-packages\\tensorflow\\python\\framework\\indexed_slices.py:433: UserWarning: Converting sparse IndexedSlices to a dense Tensor of unknown shape. This may consume a large amount of memory.\n",
      "  \"Converting sparse IndexedSlices to a dense Tensor of unknown shape. \"\n"
     ]
    },
    {
     "name": "stdout",
     "output_type": "stream",
     "text": [
      "1017/1017 - 50s - loss: 8.0406 - val_loss: 2.6662\n",
      "Epoch 2/5\n",
      "1017/1017 - 48s - loss: 1.9813 - val_loss: 1.5789\n",
      "Epoch 3/5\n",
      "1017/1017 - 48s - loss: 1.6820 - val_loss: 1.5320\n",
      "Epoch 4/5\n",
      "1017/1017 - 50s - loss: 1.6457 - val_loss: 1.5194\n",
      "Epoch 5/5\n",
      "1017/1017 - 52s - loss: 1.6317 - val_loss: 1.5119\n",
      "MSE: 1.5114014\n",
      "optimizer:SGD | embedding_dim:128 | lr:0.0001 | dropout:0.5 | hidden_units:(128, 128) | epochs:5 | batch_size:64\n",
      "Epoch 1/5\n"
     ]
    },
    {
     "name": "stderr",
     "output_type": "stream",
     "text": [
      "C:\\Users\\Montr\\anaconda3\\lib\\site-packages\\tensorflow\\python\\framework\\indexed_slices.py:433: UserWarning: Converting sparse IndexedSlices to a dense Tensor of unknown shape. This may consume a large amount of memory.\n",
      "  \"Converting sparse IndexedSlices to a dense Tensor of unknown shape. \"\n"
     ]
    },
    {
     "name": "stdout",
     "output_type": "stream",
     "text": [
      "509/509 - 26s - loss: 11.8015 - val_loss: 6.6154\n",
      "Epoch 2/5\n",
      "509/509 - 28s - loss: 4.2916 - val_loss: 2.6900\n",
      "Epoch 3/5\n",
      "509/509 - 28s - loss: 2.2156 - val_loss: 1.7598\n",
      "Epoch 4/5\n",
      "509/509 - 27s - loss: 1.7780 - val_loss: 1.5856\n",
      "Epoch 5/5\n",
      "509/509 - 24s - loss: 1.7028 - val_loss: 1.5477\n",
      "MSE: 1.5136153\n",
      "optimizer:SGD | embedding_dim:32 | lr:0.0001 | dropout:0.2 | hidden_units:(256, 128) | epochs:3 | batch_size:32\n",
      "Epoch 1/3\n"
     ]
    },
    {
     "name": "stderr",
     "output_type": "stream",
     "text": [
      "C:\\Users\\Montr\\anaconda3\\lib\\site-packages\\tensorflow\\python\\framework\\indexed_slices.py:433: UserWarning: Converting sparse IndexedSlices to a dense Tensor of unknown shape. This may consume a large amount of memory.\n",
      "  \"Converting sparse IndexedSlices to a dense Tensor of unknown shape. \"\n"
     ]
    },
    {
     "name": "stdout",
     "output_type": "stream",
     "text": [
      "1017/1017 - 14s - loss: 7.7406 - val_loss: 2.4801\n",
      "Epoch 2/3\n",
      "1017/1017 - 14s - loss: 1.8162 - val_loss: 1.5551\n",
      "Epoch 3/3\n",
      "1017/1017 - 15s - loss: 1.5770 - val_loss: 1.5239\n",
      "MSE: 1.5136153\n",
      "optimizer:SGD | embedding_dim:32 | lr:0.0001 | dropout:0.2 | hidden_units:(256, 128) | epochs:3 | batch_size:64\n",
      "Epoch 1/3\n"
     ]
    },
    {
     "name": "stderr",
     "output_type": "stream",
     "text": [
      "C:\\Users\\Montr\\anaconda3\\lib\\site-packages\\tensorflow\\python\\framework\\indexed_slices.py:433: UserWarning: Converting sparse IndexedSlices to a dense Tensor of unknown shape. This may consume a large amount of memory.\n",
      "  \"Converting sparse IndexedSlices to a dense Tensor of unknown shape. \"\n"
     ]
    },
    {
     "name": "stdout",
     "output_type": "stream",
     "text": [
      "509/509 - 9s - loss: 11.5380 - val_loss: 6.2763\n",
      "Epoch 2/3\n",
      "509/509 - 8s - loss: 3.9378 - val_loss: 2.4698\n",
      "Epoch 3/3\n",
      "509/509 - 10s - loss: 1.9948 - val_loss: 1.6830\n",
      "MSE: 1.5628736\n",
      "optimizer:SGD | embedding_dim:32 | lr:0.0001 | dropout:0.2 | hidden_units:(256, 128) | epochs:5 | batch_size:32\n",
      "Epoch 1/5\n"
     ]
    },
    {
     "name": "stderr",
     "output_type": "stream",
     "text": [
      "C:\\Users\\Montr\\anaconda3\\lib\\site-packages\\tensorflow\\python\\framework\\indexed_slices.py:433: UserWarning: Converting sparse IndexedSlices to a dense Tensor of unknown shape. This may consume a large amount of memory.\n",
      "  \"Converting sparse IndexedSlices to a dense Tensor of unknown shape. \"\n"
     ]
    },
    {
     "name": "stdout",
     "output_type": "stream",
     "text": [
      "1017/1017 - 15s - loss: 7.9137 - val_loss: 2.6340\n",
      "Epoch 2/5\n",
      "1017/1017 - 19s - loss: 1.8780 - val_loss: 1.5737\n",
      "Epoch 3/5\n",
      "1017/1017 - 21s - loss: 1.5842 - val_loss: 1.5278\n",
      "Epoch 4/5\n",
      "1017/1017 - 16s - loss: 1.5577 - val_loss: 1.5154\n",
      "Epoch 5/5\n",
      "1017/1017 - 15s - loss: 1.5499 - val_loss: 1.5085\n",
      "MSE: 1.5114014\n",
      "optimizer:SGD | embedding_dim:32 | lr:0.0001 | dropout:0.2 | hidden_units:(256, 128) | epochs:5 | batch_size:64\n",
      "Epoch 1/5\n"
     ]
    },
    {
     "name": "stderr",
     "output_type": "stream",
     "text": [
      "C:\\Users\\Montr\\anaconda3\\lib\\site-packages\\tensorflow\\python\\framework\\indexed_slices.py:433: UserWarning: Converting sparse IndexedSlices to a dense Tensor of unknown shape. This may consume a large amount of memory.\n",
      "  \"Converting sparse IndexedSlices to a dense Tensor of unknown shape. \"\n"
     ]
    },
    {
     "name": "stdout",
     "output_type": "stream",
     "text": [
      "509/509 - 9s - loss: 11.4315 - val_loss: 6.1084\n",
      "Epoch 2/5\n",
      "509/509 - 8s - loss: 3.7968 - val_loss: 2.3542\n",
      "Epoch 3/5\n",
      "509/509 - 10s - loss: 1.9314 - val_loss: 1.6447\n",
      "Epoch 4/5\n",
      "509/509 - 10s - loss: 1.6302 - val_loss: 1.5469\n",
      "Epoch 5/5\n",
      "509/509 - 10s - loss: 1.5893 - val_loss: 1.5297\n",
      "MSE: 1.515497\n",
      "optimizer:SGD | embedding_dim:128 | lr:0.0001 | dropout:0.2 | hidden_units:(256, 128) | epochs:3 | batch_size:32\n",
      "Epoch 1/3\n"
     ]
    },
    {
     "name": "stderr",
     "output_type": "stream",
     "text": [
      "C:\\Users\\Montr\\anaconda3\\lib\\site-packages\\tensorflow\\python\\framework\\indexed_slices.py:433: UserWarning: Converting sparse IndexedSlices to a dense Tensor of unknown shape. This may consume a large amount of memory.\n",
      "  \"Converting sparse IndexedSlices to a dense Tensor of unknown shape. \"\n"
     ]
    },
    {
     "name": "stdout",
     "output_type": "stream",
     "text": [
      "1017/1017 - 66s - loss: 7.8235 - val_loss: 2.5212\n",
      "Epoch 2/3\n",
      "1017/1017 - 64s - loss: 1.8392 - val_loss: 1.5661\n",
      "Epoch 3/3\n",
      "1017/1017 - 76s - loss: 1.5912 - val_loss: 1.5266\n",
      "MSE: 1.5241311\n",
      "optimizer:SGD | embedding_dim:128 | lr:0.0001 | dropout:0.2 | hidden_units:(256, 128) | epochs:3 | batch_size:64\n",
      "Epoch 1/3\n"
     ]
    },
    {
     "name": "stderr",
     "output_type": "stream",
     "text": [
      "C:\\Users\\Montr\\anaconda3\\lib\\site-packages\\tensorflow\\python\\framework\\indexed_slices.py:433: UserWarning: Converting sparse IndexedSlices to a dense Tensor of unknown shape. This may consume a large amount of memory.\n",
      "  \"Converting sparse IndexedSlices to a dense Tensor of unknown shape. \"\n"
     ]
    },
    {
     "name": "stdout",
     "output_type": "stream",
     "text": [
      "509/509 - 37s - loss: 11.6080 - val_loss: 6.3639\n",
      "Epoch 2/3\n",
      "509/509 - 31s - loss: 3.9759 - val_loss: 2.4781\n",
      "Epoch 3/3\n",
      "509/509 - 34s - loss: 1.9871 - val_loss: 1.6784\n",
      "MSE: 1.5628736\n",
      "optimizer:SGD | embedding_dim:128 | lr:0.0001 | dropout:0.2 | hidden_units:(256, 128) | epochs:5 | batch_size:32\n",
      "Epoch 1/5\n"
     ]
    },
    {
     "name": "stderr",
     "output_type": "stream",
     "text": [
      "C:\\Users\\Montr\\anaconda3\\lib\\site-packages\\tensorflow\\python\\framework\\indexed_slices.py:433: UserWarning: Converting sparse IndexedSlices to a dense Tensor of unknown shape. This may consume a large amount of memory.\n",
      "  \"Converting sparse IndexedSlices to a dense Tensor of unknown shape. \"\n"
     ]
    },
    {
     "name": "stdout",
     "output_type": "stream",
     "text": [
      "1017/1017 - 65s - loss: 7.6065 - val_loss: 2.3404\n",
      "Epoch 2/5\n",
      "1017/1017 - 65s - loss: 1.7793 - val_loss: 1.5507\n",
      "Epoch 3/5\n",
      "1017/1017 - 61s - loss: 1.5874 - val_loss: 1.5228\n",
      "Epoch 4/5\n",
      "1017/1017 - 51s - loss: 1.5662 - val_loss: 1.5120\n",
      "Epoch 5/5\n",
      "1017/1017 - 56s - loss: 1.5517 - val_loss: 1.5056\n",
      "MSE: 1.5114014\n",
      "optimizer:SGD | embedding_dim:128 | lr:0.0001 | dropout:0.2 | hidden_units:(256, 128) | epochs:5 | batch_size:64\n",
      "Epoch 1/5\n"
     ]
    },
    {
     "name": "stderr",
     "output_type": "stream",
     "text": [
      "C:\\Users\\Montr\\anaconda3\\lib\\site-packages\\tensorflow\\python\\framework\\indexed_slices.py:433: UserWarning: Converting sparse IndexedSlices to a dense Tensor of unknown shape. This may consume a large amount of memory.\n",
      "  \"Converting sparse IndexedSlices to a dense Tensor of unknown shape. \"\n"
     ]
    },
    {
     "name": "stdout",
     "output_type": "stream",
     "text": [
      "509/509 - 32s - loss: 11.3749 - val_loss: 6.0260\n",
      "Epoch 2/5\n",
      "509/509 - 26s - loss: 3.7305 - val_loss: 2.3090\n",
      "Epoch 3/5\n",
      "509/509 - 30s - loss: 1.9071 - val_loss: 1.6395\n",
      "Epoch 4/5\n",
      "509/509 - 30s - loss: 1.6295 - val_loss: 1.5489\n",
      "Epoch 5/5\n",
      "509/509 - 34s - loss: 1.5929 - val_loss: 1.5299\n",
      "MSE: 1.516604\n",
      "optimizer:SGD | embedding_dim:32 | lr:0.0001 | dropout:0.5 | hidden_units:(256, 128) | epochs:3 | batch_size:32\n",
      "Epoch 1/3\n"
     ]
    },
    {
     "name": "stderr",
     "output_type": "stream",
     "text": [
      "C:\\Users\\Montr\\anaconda3\\lib\\site-packages\\tensorflow\\python\\framework\\indexed_slices.py:433: UserWarning: Converting sparse IndexedSlices to a dense Tensor of unknown shape. This may consume a large amount of memory.\n",
      "  \"Converting sparse IndexedSlices to a dense Tensor of unknown shape. \"\n"
     ]
    },
    {
     "name": "stdout",
     "output_type": "stream",
     "text": [
      "1017/1017 - 17s - loss: 7.9148 - val_loss: 2.5686\n",
      "Epoch 2/3\n",
      "1017/1017 - 14s - loss: 1.9563 - val_loss: 1.5727\n",
      "Epoch 3/3\n",
      "1017/1017 - 14s - loss: 1.6889 - val_loss: 1.5298\n",
      "MSE: 1.516604\n",
      "optimizer:SGD | embedding_dim:32 | lr:0.0001 | dropout:0.5 | hidden_units:(256, 128) | epochs:3 | batch_size:64\n",
      "Epoch 1/3\n"
     ]
    },
    {
     "name": "stderr",
     "output_type": "stream",
     "text": [
      "C:\\Users\\Montr\\anaconda3\\lib\\site-packages\\tensorflow\\python\\framework\\indexed_slices.py:433: UserWarning: Converting sparse IndexedSlices to a dense Tensor of unknown shape. This may consume a large amount of memory.\n",
      "  \"Converting sparse IndexedSlices to a dense Tensor of unknown shape. \"\n"
     ]
    },
    {
     "name": "stdout",
     "output_type": "stream",
     "text": [
      "509/509 - 8s - loss: 11.5969 - val_loss: 6.3201\n",
      "Epoch 2/3\n",
      "509/509 - 7s - loss: 4.0265 - val_loss: 2.4903\n",
      "Epoch 3/3\n",
      "509/509 - 9s - loss: 2.0966 - val_loss: 1.6913\n",
      "MSE: 1.5638698\n",
      "optimizer:SGD | embedding_dim:32 | lr:0.0001 | dropout:0.5 | hidden_units:(256, 128) | epochs:5 | batch_size:32\n",
      "Epoch 1/5\n"
     ]
    },
    {
     "name": "stderr",
     "output_type": "stream",
     "text": [
      "C:\\Users\\Montr\\anaconda3\\lib\\site-packages\\tensorflow\\python\\framework\\indexed_slices.py:433: UserWarning: Converting sparse IndexedSlices to a dense Tensor of unknown shape. This may consume a large amount of memory.\n",
      "  \"Converting sparse IndexedSlices to a dense Tensor of unknown shape. \"\n"
     ]
    },
    {
     "name": "stdout",
     "output_type": "stream",
     "text": [
      "1017/1017 - 15s - loss: 7.7884 - val_loss: 2.4586\n",
      "Epoch 2/5\n",
      "1017/1017 - 15s - loss: 1.9139 - val_loss: 1.5624\n",
      "Epoch 3/5\n",
      "1017/1017 - 15s - loss: 1.6796 - val_loss: 1.5269\n",
      "Epoch 4/5\n",
      "1017/1017 - 16s - loss: 1.6461 - val_loss: 1.5161\n",
      "Epoch 5/5\n",
      "1017/1017 - 15s - loss: 1.6385 - val_loss: 1.5110\n",
      "MSE: 1.5114014\n",
      "optimizer:SGD | embedding_dim:32 | lr:0.0001 | dropout:0.5 | hidden_units:(256, 128) | epochs:5 | batch_size:64\n",
      "Epoch 1/5\n"
     ]
    },
    {
     "name": "stderr",
     "output_type": "stream",
     "text": [
      "C:\\Users\\Montr\\anaconda3\\lib\\site-packages\\tensorflow\\python\\framework\\indexed_slices.py:433: UserWarning: Converting sparse IndexedSlices to a dense Tensor of unknown shape. This may consume a large amount of memory.\n",
      "  \"Converting sparse IndexedSlices to a dense Tensor of unknown shape. \"\n"
     ]
    },
    {
     "name": "stdout",
     "output_type": "stream",
     "text": [
      "509/509 - 9s - loss: 11.5940 - val_loss: 6.3049\n",
      "Epoch 2/5\n",
      "509/509 - 9s - loss: 4.0216 - val_loss: 2.4769\n",
      "Epoch 3/5\n",
      "509/509 - 8s - loss: 2.0906 - val_loss: 1.6885\n",
      "Epoch 4/5\n",
      "509/509 - 8s - loss: 1.7492 - val_loss: 1.5636\n",
      "Epoch 5/5\n",
      "509/509 - 8s - loss: 1.6888 - val_loss: 1.5385\n",
      "MSE: 1.5136153\n",
      "optimizer:SGD | embedding_dim:128 | lr:0.0001 | dropout:0.5 | hidden_units:(256, 128) | epochs:3 | batch_size:32\n",
      "Epoch 1/3\n"
     ]
    },
    {
     "name": "stderr",
     "output_type": "stream",
     "text": [
      "C:\\Users\\Montr\\anaconda3\\lib\\site-packages\\tensorflow\\python\\framework\\indexed_slices.py:433: UserWarning: Converting sparse IndexedSlices to a dense Tensor of unknown shape. This may consume a large amount of memory.\n",
      "  \"Converting sparse IndexedSlices to a dense Tensor of unknown shape. \"\n"
     ]
    },
    {
     "name": "stdout",
     "output_type": "stream",
     "text": [
      "1017/1017 - 52s - loss: 7.9659 - val_loss: 2.6129\n",
      "Epoch 2/3\n",
      "1017/1017 - 54s - loss: 1.9604 - val_loss: 1.5760\n",
      "Epoch 3/3\n",
      "1017/1017 - 51s - loss: 1.6877 - val_loss: 1.5310\n",
      "MSE: 1.516604\n",
      "optimizer:SGD | embedding_dim:128 | lr:0.0001 | dropout:0.5 | hidden_units:(256, 128) | epochs:3 | batch_size:64\n",
      "Epoch 1/3\n"
     ]
    },
    {
     "name": "stderr",
     "output_type": "stream",
     "text": [
      "C:\\Users\\Montr\\anaconda3\\lib\\site-packages\\tensorflow\\python\\framework\\indexed_slices.py:433: UserWarning: Converting sparse IndexedSlices to a dense Tensor of unknown shape. This may consume a large amount of memory.\n",
      "  \"Converting sparse IndexedSlices to a dense Tensor of unknown shape. \"\n"
     ]
    },
    {
     "name": "stdout",
     "output_type": "stream",
     "text": [
      "509/509 - 30s - loss: 11.5535 - val_loss: 6.2313\n",
      "Epoch 2/3\n",
      "509/509 - 31s - loss: 3.9701 - val_loss: 2.4401\n",
      "Epoch 3/3\n",
      "509/509 - 26s - loss: 2.0843 - val_loss: 1.6815\n",
      "MSE: 1.5635377\n",
      "optimizer:SGD | embedding_dim:128 | lr:0.0001 | dropout:0.5 | hidden_units:(256, 128) | epochs:5 | batch_size:32\n",
      "Epoch 1/5\n"
     ]
    },
    {
     "name": "stderr",
     "output_type": "stream",
     "text": [
      "C:\\Users\\Montr\\anaconda3\\lib\\site-packages\\tensorflow\\python\\framework\\indexed_slices.py:433: UserWarning: Converting sparse IndexedSlices to a dense Tensor of unknown shape. This may consume a large amount of memory.\n",
      "  \"Converting sparse IndexedSlices to a dense Tensor of unknown shape. \"\n"
     ]
    },
    {
     "name": "stdout",
     "output_type": "stream",
     "text": [
      "1017/1017 - 48s - loss: 7.5687 - val_loss: 2.2948\n",
      "Epoch 2/5\n",
      "1017/1017 - 55s - loss: 1.8957 - val_loss: 1.5562\n",
      "Epoch 3/5\n",
      "1017/1017 - 54s - loss: 1.7059 - val_loss: 1.5260\n",
      "Epoch 4/5\n",
      "1017/1017 - 57s - loss: 1.6831 - val_loss: 1.5155\n",
      "Epoch 5/5\n",
      "1017/1017 - 51s - loss: 1.6677 - val_loss: 1.5097\n",
      "MSE: 1.5114014\n",
      "optimizer:SGD | embedding_dim:128 | lr:0.0001 | dropout:0.5 | hidden_units:(256, 128) | epochs:5 | batch_size:64\n",
      "Epoch 1/5\n"
     ]
    },
    {
     "name": "stderr",
     "output_type": "stream",
     "text": [
      "C:\\Users\\Montr\\anaconda3\\lib\\site-packages\\tensorflow\\python\\framework\\indexed_slices.py:433: UserWarning: Converting sparse IndexedSlices to a dense Tensor of unknown shape. This may consume a large amount of memory.\n",
      "  \"Converting sparse IndexedSlices to a dense Tensor of unknown shape. \"\n"
     ]
    },
    {
     "name": "stdout",
     "output_type": "stream",
     "text": [
      "509/509 - 28s - loss: 11.7677 - val_loss: 6.5839\n",
      "Epoch 2/5\n",
      "509/509 - 27s - loss: 4.2303 - val_loss: 2.6595\n",
      "Epoch 3/5\n",
      "509/509 - 27s - loss: 2.1812 - val_loss: 1.7526\n",
      "Epoch 4/5\n",
      "509/509 - 27s - loss: 1.7640 - val_loss: 1.5851\n",
      "Epoch 5/5\n",
      "509/509 - 27s - loss: 1.6859 - val_loss: 1.5469\n",
      "MSE: 1.5136153\n",
      "optimizer:SGD | embedding_dim:32 | lr:0.01 | dropout:0.2 | hidden_units:(128, 128) | epochs:3 | batch_size:32\n",
      "Epoch 1/3\n"
     ]
    },
    {
     "name": "stderr",
     "output_type": "stream",
     "text": [
      "C:\\Users\\Montr\\anaconda3\\lib\\site-packages\\tensorflow\\python\\framework\\indexed_slices.py:433: UserWarning: Converting sparse IndexedSlices to a dense Tensor of unknown shape. This may consume a large amount of memory.\n",
      "  \"Converting sparse IndexedSlices to a dense Tensor of unknown shape. \"\n"
     ]
    },
    {
     "name": "stdout",
     "output_type": "stream",
     "text": [
      "1017/1017 - 15s - loss: 1.5740 - val_loss: 1.4738\n",
      "Epoch 2/3\n",
      "1017/1017 - 13s - loss: 1.4592 - val_loss: 1.4415\n",
      "Epoch 3/3\n",
      "1017/1017 - 15s - loss: 1.4380 - val_loss: 1.4371\n",
      "MSE: 1.505756\n",
      "optimizer:SGD | embedding_dim:32 | lr:0.01 | dropout:0.2 | hidden_units:(128, 128) | epochs:3 | batch_size:64\n",
      "Epoch 1/3\n"
     ]
    },
    {
     "name": "stderr",
     "output_type": "stream",
     "text": [
      "C:\\Users\\Montr\\anaconda3\\lib\\site-packages\\tensorflow\\python\\framework\\indexed_slices.py:433: UserWarning: Converting sparse IndexedSlices to a dense Tensor of unknown shape. This may consume a large amount of memory.\n",
      "  \"Converting sparse IndexedSlices to a dense Tensor of unknown shape. \"\n"
     ]
    },
    {
     "name": "stdout",
     "output_type": "stream",
     "text": [
      "509/509 - 9s - loss: 1.6643 - val_loss: 1.4749\n",
      "Epoch 2/3\n",
      "509/509 - 9s - loss: 1.4775 - val_loss: 1.4579\n",
      "Epoch 3/3\n",
      "509/509 - 8s - loss: 1.4579 - val_loss: 1.4469\n",
      "MSE: 1.5076379\n",
      "optimizer:SGD | embedding_dim:32 | lr:0.01 | dropout:0.2 | hidden_units:(128, 128) | epochs:5 | batch_size:32\n",
      "Epoch 1/5\n"
     ]
    },
    {
     "name": "stderr",
     "output_type": "stream",
     "text": [
      "C:\\Users\\Montr\\anaconda3\\lib\\site-packages\\tensorflow\\python\\framework\\indexed_slices.py:433: UserWarning: Converting sparse IndexedSlices to a dense Tensor of unknown shape. This may consume a large amount of memory.\n",
      "  \"Converting sparse IndexedSlices to a dense Tensor of unknown shape. \"\n"
     ]
    },
    {
     "name": "stdout",
     "output_type": "stream",
     "text": [
      "1017/1017 - 15s - loss: 1.5728 - val_loss: 1.4557\n",
      "Epoch 2/5\n",
      "1017/1017 - 12s - loss: 1.4567 - val_loss: 1.4454\n",
      "Epoch 3/5\n",
      "1017/1017 - 16s - loss: 1.4356 - val_loss: 1.4332\n",
      "Epoch 4/5\n",
      "1017/1017 - 13s - loss: 1.4208 - val_loss: 1.4314\n",
      "Epoch 5/5\n",
      "1017/1017 - 12s - loss: 1.4029 - val_loss: 1.4317\n",
      "MSE: 1.507195\n",
      "optimizer:SGD | embedding_dim:32 | lr:0.01 | dropout:0.2 | hidden_units:(128, 128) | epochs:5 | batch_size:64\n",
      "Epoch 1/5\n"
     ]
    },
    {
     "name": "stderr",
     "output_type": "stream",
     "text": [
      "C:\\Users\\Montr\\anaconda3\\lib\\site-packages\\tensorflow\\python\\framework\\indexed_slices.py:433: UserWarning: Converting sparse IndexedSlices to a dense Tensor of unknown shape. This may consume a large amount of memory.\n",
      "  \"Converting sparse IndexedSlices to a dense Tensor of unknown shape. \"\n"
     ]
    },
    {
     "name": "stdout",
     "output_type": "stream",
     "text": [
      "509/509 - 7s - loss: 1.6641 - val_loss: 1.4851\n",
      "Epoch 2/5\n",
      "509/509 - 7s - loss: 1.4753 - val_loss: 1.5209\n",
      "Epoch 3/5\n",
      "509/509 - 7s - loss: 1.4566 - val_loss: 1.4575\n",
      "Epoch 4/5\n",
      "509/509 - 6s - loss: 1.4480 - val_loss: 1.4442\n",
      "Epoch 5/5\n",
      "509/509 - 7s - loss: 1.4383 - val_loss: 1.4449\n",
      "MSE: 1.4960151\n",
      "optimizer:SGD | embedding_dim:128 | lr:0.01 | dropout:0.2 | hidden_units:(128, 128) | epochs:3 | batch_size:32\n",
      "Epoch 1/3\n"
     ]
    },
    {
     "name": "stderr",
     "output_type": "stream",
     "text": [
      "C:\\Users\\Montr\\anaconda3\\lib\\site-packages\\tensorflow\\python\\framework\\indexed_slices.py:433: UserWarning: Converting sparse IndexedSlices to a dense Tensor of unknown shape. This may consume a large amount of memory.\n",
      "  \"Converting sparse IndexedSlices to a dense Tensor of unknown shape. \"\n"
     ]
    },
    {
     "name": "stdout",
     "output_type": "stream",
     "text": [
      "1017/1017 - 53s - loss: 1.5729 - val_loss: 1.4530\n",
      "Epoch 2/3\n",
      "1017/1017 - 52s - loss: 1.4575 - val_loss: 1.4356\n",
      "Epoch 3/3\n",
      "1017/1017 - 54s - loss: 1.4384 - val_loss: 1.4352\n",
      "MSE: 1.5039849\n",
      "optimizer:SGD | embedding_dim:128 | lr:0.01 | dropout:0.2 | hidden_units:(128, 128) | epochs:3 | batch_size:64\n",
      "Epoch 1/3\n"
     ]
    },
    {
     "name": "stderr",
     "output_type": "stream",
     "text": [
      "C:\\Users\\Montr\\anaconda3\\lib\\site-packages\\tensorflow\\python\\framework\\indexed_slices.py:433: UserWarning: Converting sparse IndexedSlices to a dense Tensor of unknown shape. This may consume a large amount of memory.\n",
      "  \"Converting sparse IndexedSlices to a dense Tensor of unknown shape. \"\n"
     ]
    },
    {
     "name": "stdout",
     "output_type": "stream",
     "text": [
      "509/509 - 30s - loss: 1.6641 - val_loss: 1.5015\n",
      "Epoch 2/3\n",
      "509/509 - 31s - loss: 1.4759 - val_loss: 1.4614\n",
      "Epoch 3/3\n",
      "509/509 - 29s - loss: 1.4575 - val_loss: 1.4530\n",
      "MSE: 1.5095196\n",
      "optimizer:SGD | embedding_dim:128 | lr:0.01 | dropout:0.2 | hidden_units:(128, 128) | epochs:5 | batch_size:32\n",
      "Epoch 1/5\n"
     ]
    },
    {
     "name": "stderr",
     "output_type": "stream",
     "text": [
      "C:\\Users\\Montr\\anaconda3\\lib\\site-packages\\tensorflow\\python\\framework\\indexed_slices.py:433: UserWarning: Converting sparse IndexedSlices to a dense Tensor of unknown shape. This may consume a large amount of memory.\n",
      "  \"Converting sparse IndexedSlices to a dense Tensor of unknown shape. \"\n"
     ]
    },
    {
     "name": "stdout",
     "output_type": "stream",
     "text": [
      "1017/1017 - 52s - loss: 1.5804 - val_loss: 1.4757\n",
      "Epoch 2/5\n",
      "1017/1017 - 46s - loss: 1.4583 - val_loss: 1.4510\n",
      "Epoch 3/5\n",
      "1017/1017 - 47s - loss: 1.4401 - val_loss: 1.4349\n",
      "Epoch 4/5\n",
      "1017/1017 - 48s - loss: 1.4267 - val_loss: 1.4275\n",
      "Epoch 5/5\n",
      "1017/1017 - 50s - loss: 1.4113 - val_loss: 1.4191\n",
      "MSE: 1.5039849\n",
      "optimizer:SGD | embedding_dim:128 | lr:0.01 | dropout:0.2 | hidden_units:(128, 128) | epochs:5 | batch_size:64\n",
      "Epoch 1/5\n"
     ]
    },
    {
     "name": "stderr",
     "output_type": "stream",
     "text": [
      "C:\\Users\\Montr\\anaconda3\\lib\\site-packages\\tensorflow\\python\\framework\\indexed_slices.py:433: UserWarning: Converting sparse IndexedSlices to a dense Tensor of unknown shape. This may consume a large amount of memory.\n",
      "  \"Converting sparse IndexedSlices to a dense Tensor of unknown shape. \"\n"
     ]
    },
    {
     "name": "stdout",
     "output_type": "stream",
     "text": [
      "509/509 - 24s - loss: 1.6613 - val_loss: 1.4793\n",
      "Epoch 2/5\n",
      "509/509 - 24s - loss: 1.4734 - val_loss: 1.4668\n",
      "Epoch 3/5\n",
      "509/509 - 25s - loss: 1.4575 - val_loss: 1.4488\n",
      "Epoch 4/5\n",
      "509/509 - 24s - loss: 1.4444 - val_loss: 1.4510\n",
      "Epoch 5/5\n",
      "509/509 - 25s - loss: 1.4351 - val_loss: 1.4343\n",
      "MSE: 1.5049812\n",
      "optimizer:SGD | embedding_dim:32 | lr:0.01 | dropout:0.5 | hidden_units:(128, 128) | epochs:3 | batch_size:32\n",
      "Epoch 1/3\n"
     ]
    },
    {
     "name": "stderr",
     "output_type": "stream",
     "text": [
      "C:\\Users\\Montr\\anaconda3\\lib\\site-packages\\tensorflow\\python\\framework\\indexed_slices.py:433: UserWarning: Converting sparse IndexedSlices to a dense Tensor of unknown shape. This may consume a large amount of memory.\n",
      "  \"Converting sparse IndexedSlices to a dense Tensor of unknown shape. \"\n"
     ]
    },
    {
     "name": "stdout",
     "output_type": "stream",
     "text": [
      "1017/1017 - 13s - loss: 1.5921 - val_loss: 1.4589\n",
      "Epoch 2/3\n",
      "1017/1017 - 13s - loss: 1.4578 - val_loss: 1.4466\n",
      "Epoch 3/3\n",
      "1017/1017 - 14s - loss: 1.4415 - val_loss: 1.4410\n",
      "MSE: 1.5032101\n",
      "optimizer:SGD | embedding_dim:32 | lr:0.01 | dropout:0.5 | hidden_units:(128, 128) | epochs:3 | batch_size:64\n",
      "Epoch 1/3\n"
     ]
    },
    {
     "name": "stderr",
     "output_type": "stream",
     "text": [
      "C:\\Users\\Montr\\anaconda3\\lib\\site-packages\\tensorflow\\python\\framework\\indexed_slices.py:433: UserWarning: Converting sparse IndexedSlices to a dense Tensor of unknown shape. This may consume a large amount of memory.\n",
      "  \"Converting sparse IndexedSlices to a dense Tensor of unknown shape. \"\n"
     ]
    },
    {
     "name": "stdout",
     "output_type": "stream",
     "text": [
      "509/509 - 9s - loss: 1.6924 - val_loss: 1.4810\n",
      "Epoch 2/3\n",
      "509/509 - 8s - loss: 1.4721 - val_loss: 1.4583\n",
      "Epoch 3/3\n",
      "509/509 - 7s - loss: 1.4573 - val_loss: 1.4562\n",
      "MSE: 1.5049812\n",
      "optimizer:SGD | embedding_dim:32 | lr:0.01 | dropout:0.5 | hidden_units:(128, 128) | epochs:5 | batch_size:32\n",
      "Epoch 1/5\n"
     ]
    },
    {
     "name": "stderr",
     "output_type": "stream",
     "text": [
      "C:\\Users\\Montr\\anaconda3\\lib\\site-packages\\tensorflow\\python\\framework\\indexed_slices.py:433: UserWarning: Converting sparse IndexedSlices to a dense Tensor of unknown shape. This may consume a large amount of memory.\n",
      "  \"Converting sparse IndexedSlices to a dense Tensor of unknown shape. \"\n"
     ]
    },
    {
     "name": "stdout",
     "output_type": "stream",
     "text": [
      "1017/1017 - 14s - loss: 1.5866 - val_loss: 1.4659\n",
      "Epoch 2/5\n",
      "1017/1017 - 14s - loss: 1.4586 - val_loss: 1.4495\n",
      "Epoch 3/5\n",
      "1017/1017 - 14s - loss: 1.4419 - val_loss: 1.4445\n",
      "Epoch 4/5\n",
      "1017/1017 - 15s - loss: 1.4299 - val_loss: 1.4286\n",
      "Epoch 5/5\n",
      "1017/1017 - 15s - loss: 1.4200 - val_loss: 1.4270\n",
      "MSE: 1.5021032\n",
      "optimizer:SGD | embedding_dim:32 | lr:0.01 | dropout:0.5 | hidden_units:(128, 128) | epochs:5 | batch_size:64\n",
      "Epoch 1/5\n"
     ]
    },
    {
     "name": "stderr",
     "output_type": "stream",
     "text": [
      "C:\\Users\\Montr\\anaconda3\\lib\\site-packages\\tensorflow\\python\\framework\\indexed_slices.py:433: UserWarning: Converting sparse IndexedSlices to a dense Tensor of unknown shape. This may consume a large amount of memory.\n",
      "  \"Converting sparse IndexedSlices to a dense Tensor of unknown shape. \"\n"
     ]
    },
    {
     "name": "stdout",
     "output_type": "stream",
     "text": [
      "509/509 - 9s - loss: 1.6877 - val_loss: 1.4682\n",
      "Epoch 2/5\n",
      "509/509 - 9s - loss: 1.4760 - val_loss: 1.4610\n",
      "Epoch 3/5\n",
      "509/509 - 9s - loss: 1.4575 - val_loss: 1.4569\n",
      "Epoch 4/5\n",
      "509/509 - 10s - loss: 1.4484 - val_loss: 1.4442\n",
      "Epoch 5/5\n",
      "509/509 - 8s - loss: 1.4391 - val_loss: 1.4407\n",
      "MSE: 1.4925836\n",
      "optimizer:SGD | embedding_dim:128 | lr:0.01 | dropout:0.5 | hidden_units:(128, 128) | epochs:3 | batch_size:32\n",
      "Epoch 1/3\n"
     ]
    },
    {
     "name": "stderr",
     "output_type": "stream",
     "text": [
      "C:\\Users\\Montr\\anaconda3\\lib\\site-packages\\tensorflow\\python\\framework\\indexed_slices.py:433: UserWarning: Converting sparse IndexedSlices to a dense Tensor of unknown shape. This may consume a large amount of memory.\n",
      "  \"Converting sparse IndexedSlices to a dense Tensor of unknown shape. \"\n"
     ]
    },
    {
     "name": "stdout",
     "output_type": "stream",
     "text": [
      "1017/1017 - 49s - loss: 1.5927 - val_loss: 1.4671\n",
      "Epoch 2/3\n",
      "1017/1017 - 49s - loss: 1.4590 - val_loss: 1.4441\n",
      "Epoch 3/3\n",
      "1017/1017 - 56s - loss: 1.4401 - val_loss: 1.4473\n",
      "MSE: 1.4936905\n",
      "optimizer:SGD | embedding_dim:128 | lr:0.01 | dropout:0.5 | hidden_units:(128, 128) | epochs:3 | batch_size:64\n",
      "Epoch 1/3\n"
     ]
    },
    {
     "name": "stderr",
     "output_type": "stream",
     "text": [
      "C:\\Users\\Montr\\anaconda3\\lib\\site-packages\\tensorflow\\python\\framework\\indexed_slices.py:433: UserWarning: Converting sparse IndexedSlices to a dense Tensor of unknown shape. This may consume a large amount of memory.\n",
      "  \"Converting sparse IndexedSlices to a dense Tensor of unknown shape. \"\n"
     ]
    },
    {
     "name": "stdout",
     "output_type": "stream",
     "text": [
      "509/509 - 28s - loss: 1.6897 - val_loss: 1.4722\n",
      "Epoch 2/3\n",
      "509/509 - 27s - loss: 1.4751 - val_loss: 1.4635\n",
      "Epoch 3/3\n",
      "509/509 - 28s - loss: 1.4574 - val_loss: 1.4509\n",
      "MSE: 1.5007749\n",
      "optimizer:SGD | embedding_dim:128 | lr:0.01 | dropout:0.5 | hidden_units:(128, 128) | epochs:5 | batch_size:32\n",
      "Epoch 1/5\n"
     ]
    },
    {
     "name": "stderr",
     "output_type": "stream",
     "text": [
      "C:\\Users\\Montr\\anaconda3\\lib\\site-packages\\tensorflow\\python\\framework\\indexed_slices.py:433: UserWarning: Converting sparse IndexedSlices to a dense Tensor of unknown shape. This may consume a large amount of memory.\n",
      "  \"Converting sparse IndexedSlices to a dense Tensor of unknown shape. \"\n"
     ]
    },
    {
     "name": "stdout",
     "output_type": "stream",
     "text": [
      "1017/1017 - 58s - loss: 1.5896 - val_loss: 1.4596\n",
      "Epoch 2/5\n",
      "1017/1017 - 57s - loss: 1.4564 - val_loss: 1.4492\n",
      "Epoch 3/5\n",
      "1017/1017 - 51s - loss: 1.4420 - val_loss: 1.4441\n",
      "Epoch 4/5\n",
      "1017/1017 - 51s - loss: 1.4308 - val_loss: 1.4463\n",
      "Epoch 5/5\n",
      "1017/1017 - 45s - loss: 1.4208 - val_loss: 1.4341\n",
      "MSE: 1.4977862\n",
      "optimizer:SGD | embedding_dim:128 | lr:0.01 | dropout:0.5 | hidden_units:(128, 128) | epochs:5 | batch_size:64\n",
      "Epoch 1/5\n"
     ]
    },
    {
     "name": "stderr",
     "output_type": "stream",
     "text": [
      "C:\\Users\\Montr\\anaconda3\\lib\\site-packages\\tensorflow\\python\\framework\\indexed_slices.py:433: UserWarning: Converting sparse IndexedSlices to a dense Tensor of unknown shape. This may consume a large amount of memory.\n",
      "  \"Converting sparse IndexedSlices to a dense Tensor of unknown shape. \"\n"
     ]
    },
    {
     "name": "stdout",
     "output_type": "stream",
     "text": [
      "509/509 - 24s - loss: 1.6879 - val_loss: 1.5167\n",
      "Epoch 2/5\n",
      "509/509 - 24s - loss: 1.4754 - val_loss: 1.4620\n",
      "Epoch 3/5\n",
      "509/509 - 24s - loss: 1.4575 - val_loss: 1.4571\n",
      "Epoch 4/5\n",
      "509/509 - 23s - loss: 1.4489 - val_loss: 1.4438\n",
      "Epoch 5/5\n",
      "509/509 - 24s - loss: 1.4391 - val_loss: 1.4470\n",
      "MSE: 1.5102944\n",
      "optimizer:SGD | embedding_dim:32 | lr:0.01 | dropout:0.2 | hidden_units:(256, 128) | epochs:3 | batch_size:32\n",
      "Epoch 1/3\n"
     ]
    },
    {
     "name": "stderr",
     "output_type": "stream",
     "text": [
      "C:\\Users\\Montr\\anaconda3\\lib\\site-packages\\tensorflow\\python\\framework\\indexed_slices.py:433: UserWarning: Converting sparse IndexedSlices to a dense Tensor of unknown shape. This may consume a large amount of memory.\n",
      "  \"Converting sparse IndexedSlices to a dense Tensor of unknown shape. \"\n"
     ]
    },
    {
     "name": "stdout",
     "output_type": "stream",
     "text": [
      "1017/1017 - 13s - loss: 1.5763 - val_loss: 1.4652\n",
      "Epoch 2/3\n",
      "1017/1017 - 13s - loss: 1.4589 - val_loss: 1.5203\n",
      "Epoch 3/3\n",
      "1017/1017 - 13s - loss: 1.4402 - val_loss: 1.4448\n",
      "MSE: 1.5045384\n",
      "optimizer:SGD | embedding_dim:32 | lr:0.01 | dropout:0.2 | hidden_units:(256, 128) | epochs:3 | batch_size:64\n",
      "Epoch 1/3\n"
     ]
    },
    {
     "name": "stderr",
     "output_type": "stream",
     "text": [
      "C:\\Users\\Montr\\anaconda3\\lib\\site-packages\\tensorflow\\python\\framework\\indexed_slices.py:433: UserWarning: Converting sparse IndexedSlices to a dense Tensor of unknown shape. This may consume a large amount of memory.\n",
      "  \"Converting sparse IndexedSlices to a dense Tensor of unknown shape. \"\n"
     ]
    },
    {
     "name": "stdout",
     "output_type": "stream",
     "text": [
      "509/509 - 8s - loss: 1.6616 - val_loss: 1.4717\n",
      "Epoch 2/3\n",
      "509/509 - 8s - loss: 1.4752 - val_loss: 1.4889\n",
      "Epoch 3/3\n",
      "509/509 - 8s - loss: 1.4556 - val_loss: 1.4436\n",
      "MSE: 1.5035422\n",
      "optimizer:SGD | embedding_dim:32 | lr:0.01 | dropout:0.2 | hidden_units:(256, 128) | epochs:5 | batch_size:32\n",
      "Epoch 1/5\n"
     ]
    },
    {
     "name": "stderr",
     "output_type": "stream",
     "text": [
      "C:\\Users\\Montr\\anaconda3\\lib\\site-packages\\tensorflow\\python\\framework\\indexed_slices.py:433: UserWarning: Converting sparse IndexedSlices to a dense Tensor of unknown shape. This may consume a large amount of memory.\n",
      "  \"Converting sparse IndexedSlices to a dense Tensor of unknown shape. \"\n"
     ]
    },
    {
     "name": "stdout",
     "output_type": "stream",
     "text": [
      "1017/1017 - 13s - loss: 1.5750 - val_loss: 1.4673\n",
      "Epoch 2/5\n",
      "1017/1017 - 12s - loss: 1.4583 - val_loss: 1.4511\n",
      "Epoch 3/5\n",
      "1017/1017 - 12s - loss: 1.4401 - val_loss: 1.4366\n",
      "Epoch 4/5\n",
      "1017/1017 - 13s - loss: 1.4243 - val_loss: 1.4514\n",
      "Epoch 5/5\n",
      "1017/1017 - 13s - loss: 1.4075 - val_loss: 1.4200\n",
      "MSE: 1.4895948\n",
      "optimizer:SGD | embedding_dim:32 | lr:0.01 | dropout:0.2 | hidden_units:(256, 128) | epochs:5 | batch_size:64\n",
      "Epoch 1/5\n"
     ]
    },
    {
     "name": "stderr",
     "output_type": "stream",
     "text": [
      "C:\\Users\\Montr\\anaconda3\\lib\\site-packages\\tensorflow\\python\\framework\\indexed_slices.py:433: UserWarning: Converting sparse IndexedSlices to a dense Tensor of unknown shape. This may consume a large amount of memory.\n",
      "  \"Converting sparse IndexedSlices to a dense Tensor of unknown shape. \"\n"
     ]
    },
    {
     "name": "stdout",
     "output_type": "stream",
     "text": [
      "509/509 - 8s - loss: 1.6640 - val_loss: 1.4752\n",
      "Epoch 2/5\n",
      "509/509 - 7s - loss: 1.4738 - val_loss: 1.4613\n",
      "Epoch 3/5\n",
      "509/509 - 7s - loss: 1.4597 - val_loss: 1.4548\n",
      "Epoch 4/5\n",
      "509/509 - 7s - loss: 1.4471 - val_loss: 1.4415\n",
      "Epoch 5/5\n",
      "509/509 - 7s - loss: 1.4350 - val_loss: 1.4305\n",
      "MSE: 1.5008855\n",
      "optimizer:SGD | embedding_dim:128 | lr:0.01 | dropout:0.2 | hidden_units:(256, 128) | epochs:3 | batch_size:32\n",
      "Epoch 1/3\n"
     ]
    },
    {
     "name": "stderr",
     "output_type": "stream",
     "text": [
      "C:\\Users\\Montr\\anaconda3\\lib\\site-packages\\tensorflow\\python\\framework\\indexed_slices.py:433: UserWarning: Converting sparse IndexedSlices to a dense Tensor of unknown shape. This may consume a large amount of memory.\n",
      "  \"Converting sparse IndexedSlices to a dense Tensor of unknown shape. \"\n"
     ]
    },
    {
     "name": "stdout",
     "output_type": "stream",
     "text": [
      "1017/1017 - 44s - loss: 1.5772 - val_loss: 1.4945\n",
      "Epoch 2/3\n",
      "1017/1017 - 44s - loss: 1.4559 - val_loss: 1.4496\n",
      "Epoch 3/3\n",
      "1017/1017 - 44s - loss: 1.4351 - val_loss: 1.4261\n",
      "MSE: 1.5013283\n",
      "optimizer:SGD | embedding_dim:128 | lr:0.01 | dropout:0.2 | hidden_units:(256, 128) | epochs:3 | batch_size:64\n",
      "Epoch 1/3\n"
     ]
    },
    {
     "name": "stderr",
     "output_type": "stream",
     "text": [
      "C:\\Users\\Montr\\anaconda3\\lib\\site-packages\\tensorflow\\python\\framework\\indexed_slices.py:433: UserWarning: Converting sparse IndexedSlices to a dense Tensor of unknown shape. This may consume a large amount of memory.\n",
      "  \"Converting sparse IndexedSlices to a dense Tensor of unknown shape. \"\n"
     ]
    },
    {
     "name": "stdout",
     "output_type": "stream",
     "text": [
      "509/509 - 24s - loss: 1.6574 - val_loss: 1.4886\n",
      "Epoch 2/3\n",
      "509/509 - 24s - loss: 1.4755 - val_loss: 1.4534\n",
      "Epoch 3/3\n",
      "509/509 - 24s - loss: 1.4559 - val_loss: 1.4432\n",
      "MSE: 1.4972327\n",
      "optimizer:SGD | embedding_dim:128 | lr:0.01 | dropout:0.2 | hidden_units:(256, 128) | epochs:5 | batch_size:32\n",
      "Epoch 1/5\n"
     ]
    },
    {
     "name": "stderr",
     "output_type": "stream",
     "text": [
      "C:\\Users\\Montr\\anaconda3\\lib\\site-packages\\tensorflow\\python\\framework\\indexed_slices.py:433: UserWarning: Converting sparse IndexedSlices to a dense Tensor of unknown shape. This may consume a large amount of memory.\n",
      "  \"Converting sparse IndexedSlices to a dense Tensor of unknown shape. \"\n"
     ]
    },
    {
     "name": "stdout",
     "output_type": "stream",
     "text": [
      "1017/1017 - 45s - loss: 1.5740 - val_loss: 1.4568\n",
      "Epoch 2/5\n",
      "1017/1017 - 46s - loss: 1.4569 - val_loss: 1.4430\n",
      "Epoch 3/5\n",
      "1017/1017 - 47s - loss: 1.4368 - val_loss: 1.4619\n",
      "Epoch 4/5\n",
      "1017/1017 - 47s - loss: 1.4190 - val_loss: 1.4174\n",
      "Epoch 5/5\n",
      "1017/1017 - 47s - loss: 1.3970 - val_loss: 1.4070\n",
      "MSE: 1.4959043\n",
      "optimizer:SGD | embedding_dim:128 | lr:0.01 | dropout:0.2 | hidden_units:(256, 128) | epochs:5 | batch_size:64\n",
      "Epoch 1/5\n"
     ]
    },
    {
     "name": "stderr",
     "output_type": "stream",
     "text": [
      "C:\\Users\\Montr\\anaconda3\\lib\\site-packages\\tensorflow\\python\\framework\\indexed_slices.py:433: UserWarning: Converting sparse IndexedSlices to a dense Tensor of unknown shape. This may consume a large amount of memory.\n",
      "  \"Converting sparse IndexedSlices to a dense Tensor of unknown shape. \"\n"
     ]
    },
    {
     "name": "stdout",
     "output_type": "stream",
     "text": [
      "509/509 - 26s - loss: 1.6604 - val_loss: 1.4893\n",
      "Epoch 2/5\n",
      "509/509 - 26s - loss: 1.4744 - val_loss: 1.4787\n",
      "Epoch 3/5\n",
      "509/509 - 25s - loss: 1.4565 - val_loss: 1.4505\n",
      "Epoch 4/5\n",
      "509/509 - 28s - loss: 1.4446 - val_loss: 1.4379\n",
      "Epoch 5/5\n",
      "509/509 - 30s - loss: 1.4346 - val_loss: 1.4331\n",
      "MSE: 1.5061988\n",
      "optimizer:SGD | embedding_dim:32 | lr:0.01 | dropout:0.5 | hidden_units:(256, 128) | epochs:3 | batch_size:32\n",
      "Epoch 1/3\n"
     ]
    },
    {
     "name": "stderr",
     "output_type": "stream",
     "text": [
      "C:\\Users\\Montr\\anaconda3\\lib\\site-packages\\tensorflow\\python\\framework\\indexed_slices.py:433: UserWarning: Converting sparse IndexedSlices to a dense Tensor of unknown shape. This may consume a large amount of memory.\n",
      "  \"Converting sparse IndexedSlices to a dense Tensor of unknown shape. \"\n"
     ]
    },
    {
     "name": "stdout",
     "output_type": "stream",
     "text": [
      "1017/1017 - 14s - loss: 1.5886 - val_loss: 1.4724\n",
      "Epoch 2/3\n",
      "1017/1017 - 14s - loss: 1.4574 - val_loss: 1.4651\n",
      "Epoch 3/3\n",
      "1017/1017 - 14s - loss: 1.4407 - val_loss: 1.4474\n",
      "MSE: 1.5114014\n",
      "optimizer:SGD | embedding_dim:32 | lr:0.01 | dropout:0.5 | hidden_units:(256, 128) | epochs:3 | batch_size:64\n",
      "Epoch 1/3\n"
     ]
    },
    {
     "name": "stderr",
     "output_type": "stream",
     "text": [
      "C:\\Users\\Montr\\anaconda3\\lib\\site-packages\\tensorflow\\python\\framework\\indexed_slices.py:433: UserWarning: Converting sparse IndexedSlices to a dense Tensor of unknown shape. This may consume a large amount of memory.\n",
      "  \"Converting sparse IndexedSlices to a dense Tensor of unknown shape. \"\n"
     ]
    },
    {
     "name": "stdout",
     "output_type": "stream",
     "text": [
      "509/509 - 9s - loss: 1.6912 - val_loss: 1.4804\n",
      "Epoch 2/3\n",
      "509/509 - 9s - loss: 1.4754 - val_loss: 1.4562\n",
      "Epoch 3/3\n",
      "509/509 - 8s - loss: 1.4596 - val_loss: 1.4562\n",
      "MSE: 1.5064201\n",
      "optimizer:SGD | embedding_dim:32 | lr:0.01 | dropout:0.5 | hidden_units:(256, 128) | epochs:5 | batch_size:32\n",
      "Epoch 1/5\n"
     ]
    },
    {
     "name": "stderr",
     "output_type": "stream",
     "text": [
      "C:\\Users\\Montr\\anaconda3\\lib\\site-packages\\tensorflow\\python\\framework\\indexed_slices.py:433: UserWarning: Converting sparse IndexedSlices to a dense Tensor of unknown shape. This may consume a large amount of memory.\n",
      "  \"Converting sparse IndexedSlices to a dense Tensor of unknown shape. \"\n"
     ]
    },
    {
     "name": "stdout",
     "output_type": "stream",
     "text": [
      "1017/1017 - 14s - loss: 1.5869 - val_loss: 1.4635\n",
      "Epoch 2/5\n",
      "1017/1017 - 16s - loss: 1.4591 - val_loss: 1.4454\n",
      "Epoch 3/5\n",
      "1017/1017 - 14s - loss: 1.4404 - val_loss: 1.4412\n",
      "Epoch 4/5\n",
      "1017/1017 - 15s - loss: 1.4294 - val_loss: 1.4335\n",
      "Epoch 5/5\n",
      "1017/1017 - 15s - loss: 1.4206 - val_loss: 1.4288\n",
      "MSE: 1.5075271\n",
      "optimizer:SGD | embedding_dim:32 | lr:0.01 | dropout:0.5 | hidden_units:(256, 128) | epochs:5 | batch_size:64\n",
      "Epoch 1/5\n"
     ]
    },
    {
     "name": "stderr",
     "output_type": "stream",
     "text": [
      "C:\\Users\\Montr\\anaconda3\\lib\\site-packages\\tensorflow\\python\\framework\\indexed_slices.py:433: UserWarning: Converting sparse IndexedSlices to a dense Tensor of unknown shape. This may consume a large amount of memory.\n",
      "  \"Converting sparse IndexedSlices to a dense Tensor of unknown shape. \"\n"
     ]
    },
    {
     "name": "stdout",
     "output_type": "stream",
     "text": [
      "509/509 - 10s - loss: 1.6899 - val_loss: 1.4784\n",
      "Epoch 2/5\n",
      "509/509 - 8s - loss: 1.4755 - val_loss: 1.4591\n",
      "Epoch 3/5\n",
      "509/509 - 8s - loss: 1.4568 - val_loss: 1.4479\n",
      "Epoch 4/5\n",
      "509/509 - 8s - loss: 1.4456 - val_loss: 1.4610\n",
      "Epoch 5/5\n",
      "509/509 - 7s - loss: 1.4388 - val_loss: 1.4569\n",
      "MSE: 1.5114014\n",
      "optimizer:SGD | embedding_dim:128 | lr:0.01 | dropout:0.5 | hidden_units:(256, 128) | epochs:3 | batch_size:32\n",
      "Epoch 1/3\n"
     ]
    },
    {
     "name": "stderr",
     "output_type": "stream",
     "text": [
      "C:\\Users\\Montr\\anaconda3\\lib\\site-packages\\tensorflow\\python\\framework\\indexed_slices.py:433: UserWarning: Converting sparse IndexedSlices to a dense Tensor of unknown shape. This may consume a large amount of memory.\n",
      "  \"Converting sparse IndexedSlices to a dense Tensor of unknown shape. \"\n"
     ]
    },
    {
     "name": "stdout",
     "output_type": "stream",
     "text": [
      "1017/1017 - 46s - loss: 1.5851 - val_loss: 1.4757\n",
      "Epoch 2/3\n",
      "1017/1017 - 45s - loss: 1.4589 - val_loss: 1.4457\n",
      "Epoch 3/3\n",
      "1017/1017 - 45s - loss: 1.4410 - val_loss: 1.4431\n",
      "MSE: 1.4980075\n",
      "optimizer:SGD | embedding_dim:128 | lr:0.01 | dropout:0.5 | hidden_units:(256, 128) | epochs:3 | batch_size:64\n",
      "Epoch 1/3\n"
     ]
    },
    {
     "name": "stderr",
     "output_type": "stream",
     "text": [
      "C:\\Users\\Montr\\anaconda3\\lib\\site-packages\\tensorflow\\python\\framework\\indexed_slices.py:433: UserWarning: Converting sparse IndexedSlices to a dense Tensor of unknown shape. This may consume a large amount of memory.\n",
      "  \"Converting sparse IndexedSlices to a dense Tensor of unknown shape. \"\n"
     ]
    },
    {
     "name": "stdout",
     "output_type": "stream",
     "text": [
      "509/509 - 25s - loss: 1.6889 - val_loss: 1.4711\n",
      "Epoch 2/3\n",
      "509/509 - 24s - loss: 1.4749 - val_loss: 1.4630\n",
      "Epoch 3/3\n",
      "509/509 - 25s - loss: 1.4556 - val_loss: 1.4992\n",
      "MSE: 1.5117334\n",
      "optimizer:SGD | embedding_dim:128 | lr:0.01 | dropout:0.5 | hidden_units:(256, 128) | epochs:5 | batch_size:32\n",
      "Epoch 1/5\n"
     ]
    },
    {
     "name": "stderr",
     "output_type": "stream",
     "text": [
      "C:\\Users\\Montr\\anaconda3\\lib\\site-packages\\tensorflow\\python\\framework\\indexed_slices.py:433: UserWarning: Converting sparse IndexedSlices to a dense Tensor of unknown shape. This may consume a large amount of memory.\n",
      "  \"Converting sparse IndexedSlices to a dense Tensor of unknown shape. \"\n"
     ]
    },
    {
     "name": "stdout",
     "output_type": "stream",
     "text": [
      "1017/1017 - 57s - loss: 1.5916 - val_loss: 1.4723\n",
      "Epoch 2/5\n",
      "1017/1017 - 60s - loss: 1.4574 - val_loss: 1.4444\n",
      "Epoch 3/5\n",
      "1017/1017 - 64s - loss: 1.4408 - val_loss: 1.4356\n",
      "Epoch 4/5\n",
      "1017/1017 - 62s - loss: 1.4300 - val_loss: 1.4397\n",
      "Epoch 5/5\n",
      "1017/1017 - 67s - loss: 1.4179 - val_loss: 1.4429\n",
      "MSE: 1.5102944\n",
      "optimizer:SGD | embedding_dim:128 | lr:0.01 | dropout:0.5 | hidden_units:(256, 128) | epochs:5 | batch_size:64\n",
      "Epoch 1/5\n"
     ]
    },
    {
     "name": "stderr",
     "output_type": "stream",
     "text": [
      "C:\\Users\\Montr\\anaconda3\\lib\\site-packages\\tensorflow\\python\\framework\\indexed_slices.py:433: UserWarning: Converting sparse IndexedSlices to a dense Tensor of unknown shape. This may consume a large amount of memory.\n",
      "  \"Converting sparse IndexedSlices to a dense Tensor of unknown shape. \"\n"
     ]
    },
    {
     "name": "stdout",
     "output_type": "stream",
     "text": [
      "509/509 - 28s - loss: 1.6934 - val_loss: 1.4692\n",
      "Epoch 2/5\n",
      "509/509 - 29s - loss: 1.4757 - val_loss: 1.4661\n",
      "Epoch 3/5\n",
      "509/509 - 27s - loss: 1.4557 - val_loss: 1.4560\n",
      "Epoch 4/5\n",
      "509/509 - 31s - loss: 1.4456 - val_loss: 1.4742\n",
      "Epoch 5/5\n",
      "509/509 - 30s - loss: 1.4374 - val_loss: 1.4440\n",
      "MSE: 1.5012176\n",
      "The best accuracy is 1.762674331665039\n",
      "WARNING:tensorflow:From C:\\Users\\Montr\\anaconda3\\lib\\site-packages\\tensorflow\\python\\training\\tracking\\tracking.py:111: Model.state_updates (from tensorflow.python.keras.engine.training) is deprecated and will be removed in a future version.\n",
      "Instructions for updating:\n",
      "This property should not be used in TensorFlow 2.0, as updates are applied automatically.\n",
      "WARNING:tensorflow:From C:\\Users\\Montr\\anaconda3\\lib\\site-packages\\tensorflow\\python\\training\\tracking\\tracking.py:111: Layer.updates (from tensorflow.python.keras.engine.base_layer) is deprecated and will be removed in a future version.\n",
      "Instructions for updating:\n",
      "This property should not be used in TensorFlow 2.0, as updates are applied automatically.\n",
      "INFO:tensorflow:Assets written to: WDLelectronicsRating\\assets\n"
     ]
    }
   ],
   "source": [
    "bestmodel={}\n",
    "bestaccuracy=0.0\n",
    "for optimizer in tuningConfig[\"optimizer\"]:\n",
    "    for learning_rate in tuningConfig[\"learning_rate\"]:\n",
    "        for dnn_hidden_units in tuningConfig[\"dnn_hidden_units\"]:\n",
    "            for dnn_dropout in tuningConfig[\"dnn_dropout\"]:\n",
    "                for embedding_dim in tuningConfig[\"embedding_dim\"]:\n",
    "                    for epochs in tuningConfig[\"epochs\"]:\n",
    "                        for batch_size in tuningConfig[\"batch_size\"]:                            \n",
    "                            model, accuracy = RecommenderWDL(electronicstraindata,electronicstestdata, sparse_features, \n",
    "                                            sequence_features, PK_features, target, batch_size, epochs, sep,\n",
    "                                            embedding_dim,dnn_dropout, dnn_hidden_units,optimizer,learning_rate)\n",
    "                            if accuracy >ccuracy:\n",
    "                                bestaccuracy = accuracy\n",
    "                                bestmodel = model\n",
    "\n",
    "print('The best accuracy is {0}'.format(bestaccuracy))\n",
    "# Save the model in order that we can use it as much as we want without training it everytime\n",
    "model.save(\"WDLelectronicsRating\")"
   ]
  },
  {
   "cell_type": "code",
   "execution_count": 26,
   "metadata": {},
   "outputs": [
    {
     "name": "stdout",
     "output_type": "stream",
     "text": [
      "optimizer:Adam | embedding_dim:32 | lr:0.0001 | dropout:0.5 | hidden_units:(128, 128) | epochs:3 | batch_size:126\n",
      "Epoch 1/3\n"
     ]
    },
    {
     "name": "stderr",
     "output_type": "stream",
     "text": [
      "C:\\Users\\Montr\\anaconda3\\lib\\site-packages\\tensorflow\\python\\framework\\indexed_slices.py:433: UserWarning: Converting sparse IndexedSlices to a dense Tensor of unknown shape. This may consume a large amount of memory.\n",
      "  \"Converting sparse IndexedSlices to a dense Tensor of unknown shape. \"\n"
     ]
    },
    {
     "name": "stdout",
     "output_type": "stream",
     "text": [
      "259/259 - 3s - loss: 9.1718 - val_loss: 1.4756\n",
      "Epoch 2/3\n",
      "259/259 - 3s - loss: 2.0017 - val_loss: 1.4420\n",
      "Epoch 3/3\n",
      "259/259 - 3s - loss: 1.7095 - val_loss: 1.4157\n",
      "MSE: 1.4980075\n"
     ]
    }
   ],
   "source": [
    "electronicsmodel = RecommenderWDL(electronicstraindata,electronicstestdata, sparse_features, sequence_features, PK_features,\n",
    "                                  target, batch_size, epochs, sep=\"&\")"
   ]
  },
  {
   "cell_type": "code",
   "execution_count": 36,
   "metadata": {},
   "outputs": [],
   "source": [
    "pred = pd.Series(electronicsmodel)"
   ]
  },
  {
   "cell_type": "code",
   "execution_count": 41,
   "metadata": {},
   "outputs": [],
   "source": [
    "# cloth"
   ]
  },
  {
   "cell_type": "code",
   "execution_count": 25,
   "metadata": {},
   "outputs": [],
   "source": [
    "df_modcloth_train=pd.read_csv(\"./df_modcloth_train.csv\") "
   ]
  },
  {
   "cell_type": "code",
   "execution_count": 6,
   "metadata": {},
   "outputs": [],
   "source": [
    "df_modcloth_train['rating'] = pd.to_numeric(df_modcloth_train['rating'], downcast='signed')"
   ]
  },
  {
   "cell_type": "code",
   "execution_count": 8,
   "metadata": {},
   "outputs": [
    {
     "data": {
      "text/plain": [
       "(14845, 9)"
      ]
     },
     "execution_count": 8,
     "metadata": {},
     "output_type": "execute_result"
    }
   ],
   "source": [
    "df_modcloth_train.shape"
   ]
  },
  {
   "cell_type": "code",
   "execution_count": 26,
   "metadata": {},
   "outputs": [],
   "source": [
    "df_modcloth_test = pd.read_csv(\"./df_modcloth_test.csv\") "
   ]
  },
  {
   "cell_type": "code",
   "execution_count": 27,
   "metadata": {},
   "outputs": [],
   "source": [
    "sparse_features = ['item_id', 'user_id','timestamp','size','brand', 'user_attr','category']\n",
    "\n",
    "sequence_features = ['model_attr']\n",
    "\n",
    "PK_features = ['item_id', 'user_id']\n",
    "\n",
    "target = ['rating']\n",
    "\n",
    "epochs = 5\n",
    "\n",
    "batch_size = 32"
   ]
  },
  {
   "cell_type": "code",
   "execution_count": 28,
   "metadata": {},
   "outputs": [
    {
     "name": "stdout",
     "output_type": "stream",
     "text": [
      "optimizer:SGD | embedding_dim:32 | lr:0.01 | dropout:0.2 | hidden_units:(256, 128) | epochs:5 | batch_size:32\n",
      "Epoch 1/5\n"
     ]
    },
    {
     "name": "stderr",
     "output_type": "stream",
     "text": [
      "C:\\Users\\Montr\\anaconda3\\lib\\site-packages\\tensorflow\\python\\framework\\indexed_slices.py:433: UserWarning: Converting sparse IndexedSlices to a dense Tensor of unknown shape. This may consume a large amount of memory.\n",
      "  \"Converting sparse IndexedSlices to a dense Tensor of unknown shape. \"\n"
     ]
    },
    {
     "name": "stdout",
     "output_type": "stream",
     "text": [
      "418/418 - 2s - loss: 1.2341 - val_loss: 1.0064\n",
      "Epoch 2/5\n",
      "418/418 - 2s - loss: 1.0182 - val_loss: 0.9917\n",
      "Epoch 3/5\n",
      "418/418 - 2s - loss: 0.9982 - val_loss: 0.9905\n",
      "Epoch 4/5\n",
      "418/418 - 2s - loss: 0.9817 - val_loss: 0.9861\n",
      "Epoch 5/5\n",
      "418/418 - 2s - loss: 0.9737 - val_loss: 0.9754\n",
      "MSE: 1.1091056\n"
     ]
    }
   ],
   "source": [
    "modclothmodel = RecommenderWDL(df_modcloth_train,df_modcloth_test, sparse_features, sequence_features, PK_features,\n",
    "                                  target, batch_size, epochs, sep=\"&\")"
   ]
  }
 ],
 "metadata": {
  "kernelspec": {
   "display_name": "Python 3",
   "language": "python",
   "name": "python3"
  },
  "language_info": {
   "codemirror_mode": {
    "name": "ipython",
    "version": 3
   },
   "file_extension": ".py",
   "mimetype": "text/x-python",
   "name": "python",
   "nbconvert_exporter": "python",
   "pygments_lexer": "ipython3",
   "version": "3.7.6"
  }
 },
 "nbformat": 4,
 "nbformat_minor": 4
}
