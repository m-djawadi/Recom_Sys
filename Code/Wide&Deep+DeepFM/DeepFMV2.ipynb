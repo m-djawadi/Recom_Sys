{
 "cells": [
  {
   "cell_type": "code",
   "execution_count": 26,
   "metadata": {},
   "outputs": [],
   "source": [
    "import numpy as np\n",
    "import pandas as pd\n",
    "from sklearn.preprocessing import LabelEncoder\n",
    "from tensorflow.python.keras.preprocessing.sequence import pad_sequences\n",
    "import tensorflow as tf\n",
    "from sklearn.metrics import accuracy_score,classification_report,mean_squared_error\n",
    "import math\n",
    "from deepctr.models import DeepFM,WDL \n",
    "from deepctr.feature_column import SparseFeat, VarLenSparseFeat\n",
    "from tensorflow import keras"
   ]
  },
  {
   "cell_type": "code",
   "execution_count": 30,
   "metadata": {},
   "outputs": [],
   "source": [
    "def RecommenderDeepFM(train, test, sparse_features, \n",
    "                   sequence_features, PK_features, target, batch_size, epochs, \n",
    "                   sep=\" \",embedding_dim=32,dnn_dropout=0.5,dnn_hidden_units=(128,128), \n",
    "                   optimizer='Adam', learning_rate=0.0001):\n",
    "    print('optimizer:{0} | embedding_dim:{1} | lr:{2} | dropout:{3} | hidden_units:{4} | epochs:{5} | batch_size:{6}'.format(optimizer,embedding_dim,\n",
    "                                                                            learning_rate,dnn_dropout,dnn_hidden_units,\n",
    "                                                                            epochs, batch_size))\n",
    "    traindata = train.copy()\n",
    "    testdata = test.copy()\n",
    "    \n",
    "    def split(x):\n",
    "        key_ans = x.split(sep)\n",
    "        key_ans = [k.strip() for k in key_ans]\n",
    "        for key in key_ans:\n",
    "            if key not in key2index:\n",
    "                # Notice : input value 0 is a special \"padding\",so we do not use 0 to encode valid feature for sequence input\n",
    "                key2index[key] = len(key2index) + 1\n",
    "        return list(map(lambda x: key2index[x], key_ans))  \n",
    "    \n",
    "    traindata[target[0]] = pd.to_numeric(traindata[target[0]], downcast='signed')\n",
    "    \n",
    "    testdata[target[0]] = pd.to_numeric(testdata[target[0]], downcast='signed')\n",
    "    \n",
    "    data = pd.concat([traindata,testdata], ignore_index = True)\n",
    "    \n",
    "    # 1.Label Encoding for sparse features,and process sequence features\n",
    "    for feat in sparse_features:\n",
    "        lbe = LabelEncoder()\n",
    "        #data[feat] = lbe.fit_transform(data[feat])  \n",
    "        data[feat + \"_Encoding\"] = lbe.fit_transform(data[feat])\n",
    "    \n",
    "    fixlen_feature_columns = [SparseFeat(feat + \"_Encoding\", data[feat + \"_Encoding\"].nunique(),embedding_dim=embedding_dim)\n",
    "                            for feat in sparse_features]\n",
    "    \n",
    "    \n",
    "    linear_feature_columns = fixlen_feature_columns\n",
    "    dnn_feature_columns = fixlen_feature_columns  \n",
    "    \n",
    "    for feat in sequence_features:    \n",
    "        key2index = {}\n",
    "        templist = list(map(split, data[feat].values))\n",
    "        length = np.array(list(map(len, templist)))\n",
    "        max_len = max(length)\n",
    "        # Notice : padding=`post`\n",
    "        templist = pad_sequences(templist, maxlen = max_len, padding = 'post', )\n",
    "        \n",
    "        use_weighted_sequence = False\n",
    "        if use_weighted_sequence:\n",
    "            varlen_feature_columns = [VarLenSparseFeat(SparseFeat(feat + \"_Encoding\",vocabulary_size=len(key2index) + 1,\n",
    "                                        embedding_dim = embedding_dim), maxlen = max_len, combiner='mean',weight_name = feat + \"_Encoding\" + \"_weight\")]  # Notice : value 0 is for padding for sequence input feature\n",
    "        else:\n",
    "            varlen_feature_columns = [VarLenSparseFeat(SparseFeat(feat + \"_Encoding\",vocabulary_size= len(key2index) + 1,\n",
    "                                        embedding_dim = embedding_dim), maxlen = max_len, combiner='mean',weight_name = None)]  # Notice : value 0 is for padding for sequence input feature\n",
    "    \n",
    "        dnn_feature_columns += varlen_feature_columns\n",
    "        linear_feature_columns += varlen_feature_columns    \n",
    "        data[feat + \"_Encoding\"] = list(templist)  \n",
    "\n",
    "    # 2. generate input data for model\n",
    "    encodedfeat = [feat +'_Encoding' for feat in sparse_features + sequence_features]\n",
    "    encodedfeat = PK_features + target + encodedfeat\n",
    "\n",
    "    traindata.drop(columns=target,inplace =True)\n",
    "    trainEncoded = data.merge(traindata,on = PK_features).loc[:,encodedfeat]\n",
    "\n",
    "    testdata.drop(columns=target,inplace =True)\n",
    "    testEncoded = data.merge(testdata,on = PK_features).loc[:,encodedfeat]\n",
    "\n",
    "    model_input = {feat + \"_Encoding\":trainEncoded[feat + \"_Encoding\"] for feat in sparse_features} \n",
    "    for feat in sequence_features:\n",
    "        model_input[feat + \"_Encoding\"] = np.array([d.T for d in trainEncoded[feat + \"_Encoding\"].values])\n",
    "\n",
    "    test_model_input = {feat + \"_Encoding\":testEncoded[feat + \"_Encoding\"] for feat in sparse_features} \n",
    "    for feat in sequence_features:\n",
    "        test_model_input[feat + \"_Encoding\"] = np.array([d.T for d in testEncoded[feat + \"_Encoding\"].values])\n",
    "\n",
    "    # 3.Define Model,train,predict and evaluate\n",
    "    DeepFMModel = DeepFM(linear_feature_columns,dnn_feature_columns,task='regression')\n",
    "    \n",
    "    opt = ''\n",
    "    \n",
    "    if optimizer == 'Adam':        \n",
    "        opt = tf.keras.optimizers.Adam(learning_rate=learning_rate)\n",
    "    else:\n",
    "        opt = tf.keras.optimizers.SDG(learning_rate=learning_rate)\n",
    "        \n",
    "    DeepFMModel.compile(\"adam\", \"mse\", metrics=['mse'], )\n",
    "    \n",
    "    historyDeepFMModel = DeepFMModel.fit(model_input, data[target].values,\n",
    "                            batch_size=32, epochs=3, verbose=2, validation_split=0.2, )\n",
    "\n",
    "    # 4. make class predictions with the model and evaluation\n",
    "    predictions = DeepFMModel.predict(test_model_input)    \n",
    "    \n",
    "    maxrating = testEncoded[target].max()[0]\n",
    "    minrating = testEncoded[target].min()[0]   \n",
    "    \n",
    "    predictions_rounded = []\n",
    "    for x in predictions:\n",
    "        if x > maxrating:\n",
    "            predictions_rounded.append(maxrating)\n",
    "        elif x < minrating:\n",
    "            predictions_rounded.append(minrating)\n",
    "        else:\n",
    "            predictions_rounded.append(round(x[0]))   \n",
    "    \n",
    "    MSE = mean_squared_error(testEncoded[target].values, predictions_rounded)\n",
    "    print(\"MSE:\",MSE)   \n",
    "    \n",
    "    return (DeepFMModel, MSE)"
   ]
  },
  {
   "cell_type": "code",
   "execution_count": 28,
   "metadata": {},
   "outputs": [],
   "source": [
    "traindata = pd.read_csv(\"./Movies_train.csv\") "
   ]
  },
  {
   "cell_type": "code",
   "execution_count": 29,
   "metadata": {},
   "outputs": [],
   "source": [
    "testdata = pd.read_csv(\"./Movies_test.csv\") "
   ]
  },
  {
   "cell_type": "code",
   "execution_count": 31,
   "metadata": {},
   "outputs": [],
   "source": [
    "sparse_features = ['NAME', 'USER_MD5', 'MOVIE_ID', \n",
    "                   'DOUBAN_SCORE', 'DOUBAN_VOTES']\n",
    "\n",
    "sequence_features = ['ACTORS', 'DIRECTORS', 'GENRES', 'REGIONS', \n",
    "                     'TAGS', 'LANGUAGES', 'MovieNameWord']\n",
    "\n",
    "PK_features = ['USER_MD5', 'MOVIE_ID']\n",
    "\n",
    "target = ['RATING']\n",
    "\n",
    "epochs = 3\n",
    "\n",
    "batch_size = 32"
   ]
  },
  {
   "cell_type": "code",
   "execution_count": 32,
   "metadata": {},
   "outputs": [
    {
     "name": "stdout",
     "output_type": "stream",
     "text": [
      "optimizer:Adam | embedding_dim:32 | lr:0.0001 | dropout:0.5 | hidden_units:(128, 128) | epochs:3 | batch_size:32\n",
      "Epoch 1/3\n"
     ]
    },
    {
     "name": "stderr",
     "output_type": "stream",
     "text": [
      "C:\\Users\\Montr\\anaconda3\\lib\\site-packages\\tensorflow\\python\\framework\\indexed_slices.py:433: UserWarning: Converting sparse IndexedSlices to a dense Tensor of unknown shape. This may consume a large amount of memory.\n",
      "  \"Converting sparse IndexedSlices to a dense Tensor of unknown shape. \"\n"
     ]
    },
    {
     "name": "stdout",
     "output_type": "stream",
     "text": [
      "4409/4409 - 218s - loss: 0.9965 - mse: 0.9639 - val_loss: 1.0234 - val_mse: 0.9655\n",
      "Epoch 2/3\n",
      "4409/4409 - 273s - loss: 0.7365 - mse: 0.6669 - val_loss: 1.0589 - val_mse: 0.9762\n",
      "Epoch 3/3\n",
      "4409/4409 - 272s - loss: 0.6281 - mse: 0.5378 - val_loss: 1.1167 - val_mse: 1.0160\n",
      "MSE: 1.0871538\n"
     ]
    }
   ],
   "source": [
    "model = RecommenderDeepFM(traindata,testdata, sparse_features, sequence_features,PK_features, target, batch_size, epochs, sep=\"|\")"
   ]
  },
  {
   "cell_type": "code",
   "execution_count": 13,
   "metadata": {},
   "outputs": [],
   "source": [
    "# Amazon Electronics"
   ]
  },
  {
   "cell_type": "code",
   "execution_count": 18,
   "metadata": {},
   "outputs": [],
   "source": [
    "electronicstraindata = pd.read_csv(\"./df_electronics_train.csv\") "
   ]
  },
  {
   "cell_type": "code",
   "execution_count": 19,
   "metadata": {},
   "outputs": [],
   "source": [
    "electronicstestdata = pd.read_csv(\"./df_electronics_test.csv\") "
   ]
  },
  {
   "cell_type": "code",
   "execution_count": 20,
   "metadata": {},
   "outputs": [],
   "source": [
    "sparse_features = ['item_id','timestamp', 'user_id','brand', 'user_attr']\n",
    "\n",
    "sequence_features = ['model_attr', 'category']\n",
    "\n",
    "PK_features = ['item_id', 'user_id']\n",
    "\n",
    "target = ['rating']\n",
    "\n",
    "sep=\"&\"\n",
    "\n",
    "epochs = 3\n",
    "\n",
    "batch_size = 126"
   ]
  },
  {
   "cell_type": "code",
   "execution_count": 23,
   "metadata": {},
   "outputs": [
    {
     "name": "stdout",
     "output_type": "stream",
     "text": [
      "optimizer:Adam | embedding_dim:32 | lr:0.0001 | dropout:0.5 | hidden_units:(128, 128) | epochs:3 | batch_size:32\n",
      "Epoch 1/3\n"
     ]
    },
    {
     "name": "stderr",
     "output_type": "stream",
     "text": [
      "C:\\Users\\Montr\\anaconda3\\lib\\site-packages\\tensorflow\\python\\framework\\indexed_slices.py:433: UserWarning: Converting sparse IndexedSlices to a dense Tensor of unknown shape. This may consume a large amount of memory.\n",
      "  \"Converting sparse IndexedSlices to a dense Tensor of unknown shape. \"\n"
     ]
    },
    {
     "name": "stdout",
     "output_type": "stream",
     "text": [
      "904/904 - 27s - loss: 1.8103 - mse: 1.8088 - val_loss: 1.3980 - val_mse: 1.3942\n",
      "Epoch 2/3\n",
      "904/904 - 29s - loss: 0.6482 - mse: 0.6421 - val_loss: 1.8083 - val_mse: 1.7998\n",
      "Epoch 3/3\n",
      "904/904 - 28s - loss: 0.3187 - mse: 0.3087 - val_loss: 1.4999 - val_mse: 1.4882\n",
      "MSE: 1.5750498\n"
     ]
    }
   ],
   "source": [
    "model = RecommenderDeepFM(electronicstraindata,electronicstestdata, sparse_features, sequence_features, PK_features,\n",
    "                                  target, batch_size, epochs, sep=\"&\")"
   ]
  },
  {
   "cell_type": "code",
   "execution_count": 33,
   "metadata": {},
   "outputs": [],
   "source": [
    "df_modcloth_train=pd.read_csv(\"./df_modcloth_train.csv\") "
   ]
  },
  {
   "cell_type": "code",
   "execution_count": 34,
   "metadata": {},
   "outputs": [],
   "source": [
    "df_modcloth_test = pd.read_csv(\"./df_modcloth_test.csv\") "
   ]
  },
  {
   "cell_type": "code",
   "execution_count": 35,
   "metadata": {},
   "outputs": [],
   "source": [
    "sparse_features = ['item_id', 'user_id','timestamp','size','brand', 'user_attr','category']\n",
    "\n",
    "sequence_features = ['model_attr']\n",
    "\n",
    "PK_features = ['item_id', 'user_id']\n",
    "\n",
    "target = ['rating']\n",
    "\n",
    "epochs = 3\n",
    "\n",
    "batch_size = 32"
   ]
  },
  {
   "cell_type": "code",
   "execution_count": 36,
   "metadata": {},
   "outputs": [
    {
     "name": "stdout",
     "output_type": "stream",
     "text": [
      "optimizer:Adam | embedding_dim:32 | lr:0.0001 | dropout:0.5 | hidden_units:(128, 128) | epochs:3 | batch_size:32\n",
      "Epoch 1/3\n"
     ]
    },
    {
     "name": "stderr",
     "output_type": "stream",
     "text": [
      "C:\\Users\\Montr\\anaconda3\\lib\\site-packages\\tensorflow\\python\\framework\\indexed_slices.py:433: UserWarning: Converting sparse IndexedSlices to a dense Tensor of unknown shape. This may consume a large amount of memory.\n",
      "  \"Converting sparse IndexedSlices to a dense Tensor of unknown shape. \"\n"
     ]
    },
    {
     "name": "stdout",
     "output_type": "stream",
     "text": [
      "372/372 - 2s - loss: 1.8509 - mse: 1.8507 - val_loss: 1.0080 - val_mse: 1.0073\n",
      "Epoch 2/3\n",
      "372/372 - 2s - loss: 0.7217 - mse: 0.7203 - val_loss: 1.0922 - val_mse: 1.0901\n",
      "Epoch 3/3\n",
      "372/372 - 2s - loss: 0.4190 - mse: 0.4166 - val_loss: 1.1103 - val_mse: 1.1075\n",
      "MSE: 1.2381465\n"
     ]
    }
   ],
   "source": [
    "modclothmodel = RecommenderDeepFM(df_modcloth_train,df_modcloth_test, sparse_features, sequence_features, PK_features,\n",
    "                                  target, batch_size, epochs, sep=\"&\")"
   ]
  },
  {
   "cell_type": "code",
   "execution_count": 21,
   "metadata": {},
   "outputs": [],
   "source": [
    "tuningConfig = {\"batch_size\":[32,64],\n",
    "               \"epochs\":[3,5],\n",
    "               \"embedding_dim\":[32,128],\n",
    "               \"dnn_dropout\":[0.2,0.5,0.8],\n",
    "               \"dnn_hidden_units\":[(128,128),(256,128),(256,256)],\n",
    "               \"optimizer\":[\"Adam\",\"SGD\"],\n",
    "               \"learning_rate\":[0.0001,0.01,1]}"
   ]
  },
  {
   "cell_type": "code",
   "execution_count": 25,
   "metadata": {},
   "outputs": [
    {
     "name": "stdout",
     "output_type": "stream",
     "text": [
      "optimizer:Adam | embedding_dim:32 | lr:0.0001 | dropout:0.5 | hidden_units:(128, 128) | epochs:3 | batch_size:32\n",
      "Epoch 1/3\n"
     ]
    },
    {
     "name": "stderr",
     "output_type": "stream",
     "text": [
      "C:\\Users\\Montr\\anaconda3\\lib\\site-packages\\tensorflow\\python\\framework\\indexed_slices.py:433: UserWarning: Converting sparse IndexedSlices to a dense Tensor of unknown shape. This may consume a large amount of memory.\n",
      "  \"Converting sparse IndexedSlices to a dense Tensor of unknown shape. \"\n"
     ]
    },
    {
     "name": "stdout",
     "output_type": "stream",
     "text": [
      "904/904 - 30s - loss: 1.8326 - mse: 1.8312 - val_loss: 1.4054 - val_mse: 1.4017\n",
      "Epoch 2/3\n",
      "904/904 - 26s - loss: 0.6526 - mse: 0.6466 - val_loss: 1.5633 - val_mse: 1.5548\n",
      "Epoch 3/3\n",
      "904/904 - 26s - loss: 0.3159 - mse: 0.3062 - val_loss: 1.4919 - val_mse: 1.4806\n",
      "MSE: 1.5805844\n",
      "optimizer:Adam | embedding_dim:32 | lr:0.0001 | dropout:0.5 | hidden_units:(128, 128) | epochs:3 | batch_size:64\n",
      "Epoch 1/3\n"
     ]
    },
    {
     "name": "stderr",
     "output_type": "stream",
     "text": [
      "C:\\Users\\Montr\\anaconda3\\lib\\site-packages\\tensorflow\\python\\framework\\indexed_slices.py:433: UserWarning: Converting sparse IndexedSlices to a dense Tensor of unknown shape. This may consume a large amount of memory.\n",
      "  \"Converting sparse IndexedSlices to a dense Tensor of unknown shape. \"\n"
     ]
    },
    {
     "name": "stdout",
     "output_type": "stream",
     "text": [
      "452/452 - 12s - loss: 2.1239 - mse: 2.1231 - val_loss: 1.4089 - val_mse: 1.4067\n",
      "Epoch 2/3\n",
      "452/452 - 7s - loss: 0.6758 - mse: 0.6723 - val_loss: 1.4706 - val_mse: 1.4655\n",
      "Epoch 3/3\n",
      "452/452 - 9s - loss: 0.3143 - mse: 0.3084 - val_loss: 1.5368 - val_mse: 1.5300\n",
      "MSE: 1.6379234\n",
      "optimizer:Adam | embedding_dim:32 | lr:0.0001 | dropout:0.5 | hidden_units:(128, 128) | epochs:5 | batch_size:32\n",
      "Epoch 1/5\n"
     ]
    },
    {
     "name": "stderr",
     "output_type": "stream",
     "text": [
      "C:\\Users\\Montr\\anaconda3\\lib\\site-packages\\tensorflow\\python\\framework\\indexed_slices.py:433: UserWarning: Converting sparse IndexedSlices to a dense Tensor of unknown shape. This may consume a large amount of memory.\n",
      "  \"Converting sparse IndexedSlices to a dense Tensor of unknown shape. \"\n"
     ]
    },
    {
     "name": "stdout",
     "output_type": "stream",
     "text": [
      "904/904 - 25s - loss: 1.7881 - mse: 1.7866 - val_loss: 1.3910 - val_mse: 1.3872\n",
      "Epoch 2/5\n",
      "904/904 - 23s - loss: 0.6521 - mse: 0.6459 - val_loss: 1.4961 - val_mse: 1.4875\n",
      "Epoch 3/5\n",
      "904/904 - 22s - loss: 0.3180 - mse: 0.3081 - val_loss: 1.5763 - val_mse: 1.5649\n",
      "Epoch 4/5\n",
      "904/904 - 24s - loss: 0.1890 - mse: 0.1767 - val_loss: 1.6714 - val_mse: 1.6581\n",
      "Epoch 5/5\n",
      "904/904 - 23s - loss: 0.1358 - mse: 0.1219 - val_loss: 1.5861 - val_mse: 1.5714\n",
      "MSE: 1.6678104\n",
      "optimizer:Adam | embedding_dim:32 | lr:0.0001 | dropout:0.5 | hidden_units:(128, 128) | epochs:5 | batch_size:64\n",
      "Epoch 1/5\n"
     ]
    },
    {
     "name": "stderr",
     "output_type": "stream",
     "text": [
      "C:\\Users\\Montr\\anaconda3\\lib\\site-packages\\tensorflow\\python\\framework\\indexed_slices.py:433: UserWarning: Converting sparse IndexedSlices to a dense Tensor of unknown shape. This may consume a large amount of memory.\n",
      "  \"Converting sparse IndexedSlices to a dense Tensor of unknown shape. \"\n"
     ]
    },
    {
     "name": "stdout",
     "output_type": "stream",
     "text": [
      "452/452 - 14s - loss: 2.0814 - mse: 2.0806 - val_loss: 1.4010 - val_mse: 1.3988\n",
      "Epoch 2/5\n",
      "452/452 - 12s - loss: 0.6597 - mse: 0.6562 - val_loss: 1.5964 - val_mse: 1.5913\n",
      "Epoch 3/5\n",
      "452/452 - 12s - loss: 0.3071 - mse: 0.3013 - val_loss: 1.5494 - val_mse: 1.5428\n",
      "Epoch 4/5\n",
      "452/452 - 13s - loss: 0.1690 - mse: 0.1619 - val_loss: 1.6375 - val_mse: 1.6298\n",
      "Epoch 5/5\n",
      "452/452 - 13s - loss: 0.1189 - mse: 0.1108 - val_loss: 1.6118 - val_mse: 1.6032\n",
      "MSE: 1.699358\n",
      "optimizer:Adam | embedding_dim:32 | lr:0.0001 | dropout:0.5 | hidden_units:(128, 128) | epochs:3 | batch_size:32\n",
      "Epoch 1/3\n"
     ]
    },
    {
     "name": "stderr",
     "output_type": "stream",
     "text": [
      "C:\\Users\\Montr\\anaconda3\\lib\\site-packages\\tensorflow\\python\\framework\\indexed_slices.py:433: UserWarning: Converting sparse IndexedSlices to a dense Tensor of unknown shape. This may consume a large amount of memory.\n",
      "  \"Converting sparse IndexedSlices to a dense Tensor of unknown shape. \"\n"
     ]
    },
    {
     "name": "stdout",
     "output_type": "stream",
     "text": [
      "904/904 - 25s - loss: 1.8230 - mse: 1.8215 - val_loss: 1.4516 - val_mse: 1.4477\n",
      "Epoch 2/3\n",
      "904/904 - 24s - loss: 0.6477 - mse: 0.6417 - val_loss: 1.5263 - val_mse: 1.5182\n",
      "Epoch 3/3\n",
      "904/904 - 22s - loss: 0.3051 - mse: 0.2956 - val_loss: 1.4935 - val_mse: 1.4826\n",
      "MSE: 1.5729467\n",
      "optimizer:Adam | embedding_dim:32 | lr:0.0001 | dropout:0.5 | hidden_units:(128, 128) | epochs:3 | batch_size:64\n",
      "Epoch 1/3\n"
     ]
    },
    {
     "name": "stderr",
     "output_type": "stream",
     "text": [
      "C:\\Users\\Montr\\anaconda3\\lib\\site-packages\\tensorflow\\python\\framework\\indexed_slices.py:433: UserWarning: Converting sparse IndexedSlices to a dense Tensor of unknown shape. This may consume a large amount of memory.\n",
      "  \"Converting sparse IndexedSlices to a dense Tensor of unknown shape. \"\n"
     ]
    },
    {
     "name": "stdout",
     "output_type": "stream",
     "text": [
      "452/452 - 14s - loss: 2.1364 - mse: 2.1355 - val_loss: 1.3953 - val_mse: 1.3931\n",
      "Epoch 2/3\n",
      "452/452 - 13s - loss: 0.6631 - mse: 0.6596 - val_loss: 1.5006 - val_mse: 1.4955\n",
      "Epoch 3/3\n",
      "452/452 - 12s - loss: 0.2913 - mse: 0.2854 - val_loss: 1.5317 - val_mse: 1.5250\n",
      "MSE: 1.6089219\n",
      "optimizer:Adam | embedding_dim:32 | lr:0.0001 | dropout:0.5 | hidden_units:(128, 128) | epochs:5 | batch_size:32\n",
      "Epoch 1/5\n"
     ]
    },
    {
     "name": "stderr",
     "output_type": "stream",
     "text": [
      "C:\\Users\\Montr\\anaconda3\\lib\\site-packages\\tensorflow\\python\\framework\\indexed_slices.py:433: UserWarning: Converting sparse IndexedSlices to a dense Tensor of unknown shape. This may consume a large amount of memory.\n",
      "  \"Converting sparse IndexedSlices to a dense Tensor of unknown shape. \"\n"
     ]
    },
    {
     "name": "stdout",
     "output_type": "stream",
     "text": [
      "904/904 - 17s - loss: 1.7901 - mse: 1.7887 - val_loss: 1.5373 - val_mse: 1.5334\n",
      "Epoch 2/5\n",
      "904/904 - 23s - loss: 0.6308 - mse: 0.6248 - val_loss: 1.4909 - val_mse: 1.4830\n",
      "Epoch 3/5\n",
      "904/904 - 21s - loss: 0.3233 - mse: 0.3139 - val_loss: 1.5765 - val_mse: 1.5653\n",
      "Epoch 4/5\n",
      "904/904 - 25s - loss: 0.2023 - mse: 0.1902 - val_loss: 1.6366 - val_mse: 1.6233\n",
      "Epoch 5/5\n",
      "904/904 - 23s - loss: 0.1469 - mse: 0.1331 - val_loss: 1.5891 - val_mse: 1.5745\n",
      "MSE: 1.6580695\n",
      "optimizer:Adam | embedding_dim:32 | lr:0.0001 | dropout:0.5 | hidden_units:(128, 128) | epochs:5 | batch_size:64\n",
      "Epoch 1/5\n"
     ]
    },
    {
     "name": "stderr",
     "output_type": "stream",
     "text": [
      "C:\\Users\\Montr\\anaconda3\\lib\\site-packages\\tensorflow\\python\\framework\\indexed_slices.py:433: UserWarning: Converting sparse IndexedSlices to a dense Tensor of unknown shape. This may consume a large amount of memory.\n",
      "  \"Converting sparse IndexedSlices to a dense Tensor of unknown shape. \"\n"
     ]
    },
    {
     "name": "stdout",
     "output_type": "stream",
     "text": [
      "452/452 - 14s - loss: 2.1561 - mse: 2.1552 - val_loss: 1.3895 - val_mse: 1.3873\n",
      "Epoch 2/5\n",
      "452/452 - 13s - loss: 0.6773 - mse: 0.6736 - val_loss: 1.5162 - val_mse: 1.5108\n",
      "Epoch 3/5\n",
      "452/452 - 12s - loss: 0.3123 - mse: 0.3061 - val_loss: 1.4988 - val_mse: 1.4918\n",
      "Epoch 4/5\n",
      "452/452 - 12s - loss: 0.1667 - mse: 0.1593 - val_loss: 1.6491 - val_mse: 1.6411\n",
      "Epoch 5/5\n",
      "452/452 - 12s - loss: 0.1187 - mse: 0.1103 - val_loss: 1.6171 - val_mse: 1.6084\n",
      "MSE: 1.6876246\n",
      "optimizer:Adam | embedding_dim:32 | lr:0.0001 | dropout:0.5 | hidden_units:(128, 128) | epochs:3 | batch_size:32\n",
      "Epoch 1/3\n"
     ]
    },
    {
     "name": "stderr",
     "output_type": "stream",
     "text": [
      "C:\\Users\\Montr\\anaconda3\\lib\\site-packages\\tensorflow\\python\\framework\\indexed_slices.py:433: UserWarning: Converting sparse IndexedSlices to a dense Tensor of unknown shape. This may consume a large amount of memory.\n",
      "  \"Converting sparse IndexedSlices to a dense Tensor of unknown shape. \"\n"
     ]
    },
    {
     "name": "stdout",
     "output_type": "stream",
     "text": [
      "904/904 - 15s - loss: 1.8497 - mse: 1.8482 - val_loss: 1.4347 - val_mse: 1.4309\n",
      "Epoch 2/3\n",
      "904/904 - 19s - loss: 0.6487 - mse: 0.6425 - val_loss: 1.4695 - val_mse: 1.4608\n",
      "Epoch 3/3\n",
      "904/904 - 18s - loss: 0.3200 - mse: 0.3100 - val_loss: 1.4897 - val_mse: 1.4781\n",
      "MSE: 1.5665264\n",
      "optimizer:Adam | embedding_dim:32 | lr:0.0001 | dropout:0.5 | hidden_units:(128, 128) | epochs:3 | batch_size:64\n",
      "Epoch 1/3\n"
     ]
    },
    {
     "name": "stderr",
     "output_type": "stream",
     "text": [
      "C:\\Users\\Montr\\anaconda3\\lib\\site-packages\\tensorflow\\python\\framework\\indexed_slices.py:433: UserWarning: Converting sparse IndexedSlices to a dense Tensor of unknown shape. This may consume a large amount of memory.\n",
      "  \"Converting sparse IndexedSlices to a dense Tensor of unknown shape. \"\n"
     ]
    },
    {
     "name": "stdout",
     "output_type": "stream",
     "text": [
      "452/452 - 12s - loss: 2.0937 - mse: 2.0928 - val_loss: 1.3911 - val_mse: 1.3890\n",
      "Epoch 2/3\n",
      "452/452 - 7s - loss: 0.6721 - mse: 0.6685 - val_loss: 1.5436 - val_mse: 1.5383\n",
      "Epoch 3/3\n",
      "452/452 - 7s - loss: 0.3074 - mse: 0.3014 - val_loss: 1.5031 - val_mse: 1.4961\n",
      "MSE: 1.5970777\n",
      "optimizer:Adam | embedding_dim:32 | lr:0.0001 | dropout:0.5 | hidden_units:(128, 128) | epochs:5 | batch_size:32\n",
      "Epoch 1/5\n"
     ]
    },
    {
     "name": "stderr",
     "output_type": "stream",
     "text": [
      "C:\\Users\\Montr\\anaconda3\\lib\\site-packages\\tensorflow\\python\\framework\\indexed_slices.py:433: UserWarning: Converting sparse IndexedSlices to a dense Tensor of unknown shape. This may consume a large amount of memory.\n",
      "  \"Converting sparse IndexedSlices to a dense Tensor of unknown shape. \"\n"
     ]
    },
    {
     "name": "stdout",
     "output_type": "stream",
     "text": [
      "904/904 - 20s - loss: 1.8175 - mse: 1.8160 - val_loss: 1.3916 - val_mse: 1.3877\n",
      "Epoch 2/5\n",
      "904/904 - 13s - loss: 0.6305 - mse: 0.6245 - val_loss: 1.5344 - val_mse: 1.5263\n",
      "Epoch 3/5\n",
      "904/904 - 19s - loss: 0.3200 - mse: 0.3106 - val_loss: 1.5120 - val_mse: 1.5009\n",
      "Epoch 4/5\n",
      "904/904 - 18s - loss: 0.1787 - mse: 0.1669 - val_loss: 1.6502 - val_mse: 1.6375\n",
      "Epoch 5/5\n",
      "904/904 - 19s - loss: 0.1385 - mse: 0.1252 - val_loss: 1.6199 - val_mse: 1.6058\n",
      "MSE: 1.6995794\n",
      "optimizer:Adam | embedding_dim:32 | lr:0.0001 | dropout:0.5 | hidden_units:(128, 128) | epochs:5 | batch_size:64\n",
      "Epoch 1/5\n"
     ]
    },
    {
     "name": "stderr",
     "output_type": "stream",
     "text": [
      "C:\\Users\\Montr\\anaconda3\\lib\\site-packages\\tensorflow\\python\\framework\\indexed_slices.py:433: UserWarning: Converting sparse IndexedSlices to a dense Tensor of unknown shape. This may consume a large amount of memory.\n",
      "  \"Converting sparse IndexedSlices to a dense Tensor of unknown shape. \"\n"
     ]
    },
    {
     "name": "stdout",
     "output_type": "stream",
     "text": [
      "452/452 - 12s - loss: 2.1924 - mse: 2.1915 - val_loss: 1.4063 - val_mse: 1.4041\n",
      "Epoch 2/5\n",
      "452/452 - 11s - loss: 0.6631 - mse: 0.6594 - val_loss: 1.4812 - val_mse: 1.4759\n",
      "Epoch 3/5\n",
      "452/452 - 11s - loss: 0.3040 - mse: 0.2978 - val_loss: 1.4938 - val_mse: 1.4868\n",
      "Epoch 4/5\n",
      "452/452 - 13s - loss: 0.1730 - mse: 0.1654 - val_loss: 1.6057 - val_mse: 1.5974\n",
      "Epoch 5/5\n",
      "452/452 - 8s - loss: 0.1128 - mse: 0.1042 - val_loss: 1.5811 - val_mse: 1.5721\n",
      "MSE: 1.6512066\n",
      "optimizer:Adam | embedding_dim:32 | lr:0.0001 | dropout:0.5 | hidden_units:(128, 128) | epochs:3 | batch_size:32\n",
      "Epoch 1/3\n"
     ]
    },
    {
     "name": "stderr",
     "output_type": "stream",
     "text": [
      "C:\\Users\\Montr\\anaconda3\\lib\\site-packages\\tensorflow\\python\\framework\\indexed_slices.py:433: UserWarning: Converting sparse IndexedSlices to a dense Tensor of unknown shape. This may consume a large amount of memory.\n",
      "  \"Converting sparse IndexedSlices to a dense Tensor of unknown shape. \"\n"
     ]
    },
    {
     "name": "stdout",
     "output_type": "stream",
     "text": [
      "904/904 - 20s - loss: 1.8187 - mse: 1.8172 - val_loss: 1.3973 - val_mse: 1.3935\n",
      "Epoch 2/3\n",
      "904/904 - 18s - loss: 0.6561 - mse: 0.6500 - val_loss: 1.5104 - val_mse: 1.5018\n",
      "Epoch 3/3\n",
      "904/904 - 15s - loss: 0.3021 - mse: 0.2922 - val_loss: 1.5039 - val_mse: 1.4925\n",
      "MSE: 1.5649768\n",
      "optimizer:Adam | embedding_dim:32 | lr:0.0001 | dropout:0.5 | hidden_units:(128, 128) | epochs:3 | batch_size:64\n",
      "Epoch 1/3\n"
     ]
    },
    {
     "name": "stderr",
     "output_type": "stream",
     "text": [
      "C:\\Users\\Montr\\anaconda3\\lib\\site-packages\\tensorflow\\python\\framework\\indexed_slices.py:433: UserWarning: Converting sparse IndexedSlices to a dense Tensor of unknown shape. This may consume a large amount of memory.\n",
      "  \"Converting sparse IndexedSlices to a dense Tensor of unknown shape. \"\n"
     ]
    },
    {
     "name": "stdout",
     "output_type": "stream",
     "text": [
      "452/452 - 14s - loss: 2.1218 - mse: 2.1210 - val_loss: 1.4067 - val_mse: 1.4045\n",
      "Epoch 2/3\n",
      "452/452 - 12s - loss: 0.6678 - mse: 0.6642 - val_loss: 1.5118 - val_mse: 1.5066\n",
      "Epoch 3/3\n",
      "452/452 - 12s - loss: 0.3026 - mse: 0.2966 - val_loss: 1.5470 - val_mse: 1.5401\n",
      "MSE: 1.6433474\n",
      "optimizer:Adam | embedding_dim:32 | lr:0.0001 | dropout:0.5 | hidden_units:(128, 128) | epochs:5 | batch_size:32\n",
      "Epoch 1/5\n"
     ]
    },
    {
     "name": "stderr",
     "output_type": "stream",
     "text": [
      "C:\\Users\\Montr\\anaconda3\\lib\\site-packages\\tensorflow\\python\\framework\\indexed_slices.py:433: UserWarning: Converting sparse IndexedSlices to a dense Tensor of unknown shape. This may consume a large amount of memory.\n",
      "  \"Converting sparse IndexedSlices to a dense Tensor of unknown shape. \"\n"
     ]
    },
    {
     "name": "stdout",
     "output_type": "stream",
     "text": [
      "904/904 - 23s - loss: 1.7969 - mse: 1.7954 - val_loss: 1.4079 - val_mse: 1.4041\n",
      "Epoch 2/5\n",
      "904/904 - 22s - loss: 0.6338 - mse: 0.6280 - val_loss: 1.4785 - val_mse: 1.4705\n",
      "Epoch 3/5\n",
      "904/904 - 22s - loss: 0.3024 - mse: 0.2930 - val_loss: 1.5287 - val_mse: 1.5177\n",
      "Epoch 4/5\n",
      "904/904 - 21s - loss: 0.1780 - mse: 0.1661 - val_loss: 1.5471 - val_mse: 1.5342\n",
      "Epoch 5/5\n",
      "904/904 - 22s - loss: 0.1356 - mse: 0.1222 - val_loss: 1.6207 - val_mse: 1.6067\n",
      "MSE: 1.7182865\n",
      "optimizer:Adam | embedding_dim:32 | lr:0.0001 | dropout:0.5 | hidden_units:(128, 128) | epochs:5 | batch_size:64\n",
      "Epoch 1/5\n"
     ]
    },
    {
     "name": "stderr",
     "output_type": "stream",
     "text": [
      "C:\\Users\\Montr\\anaconda3\\lib\\site-packages\\tensorflow\\python\\framework\\indexed_slices.py:433: UserWarning: Converting sparse IndexedSlices to a dense Tensor of unknown shape. This may consume a large amount of memory.\n",
      "  \"Converting sparse IndexedSlices to a dense Tensor of unknown shape. \"\n"
     ]
    },
    {
     "name": "stdout",
     "output_type": "stream",
     "text": [
      "452/452 - 13s - loss: 2.1315 - mse: 2.1307 - val_loss: 1.4213 - val_mse: 1.4191\n",
      "Epoch 2/5\n",
      "452/452 - 7s - loss: 0.6644 - mse: 0.6609 - val_loss: 1.4819 - val_mse: 1.4769\n",
      "Epoch 3/5\n",
      "452/452 - 8s - loss: 0.2983 - mse: 0.2925 - val_loss: 1.5148 - val_mse: 1.5080\n",
      "Epoch 4/5\n",
      "452/452 - 12s - loss: 0.1568 - mse: 0.1496 - val_loss: 1.6524 - val_mse: 1.6447\n",
      "Epoch 5/5\n",
      "452/452 - 12s - loss: 0.1143 - mse: 0.1063 - val_loss: 1.6817 - val_mse: 1.6733\n",
      "MSE: 1.7561435\n",
      "optimizer:Adam | embedding_dim:32 | lr:0.0001 | dropout:0.5 | hidden_units:(128, 128) | epochs:3 | batch_size:32\n",
      "Epoch 1/3\n"
     ]
    },
    {
     "name": "stderr",
     "output_type": "stream",
     "text": [
      "C:\\Users\\Montr\\anaconda3\\lib\\site-packages\\tensorflow\\python\\framework\\indexed_slices.py:433: UserWarning: Converting sparse IndexedSlices to a dense Tensor of unknown shape. This may consume a large amount of memory.\n",
      "  \"Converting sparse IndexedSlices to a dense Tensor of unknown shape. \"\n"
     ]
    },
    {
     "name": "stdout",
     "output_type": "stream",
     "text": [
      "904/904 - 24s - loss: 1.8010 - mse: 1.7995 - val_loss: 1.4067 - val_mse: 1.4029\n",
      "Epoch 2/3\n",
      "904/904 - 22s - loss: 0.6196 - mse: 0.6139 - val_loss: 1.5056 - val_mse: 1.4979\n",
      "Epoch 3/3\n",
      "904/904 - 22s - loss: 0.3257 - mse: 0.3165 - val_loss: 1.5205 - val_mse: 1.5095\n",
      "MSE: 1.5696259\n",
      "optimizer:Adam | embedding_dim:32 | lr:0.0001 | dropout:0.5 | hidden_units:(128, 128) | epochs:3 | batch_size:64\n",
      "Epoch 1/3\n"
     ]
    },
    {
     "name": "stderr",
     "output_type": "stream",
     "text": [
      "C:\\Users\\Montr\\anaconda3\\lib\\site-packages\\tensorflow\\python\\framework\\indexed_slices.py:433: UserWarning: Converting sparse IndexedSlices to a dense Tensor of unknown shape. This may consume a large amount of memory.\n",
      "  \"Converting sparse IndexedSlices to a dense Tensor of unknown shape. \"\n"
     ]
    },
    {
     "name": "stdout",
     "output_type": "stream",
     "text": [
      "452/452 - 14s - loss: 2.1237 - mse: 2.1228 - val_loss: 1.3913 - val_mse: 1.3892\n",
      "Epoch 2/3\n",
      "452/452 - 13s - loss: 0.6752 - mse: 0.6716 - val_loss: 1.5932 - val_mse: 1.5879\n",
      "Epoch 3/3\n",
      "452/452 - 13s - loss: 0.3143 - mse: 0.3081 - val_loss: 1.5216 - val_mse: 1.5145\n",
      "MSE: 1.5992916\n",
      "optimizer:Adam | embedding_dim:32 | lr:0.0001 | dropout:0.5 | hidden_units:(128, 128) | epochs:5 | batch_size:32\n",
      "Epoch 1/5\n"
     ]
    },
    {
     "name": "stderr",
     "output_type": "stream",
     "text": [
      "C:\\Users\\Montr\\anaconda3\\lib\\site-packages\\tensorflow\\python\\framework\\indexed_slices.py:433: UserWarning: Converting sparse IndexedSlices to a dense Tensor of unknown shape. This may consume a large amount of memory.\n",
      "  \"Converting sparse IndexedSlices to a dense Tensor of unknown shape. \"\n"
     ]
    },
    {
     "name": "stdout",
     "output_type": "stream",
     "text": [
      "904/904 - 23s - loss: 1.8207 - mse: 1.8192 - val_loss: 1.4523 - val_mse: 1.4485\n",
      "Epoch 2/5\n",
      "904/904 - 23s - loss: 0.6461 - mse: 0.6401 - val_loss: 1.5330 - val_mse: 1.5245\n",
      "Epoch 3/5\n",
      "904/904 - 24s - loss: 0.3264 - mse: 0.3166 - val_loss: 1.5137 - val_mse: 1.5025\n",
      "Epoch 4/5\n",
      "904/904 - 23s - loss: 0.1735 - mse: 0.1616 - val_loss: 1.6791 - val_mse: 1.6663\n",
      "Epoch 5/5\n",
      "904/904 - 26s - loss: 0.1363 - mse: 0.1229 - val_loss: 1.6126 - val_mse: 1.5986\n",
      "MSE: 1.6671463\n",
      "optimizer:Adam | embedding_dim:32 | lr:0.0001 | dropout:0.5 | hidden_units:(128, 128) | epochs:5 | batch_size:64\n",
      "Epoch 1/5\n"
     ]
    },
    {
     "name": "stderr",
     "output_type": "stream",
     "text": [
      "C:\\Users\\Montr\\anaconda3\\lib\\site-packages\\tensorflow\\python\\framework\\indexed_slices.py:433: UserWarning: Converting sparse IndexedSlices to a dense Tensor of unknown shape. This may consume a large amount of memory.\n",
      "  \"Converting sparse IndexedSlices to a dense Tensor of unknown shape. \"\n"
     ]
    },
    {
     "name": "stdout",
     "output_type": "stream",
     "text": [
      "452/452 - 14s - loss: 2.1407 - mse: 2.1399 - val_loss: 1.4169 - val_mse: 1.4147\n",
      "Epoch 2/5\n",
      "452/452 - 13s - loss: 0.6835 - mse: 0.6798 - val_loss: 1.5231 - val_mse: 1.5177\n",
      "Epoch 3/5\n",
      "452/452 - 13s - loss: 0.3040 - mse: 0.2977 - val_loss: 1.5584 - val_mse: 1.5512\n",
      "Epoch 4/5\n",
      "452/452 - 14s - loss: 0.1643 - mse: 0.1567 - val_loss: 1.6012 - val_mse: 1.5930\n",
      "Epoch 5/5\n",
      "452/452 - 13s - loss: 0.1191 - mse: 0.1106 - val_loss: 1.6139 - val_mse: 1.6051\n",
      "MSE: 1.6900598\n",
      "optimizer:Adam | embedding_dim:32 | lr:0.0001 | dropout:0.5 | hidden_units:(128, 128) | epochs:3 | batch_size:32\n",
      "Epoch 1/3\n"
     ]
    },
    {
     "name": "stderr",
     "output_type": "stream",
     "text": [
      "C:\\Users\\Montr\\anaconda3\\lib\\site-packages\\tensorflow\\python\\framework\\indexed_slices.py:433: UserWarning: Converting sparse IndexedSlices to a dense Tensor of unknown shape. This may consume a large amount of memory.\n",
      "  \"Converting sparse IndexedSlices to a dense Tensor of unknown shape. \"\n"
     ]
    },
    {
     "name": "stdout",
     "output_type": "stream",
     "text": [
      "904/904 - 26s - loss: 1.7985 - mse: 1.7970 - val_loss: 1.4019 - val_mse: 1.3980\n",
      "Epoch 2/3\n",
      "904/904 - 25s - loss: 0.6414 - mse: 0.6353 - val_loss: 1.4874 - val_mse: 1.4790\n",
      "Epoch 3/3\n",
      "904/904 - 24s - loss: 0.3154 - mse: 0.3055 - val_loss: 1.5337 - val_mse: 1.5221\n",
      "MSE: 1.6115785\n",
      "optimizer:Adam | embedding_dim:32 | lr:0.0001 | dropout:0.5 | hidden_units:(128, 128) | epochs:3 | batch_size:64\n",
      "Epoch 1/3\n"
     ]
    },
    {
     "name": "stderr",
     "output_type": "stream",
     "text": [
      "C:\\Users\\Montr\\anaconda3\\lib\\site-packages\\tensorflow\\python\\framework\\indexed_slices.py:433: UserWarning: Converting sparse IndexedSlices to a dense Tensor of unknown shape. This may consume a large amount of memory.\n",
      "  \"Converting sparse IndexedSlices to a dense Tensor of unknown shape. \"\n"
     ]
    },
    {
     "name": "stdout",
     "output_type": "stream",
     "text": [
      "452/452 - 14s - loss: 2.1331 - mse: 2.1323 - val_loss: 1.3880 - val_mse: 1.3858\n",
      "Epoch 2/3\n",
      "452/452 - 13s - loss: 0.6776 - mse: 0.6739 - val_loss: 1.5116 - val_mse: 1.5062\n",
      "Epoch 3/3\n",
      "452/452 - 11s - loss: 0.3168 - mse: 0.3105 - val_loss: 1.5145 - val_mse: 1.5074\n",
      "MSE: 1.5891079\n",
      "optimizer:Adam | embedding_dim:32 | lr:0.0001 | dropout:0.5 | hidden_units:(128, 128) | epochs:5 | batch_size:32\n",
      "Epoch 1/5\n"
     ]
    },
    {
     "name": "stderr",
     "output_type": "stream",
     "text": [
      "C:\\Users\\Montr\\anaconda3\\lib\\site-packages\\tensorflow\\python\\framework\\indexed_slices.py:433: UserWarning: Converting sparse IndexedSlices to a dense Tensor of unknown shape. This may consume a large amount of memory.\n",
      "  \"Converting sparse IndexedSlices to a dense Tensor of unknown shape. \"\n"
     ]
    },
    {
     "name": "stdout",
     "output_type": "stream",
     "text": [
      "904/904 - 25s - loss: 1.8110 - mse: 1.8095 - val_loss: 1.3994 - val_mse: 1.3955\n",
      "Epoch 2/5\n",
      "904/904 - 23s - loss: 0.6207 - mse: 0.6147 - val_loss: 1.4959 - val_mse: 1.4878\n",
      "Epoch 3/5\n",
      "904/904 - 23s - loss: 0.3114 - mse: 0.3019 - val_loss: 1.5597 - val_mse: 1.5485\n",
      "Epoch 4/5\n",
      "904/904 - 24s - loss: 0.1880 - mse: 0.1760 - val_loss: 1.5503 - val_mse: 1.5373\n",
      "Epoch 5/5\n",
      "904/904 - 23s - loss: 0.1399 - mse: 0.1262 - val_loss: 1.6269 - val_mse: 1.6124\n",
      "MSE: 1.7075492\n",
      "optimizer:Adam | embedding_dim:32 | lr:0.0001 | dropout:0.5 | hidden_units:(128, 128) | epochs:5 | batch_size:64\n",
      "Epoch 1/5\n"
     ]
    },
    {
     "name": "stderr",
     "output_type": "stream",
     "text": [
      "C:\\Users\\Montr\\anaconda3\\lib\\site-packages\\tensorflow\\python\\framework\\indexed_slices.py:433: UserWarning: Converting sparse IndexedSlices to a dense Tensor of unknown shape. This may consume a large amount of memory.\n",
      "  \"Converting sparse IndexedSlices to a dense Tensor of unknown shape. \"\n"
     ]
    },
    {
     "name": "stdout",
     "output_type": "stream",
     "text": [
      "452/452 - 8s - loss: 2.1413 - mse: 2.1405 - val_loss: 1.3936 - val_mse: 1.3915\n",
      "Epoch 2/5\n",
      "452/452 - 7s - loss: 0.6743 - mse: 0.6706 - val_loss: 1.6304 - val_mse: 1.6250\n",
      "Epoch 3/5\n",
      "452/452 - 10s - loss: 0.3117 - mse: 0.3055 - val_loss: 1.4823 - val_mse: 1.4753\n",
      "Epoch 4/5\n",
      "452/452 - 11s - loss: 0.1600 - mse: 0.1526 - val_loss: 1.6565 - val_mse: 1.6486\n",
      "Epoch 5/5\n",
      "452/452 - 10s - loss: 0.1132 - mse: 0.1050 - val_loss: 1.6553 - val_mse: 1.6467\n",
      "MSE: 1.7172903\n",
      "optimizer:Adam | embedding_dim:32 | lr:0.0001 | dropout:0.5 | hidden_units:(128, 128) | epochs:3 | batch_size:32\n",
      "Epoch 1/3\n"
     ]
    },
    {
     "name": "stderr",
     "output_type": "stream",
     "text": [
      "C:\\Users\\Montr\\anaconda3\\lib\\site-packages\\tensorflow\\python\\framework\\indexed_slices.py:433: UserWarning: Converting sparse IndexedSlices to a dense Tensor of unknown shape. This may consume a large amount of memory.\n",
      "  \"Converting sparse IndexedSlices to a dense Tensor of unknown shape. \"\n"
     ]
    },
    {
     "name": "stdout",
     "output_type": "stream",
     "text": [
      "904/904 - 21s - loss: 1.8213 - mse: 1.8198 - val_loss: 1.4430 - val_mse: 1.4392\n",
      "Epoch 2/3\n",
      "904/904 - 14s - loss: 0.6577 - mse: 0.6515 - val_loss: 1.5108 - val_mse: 1.5020\n",
      "Epoch 3/3\n",
      "904/904 - 19s - loss: 0.3136 - mse: 0.3034 - val_loss: 1.5340 - val_mse: 1.5222\n",
      "MSE: 1.6034979\n",
      "optimizer:Adam | embedding_dim:32 | lr:0.0001 | dropout:0.5 | hidden_units:(128, 128) | epochs:3 | batch_size:64\n",
      "Epoch 1/3\n"
     ]
    },
    {
     "name": "stderr",
     "output_type": "stream",
     "text": [
      "C:\\Users\\Montr\\anaconda3\\lib\\site-packages\\tensorflow\\python\\framework\\indexed_slices.py:433: UserWarning: Converting sparse IndexedSlices to a dense Tensor of unknown shape. This may consume a large amount of memory.\n",
      "  \"Converting sparse IndexedSlices to a dense Tensor of unknown shape. \"\n"
     ]
    },
    {
     "name": "stdout",
     "output_type": "stream",
     "text": [
      "452/452 - 9s - loss: 2.1224 - mse: 2.1216 - val_loss: 1.3986 - val_mse: 1.3964\n",
      "Epoch 2/3\n",
      "452/452 - 8s - loss: 0.6586 - mse: 0.6550 - val_loss: 1.5168 - val_mse: 1.5119\n",
      "Epoch 3/3\n",
      "452/452 - 10s - loss: 0.3005 - mse: 0.2947 - val_loss: 1.6060 - val_mse: 1.5993\n",
      "MSE: 1.6498783\n",
      "optimizer:Adam | embedding_dim:32 | lr:0.0001 | dropout:0.5 | hidden_units:(128, 128) | epochs:5 | batch_size:32\n",
      "Epoch 1/5\n"
     ]
    },
    {
     "name": "stderr",
     "output_type": "stream",
     "text": [
      "C:\\Users\\Montr\\anaconda3\\lib\\site-packages\\tensorflow\\python\\framework\\indexed_slices.py:433: UserWarning: Converting sparse IndexedSlices to a dense Tensor of unknown shape. This may consume a large amount of memory.\n",
      "  \"Converting sparse IndexedSlices to a dense Tensor of unknown shape. \"\n"
     ]
    },
    {
     "name": "stdout",
     "output_type": "stream",
     "text": [
      "904/904 - 20s - loss: 1.7933 - mse: 1.7918 - val_loss: 1.4075 - val_mse: 1.4037\n",
      "Epoch 2/5\n",
      "904/904 - 20s - loss: 0.6514 - mse: 0.6453 - val_loss: 1.4795 - val_mse: 1.4709\n",
      "Epoch 3/5\n",
      "904/904 - 19s - loss: 0.3115 - mse: 0.3017 - val_loss: 1.5211 - val_mse: 1.5097\n",
      "Epoch 4/5\n",
      "904/904 - 19s - loss: 0.1723 - mse: 0.1602 - val_loss: 1.6177 - val_mse: 1.6047\n",
      "Epoch 5/5\n",
      "904/904 - 16s - loss: 0.1340 - mse: 0.1205 - val_loss: 1.6537 - val_mse: 1.6393\n",
      "MSE: 1.7440779\n",
      "optimizer:Adam | embedding_dim:32 | lr:0.0001 | dropout:0.5 | hidden_units:(128, 128) | epochs:5 | batch_size:64\n",
      "Epoch 1/5\n"
     ]
    },
    {
     "name": "stderr",
     "output_type": "stream",
     "text": [
      "C:\\Users\\Montr\\anaconda3\\lib\\site-packages\\tensorflow\\python\\framework\\indexed_slices.py:433: UserWarning: Converting sparse IndexedSlices to a dense Tensor of unknown shape. This may consume a large amount of memory.\n",
      "  \"Converting sparse IndexedSlices to a dense Tensor of unknown shape. \"\n"
     ]
    },
    {
     "name": "stdout",
     "output_type": "stream",
     "text": [
      "452/452 - 11s - loss: 2.1109 - mse: 2.1101 - val_loss: 1.4474 - val_mse: 1.4452\n",
      "Epoch 2/5\n",
      "452/452 - 10s - loss: 0.6577 - mse: 0.6541 - val_loss: 1.5416 - val_mse: 1.5364\n",
      "Epoch 3/5\n",
      "452/452 - 10s - loss: 0.2961 - mse: 0.2900 - val_loss: 1.6212 - val_mse: 1.6141\n",
      "Epoch 4/5\n",
      "452/452 - 10s - loss: 0.1516 - mse: 0.1440 - val_loss: 1.6160 - val_mse: 1.6079\n",
      "Epoch 5/5\n",
      "452/452 - 10s - loss: 0.1107 - mse: 0.1023 - val_loss: 1.6773 - val_mse: 1.6687\n",
      "MSE: 1.747288\n",
      "optimizer:Adam | embedding_dim:32 | lr:0.0001 | dropout:0.5 | hidden_units:(128, 128) | epochs:3 | batch_size:32\n",
      "Epoch 1/3\n"
     ]
    },
    {
     "name": "stderr",
     "output_type": "stream",
     "text": [
      "C:\\Users\\Montr\\anaconda3\\lib\\site-packages\\tensorflow\\python\\framework\\indexed_slices.py:433: UserWarning: Converting sparse IndexedSlices to a dense Tensor of unknown shape. This may consume a large amount of memory.\n",
      "  \"Converting sparse IndexedSlices to a dense Tensor of unknown shape. \"\n"
     ]
    },
    {
     "name": "stdout",
     "output_type": "stream",
     "text": [
      "904/904 - 22s - loss: 1.8180 - mse: 1.8165 - val_loss: 1.4274 - val_mse: 1.4235\n",
      "Epoch 2/3\n",
      "904/904 - 24s - loss: 0.6545 - mse: 0.6484 - val_loss: 1.4789 - val_mse: 1.4703\n",
      "Epoch 3/3\n",
      "904/904 - 24s - loss: 0.3251 - mse: 0.3151 - val_loss: 1.5632 - val_mse: 1.5517\n",
      "MSE: 1.6500996\n",
      "optimizer:Adam | embedding_dim:32 | lr:0.0001 | dropout:0.5 | hidden_units:(128, 128) | epochs:3 | batch_size:64\n",
      "Epoch 1/3\n"
     ]
    },
    {
     "name": "stderr",
     "output_type": "stream",
     "text": [
      "C:\\Users\\Montr\\anaconda3\\lib\\site-packages\\tensorflow\\python\\framework\\indexed_slices.py:433: UserWarning: Converting sparse IndexedSlices to a dense Tensor of unknown shape. This may consume a large amount of memory.\n",
      "  \"Converting sparse IndexedSlices to a dense Tensor of unknown shape. \"\n"
     ]
    },
    {
     "name": "stdout",
     "output_type": "stream",
     "text": [
      "452/452 - 14s - loss: 2.1502 - mse: 2.1494 - val_loss: 1.4058 - val_mse: 1.4036\n",
      "Epoch 2/3\n",
      "452/452 - 13s - loss: 0.6806 - mse: 0.6769 - val_loss: 1.5357 - val_mse: 1.5303\n",
      "Epoch 3/3\n",
      "452/452 - 13s - loss: 0.2937 - mse: 0.2874 - val_loss: 1.5125 - val_mse: 1.5052\n",
      "MSE: 1.6028337\n",
      "optimizer:Adam | embedding_dim:32 | lr:0.0001 | dropout:0.5 | hidden_units:(128, 128) | epochs:5 | batch_size:32\n",
      "Epoch 1/5\n"
     ]
    },
    {
     "name": "stderr",
     "output_type": "stream",
     "text": [
      "C:\\Users\\Montr\\anaconda3\\lib\\site-packages\\tensorflow\\python\\framework\\indexed_slices.py:433: UserWarning: Converting sparse IndexedSlices to a dense Tensor of unknown shape. This may consume a large amount of memory.\n",
      "  \"Converting sparse IndexedSlices to a dense Tensor of unknown shape. \"\n"
     ]
    },
    {
     "name": "stdout",
     "output_type": "stream",
     "text": [
      "904/904 - 24s - loss: 1.8448 - mse: 1.8433 - val_loss: 1.4006 - val_mse: 1.3968\n",
      "Epoch 2/5\n",
      "904/904 - 24s - loss: 0.6344 - mse: 0.6283 - val_loss: 1.4739 - val_mse: 1.4657\n",
      "Epoch 3/5\n",
      "904/904 - 28s - loss: 0.3010 - mse: 0.2914 - val_loss: 1.5486 - val_mse: 1.5373\n",
      "Epoch 4/5\n",
      "904/904 - 23s - loss: 0.1935 - mse: 0.1814 - val_loss: 1.5877 - val_mse: 1.5746\n",
      "Epoch 5/5\n",
      "904/904 - 14s - loss: 0.1434 - mse: 0.1296 - val_loss: 1.5778 - val_mse: 1.5633\n",
      "MSE: 1.6339384\n",
      "optimizer:Adam | embedding_dim:32 | lr:0.0001 | dropout:0.5 | hidden_units:(128, 128) | epochs:5 | batch_size:64\n",
      "Epoch 1/5\n"
     ]
    },
    {
     "name": "stderr",
     "output_type": "stream",
     "text": [
      "C:\\Users\\Montr\\anaconda3\\lib\\site-packages\\tensorflow\\python\\framework\\indexed_slices.py:433: UserWarning: Converting sparse IndexedSlices to a dense Tensor of unknown shape. This may consume a large amount of memory.\n",
      "  \"Converting sparse IndexedSlices to a dense Tensor of unknown shape. \"\n"
     ]
    },
    {
     "name": "stdout",
     "output_type": "stream",
     "text": [
      "452/452 - 14s - loss: 2.1439 - mse: 2.1431 - val_loss: 1.3940 - val_mse: 1.3918\n",
      "Epoch 2/5\n",
      "452/452 - 11s - loss: 0.6895 - mse: 0.6859 - val_loss: 1.5236 - val_mse: 1.5182\n",
      "Epoch 3/5\n",
      "452/452 - 12s - loss: 0.3187 - mse: 0.3125 - val_loss: 1.5058 - val_mse: 1.4987\n",
      "Epoch 4/5\n",
      "452/452 - 12s - loss: 0.1647 - mse: 0.1572 - val_loss: 1.5757 - val_mse: 1.5677\n",
      "Epoch 5/5\n",
      "452/452 - 12s - loss: 0.1190 - mse: 0.1107 - val_loss: 1.6021 - val_mse: 1.5934\n",
      "MSE: 1.6748948\n",
      "optimizer:Adam | embedding_dim:32 | lr:0.0001 | dropout:0.5 | hidden_units:(128, 128) | epochs:3 | batch_size:32\n",
      "Epoch 1/3\n"
     ]
    },
    {
     "name": "stderr",
     "output_type": "stream",
     "text": [
      "C:\\Users\\Montr\\anaconda3\\lib\\site-packages\\tensorflow\\python\\framework\\indexed_slices.py:433: UserWarning: Converting sparse IndexedSlices to a dense Tensor of unknown shape. This may consume a large amount of memory.\n",
      "  \"Converting sparse IndexedSlices to a dense Tensor of unknown shape. \"\n"
     ]
    },
    {
     "name": "stdout",
     "output_type": "stream",
     "text": [
      "904/904 - 24s - loss: 1.8021 - mse: 1.8006 - val_loss: 1.3915 - val_mse: 1.3876\n",
      "Epoch 2/3\n",
      "904/904 - 15s - loss: 0.6382 - mse: 0.6322 - val_loss: 1.5554 - val_mse: 1.5469\n",
      "Epoch 3/3\n",
      "904/904 - 21s - loss: 0.3250 - mse: 0.3151 - val_loss: 1.4899 - val_mse: 1.4782\n",
      "MSE: 1.5696259\n",
      "optimizer:Adam | embedding_dim:32 | lr:0.0001 | dropout:0.5 | hidden_units:(128, 128) | epochs:3 | batch_size:64\n",
      "Epoch 1/3\n"
     ]
    },
    {
     "name": "stderr",
     "output_type": "stream",
     "text": [
      "C:\\Users\\Montr\\anaconda3\\lib\\site-packages\\tensorflow\\python\\framework\\indexed_slices.py:433: UserWarning: Converting sparse IndexedSlices to a dense Tensor of unknown shape. This may consume a large amount of memory.\n",
      "  \"Converting sparse IndexedSlices to a dense Tensor of unknown shape. \"\n"
     ]
    },
    {
     "name": "stdout",
     "output_type": "stream",
     "text": [
      "452/452 - 14s - loss: 2.1633 - mse: 2.1624 - val_loss: 1.3945 - val_mse: 1.3923\n",
      "Epoch 2/3\n",
      "452/452 - 13s - loss: 0.6690 - mse: 0.6654 - val_loss: 1.5121 - val_mse: 1.5068\n",
      "Epoch 3/3\n",
      "452/452 - 13s - loss: 0.3078 - mse: 0.3016 - val_loss: 1.5189 - val_mse: 1.5118\n",
      "MSE: 1.611025\n",
      "optimizer:Adam | embedding_dim:32 | lr:0.0001 | dropout:0.5 | hidden_units:(128, 128) | epochs:5 | batch_size:32\n",
      "Epoch 1/5\n"
     ]
    },
    {
     "name": "stderr",
     "output_type": "stream",
     "text": [
      "C:\\Users\\Montr\\anaconda3\\lib\\site-packages\\tensorflow\\python\\framework\\indexed_slices.py:433: UserWarning: Converting sparse IndexedSlices to a dense Tensor of unknown shape. This may consume a large amount of memory.\n",
      "  \"Converting sparse IndexedSlices to a dense Tensor of unknown shape. \"\n"
     ]
    },
    {
     "name": "stdout",
     "output_type": "stream",
     "text": [
      "904/904 - 25s - loss: 1.8246 - mse: 1.8231 - val_loss: 1.4802 - val_mse: 1.4764\n",
      "Epoch 2/5\n",
      "904/904 - 23s - loss: 0.6423 - mse: 0.6364 - val_loss: 1.4935 - val_mse: 1.4852\n",
      "Epoch 3/5\n",
      "904/904 - 23s - loss: 0.3153 - mse: 0.3056 - val_loss: 1.5180 - val_mse: 1.5066\n",
      "Epoch 4/5\n",
      "904/904 - 23s - loss: 0.1826 - mse: 0.1704 - val_loss: 1.6090 - val_mse: 1.5959\n",
      "Epoch 5/5\n",
      "904/904 - 24s - loss: 0.1307 - mse: 0.1170 - val_loss: 1.5920 - val_mse: 1.5776\n",
      "MSE: 1.6570733\n",
      "optimizer:Adam | embedding_dim:32 | lr:0.0001 | dropout:0.5 | hidden_units:(128, 128) | epochs:5 | batch_size:64\n",
      "Epoch 1/5\n"
     ]
    },
    {
     "name": "stderr",
     "output_type": "stream",
     "text": [
      "C:\\Users\\Montr\\anaconda3\\lib\\site-packages\\tensorflow\\python\\framework\\indexed_slices.py:433: UserWarning: Converting sparse IndexedSlices to a dense Tensor of unknown shape. This may consume a large amount of memory.\n",
      "  \"Converting sparse IndexedSlices to a dense Tensor of unknown shape. \"\n"
     ]
    },
    {
     "name": "stdout",
     "output_type": "stream",
     "text": [
      "452/452 - 13s - loss: 2.1966 - mse: 2.1958 - val_loss: 1.3946 - val_mse: 1.3924\n",
      "Epoch 2/5\n",
      "452/452 - 13s - loss: 0.6829 - mse: 0.6793 - val_loss: 1.5795 - val_mse: 1.5742\n",
      "Epoch 3/5\n",
      "452/452 - 13s - loss: 0.3117 - mse: 0.3056 - val_loss: 1.4899 - val_mse: 1.4828\n",
      "Epoch 4/5\n",
      "452/452 - 13s - loss: 0.1614 - mse: 0.1539 - val_loss: 1.6025 - val_mse: 1.5945\n",
      "Epoch 5/5\n",
      "452/452 - 13s - loss: 0.1169 - mse: 0.1086 - val_loss: 1.6026 - val_mse: 1.5940\n",
      "MSE: 1.6803188\n",
      "optimizer:Adam | embedding_dim:32 | lr:0.0001 | dropout:0.5 | hidden_units:(128, 128) | epochs:3 | batch_size:32\n",
      "Epoch 1/3\n"
     ]
    },
    {
     "name": "stderr",
     "output_type": "stream",
     "text": [
      "C:\\Users\\Montr\\anaconda3\\lib\\site-packages\\tensorflow\\python\\framework\\indexed_slices.py:433: UserWarning: Converting sparse IndexedSlices to a dense Tensor of unknown shape. This may consume a large amount of memory.\n",
      "  \"Converting sparse IndexedSlices to a dense Tensor of unknown shape. \"\n"
     ]
    },
    {
     "name": "stdout",
     "output_type": "stream",
     "text": [
      "904/904 - 25s - loss: 1.8346 - mse: 1.8331 - val_loss: 1.3983 - val_mse: 1.3945\n",
      "Epoch 2/3\n",
      "904/904 - 24s - loss: 0.6205 - mse: 0.6146 - val_loss: 1.5182 - val_mse: 1.5103\n",
      "Epoch 3/3\n",
      "904/904 - 24s - loss: 0.3191 - mse: 0.3096 - val_loss: 1.4954 - val_mse: 1.4839\n",
      "MSE: 1.578592\n",
      "optimizer:Adam | embedding_dim:32 | lr:0.0001 | dropout:0.5 | hidden_units:(128, 128) | epochs:3 | batch_size:64\n",
      "Epoch 1/3\n"
     ]
    },
    {
     "name": "stderr",
     "output_type": "stream",
     "text": [
      "C:\\Users\\Montr\\anaconda3\\lib\\site-packages\\tensorflow\\python\\framework\\indexed_slices.py:433: UserWarning: Converting sparse IndexedSlices to a dense Tensor of unknown shape. This may consume a large amount of memory.\n",
      "  \"Converting sparse IndexedSlices to a dense Tensor of unknown shape. \"\n"
     ]
    },
    {
     "name": "stdout",
     "output_type": "stream",
     "text": [
      "452/452 - 8s - loss: 2.1295 - mse: 2.1287 - val_loss: 1.4013 - val_mse: 1.3991\n",
      "Epoch 2/3\n",
      "452/452 - 12s - loss: 0.6761 - mse: 0.6725 - val_loss: 1.5118 - val_mse: 1.5065\n",
      "Epoch 3/3\n",
      "452/452 - 12s - loss: 0.3058 - mse: 0.2997 - val_loss: 1.5871 - val_mse: 1.5802\n",
      "MSE: 1.7032323\n",
      "optimizer:Adam | embedding_dim:32 | lr:0.0001 | dropout:0.5 | hidden_units:(128, 128) | epochs:5 | batch_size:32\n",
      "Epoch 1/5\n"
     ]
    },
    {
     "name": "stderr",
     "output_type": "stream",
     "text": [
      "C:\\Users\\Montr\\anaconda3\\lib\\site-packages\\tensorflow\\python\\framework\\indexed_slices.py:433: UserWarning: Converting sparse IndexedSlices to a dense Tensor of unknown shape. This may consume a large amount of memory.\n",
      "  \"Converting sparse IndexedSlices to a dense Tensor of unknown shape. \"\n"
     ]
    },
    {
     "name": "stdout",
     "output_type": "stream",
     "text": [
      "904/904 - 24s - loss: 1.8235 - mse: 1.8220 - val_loss: 1.3998 - val_mse: 1.3960\n",
      "Epoch 2/5\n",
      "904/904 - 22s - loss: 0.6381 - mse: 0.6320 - val_loss: 1.4785 - val_mse: 1.4701\n",
      "Epoch 3/5\n",
      "904/904 - 22s - loss: 0.3089 - mse: 0.2992 - val_loss: 1.4841 - val_mse: 1.4727\n",
      "Epoch 4/5\n",
      "904/904 - 22s - loss: 0.1873 - mse: 0.1752 - val_loss: 1.6983 - val_mse: 1.6852\n",
      "Epoch 5/5\n",
      "904/904 - 22s - loss: 0.1383 - mse: 0.1248 - val_loss: 1.6835 - val_mse: 1.6694\n",
      "MSE: 1.740093\n",
      "optimizer:Adam | embedding_dim:32 | lr:0.0001 | dropout:0.5 | hidden_units:(128, 128) | epochs:5 | batch_size:64\n",
      "Epoch 1/5\n"
     ]
    },
    {
     "name": "stderr",
     "output_type": "stream",
     "text": [
      "C:\\Users\\Montr\\anaconda3\\lib\\site-packages\\tensorflow\\python\\framework\\indexed_slices.py:433: UserWarning: Converting sparse IndexedSlices to a dense Tensor of unknown shape. This may consume a large amount of memory.\n",
      "  \"Converting sparse IndexedSlices to a dense Tensor of unknown shape. \"\n"
     ]
    },
    {
     "name": "stdout",
     "output_type": "stream",
     "text": [
      "452/452 - 13s - loss: 2.1247 - mse: 2.1238 - val_loss: 1.3922 - val_mse: 1.3901\n",
      "Epoch 2/5\n",
      "452/452 - 12s - loss: 0.6684 - mse: 0.6648 - val_loss: 1.5353 - val_mse: 1.5301\n",
      "Epoch 3/5\n",
      "452/452 - 12s - loss: 0.3079 - mse: 0.3019 - val_loss: 1.5612 - val_mse: 1.5542\n",
      "Epoch 4/5\n",
      "452/452 - 8s - loss: 0.1551 - mse: 0.1476 - val_loss: 1.6124 - val_mse: 1.6044\n",
      "Epoch 5/5\n",
      "452/452 - 7s - loss: 0.1098 - mse: 0.1016 - val_loss: 1.6652 - val_mse: 1.6566\n",
      "MSE: 1.7378792\n",
      "optimizer:Adam | embedding_dim:32 | lr:0.0001 | dropout:0.5 | hidden_units:(128, 128) | epochs:3 | batch_size:32\n",
      "Epoch 1/3\n"
     ]
    },
    {
     "name": "stderr",
     "output_type": "stream",
     "text": [
      "C:\\Users\\Montr\\anaconda3\\lib\\site-packages\\tensorflow\\python\\framework\\indexed_slices.py:433: UserWarning: Converting sparse IndexedSlices to a dense Tensor of unknown shape. This may consume a large amount of memory.\n",
      "  \"Converting sparse IndexedSlices to a dense Tensor of unknown shape. \"\n"
     ]
    },
    {
     "name": "stdout",
     "output_type": "stream",
     "text": [
      "904/904 - 21s - loss: 1.8259 - mse: 1.8245 - val_loss: 1.3970 - val_mse: 1.3932\n",
      "Epoch 2/3\n",
      "904/904 - 20s - loss: 0.6282 - mse: 0.6224 - val_loss: 1.5140 - val_mse: 1.5060\n",
      "Epoch 3/3\n",
      "904/904 - 17s - loss: 0.3068 - mse: 0.2974 - val_loss: 1.5721 - val_mse: 1.5611\n",
      "MSE: 1.6311711\n",
      "optimizer:Adam | embedding_dim:32 | lr:0.0001 | dropout:0.5 | hidden_units:(128, 128) | epochs:3 | batch_size:64\n",
      "Epoch 1/3\n"
     ]
    },
    {
     "name": "stderr",
     "output_type": "stream",
     "text": [
      "C:\\Users\\Montr\\anaconda3\\lib\\site-packages\\tensorflow\\python\\framework\\indexed_slices.py:433: UserWarning: Converting sparse IndexedSlices to a dense Tensor of unknown shape. This may consume a large amount of memory.\n",
      "  \"Converting sparse IndexedSlices to a dense Tensor of unknown shape. \"\n"
     ]
    },
    {
     "name": "stdout",
     "output_type": "stream",
     "text": [
      "452/452 - 11s - loss: 2.1597 - mse: 2.1588 - val_loss: 1.3984 - val_mse: 1.3962\n",
      "Epoch 2/3\n",
      "452/452 - 9s - loss: 0.7030 - mse: 0.6994 - val_loss: 1.4984 - val_mse: 1.4932\n",
      "Epoch 3/3\n",
      "452/452 - 10s - loss: 0.3073 - mse: 0.3012 - val_loss: 1.4921 - val_mse: 1.4849\n",
      "MSE: 1.5820235\n",
      "optimizer:Adam | embedding_dim:32 | lr:0.0001 | dropout:0.5 | hidden_units:(128, 128) | epochs:5 | batch_size:32\n",
      "Epoch 1/5\n"
     ]
    },
    {
     "name": "stderr",
     "output_type": "stream",
     "text": [
      "C:\\Users\\Montr\\anaconda3\\lib\\site-packages\\tensorflow\\python\\framework\\indexed_slices.py:433: UserWarning: Converting sparse IndexedSlices to a dense Tensor of unknown shape. This may consume a large amount of memory.\n",
      "  \"Converting sparse IndexedSlices to a dense Tensor of unknown shape. \"\n"
     ]
    },
    {
     "name": "stdout",
     "output_type": "stream",
     "text": [
      "904/904 - 19s - loss: 1.8159 - mse: 1.8144 - val_loss: 1.4326 - val_mse: 1.4288\n",
      "Epoch 2/5\n",
      "904/904 - 18s - loss: 0.6193 - mse: 0.6134 - val_loss: 1.4900 - val_mse: 1.4820\n",
      "Epoch 3/5\n",
      "904/904 - 18s - loss: 0.3135 - mse: 0.3040 - val_loss: 1.5182 - val_mse: 1.5067\n",
      "Epoch 4/5\n",
      "904/904 - 20s - loss: 0.1833 - mse: 0.1712 - val_loss: 1.6385 - val_mse: 1.6254\n",
      "Epoch 5/5\n",
      "904/904 - 24s - loss: 0.1432 - mse: 0.1295 - val_loss: 1.5531 - val_mse: 1.5386\n",
      "MSE: 1.6498783\n",
      "optimizer:Adam | embedding_dim:32 | lr:0.0001 | dropout:0.5 | hidden_units:(128, 128) | epochs:5 | batch_size:64\n",
      "Epoch 1/5\n"
     ]
    },
    {
     "name": "stderr",
     "output_type": "stream",
     "text": [
      "C:\\Users\\Montr\\anaconda3\\lib\\site-packages\\tensorflow\\python\\framework\\indexed_slices.py:433: UserWarning: Converting sparse IndexedSlices to a dense Tensor of unknown shape. This may consume a large amount of memory.\n",
      "  \"Converting sparse IndexedSlices to a dense Tensor of unknown shape. \"\n"
     ]
    },
    {
     "name": "stdout",
     "output_type": "stream",
     "text": [
      "452/452 - 8s - loss: 2.1311 - mse: 2.1303 - val_loss: 1.3947 - val_mse: 1.3925\n",
      "Epoch 2/5\n",
      "452/452 - 8s - loss: 0.6827 - mse: 0.6791 - val_loss: 1.5595 - val_mse: 1.5542\n",
      "Epoch 3/5\n",
      "452/452 - 9s - loss: 0.3063 - mse: 0.3001 - val_loss: 1.4995 - val_mse: 1.4924\n",
      "Epoch 4/5\n",
      "452/452 - 10s - loss: 0.1607 - mse: 0.1531 - val_loss: 1.6161 - val_mse: 1.6080\n",
      "Epoch 5/5\n",
      "452/452 - 10s - loss: 0.1131 - mse: 0.1047 - val_loss: 1.7175 - val_mse: 1.7087\n",
      "MSE: 1.811822\n",
      "optimizer:Adam | embedding_dim:32 | lr:0.0001 | dropout:0.5 | hidden_units:(128, 128) | epochs:3 | batch_size:32\n",
      "Epoch 1/3\n"
     ]
    },
    {
     "name": "stderr",
     "output_type": "stream",
     "text": [
      "C:\\Users\\Montr\\anaconda3\\lib\\site-packages\\tensorflow\\python\\framework\\indexed_slices.py:433: UserWarning: Converting sparse IndexedSlices to a dense Tensor of unknown shape. This may consume a large amount of memory.\n",
      "  \"Converting sparse IndexedSlices to a dense Tensor of unknown shape. \"\n"
     ]
    },
    {
     "name": "stdout",
     "output_type": "stream",
     "text": [
      "904/904 - 17s - loss: 1.8233 - mse: 1.8218 - val_loss: 1.4114 - val_mse: 1.4076\n",
      "Epoch 2/3\n",
      "904/904 - 17s - loss: 0.6307 - mse: 0.6247 - val_loss: 1.4654 - val_mse: 1.4572\n",
      "Epoch 3/3\n",
      "904/904 - 23s - loss: 0.3107 - mse: 0.3009 - val_loss: 1.5356 - val_mse: 1.5241\n",
      "MSE: 1.6036086\n",
      "optimizer:Adam | embedding_dim:32 | lr:0.0001 | dropout:0.5 | hidden_units:(128, 128) | epochs:3 | batch_size:64\n",
      "Epoch 1/3\n"
     ]
    },
    {
     "name": "stderr",
     "output_type": "stream",
     "text": [
      "C:\\Users\\Montr\\anaconda3\\lib\\site-packages\\tensorflow\\python\\framework\\indexed_slices.py:433: UserWarning: Converting sparse IndexedSlices to a dense Tensor of unknown shape. This may consume a large amount of memory.\n",
      "  \"Converting sparse IndexedSlices to a dense Tensor of unknown shape. \"\n"
     ]
    },
    {
     "name": "stdout",
     "output_type": "stream",
     "text": [
      "452/452 - 13s - loss: 2.0972 - mse: 2.0963 - val_loss: 1.3938 - val_mse: 1.3917\n",
      "Epoch 2/3\n",
      "452/452 - 10s - loss: 0.6875 - mse: 0.6839 - val_loss: 1.5219 - val_mse: 1.5165\n",
      "Epoch 3/3\n",
      "452/452 - 12s - loss: 0.3094 - mse: 0.3032 - val_loss: 1.5076 - val_mse: 1.5006\n",
      "MSE: 1.5995129\n",
      "optimizer:Adam | embedding_dim:32 | lr:0.0001 | dropout:0.5 | hidden_units:(128, 128) | epochs:5 | batch_size:32\n",
      "Epoch 1/5\n"
     ]
    },
    {
     "name": "stderr",
     "output_type": "stream",
     "text": [
      "C:\\Users\\Montr\\anaconda3\\lib\\site-packages\\tensorflow\\python\\framework\\indexed_slices.py:433: UserWarning: Converting sparse IndexedSlices to a dense Tensor of unknown shape. This may consume a large amount of memory.\n",
      "  \"Converting sparse IndexedSlices to a dense Tensor of unknown shape. \"\n"
     ]
    },
    {
     "name": "stdout",
     "output_type": "stream",
     "text": [
      "904/904 - 24s - loss: 1.8106 - mse: 1.8092 - val_loss: 1.4598 - val_mse: 1.4559\n",
      "Epoch 2/5\n",
      "904/904 - 22s - loss: 0.6402 - mse: 0.6341 - val_loss: 1.5719 - val_mse: 1.5634\n",
      "Epoch 3/5\n",
      "904/904 - 23s - loss: 0.2996 - mse: 0.2899 - val_loss: 1.5005 - val_mse: 1.4892\n",
      "Epoch 4/5\n",
      "904/904 - 23s - loss: 0.1878 - mse: 0.1757 - val_loss: 1.5370 - val_mse: 1.5239\n",
      "Epoch 5/5\n",
      "904/904 - 25s - loss: 0.1411 - mse: 0.1274 - val_loss: 1.6164 - val_mse: 1.6018\n",
      "MSE: 1.6961479\n",
      "optimizer:Adam | embedding_dim:32 | lr:0.0001 | dropout:0.5 | hidden_units:(128, 128) | epochs:5 | batch_size:64\n",
      "Epoch 1/5\n"
     ]
    },
    {
     "name": "stderr",
     "output_type": "stream",
     "text": [
      "C:\\Users\\Montr\\anaconda3\\lib\\site-packages\\tensorflow\\python\\framework\\indexed_slices.py:433: UserWarning: Converting sparse IndexedSlices to a dense Tensor of unknown shape. This may consume a large amount of memory.\n",
      "  \"Converting sparse IndexedSlices to a dense Tensor of unknown shape. \"\n"
     ]
    },
    {
     "name": "stdout",
     "output_type": "stream",
     "text": [
      "452/452 - 12s - loss: 2.1022 - mse: 2.1014 - val_loss: 1.4859 - val_mse: 1.4837\n",
      "Epoch 2/5\n",
      "452/452 - 12s - loss: 0.6918 - mse: 0.6882 - val_loss: 1.5157 - val_mse: 1.5104\n",
      "Epoch 3/5\n",
      "452/452 - 12s - loss: 0.3087 - mse: 0.3026 - val_loss: 1.5073 - val_mse: 1.5003\n",
      "Epoch 4/5\n",
      "452/452 - 11s - loss: 0.1767 - mse: 0.1691 - val_loss: 1.5452 - val_mse: 1.5371\n",
      "Epoch 5/5\n",
      "452/452 - 12s - loss: 0.1156 - mse: 0.1073 - val_loss: 1.6090 - val_mse: 1.6002\n",
      "MSE: 1.6606154\n",
      "optimizer:Adam | embedding_dim:32 | lr:0.0001 | dropout:0.5 | hidden_units:(128, 128) | epochs:3 | batch_size:32\n",
      "Epoch 1/3\n"
     ]
    },
    {
     "name": "stderr",
     "output_type": "stream",
     "text": [
      "C:\\Users\\Montr\\anaconda3\\lib\\site-packages\\tensorflow\\python\\framework\\indexed_slices.py:433: UserWarning: Converting sparse IndexedSlices to a dense Tensor of unknown shape. This may consume a large amount of memory.\n",
      "  \"Converting sparse IndexedSlices to a dense Tensor of unknown shape. \"\n"
     ]
    },
    {
     "name": "stdout",
     "output_type": "stream",
     "text": [
      "904/904 - 24s - loss: 1.7992 - mse: 1.7977 - val_loss: 1.4957 - val_mse: 1.4918\n",
      "Epoch 2/3\n",
      "904/904 - 23s - loss: 0.6225 - mse: 0.6168 - val_loss: 1.4739 - val_mse: 1.4662\n",
      "Epoch 3/3\n",
      "904/904 - 16s - loss: 0.3166 - mse: 0.3074 - val_loss: 1.5206 - val_mse: 1.5095\n",
      "MSE: 1.5707328\n",
      "optimizer:Adam | embedding_dim:32 | lr:0.0001 | dropout:0.5 | hidden_units:(128, 128) | epochs:3 | batch_size:64\n",
      "Epoch 1/3\n"
     ]
    },
    {
     "name": "stderr",
     "output_type": "stream",
     "text": [
      "C:\\Users\\Montr\\anaconda3\\lib\\site-packages\\tensorflow\\python\\framework\\indexed_slices.py:433: UserWarning: Converting sparse IndexedSlices to a dense Tensor of unknown shape. This may consume a large amount of memory.\n",
      "  \"Converting sparse IndexedSlices to a dense Tensor of unknown shape. \"\n"
     ]
    },
    {
     "name": "stdout",
     "output_type": "stream",
     "text": [
      "452/452 - 14s - loss: 2.1454 - mse: 2.1446 - val_loss: 1.4069 - val_mse: 1.4048\n",
      "Epoch 2/3\n",
      "452/452 - 13s - loss: 0.6891 - mse: 0.6854 - val_loss: 1.5472 - val_mse: 1.5416\n",
      "Epoch 3/3\n",
      "452/452 - 13s - loss: 0.3141 - mse: 0.3077 - val_loss: 1.5905 - val_mse: 1.5831\n",
      "MSE: 1.6942661\n",
      "optimizer:Adam | embedding_dim:32 | lr:0.0001 | dropout:0.5 | hidden_units:(128, 128) | epochs:5 | batch_size:32\n",
      "Epoch 1/5\n"
     ]
    },
    {
     "name": "stderr",
     "output_type": "stream",
     "text": [
      "C:\\Users\\Montr\\anaconda3\\lib\\site-packages\\tensorflow\\python\\framework\\indexed_slices.py:433: UserWarning: Converting sparse IndexedSlices to a dense Tensor of unknown shape. This may consume a large amount of memory.\n",
      "  \"Converting sparse IndexedSlices to a dense Tensor of unknown shape. \"\n"
     ]
    },
    {
     "name": "stdout",
     "output_type": "stream",
     "text": [
      "904/904 - 24s - loss: 1.8264 - mse: 1.8249 - val_loss: 1.4549 - val_mse: 1.4511\n",
      "Epoch 2/5\n",
      "904/904 - 24s - loss: 0.6355 - mse: 0.6295 - val_loss: 1.5740 - val_mse: 1.5658\n",
      "Epoch 3/5\n",
      "904/904 - 24s - loss: 0.3110 - mse: 0.3014 - val_loss: 1.4956 - val_mse: 1.4844\n",
      "Epoch 4/5\n",
      "904/904 - 24s - loss: 0.1778 - mse: 0.1657 - val_loss: 1.6226 - val_mse: 1.6096\n",
      "Epoch 5/5\n",
      "904/904 - 24s - loss: 0.1386 - mse: 0.1251 - val_loss: 1.5682 - val_mse: 1.5541\n",
      "MSE: 1.6458933\n",
      "optimizer:Adam | embedding_dim:32 | lr:0.0001 | dropout:0.5 | hidden_units:(128, 128) | epochs:5 | batch_size:64\n",
      "Epoch 1/5\n"
     ]
    },
    {
     "name": "stderr",
     "output_type": "stream",
     "text": [
      "C:\\Users\\Montr\\anaconda3\\lib\\site-packages\\tensorflow\\python\\framework\\indexed_slices.py:433: UserWarning: Converting sparse IndexedSlices to a dense Tensor of unknown shape. This may consume a large amount of memory.\n",
      "  \"Converting sparse IndexedSlices to a dense Tensor of unknown shape. \"\n"
     ]
    },
    {
     "name": "stdout",
     "output_type": "stream",
     "text": [
      "452/452 - 15s - loss: 2.1412 - mse: 2.1404 - val_loss: 1.3939 - val_mse: 1.3917\n",
      "Epoch 2/5\n",
      "452/452 - 12s - loss: 0.6554 - mse: 0.6518 - val_loss: 1.5679 - val_mse: 1.5627\n",
      "Epoch 3/5\n",
      "452/452 - 13s - loss: 0.3059 - mse: 0.2997 - val_loss: 1.4938 - val_mse: 1.4864\n",
      "Epoch 4/5\n",
      "452/452 - 13s - loss: 0.1557 - mse: 0.1479 - val_loss: 1.6808 - val_mse: 1.6725\n",
      "Epoch 5/5\n",
      "452/452 - 13s - loss: 0.1168 - mse: 0.1082 - val_loss: 1.6397 - val_mse: 1.6307\n",
      "MSE: 1.7117556\n",
      "optimizer:Adam | embedding_dim:32 | lr:0.0001 | dropout:0.5 | hidden_units:(128, 128) | epochs:3 | batch_size:32\n",
      "Epoch 1/3\n"
     ]
    },
    {
     "name": "stderr",
     "output_type": "stream",
     "text": [
      "C:\\Users\\Montr\\anaconda3\\lib\\site-packages\\tensorflow\\python\\framework\\indexed_slices.py:433: UserWarning: Converting sparse IndexedSlices to a dense Tensor of unknown shape. This may consume a large amount of memory.\n",
      "  \"Converting sparse IndexedSlices to a dense Tensor of unknown shape. \"\n"
     ]
    },
    {
     "name": "stdout",
     "output_type": "stream",
     "text": [
      "904/904 - 24s - loss: 1.8043 - mse: 1.8028 - val_loss: 1.4026 - val_mse: 1.3987\n",
      "Epoch 2/3\n",
      "904/904 - 24s - loss: 0.6288 - mse: 0.6228 - val_loss: 1.4782 - val_mse: 1.4701\n",
      "Epoch 3/3\n",
      "904/904 - 23s - loss: 0.3210 - mse: 0.3114 - val_loss: 1.5201 - val_mse: 1.5086\n",
      "MSE: 1.5849015\n",
      "optimizer:Adam | embedding_dim:32 | lr:0.0001 | dropout:0.5 | hidden_units:(128, 128) | epochs:3 | batch_size:64\n",
      "Epoch 1/3\n"
     ]
    },
    {
     "name": "stderr",
     "output_type": "stream",
     "text": [
      "C:\\Users\\Montr\\anaconda3\\lib\\site-packages\\tensorflow\\python\\framework\\indexed_slices.py:433: UserWarning: Converting sparse IndexedSlices to a dense Tensor of unknown shape. This may consume a large amount of memory.\n",
      "  \"Converting sparse IndexedSlices to a dense Tensor of unknown shape. \"\n"
     ]
    },
    {
     "name": "stdout",
     "output_type": "stream",
     "text": [
      "452/452 - 8s - loss: 2.1083 - mse: 2.1075 - val_loss: 1.3906 - val_mse: 1.3885\n",
      "Epoch 2/3\n",
      "452/452 - 7s - loss: 0.6843 - mse: 0.6807 - val_loss: 1.5024 - val_mse: 1.4970\n",
      "Epoch 3/3\n",
      "452/452 - 12s - loss: 0.3201 - mse: 0.3140 - val_loss: 1.4948 - val_mse: 1.4878\n",
      "MSE: 1.564202\n",
      "optimizer:Adam | embedding_dim:32 | lr:0.0001 | dropout:0.5 | hidden_units:(128, 128) | epochs:5 | batch_size:32\n",
      "Epoch 1/5\n"
     ]
    },
    {
     "name": "stderr",
     "output_type": "stream",
     "text": [
      "C:\\Users\\Montr\\anaconda3\\lib\\site-packages\\tensorflow\\python\\framework\\indexed_slices.py:433: UserWarning: Converting sparse IndexedSlices to a dense Tensor of unknown shape. This may consume a large amount of memory.\n",
      "  \"Converting sparse IndexedSlices to a dense Tensor of unknown shape. \"\n"
     ]
    },
    {
     "name": "stdout",
     "output_type": "stream",
     "text": [
      "904/904 - 23s - loss: 1.7991 - mse: 1.7976 - val_loss: 1.4004 - val_mse: 1.3967\n",
      "Epoch 2/5\n",
      "904/904 - 23s - loss: 0.6658 - mse: 0.6598 - val_loss: 1.5580 - val_mse: 1.5494\n",
      "Epoch 3/5\n",
      "904/904 - 22s - loss: 0.3179 - mse: 0.3079 - val_loss: 1.5077 - val_mse: 1.4962\n",
      "Epoch 4/5\n",
      "904/904 - 23s - loss: 0.1798 - mse: 0.1675 - val_loss: 1.5417 - val_mse: 1.5284\n",
      "Epoch 5/5\n",
      "904/904 - 22s - loss: 0.1365 - mse: 0.1227 - val_loss: 1.5836 - val_mse: 1.5689\n",
      "MSE: 1.6487713\n",
      "optimizer:Adam | embedding_dim:32 | lr:0.0001 | dropout:0.5 | hidden_units:(128, 128) | epochs:5 | batch_size:64\n",
      "Epoch 1/5\n"
     ]
    },
    {
     "name": "stderr",
     "output_type": "stream",
     "text": [
      "C:\\Users\\Montr\\anaconda3\\lib\\site-packages\\tensorflow\\python\\framework\\indexed_slices.py:433: UserWarning: Converting sparse IndexedSlices to a dense Tensor of unknown shape. This may consume a large amount of memory.\n",
      "  \"Converting sparse IndexedSlices to a dense Tensor of unknown shape. \"\n"
     ]
    },
    {
     "name": "stdout",
     "output_type": "stream",
     "text": [
      "452/452 - 13s - loss: 2.1101 - mse: 2.1093 - val_loss: 1.4283 - val_mse: 1.4261\n",
      "Epoch 2/5\n",
      "452/452 - 12s - loss: 0.6768 - mse: 0.6731 - val_loss: 1.5132 - val_mse: 1.5078\n",
      "Epoch 3/5\n",
      "452/452 - 12s - loss: 0.3088 - mse: 0.3025 - val_loss: 1.5218 - val_mse: 1.5146\n",
      "Epoch 4/5\n",
      "452/452 - 12s - loss: 0.1623 - mse: 0.1546 - val_loss: 1.7196 - val_mse: 1.7114\n",
      "Epoch 5/5\n",
      "452/452 - 8s - loss: 0.1116 - mse: 0.1031 - val_loss: 1.6294 - val_mse: 1.6205\n",
      "MSE: 1.7042285\n",
      "optimizer:Adam | embedding_dim:32 | lr:0.0001 | dropout:0.5 | hidden_units:(128, 128) | epochs:3 | batch_size:32\n",
      "Epoch 1/3\n"
     ]
    },
    {
     "name": "stderr",
     "output_type": "stream",
     "text": [
      "C:\\Users\\Montr\\anaconda3\\lib\\site-packages\\tensorflow\\python\\framework\\indexed_slices.py:433: UserWarning: Converting sparse IndexedSlices to a dense Tensor of unknown shape. This may consume a large amount of memory.\n",
      "  \"Converting sparse IndexedSlices to a dense Tensor of unknown shape. \"\n"
     ]
    },
    {
     "name": "stdout",
     "output_type": "stream",
     "text": [
      "904/904 - 21s - loss: 1.8050 - mse: 1.8035 - val_loss: 1.4304 - val_mse: 1.4267\n",
      "Epoch 2/3\n",
      "904/904 - 20s - loss: 0.6309 - mse: 0.6249 - val_loss: 1.4637 - val_mse: 1.4554\n",
      "Epoch 3/3\n",
      "904/904 - 19s - loss: 0.3266 - mse: 0.3167 - val_loss: 1.5267 - val_mse: 1.5150\n",
      "MSE: 1.6060438\n",
      "optimizer:Adam | embedding_dim:32 | lr:0.0001 | dropout:0.5 | hidden_units:(128, 128) | epochs:3 | batch_size:64\n",
      "Epoch 1/3\n"
     ]
    },
    {
     "name": "stderr",
     "output_type": "stream",
     "text": [
      "C:\\Users\\Montr\\anaconda3\\lib\\site-packages\\tensorflow\\python\\framework\\indexed_slices.py:433: UserWarning: Converting sparse IndexedSlices to a dense Tensor of unknown shape. This may consume a large amount of memory.\n",
      "  \"Converting sparse IndexedSlices to a dense Tensor of unknown shape. \"\n"
     ]
    },
    {
     "name": "stdout",
     "output_type": "stream",
     "text": [
      "452/452 - 12s - loss: 2.1691 - mse: 2.1683 - val_loss: 1.3975 - val_mse: 1.3954\n",
      "Epoch 2/3\n",
      "452/452 - 11s - loss: 0.6639 - mse: 0.6603 - val_loss: 1.5108 - val_mse: 1.5056\n",
      "Epoch 3/3\n",
      "452/452 - 10s - loss: 0.3052 - mse: 0.2991 - val_loss: 1.4959 - val_mse: 1.4889\n",
      "MSE: 1.5914323\n",
      "optimizer:Adam | embedding_dim:32 | lr:0.0001 | dropout:0.5 | hidden_units:(128, 128) | epochs:5 | batch_size:32\n",
      "Epoch 1/5\n"
     ]
    },
    {
     "name": "stderr",
     "output_type": "stream",
     "text": [
      "C:\\Users\\Montr\\anaconda3\\lib\\site-packages\\tensorflow\\python\\framework\\indexed_slices.py:433: UserWarning: Converting sparse IndexedSlices to a dense Tensor of unknown shape. This may consume a large amount of memory.\n",
      "  \"Converting sparse IndexedSlices to a dense Tensor of unknown shape. \"\n"
     ]
    },
    {
     "name": "stdout",
     "output_type": "stream",
     "text": [
      "904/904 - 20s - loss: 1.8017 - mse: 1.8003 - val_loss: 1.6016 - val_mse: 1.5977\n",
      "Epoch 2/5\n",
      "904/904 - 19s - loss: 0.6532 - mse: 0.6470 - val_loss: 1.6114 - val_mse: 1.6027\n",
      "Epoch 3/5\n",
      "904/904 - 19s - loss: 0.3252 - mse: 0.3152 - val_loss: 1.4849 - val_mse: 1.4735\n",
      "Epoch 4/5\n",
      "904/904 - 19s - loss: 0.1797 - mse: 0.1675 - val_loss: 1.5616 - val_mse: 1.5484\n",
      "Epoch 5/5\n",
      "904/904 - 18s - loss: 0.1414 - mse: 0.1276 - val_loss: 1.6554 - val_mse: 1.6408\n",
      "MSE: 1.7231569\n",
      "optimizer:Adam | embedding_dim:32 | lr:0.0001 | dropout:0.5 | hidden_units:(128, 128) | epochs:5 | batch_size:64\n",
      "Epoch 1/5\n"
     ]
    },
    {
     "name": "stderr",
     "output_type": "stream",
     "text": [
      "C:\\Users\\Montr\\anaconda3\\lib\\site-packages\\tensorflow\\python\\framework\\indexed_slices.py:433: UserWarning: Converting sparse IndexedSlices to a dense Tensor of unknown shape. This may consume a large amount of memory.\n",
      "  \"Converting sparse IndexedSlices to a dense Tensor of unknown shape. \"\n"
     ]
    },
    {
     "name": "stdout",
     "output_type": "stream",
     "text": [
      "452/452 - 8s - loss: 2.1453 - mse: 2.1445 - val_loss: 1.4092 - val_mse: 1.4070\n",
      "Epoch 2/5\n",
      "452/452 - 10s - loss: 0.6729 - mse: 0.6693 - val_loss: 1.4956 - val_mse: 1.4904\n",
      "Epoch 3/5\n",
      "452/452 - 9s - loss: 0.3002 - mse: 0.2942 - val_loss: 1.5147 - val_mse: 1.5079\n",
      "Epoch 4/5\n",
      "452/452 - 10s - loss: 0.1702 - mse: 0.1629 - val_loss: 1.6834 - val_mse: 1.6756\n",
      "Epoch 5/5\n",
      "452/452 - 10s - loss: 0.1169 - mse: 0.1087 - val_loss: 1.6293 - val_mse: 1.6206\n",
      "MSE: 1.7063316\n",
      "optimizer:Adam | embedding_dim:32 | lr:0.0001 | dropout:0.5 | hidden_units:(128, 128) | epochs:3 | batch_size:32\n",
      "Epoch 1/3\n"
     ]
    },
    {
     "name": "stderr",
     "output_type": "stream",
     "text": [
      "C:\\Users\\Montr\\anaconda3\\lib\\site-packages\\tensorflow\\python\\framework\\indexed_slices.py:433: UserWarning: Converting sparse IndexedSlices to a dense Tensor of unknown shape. This may consume a large amount of memory.\n",
      "  \"Converting sparse IndexedSlices to a dense Tensor of unknown shape. \"\n"
     ]
    },
    {
     "name": "stdout",
     "output_type": "stream",
     "text": [
      "904/904 - 15s - loss: 1.8283 - mse: 1.8268 - val_loss: 1.3968 - val_mse: 1.3930\n",
      "Epoch 2/3\n",
      "904/904 - 23s - loss: 0.6305 - mse: 0.6246 - val_loss: 1.4977 - val_mse: 1.4898\n",
      "Epoch 3/3\n",
      "904/904 - 23s - loss: 0.3095 - mse: 0.3001 - val_loss: 1.5141 - val_mse: 1.5030\n",
      "MSE: 1.5660837\n",
      "optimizer:Adam | embedding_dim:32 | lr:0.0001 | dropout:0.5 | hidden_units:(128, 128) | epochs:3 | batch_size:64\n",
      "Epoch 1/3\n"
     ]
    },
    {
     "name": "stderr",
     "output_type": "stream",
     "text": [
      "C:\\Users\\Montr\\anaconda3\\lib\\site-packages\\tensorflow\\python\\framework\\indexed_slices.py:433: UserWarning: Converting sparse IndexedSlices to a dense Tensor of unknown shape. This may consume a large amount of memory.\n",
      "  \"Converting sparse IndexedSlices to a dense Tensor of unknown shape. \"\n"
     ]
    },
    {
     "name": "stdout",
     "output_type": "stream",
     "text": [
      "452/452 - 12s - loss: 2.1499 - mse: 2.1491 - val_loss: 1.4151 - val_mse: 1.4129\n",
      "Epoch 2/3\n",
      "452/452 - 12s - loss: 0.6831 - mse: 0.6795 - val_loss: 1.5020 - val_mse: 1.4967\n",
      "Epoch 3/3\n",
      "452/452 - 12s - loss: 0.2904 - mse: 0.2843 - val_loss: 1.4870 - val_mse: 1.4800\n",
      "MSE: 1.5644233\n",
      "optimizer:Adam | embedding_dim:32 | lr:0.0001 | dropout:0.5 | hidden_units:(128, 128) | epochs:5 | batch_size:32\n",
      "Epoch 1/5\n"
     ]
    },
    {
     "name": "stderr",
     "output_type": "stream",
     "text": [
      "C:\\Users\\Montr\\anaconda3\\lib\\site-packages\\tensorflow\\python\\framework\\indexed_slices.py:433: UserWarning: Converting sparse IndexedSlices to a dense Tensor of unknown shape. This may consume a large amount of memory.\n",
      "  \"Converting sparse IndexedSlices to a dense Tensor of unknown shape. \"\n"
     ]
    },
    {
     "name": "stdout",
     "output_type": "stream",
     "text": [
      "904/904 - 23s - loss: 1.8199 - mse: 1.8184 - val_loss: 1.3974 - val_mse: 1.3935\n",
      "Epoch 2/5\n",
      "904/904 - 22s - loss: 0.6497 - mse: 0.6434 - val_loss: 1.4645 - val_mse: 1.4558\n",
      "Epoch 3/5\n",
      "904/904 - 23s - loss: 0.3157 - mse: 0.3056 - val_loss: 1.5606 - val_mse: 1.5489\n",
      "Epoch 4/5\n",
      "904/904 - 21s - loss: 0.1785 - mse: 0.1661 - val_loss: 1.6455 - val_mse: 1.6322\n",
      "Epoch 5/5\n",
      "904/904 - 16s - loss: 0.1396 - mse: 0.1259 - val_loss: 1.6042 - val_mse: 1.5897\n",
      "MSE: 1.6650431\n",
      "optimizer:Adam | embedding_dim:32 | lr:0.0001 | dropout:0.5 | hidden_units:(128, 128) | epochs:5 | batch_size:64\n",
      "Epoch 1/5\n"
     ]
    },
    {
     "name": "stderr",
     "output_type": "stream",
     "text": [
      "C:\\Users\\Montr\\anaconda3\\lib\\site-packages\\tensorflow\\python\\framework\\indexed_slices.py:433: UserWarning: Converting sparse IndexedSlices to a dense Tensor of unknown shape. This may consume a large amount of memory.\n",
      "  \"Converting sparse IndexedSlices to a dense Tensor of unknown shape. \"\n"
     ]
    },
    {
     "name": "stdout",
     "output_type": "stream",
     "text": [
      "452/452 - 14s - loss: 2.1154 - mse: 2.1145 - val_loss: 1.4005 - val_mse: 1.3983\n",
      "Epoch 2/5\n",
      "452/452 - 12s - loss: 0.6603 - mse: 0.6567 - val_loss: 1.5359 - val_mse: 1.5306\n",
      "Epoch 3/5\n",
      "452/452 - 13s - loss: 0.3035 - mse: 0.2975 - val_loss: 1.5369 - val_mse: 1.5299\n",
      "Epoch 4/5\n",
      "452/452 - 13s - loss: 0.1508 - mse: 0.1434 - val_loss: 1.5733 - val_mse: 1.5654\n",
      "Epoch 5/5\n",
      "452/452 - 12s - loss: 0.1137 - mse: 0.1055 - val_loss: 1.6028 - val_mse: 1.5943\n",
      "MSE: 1.6773301\n",
      "optimizer:Adam | embedding_dim:32 | lr:0.0001 | dropout:0.5 | hidden_units:(128, 128) | epochs:3 | batch_size:32\n",
      "Epoch 1/3\n"
     ]
    },
    {
     "name": "stderr",
     "output_type": "stream",
     "text": [
      "C:\\Users\\Montr\\anaconda3\\lib\\site-packages\\tensorflow\\python\\framework\\indexed_slices.py:433: UserWarning: Converting sparse IndexedSlices to a dense Tensor of unknown shape. This may consume a large amount of memory.\n",
      "  \"Converting sparse IndexedSlices to a dense Tensor of unknown shape. \"\n"
     ]
    },
    {
     "name": "stdout",
     "output_type": "stream",
     "text": [
      "904/904 - 19s - loss: 1.7990 - mse: 1.7975 - val_loss: 1.4084 - val_mse: 1.4046\n",
      "Epoch 2/3\n",
      "904/904 - 21s - loss: 0.6356 - mse: 0.6297 - val_loss: 1.5969 - val_mse: 1.5888\n",
      "Epoch 3/3\n",
      "904/904 - 24s - loss: 0.3127 - mse: 0.3033 - val_loss: 1.5438 - val_mse: 1.5327\n",
      "MSE: 1.6162276\n",
      "optimizer:Adam | embedding_dim:32 | lr:0.0001 | dropout:0.5 | hidden_units:(128, 128) | epochs:3 | batch_size:64\n",
      "Epoch 1/3\n"
     ]
    },
    {
     "name": "stderr",
     "output_type": "stream",
     "text": [
      "C:\\Users\\Montr\\anaconda3\\lib\\site-packages\\tensorflow\\python\\framework\\indexed_slices.py:433: UserWarning: Converting sparse IndexedSlices to a dense Tensor of unknown shape. This may consume a large amount of memory.\n",
      "  \"Converting sparse IndexedSlices to a dense Tensor of unknown shape. \"\n"
     ]
    },
    {
     "name": "stdout",
     "output_type": "stream",
     "text": [
      "452/452 - 13s - loss: 2.1096 - mse: 2.1087 - val_loss: 1.4010 - val_mse: 1.3988\n",
      "Epoch 2/3\n",
      "452/452 - 12s - loss: 0.6660 - mse: 0.6623 - val_loss: 1.4745 - val_mse: 1.4692\n",
      "Epoch 3/3\n",
      "452/452 - 13s - loss: 0.2998 - mse: 0.2937 - val_loss: 1.5338 - val_mse: 1.5266\n",
      "MSE: 1.584348\n",
      "optimizer:Adam | embedding_dim:32 | lr:0.0001 | dropout:0.5 | hidden_units:(128, 128) | epochs:5 | batch_size:32\n",
      "Epoch 1/5\n"
     ]
    },
    {
     "name": "stderr",
     "output_type": "stream",
     "text": [
      "C:\\Users\\Montr\\anaconda3\\lib\\site-packages\\tensorflow\\python\\framework\\indexed_slices.py:433: UserWarning: Converting sparse IndexedSlices to a dense Tensor of unknown shape. This may consume a large amount of memory.\n",
      "  \"Converting sparse IndexedSlices to a dense Tensor of unknown shape. \"\n"
     ]
    },
    {
     "name": "stdout",
     "output_type": "stream",
     "text": [
      "904/904 - 26s - loss: 1.8413 - mse: 1.8398 - val_loss: 1.4310 - val_mse: 1.4271\n",
      "Epoch 2/5\n",
      "904/904 - 23s - loss: 0.6336 - mse: 0.6277 - val_loss: 1.5195 - val_mse: 1.5112\n",
      "Epoch 3/5\n",
      "904/904 - 24s - loss: 0.3164 - mse: 0.3067 - val_loss: 1.5474 - val_mse: 1.5360\n",
      "Epoch 4/5\n",
      "904/904 - 24s - loss: 0.1813 - mse: 0.1693 - val_loss: 1.5946 - val_mse: 1.5816\n",
      "Epoch 5/5\n",
      "904/904 - 23s - loss: 0.1357 - mse: 0.1221 - val_loss: 1.6983 - val_mse: 1.6839\n",
      "MSE: 1.7478415\n",
      "optimizer:Adam | embedding_dim:32 | lr:0.0001 | dropout:0.5 | hidden_units:(128, 128) | epochs:5 | batch_size:64\n",
      "Epoch 1/5\n"
     ]
    },
    {
     "name": "stderr",
     "output_type": "stream",
     "text": [
      "C:\\Users\\Montr\\anaconda3\\lib\\site-packages\\tensorflow\\python\\framework\\indexed_slices.py:433: UserWarning: Converting sparse IndexedSlices to a dense Tensor of unknown shape. This may consume a large amount of memory.\n",
      "  \"Converting sparse IndexedSlices to a dense Tensor of unknown shape. \"\n"
     ]
    },
    {
     "name": "stdout",
     "output_type": "stream",
     "text": [
      "452/452 - 15s - loss: 2.1539 - mse: 2.1531 - val_loss: 1.3933 - val_mse: 1.3912\n",
      "Epoch 2/5\n",
      "452/452 - 13s - loss: 0.7001 - mse: 0.6963 - val_loss: 1.5394 - val_mse: 1.5338\n",
      "Epoch 3/5\n",
      "452/452 - 13s - loss: 0.3013 - mse: 0.2949 - val_loss: 1.5029 - val_mse: 1.4955\n",
      "Epoch 4/5\n",
      "452/452 - 12s - loss: 0.1702 - mse: 0.1622 - val_loss: 1.5795 - val_mse: 1.5710\n",
      "Epoch 5/5\n",
      "452/452 - 13s - loss: 0.1164 - mse: 0.1076 - val_loss: 1.6094 - val_mse: 1.6002\n",
      "MSE: 1.6806508\n",
      "optimizer:Adam | embedding_dim:32 | lr:0.0001 | dropout:0.5 | hidden_units:(128, 128) | epochs:3 | batch_size:32\n",
      "Epoch 1/3\n"
     ]
    },
    {
     "name": "stderr",
     "output_type": "stream",
     "text": [
      "C:\\Users\\Montr\\anaconda3\\lib\\site-packages\\tensorflow\\python\\framework\\indexed_slices.py:433: UserWarning: Converting sparse IndexedSlices to a dense Tensor of unknown shape. This may consume a large amount of memory.\n",
      "  \"Converting sparse IndexedSlices to a dense Tensor of unknown shape. \"\n"
     ]
    },
    {
     "name": "stdout",
     "output_type": "stream",
     "text": [
      "904/904 - 26s - loss: 1.8222 - mse: 1.8207 - val_loss: 1.4013 - val_mse: 1.3975\n",
      "Epoch 2/3\n",
      "904/904 - 15s - loss: 0.6496 - mse: 0.6435 - val_loss: 1.5229 - val_mse: 1.5141\n",
      "Epoch 3/3\n",
      "904/904 - 22s - loss: 0.3193 - mse: 0.3091 - val_loss: 1.4844 - val_mse: 1.4725\n",
      "MSE: 1.5743856\n",
      "optimizer:Adam | embedding_dim:32 | lr:0.0001 | dropout:0.5 | hidden_units:(128, 128) | epochs:3 | batch_size:64\n",
      "Epoch 1/3\n"
     ]
    },
    {
     "name": "stderr",
     "output_type": "stream",
     "text": [
      "C:\\Users\\Montr\\anaconda3\\lib\\site-packages\\tensorflow\\python\\framework\\indexed_slices.py:433: UserWarning: Converting sparse IndexedSlices to a dense Tensor of unknown shape. This may consume a large amount of memory.\n",
      "  \"Converting sparse IndexedSlices to a dense Tensor of unknown shape. \"\n"
     ]
    },
    {
     "name": "stdout",
     "output_type": "stream",
     "text": [
      "452/452 - 13s - loss: 2.1600 - mse: 2.1592 - val_loss: 1.3926 - val_mse: 1.3904\n",
      "Epoch 2/3\n",
      "452/452 - 13s - loss: 0.6826 - mse: 0.6790 - val_loss: 1.5603 - val_mse: 1.5549\n",
      "Epoch 3/3\n",
      "452/452 - 13s - loss: 0.3085 - mse: 0.3023 - val_loss: 1.5069 - val_mse: 1.4998\n",
      "MSE: 1.5909896\n",
      "optimizer:Adam | embedding_dim:32 | lr:0.0001 | dropout:0.5 | hidden_units:(128, 128) | epochs:5 | batch_size:32\n",
      "Epoch 1/5\n"
     ]
    },
    {
     "name": "stderr",
     "output_type": "stream",
     "text": [
      "C:\\Users\\Montr\\anaconda3\\lib\\site-packages\\tensorflow\\python\\framework\\indexed_slices.py:433: UserWarning: Converting sparse IndexedSlices to a dense Tensor of unknown shape. This may consume a large amount of memory.\n",
      "  \"Converting sparse IndexedSlices to a dense Tensor of unknown shape. \"\n"
     ]
    },
    {
     "name": "stdout",
     "output_type": "stream",
     "text": [
      "904/904 - 25s - loss: 1.8364 - mse: 1.8349 - val_loss: 1.4036 - val_mse: 1.3997\n",
      "Epoch 2/5\n",
      "904/904 - 23s - loss: 0.6312 - mse: 0.6252 - val_loss: 1.4537 - val_mse: 1.4454\n",
      "Epoch 3/5\n",
      "904/904 - 23s - loss: 0.3197 - mse: 0.3100 - val_loss: 1.5043 - val_mse: 1.4931\n",
      "Epoch 4/5\n",
      "904/904 - 23s - loss: 0.1796 - mse: 0.1675 - val_loss: 1.5997 - val_mse: 1.5866\n",
      "Epoch 5/5\n",
      "904/904 - 16s - loss: 0.1342 - mse: 0.1206 - val_loss: 1.5853 - val_mse: 1.5710\n",
      "MSE: 1.6628293\n",
      "optimizer:Adam | embedding_dim:32 | lr:0.0001 | dropout:0.5 | hidden_units:(128, 128) | epochs:5 | batch_size:64\n",
      "Epoch 1/5\n"
     ]
    },
    {
     "name": "stderr",
     "output_type": "stream",
     "text": [
      "C:\\Users\\Montr\\anaconda3\\lib\\site-packages\\tensorflow\\python\\framework\\indexed_slices.py:433: UserWarning: Converting sparse IndexedSlices to a dense Tensor of unknown shape. This may consume a large amount of memory.\n",
      "  \"Converting sparse IndexedSlices to a dense Tensor of unknown shape. \"\n"
     ]
    },
    {
     "name": "stdout",
     "output_type": "stream",
     "text": [
      "452/452 - 11s - loss: 2.1687 - mse: 2.1679 - val_loss: 1.4074 - val_mse: 1.4052\n",
      "Epoch 2/5\n",
      "452/452 - 10s - loss: 0.6747 - mse: 0.6711 - val_loss: 1.5603 - val_mse: 1.5550\n",
      "Epoch 3/5\n",
      "452/452 - 10s - loss: 0.3177 - mse: 0.3116 - val_loss: 1.4956 - val_mse: 1.4886\n",
      "Epoch 4/5\n",
      "452/452 - 10s - loss: 0.1691 - mse: 0.1616 - val_loss: 1.6016 - val_mse: 1.5936\n",
      "Epoch 5/5\n",
      "452/452 - 10s - loss: 0.1189 - mse: 0.1106 - val_loss: 1.6675 - val_mse: 1.6588\n",
      "MSE: 1.7603498\n",
      "optimizer:Adam | embedding_dim:32 | lr:0.0001 | dropout:0.5 | hidden_units:(128, 128) | epochs:3 | batch_size:32\n",
      "Epoch 1/3\n"
     ]
    },
    {
     "name": "stderr",
     "output_type": "stream",
     "text": [
      "C:\\Users\\Montr\\anaconda3\\lib\\site-packages\\tensorflow\\python\\framework\\indexed_slices.py:433: UserWarning: Converting sparse IndexedSlices to a dense Tensor of unknown shape. This may consume a large amount of memory.\n",
      "  \"Converting sparse IndexedSlices to a dense Tensor of unknown shape. \"\n"
     ]
    },
    {
     "name": "stdout",
     "output_type": "stream",
     "text": [
      "904/904 - 20s - loss: 1.8235 - mse: 1.8220 - val_loss: 1.4709 - val_mse: 1.4670\n",
      "Epoch 2/3\n",
      "904/904 - 19s - loss: 0.6153 - mse: 0.6094 - val_loss: 1.4836 - val_mse: 1.4758\n",
      "Epoch 3/3\n",
      "904/904 - 15s - loss: 0.3179 - mse: 0.3086 - val_loss: 1.5139 - val_mse: 1.5027\n",
      "MSE: 1.5802524\n",
      "optimizer:Adam | embedding_dim:32 | lr:0.0001 | dropout:0.5 | hidden_units:(128, 128) | epochs:3 | batch_size:64\n",
      "Epoch 1/3\n"
     ]
    },
    {
     "name": "stderr",
     "output_type": "stream",
     "text": [
      "C:\\Users\\Montr\\anaconda3\\lib\\site-packages\\tensorflow\\python\\framework\\indexed_slices.py:433: UserWarning: Converting sparse IndexedSlices to a dense Tensor of unknown shape. This may consume a large amount of memory.\n",
      "  \"Converting sparse IndexedSlices to a dense Tensor of unknown shape. \"\n"
     ]
    },
    {
     "name": "stdout",
     "output_type": "stream",
     "text": [
      "452/452 - 11s - loss: 2.0865 - mse: 2.0856 - val_loss: 1.3966 - val_mse: 1.3944\n",
      "Epoch 2/3\n",
      "452/452 - 10s - loss: 0.6802 - mse: 0.6765 - val_loss: 1.5565 - val_mse: 1.5512\n",
      "Epoch 3/3\n",
      "452/452 - 10s - loss: 0.3134 - mse: 0.3072 - val_loss: 1.5154 - val_mse: 1.5084\n",
      "MSE: 1.5812486\n",
      "optimizer:Adam | embedding_dim:32 | lr:0.0001 | dropout:0.5 | hidden_units:(128, 128) | epochs:5 | batch_size:32\n",
      "Epoch 1/5\n"
     ]
    },
    {
     "name": "stderr",
     "output_type": "stream",
     "text": [
      "C:\\Users\\Montr\\anaconda3\\lib\\site-packages\\tensorflow\\python\\framework\\indexed_slices.py:433: UserWarning: Converting sparse IndexedSlices to a dense Tensor of unknown shape. This may consume a large amount of memory.\n",
      "  \"Converting sparse IndexedSlices to a dense Tensor of unknown shape. \"\n"
     ]
    },
    {
     "name": "stdout",
     "output_type": "stream",
     "text": [
      "904/904 - 21s - loss: 1.8184 - mse: 1.8169 - val_loss: 1.4229 - val_mse: 1.4191\n",
      "Epoch 2/5\n",
      "904/904 - 19s - loss: 0.6713 - mse: 0.6653 - val_loss: 1.5690 - val_mse: 1.5605\n",
      "Epoch 3/5\n",
      "904/904 - 15s - loss: 0.3224 - mse: 0.3125 - val_loss: 1.5128 - val_mse: 1.5012\n",
      "Epoch 4/5\n",
      "904/904 - 19s - loss: 0.1689 - mse: 0.1567 - val_loss: 1.5472 - val_mse: 1.5342\n",
      "Epoch 5/5\n",
      "904/904 - 19s - loss: 0.1263 - mse: 0.1128 - val_loss: 1.5766 - val_mse: 1.5624\n",
      "MSE: 1.6671463\n",
      "optimizer:Adam | embedding_dim:32 | lr:0.0001 | dropout:0.5 | hidden_units:(128, 128) | epochs:5 | batch_size:64\n",
      "Epoch 1/5\n"
     ]
    },
    {
     "name": "stderr",
     "output_type": "stream",
     "text": [
      "C:\\Users\\Montr\\anaconda3\\lib\\site-packages\\tensorflow\\python\\framework\\indexed_slices.py:433: UserWarning: Converting sparse IndexedSlices to a dense Tensor of unknown shape. This may consume a large amount of memory.\n",
      "  \"Converting sparse IndexedSlices to a dense Tensor of unknown shape. \"\n"
     ]
    },
    {
     "name": "stdout",
     "output_type": "stream",
     "text": [
      "452/452 - 8s - loss: 2.0890 - mse: 2.0882 - val_loss: 1.3956 - val_mse: 1.3934\n",
      "Epoch 2/5\n",
      "452/452 - 9s - loss: 0.6754 - mse: 0.6717 - val_loss: 1.4836 - val_mse: 1.4783\n",
      "Epoch 3/5\n",
      "452/452 - 12s - loss: 0.2980 - mse: 0.2919 - val_loss: 1.5418 - val_mse: 1.5346\n",
      "Epoch 4/5\n",
      "452/452 - 12s - loss: 0.1555 - mse: 0.1479 - val_loss: 1.6410 - val_mse: 1.6329\n",
      "Epoch 5/5\n",
      "452/452 - 12s - loss: 0.1130 - mse: 0.1047 - val_loss: 1.5772 - val_mse: 1.5685\n",
      "MSE: 1.660062\n",
      "optimizer:Adam | embedding_dim:32 | lr:0.0001 | dropout:0.5 | hidden_units:(128, 128) | epochs:3 | batch_size:32\n",
      "Epoch 1/3\n"
     ]
    },
    {
     "name": "stderr",
     "output_type": "stream",
     "text": [
      "C:\\Users\\Montr\\anaconda3\\lib\\site-packages\\tensorflow\\python\\framework\\indexed_slices.py:433: UserWarning: Converting sparse IndexedSlices to a dense Tensor of unknown shape. This may consume a large amount of memory.\n",
      "  \"Converting sparse IndexedSlices to a dense Tensor of unknown shape. \"\n"
     ]
    },
    {
     "name": "stdout",
     "output_type": "stream",
     "text": [
      "904/904 - 23s - loss: 1.7998 - mse: 1.7983 - val_loss: 1.4033 - val_mse: 1.3994\n",
      "Epoch 2/3\n",
      "904/904 - 23s - loss: 0.6333 - mse: 0.6275 - val_loss: 1.5464 - val_mse: 1.5386\n",
      "Epoch 3/3\n",
      "904/904 - 23s - loss: 0.3076 - mse: 0.2984 - val_loss: 1.5433 - val_mse: 1.5324\n",
      "MSE: 1.6162276\n",
      "optimizer:Adam | embedding_dim:32 | lr:0.0001 | dropout:0.5 | hidden_units:(128, 128) | epochs:3 | batch_size:64\n",
      "Epoch 1/3\n"
     ]
    },
    {
     "name": "stderr",
     "output_type": "stream",
     "text": [
      "C:\\Users\\Montr\\anaconda3\\lib\\site-packages\\tensorflow\\python\\framework\\indexed_slices.py:433: UserWarning: Converting sparse IndexedSlices to a dense Tensor of unknown shape. This may consume a large amount of memory.\n",
      "  \"Converting sparse IndexedSlices to a dense Tensor of unknown shape. \"\n"
     ]
    },
    {
     "name": "stdout",
     "output_type": "stream",
     "text": [
      "452/452 - 13s - loss: 2.1035 - mse: 2.1027 - val_loss: 1.4010 - val_mse: 1.3988\n",
      "Epoch 2/3\n",
      "452/452 - 12s - loss: 0.6776 - mse: 0.6741 - val_loss: 1.5592 - val_mse: 1.5541\n",
      "Epoch 3/3\n",
      "452/452 - 12s - loss: 0.3051 - mse: 0.2992 - val_loss: 1.5110 - val_mse: 1.5042\n",
      "MSE: 1.6026124\n",
      "optimizer:Adam | embedding_dim:32 | lr:0.0001 | dropout:0.5 | hidden_units:(128, 128) | epochs:5 | batch_size:32\n",
      "Epoch 1/5\n"
     ]
    },
    {
     "name": "stderr",
     "output_type": "stream",
     "text": [
      "C:\\Users\\Montr\\anaconda3\\lib\\site-packages\\tensorflow\\python\\framework\\indexed_slices.py:433: UserWarning: Converting sparse IndexedSlices to a dense Tensor of unknown shape. This may consume a large amount of memory.\n",
      "  \"Converting sparse IndexedSlices to a dense Tensor of unknown shape. \"\n"
     ]
    },
    {
     "name": "stdout",
     "output_type": "stream",
     "text": [
      "904/904 - 19s - loss: 1.8123 - mse: 1.8108 - val_loss: 1.4273 - val_mse: 1.4235\n",
      "Epoch 2/5\n",
      "904/904 - 17s - loss: 0.6591 - mse: 0.6531 - val_loss: 1.5502 - val_mse: 1.5415\n",
      "Epoch 3/5\n",
      "904/904 - 22s - loss: 0.3281 - mse: 0.3181 - val_loss: 1.5195 - val_mse: 1.5080\n",
      "Epoch 4/5\n",
      "904/904 - 21s - loss: 0.1786 - mse: 0.1663 - val_loss: 1.5517 - val_mse: 1.5385\n",
      "Epoch 5/5\n",
      "904/904 - 22s - loss: 0.1308 - mse: 0.1170 - val_loss: 1.6438 - val_mse: 1.6292\n",
      "MSE: 1.7307948\n",
      "optimizer:Adam | embedding_dim:32 | lr:0.0001 | dropout:0.5 | hidden_units:(128, 128) | epochs:5 | batch_size:64\n",
      "Epoch 1/5\n"
     ]
    },
    {
     "name": "stderr",
     "output_type": "stream",
     "text": [
      "C:\\Users\\Montr\\anaconda3\\lib\\site-packages\\tensorflow\\python\\framework\\indexed_slices.py:433: UserWarning: Converting sparse IndexedSlices to a dense Tensor of unknown shape. This may consume a large amount of memory.\n",
      "  \"Converting sparse IndexedSlices to a dense Tensor of unknown shape. \"\n"
     ]
    },
    {
     "name": "stdout",
     "output_type": "stream",
     "text": [
      "452/452 - 13s - loss: 2.0948 - mse: 2.0940 - val_loss: 1.3994 - val_mse: 1.3973\n",
      "Epoch 2/5\n",
      "452/452 - 9s - loss: 0.6880 - mse: 0.6843 - val_loss: 1.4951 - val_mse: 1.4897\n",
      "Epoch 3/5\n",
      "452/452 - 7s - loss: 0.3022 - mse: 0.2960 - val_loss: 1.5039 - val_mse: 1.4968\n",
      "Epoch 4/5\n",
      "452/452 - 11s - loss: 0.1723 - mse: 0.1647 - val_loss: 1.6508 - val_mse: 1.6426\n",
      "Epoch 5/5\n",
      "452/452 - 12s - loss: 0.1176 - mse: 0.1091 - val_loss: 1.6372 - val_mse: 1.6284\n",
      "MSE: 1.7189506\n",
      "optimizer:Adam | embedding_dim:32 | lr:0.0001 | dropout:0.5 | hidden_units:(128, 128) | epochs:3 | batch_size:32\n",
      "Epoch 1/3\n"
     ]
    },
    {
     "name": "stderr",
     "output_type": "stream",
     "text": [
      "C:\\Users\\Montr\\anaconda3\\lib\\site-packages\\tensorflow\\python\\framework\\indexed_slices.py:433: UserWarning: Converting sparse IndexedSlices to a dense Tensor of unknown shape. This may consume a large amount of memory.\n",
      "  \"Converting sparse IndexedSlices to a dense Tensor of unknown shape. \"\n"
     ]
    },
    {
     "name": "stdout",
     "output_type": "stream",
     "text": [
      "904/904 - 25s - loss: 1.8310 - mse: 1.8295 - val_loss: 1.4116 - val_mse: 1.4078\n",
      "Epoch 2/3\n",
      "904/904 - 21s - loss: 0.6429 - mse: 0.6368 - val_loss: 1.4913 - val_mse: 1.4827\n",
      "Epoch 3/3\n",
      "904/904 - 23s - loss: 0.3019 - mse: 0.2918 - val_loss: 1.5254 - val_mse: 1.5137\n",
      "MSE: 1.5880009\n",
      "optimizer:Adam | embedding_dim:32 | lr:0.0001 | dropout:0.5 | hidden_units:(128, 128) | epochs:3 | batch_size:64\n",
      "Epoch 1/3\n"
     ]
    },
    {
     "name": "stderr",
     "output_type": "stream",
     "text": [
      "C:\\Users\\Montr\\anaconda3\\lib\\site-packages\\tensorflow\\python\\framework\\indexed_slices.py:433: UserWarning: Converting sparse IndexedSlices to a dense Tensor of unknown shape. This may consume a large amount of memory.\n",
      "  \"Converting sparse IndexedSlices to a dense Tensor of unknown shape. \"\n"
     ]
    },
    {
     "name": "stdout",
     "output_type": "stream",
     "text": [
      "452/452 - 14s - loss: 2.0818 - mse: 2.0810 - val_loss: 1.4112 - val_mse: 1.4090\n",
      "Epoch 2/3\n",
      "452/452 - 12s - loss: 0.6709 - mse: 0.6673 - val_loss: 1.5749 - val_mse: 1.5697\n",
      "Epoch 3/3\n",
      "452/452 - 12s - loss: 0.2963 - mse: 0.2902 - val_loss: 1.5422 - val_mse: 1.5352\n",
      "MSE: 1.6411335\n",
      "optimizer:Adam | embedding_dim:32 | lr:0.0001 | dropout:0.5 | hidden_units:(128, 128) | epochs:5 | batch_size:32\n",
      "Epoch 1/5\n"
     ]
    },
    {
     "name": "stderr",
     "output_type": "stream",
     "text": [
      "C:\\Users\\Montr\\anaconda3\\lib\\site-packages\\tensorflow\\python\\framework\\indexed_slices.py:433: UserWarning: Converting sparse IndexedSlices to a dense Tensor of unknown shape. This may consume a large amount of memory.\n",
      "  \"Converting sparse IndexedSlices to a dense Tensor of unknown shape. \"\n"
     ]
    },
    {
     "name": "stdout",
     "output_type": "stream",
     "text": [
      "904/904 - 25s - loss: 1.8168 - mse: 1.8153 - val_loss: 1.3883 - val_mse: 1.3845\n",
      "Epoch 2/5\n",
      "904/904 - 22s - loss: 0.6301 - mse: 0.6240 - val_loss: 1.4776 - val_mse: 1.4694\n",
      "Epoch 3/5\n",
      "904/904 - 23s - loss: 0.3247 - mse: 0.3150 - val_loss: 1.5318 - val_mse: 1.5205\n",
      "Epoch 4/5\n",
      "904/904 - 23s - loss: 0.1906 - mse: 0.1783 - val_loss: 1.6877 - val_mse: 1.6742\n",
      "Epoch 5/5\n",
      "904/904 - 22s - loss: 0.1386 - mse: 0.1246 - val_loss: 1.5876 - val_mse: 1.5728\n",
      "MSE: 1.6688067\n",
      "optimizer:Adam | embedding_dim:32 | lr:0.0001 | dropout:0.5 | hidden_units:(128, 128) | epochs:5 | batch_size:64\n",
      "Epoch 1/5\n"
     ]
    },
    {
     "name": "stderr",
     "output_type": "stream",
     "text": [
      "C:\\Users\\Montr\\anaconda3\\lib\\site-packages\\tensorflow\\python\\framework\\indexed_slices.py:433: UserWarning: Converting sparse IndexedSlices to a dense Tensor of unknown shape. This may consume a large amount of memory.\n",
      "  \"Converting sparse IndexedSlices to a dense Tensor of unknown shape. \"\n"
     ]
    },
    {
     "name": "stdout",
     "output_type": "stream",
     "text": [
      "452/452 - 13s - loss: 2.1603 - mse: 2.1595 - val_loss: 1.4027 - val_mse: 1.4005\n",
      "Epoch 2/5\n",
      "452/452 - 12s - loss: 0.6757 - mse: 0.6720 - val_loss: 1.5301 - val_mse: 1.5247\n",
      "Epoch 3/5\n",
      "452/452 - 10s - loss: 0.3057 - mse: 0.2994 - val_loss: 1.5331 - val_mse: 1.5260\n",
      "Epoch 4/5\n",
      "452/452 - 7s - loss: 0.1622 - mse: 0.1546 - val_loss: 1.7339 - val_mse: 1.7257\n",
      "Epoch 5/5\n",
      "452/452 - 8s - loss: 0.1136 - mse: 0.1051 - val_loss: 1.7555 - val_mse: 1.7466\n",
      "MSE: 1.8113792\n",
      "optimizer:Adam | embedding_dim:32 | lr:0.0001 | dropout:0.5 | hidden_units:(128, 128) | epochs:3 | batch_size:32\n",
      "Epoch 1/3\n"
     ]
    },
    {
     "name": "stderr",
     "output_type": "stream",
     "text": [
      "C:\\Users\\Montr\\anaconda3\\lib\\site-packages\\tensorflow\\python\\framework\\indexed_slices.py:433: UserWarning: Converting sparse IndexedSlices to a dense Tensor of unknown shape. This may consume a large amount of memory.\n",
      "  \"Converting sparse IndexedSlices to a dense Tensor of unknown shape. \"\n"
     ]
    },
    {
     "name": "stdout",
     "output_type": "stream",
     "text": [
      "904/904 - 22s - loss: 1.8218 - mse: 1.8204 - val_loss: 1.3975 - val_mse: 1.3936\n",
      "Epoch 2/3\n",
      "904/904 - 22s - loss: 0.6190 - mse: 0.6131 - val_loss: 1.5331 - val_mse: 1.5253\n",
      "Epoch 3/3\n",
      "904/904 - 22s - loss: 0.3166 - mse: 0.3073 - val_loss: 1.5491 - val_mse: 1.5381\n",
      "MSE: 1.6111357\n",
      "optimizer:Adam | embedding_dim:32 | lr:0.0001 | dropout:0.5 | hidden_units:(128, 128) | epochs:3 | batch_size:64\n",
      "Epoch 1/3\n"
     ]
    },
    {
     "name": "stderr",
     "output_type": "stream",
     "text": [
      "C:\\Users\\Montr\\anaconda3\\lib\\site-packages\\tensorflow\\python\\framework\\indexed_slices.py:433: UserWarning: Converting sparse IndexedSlices to a dense Tensor of unknown shape. This may consume a large amount of memory.\n",
      "  \"Converting sparse IndexedSlices to a dense Tensor of unknown shape. \"\n"
     ]
    },
    {
     "name": "stdout",
     "output_type": "stream",
     "text": [
      "452/452 - 13s - loss: 2.1311 - mse: 2.1303 - val_loss: 1.3909 - val_mse: 1.3887\n",
      "Epoch 2/3\n",
      "452/452 - 12s - loss: 0.6897 - mse: 0.6860 - val_loss: 1.5266 - val_mse: 1.5211\n",
      "Epoch 3/3\n",
      "452/452 - 12s - loss: 0.2921 - mse: 0.2858 - val_loss: 1.5037 - val_mse: 1.4964\n",
      "MSE: 1.574275\n",
      "optimizer:Adam | embedding_dim:32 | lr:0.0001 | dropout:0.5 | hidden_units:(128, 128) | epochs:5 | batch_size:32\n",
      "Epoch 1/5\n"
     ]
    },
    {
     "name": "stderr",
     "output_type": "stream",
     "text": [
      "C:\\Users\\Montr\\anaconda3\\lib\\site-packages\\tensorflow\\python\\framework\\indexed_slices.py:433: UserWarning: Converting sparse IndexedSlices to a dense Tensor of unknown shape. This may consume a large amount of memory.\n",
      "  \"Converting sparse IndexedSlices to a dense Tensor of unknown shape. \"\n"
     ]
    },
    {
     "name": "stdout",
     "output_type": "stream",
     "text": [
      "904/904 - 23s - loss: 1.8429 - mse: 1.8414 - val_loss: 1.3915 - val_mse: 1.3876\n",
      "Epoch 2/5\n",
      "904/904 - 14s - loss: 0.6454 - mse: 0.6392 - val_loss: 1.4753 - val_mse: 1.4665\n",
      "Epoch 3/5\n",
      "904/904 - 18s - loss: 0.3135 - mse: 0.3033 - val_loss: 1.5104 - val_mse: 1.4986\n",
      "Epoch 4/5\n",
      "904/904 - 18s - loss: 0.1833 - mse: 0.1707 - val_loss: 1.6440 - val_mse: 1.6304\n",
      "Epoch 5/5\n",
      "904/904 - 18s - loss: 0.1342 - mse: 0.1200 - val_loss: 1.5523 - val_mse: 1.5375\n",
      "MSE: 1.6281824\n",
      "optimizer:Adam | embedding_dim:32 | lr:0.0001 | dropout:0.5 | hidden_units:(128, 128) | epochs:5 | batch_size:64\n",
      "Epoch 1/5\n"
     ]
    },
    {
     "name": "stderr",
     "output_type": "stream",
     "text": [
      "C:\\Users\\Montr\\anaconda3\\lib\\site-packages\\tensorflow\\python\\framework\\indexed_slices.py:433: UserWarning: Converting sparse IndexedSlices to a dense Tensor of unknown shape. This may consume a large amount of memory.\n",
      "  \"Converting sparse IndexedSlices to a dense Tensor of unknown shape. \"\n"
     ]
    },
    {
     "name": "stdout",
     "output_type": "stream",
     "text": [
      "452/452 - 7s - loss: 2.1324 - mse: 2.1316 - val_loss: 1.4035 - val_mse: 1.4013\n",
      "Epoch 2/5\n",
      "452/452 - 9s - loss: 0.6670 - mse: 0.6634 - val_loss: 1.5535 - val_mse: 1.5484\n",
      "Epoch 3/5\n",
      "452/452 - 9s - loss: 0.2998 - mse: 0.2938 - val_loss: 1.5309 - val_mse: 1.5240\n",
      "Epoch 4/5\n",
      "452/452 - 9s - loss: 0.1588 - mse: 0.1515 - val_loss: 1.6348 - val_mse: 1.6269\n",
      "Epoch 5/5\n",
      "452/452 - 9s - loss: 0.1170 - mse: 0.1088 - val_loss: 1.5977 - val_mse: 1.5891\n",
      "MSE: 1.6702458\n",
      "optimizer:Adam | embedding_dim:32 | lr:0.0001 | dropout:0.5 | hidden_units:(128, 128) | epochs:3 | batch_size:32\n",
      "Epoch 1/3\n"
     ]
    },
    {
     "name": "stderr",
     "output_type": "stream",
     "text": [
      "C:\\Users\\Montr\\anaconda3\\lib\\site-packages\\tensorflow\\python\\framework\\indexed_slices.py:433: UserWarning: Converting sparse IndexedSlices to a dense Tensor of unknown shape. This may consume a large amount of memory.\n",
      "  \"Converting sparse IndexedSlices to a dense Tensor of unknown shape. \"\n"
     ]
    },
    {
     "name": "stdout",
     "output_type": "stream",
     "text": [
      "904/904 - 18s - loss: 1.8427 - mse: 1.8413 - val_loss: 1.4041 - val_mse: 1.4003\n",
      "Epoch 2/3\n",
      "904/904 - 18s - loss: 0.6471 - mse: 0.6410 - val_loss: 1.4865 - val_mse: 1.4777\n",
      "Epoch 3/3\n",
      "904/904 - 18s - loss: 0.3165 - mse: 0.3063 - val_loss: 1.5524 - val_mse: 1.5408\n",
      "MSE: 1.6301749\n",
      "optimizer:Adam | embedding_dim:32 | lr:0.0001 | dropout:0.5 | hidden_units:(128, 128) | epochs:3 | batch_size:64\n",
      "Epoch 1/3\n"
     ]
    },
    {
     "name": "stderr",
     "output_type": "stream",
     "text": [
      "C:\\Users\\Montr\\anaconda3\\lib\\site-packages\\tensorflow\\python\\framework\\indexed_slices.py:433: UserWarning: Converting sparse IndexedSlices to a dense Tensor of unknown shape. This may consume a large amount of memory.\n",
      "  \"Converting sparse IndexedSlices to a dense Tensor of unknown shape. \"\n"
     ]
    },
    {
     "name": "stdout",
     "output_type": "stream",
     "text": [
      "452/452 - 11s - loss: 2.1638 - mse: 2.1630 - val_loss: 1.4106 - val_mse: 1.4085\n",
      "Epoch 2/3\n",
      "452/452 - 10s - loss: 0.6844 - mse: 0.6807 - val_loss: 1.5730 - val_mse: 1.5675\n",
      "Epoch 3/3\n",
      "452/452 - 10s - loss: 0.3134 - mse: 0.3071 - val_loss: 1.5086 - val_mse: 1.5014\n",
      "MSE: 1.5815806\n",
      "optimizer:Adam | embedding_dim:32 | lr:0.0001 | dropout:0.5 | hidden_units:(128, 128) | epochs:5 | batch_size:32\n",
      "Epoch 1/5\n"
     ]
    },
    {
     "name": "stderr",
     "output_type": "stream",
     "text": [
      "C:\\Users\\Montr\\anaconda3\\lib\\site-packages\\tensorflow\\python\\framework\\indexed_slices.py:433: UserWarning: Converting sparse IndexedSlices to a dense Tensor of unknown shape. This may consume a large amount of memory.\n",
      "  \"Converting sparse IndexedSlices to a dense Tensor of unknown shape. \"\n"
     ]
    },
    {
     "name": "stdout",
     "output_type": "stream",
     "text": [
      "904/904 - 15s - loss: 1.8333 - mse: 1.8319 - val_loss: 1.4386 - val_mse: 1.4348\n",
      "Epoch 2/5\n",
      "904/904 - 17s - loss: 0.6491 - mse: 0.6431 - val_loss: 1.5306 - val_mse: 1.5221\n",
      "Epoch 3/5\n",
      "904/904 - 18s - loss: 0.3349 - mse: 0.3251 - val_loss: 1.5104 - val_mse: 1.4991\n",
      "Epoch 4/5\n",
      "904/904 - 18s - loss: 0.1762 - mse: 0.1642 - val_loss: 1.6288 - val_mse: 1.6158\n",
      "Epoch 5/5\n",
      "904/904 - 16s - loss: 0.1378 - mse: 0.1242 - val_loss: 1.5624 - val_mse: 1.5478\n",
      "MSE: 1.6198804\n",
      "optimizer:Adam | embedding_dim:32 | lr:0.0001 | dropout:0.5 | hidden_units:(128, 128) | epochs:5 | batch_size:64\n",
      "Epoch 1/5\n"
     ]
    },
    {
     "name": "stderr",
     "output_type": "stream",
     "text": [
      "C:\\Users\\Montr\\anaconda3\\lib\\site-packages\\tensorflow\\python\\framework\\indexed_slices.py:433: UserWarning: Converting sparse IndexedSlices to a dense Tensor of unknown shape. This may consume a large amount of memory.\n",
      "  \"Converting sparse IndexedSlices to a dense Tensor of unknown shape. \"\n"
     ]
    },
    {
     "name": "stdout",
     "output_type": "stream",
     "text": [
      "452/452 - 13s - loss: 2.1325 - mse: 2.1316 - val_loss: 1.3991 - val_mse: 1.3969\n",
      "Epoch 2/5\n",
      "452/452 - 12s - loss: 0.6726 - mse: 0.6691 - val_loss: 1.4890 - val_mse: 1.4839\n",
      "Epoch 3/5\n",
      "452/452 - 12s - loss: 0.3033 - mse: 0.2974 - val_loss: 1.5201 - val_mse: 1.5134\n",
      "Epoch 4/5\n",
      "452/452 - 12s - loss: 0.1650 - mse: 0.1578 - val_loss: 1.6093 - val_mse: 1.6015\n",
      "Epoch 5/5\n",
      "452/452 - 12s - loss: 0.1166 - mse: 0.1085 - val_loss: 1.6305 - val_mse: 1.6220\n",
      "MSE: 1.7003542\n",
      "optimizer:Adam | embedding_dim:32 | lr:0.0001 | dropout:0.5 | hidden_units:(128, 128) | epochs:3 | batch_size:32\n",
      "Epoch 1/3\n"
     ]
    },
    {
     "name": "stderr",
     "output_type": "stream",
     "text": [
      "C:\\Users\\Montr\\anaconda3\\lib\\site-packages\\tensorflow\\python\\framework\\indexed_slices.py:433: UserWarning: Converting sparse IndexedSlices to a dense Tensor of unknown shape. This may consume a large amount of memory.\n",
      "  \"Converting sparse IndexedSlices to a dense Tensor of unknown shape. \"\n"
     ]
    },
    {
     "name": "stdout",
     "output_type": "stream",
     "text": [
      "904/904 - 23s - loss: 1.8119 - mse: 1.8104 - val_loss: 1.4784 - val_mse: 1.4745\n",
      "Epoch 2/3\n",
      "904/904 - 22s - loss: 0.6428 - mse: 0.6369 - val_loss: 1.5293 - val_mse: 1.5210\n",
      "Epoch 3/3\n",
      "904/904 - 21s - loss: 0.3181 - mse: 0.3085 - val_loss: 1.5440 - val_mse: 1.5328\n",
      "MSE: 1.6058224\n",
      "optimizer:Adam | embedding_dim:32 | lr:0.0001 | dropout:0.5 | hidden_units:(128, 128) | epochs:3 | batch_size:64\n",
      "Epoch 1/3\n"
     ]
    },
    {
     "name": "stderr",
     "output_type": "stream",
     "text": [
      "C:\\Users\\Montr\\anaconda3\\lib\\site-packages\\tensorflow\\python\\framework\\indexed_slices.py:433: UserWarning: Converting sparse IndexedSlices to a dense Tensor of unknown shape. This may consume a large amount of memory.\n",
      "  \"Converting sparse IndexedSlices to a dense Tensor of unknown shape. \"\n"
     ]
    },
    {
     "name": "stdout",
     "output_type": "stream",
     "text": [
      "452/452 - 13s - loss: 2.0933 - mse: 2.0925 - val_loss: 1.3869 - val_mse: 1.3848\n",
      "Epoch 2/3\n",
      "452/452 - 12s - loss: 0.6664 - mse: 0.6627 - val_loss: 1.5194 - val_mse: 1.5140\n",
      "Epoch 3/3\n",
      "452/452 - 12s - loss: 0.3022 - mse: 0.2960 - val_loss: 1.5074 - val_mse: 1.5003\n",
      "MSE: 1.6115785\n",
      "optimizer:Adam | embedding_dim:32 | lr:0.0001 | dropout:0.5 | hidden_units:(128, 128) | epochs:5 | batch_size:32\n",
      "Epoch 1/5\n"
     ]
    },
    {
     "name": "stderr",
     "output_type": "stream",
     "text": [
      "C:\\Users\\Montr\\anaconda3\\lib\\site-packages\\tensorflow\\python\\framework\\indexed_slices.py:433: UserWarning: Converting sparse IndexedSlices to a dense Tensor of unknown shape. This may consume a large amount of memory.\n",
      "  \"Converting sparse IndexedSlices to a dense Tensor of unknown shape. \"\n"
     ]
    },
    {
     "name": "stdout",
     "output_type": "stream",
     "text": [
      "904/904 - 14s - loss: 1.8069 - mse: 1.8054 - val_loss: 1.4043 - val_mse: 1.4004\n",
      "Epoch 2/5\n",
      "904/904 - 22s - loss: 0.6398 - mse: 0.6338 - val_loss: 1.4701 - val_mse: 1.4617\n",
      "Epoch 3/5\n",
      "904/904 - 21s - loss: 0.3088 - mse: 0.2990 - val_loss: 1.4900 - val_mse: 1.4786\n",
      "Epoch 4/5\n",
      "904/904 - 21s - loss: 0.1861 - mse: 0.1739 - val_loss: 1.5518 - val_mse: 1.5386\n",
      "Epoch 5/5\n",
      "904/904 - 21s - loss: 0.1471 - mse: 0.1333 - val_loss: 1.5559 - val_mse: 1.5413\n",
      "MSE: 1.6196591\n",
      "optimizer:Adam | embedding_dim:32 | lr:0.0001 | dropout:0.5 | hidden_units:(128, 128) | epochs:5 | batch_size:64\n",
      "Epoch 1/5\n"
     ]
    },
    {
     "name": "stderr",
     "output_type": "stream",
     "text": [
      "C:\\Users\\Montr\\anaconda3\\lib\\site-packages\\tensorflow\\python\\framework\\indexed_slices.py:433: UserWarning: Converting sparse IndexedSlices to a dense Tensor of unknown shape. This may consume a large amount of memory.\n",
      "  \"Converting sparse IndexedSlices to a dense Tensor of unknown shape. \"\n"
     ]
    },
    {
     "name": "stdout",
     "output_type": "stream",
     "text": [
      "452/452 - 13s - loss: 2.1633 - mse: 2.1625 - val_loss: 1.4023 - val_mse: 1.4001\n",
      "Epoch 2/5\n",
      "452/452 - 11s - loss: 0.6676 - mse: 0.6639 - val_loss: 1.4983 - val_mse: 1.4930\n",
      "Epoch 3/5\n",
      "452/452 - 7s - loss: 0.3007 - mse: 0.2946 - val_loss: 1.5428 - val_mse: 1.5357\n",
      "Epoch 4/5\n",
      "452/452 - 8s - loss: 0.1555 - mse: 0.1481 - val_loss: 1.6868 - val_mse: 1.6789\n",
      "Epoch 5/5\n",
      "452/452 - 12s - loss: 0.1100 - mse: 0.1018 - val_loss: 1.6260 - val_mse: 1.6174\n",
      "MSE: 1.7053354\n",
      "optimizer:Adam | embedding_dim:32 | lr:0.0001 | dropout:0.5 | hidden_units:(128, 128) | epochs:3 | batch_size:32\n",
      "Epoch 1/3\n"
     ]
    },
    {
     "name": "stderr",
     "output_type": "stream",
     "text": [
      "C:\\Users\\Montr\\anaconda3\\lib\\site-packages\\tensorflow\\python\\framework\\indexed_slices.py:433: UserWarning: Converting sparse IndexedSlices to a dense Tensor of unknown shape. This may consume a large amount of memory.\n",
      "  \"Converting sparse IndexedSlices to a dense Tensor of unknown shape. \"\n"
     ]
    },
    {
     "name": "stdout",
     "output_type": "stream",
     "text": [
      "904/904 - 24s - loss: 1.8147 - mse: 1.8133 - val_loss: 1.4014 - val_mse: 1.3976\n",
      "Epoch 2/3\n",
      "904/904 - 21s - loss: 0.6333 - mse: 0.6274 - val_loss: 1.4712 - val_mse: 1.4632\n",
      "Epoch 3/3\n",
      "904/904 - 22s - loss: 0.3121 - mse: 0.3026 - val_loss: 1.5106 - val_mse: 1.4995\n",
      "MSE: 1.5620987\n",
      "optimizer:Adam | embedding_dim:32 | lr:0.0001 | dropout:0.5 | hidden_units:(128, 128) | epochs:3 | batch_size:64\n",
      "Epoch 1/3\n"
     ]
    },
    {
     "name": "stderr",
     "output_type": "stream",
     "text": [
      "C:\\Users\\Montr\\anaconda3\\lib\\site-packages\\tensorflow\\python\\framework\\indexed_slices.py:433: UserWarning: Converting sparse IndexedSlices to a dense Tensor of unknown shape. This may consume a large amount of memory.\n",
      "  \"Converting sparse IndexedSlices to a dense Tensor of unknown shape. \"\n"
     ]
    },
    {
     "name": "stdout",
     "output_type": "stream",
     "text": [
      "452/452 - 14s - loss: 2.1100 - mse: 2.1092 - val_loss: 1.3926 - val_mse: 1.3904\n",
      "Epoch 2/3\n",
      "452/452 - 12s - loss: 0.6798 - mse: 0.6762 - val_loss: 1.5535 - val_mse: 1.5482\n",
      "Epoch 3/3\n",
      "452/452 - 11s - loss: 0.3095 - mse: 0.3034 - val_loss: 1.5066 - val_mse: 1.4996\n",
      "MSE: 1.5812486\n",
      "optimizer:Adam | embedding_dim:32 | lr:0.0001 | dropout:0.5 | hidden_units:(128, 128) | epochs:5 | batch_size:32\n",
      "Epoch 1/5\n"
     ]
    },
    {
     "name": "stderr",
     "output_type": "stream",
     "text": [
      "C:\\Users\\Montr\\anaconda3\\lib\\site-packages\\tensorflow\\python\\framework\\indexed_slices.py:433: UserWarning: Converting sparse IndexedSlices to a dense Tensor of unknown shape. This may consume a large amount of memory.\n",
      "  \"Converting sparse IndexedSlices to a dense Tensor of unknown shape. \"\n"
     ]
    },
    {
     "name": "stdout",
     "output_type": "stream",
     "text": [
      "904/904 - 24s - loss: 1.7984 - mse: 1.7969 - val_loss: 1.4070 - val_mse: 1.4032\n",
      "Epoch 2/5\n",
      "904/904 - 22s - loss: 0.6280 - mse: 0.6219 - val_loss: 1.5016 - val_mse: 1.4934\n",
      "Epoch 3/5\n",
      "904/904 - 22s - loss: 0.3213 - mse: 0.3116 - val_loss: 1.5599 - val_mse: 1.5485\n",
      "Epoch 4/5\n",
      "904/904 - 23s - loss: 0.1812 - mse: 0.1690 - val_loss: 1.6382 - val_mse: 1.6251\n",
      "Epoch 5/5\n",
      "904/904 - 22s - loss: 0.1353 - mse: 0.1216 - val_loss: 1.6773 - val_mse: 1.6629\n",
      "MSE: 1.7632278\n",
      "optimizer:Adam | embedding_dim:32 | lr:0.0001 | dropout:0.5 | hidden_units:(128, 128) | epochs:5 | batch_size:64\n",
      "Epoch 1/5\n"
     ]
    },
    {
     "name": "stderr",
     "output_type": "stream",
     "text": [
      "C:\\Users\\Montr\\anaconda3\\lib\\site-packages\\tensorflow\\python\\framework\\indexed_slices.py:433: UserWarning: Converting sparse IndexedSlices to a dense Tensor of unknown shape. This may consume a large amount of memory.\n",
      "  \"Converting sparse IndexedSlices to a dense Tensor of unknown shape. \"\n"
     ]
    },
    {
     "name": "stdout",
     "output_type": "stream",
     "text": [
      "452/452 - 13s - loss: 2.0843 - mse: 2.0835 - val_loss: 1.3855 - val_mse: 1.3833\n",
      "Epoch 2/5\n",
      "452/452 - 12s - loss: 0.6838 - mse: 0.6801 - val_loss: 1.4914 - val_mse: 1.4858\n",
      "Epoch 3/5\n",
      "452/452 - 12s - loss: 0.3059 - mse: 0.2996 - val_loss: 1.5069 - val_mse: 1.4996\n",
      "Epoch 4/5\n",
      "452/452 - 12s - loss: 0.1671 - mse: 0.1594 - val_loss: 1.6076 - val_mse: 1.5992\n",
      "Epoch 5/5\n",
      "452/452 - 12s - loss: 0.1112 - mse: 0.1026 - val_loss: 1.6754 - val_mse: 1.6665\n",
      "MSE: 1.7397609\n",
      "optimizer:Adam | embedding_dim:32 | lr:0.0001 | dropout:0.5 | hidden_units:(128, 128) | epochs:3 | batch_size:32\n",
      "Epoch 1/3\n"
     ]
    },
    {
     "name": "stderr",
     "output_type": "stream",
     "text": [
      "C:\\Users\\Montr\\anaconda3\\lib\\site-packages\\tensorflow\\python\\framework\\indexed_slices.py:433: UserWarning: Converting sparse IndexedSlices to a dense Tensor of unknown shape. This may consume a large amount of memory.\n",
      "  \"Converting sparse IndexedSlices to a dense Tensor of unknown shape. \"\n"
     ]
    },
    {
     "name": "stdout",
     "output_type": "stream",
     "text": [
      "904/904 - 18s - loss: 1.8072 - mse: 1.8057 - val_loss: 1.4057 - val_mse: 1.4018\n",
      "Epoch 2/3\n",
      "904/904 - 21s - loss: 0.6176 - mse: 0.6119 - val_loss: 1.4665 - val_mse: 1.4589\n",
      "Epoch 3/3\n",
      "904/904 - 19s - loss: 0.3174 - mse: 0.3082 - val_loss: 1.4765 - val_mse: 1.4654\n",
      "MSE: 1.5540181\n",
      "optimizer:Adam | embedding_dim:32 | lr:0.0001 | dropout:0.5 | hidden_units:(128, 128) | epochs:3 | batch_size:64\n",
      "Epoch 1/3\n"
     ]
    },
    {
     "name": "stderr",
     "output_type": "stream",
     "text": [
      "C:\\Users\\Montr\\anaconda3\\lib\\site-packages\\tensorflow\\python\\framework\\indexed_slices.py:433: UserWarning: Converting sparse IndexedSlices to a dense Tensor of unknown shape. This may consume a large amount of memory.\n",
      "  \"Converting sparse IndexedSlices to a dense Tensor of unknown shape. \"\n"
     ]
    },
    {
     "name": "stdout",
     "output_type": "stream",
     "text": [
      "452/452 - 13s - loss: 2.1366 - mse: 2.1358 - val_loss: 1.3904 - val_mse: 1.3883\n",
      "Epoch 2/3\n",
      "452/452 - 11s - loss: 0.6606 - mse: 0.6569 - val_loss: 1.4978 - val_mse: 1.4924\n",
      "Epoch 3/3\n",
      "452/452 - 11s - loss: 0.2935 - mse: 0.2873 - val_loss: 1.4984 - val_mse: 1.4912\n",
      "MSE: 1.574607\n",
      "optimizer:Adam | embedding_dim:32 | lr:0.0001 | dropout:0.5 | hidden_units:(128, 128) | epochs:5 | batch_size:32\n",
      "Epoch 1/5\n"
     ]
    },
    {
     "name": "stderr",
     "output_type": "stream",
     "text": [
      "C:\\Users\\Montr\\anaconda3\\lib\\site-packages\\tensorflow\\python\\framework\\indexed_slices.py:433: UserWarning: Converting sparse IndexedSlices to a dense Tensor of unknown shape. This may consume a large amount of memory.\n",
      "  \"Converting sparse IndexedSlices to a dense Tensor of unknown shape. \"\n"
     ]
    },
    {
     "name": "stdout",
     "output_type": "stream",
     "text": [
      "904/904 - 22s - loss: 1.8426 - mse: 1.8412 - val_loss: 1.4052 - val_mse: 1.4015\n",
      "Epoch 2/5\n",
      "904/904 - 21s - loss: 0.6378 - mse: 0.6317 - val_loss: 1.4977 - val_mse: 1.4890\n",
      "Epoch 3/5\n",
      "904/904 - 20s - loss: 0.3217 - mse: 0.3116 - val_loss: 1.5019 - val_mse: 1.4901\n",
      "Epoch 4/5\n",
      "904/904 - 21s - loss: 0.1955 - mse: 0.1827 - val_loss: 1.5209 - val_mse: 1.5069\n",
      "Epoch 5/5\n",
      "904/904 - 15s - loss: 0.1345 - mse: 0.1200 - val_loss: 1.5392 - val_mse: 1.5240\n",
      "MSE: 1.6183307\n",
      "optimizer:Adam | embedding_dim:32 | lr:0.0001 | dropout:0.5 | hidden_units:(128, 128) | epochs:5 | batch_size:64\n",
      "Epoch 1/5\n"
     ]
    },
    {
     "name": "stderr",
     "output_type": "stream",
     "text": [
      "C:\\Users\\Montr\\anaconda3\\lib\\site-packages\\tensorflow\\python\\framework\\indexed_slices.py:433: UserWarning: Converting sparse IndexedSlices to a dense Tensor of unknown shape. This may consume a large amount of memory.\n",
      "  \"Converting sparse IndexedSlices to a dense Tensor of unknown shape. \"\n"
     ]
    },
    {
     "name": "stdout",
     "output_type": "stream",
     "text": [
      "452/452 - 11s - loss: 2.1483 - mse: 2.1475 - val_loss: 1.4392 - val_mse: 1.4370\n",
      "Epoch 2/5\n",
      "452/452 - 9s - loss: 0.6962 - mse: 0.6924 - val_loss: 1.5315 - val_mse: 1.5259\n",
      "Epoch 3/5\n",
      "452/452 - 10s - loss: 0.3101 - mse: 0.3036 - val_loss: 1.5039 - val_mse: 1.4965\n",
      "Epoch 4/5\n",
      "452/452 - 10s - loss: 0.1634 - mse: 0.1555 - val_loss: 1.6245 - val_mse: 1.6161\n",
      "Epoch 5/5\n",
      "452/452 - 10s - loss: 0.1184 - mse: 0.1097 - val_loss: 1.6584 - val_mse: 1.6492\n",
      "MSE: 1.7312375\n",
      "optimizer:Adam | embedding_dim:32 | lr:0.0001 | dropout:0.5 | hidden_units:(128, 128) | epochs:3 | batch_size:32\n",
      "Epoch 1/3\n"
     ]
    },
    {
     "name": "stderr",
     "output_type": "stream",
     "text": [
      "C:\\Users\\Montr\\anaconda3\\lib\\site-packages\\tensorflow\\python\\framework\\indexed_slices.py:433: UserWarning: Converting sparse IndexedSlices to a dense Tensor of unknown shape. This may consume a large amount of memory.\n",
      "  \"Converting sparse IndexedSlices to a dense Tensor of unknown shape. \"\n"
     ]
    },
    {
     "name": "stdout",
     "output_type": "stream",
     "text": [
      "904/904 - 17s - loss: 1.7982 - mse: 1.7968 - val_loss: 1.4329 - val_mse: 1.4292\n",
      "Epoch 2/3\n",
      "904/904 - 17s - loss: 0.6474 - mse: 0.6414 - val_loss: 1.4759 - val_mse: 1.4674\n",
      "Epoch 3/3\n",
      "904/904 - 16s - loss: 0.3205 - mse: 0.3106 - val_loss: 1.5945 - val_mse: 1.5831\n",
      "MSE: 1.6668142\n",
      "optimizer:Adam | embedding_dim:32 | lr:0.0001 | dropout:0.5 | hidden_units:(128, 128) | epochs:3 | batch_size:64\n",
      "Epoch 1/3\n"
     ]
    },
    {
     "name": "stderr",
     "output_type": "stream",
     "text": [
      "C:\\Users\\Montr\\anaconda3\\lib\\site-packages\\tensorflow\\python\\framework\\indexed_slices.py:433: UserWarning: Converting sparse IndexedSlices to a dense Tensor of unknown shape. This may consume a large amount of memory.\n",
      "  \"Converting sparse IndexedSlices to a dense Tensor of unknown shape. \"\n"
     ]
    },
    {
     "name": "stdout",
     "output_type": "stream",
     "text": [
      "452/452 - 11s - loss: 2.1287 - mse: 2.1279 - val_loss: 1.4027 - val_mse: 1.4005\n",
      "Epoch 2/3\n",
      "452/452 - 9s - loss: 0.6786 - mse: 0.6750 - val_loss: 1.5098 - val_mse: 1.5044\n",
      "Epoch 3/3\n",
      "452/452 - 10s - loss: 0.3005 - mse: 0.2943 - val_loss: 1.6090 - val_mse: 1.6020\n",
      "MSE: 1.7079921\n",
      "optimizer:Adam | embedding_dim:32 | lr:0.0001 | dropout:0.5 | hidden_units:(128, 128) | epochs:5 | batch_size:32\n",
      "Epoch 1/5\n"
     ]
    },
    {
     "name": "stderr",
     "output_type": "stream",
     "text": [
      "C:\\Users\\Montr\\anaconda3\\lib\\site-packages\\tensorflow\\python\\framework\\indexed_slices.py:433: UserWarning: Converting sparse IndexedSlices to a dense Tensor of unknown shape. This may consume a large amount of memory.\n",
      "  \"Converting sparse IndexedSlices to a dense Tensor of unknown shape. \"\n"
     ]
    },
    {
     "name": "stdout",
     "output_type": "stream",
     "text": [
      "904/904 - 19s - loss: 1.8173 - mse: 1.8158 - val_loss: 1.4117 - val_mse: 1.4078\n",
      "Epoch 2/5\n",
      "904/904 - 18s - loss: 0.6428 - mse: 0.6369 - val_loss: 1.5003 - val_mse: 1.4922\n",
      "Epoch 3/5\n",
      "904/904 - 18s - loss: 0.3142 - mse: 0.3049 - val_loss: 1.5285 - val_mse: 1.5177\n",
      "Epoch 4/5\n",
      "904/904 - 14s - loss: 0.1891 - mse: 0.1776 - val_loss: 1.6349 - val_mse: 1.6226\n",
      "Epoch 5/5\n",
      "904/904 - 17s - loss: 0.1373 - mse: 0.1244 - val_loss: 1.6439 - val_mse: 1.6303\n",
      "MSE: 1.7221607\n",
      "optimizer:Adam | embedding_dim:32 | lr:0.0001 | dropout:0.5 | hidden_units:(128, 128) | epochs:5 | batch_size:64\n",
      "Epoch 1/5\n"
     ]
    },
    {
     "name": "stderr",
     "output_type": "stream",
     "text": [
      "C:\\Users\\Montr\\anaconda3\\lib\\site-packages\\tensorflow\\python\\framework\\indexed_slices.py:433: UserWarning: Converting sparse IndexedSlices to a dense Tensor of unknown shape. This may consume a large amount of memory.\n",
      "  \"Converting sparse IndexedSlices to a dense Tensor of unknown shape. \"\n"
     ]
    },
    {
     "name": "stdout",
     "output_type": "stream",
     "text": [
      "452/452 - 10s - loss: 2.1430 - mse: 2.1422 - val_loss: 1.4177 - val_mse: 1.4155\n",
      "Epoch 2/5\n",
      "452/452 - 9s - loss: 0.6803 - mse: 0.6767 - val_loss: 1.4659 - val_mse: 1.4607\n",
      "Epoch 3/5\n",
      "452/452 - 9s - loss: 0.3135 - mse: 0.3076 - val_loss: 1.5253 - val_mse: 1.5185\n",
      "Epoch 4/5\n",
      "452/452 - 8s - loss: 0.1626 - mse: 0.1553 - val_loss: 1.6257 - val_mse: 1.6179\n",
      "Epoch 5/5\n",
      "452/452 - 7s - loss: 0.1103 - mse: 0.1021 - val_loss: 1.5999 - val_mse: 1.5913\n",
      "MSE: 1.6897277\n",
      "optimizer:Adam | embedding_dim:32 | lr:0.0001 | dropout:0.5 | hidden_units:(128, 128) | epochs:3 | batch_size:32\n",
      "Epoch 1/3\n"
     ]
    },
    {
     "name": "stderr",
     "output_type": "stream",
     "text": [
      "C:\\Users\\Montr\\anaconda3\\lib\\site-packages\\tensorflow\\python\\framework\\indexed_slices.py:433: UserWarning: Converting sparse IndexedSlices to a dense Tensor of unknown shape. This may consume a large amount of memory.\n",
      "  \"Converting sparse IndexedSlices to a dense Tensor of unknown shape. \"\n"
     ]
    },
    {
     "name": "stdout",
     "output_type": "stream",
     "text": [
      "904/904 - 23s - loss: 1.8340 - mse: 1.8325 - val_loss: 1.4007 - val_mse: 1.3969\n",
      "Epoch 2/3\n",
      "904/904 - 21s - loss: 0.6801 - mse: 0.6739 - val_loss: 1.7394 - val_mse: 1.7306\n",
      "Epoch 3/3\n",
      "904/904 - 20s - loss: 0.3249 - mse: 0.3146 - val_loss: 1.5067 - val_mse: 1.4948\n",
      "MSE: 1.6054903\n",
      "optimizer:Adam | embedding_dim:32 | lr:0.0001 | dropout:0.5 | hidden_units:(128, 128) | epochs:3 | batch_size:64\n",
      "Epoch 1/3\n"
     ]
    },
    {
     "name": "stderr",
     "output_type": "stream",
     "text": [
      "C:\\Users\\Montr\\anaconda3\\lib\\site-packages\\tensorflow\\python\\framework\\indexed_slices.py:433: UserWarning: Converting sparse IndexedSlices to a dense Tensor of unknown shape. This may consume a large amount of memory.\n",
      "  \"Converting sparse IndexedSlices to a dense Tensor of unknown shape. \"\n"
     ]
    },
    {
     "name": "stdout",
     "output_type": "stream",
     "text": [
      "452/452 - 13s - loss: 2.1340 - mse: 2.1332 - val_loss: 1.4018 - val_mse: 1.3996\n",
      "Epoch 2/3\n",
      "452/452 - 12s - loss: 0.6699 - mse: 0.6663 - val_loss: 1.6045 - val_mse: 1.5994\n",
      "Epoch 3/3\n",
      "452/452 - 12s - loss: 0.2972 - mse: 0.2911 - val_loss: 1.5188 - val_mse: 1.5117\n",
      "MSE: 1.575714\n",
      "optimizer:Adam | embedding_dim:32 | lr:0.0001 | dropout:0.5 | hidden_units:(128, 128) | epochs:5 | batch_size:32\n",
      "Epoch 1/5\n"
     ]
    },
    {
     "name": "stderr",
     "output_type": "stream",
     "text": [
      "C:\\Users\\Montr\\anaconda3\\lib\\site-packages\\tensorflow\\python\\framework\\indexed_slices.py:433: UserWarning: Converting sparse IndexedSlices to a dense Tensor of unknown shape. This may consume a large amount of memory.\n",
      "  \"Converting sparse IndexedSlices to a dense Tensor of unknown shape. \"\n"
     ]
    },
    {
     "name": "stdout",
     "output_type": "stream",
     "text": [
      "904/904 - 25s - loss: 1.8016 - mse: 1.8001 - val_loss: 1.4043 - val_mse: 1.4005\n",
      "Epoch 2/5\n",
      "904/904 - 22s - loss: 0.6687 - mse: 0.6628 - val_loss: 1.5114 - val_mse: 1.5029\n",
      "Epoch 3/5\n",
      "904/904 - 22s - loss: 0.3128 - mse: 0.3030 - val_loss: 1.5035 - val_mse: 1.4922\n",
      "Epoch 4/5\n",
      "904/904 - 14s - loss: 0.1815 - mse: 0.1695 - val_loss: 1.5809 - val_mse: 1.5680\n",
      "Epoch 5/5\n",
      "904/904 - 20s - loss: 0.1356 - mse: 0.1221 - val_loss: 1.7432 - val_mse: 1.7288\n",
      "MSE: 1.8433695\n",
      "optimizer:Adam | embedding_dim:32 | lr:0.0001 | dropout:0.5 | hidden_units:(128, 128) | epochs:5 | batch_size:64\n",
      "Epoch 1/5\n"
     ]
    },
    {
     "name": "stderr",
     "output_type": "stream",
     "text": [
      "C:\\Users\\Montr\\anaconda3\\lib\\site-packages\\tensorflow\\python\\framework\\indexed_slices.py:433: UserWarning: Converting sparse IndexedSlices to a dense Tensor of unknown shape. This may consume a large amount of memory.\n",
      "  \"Converting sparse IndexedSlices to a dense Tensor of unknown shape. \"\n"
     ]
    },
    {
     "name": "stdout",
     "output_type": "stream",
     "text": [
      "452/452 - 12s - loss: 2.1366 - mse: 2.1358 - val_loss: 1.3913 - val_mse: 1.3892\n",
      "Epoch 2/5\n",
      "452/452 - 11s - loss: 0.6779 - mse: 0.6743 - val_loss: 1.4558 - val_mse: 1.4505\n",
      "Epoch 3/5\n",
      "452/452 - 11s - loss: 0.2998 - mse: 0.2936 - val_loss: 1.5694 - val_mse: 1.5622\n",
      "Epoch 4/5\n",
      "452/452 - 11s - loss: 0.1594 - mse: 0.1518 - val_loss: 1.6325 - val_mse: 1.6243\n",
      "Epoch 5/5\n",
      "452/452 - 11s - loss: 0.1161 - mse: 0.1076 - val_loss: 1.6834 - val_mse: 1.6746\n",
      "MSE: 1.7290237\n",
      "optimizer:Adam | embedding_dim:32 | lr:0.0001 | dropout:0.5 | hidden_units:(128, 128) | epochs:3 | batch_size:32\n",
      "Epoch 1/3\n"
     ]
    },
    {
     "name": "stderr",
     "output_type": "stream",
     "text": [
      "C:\\Users\\Montr\\anaconda3\\lib\\site-packages\\tensorflow\\python\\framework\\indexed_slices.py:433: UserWarning: Converting sparse IndexedSlices to a dense Tensor of unknown shape. This may consume a large amount of memory.\n",
      "  \"Converting sparse IndexedSlices to a dense Tensor of unknown shape. \"\n"
     ]
    },
    {
     "name": "stdout",
     "output_type": "stream",
     "text": [
      "904/904 - 19s - loss: 1.8169 - mse: 1.8154 - val_loss: 1.3917 - val_mse: 1.3879\n",
      "Epoch 2/3\n",
      "904/904 - 16s - loss: 0.6274 - mse: 0.6215 - val_loss: 1.4659 - val_mse: 1.4579\n",
      "Epoch 3/3\n",
      "904/904 - 22s - loss: 0.3272 - mse: 0.3177 - val_loss: 1.4978 - val_mse: 1.4863\n",
      "MSE: 1.5866725\n",
      "optimizer:Adam | embedding_dim:32 | lr:0.0001 | dropout:0.5 | hidden_units:(128, 128) | epochs:3 | batch_size:64\n",
      "Epoch 1/3\n"
     ]
    },
    {
     "name": "stderr",
     "output_type": "stream",
     "text": [
      "C:\\Users\\Montr\\anaconda3\\lib\\site-packages\\tensorflow\\python\\framework\\indexed_slices.py:433: UserWarning: Converting sparse IndexedSlices to a dense Tensor of unknown shape. This may consume a large amount of memory.\n",
      "  \"Converting sparse IndexedSlices to a dense Tensor of unknown shape. \"\n"
     ]
    },
    {
     "name": "stdout",
     "output_type": "stream",
     "text": [
      "452/452 - 13s - loss: 2.1691 - mse: 2.1683 - val_loss: 1.4042 - val_mse: 1.4020\n",
      "Epoch 2/3\n",
      "452/452 - 12s - loss: 0.6840 - mse: 0.6803 - val_loss: 1.5349 - val_mse: 1.5293\n",
      "Epoch 3/3\n",
      "452/452 - 10s - loss: 0.2996 - mse: 0.2931 - val_loss: 1.5078 - val_mse: 1.5004\n",
      "MSE: 1.5913217\n",
      "optimizer:Adam | embedding_dim:32 | lr:0.0001 | dropout:0.5 | hidden_units:(128, 128) | epochs:5 | batch_size:32\n",
      "Epoch 1/5\n"
     ]
    },
    {
     "name": "stderr",
     "output_type": "stream",
     "text": [
      "C:\\Users\\Montr\\anaconda3\\lib\\site-packages\\tensorflow\\python\\framework\\indexed_slices.py:433: UserWarning: Converting sparse IndexedSlices to a dense Tensor of unknown shape. This may consume a large amount of memory.\n",
      "  \"Converting sparse IndexedSlices to a dense Tensor of unknown shape. \"\n"
     ]
    },
    {
     "name": "stdout",
     "output_type": "stream",
     "text": [
      "904/904 - 24s - loss: 1.8012 - mse: 1.7997 - val_loss: 1.4095 - val_mse: 1.4057\n",
      "Epoch 2/5\n",
      "904/904 - 22s - loss: 0.6343 - mse: 0.6284 - val_loss: 1.4780 - val_mse: 1.4698\n",
      "Epoch 3/5\n",
      "904/904 - 21s - loss: 0.3247 - mse: 0.3152 - val_loss: 1.5416 - val_mse: 1.5306\n",
      "Epoch 4/5\n",
      "904/904 - 22s - loss: 0.1943 - mse: 0.1824 - val_loss: 1.6235 - val_mse: 1.6105\n",
      "Epoch 5/5\n",
      "904/904 - 22s - loss: 0.1451 - mse: 0.1315 - val_loss: 1.5972 - val_mse: 1.5829\n",
      "MSE: 1.7024574\n",
      "optimizer:Adam | embedding_dim:32 | lr:0.0001 | dropout:0.5 | hidden_units:(128, 128) | epochs:5 | batch_size:64\n",
      "Epoch 1/5\n"
     ]
    },
    {
     "name": "stderr",
     "output_type": "stream",
     "text": [
      "C:\\Users\\Montr\\anaconda3\\lib\\site-packages\\tensorflow\\python\\framework\\indexed_slices.py:433: UserWarning: Converting sparse IndexedSlices to a dense Tensor of unknown shape. This may consume a large amount of memory.\n",
      "  \"Converting sparse IndexedSlices to a dense Tensor of unknown shape. \"\n"
     ]
    },
    {
     "name": "stdout",
     "output_type": "stream",
     "text": [
      "452/452 - 13s - loss: 2.1405 - mse: 2.1396 - val_loss: 1.3861 - val_mse: 1.3839\n",
      "Epoch 2/5\n",
      "452/452 - 12s - loss: 0.6854 - mse: 0.6817 - val_loss: 1.5212 - val_mse: 1.5158\n",
      "Epoch 3/5\n",
      "452/452 - 12s - loss: 0.3215 - mse: 0.3153 - val_loss: 1.4915 - val_mse: 1.4845\n",
      "Epoch 4/5\n",
      "452/452 - 12s - loss: 0.1650 - mse: 0.1575 - val_loss: 1.5643 - val_mse: 1.5563\n",
      "Epoch 5/5\n",
      "452/452 - 12s - loss: 0.1166 - mse: 0.1083 - val_loss: 1.5765 - val_mse: 1.5678\n",
      "MSE: 1.6498783\n",
      "optimizer:Adam | embedding_dim:32 | lr:0.0001 | dropout:0.5 | hidden_units:(128, 128) | epochs:3 | batch_size:32\n",
      "Epoch 1/3\n"
     ]
    },
    {
     "name": "stderr",
     "output_type": "stream",
     "text": [
      "C:\\Users\\Montr\\anaconda3\\lib\\site-packages\\tensorflow\\python\\framework\\indexed_slices.py:433: UserWarning: Converting sparse IndexedSlices to a dense Tensor of unknown shape. This may consume a large amount of memory.\n",
      "  \"Converting sparse IndexedSlices to a dense Tensor of unknown shape. \"\n"
     ]
    },
    {
     "name": "stdout",
     "output_type": "stream",
     "text": [
      "904/904 - 23s - loss: 1.8279 - mse: 1.8264 - val_loss: 1.3978 - val_mse: 1.3940\n",
      "Epoch 2/3\n",
      "904/904 - 22s - loss: 0.6213 - mse: 0.6154 - val_loss: 1.5460 - val_mse: 1.5380\n",
      "Epoch 3/3\n",
      "904/904 - 22s - loss: 0.3029 - mse: 0.2934 - val_loss: 1.5468 - val_mse: 1.5355\n",
      "MSE: 1.6162276\n",
      "optimizer:Adam | embedding_dim:32 | lr:0.0001 | dropout:0.5 | hidden_units:(128, 128) | epochs:3 | batch_size:64\n",
      "Epoch 1/3\n"
     ]
    },
    {
     "name": "stderr",
     "output_type": "stream",
     "text": [
      "C:\\Users\\Montr\\anaconda3\\lib\\site-packages\\tensorflow\\python\\framework\\indexed_slices.py:433: UserWarning: Converting sparse IndexedSlices to a dense Tensor of unknown shape. This may consume a large amount of memory.\n",
      "  \"Converting sparse IndexedSlices to a dense Tensor of unknown shape. \"\n"
     ]
    },
    {
     "name": "stdout",
     "output_type": "stream",
     "text": [
      "452/452 - 10s - loss: 2.1149 - mse: 2.1141 - val_loss: 1.4072 - val_mse: 1.4050\n",
      "Epoch 2/3\n",
      "452/452 - 11s - loss: 0.6723 - mse: 0.6687 - val_loss: 1.6366 - val_mse: 1.6314\n",
      "Epoch 3/3\n",
      "452/452 - 11s - loss: 0.3117 - mse: 0.3057 - val_loss: 1.5164 - val_mse: 1.5095\n",
      "MSE: 1.6037192\n",
      "optimizer:Adam | embedding_dim:32 | lr:0.0001 | dropout:0.5 | hidden_units:(128, 128) | epochs:5 | batch_size:32\n",
      "Epoch 1/5\n"
     ]
    },
    {
     "name": "stderr",
     "output_type": "stream",
     "text": [
      "C:\\Users\\Montr\\anaconda3\\lib\\site-packages\\tensorflow\\python\\framework\\indexed_slices.py:433: UserWarning: Converting sparse IndexedSlices to a dense Tensor of unknown shape. This may consume a large amount of memory.\n",
      "  \"Converting sparse IndexedSlices to a dense Tensor of unknown shape. \"\n"
     ]
    },
    {
     "name": "stdout",
     "output_type": "stream",
     "text": [
      "904/904 - 22s - loss: 1.8298 - mse: 1.8283 - val_loss: 1.4105 - val_mse: 1.4068\n",
      "Epoch 2/5\n",
      "904/904 - 20s - loss: 0.6368 - mse: 0.6308 - val_loss: 1.4784 - val_mse: 1.4702\n",
      "Epoch 3/5\n",
      "904/904 - 21s - loss: 0.3159 - mse: 0.3064 - val_loss: 1.5024 - val_mse: 1.4915\n",
      "Epoch 4/5\n",
      "904/904 - 20s - loss: 0.1791 - mse: 0.1674 - val_loss: 1.6474 - val_mse: 1.6347\n",
      "Epoch 5/5\n",
      "904/904 - 21s - loss: 0.1317 - mse: 0.1184 - val_loss: 1.6016 - val_mse: 1.5875\n",
      "MSE: 1.6789905\n",
      "optimizer:Adam | embedding_dim:32 | lr:0.0001 | dropout:0.5 | hidden_units:(128, 128) | epochs:5 | batch_size:64\n",
      "Epoch 1/5\n"
     ]
    },
    {
     "name": "stderr",
     "output_type": "stream",
     "text": [
      "C:\\Users\\Montr\\anaconda3\\lib\\site-packages\\tensorflow\\python\\framework\\indexed_slices.py:433: UserWarning: Converting sparse IndexedSlices to a dense Tensor of unknown shape. This may consume a large amount of memory.\n",
      "  \"Converting sparse IndexedSlices to a dense Tensor of unknown shape. \"\n"
     ]
    },
    {
     "name": "stdout",
     "output_type": "stream",
     "text": [
      "452/452 - 12s - loss: 2.1253 - mse: 2.1245 - val_loss: 1.4012 - val_mse: 1.3990\n",
      "Epoch 2/5\n",
      "452/452 - 11s - loss: 0.6905 - mse: 0.6868 - val_loss: 1.5177 - val_mse: 1.5122\n",
      "Epoch 3/5\n",
      "452/452 - 11s - loss: 0.3112 - mse: 0.3048 - val_loss: 1.5162 - val_mse: 1.5090\n",
      "Epoch 4/5\n",
      "452/452 - 9s - loss: 0.1707 - mse: 0.1629 - val_loss: 1.5881 - val_mse: 1.5798\n",
      "Epoch 5/5\n",
      "452/452 - 7s - loss: 0.1129 - mse: 0.1044 - val_loss: 1.5796 - val_mse: 1.5707\n",
      "MSE: 1.643458\n",
      "optimizer:Adam | embedding_dim:32 | lr:0.0001 | dropout:0.5 | hidden_units:(128, 128) | epochs:3 | batch_size:32\n",
      "Epoch 1/3\n"
     ]
    },
    {
     "name": "stderr",
     "output_type": "stream",
     "text": [
      "C:\\Users\\Montr\\anaconda3\\lib\\site-packages\\tensorflow\\python\\framework\\indexed_slices.py:433: UserWarning: Converting sparse IndexedSlices to a dense Tensor of unknown shape. This may consume a large amount of memory.\n",
      "  \"Converting sparse IndexedSlices to a dense Tensor of unknown shape. \"\n"
     ]
    },
    {
     "name": "stdout",
     "output_type": "stream",
     "text": [
      "904/904 - 13s - loss: 1.8346 - mse: 1.8331 - val_loss: 1.4035 - val_mse: 1.3996\n",
      "Epoch 2/3\n",
      "904/904 - 12s - loss: 0.6183 - mse: 0.6123 - val_loss: 1.4938 - val_mse: 1.4856\n",
      "Epoch 3/3\n",
      "904/904 - 12s - loss: 0.3116 - mse: 0.3019 - val_loss: 1.5594 - val_mse: 1.5479\n",
      "MSE: 1.6344919\n",
      "optimizer:Adam | embedding_dim:32 | lr:0.0001 | dropout:0.5 | hidden_units:(128, 128) | epochs:3 | batch_size:64\n",
      "Epoch 1/3\n"
     ]
    },
    {
     "name": "stderr",
     "output_type": "stream",
     "text": [
      "C:\\Users\\Montr\\anaconda3\\lib\\site-packages\\tensorflow\\python\\framework\\indexed_slices.py:433: UserWarning: Converting sparse IndexedSlices to a dense Tensor of unknown shape. This may consume a large amount of memory.\n",
      "  \"Converting sparse IndexedSlices to a dense Tensor of unknown shape. \"\n"
     ]
    },
    {
     "name": "stdout",
     "output_type": "stream",
     "text": [
      "452/452 - 7s - loss: 2.1183 - mse: 2.1174 - val_loss: 1.4089 - val_mse: 1.4067\n",
      "Epoch 2/3\n",
      "452/452 - 6s - loss: 0.6767 - mse: 0.6730 - val_loss: 1.5836 - val_mse: 1.5784\n",
      "Epoch 3/3\n",
      "452/452 - 7s - loss: 0.3109 - mse: 0.3050 - val_loss: 1.5070 - val_mse: 1.5002\n",
      "MSE: 1.5945318\n",
      "optimizer:Adam | embedding_dim:32 | lr:0.0001 | dropout:0.5 | hidden_units:(128, 128) | epochs:5 | batch_size:32\n",
      "Epoch 1/5\n"
     ]
    },
    {
     "name": "stderr",
     "output_type": "stream",
     "text": [
      "C:\\Users\\Montr\\anaconda3\\lib\\site-packages\\tensorflow\\python\\framework\\indexed_slices.py:433: UserWarning: Converting sparse IndexedSlices to a dense Tensor of unknown shape. This may consume a large amount of memory.\n",
      "  \"Converting sparse IndexedSlices to a dense Tensor of unknown shape. \"\n"
     ]
    },
    {
     "name": "stdout",
     "output_type": "stream",
     "text": [
      "904/904 - 12s - loss: 1.8338 - mse: 1.8323 - val_loss: 1.4021 - val_mse: 1.3982\n",
      "Epoch 2/5\n",
      "904/904 - 12s - loss: 0.6278 - mse: 0.6218 - val_loss: 1.4819 - val_mse: 1.4739\n",
      "Epoch 3/5\n",
      "904/904 - 12s - loss: 0.3187 - mse: 0.3091 - val_loss: 1.5281 - val_mse: 1.5167\n",
      "Epoch 4/5\n",
      "904/904 - 12s - loss: 0.1689 - mse: 0.1568 - val_loss: 1.5844 - val_mse: 1.5714\n",
      "Epoch 5/5\n",
      "904/904 - 12s - loss: 0.1302 - mse: 0.1167 - val_loss: 1.6292 - val_mse: 1.6151\n",
      "MSE: 1.7117556\n",
      "optimizer:Adam | embedding_dim:32 | lr:0.0001 | dropout:0.5 | hidden_units:(128, 128) | epochs:5 | batch_size:64\n",
      "Epoch 1/5\n"
     ]
    },
    {
     "name": "stderr",
     "output_type": "stream",
     "text": [
      "C:\\Users\\Montr\\anaconda3\\lib\\site-packages\\tensorflow\\python\\framework\\indexed_slices.py:433: UserWarning: Converting sparse IndexedSlices to a dense Tensor of unknown shape. This may consume a large amount of memory.\n",
      "  \"Converting sparse IndexedSlices to a dense Tensor of unknown shape. \"\n"
     ]
    },
    {
     "name": "stdout",
     "output_type": "stream",
     "text": [
      "452/452 - 6s - loss: 2.1529 - mse: 2.1521 - val_loss: 1.3881 - val_mse: 1.3859\n",
      "Epoch 2/5\n",
      "452/452 - 6s - loss: 0.6741 - mse: 0.6706 - val_loss: 1.5176 - val_mse: 1.5125\n",
      "Epoch 3/5\n",
      "452/452 - 6s - loss: 0.3063 - mse: 0.3004 - val_loss: 1.5442 - val_mse: 1.5374\n",
      "Epoch 4/5\n",
      "452/452 - 6s - loss: 0.1683 - mse: 0.1611 - val_loss: 1.6328 - val_mse: 1.6250\n",
      "Epoch 5/5\n",
      "452/452 - 6s - loss: 0.1155 - mse: 0.1073 - val_loss: 1.6266 - val_mse: 1.6181\n",
      "MSE: 1.7096524\n",
      "optimizer:Adam | embedding_dim:32 | lr:0.0001 | dropout:0.5 | hidden_units:(128, 128) | epochs:3 | batch_size:32\n",
      "Epoch 1/3\n"
     ]
    },
    {
     "name": "stderr",
     "output_type": "stream",
     "text": [
      "C:\\Users\\Montr\\anaconda3\\lib\\site-packages\\tensorflow\\python\\framework\\indexed_slices.py:433: UserWarning: Converting sparse IndexedSlices to a dense Tensor of unknown shape. This may consume a large amount of memory.\n",
      "  \"Converting sparse IndexedSlices to a dense Tensor of unknown shape. \"\n"
     ]
    },
    {
     "name": "stdout",
     "output_type": "stream",
     "text": [
      "904/904 - 12s - loss: 1.8274 - mse: 1.8259 - val_loss: 1.4458 - val_mse: 1.4420\n",
      "Epoch 2/3\n",
      "904/904 - 12s - loss: 0.6543 - mse: 0.6482 - val_loss: 1.5137 - val_mse: 1.5048\n",
      "Epoch 3/3\n",
      "904/904 - 12s - loss: 0.3196 - mse: 0.3094 - val_loss: 1.4955 - val_mse: 1.4836\n",
      "MSE: 1.5794775\n",
      "optimizer:Adam | embedding_dim:32 | lr:0.0001 | dropout:0.5 | hidden_units:(128, 128) | epochs:3 | batch_size:64\n",
      "Epoch 1/3\n"
     ]
    },
    {
     "name": "stderr",
     "output_type": "stream",
     "text": [
      "C:\\Users\\Montr\\anaconda3\\lib\\site-packages\\tensorflow\\python\\framework\\indexed_slices.py:433: UserWarning: Converting sparse IndexedSlices to a dense Tensor of unknown shape. This may consume a large amount of memory.\n",
      "  \"Converting sparse IndexedSlices to a dense Tensor of unknown shape. \"\n"
     ]
    },
    {
     "name": "stdout",
     "output_type": "stream",
     "text": [
      "452/452 - 6s - loss: 2.0997 - mse: 2.0988 - val_loss: 1.3942 - val_mse: 1.3920\n",
      "Epoch 2/3\n",
      "452/452 - 6s - loss: 0.6727 - mse: 0.6691 - val_loss: 1.5181 - val_mse: 1.5129\n",
      "Epoch 3/3\n",
      "452/452 - 6s - loss: 0.3056 - mse: 0.2997 - val_loss: 1.5271 - val_mse: 1.5203\n",
      "MSE: 1.5870047\n",
      "optimizer:Adam | embedding_dim:32 | lr:0.0001 | dropout:0.5 | hidden_units:(128, 128) | epochs:5 | batch_size:32\n",
      "Epoch 1/5\n"
     ]
    },
    {
     "name": "stderr",
     "output_type": "stream",
     "text": [
      "C:\\Users\\Montr\\anaconda3\\lib\\site-packages\\tensorflow\\python\\framework\\indexed_slices.py:433: UserWarning: Converting sparse IndexedSlices to a dense Tensor of unknown shape. This may consume a large amount of memory.\n",
      "  \"Converting sparse IndexedSlices to a dense Tensor of unknown shape. \"\n"
     ]
    },
    {
     "name": "stdout",
     "output_type": "stream",
     "text": [
      "904/904 - 12s - loss: 1.8326 - mse: 1.8312 - val_loss: 1.4068 - val_mse: 1.4030\n",
      "Epoch 2/5\n",
      "904/904 - 12s - loss: 0.6381 - mse: 0.6322 - val_loss: 1.5701 - val_mse: 1.5619\n",
      "Epoch 3/5\n",
      "904/904 - 12s - loss: 0.3168 - mse: 0.3072 - val_loss: 1.5310 - val_mse: 1.5199\n",
      "Epoch 4/5\n",
      "904/904 - 11s - loss: 0.1836 - mse: 0.1718 - val_loss: 1.6147 - val_mse: 1.6019\n",
      "Epoch 5/5\n",
      "904/904 - 12s - loss: 0.1373 - mse: 0.1239 - val_loss: 1.6640 - val_mse: 1.6499\n",
      "MSE: 1.7228249\n",
      "optimizer:Adam | embedding_dim:32 | lr:0.0001 | dropout:0.5 | hidden_units:(128, 128) | epochs:5 | batch_size:64\n",
      "Epoch 1/5\n"
     ]
    },
    {
     "name": "stderr",
     "output_type": "stream",
     "text": [
      "C:\\Users\\Montr\\anaconda3\\lib\\site-packages\\tensorflow\\python\\framework\\indexed_slices.py:433: UserWarning: Converting sparse IndexedSlices to a dense Tensor of unknown shape. This may consume a large amount of memory.\n",
      "  \"Converting sparse IndexedSlices to a dense Tensor of unknown shape. \"\n"
     ]
    },
    {
     "name": "stdout",
     "output_type": "stream",
     "text": [
      "452/452 - 6s - loss: 2.1179 - mse: 2.1171 - val_loss: 1.4005 - val_mse: 1.3984\n",
      "Epoch 2/5\n",
      "452/452 - 6s - loss: 0.6861 - mse: 0.6825 - val_loss: 1.4901 - val_mse: 1.4848\n",
      "Epoch 3/5\n",
      "452/452 - 6s - loss: 0.2993 - mse: 0.2932 - val_loss: 1.5633 - val_mse: 1.5562\n",
      "Epoch 4/5\n",
      "452/452 - 6s - loss: 0.1516 - mse: 0.1441 - val_loss: 1.5825 - val_mse: 1.5745\n",
      "Epoch 5/5\n",
      "452/452 - 6s - loss: 0.1120 - mse: 0.1037 - val_loss: 1.6846 - val_mse: 1.6759\n",
      "MSE: 1.7576932\n",
      "optimizer:Adam | embedding_dim:32 | lr:0.0001 | dropout:0.5 | hidden_units:(128, 128) | epochs:3 | batch_size:32\n",
      "Epoch 1/3\n"
     ]
    },
    {
     "name": "stderr",
     "output_type": "stream",
     "text": [
      "C:\\Users\\Montr\\anaconda3\\lib\\site-packages\\tensorflow\\python\\framework\\indexed_slices.py:433: UserWarning: Converting sparse IndexedSlices to a dense Tensor of unknown shape. This may consume a large amount of memory.\n",
      "  \"Converting sparse IndexedSlices to a dense Tensor of unknown shape. \"\n"
     ]
    },
    {
     "name": "stdout",
     "output_type": "stream",
     "text": [
      "904/904 - 12s - loss: 1.8049 - mse: 1.8034 - val_loss: 1.4216 - val_mse: 1.4177\n",
      "Epoch 2/3\n",
      "904/904 - 12s - loss: 0.6225 - mse: 0.6167 - val_loss: 1.4907 - val_mse: 1.4829\n",
      "Epoch 3/3\n",
      "904/904 - 12s - loss: 0.3137 - mse: 0.3045 - val_loss: 1.4879 - val_mse: 1.4769\n",
      "MSE: 1.5654196\n",
      "optimizer:Adam | embedding_dim:32 | lr:0.0001 | dropout:0.5 | hidden_units:(128, 128) | epochs:3 | batch_size:64\n",
      "Epoch 1/3\n"
     ]
    },
    {
     "name": "stderr",
     "output_type": "stream",
     "text": [
      "C:\\Users\\Montr\\anaconda3\\lib\\site-packages\\tensorflow\\python\\framework\\indexed_slices.py:433: UserWarning: Converting sparse IndexedSlices to a dense Tensor of unknown shape. This may consume a large amount of memory.\n",
      "  \"Converting sparse IndexedSlices to a dense Tensor of unknown shape. \"\n"
     ]
    },
    {
     "name": "stdout",
     "output_type": "stream",
     "text": [
      "452/452 - 7s - loss: 2.1392 - mse: 2.1384 - val_loss: 1.4008 - val_mse: 1.3987\n",
      "Epoch 2/3\n",
      "452/452 - 6s - loss: 0.6808 - mse: 0.6771 - val_loss: 1.5427 - val_mse: 1.5373\n",
      "Epoch 3/3\n",
      "452/452 - 6s - loss: 0.3142 - mse: 0.3080 - val_loss: 1.5055 - val_mse: 1.4983\n",
      "MSE: 1.5830197\n",
      "optimizer:Adam | embedding_dim:32 | lr:0.0001 | dropout:0.5 | hidden_units:(128, 128) | epochs:5 | batch_size:32\n",
      "Epoch 1/5\n"
     ]
    },
    {
     "name": "stderr",
     "output_type": "stream",
     "text": [
      "C:\\Users\\Montr\\anaconda3\\lib\\site-packages\\tensorflow\\python\\framework\\indexed_slices.py:433: UserWarning: Converting sparse IndexedSlices to a dense Tensor of unknown shape. This may consume a large amount of memory.\n",
      "  \"Converting sparse IndexedSlices to a dense Tensor of unknown shape. \"\n"
     ]
    },
    {
     "name": "stdout",
     "output_type": "stream",
     "text": [
      "904/904 - 12s - loss: 1.7930 - mse: 1.7915 - val_loss: 1.4994 - val_mse: 1.4955\n",
      "Epoch 2/5\n",
      "904/904 - 12s - loss: 0.6436 - mse: 0.6374 - val_loss: 1.5676 - val_mse: 1.5586\n",
      "Epoch 3/5\n",
      "904/904 - 12s - loss: 0.3203 - mse: 0.3099 - val_loss: 1.5219 - val_mse: 1.5099\n",
      "Epoch 4/5\n",
      "904/904 - 12s - loss: 0.1721 - mse: 0.1595 - val_loss: 1.5809 - val_mse: 1.5675\n",
      "Epoch 5/5\n",
      "904/904 - 12s - loss: 0.1383 - mse: 0.1243 - val_loss: 1.6315 - val_mse: 1.6166\n",
      "MSE: 1.7050033\n",
      "optimizer:Adam | embedding_dim:32 | lr:0.0001 | dropout:0.5 | hidden_units:(128, 128) | epochs:5 | batch_size:64\n",
      "Epoch 1/5\n"
     ]
    },
    {
     "name": "stderr",
     "output_type": "stream",
     "text": [
      "C:\\Users\\Montr\\anaconda3\\lib\\site-packages\\tensorflow\\python\\framework\\indexed_slices.py:433: UserWarning: Converting sparse IndexedSlices to a dense Tensor of unknown shape. This may consume a large amount of memory.\n",
      "  \"Converting sparse IndexedSlices to a dense Tensor of unknown shape. \"\n"
     ]
    },
    {
     "name": "stdout",
     "output_type": "stream",
     "text": [
      "452/452 - 7s - loss: 2.1063 - mse: 2.1055 - val_loss: 1.3897 - val_mse: 1.3875\n",
      "Epoch 2/5\n",
      "452/452 - 6s - loss: 0.6518 - mse: 0.6483 - val_loss: 1.4685 - val_mse: 1.4635\n",
      "Epoch 3/5\n",
      "452/452 - 6s - loss: 0.2954 - mse: 0.2897 - val_loss: 1.5095 - val_mse: 1.5027\n",
      "Epoch 4/5\n",
      "452/452 - 6s - loss: 0.1638 - mse: 0.1566 - val_loss: 1.6375 - val_mse: 1.6297\n",
      "Epoch 5/5\n",
      "452/452 - 6s - loss: 0.1182 - mse: 0.1100 - val_loss: 1.6597 - val_mse: 1.6511\n",
      "MSE: 1.7103165\n",
      "optimizer:Adam | embedding_dim:32 | lr:0.0001 | dropout:0.5 | hidden_units:(128, 128) | epochs:3 | batch_size:32\n",
      "Epoch 1/3\n"
     ]
    },
    {
     "name": "stderr",
     "output_type": "stream",
     "text": [
      "C:\\Users\\Montr\\anaconda3\\lib\\site-packages\\tensorflow\\python\\framework\\indexed_slices.py:433: UserWarning: Converting sparse IndexedSlices to a dense Tensor of unknown shape. This may consume a large amount of memory.\n",
      "  \"Converting sparse IndexedSlices to a dense Tensor of unknown shape. \"\n"
     ]
    },
    {
     "name": "stdout",
     "output_type": "stream",
     "text": [
      "904/904 - 12s - loss: 1.8221 - mse: 1.8206 - val_loss: 1.3950 - val_mse: 1.3911\n",
      "Epoch 2/3\n",
      "904/904 - 12s - loss: 0.6252 - mse: 0.6193 - val_loss: 1.5918 - val_mse: 1.5838\n",
      "Epoch 3/3\n",
      "904/904 - 13s - loss: 0.3168 - mse: 0.3073 - val_loss: 1.5333 - val_mse: 1.5220\n",
      "MSE: 1.5987381\n",
      "optimizer:Adam | embedding_dim:32 | lr:0.0001 | dropout:0.5 | hidden_units:(128, 128) | epochs:3 | batch_size:64\n",
      "Epoch 1/3\n"
     ]
    },
    {
     "name": "stderr",
     "output_type": "stream",
     "text": [
      "C:\\Users\\Montr\\anaconda3\\lib\\site-packages\\tensorflow\\python\\framework\\indexed_slices.py:433: UserWarning: Converting sparse IndexedSlices to a dense Tensor of unknown shape. This may consume a large amount of memory.\n",
      "  \"Converting sparse IndexedSlices to a dense Tensor of unknown shape. \"\n"
     ]
    },
    {
     "name": "stdout",
     "output_type": "stream",
     "text": [
      "452/452 - 6s - loss: 2.1444 - mse: 2.1436 - val_loss: 1.3898 - val_mse: 1.3876\n",
      "Epoch 2/3\n",
      "452/452 - 6s - loss: 0.6676 - mse: 0.6641 - val_loss: 1.5126 - val_mse: 1.5077\n",
      "Epoch 3/3\n",
      "452/452 - 6s - loss: 0.2984 - mse: 0.2928 - val_loss: 1.5365 - val_mse: 1.5301\n",
      "MSE: 1.6082577\n",
      "optimizer:Adam | embedding_dim:32 | lr:0.0001 | dropout:0.5 | hidden_units:(128, 128) | epochs:5 | batch_size:32\n",
      "Epoch 1/5\n"
     ]
    },
    {
     "name": "stderr",
     "output_type": "stream",
     "text": [
      "C:\\Users\\Montr\\anaconda3\\lib\\site-packages\\tensorflow\\python\\framework\\indexed_slices.py:433: UserWarning: Converting sparse IndexedSlices to a dense Tensor of unknown shape. This may consume a large amount of memory.\n",
      "  \"Converting sparse IndexedSlices to a dense Tensor of unknown shape. \"\n"
     ]
    },
    {
     "name": "stdout",
     "output_type": "stream",
     "text": [
      "904/904 - 12s - loss: 1.8003 - mse: 1.7988 - val_loss: 1.5011 - val_mse: 1.4973\n",
      "Epoch 2/5\n",
      "904/904 - 12s - loss: 0.6327 - mse: 0.6266 - val_loss: 1.4857 - val_mse: 1.4774\n",
      "Epoch 3/5\n",
      "904/904 - 12s - loss: 0.3269 - mse: 0.3171 - val_loss: 1.5137 - val_mse: 1.5022\n",
      "Epoch 4/5\n",
      "904/904 - 12s - loss: 0.2004 - mse: 0.1882 - val_loss: 1.6188 - val_mse: 1.6057\n",
      "Epoch 5/5\n",
      "904/904 - 12s - loss: 0.1492 - mse: 0.1354 - val_loss: 1.5849 - val_mse: 1.5701\n",
      "MSE: 1.6621652\n",
      "optimizer:Adam | embedding_dim:32 | lr:0.0001 | dropout:0.5 | hidden_units:(128, 128) | epochs:5 | batch_size:64\n",
      "Epoch 1/5\n"
     ]
    },
    {
     "name": "stderr",
     "output_type": "stream",
     "text": [
      "C:\\Users\\Montr\\anaconda3\\lib\\site-packages\\tensorflow\\python\\framework\\indexed_slices.py:433: UserWarning: Converting sparse IndexedSlices to a dense Tensor of unknown shape. This may consume a large amount of memory.\n",
      "  \"Converting sparse IndexedSlices to a dense Tensor of unknown shape. \"\n"
     ]
    },
    {
     "name": "stdout",
     "output_type": "stream",
     "text": [
      "452/452 - 7s - loss: 2.1552 - mse: 2.1544 - val_loss: 1.3898 - val_mse: 1.3877\n",
      "Epoch 2/5\n",
      "452/452 - 6s - loss: 0.6790 - mse: 0.6754 - val_loss: 1.4954 - val_mse: 1.4902\n",
      "Epoch 3/5\n",
      "452/452 - 6s - loss: 0.2984 - mse: 0.2923 - val_loss: 1.5408 - val_mse: 1.5338\n",
      "Epoch 4/5\n",
      "452/452 - 6s - loss: 0.1579 - mse: 0.1504 - val_loss: 1.5791 - val_mse: 1.5712\n",
      "Epoch 5/5\n",
      "452/452 - 6s - loss: 0.1126 - mse: 0.1044 - val_loss: 1.6447 - val_mse: 1.6362\n",
      "MSE: 1.7223821\n",
      "optimizer:Adam | embedding_dim:32 | lr:0.0001 | dropout:0.5 | hidden_units:(128, 128) | epochs:3 | batch_size:32\n",
      "Epoch 1/3\n"
     ]
    },
    {
     "name": "stderr",
     "output_type": "stream",
     "text": [
      "C:\\Users\\Montr\\anaconda3\\lib\\site-packages\\tensorflow\\python\\framework\\indexed_slices.py:433: UserWarning: Converting sparse IndexedSlices to a dense Tensor of unknown shape. This may consume a large amount of memory.\n",
      "  \"Converting sparse IndexedSlices to a dense Tensor of unknown shape. \"\n"
     ]
    },
    {
     "name": "stdout",
     "output_type": "stream",
     "text": [
      "904/904 - 12s - loss: 1.8156 - mse: 1.8142 - val_loss: 1.4052 - val_mse: 1.4014\n",
      "Epoch 2/3\n",
      "904/904 - 11s - loss: 0.6235 - mse: 0.6176 - val_loss: 1.5211 - val_mse: 1.5130\n",
      "Epoch 3/3\n",
      "904/904 - 12s - loss: 0.3226 - mse: 0.3131 - val_loss: 1.5511 - val_mse: 1.5401\n",
      "MSE: 1.6246402\n",
      "optimizer:Adam | embedding_dim:32 | lr:0.0001 | dropout:0.5 | hidden_units:(128, 128) | epochs:3 | batch_size:64\n",
      "Epoch 1/3\n"
     ]
    },
    {
     "name": "stderr",
     "output_type": "stream",
     "text": [
      "C:\\Users\\Montr\\anaconda3\\lib\\site-packages\\tensorflow\\python\\framework\\indexed_slices.py:433: UserWarning: Converting sparse IndexedSlices to a dense Tensor of unknown shape. This may consume a large amount of memory.\n",
      "  \"Converting sparse IndexedSlices to a dense Tensor of unknown shape. \"\n"
     ]
    },
    {
     "name": "stdout",
     "output_type": "stream",
     "text": [
      "452/452 - 6s - loss: 2.1266 - mse: 2.1257 - val_loss: 1.3912 - val_mse: 1.3890\n",
      "Epoch 2/3\n",
      "452/452 - 6s - loss: 0.6746 - mse: 0.6709 - val_loss: 1.5079 - val_mse: 1.5025\n",
      "Epoch 3/3\n",
      "452/452 - 6s - loss: 0.3054 - mse: 0.2990 - val_loss: 1.5184 - val_mse: 1.5110\n",
      "MSE: 1.5711756\n",
      "optimizer:Adam | embedding_dim:32 | lr:0.0001 | dropout:0.5 | hidden_units:(128, 128) | epochs:5 | batch_size:32\n",
      "Epoch 1/5\n"
     ]
    },
    {
     "name": "stderr",
     "output_type": "stream",
     "text": [
      "C:\\Users\\Montr\\anaconda3\\lib\\site-packages\\tensorflow\\python\\framework\\indexed_slices.py:433: UserWarning: Converting sparse IndexedSlices to a dense Tensor of unknown shape. This may consume a large amount of memory.\n",
      "  \"Converting sparse IndexedSlices to a dense Tensor of unknown shape. \"\n"
     ]
    },
    {
     "name": "stdout",
     "output_type": "stream",
     "text": [
      "904/904 - 12s - loss: 1.8118 - mse: 1.8103 - val_loss: 1.4058 - val_mse: 1.4020\n",
      "Epoch 2/5\n",
      "904/904 - 12s - loss: 0.6400 - mse: 0.6340 - val_loss: 1.4931 - val_mse: 1.4848\n",
      "Epoch 3/5\n",
      "904/904 - 12s - loss: 0.3119 - mse: 0.3022 - val_loss: 1.5047 - val_mse: 1.4934\n",
      "Epoch 4/5\n",
      "904/904 - 12s - loss: 0.1851 - mse: 0.1730 - val_loss: 1.6030 - val_mse: 1.5899\n",
      "Epoch 5/5\n",
      "904/904 - 12s - loss: 0.1441 - mse: 0.1304 - val_loss: 1.6495 - val_mse: 1.6349\n",
      "MSE: 1.7072172\n",
      "optimizer:Adam | embedding_dim:32 | lr:0.0001 | dropout:0.5 | hidden_units:(128, 128) | epochs:5 | batch_size:64\n",
      "Epoch 1/5\n"
     ]
    },
    {
     "name": "stderr",
     "output_type": "stream",
     "text": [
      "C:\\Users\\Montr\\anaconda3\\lib\\site-packages\\tensorflow\\python\\framework\\indexed_slices.py:433: UserWarning: Converting sparse IndexedSlices to a dense Tensor of unknown shape. This may consume a large amount of memory.\n",
      "  \"Converting sparse IndexedSlices to a dense Tensor of unknown shape. \"\n"
     ]
    },
    {
     "name": "stdout",
     "output_type": "stream",
     "text": [
      "452/452 - 6s - loss: 2.1818 - mse: 2.1810 - val_loss: 1.3984 - val_mse: 1.3962\n",
      "Epoch 2/5\n",
      "452/452 - 6s - loss: 0.6816 - mse: 0.6780 - val_loss: 1.5054 - val_mse: 1.5001\n",
      "Epoch 3/5\n",
      "452/452 - 6s - loss: 0.3146 - mse: 0.3086 - val_loss: 1.4931 - val_mse: 1.4863\n",
      "Epoch 4/5\n",
      "452/452 - 6s - loss: 0.1625 - mse: 0.1552 - val_loss: 1.6118 - val_mse: 1.6040\n",
      "Epoch 5/5\n",
      "452/452 - 6s - loss: 0.1139 - mse: 0.1059 - val_loss: 1.6762 - val_mse: 1.6677\n",
      "MSE: 1.7665486\n",
      "optimizer:Adam | embedding_dim:32 | lr:0.0001 | dropout:0.5 | hidden_units:(128, 128) | epochs:3 | batch_size:32\n",
      "Epoch 1/3\n"
     ]
    },
    {
     "name": "stderr",
     "output_type": "stream",
     "text": [
      "C:\\Users\\Montr\\anaconda3\\lib\\site-packages\\tensorflow\\python\\framework\\indexed_slices.py:433: UserWarning: Converting sparse IndexedSlices to a dense Tensor of unknown shape. This may consume a large amount of memory.\n",
      "  \"Converting sparse IndexedSlices to a dense Tensor of unknown shape. \"\n"
     ]
    },
    {
     "name": "stdout",
     "output_type": "stream",
     "text": [
      "904/904 - 12s - loss: 1.8333 - mse: 1.8318 - val_loss: 1.4185 - val_mse: 1.4146\n",
      "Epoch 2/3\n",
      "904/904 - 12s - loss: 0.6289 - mse: 0.6231 - val_loss: 1.4959 - val_mse: 1.4879\n",
      "Epoch 3/3\n",
      "904/904 - 12s - loss: 0.3126 - mse: 0.3033 - val_loss: 1.6167 - val_mse: 1.6058\n",
      "MSE: 1.6814257\n",
      "optimizer:Adam | embedding_dim:32 | lr:0.0001 | dropout:0.5 | hidden_units:(128, 128) | epochs:3 | batch_size:64\n",
      "Epoch 1/3\n"
     ]
    },
    {
     "name": "stderr",
     "output_type": "stream",
     "text": [
      "C:\\Users\\Montr\\anaconda3\\lib\\site-packages\\tensorflow\\python\\framework\\indexed_slices.py:433: UserWarning: Converting sparse IndexedSlices to a dense Tensor of unknown shape. This may consume a large amount of memory.\n",
      "  \"Converting sparse IndexedSlices to a dense Tensor of unknown shape. \"\n"
     ]
    },
    {
     "name": "stdout",
     "output_type": "stream",
     "text": [
      "452/452 - 7s - loss: 2.1382 - mse: 2.1374 - val_loss: 1.3909 - val_mse: 1.3888\n",
      "Epoch 2/3\n",
      "452/452 - 6s - loss: 0.6803 - mse: 0.6767 - val_loss: 1.5888 - val_mse: 1.5835\n",
      "Epoch 3/3\n",
      "452/452 - 6s - loss: 0.3062 - mse: 0.3001 - val_loss: 1.4891 - val_mse: 1.4823\n",
      "MSE: 1.575714\n",
      "optimizer:Adam | embedding_dim:32 | lr:0.0001 | dropout:0.5 | hidden_units:(128, 128) | epochs:5 | batch_size:32\n",
      "Epoch 1/5\n"
     ]
    },
    {
     "name": "stderr",
     "output_type": "stream",
     "text": [
      "C:\\Users\\Montr\\anaconda3\\lib\\site-packages\\tensorflow\\python\\framework\\indexed_slices.py:433: UserWarning: Converting sparse IndexedSlices to a dense Tensor of unknown shape. This may consume a large amount of memory.\n",
      "  \"Converting sparse IndexedSlices to a dense Tensor of unknown shape. \"\n"
     ]
    },
    {
     "name": "stdout",
     "output_type": "stream",
     "text": [
      "904/904 - 12s - loss: 1.8277 - mse: 1.8262 - val_loss: 1.5166 - val_mse: 1.5128\n",
      "Epoch 2/5\n",
      "904/904 - 12s - loss: 0.6303 - mse: 0.6243 - val_loss: 1.5378 - val_mse: 1.5296\n",
      "Epoch 3/5\n",
      "904/904 - 12s - loss: 0.3270 - mse: 0.3174 - val_loss: 1.5258 - val_mse: 1.5145\n",
      "Epoch 4/5\n",
      "904/904 - 12s - loss: 0.1995 - mse: 0.1874 - val_loss: 1.6533 - val_mse: 1.6401\n",
      "Epoch 5/5\n",
      "904/904 - 12s - loss: 0.1466 - mse: 0.1329 - val_loss: 1.6208 - val_mse: 1.6064\n",
      "MSE: 1.6973655\n",
      "optimizer:Adam | embedding_dim:32 | lr:0.0001 | dropout:0.5 | hidden_units:(128, 128) | epochs:5 | batch_size:64\n",
      "Epoch 1/5\n"
     ]
    },
    {
     "name": "stderr",
     "output_type": "stream",
     "text": [
      "C:\\Users\\Montr\\anaconda3\\lib\\site-packages\\tensorflow\\python\\framework\\indexed_slices.py:433: UserWarning: Converting sparse IndexedSlices to a dense Tensor of unknown shape. This may consume a large amount of memory.\n",
      "  \"Converting sparse IndexedSlices to a dense Tensor of unknown shape. \"\n"
     ]
    },
    {
     "name": "stdout",
     "output_type": "stream",
     "text": [
      "452/452 - 6s - loss: 2.1209 - mse: 2.1201 - val_loss: 1.4013 - val_mse: 1.3991\n",
      "Epoch 2/5\n",
      "452/452 - 6s - loss: 0.6825 - mse: 0.6789 - val_loss: 1.5516 - val_mse: 1.5463\n",
      "Epoch 3/5\n",
      "452/452 - 6s - loss: 0.3031 - mse: 0.2969 - val_loss: 1.4801 - val_mse: 1.4731\n",
      "Epoch 4/5\n",
      "452/452 - 6s - loss: 0.1686 - mse: 0.1612 - val_loss: 1.6373 - val_mse: 1.6293\n",
      "Epoch 5/5\n",
      "452/452 - 6s - loss: 0.1174 - mse: 0.1091 - val_loss: 1.5843 - val_mse: 1.5756\n",
      "MSE: 1.6559664\n",
      "optimizer:Adam | embedding_dim:32 | lr:0.0001 | dropout:0.5 | hidden_units:(128, 128) | epochs:3 | batch_size:32\n",
      "Epoch 1/3\n"
     ]
    },
    {
     "name": "stderr",
     "output_type": "stream",
     "text": [
      "C:\\Users\\Montr\\anaconda3\\lib\\site-packages\\tensorflow\\python\\framework\\indexed_slices.py:433: UserWarning: Converting sparse IndexedSlices to a dense Tensor of unknown shape. This may consume a large amount of memory.\n",
      "  \"Converting sparse IndexedSlices to a dense Tensor of unknown shape. \"\n"
     ]
    },
    {
     "name": "stdout",
     "output_type": "stream",
     "text": [
      "904/904 - 12s - loss: 1.8113 - mse: 1.8098 - val_loss: 1.4433 - val_mse: 1.4395\n",
      "Epoch 2/3\n",
      "904/904 - 12s - loss: 0.6660 - mse: 0.6599 - val_loss: 1.4773 - val_mse: 1.4688\n",
      "Epoch 3/3\n",
      "904/904 - 12s - loss: 0.3071 - mse: 0.2975 - val_loss: 1.5104 - val_mse: 1.4994\n",
      "MSE: 1.5708435\n",
      "optimizer:Adam | embedding_dim:32 | lr:0.0001 | dropout:0.5 | hidden_units:(128, 128) | epochs:3 | batch_size:64\n",
      "Epoch 1/3\n"
     ]
    },
    {
     "name": "stderr",
     "output_type": "stream",
     "text": [
      "C:\\Users\\Montr\\anaconda3\\lib\\site-packages\\tensorflow\\python\\framework\\indexed_slices.py:433: UserWarning: Converting sparse IndexedSlices to a dense Tensor of unknown shape. This may consume a large amount of memory.\n",
      "  \"Converting sparse IndexedSlices to a dense Tensor of unknown shape. \"\n"
     ]
    },
    {
     "name": "stdout",
     "output_type": "stream",
     "text": [
      "452/452 - 7s - loss: 2.1436 - mse: 2.1428 - val_loss: 1.4131 - val_mse: 1.4109\n",
      "Epoch 2/3\n",
      "452/452 - 6s - loss: 0.6662 - mse: 0.6627 - val_loss: 1.5875 - val_mse: 1.5823\n",
      "Epoch 3/3\n",
      "452/452 - 6s - loss: 0.2929 - mse: 0.2869 - val_loss: 1.5161 - val_mse: 1.5092\n",
      "MSE: 1.5870047\n",
      "optimizer:Adam | embedding_dim:32 | lr:0.0001 | dropout:0.5 | hidden_units:(128, 128) | epochs:5 | batch_size:32\n",
      "Epoch 1/5\n"
     ]
    },
    {
     "name": "stderr",
     "output_type": "stream",
     "text": [
      "C:\\Users\\Montr\\anaconda3\\lib\\site-packages\\tensorflow\\python\\framework\\indexed_slices.py:433: UserWarning: Converting sparse IndexedSlices to a dense Tensor of unknown shape. This may consume a large amount of memory.\n",
      "  \"Converting sparse IndexedSlices to a dense Tensor of unknown shape. \"\n"
     ]
    },
    {
     "name": "stdout",
     "output_type": "stream",
     "text": [
      "904/904 - 12s - loss: 1.8204 - mse: 1.8190 - val_loss: 1.4511 - val_mse: 1.4473\n",
      "Epoch 2/5\n",
      "904/904 - 12s - loss: 0.6518 - mse: 0.6456 - val_loss: 1.5072 - val_mse: 1.4984\n",
      "Epoch 3/5\n",
      "904/904 - 12s - loss: 0.3236 - mse: 0.3134 - val_loss: 1.5094 - val_mse: 1.4975\n",
      "Epoch 4/5\n",
      "904/904 - 12s - loss: 0.1861 - mse: 0.1734 - val_loss: 1.8021 - val_mse: 1.7884\n",
      "Epoch 5/5\n",
      "904/904 - 12s - loss: 0.1436 - mse: 0.1293 - val_loss: 1.5907 - val_mse: 1.5755\n",
      "MSE: 1.6683639\n",
      "optimizer:Adam | embedding_dim:32 | lr:0.0001 | dropout:0.5 | hidden_units:(128, 128) | epochs:5 | batch_size:64\n",
      "Epoch 1/5\n"
     ]
    },
    {
     "name": "stderr",
     "output_type": "stream",
     "text": [
      "C:\\Users\\Montr\\anaconda3\\lib\\site-packages\\tensorflow\\python\\framework\\indexed_slices.py:433: UserWarning: Converting sparse IndexedSlices to a dense Tensor of unknown shape. This may consume a large amount of memory.\n",
      "  \"Converting sparse IndexedSlices to a dense Tensor of unknown shape. \"\n"
     ]
    },
    {
     "name": "stdout",
     "output_type": "stream",
     "text": [
      "452/452 - 7s - loss: 2.1257 - mse: 2.1248 - val_loss: 1.4517 - val_mse: 1.4495\n",
      "Epoch 2/5\n",
      "452/452 - 6s - loss: 0.6678 - mse: 0.6642 - val_loss: 1.6015 - val_mse: 1.5963\n",
      "Epoch 3/5\n",
      "452/452 - 6s - loss: 0.3126 - mse: 0.3066 - val_loss: 1.5211 - val_mse: 1.5141\n",
      "Epoch 4/5\n",
      "452/452 - 6s - loss: 0.1692 - mse: 0.1618 - val_loss: 1.5607 - val_mse: 1.5527\n",
      "Epoch 5/5\n",
      "452/452 - 6s - loss: 0.1159 - mse: 0.1077 - val_loss: 1.6296 - val_mse: 1.6210\n",
      "MSE: 1.6942661\n",
      "optimizer:Adam | embedding_dim:32 | lr:0.0001 | dropout:0.5 | hidden_units:(128, 128) | epochs:3 | batch_size:32\n",
      "Epoch 1/3\n"
     ]
    },
    {
     "name": "stderr",
     "output_type": "stream",
     "text": [
      "C:\\Users\\Montr\\anaconda3\\lib\\site-packages\\tensorflow\\python\\framework\\indexed_slices.py:433: UserWarning: Converting sparse IndexedSlices to a dense Tensor of unknown shape. This may consume a large amount of memory.\n",
      "  \"Converting sparse IndexedSlices to a dense Tensor of unknown shape. \"\n"
     ]
    },
    {
     "name": "stdout",
     "output_type": "stream",
     "text": [
      "904/904 - 12s - loss: 1.7752 - mse: 1.7737 - val_loss: 1.4075 - val_mse: 1.4037\n",
      "Epoch 2/3\n",
      "904/904 - 12s - loss: 0.6530 - mse: 0.6470 - val_loss: 1.4850 - val_mse: 1.4763\n",
      "Epoch 3/3\n",
      "904/904 - 12s - loss: 0.3202 - mse: 0.3102 - val_loss: 1.5757 - val_mse: 1.5641\n",
      "MSE: 1.6714634\n",
      "optimizer:Adam | embedding_dim:32 | lr:0.0001 | dropout:0.5 | hidden_units:(128, 128) | epochs:3 | batch_size:64\n",
      "Epoch 1/3\n"
     ]
    },
    {
     "name": "stderr",
     "output_type": "stream",
     "text": [
      "C:\\Users\\Montr\\anaconda3\\lib\\site-packages\\tensorflow\\python\\framework\\indexed_slices.py:433: UserWarning: Converting sparse IndexedSlices to a dense Tensor of unknown shape. This may consume a large amount of memory.\n",
      "  \"Converting sparse IndexedSlices to a dense Tensor of unknown shape. \"\n"
     ]
    },
    {
     "name": "stdout",
     "output_type": "stream",
     "text": [
      "452/452 - 7s - loss: 2.1363 - mse: 2.1355 - val_loss: 1.3890 - val_mse: 1.3868\n",
      "Epoch 2/3\n",
      "452/452 - 6s - loss: 0.6541 - mse: 0.6506 - val_loss: 1.5169 - val_mse: 1.5120\n",
      "Epoch 3/3\n",
      "452/452 - 6s - loss: 0.2958 - mse: 0.2900 - val_loss: 1.5034 - val_mse: 1.4965\n",
      "MSE: 1.5930928\n",
      "optimizer:Adam | embedding_dim:32 | lr:0.0001 | dropout:0.5 | hidden_units:(128, 128) | epochs:5 | batch_size:32\n",
      "Epoch 1/5\n"
     ]
    },
    {
     "name": "stderr",
     "output_type": "stream",
     "text": [
      "C:\\Users\\Montr\\anaconda3\\lib\\site-packages\\tensorflow\\python\\framework\\indexed_slices.py:433: UserWarning: Converting sparse IndexedSlices to a dense Tensor of unknown shape. This may consume a large amount of memory.\n",
      "  \"Converting sparse IndexedSlices to a dense Tensor of unknown shape. \"\n"
     ]
    },
    {
     "name": "stdout",
     "output_type": "stream",
     "text": [
      "904/904 - 12s - loss: 1.8032 - mse: 1.8017 - val_loss: 1.4545 - val_mse: 1.4506\n",
      "Epoch 2/5\n",
      "904/904 - 12s - loss: 0.6531 - mse: 0.6471 - val_loss: 1.5062 - val_mse: 1.4979\n",
      "Epoch 3/5\n",
      "904/904 - 12s - loss: 0.3154 - mse: 0.3057 - val_loss: 1.6159 - val_mse: 1.6045\n",
      "Epoch 4/5\n",
      "904/904 - 12s - loss: 0.1722 - mse: 0.1601 - val_loss: 1.5398 - val_mse: 1.5268\n",
      "Epoch 5/5\n",
      "904/904 - 12s - loss: 0.1383 - mse: 0.1248 - val_loss: 1.6525 - val_mse: 1.6383\n",
      "MSE: 1.7090989\n",
      "optimizer:Adam | embedding_dim:32 | lr:0.0001 | dropout:0.5 | hidden_units:(128, 128) | epochs:5 | batch_size:64\n",
      "Epoch 1/5\n"
     ]
    },
    {
     "name": "stderr",
     "output_type": "stream",
     "text": [
      "C:\\Users\\Montr\\anaconda3\\lib\\site-packages\\tensorflow\\python\\framework\\indexed_slices.py:433: UserWarning: Converting sparse IndexedSlices to a dense Tensor of unknown shape. This may consume a large amount of memory.\n",
      "  \"Converting sparse IndexedSlices to a dense Tensor of unknown shape. \"\n"
     ]
    },
    {
     "name": "stdout",
     "output_type": "stream",
     "text": [
      "452/452 - 6s - loss: 2.1166 - mse: 2.1157 - val_loss: 1.3886 - val_mse: 1.3864\n",
      "Epoch 2/5\n",
      "452/452 - 6s - loss: 0.6631 - mse: 0.6595 - val_loss: 1.4772 - val_mse: 1.4721\n",
      "Epoch 3/5\n",
      "452/452 - 6s - loss: 0.3022 - mse: 0.2962 - val_loss: 1.5057 - val_mse: 1.4988\n",
      "Epoch 4/5\n",
      "452/452 - 6s - loss: 0.1593 - mse: 0.1519 - val_loss: 1.5819 - val_mse: 1.5739\n",
      "Epoch 5/5\n",
      "452/452 - 6s - loss: 0.1133 - mse: 0.1050 - val_loss: 1.6804 - val_mse: 1.6718\n",
      "MSE: 1.7644454\n",
      "optimizer:Adam | embedding_dim:32 | lr:0.0001 | dropout:0.5 | hidden_units:(128, 128) | epochs:3 | batch_size:32\n",
      "Epoch 1/3\n"
     ]
    },
    {
     "name": "stderr",
     "output_type": "stream",
     "text": [
      "C:\\Users\\Montr\\anaconda3\\lib\\site-packages\\tensorflow\\python\\framework\\indexed_slices.py:433: UserWarning: Converting sparse IndexedSlices to a dense Tensor of unknown shape. This may consume a large amount of memory.\n",
      "  \"Converting sparse IndexedSlices to a dense Tensor of unknown shape. \"\n"
     ]
    },
    {
     "name": "stdout",
     "output_type": "stream",
     "text": [
      "904/904 - 12s - loss: 1.8238 - mse: 1.8224 - val_loss: 1.4586 - val_mse: 1.4547\n",
      "Epoch 2/3\n",
      "904/904 - 12s - loss: 0.6468 - mse: 0.6408 - val_loss: 1.5874 - val_mse: 1.5790\n",
      "Epoch 3/3\n",
      "904/904 - 12s - loss: 0.3095 - mse: 0.2998 - val_loss: 1.4867 - val_mse: 1.4755\n",
      "MSE: 1.5554571\n",
      "optimizer:Adam | embedding_dim:32 | lr:0.0001 | dropout:0.5 | hidden_units:(128, 128) | epochs:3 | batch_size:64\n",
      "Epoch 1/3\n"
     ]
    },
    {
     "name": "stderr",
     "output_type": "stream",
     "text": [
      "C:\\Users\\Montr\\anaconda3\\lib\\site-packages\\tensorflow\\python\\framework\\indexed_slices.py:433: UserWarning: Converting sparse IndexedSlices to a dense Tensor of unknown shape. This may consume a large amount of memory.\n",
      "  \"Converting sparse IndexedSlices to a dense Tensor of unknown shape. \"\n"
     ]
    },
    {
     "name": "stdout",
     "output_type": "stream",
     "text": [
      "452/452 - 6s - loss: 2.0979 - mse: 2.0971 - val_loss: 1.3957 - val_mse: 1.3936\n",
      "Epoch 2/3\n",
      "452/452 - 6s - loss: 0.6579 - mse: 0.6542 - val_loss: 1.5141 - val_mse: 1.5087\n",
      "Epoch 3/3\n",
      "452/452 - 6s - loss: 0.3082 - mse: 0.3021 - val_loss: 1.5249 - val_mse: 1.5178\n",
      "MSE: 1.6224264\n",
      "optimizer:Adam | embedding_dim:32 | lr:0.0001 | dropout:0.5 | hidden_units:(128, 128) | epochs:5 | batch_size:32\n",
      "Epoch 1/5\n"
     ]
    },
    {
     "name": "stderr",
     "output_type": "stream",
     "text": [
      "C:\\Users\\Montr\\anaconda3\\lib\\site-packages\\tensorflow\\python\\framework\\indexed_slices.py:433: UserWarning: Converting sparse IndexedSlices to a dense Tensor of unknown shape. This may consume a large amount of memory.\n",
      "  \"Converting sparse IndexedSlices to a dense Tensor of unknown shape. \"\n"
     ]
    },
    {
     "name": "stdout",
     "output_type": "stream",
     "text": [
      "904/904 - 12s - loss: 1.7959 - mse: 1.7944 - val_loss: 1.4143 - val_mse: 1.4105\n",
      "Epoch 2/5\n",
      "904/904 - 12s - loss: 0.6600 - mse: 0.6540 - val_loss: 1.5434 - val_mse: 1.5346\n",
      "Epoch 3/5\n",
      "904/904 - 12s - loss: 0.3393 - mse: 0.3292 - val_loss: 1.5538 - val_mse: 1.5421\n",
      "Epoch 4/5\n",
      "904/904 - 12s - loss: 0.1730 - mse: 0.1607 - val_loss: 1.5768 - val_mse: 1.5638\n",
      "Epoch 5/5\n",
      "904/904 - 12s - loss: 0.1375 - mse: 0.1238 - val_loss: 1.7106 - val_mse: 1.6961\n",
      "MSE: 1.7830418\n",
      "optimizer:Adam | embedding_dim:32 | lr:0.0001 | dropout:0.5 | hidden_units:(128, 128) | epochs:5 | batch_size:64\n",
      "Epoch 1/5\n"
     ]
    },
    {
     "name": "stderr",
     "output_type": "stream",
     "text": [
      "C:\\Users\\Montr\\anaconda3\\lib\\site-packages\\tensorflow\\python\\framework\\indexed_slices.py:433: UserWarning: Converting sparse IndexedSlices to a dense Tensor of unknown shape. This may consume a large amount of memory.\n",
      "  \"Converting sparse IndexedSlices to a dense Tensor of unknown shape. \"\n"
     ]
    },
    {
     "name": "stdout",
     "output_type": "stream",
     "text": [
      "452/452 - 7s - loss: 2.1212 - mse: 2.1204 - val_loss: 1.4033 - val_mse: 1.4011\n",
      "Epoch 2/5\n",
      "452/452 - 6s - loss: 0.6811 - mse: 0.6774 - val_loss: 1.5029 - val_mse: 1.4973\n",
      "Epoch 3/5\n",
      "452/452 - 6s - loss: 0.2970 - mse: 0.2907 - val_loss: 1.5020 - val_mse: 1.4947\n",
      "Epoch 4/5\n",
      "452/452 - 6s - loss: 0.1617 - mse: 0.1539 - val_loss: 1.6448 - val_mse: 1.6365\n",
      "Epoch 5/5\n",
      "452/452 - 6s - loss: 0.1151 - mse: 0.1065 - val_loss: 1.6711 - val_mse: 1.6622\n",
      "MSE: 1.7139695\n",
      "optimizer:Adam | embedding_dim:32 | lr:0.0001 | dropout:0.5 | hidden_units:(128, 128) | epochs:3 | batch_size:32\n",
      "Epoch 1/3\n"
     ]
    },
    {
     "name": "stderr",
     "output_type": "stream",
     "text": [
      "C:\\Users\\Montr\\anaconda3\\lib\\site-packages\\tensorflow\\python\\framework\\indexed_slices.py:433: UserWarning: Converting sparse IndexedSlices to a dense Tensor of unknown shape. This may consume a large amount of memory.\n",
      "  \"Converting sparse IndexedSlices to a dense Tensor of unknown shape. \"\n"
     ]
    },
    {
     "name": "stdout",
     "output_type": "stream",
     "text": [
      "904/904 - 12s - loss: 1.7981 - mse: 1.7966 - val_loss: 1.4240 - val_mse: 1.4202\n",
      "Epoch 2/3\n",
      "904/904 - 12s - loss: 0.6333 - mse: 0.6273 - val_loss: 1.4688 - val_mse: 1.4606\n",
      "Epoch 3/3\n",
      "904/904 - 12s - loss: 0.3104 - mse: 0.3007 - val_loss: 1.5546 - val_mse: 1.5431\n",
      "MSE: 1.6403587\n",
      "optimizer:Adam | embedding_dim:32 | lr:0.0001 | dropout:0.5 | hidden_units:(128, 128) | epochs:3 | batch_size:64\n",
      "Epoch 1/3\n"
     ]
    },
    {
     "name": "stderr",
     "output_type": "stream",
     "text": [
      "C:\\Users\\Montr\\anaconda3\\lib\\site-packages\\tensorflow\\python\\framework\\indexed_slices.py:433: UserWarning: Converting sparse IndexedSlices to a dense Tensor of unknown shape. This may consume a large amount of memory.\n",
      "  \"Converting sparse IndexedSlices to a dense Tensor of unknown shape. \"\n"
     ]
    },
    {
     "name": "stdout",
     "output_type": "stream",
     "text": [
      "452/452 - 6s - loss: 2.1940 - mse: 2.1931 - val_loss: 1.4113 - val_mse: 1.4091\n",
      "Epoch 2/3\n",
      "452/452 - 6s - loss: 0.6743 - mse: 0.6706 - val_loss: 1.4842 - val_mse: 1.4789\n",
      "Epoch 3/3\n",
      "452/452 - 6s - loss: 0.3084 - mse: 0.3022 - val_loss: 1.5043 - val_mse: 1.4971\n",
      "MSE: 1.5733894\n",
      "optimizer:Adam | embedding_dim:32 | lr:0.0001 | dropout:0.5 | hidden_units:(128, 128) | epochs:5 | batch_size:32\n",
      "Epoch 1/5\n"
     ]
    },
    {
     "name": "stderr",
     "output_type": "stream",
     "text": [
      "C:\\Users\\Montr\\anaconda3\\lib\\site-packages\\tensorflow\\python\\framework\\indexed_slices.py:433: UserWarning: Converting sparse IndexedSlices to a dense Tensor of unknown shape. This may consume a large amount of memory.\n",
      "  \"Converting sparse IndexedSlices to a dense Tensor of unknown shape. \"\n"
     ]
    },
    {
     "name": "stdout",
     "output_type": "stream",
     "text": [
      "904/904 - 12s - loss: 1.8000 - mse: 1.7985 - val_loss: 1.4922 - val_mse: 1.4884\n",
      "Epoch 2/5\n",
      "904/904 - 12s - loss: 0.6158 - mse: 0.6100 - val_loss: 1.4812 - val_mse: 1.4736\n",
      "Epoch 3/5\n",
      "904/904 - 12s - loss: 0.3081 - mse: 0.2989 - val_loss: 1.5673 - val_mse: 1.5562\n",
      "Epoch 4/5\n",
      "904/904 - 12s - loss: 0.1903 - mse: 0.1782 - val_loss: 1.5579 - val_mse: 1.5447\n",
      "Epoch 5/5\n",
      "904/904 - 12s - loss: 0.1426 - mse: 0.1288 - val_loss: 1.6017 - val_mse: 1.5872\n",
      "MSE: 1.6707993\n",
      "optimizer:Adam | embedding_dim:32 | lr:0.0001 | dropout:0.5 | hidden_units:(128, 128) | epochs:5 | batch_size:64\n",
      "Epoch 1/5\n"
     ]
    },
    {
     "name": "stderr",
     "output_type": "stream",
     "text": [
      "C:\\Users\\Montr\\anaconda3\\lib\\site-packages\\tensorflow\\python\\framework\\indexed_slices.py:433: UserWarning: Converting sparse IndexedSlices to a dense Tensor of unknown shape. This may consume a large amount of memory.\n",
      "  \"Converting sparse IndexedSlices to a dense Tensor of unknown shape. \"\n"
     ]
    },
    {
     "name": "stdout",
     "output_type": "stream",
     "text": [
      "452/452 - 7s - loss: 2.1239 - mse: 2.1231 - val_loss: 1.4011 - val_mse: 1.3989\n",
      "Epoch 2/5\n",
      "452/452 - 6s - loss: 0.6674 - mse: 0.6639 - val_loss: 1.4815 - val_mse: 1.4764\n",
      "Epoch 3/5\n",
      "452/452 - 6s - loss: 0.2998 - mse: 0.2939 - val_loss: 1.5040 - val_mse: 1.4972\n",
      "Epoch 4/5\n",
      "452/452 - 6s - loss: 0.1631 - mse: 0.1559 - val_loss: 1.5586 - val_mse: 1.5509\n",
      "Epoch 5/5\n",
      "452/452 - 6s - loss: 0.1183 - mse: 0.1102 - val_loss: 1.5959 - val_mse: 1.5874\n",
      "MSE: 1.6557449\n",
      "optimizer:Adam | embedding_dim:32 | lr:0.0001 | dropout:0.5 | hidden_units:(128, 128) | epochs:3 | batch_size:32\n",
      "Epoch 1/3\n"
     ]
    },
    {
     "name": "stderr",
     "output_type": "stream",
     "text": [
      "C:\\Users\\Montr\\anaconda3\\lib\\site-packages\\tensorflow\\python\\framework\\indexed_slices.py:433: UserWarning: Converting sparse IndexedSlices to a dense Tensor of unknown shape. This may consume a large amount of memory.\n",
      "  \"Converting sparse IndexedSlices to a dense Tensor of unknown shape. \"\n"
     ]
    },
    {
     "name": "stdout",
     "output_type": "stream",
     "text": [
      "904/904 - 13s - loss: 1.7746 - mse: 1.7731 - val_loss: 1.4030 - val_mse: 1.3992\n",
      "Epoch 2/3\n",
      "904/904 - 13s - loss: 0.6254 - mse: 0.6195 - val_loss: 1.4710 - val_mse: 1.4630\n",
      "Epoch 3/3\n",
      "904/904 - 13s - loss: 0.3165 - mse: 0.3071 - val_loss: 1.5398 - val_mse: 1.5287\n",
      "MSE: 1.6234226\n",
      "optimizer:Adam | embedding_dim:32 | lr:0.0001 | dropout:0.5 | hidden_units:(128, 128) | epochs:3 | batch_size:64\n",
      "Epoch 1/3\n"
     ]
    },
    {
     "name": "stderr",
     "output_type": "stream",
     "text": [
      "C:\\Users\\Montr\\anaconda3\\lib\\site-packages\\tensorflow\\python\\framework\\indexed_slices.py:433: UserWarning: Converting sparse IndexedSlices to a dense Tensor of unknown shape. This may consume a large amount of memory.\n",
      "  \"Converting sparse IndexedSlices to a dense Tensor of unknown shape. \"\n"
     ]
    },
    {
     "name": "stdout",
     "output_type": "stream",
     "text": [
      "452/452 - 8s - loss: 2.1265 - mse: 2.1257 - val_loss: 1.3881 - val_mse: 1.3859\n",
      "Epoch 2/3\n",
      "452/452 - 8s - loss: 0.6710 - mse: 0.6674 - val_loss: 1.5108 - val_mse: 1.5058\n",
      "Epoch 3/3\n",
      "452/452 - 7s - loss: 0.3006 - mse: 0.2949 - val_loss: 1.5082 - val_mse: 1.5015\n",
      "MSE: 1.5972991\n",
      "optimizer:Adam | embedding_dim:32 | lr:0.0001 | dropout:0.5 | hidden_units:(128, 128) | epochs:5 | batch_size:32\n",
      "Epoch 1/5\n"
     ]
    },
    {
     "name": "stderr",
     "output_type": "stream",
     "text": [
      "C:\\Users\\Montr\\anaconda3\\lib\\site-packages\\tensorflow\\python\\framework\\indexed_slices.py:433: UserWarning: Converting sparse IndexedSlices to a dense Tensor of unknown shape. This may consume a large amount of memory.\n",
      "  \"Converting sparse IndexedSlices to a dense Tensor of unknown shape. \"\n"
     ]
    },
    {
     "name": "stdout",
     "output_type": "stream",
     "text": [
      "904/904 - 12s - loss: 1.8153 - mse: 1.8139 - val_loss: 1.3861 - val_mse: 1.3823\n",
      "Epoch 2/5\n",
      "904/904 - 12s - loss: 0.6648 - mse: 0.6588 - val_loss: 1.4780 - val_mse: 1.4696\n",
      "Epoch 3/5\n",
      "904/904 - 11s - loss: 0.3165 - mse: 0.3066 - val_loss: 1.5449 - val_mse: 1.5334\n",
      "Epoch 4/5\n",
      "904/904 - 11s - loss: 0.1679 - mse: 0.1557 - val_loss: 1.6589 - val_mse: 1.6461\n",
      "Epoch 5/5\n",
      "904/904 - 11s - loss: 0.1325 - mse: 0.1193 - val_loss: 1.5907 - val_mse: 1.5771\n",
      "MSE: 1.683861\n",
      "optimizer:Adam | embedding_dim:32 | lr:0.0001 | dropout:0.5 | hidden_units:(128, 128) | epochs:5 | batch_size:64\n",
      "Epoch 1/5\n"
     ]
    },
    {
     "name": "stderr",
     "output_type": "stream",
     "text": [
      "C:\\Users\\Montr\\anaconda3\\lib\\site-packages\\tensorflow\\python\\framework\\indexed_slices.py:433: UserWarning: Converting sparse IndexedSlices to a dense Tensor of unknown shape. This may consume a large amount of memory.\n",
      "  \"Converting sparse IndexedSlices to a dense Tensor of unknown shape. \"\n"
     ]
    },
    {
     "name": "stdout",
     "output_type": "stream",
     "text": [
      "452/452 - 7s - loss: 2.1382 - mse: 2.1374 - val_loss: 1.4005 - val_mse: 1.3983\n",
      "Epoch 2/5\n",
      "452/452 - 6s - loss: 0.6923 - mse: 0.6886 - val_loss: 1.4742 - val_mse: 1.4689\n",
      "Epoch 3/5\n",
      "452/452 - 6s - loss: 0.2897 - mse: 0.2835 - val_loss: 1.5939 - val_mse: 1.5868\n",
      "Epoch 4/5\n",
      "452/452 - 6s - loss: 0.1657 - mse: 0.1581 - val_loss: 1.5900 - val_mse: 1.5819\n",
      "Epoch 5/5\n",
      "452/452 - 6s - loss: 0.1180 - mse: 0.1096 - val_loss: 1.5901 - val_mse: 1.5813\n",
      "MSE: 1.6412442\n",
      "optimizer:Adam | embedding_dim:32 | lr:0.0001 | dropout:0.5 | hidden_units:(128, 128) | epochs:3 | batch_size:32\n",
      "Epoch 1/3\n"
     ]
    },
    {
     "name": "stderr",
     "output_type": "stream",
     "text": [
      "C:\\Users\\Montr\\anaconda3\\lib\\site-packages\\tensorflow\\python\\framework\\indexed_slices.py:433: UserWarning: Converting sparse IndexedSlices to a dense Tensor of unknown shape. This may consume a large amount of memory.\n",
      "  \"Converting sparse IndexedSlices to a dense Tensor of unknown shape. \"\n"
     ]
    },
    {
     "name": "stdout",
     "output_type": "stream",
     "text": [
      "904/904 - 12s - loss: 1.8410 - mse: 1.8395 - val_loss: 1.4287 - val_mse: 1.4248\n",
      "Epoch 2/3\n",
      "904/904 - 12s - loss: 0.6336 - mse: 0.6274 - val_loss: 1.4537 - val_mse: 1.4452\n",
      "Epoch 3/3\n",
      "904/904 - 12s - loss: 0.3142 - mse: 0.3042 - val_loss: 1.5585 - val_mse: 1.5466\n",
      "MSE: 1.618995\n",
      "optimizer:Adam | embedding_dim:32 | lr:0.0001 | dropout:0.5 | hidden_units:(128, 128) | epochs:3 | batch_size:64\n",
      "Epoch 1/3\n"
     ]
    },
    {
     "name": "stderr",
     "output_type": "stream",
     "text": [
      "C:\\Users\\Montr\\anaconda3\\lib\\site-packages\\tensorflow\\python\\framework\\indexed_slices.py:433: UserWarning: Converting sparse IndexedSlices to a dense Tensor of unknown shape. This may consume a large amount of memory.\n",
      "  \"Converting sparse IndexedSlices to a dense Tensor of unknown shape. \"\n"
     ]
    },
    {
     "name": "stdout",
     "output_type": "stream",
     "text": [
      "452/452 - 6s - loss: 2.1509 - mse: 2.1501 - val_loss: 1.4014 - val_mse: 1.3992\n",
      "Epoch 2/3\n",
      "452/452 - 6s - loss: 0.6858 - mse: 0.6822 - val_loss: 1.5389 - val_mse: 1.5335\n",
      "Epoch 3/3\n",
      "452/452 - 6s - loss: 0.3049 - mse: 0.2987 - val_loss: 1.5037 - val_mse: 1.4966\n",
      "MSE: 1.5754926\n",
      "optimizer:Adam | embedding_dim:32 | lr:0.0001 | dropout:0.5 | hidden_units:(128, 128) | epochs:5 | batch_size:32\n",
      "Epoch 1/5\n"
     ]
    },
    {
     "name": "stderr",
     "output_type": "stream",
     "text": [
      "C:\\Users\\Montr\\anaconda3\\lib\\site-packages\\tensorflow\\python\\framework\\indexed_slices.py:433: UserWarning: Converting sparse IndexedSlices to a dense Tensor of unknown shape. This may consume a large amount of memory.\n",
      "  \"Converting sparse IndexedSlices to a dense Tensor of unknown shape. \"\n"
     ]
    },
    {
     "name": "stdout",
     "output_type": "stream",
     "text": [
      "904/904 - 12s - loss: 1.8312 - mse: 1.8298 - val_loss: 1.4164 - val_mse: 1.4127\n",
      "Epoch 2/5\n",
      "904/904 - 11s - loss: 0.6487 - mse: 0.6428 - val_loss: 1.4776 - val_mse: 1.4694\n",
      "Epoch 3/5\n",
      "904/904 - 12s - loss: 0.3153 - mse: 0.3056 - val_loss: 1.5883 - val_mse: 1.5770\n",
      "Epoch 4/5\n",
      "904/904 - 12s - loss: 0.1695 - mse: 0.1576 - val_loss: 1.6034 - val_mse: 1.5907\n",
      "Epoch 5/5\n",
      "904/904 - 12s - loss: 0.1370 - mse: 0.1238 - val_loss: 1.6118 - val_mse: 1.5979\n",
      "MSE: 1.6617224\n",
      "optimizer:Adam | embedding_dim:32 | lr:0.0001 | dropout:0.5 | hidden_units:(128, 128) | epochs:5 | batch_size:64\n",
      "Epoch 1/5\n"
     ]
    },
    {
     "name": "stderr",
     "output_type": "stream",
     "text": [
      "C:\\Users\\Montr\\anaconda3\\lib\\site-packages\\tensorflow\\python\\framework\\indexed_slices.py:433: UserWarning: Converting sparse IndexedSlices to a dense Tensor of unknown shape. This may consume a large amount of memory.\n",
      "  \"Converting sparse IndexedSlices to a dense Tensor of unknown shape. \"\n"
     ]
    },
    {
     "name": "stdout",
     "output_type": "stream",
     "text": [
      "452/452 - 7s - loss: 2.1451 - mse: 2.1442 - val_loss: 1.4403 - val_mse: 1.4382\n",
      "Epoch 2/5\n",
      "452/452 - 6s - loss: 0.6767 - mse: 0.6731 - val_loss: 1.4879 - val_mse: 1.4827\n",
      "Epoch 3/5\n",
      "452/452 - 6s - loss: 0.2907 - mse: 0.2847 - val_loss: 1.5264 - val_mse: 1.5194\n",
      "Epoch 4/5\n",
      "452/452 - 6s - loss: 0.1624 - mse: 0.1550 - val_loss: 1.5942 - val_mse: 1.5862\n",
      "Epoch 5/5\n",
      "452/452 - 6s - loss: 0.1147 - mse: 0.1065 - val_loss: 1.6256 - val_mse: 1.6170\n",
      "MSE: 1.705114\n",
      "optimizer:Adam | embedding_dim:32 | lr:0.0001 | dropout:0.5 | hidden_units:(128, 128) | epochs:3 | batch_size:32\n",
      "Epoch 1/3\n"
     ]
    },
    {
     "name": "stderr",
     "output_type": "stream",
     "text": [
      "C:\\Users\\Montr\\anaconda3\\lib\\site-packages\\tensorflow\\python\\framework\\indexed_slices.py:433: UserWarning: Converting sparse IndexedSlices to a dense Tensor of unknown shape. This may consume a large amount of memory.\n",
      "  \"Converting sparse IndexedSlices to a dense Tensor of unknown shape. \"\n"
     ]
    },
    {
     "name": "stdout",
     "output_type": "stream",
     "text": [
      "904/904 - 12s - loss: 1.8264 - mse: 1.8250 - val_loss: 1.4101 - val_mse: 1.4062\n",
      "Epoch 2/3\n",
      "904/904 - 12s - loss: 0.6233 - mse: 0.6173 - val_loss: 1.4842 - val_mse: 1.4762\n",
      "Epoch 3/3\n",
      "904/904 - 12s - loss: 0.3035 - mse: 0.2940 - val_loss: 1.5487 - val_mse: 1.5374\n",
      "MSE: 1.5887758\n",
      "optimizer:Adam | embedding_dim:32 | lr:0.0001 | dropout:0.5 | hidden_units:(128, 128) | epochs:3 | batch_size:64\n",
      "Epoch 1/3\n"
     ]
    },
    {
     "name": "stderr",
     "output_type": "stream",
     "text": [
      "C:\\Users\\Montr\\anaconda3\\lib\\site-packages\\tensorflow\\python\\framework\\indexed_slices.py:433: UserWarning: Converting sparse IndexedSlices to a dense Tensor of unknown shape. This may consume a large amount of memory.\n",
      "  \"Converting sparse IndexedSlices to a dense Tensor of unknown shape. \"\n"
     ]
    },
    {
     "name": "stdout",
     "output_type": "stream",
     "text": [
      "452/452 - 6s - loss: 2.1138 - mse: 2.1130 - val_loss: 1.4540 - val_mse: 1.4518\n",
      "Epoch 2/3\n",
      "452/452 - 6s - loss: 0.6769 - mse: 0.6731 - val_loss: 1.4803 - val_mse: 1.4748\n",
      "Epoch 3/3\n",
      "452/452 - 6s - loss: 0.3134 - mse: 0.3071 - val_loss: 1.5184 - val_mse: 1.5111\n",
      "MSE: 1.6021696\n",
      "optimizer:Adam | embedding_dim:32 | lr:0.0001 | dropout:0.5 | hidden_units:(128, 128) | epochs:5 | batch_size:32\n",
      "Epoch 1/5\n"
     ]
    },
    {
     "name": "stderr",
     "output_type": "stream",
     "text": [
      "C:\\Users\\Montr\\anaconda3\\lib\\site-packages\\tensorflow\\python\\framework\\indexed_slices.py:433: UserWarning: Converting sparse IndexedSlices to a dense Tensor of unknown shape. This may consume a large amount of memory.\n",
      "  \"Converting sparse IndexedSlices to a dense Tensor of unknown shape. \"\n"
     ]
    },
    {
     "name": "stdout",
     "output_type": "stream",
     "text": [
      "904/904 - 13s - loss: 1.8275 - mse: 1.8260 - val_loss: 1.4104 - val_mse: 1.4066\n",
      "Epoch 2/5\n",
      "904/904 - 11s - loss: 0.6398 - mse: 0.6337 - val_loss: 1.4721 - val_mse: 1.4636\n",
      "Epoch 3/5\n",
      "904/904 - 11s - loss: 0.3070 - mse: 0.2971 - val_loss: 1.4812 - val_mse: 1.4696\n",
      "Epoch 4/5\n",
      "904/904 - 11s - loss: 0.1847 - mse: 0.1723 - val_loss: 1.5807 - val_mse: 1.5673\n",
      "Epoch 5/5\n",
      "904/904 - 11s - loss: 0.1396 - mse: 0.1257 - val_loss: 1.6031 - val_mse: 1.5884\n",
      "MSE: 1.6794332\n",
      "optimizer:Adam | embedding_dim:32 | lr:0.0001 | dropout:0.5 | hidden_units:(128, 128) | epochs:5 | batch_size:64\n",
      "Epoch 1/5\n"
     ]
    },
    {
     "name": "stderr",
     "output_type": "stream",
     "text": [
      "C:\\Users\\Montr\\anaconda3\\lib\\site-packages\\tensorflow\\python\\framework\\indexed_slices.py:433: UserWarning: Converting sparse IndexedSlices to a dense Tensor of unknown shape. This may consume a large amount of memory.\n",
      "  \"Converting sparse IndexedSlices to a dense Tensor of unknown shape. \"\n"
     ]
    },
    {
     "name": "stdout",
     "output_type": "stream",
     "text": [
      "452/452 - 6s - loss: 2.1407 - mse: 2.1399 - val_loss: 1.3966 - val_mse: 1.3944\n",
      "Epoch 2/5\n",
      "452/452 - 6s - loss: 0.6714 - mse: 0.6678 - val_loss: 1.4700 - val_mse: 1.4649\n",
      "Epoch 3/5\n",
      "452/452 - 6s - loss: 0.3025 - mse: 0.2968 - val_loss: 1.5178 - val_mse: 1.5113\n",
      "Epoch 4/5\n",
      "452/452 - 6s - loss: 0.1666 - mse: 0.1595 - val_loss: 1.5794 - val_mse: 1.5717\n",
      "Epoch 5/5\n",
      "452/452 - 6s - loss: 0.1173 - mse: 0.1093 - val_loss: 1.6772 - val_mse: 1.6689\n",
      "MSE: 1.7709763\n",
      "optimizer:Adam | embedding_dim:32 | lr:0.0001 | dropout:0.5 | hidden_units:(128, 128) | epochs:3 | batch_size:32\n",
      "Epoch 1/3\n"
     ]
    },
    {
     "name": "stderr",
     "output_type": "stream",
     "text": [
      "C:\\Users\\Montr\\anaconda3\\lib\\site-packages\\tensorflow\\python\\framework\\indexed_slices.py:433: UserWarning: Converting sparse IndexedSlices to a dense Tensor of unknown shape. This may consume a large amount of memory.\n",
      "  \"Converting sparse IndexedSlices to a dense Tensor of unknown shape. \"\n"
     ]
    },
    {
     "name": "stdout",
     "output_type": "stream",
     "text": [
      "904/904 - 12s - loss: 1.8344 - mse: 1.8330 - val_loss: 1.4021 - val_mse: 1.3983\n",
      "Epoch 2/3\n",
      "904/904 - 12s - loss: 0.6319 - mse: 0.6260 - val_loss: 1.4549 - val_mse: 1.4466\n",
      "Epoch 3/3\n",
      "904/904 - 12s - loss: 0.3159 - mse: 0.3061 - val_loss: 1.5272 - val_mse: 1.5157\n",
      "MSE: 1.6029444\n",
      "optimizer:Adam | embedding_dim:32 | lr:0.0001 | dropout:0.5 | hidden_units:(128, 128) | epochs:3 | batch_size:64\n",
      "Epoch 1/3\n"
     ]
    },
    {
     "name": "stderr",
     "output_type": "stream",
     "text": [
      "C:\\Users\\Montr\\anaconda3\\lib\\site-packages\\tensorflow\\python\\framework\\indexed_slices.py:433: UserWarning: Converting sparse IndexedSlices to a dense Tensor of unknown shape. This may consume a large amount of memory.\n",
      "  \"Converting sparse IndexedSlices to a dense Tensor of unknown shape. \"\n"
     ]
    },
    {
     "name": "stdout",
     "output_type": "stream",
     "text": [
      "452/452 - 7s - loss: 2.1448 - mse: 2.1440 - val_loss: 1.3970 - val_mse: 1.3948\n",
      "Epoch 2/3\n",
      "452/452 - 6s - loss: 0.6875 - mse: 0.6838 - val_loss: 1.5915 - val_mse: 1.5861\n",
      "Epoch 3/3\n",
      "452/452 - 6s - loss: 0.3336 - mse: 0.3274 - val_loss: 1.4907 - val_mse: 1.4836\n",
      "MSE: 1.5960815\n",
      "optimizer:Adam | embedding_dim:32 | lr:0.0001 | dropout:0.5 | hidden_units:(128, 128) | epochs:5 | batch_size:32\n",
      "Epoch 1/5\n"
     ]
    },
    {
     "name": "stderr",
     "output_type": "stream",
     "text": [
      "C:\\Users\\Montr\\anaconda3\\lib\\site-packages\\tensorflow\\python\\framework\\indexed_slices.py:433: UserWarning: Converting sparse IndexedSlices to a dense Tensor of unknown shape. This may consume a large amount of memory.\n",
      "  \"Converting sparse IndexedSlices to a dense Tensor of unknown shape. \"\n"
     ]
    },
    {
     "name": "stdout",
     "output_type": "stream",
     "text": [
      "904/904 - 12s - loss: 1.8022 - mse: 1.8007 - val_loss: 1.4245 - val_mse: 1.4206\n",
      "Epoch 2/5\n",
      "904/904 - 12s - loss: 0.6431 - mse: 0.6370 - val_loss: 1.5363 - val_mse: 1.5278\n",
      "Epoch 3/5\n",
      "904/904 - 12s - loss: 0.3240 - mse: 0.3143 - val_loss: 1.5134 - val_mse: 1.5022\n",
      "Epoch 4/5\n",
      "904/904 - 12s - loss: 0.1783 - mse: 0.1664 - val_loss: 1.6173 - val_mse: 1.6045\n",
      "Epoch 5/5\n",
      "904/904 - 12s - loss: 0.1352 - mse: 0.1217 - val_loss: 1.6019 - val_mse: 1.5876\n",
      "MSE: 1.6777729\n",
      "optimizer:Adam | embedding_dim:32 | lr:0.0001 | dropout:0.5 | hidden_units:(128, 128) | epochs:5 | batch_size:64\n",
      "Epoch 1/5\n"
     ]
    },
    {
     "name": "stderr",
     "output_type": "stream",
     "text": [
      "C:\\Users\\Montr\\anaconda3\\lib\\site-packages\\tensorflow\\python\\framework\\indexed_slices.py:433: UserWarning: Converting sparse IndexedSlices to a dense Tensor of unknown shape. This may consume a large amount of memory.\n",
      "  \"Converting sparse IndexedSlices to a dense Tensor of unknown shape. \"\n"
     ]
    },
    {
     "name": "stdout",
     "output_type": "stream",
     "text": [
      "452/452 - 6s - loss: 2.0550 - mse: 2.0542 - val_loss: 1.3989 - val_mse: 1.3968\n",
      "Epoch 2/5\n",
      "452/452 - 6s - loss: 0.6789 - mse: 0.6754 - val_loss: 1.5535 - val_mse: 1.5483\n",
      "Epoch 3/5\n",
      "452/452 - 6s - loss: 0.3100 - mse: 0.3039 - val_loss: 1.5004 - val_mse: 1.4934\n",
      "Epoch 4/5\n",
      "452/452 - 6s - loss: 0.1642 - mse: 0.1568 - val_loss: 1.5455 - val_mse: 1.5376\n",
      "Epoch 5/5\n",
      "452/452 - 6s - loss: 0.1158 - mse: 0.1076 - val_loss: 1.6067 - val_mse: 1.5980\n",
      "MSE: 1.6891742\n",
      "optimizer:Adam | embedding_dim:32 | lr:0.0001 | dropout:0.5 | hidden_units:(128, 128) | epochs:3 | batch_size:32\n",
      "Epoch 1/3\n"
     ]
    },
    {
     "name": "stderr",
     "output_type": "stream",
     "text": [
      "C:\\Users\\Montr\\anaconda3\\lib\\site-packages\\tensorflow\\python\\framework\\indexed_slices.py:433: UserWarning: Converting sparse IndexedSlices to a dense Tensor of unknown shape. This may consume a large amount of memory.\n",
      "  \"Converting sparse IndexedSlices to a dense Tensor of unknown shape. \"\n"
     ]
    },
    {
     "name": "stdout",
     "output_type": "stream",
     "text": [
      "904/904 - 12s - loss: 1.8165 - mse: 1.8150 - val_loss: 1.3970 - val_mse: 1.3931\n",
      "Epoch 2/3\n",
      "904/904 - 12s - loss: 0.6384 - mse: 0.6324 - val_loss: 1.4770 - val_mse: 1.4686\n",
      "Epoch 3/3\n",
      "904/904 - 12s - loss: 0.3190 - mse: 0.3092 - val_loss: 1.4972 - val_mse: 1.4858\n",
      "MSE: 1.5750498\n",
      "optimizer:Adam | embedding_dim:32 | lr:0.0001 | dropout:0.5 | hidden_units:(128, 128) | epochs:3 | batch_size:64\n",
      "Epoch 1/3\n"
     ]
    },
    {
     "name": "stderr",
     "output_type": "stream",
     "text": [
      "C:\\Users\\Montr\\anaconda3\\lib\\site-packages\\tensorflow\\python\\framework\\indexed_slices.py:433: UserWarning: Converting sparse IndexedSlices to a dense Tensor of unknown shape. This may consume a large amount of memory.\n",
      "  \"Converting sparse IndexedSlices to a dense Tensor of unknown shape. \"\n"
     ]
    },
    {
     "name": "stdout",
     "output_type": "stream",
     "text": [
      "452/452 - 6s - loss: 2.1051 - mse: 2.1043 - val_loss: 1.5040 - val_mse: 1.5019\n",
      "Epoch 2/3\n",
      "452/452 - 6s - loss: 0.6759 - mse: 0.6724 - val_loss: 1.5164 - val_mse: 1.5113\n",
      "Epoch 3/3\n",
      "452/452 - 6s - loss: 0.3105 - mse: 0.3046 - val_loss: 1.5155 - val_mse: 1.5088\n",
      "MSE: 1.6184415\n",
      "optimizer:Adam | embedding_dim:32 | lr:0.0001 | dropout:0.5 | hidden_units:(128, 128) | epochs:5 | batch_size:32\n",
      "Epoch 1/5\n"
     ]
    },
    {
     "name": "stderr",
     "output_type": "stream",
     "text": [
      "C:\\Users\\Montr\\anaconda3\\lib\\site-packages\\tensorflow\\python\\framework\\indexed_slices.py:433: UserWarning: Converting sparse IndexedSlices to a dense Tensor of unknown shape. This may consume a large amount of memory.\n",
      "  \"Converting sparse IndexedSlices to a dense Tensor of unknown shape. \"\n"
     ]
    },
    {
     "name": "stdout",
     "output_type": "stream",
     "text": [
      "904/904 - 12s - loss: 1.8340 - mse: 1.8326 - val_loss: 1.5120 - val_mse: 1.5082\n",
      "Epoch 2/5\n",
      "904/904 - 12s - loss: 0.6386 - mse: 0.6327 - val_loss: 1.5029 - val_mse: 1.4946\n",
      "Epoch 3/5\n",
      "904/904 - 12s - loss: 0.3116 - mse: 0.3021 - val_loss: 1.5134 - val_mse: 1.5023\n",
      "Epoch 4/5\n",
      "904/904 - 12s - loss: 0.1744 - mse: 0.1625 - val_loss: 1.6412 - val_mse: 1.6284\n",
      "Epoch 5/5\n",
      "904/904 - 12s - loss: 0.1399 - mse: 0.1264 - val_loss: 1.5993 - val_mse: 1.5849\n",
      "MSE: 1.6766659\n",
      "optimizer:Adam | embedding_dim:32 | lr:0.0001 | dropout:0.5 | hidden_units:(128, 128) | epochs:5 | batch_size:64\n",
      "Epoch 1/5\n"
     ]
    },
    {
     "name": "stderr",
     "output_type": "stream",
     "text": [
      "C:\\Users\\Montr\\anaconda3\\lib\\site-packages\\tensorflow\\python\\framework\\indexed_slices.py:433: UserWarning: Converting sparse IndexedSlices to a dense Tensor of unknown shape. This may consume a large amount of memory.\n",
      "  \"Converting sparse IndexedSlices to a dense Tensor of unknown shape. \"\n"
     ]
    },
    {
     "name": "stdout",
     "output_type": "stream",
     "text": [
      "452/452 - 6s - loss: 2.1138 - mse: 2.1130 - val_loss: 1.4003 - val_mse: 1.3981\n",
      "Epoch 2/5\n",
      "452/452 - 6s - loss: 0.6799 - mse: 0.6762 - val_loss: 1.5269 - val_mse: 1.5215\n",
      "Epoch 3/5\n",
      "452/452 - 6s - loss: 0.3177 - mse: 0.3115 - val_loss: 1.5087 - val_mse: 1.5015\n",
      "Epoch 4/5\n",
      "452/452 - 6s - loss: 0.1553 - mse: 0.1478 - val_loss: 1.6128 - val_mse: 1.6048\n",
      "Epoch 5/5\n",
      "452/452 - 6s - loss: 0.1141 - mse: 0.1058 - val_loss: 1.5972 - val_mse: 1.5884\n",
      "MSE: 1.6742307\n",
      "optimizer:Adam | embedding_dim:32 | lr:0.0001 | dropout:0.5 | hidden_units:(128, 128) | epochs:3 | batch_size:32\n",
      "Epoch 1/3\n"
     ]
    },
    {
     "name": "stderr",
     "output_type": "stream",
     "text": [
      "C:\\Users\\Montr\\anaconda3\\lib\\site-packages\\tensorflow\\python\\framework\\indexed_slices.py:433: UserWarning: Converting sparse IndexedSlices to a dense Tensor of unknown shape. This may consume a large amount of memory.\n",
      "  \"Converting sparse IndexedSlices to a dense Tensor of unknown shape. \"\n"
     ]
    },
    {
     "name": "stdout",
     "output_type": "stream",
     "text": [
      "904/904 - 13s - loss: 1.8120 - mse: 1.8105 - val_loss: 1.4451 - val_mse: 1.4412\n",
      "Epoch 2/3\n",
      "904/904 - 12s - loss: 0.6443 - mse: 0.6382 - val_loss: 1.5390 - val_mse: 1.5305\n",
      "Epoch 3/3\n",
      "904/904 - 12s - loss: 0.3174 - mse: 0.3076 - val_loss: 1.4856 - val_mse: 1.4741\n",
      "MSE: 1.5765995\n",
      "optimizer:Adam | embedding_dim:32 | lr:0.0001 | dropout:0.5 | hidden_units:(128, 128) | epochs:3 | batch_size:64\n",
      "Epoch 1/3\n"
     ]
    },
    {
     "name": "stderr",
     "output_type": "stream",
     "text": [
      "C:\\Users\\Montr\\anaconda3\\lib\\site-packages\\tensorflow\\python\\framework\\indexed_slices.py:433: UserWarning: Converting sparse IndexedSlices to a dense Tensor of unknown shape. This may consume a large amount of memory.\n",
      "  \"Converting sparse IndexedSlices to a dense Tensor of unknown shape. \"\n"
     ]
    },
    {
     "name": "stdout",
     "output_type": "stream",
     "text": [
      "452/452 - 7s - loss: 2.1160 - mse: 2.1152 - val_loss: 1.3922 - val_mse: 1.3901\n",
      "Epoch 2/3\n",
      "452/452 - 6s - loss: 0.6860 - mse: 0.6823 - val_loss: 1.5084 - val_mse: 1.5032\n",
      "Epoch 3/3\n",
      "452/452 - 6s - loss: 0.3055 - mse: 0.2995 - val_loss: 1.6345 - val_mse: 1.6276\n",
      "MSE: 1.7433031\n",
      "optimizer:Adam | embedding_dim:32 | lr:0.0001 | dropout:0.5 | hidden_units:(128, 128) | epochs:5 | batch_size:32\n",
      "Epoch 1/5\n"
     ]
    },
    {
     "name": "stderr",
     "output_type": "stream",
     "text": [
      "C:\\Users\\Montr\\anaconda3\\lib\\site-packages\\tensorflow\\python\\framework\\indexed_slices.py:433: UserWarning: Converting sparse IndexedSlices to a dense Tensor of unknown shape. This may consume a large amount of memory.\n",
      "  \"Converting sparse IndexedSlices to a dense Tensor of unknown shape. \"\n"
     ]
    },
    {
     "name": "stdout",
     "output_type": "stream",
     "text": [
      "904/904 - 12s - loss: 1.8168 - mse: 1.8153 - val_loss: 1.3917 - val_mse: 1.3880\n",
      "Epoch 2/5\n",
      "904/904 - 12s - loss: 0.6555 - mse: 0.6495 - val_loss: 1.4944 - val_mse: 1.4861\n",
      "Epoch 3/5\n",
      "904/904 - 12s - loss: 0.3143 - mse: 0.3045 - val_loss: 1.5172 - val_mse: 1.5058\n",
      "Epoch 4/5\n",
      "904/904 - 12s - loss: 0.1737 - mse: 0.1616 - val_loss: 1.5338 - val_mse: 1.5209\n",
      "Epoch 5/5\n",
      "904/904 - 12s - loss: 0.1289 - mse: 0.1155 - val_loss: 1.5659 - val_mse: 1.5519\n",
      "MSE: 1.6468896\n",
      "optimizer:Adam | embedding_dim:32 | lr:0.0001 | dropout:0.5 | hidden_units:(128, 128) | epochs:5 | batch_size:64\n",
      "Epoch 1/5\n"
     ]
    },
    {
     "name": "stderr",
     "output_type": "stream",
     "text": [
      "C:\\Users\\Montr\\anaconda3\\lib\\site-packages\\tensorflow\\python\\framework\\indexed_slices.py:433: UserWarning: Converting sparse IndexedSlices to a dense Tensor of unknown shape. This may consume a large amount of memory.\n",
      "  \"Converting sparse IndexedSlices to a dense Tensor of unknown shape. \"\n"
     ]
    },
    {
     "name": "stdout",
     "output_type": "stream",
     "text": [
      "452/452 - 7s - loss: 2.1418 - mse: 2.1410 - val_loss: 1.3969 - val_mse: 1.3947\n",
      "Epoch 2/5\n",
      "452/452 - 6s - loss: 0.6646 - mse: 0.6609 - val_loss: 1.4877 - val_mse: 1.4825\n",
      "Epoch 3/5\n",
      "452/452 - 6s - loss: 0.3036 - mse: 0.2974 - val_loss: 1.5073 - val_mse: 1.5002\n",
      "Epoch 4/5\n",
      "452/452 - 6s - loss: 0.1711 - mse: 0.1635 - val_loss: 1.5581 - val_mse: 1.5499\n",
      "Epoch 5/5\n",
      "452/452 - 6s - loss: 0.1168 - mse: 0.1083 - val_loss: 1.6030 - val_mse: 1.5942\n",
      "MSE: 1.6704671\n",
      "optimizer:Adam | embedding_dim:32 | lr:0.0001 | dropout:0.5 | hidden_units:(128, 128) | epochs:3 | batch_size:32\n",
      "Epoch 1/3\n"
     ]
    },
    {
     "name": "stderr",
     "output_type": "stream",
     "text": [
      "C:\\Users\\Montr\\anaconda3\\lib\\site-packages\\tensorflow\\python\\framework\\indexed_slices.py:433: UserWarning: Converting sparse IndexedSlices to a dense Tensor of unknown shape. This may consume a large amount of memory.\n",
      "  \"Converting sparse IndexedSlices to a dense Tensor of unknown shape. \"\n"
     ]
    },
    {
     "name": "stdout",
     "output_type": "stream",
     "text": [
      "904/904 - 12s - loss: 1.8083 - mse: 1.8068 - val_loss: 1.3871 - val_mse: 1.3832\n",
      "Epoch 2/3\n",
      "904/904 - 12s - loss: 0.6406 - mse: 0.6346 - val_loss: 1.4810 - val_mse: 1.4728\n",
      "Epoch 3/3\n",
      "904/904 - 12s - loss: 0.3169 - mse: 0.3072 - val_loss: 1.5127 - val_mse: 1.5014\n",
      "MSE: 1.5808059\n",
      "optimizer:Adam | embedding_dim:32 | lr:0.0001 | dropout:0.5 | hidden_units:(128, 128) | epochs:3 | batch_size:64\n",
      "Epoch 1/3\n"
     ]
    },
    {
     "name": "stderr",
     "output_type": "stream",
     "text": [
      "C:\\Users\\Montr\\anaconda3\\lib\\site-packages\\tensorflow\\python\\framework\\indexed_slices.py:433: UserWarning: Converting sparse IndexedSlices to a dense Tensor of unknown shape. This may consume a large amount of memory.\n",
      "  \"Converting sparse IndexedSlices to a dense Tensor of unknown shape. \"\n"
     ]
    },
    {
     "name": "stdout",
     "output_type": "stream",
     "text": [
      "452/452 - 6s - loss: 2.1189 - mse: 2.1181 - val_loss: 1.4041 - val_mse: 1.4020\n",
      "Epoch 2/3\n",
      "452/452 - 6s - loss: 0.6648 - mse: 0.6611 - val_loss: 1.4980 - val_mse: 1.4927\n",
      "Epoch 3/3\n",
      "452/452 - 6s - loss: 0.3022 - mse: 0.2962 - val_loss: 1.4977 - val_mse: 1.4906\n",
      "MSE: 1.5581138\n",
      "optimizer:Adam | embedding_dim:32 | lr:0.0001 | dropout:0.5 | hidden_units:(128, 128) | epochs:5 | batch_size:32\n",
      "Epoch 1/5\n"
     ]
    },
    {
     "name": "stderr",
     "output_type": "stream",
     "text": [
      "C:\\Users\\Montr\\anaconda3\\lib\\site-packages\\tensorflow\\python\\framework\\indexed_slices.py:433: UserWarning: Converting sparse IndexedSlices to a dense Tensor of unknown shape. This may consume a large amount of memory.\n",
      "  \"Converting sparse IndexedSlices to a dense Tensor of unknown shape. \"\n"
     ]
    },
    {
     "name": "stdout",
     "output_type": "stream",
     "text": [
      "904/904 - 12s - loss: 1.7962 - mse: 1.7947 - val_loss: 1.4149 - val_mse: 1.4111\n",
      "Epoch 2/5\n",
      "904/904 - 11s - loss: 0.6395 - mse: 0.6335 - val_loss: 1.5089 - val_mse: 1.5006\n",
      "Epoch 3/5\n",
      "904/904 - 12s - loss: 0.3233 - mse: 0.3137 - val_loss: 1.6060 - val_mse: 1.5949\n",
      "Epoch 4/5\n",
      "904/904 - 11s - loss: 0.1726 - mse: 0.1607 - val_loss: 1.5525 - val_mse: 1.5396\n",
      "Epoch 5/5\n",
      "904/904 - 11s - loss: 0.1359 - mse: 0.1225 - val_loss: 1.6656 - val_mse: 1.6514\n",
      "MSE: 1.7492805\n",
      "optimizer:Adam | embedding_dim:32 | lr:0.0001 | dropout:0.5 | hidden_units:(128, 128) | epochs:5 | batch_size:64\n",
      "Epoch 1/5\n"
     ]
    },
    {
     "name": "stderr",
     "output_type": "stream",
     "text": [
      "C:\\Users\\Montr\\anaconda3\\lib\\site-packages\\tensorflow\\python\\framework\\indexed_slices.py:433: UserWarning: Converting sparse IndexedSlices to a dense Tensor of unknown shape. This may consume a large amount of memory.\n",
      "  \"Converting sparse IndexedSlices to a dense Tensor of unknown shape. \"\n"
     ]
    },
    {
     "name": "stdout",
     "output_type": "stream",
     "text": [
      "452/452 - 6s - loss: 2.1058 - mse: 2.1050 - val_loss: 1.4072 - val_mse: 1.4050\n",
      "Epoch 2/5\n",
      "452/452 - 6s - loss: 0.6815 - mse: 0.6779 - val_loss: 1.5310 - val_mse: 1.5256\n",
      "Epoch 3/5\n",
      "452/452 - 6s - loss: 0.3160 - mse: 0.3098 - val_loss: 1.5936 - val_mse: 1.5866\n",
      "Epoch 4/5\n",
      "452/452 - 6s - loss: 0.1684 - mse: 0.1610 - val_loss: 1.6491 - val_mse: 1.6412\n",
      "Epoch 5/5\n",
      "452/452 - 6s - loss: 0.1138 - mse: 0.1056 - val_loss: 1.6942 - val_mse: 1.6856\n",
      "MSE: 1.7791675\n",
      "optimizer:Adam | embedding_dim:32 | lr:0.0001 | dropout:0.5 | hidden_units:(128, 128) | epochs:3 | batch_size:32\n",
      "Epoch 1/3\n"
     ]
    },
    {
     "name": "stderr",
     "output_type": "stream",
     "text": [
      "C:\\Users\\Montr\\anaconda3\\lib\\site-packages\\tensorflow\\python\\framework\\indexed_slices.py:433: UserWarning: Converting sparse IndexedSlices to a dense Tensor of unknown shape. This may consume a large amount of memory.\n",
      "  \"Converting sparse IndexedSlices to a dense Tensor of unknown shape. \"\n"
     ]
    },
    {
     "name": "stdout",
     "output_type": "stream",
     "text": [
      "904/904 - 12s - loss: 1.8071 - mse: 1.8056 - val_loss: 1.4436 - val_mse: 1.4397\n",
      "Epoch 2/3\n",
      "904/904 - 11s - loss: 0.6574 - mse: 0.6513 - val_loss: 1.5706 - val_mse: 1.5619\n",
      "Epoch 3/3\n",
      "904/904 - 11s - loss: 0.3172 - mse: 0.3072 - val_loss: 1.5423 - val_mse: 1.5308\n",
      "MSE: 1.6379234\n",
      "optimizer:Adam | embedding_dim:32 | lr:0.0001 | dropout:0.5 | hidden_units:(128, 128) | epochs:3 | batch_size:64\n",
      "Epoch 1/3\n"
     ]
    },
    {
     "name": "stderr",
     "output_type": "stream",
     "text": [
      "C:\\Users\\Montr\\anaconda3\\lib\\site-packages\\tensorflow\\python\\framework\\indexed_slices.py:433: UserWarning: Converting sparse IndexedSlices to a dense Tensor of unknown shape. This may consume a large amount of memory.\n",
      "  \"Converting sparse IndexedSlices to a dense Tensor of unknown shape. \"\n"
     ]
    },
    {
     "name": "stdout",
     "output_type": "stream",
     "text": [
      "452/452 - 6s - loss: 2.1191 - mse: 2.1183 - val_loss: 1.3995 - val_mse: 1.3973\n",
      "Epoch 2/3\n",
      "452/452 - 6s - loss: 0.7050 - mse: 0.7013 - val_loss: 1.5632 - val_mse: 1.5577\n",
      "Epoch 3/3\n",
      "452/452 - 6s - loss: 0.3351 - mse: 0.3289 - val_loss: 1.5142 - val_mse: 1.5071\n",
      "MSE: 1.5917645\n",
      "optimizer:Adam | embedding_dim:32 | lr:0.0001 | dropout:0.5 | hidden_units:(128, 128) | epochs:5 | batch_size:32\n",
      "Epoch 1/5\n"
     ]
    },
    {
     "name": "stderr",
     "output_type": "stream",
     "text": [
      "C:\\Users\\Montr\\anaconda3\\lib\\site-packages\\tensorflow\\python\\framework\\indexed_slices.py:433: UserWarning: Converting sparse IndexedSlices to a dense Tensor of unknown shape. This may consume a large amount of memory.\n",
      "  \"Converting sparse IndexedSlices to a dense Tensor of unknown shape. \"\n"
     ]
    },
    {
     "name": "stdout",
     "output_type": "stream",
     "text": [
      "904/904 - 12s - loss: 1.8834 - mse: 1.8819 - val_loss: 1.4115 - val_mse: 1.4078\n",
      "Epoch 2/5\n",
      "904/904 - 11s - loss: 0.6151 - mse: 0.6094 - val_loss: 1.5205 - val_mse: 1.5129\n",
      "Epoch 3/5\n",
      "904/904 - 11s - loss: 0.3073 - mse: 0.2982 - val_loss: 1.5231 - val_mse: 1.5122\n",
      "Epoch 4/5\n",
      "904/904 - 11s - loss: 0.1852 - mse: 0.1734 - val_loss: 1.7419 - val_mse: 1.7289\n",
      "Epoch 5/5\n",
      "904/904 - 11s - loss: 0.1376 - mse: 0.1241 - val_loss: 1.5639 - val_mse: 1.5496\n",
      "MSE: 1.6249723\n",
      "optimizer:Adam | embedding_dim:32 | lr:0.0001 | dropout:0.5 | hidden_units:(128, 128) | epochs:5 | batch_size:64\n",
      "Epoch 1/5\n"
     ]
    },
    {
     "name": "stderr",
     "output_type": "stream",
     "text": [
      "C:\\Users\\Montr\\anaconda3\\lib\\site-packages\\tensorflow\\python\\framework\\indexed_slices.py:433: UserWarning: Converting sparse IndexedSlices to a dense Tensor of unknown shape. This may consume a large amount of memory.\n",
      "  \"Converting sparse IndexedSlices to a dense Tensor of unknown shape. \"\n"
     ]
    },
    {
     "name": "stdout",
     "output_type": "stream",
     "text": [
      "452/452 - 6s - loss: 2.1222 - mse: 2.1213 - val_loss: 1.3938 - val_mse: 1.3916\n",
      "Epoch 2/5\n",
      "452/452 - 6s - loss: 0.6678 - mse: 0.6642 - val_loss: 1.5492 - val_mse: 1.5439\n",
      "Epoch 3/5\n",
      "452/452 - 6s - loss: 0.3082 - mse: 0.3022 - val_loss: 1.5013 - val_mse: 1.4945\n",
      "Epoch 4/5\n",
      "452/452 - 6s - loss: 0.1701 - mse: 0.1629 - val_loss: 1.6893 - val_mse: 1.6814\n",
      "Epoch 5/5\n",
      "452/452 - 6s - loss: 0.1181 - mse: 0.1100 - val_loss: 1.6013 - val_mse: 1.5928\n",
      "MSE: 1.6714634\n",
      "optimizer:Adam | embedding_dim:32 | lr:0.0001 | dropout:0.5 | hidden_units:(128, 128) | epochs:3 | batch_size:32\n",
      "Epoch 1/3\n"
     ]
    },
    {
     "name": "stderr",
     "output_type": "stream",
     "text": [
      "C:\\Users\\Montr\\anaconda3\\lib\\site-packages\\tensorflow\\python\\framework\\indexed_slices.py:433: UserWarning: Converting sparse IndexedSlices to a dense Tensor of unknown shape. This may consume a large amount of memory.\n",
      "  \"Converting sparse IndexedSlices to a dense Tensor of unknown shape. \"\n"
     ]
    },
    {
     "name": "stdout",
     "output_type": "stream",
     "text": [
      "904/904 - 11s - loss: 1.8354 - mse: 1.8340 - val_loss: 1.4664 - val_mse: 1.4626\n",
      "Epoch 2/3\n",
      "904/904 - 11s - loss: 0.6424 - mse: 0.6364 - val_loss: 1.4845 - val_mse: 1.4762\n",
      "Epoch 3/3\n",
      "904/904 - 11s - loss: 0.3128 - mse: 0.3031 - val_loss: 1.5067 - val_mse: 1.4954\n",
      "MSE: 1.588665\n",
      "optimizer:Adam | embedding_dim:32 | lr:0.0001 | dropout:0.5 | hidden_units:(128, 128) | epochs:3 | batch_size:64\n",
      "Epoch 1/3\n"
     ]
    },
    {
     "name": "stderr",
     "output_type": "stream",
     "text": [
      "C:\\Users\\Montr\\anaconda3\\lib\\site-packages\\tensorflow\\python\\framework\\indexed_slices.py:433: UserWarning: Converting sparse IndexedSlices to a dense Tensor of unknown shape. This may consume a large amount of memory.\n",
      "  \"Converting sparse IndexedSlices to a dense Tensor of unknown shape. \"\n"
     ]
    },
    {
     "name": "stdout",
     "output_type": "stream",
     "text": [
      "452/452 - 6s - loss: 2.1711 - mse: 2.1703 - val_loss: 1.3925 - val_mse: 1.3903\n",
      "Epoch 2/3\n",
      "452/452 - 6s - loss: 0.6678 - mse: 0.6641 - val_loss: 1.4976 - val_mse: 1.4923\n",
      "Epoch 3/3\n",
      "452/452 - 6s - loss: 0.2865 - mse: 0.2802 - val_loss: 1.5369 - val_mse: 1.5297\n",
      "MSE: 1.5916537\n",
      "optimizer:Adam | embedding_dim:32 | lr:0.0001 | dropout:0.5 | hidden_units:(128, 128) | epochs:5 | batch_size:32\n",
      "Epoch 1/5\n"
     ]
    },
    {
     "name": "stderr",
     "output_type": "stream",
     "text": [
      "C:\\Users\\Montr\\anaconda3\\lib\\site-packages\\tensorflow\\python\\framework\\indexed_slices.py:433: UserWarning: Converting sparse IndexedSlices to a dense Tensor of unknown shape. This may consume a large amount of memory.\n",
      "  \"Converting sparse IndexedSlices to a dense Tensor of unknown shape. \"\n"
     ]
    },
    {
     "name": "stdout",
     "output_type": "stream",
     "text": [
      "904/904 - 12s - loss: 1.8035 - mse: 1.8020 - val_loss: 1.4039 - val_mse: 1.4001\n",
      "Epoch 2/5\n",
      "904/904 - 11s - loss: 0.6296 - mse: 0.6237 - val_loss: 1.5282 - val_mse: 1.5202\n",
      "Epoch 3/5\n",
      "904/904 - 11s - loss: 0.3267 - mse: 0.3173 - val_loss: 1.5483 - val_mse: 1.5372\n",
      "Epoch 4/5\n",
      "904/904 - 11s - loss: 0.1877 - mse: 0.1758 - val_loss: 1.5769 - val_mse: 1.5639\n",
      "Epoch 5/5\n",
      "904/904 - 11s - loss: 0.1387 - mse: 0.1252 - val_loss: 1.5617 - val_mse: 1.5474\n",
      "MSE: 1.6404693\n",
      "optimizer:Adam | embedding_dim:32 | lr:0.0001 | dropout:0.5 | hidden_units:(128, 128) | epochs:5 | batch_size:64\n",
      "Epoch 1/5\n"
     ]
    },
    {
     "name": "stderr",
     "output_type": "stream",
     "text": [
      "C:\\Users\\Montr\\anaconda3\\lib\\site-packages\\tensorflow\\python\\framework\\indexed_slices.py:433: UserWarning: Converting sparse IndexedSlices to a dense Tensor of unknown shape. This may consume a large amount of memory.\n",
      "  \"Converting sparse IndexedSlices to a dense Tensor of unknown shape. \"\n"
     ]
    },
    {
     "name": "stdout",
     "output_type": "stream",
     "text": [
      "452/452 - 6s - loss: 2.1224 - mse: 2.1216 - val_loss: 1.4079 - val_mse: 1.4057\n",
      "Epoch 2/5\n",
      "452/452 - 6s - loss: 0.6633 - mse: 0.6598 - val_loss: 1.5316 - val_mse: 1.5265\n",
      "Epoch 3/5\n",
      "452/452 - 6s - loss: 0.3072 - mse: 0.3013 - val_loss: 1.5425 - val_mse: 1.5357\n",
      "Epoch 4/5\n",
      "452/452 - 6s - loss: 0.1671 - mse: 0.1598 - val_loss: 1.6865 - val_mse: 1.6786\n",
      "Epoch 5/5\n",
      "452/452 - 6s - loss: 0.1151 - mse: 0.1069 - val_loss: 1.6235 - val_mse: 1.6150\n",
      "MSE: 1.6992472\n",
      "optimizer:Adam | embedding_dim:32 | lr:0.0001 | dropout:0.5 | hidden_units:(128, 128) | epochs:3 | batch_size:32\n",
      "Epoch 1/3\n"
     ]
    },
    {
     "name": "stderr",
     "output_type": "stream",
     "text": [
      "C:\\Users\\Montr\\anaconda3\\lib\\site-packages\\tensorflow\\python\\framework\\indexed_slices.py:433: UserWarning: Converting sparse IndexedSlices to a dense Tensor of unknown shape. This may consume a large amount of memory.\n",
      "  \"Converting sparse IndexedSlices to a dense Tensor of unknown shape. \"\n"
     ]
    },
    {
     "name": "stdout",
     "output_type": "stream",
     "text": [
      "904/904 - 11s - loss: 1.8026 - mse: 1.8011 - val_loss: 1.4269 - val_mse: 1.4230\n",
      "Epoch 2/3\n",
      "904/904 - 11s - loss: 0.6490 - mse: 0.6429 - val_loss: 1.5468 - val_mse: 1.5382\n",
      "Epoch 3/3\n",
      "904/904 - 11s - loss: 0.3184 - mse: 0.3086 - val_loss: 1.5094 - val_mse: 1.4981\n",
      "MSE: 1.5708435\n",
      "optimizer:Adam | embedding_dim:32 | lr:0.0001 | dropout:0.5 | hidden_units:(128, 128) | epochs:3 | batch_size:64\n",
      "Epoch 1/3\n"
     ]
    },
    {
     "name": "stderr",
     "output_type": "stream",
     "text": [
      "C:\\Users\\Montr\\anaconda3\\lib\\site-packages\\tensorflow\\python\\framework\\indexed_slices.py:433: UserWarning: Converting sparse IndexedSlices to a dense Tensor of unknown shape. This may consume a large amount of memory.\n",
      "  \"Converting sparse IndexedSlices to a dense Tensor of unknown shape. \"\n"
     ]
    },
    {
     "name": "stdout",
     "output_type": "stream",
     "text": [
      "452/452 - 6s - loss: 2.1144 - mse: 2.1136 - val_loss: 1.3927 - val_mse: 1.3905\n",
      "Epoch 2/3\n",
      "452/452 - 6s - loss: 0.6816 - mse: 0.6780 - val_loss: 1.5178 - val_mse: 1.5124\n",
      "Epoch 3/3\n",
      "452/452 - 6s - loss: 0.3056 - mse: 0.2995 - val_loss: 1.5072 - val_mse: 1.5001\n",
      "MSE: 1.6096967\n",
      "optimizer:Adam | embedding_dim:32 | lr:0.0001 | dropout:0.5 | hidden_units:(128, 128) | epochs:5 | batch_size:32\n",
      "Epoch 1/5\n"
     ]
    },
    {
     "name": "stderr",
     "output_type": "stream",
     "text": [
      "C:\\Users\\Montr\\anaconda3\\lib\\site-packages\\tensorflow\\python\\framework\\indexed_slices.py:433: UserWarning: Converting sparse IndexedSlices to a dense Tensor of unknown shape. This may consume a large amount of memory.\n",
      "  \"Converting sparse IndexedSlices to a dense Tensor of unknown shape. \"\n"
     ]
    },
    {
     "name": "stdout",
     "output_type": "stream",
     "text": [
      "904/904 - 12s - loss: 1.8004 - mse: 1.7990 - val_loss: 1.6424 - val_mse: 1.6386\n",
      "Epoch 2/5\n",
      "904/904 - 11s - loss: 0.6450 - mse: 0.6390 - val_loss: 1.4534 - val_mse: 1.4450\n",
      "Epoch 3/5\n",
      "904/904 - 11s - loss: 0.3206 - mse: 0.3109 - val_loss: 1.5507 - val_mse: 1.5394\n",
      "Epoch 4/5\n",
      "904/904 - 11s - loss: 0.1814 - mse: 0.1693 - val_loss: 1.5977 - val_mse: 1.5847\n",
      "Epoch 5/5\n",
      "904/904 - 11s - loss: 0.1390 - mse: 0.1255 - val_loss: 1.5940 - val_mse: 1.5798\n",
      "MSE: 1.6738986\n",
      "optimizer:Adam | embedding_dim:32 | lr:0.0001 | dropout:0.5 | hidden_units:(128, 128) | epochs:5 | batch_size:64\n",
      "Epoch 1/5\n"
     ]
    },
    {
     "name": "stderr",
     "output_type": "stream",
     "text": [
      "C:\\Users\\Montr\\anaconda3\\lib\\site-packages\\tensorflow\\python\\framework\\indexed_slices.py:433: UserWarning: Converting sparse IndexedSlices to a dense Tensor of unknown shape. This may consume a large amount of memory.\n",
      "  \"Converting sparse IndexedSlices to a dense Tensor of unknown shape. \"\n"
     ]
    },
    {
     "name": "stdout",
     "output_type": "stream",
     "text": [
      "452/452 - 6s - loss: 2.1111 - mse: 2.1103 - val_loss: 1.3950 - val_mse: 1.3928\n",
      "Epoch 2/5\n",
      "452/452 - 6s - loss: 0.6697 - mse: 0.6660 - val_loss: 1.5000 - val_mse: 1.4946\n",
      "Epoch 3/5\n",
      "452/452 - 6s - loss: 0.2927 - mse: 0.2864 - val_loss: 1.5848 - val_mse: 1.5775\n",
      "Epoch 4/5\n",
      "452/452 - 6s - loss: 0.1623 - mse: 0.1545 - val_loss: 1.5779 - val_mse: 1.5695\n",
      "Epoch 5/5\n",
      "452/452 - 6s - loss: 0.1148 - mse: 0.1061 - val_loss: 1.6394 - val_mse: 1.6304\n",
      "MSE: 1.712309\n",
      "optimizer:Adam | embedding_dim:32 | lr:0.0001 | dropout:0.5 | hidden_units:(128, 128) | epochs:3 | batch_size:32\n",
      "Epoch 1/3\n"
     ]
    },
    {
     "name": "stderr",
     "output_type": "stream",
     "text": [
      "C:\\Users\\Montr\\anaconda3\\lib\\site-packages\\tensorflow\\python\\framework\\indexed_slices.py:433: UserWarning: Converting sparse IndexedSlices to a dense Tensor of unknown shape. This may consume a large amount of memory.\n",
      "  \"Converting sparse IndexedSlices to a dense Tensor of unknown shape. \"\n"
     ]
    },
    {
     "name": "stdout",
     "output_type": "stream",
     "text": [
      "904/904 - 12s - loss: 1.8532 - mse: 1.8517 - val_loss: 1.3991 - val_mse: 1.3953\n",
      "Epoch 2/3\n",
      "904/904 - 11s - loss: 0.6320 - mse: 0.6260 - val_loss: 1.4662 - val_mse: 1.4579\n",
      "Epoch 3/3\n",
      "904/904 - 11s - loss: 0.3155 - mse: 0.3057 - val_loss: 1.5227 - val_mse: 1.5111\n",
      "MSE: 1.599845\n",
      "optimizer:Adam | embedding_dim:32 | lr:0.0001 | dropout:0.5 | hidden_units:(128, 128) | epochs:3 | batch_size:64\n",
      "Epoch 1/3\n"
     ]
    },
    {
     "name": "stderr",
     "output_type": "stream",
     "text": [
      "C:\\Users\\Montr\\anaconda3\\lib\\site-packages\\tensorflow\\python\\framework\\indexed_slices.py:433: UserWarning: Converting sparse IndexedSlices to a dense Tensor of unknown shape. This may consume a large amount of memory.\n",
      "  \"Converting sparse IndexedSlices to a dense Tensor of unknown shape. \"\n"
     ]
    },
    {
     "name": "stdout",
     "output_type": "stream",
     "text": [
      "452/452 - 6s - loss: 2.1007 - mse: 2.0999 - val_loss: 1.3940 - val_mse: 1.3918\n",
      "Epoch 2/3\n",
      "452/452 - 6s - loss: 0.6668 - mse: 0.6632 - val_loss: 1.4786 - val_mse: 1.4733\n",
      "Epoch 3/3\n",
      "452/452 - 6s - loss: 0.2997 - mse: 0.2937 - val_loss: 1.4890 - val_mse: 1.4822\n",
      "MSE: 1.5582244\n",
      "optimizer:Adam | embedding_dim:32 | lr:0.0001 | dropout:0.5 | hidden_units:(128, 128) | epochs:5 | batch_size:32\n",
      "Epoch 1/5\n"
     ]
    },
    {
     "name": "stderr",
     "output_type": "stream",
     "text": [
      "C:\\Users\\Montr\\anaconda3\\lib\\site-packages\\tensorflow\\python\\framework\\indexed_slices.py:433: UserWarning: Converting sparse IndexedSlices to a dense Tensor of unknown shape. This may consume a large amount of memory.\n",
      "  \"Converting sparse IndexedSlices to a dense Tensor of unknown shape. \"\n"
     ]
    },
    {
     "name": "stdout",
     "output_type": "stream",
     "text": [
      "904/904 - 12s - loss: 1.8018 - mse: 1.8003 - val_loss: 1.4213 - val_mse: 1.4175\n",
      "Epoch 2/5\n",
      "904/904 - 12s - loss: 0.6651 - mse: 0.6590 - val_loss: 1.5458 - val_mse: 1.5371\n",
      "Epoch 3/5\n",
      "904/904 - 11s - loss: 0.3142 - mse: 0.3042 - val_loss: 1.5527 - val_mse: 1.5412\n",
      "Epoch 4/5\n",
      "904/904 - 11s - loss: 0.1794 - mse: 0.1672 - val_loss: 1.5679 - val_mse: 1.5548\n",
      "Epoch 5/5\n",
      "904/904 - 11s - loss: 0.1354 - mse: 0.1217 - val_loss: 1.5599 - val_mse: 1.5453\n",
      "MSE: 1.643458\n",
      "optimizer:Adam | embedding_dim:32 | lr:0.0001 | dropout:0.5 | hidden_units:(128, 128) | epochs:5 | batch_size:64\n",
      "Epoch 1/5\n"
     ]
    },
    {
     "name": "stderr",
     "output_type": "stream",
     "text": [
      "C:\\Users\\Montr\\anaconda3\\lib\\site-packages\\tensorflow\\python\\framework\\indexed_slices.py:433: UserWarning: Converting sparse IndexedSlices to a dense Tensor of unknown shape. This may consume a large amount of memory.\n",
      "  \"Converting sparse IndexedSlices to a dense Tensor of unknown shape. \"\n"
     ]
    },
    {
     "name": "stdout",
     "output_type": "stream",
     "text": [
      "452/452 - 6s - loss: 2.1868 - mse: 2.1860 - val_loss: 1.4042 - val_mse: 1.4020\n",
      "Epoch 2/5\n",
      "452/452 - 6s - loss: 0.6703 - mse: 0.6665 - val_loss: 1.4904 - val_mse: 1.4849\n",
      "Epoch 3/5\n",
      "452/452 - 6s - loss: 0.3066 - mse: 0.3002 - val_loss: 1.5515 - val_mse: 1.5442\n",
      "Epoch 4/5\n",
      "452/452 - 6s - loss: 0.1606 - mse: 0.1528 - val_loss: 1.6245 - val_mse: 1.6162\n",
      "Epoch 5/5\n",
      "452/452 - 6s - loss: 0.1163 - mse: 0.1076 - val_loss: 1.6069 - val_mse: 1.5979\n",
      "MSE: 1.6781049\n",
      "optimizer:Adam | embedding_dim:32 | lr:0.0001 | dropout:0.5 | hidden_units:(128, 128) | epochs:3 | batch_size:32\n",
      "Epoch 1/3\n"
     ]
    },
    {
     "name": "stderr",
     "output_type": "stream",
     "text": [
      "C:\\Users\\Montr\\anaconda3\\lib\\site-packages\\tensorflow\\python\\framework\\indexed_slices.py:433: UserWarning: Converting sparse IndexedSlices to a dense Tensor of unknown shape. This may consume a large amount of memory.\n",
      "  \"Converting sparse IndexedSlices to a dense Tensor of unknown shape. \"\n"
     ]
    },
    {
     "name": "stdout",
     "output_type": "stream",
     "text": [
      "904/904 - 12s - loss: 1.8342 - mse: 1.8327 - val_loss: 1.4135 - val_mse: 1.4097\n",
      "Epoch 2/3\n",
      "904/904 - 11s - loss: 0.6398 - mse: 0.6337 - val_loss: 1.5230 - val_mse: 1.5144\n",
      "Epoch 3/3\n",
      "904/904 - 11s - loss: 0.3153 - mse: 0.3054 - val_loss: 1.5352 - val_mse: 1.5237\n",
      "MSE: 1.6214302\n",
      "optimizer:Adam | embedding_dim:32 | lr:0.0001 | dropout:0.5 | hidden_units:(128, 128) | epochs:3 | batch_size:64\n",
      "Epoch 1/3\n"
     ]
    },
    {
     "name": "stderr",
     "output_type": "stream",
     "text": [
      "C:\\Users\\Montr\\anaconda3\\lib\\site-packages\\tensorflow\\python\\framework\\indexed_slices.py:433: UserWarning: Converting sparse IndexedSlices to a dense Tensor of unknown shape. This may consume a large amount of memory.\n",
      "  \"Converting sparse IndexedSlices to a dense Tensor of unknown shape. \"\n"
     ]
    },
    {
     "name": "stdout",
     "output_type": "stream",
     "text": [
      "452/452 - 6s - loss: 2.1231 - mse: 2.1222 - val_loss: 1.4157 - val_mse: 1.4135\n",
      "Epoch 2/3\n",
      "452/452 - 6s - loss: 0.6697 - mse: 0.6660 - val_loss: 1.5277 - val_mse: 1.5225\n",
      "Epoch 3/3\n",
      "452/452 - 6s - loss: 0.2988 - mse: 0.2927 - val_loss: 1.5609 - val_mse: 1.5538\n",
      "MSE: 1.6318353\n",
      "optimizer:Adam | embedding_dim:32 | lr:0.0001 | dropout:0.5 | hidden_units:(128, 128) | epochs:5 | batch_size:32\n",
      "Epoch 1/5\n"
     ]
    },
    {
     "name": "stderr",
     "output_type": "stream",
     "text": [
      "C:\\Users\\Montr\\anaconda3\\lib\\site-packages\\tensorflow\\python\\framework\\indexed_slices.py:433: UserWarning: Converting sparse IndexedSlices to a dense Tensor of unknown shape. This may consume a large amount of memory.\n",
      "  \"Converting sparse IndexedSlices to a dense Tensor of unknown shape. \"\n"
     ]
    },
    {
     "name": "stdout",
     "output_type": "stream",
     "text": [
      "904/904 - 12s - loss: 1.8220 - mse: 1.8206 - val_loss: 1.3949 - val_mse: 1.3911\n",
      "Epoch 2/5\n",
      "904/904 - 11s - loss: 0.6466 - mse: 0.6409 - val_loss: 1.5108 - val_mse: 1.5029\n",
      "Epoch 3/5\n",
      "904/904 - 11s - loss: 0.3246 - mse: 0.3153 - val_loss: 1.5120 - val_mse: 1.5012\n",
      "Epoch 4/5\n",
      "904/904 - 12s - loss: 0.1810 - mse: 0.1695 - val_loss: 1.6564 - val_mse: 1.6441\n",
      "Epoch 5/5\n",
      "904/904 - 11s - loss: 0.1263 - mse: 0.1135 - val_loss: 1.5382 - val_mse: 1.5247\n",
      "MSE: 1.6053797\n",
      "optimizer:Adam | embedding_dim:32 | lr:0.0001 | dropout:0.5 | hidden_units:(128, 128) | epochs:5 | batch_size:64\n",
      "Epoch 1/5\n"
     ]
    },
    {
     "name": "stderr",
     "output_type": "stream",
     "text": [
      "C:\\Users\\Montr\\anaconda3\\lib\\site-packages\\tensorflow\\python\\framework\\indexed_slices.py:433: UserWarning: Converting sparse IndexedSlices to a dense Tensor of unknown shape. This may consume a large amount of memory.\n",
      "  \"Converting sparse IndexedSlices to a dense Tensor of unknown shape. \"\n"
     ]
    },
    {
     "name": "stdout",
     "output_type": "stream",
     "text": [
      "452/452 - 6s - loss: 2.1282 - mse: 2.1274 - val_loss: 1.3875 - val_mse: 1.3854\n",
      "Epoch 2/5\n",
      "452/452 - 6s - loss: 0.6744 - mse: 0.6708 - val_loss: 1.4975 - val_mse: 1.4922\n",
      "Epoch 3/5\n",
      "452/452 - 6s - loss: 0.3145 - mse: 0.3084 - val_loss: 1.4877 - val_mse: 1.4807\n",
      "Epoch 4/5\n",
      "452/452 - 6s - loss: 0.1573 - mse: 0.1498 - val_loss: 1.6632 - val_mse: 1.6552\n",
      "Epoch 5/5\n",
      "452/452 - 6s - loss: 0.1160 - mse: 0.1077 - val_loss: 1.5900 - val_mse: 1.5813\n",
      "MSE: 1.6699136\n",
      "optimizer:Adam | embedding_dim:32 | lr:0.0001 | dropout:0.5 | hidden_units:(128, 128) | epochs:3 | batch_size:32\n",
      "Epoch 1/3\n"
     ]
    },
    {
     "name": "stderr",
     "output_type": "stream",
     "text": [
      "C:\\Users\\Montr\\anaconda3\\lib\\site-packages\\tensorflow\\python\\framework\\indexed_slices.py:433: UserWarning: Converting sparse IndexedSlices to a dense Tensor of unknown shape. This may consume a large amount of memory.\n",
      "  \"Converting sparse IndexedSlices to a dense Tensor of unknown shape. \"\n"
     ]
    },
    {
     "name": "stdout",
     "output_type": "stream",
     "text": [
      "904/904 - 11s - loss: 1.8291 - mse: 1.8276 - val_loss: 1.4148 - val_mse: 1.4110\n",
      "Epoch 2/3\n",
      "904/904 - 11s - loss: 0.6474 - mse: 0.6414 - val_loss: 1.4809 - val_mse: 1.4724\n",
      "Epoch 3/3\n",
      "904/904 - 11s - loss: 0.3174 - mse: 0.3075 - val_loss: 1.5152 - val_mse: 1.5037\n",
      "MSE: 1.5599955\n",
      "optimizer:Adam | embedding_dim:32 | lr:0.0001 | dropout:0.5 | hidden_units:(128, 128) | epochs:3 | batch_size:64\n",
      "Epoch 1/3\n"
     ]
    },
    {
     "name": "stderr",
     "output_type": "stream",
     "text": [
      "C:\\Users\\Montr\\anaconda3\\lib\\site-packages\\tensorflow\\python\\framework\\indexed_slices.py:433: UserWarning: Converting sparse IndexedSlices to a dense Tensor of unknown shape. This may consume a large amount of memory.\n",
      "  \"Converting sparse IndexedSlices to a dense Tensor of unknown shape. \"\n"
     ]
    },
    {
     "name": "stdout",
     "output_type": "stream",
     "text": [
      "452/452 - 6s - loss: 2.1244 - mse: 2.1236 - val_loss: 1.4634 - val_mse: 1.4613\n",
      "Epoch 2/3\n",
      "452/452 - 6s - loss: 0.7045 - mse: 0.7009 - val_loss: 1.5252 - val_mse: 1.5199\n",
      "Epoch 3/3\n",
      "452/452 - 6s - loss: 0.3062 - mse: 0.2999 - val_loss: 1.5082 - val_mse: 1.5010\n",
      "MSE: 1.6058224\n",
      "optimizer:Adam | embedding_dim:32 | lr:0.0001 | dropout:0.5 | hidden_units:(128, 128) | epochs:5 | batch_size:32\n",
      "Epoch 1/5\n"
     ]
    },
    {
     "name": "stderr",
     "output_type": "stream",
     "text": [
      "C:\\Users\\Montr\\anaconda3\\lib\\site-packages\\tensorflow\\python\\framework\\indexed_slices.py:433: UserWarning: Converting sparse IndexedSlices to a dense Tensor of unknown shape. This may consume a large amount of memory.\n",
      "  \"Converting sparse IndexedSlices to a dense Tensor of unknown shape. \"\n"
     ]
    },
    {
     "name": "stdout",
     "output_type": "stream",
     "text": [
      "904/904 - 12s - loss: 1.8131 - mse: 1.8116 - val_loss: 1.4013 - val_mse: 1.3975\n",
      "Epoch 2/5\n",
      "904/904 - 12s - loss: 0.6259 - mse: 0.6200 - val_loss: 1.5045 - val_mse: 1.4965\n",
      "Epoch 3/5\n",
      "904/904 - 12s - loss: 0.3157 - mse: 0.3062 - val_loss: 1.5218 - val_mse: 1.5104\n",
      "Epoch 4/5\n",
      "904/904 - 12s - loss: 0.1817 - mse: 0.1695 - val_loss: 1.6052 - val_mse: 1.5920\n",
      "Epoch 5/5\n",
      "904/904 - 12s - loss: 0.1447 - mse: 0.1309 - val_loss: 1.6205 - val_mse: 1.6060\n",
      "MSE: 1.6947088\n",
      "optimizer:Adam | embedding_dim:32 | lr:0.0001 | dropout:0.5 | hidden_units:(128, 128) | epochs:5 | batch_size:64\n",
      "Epoch 1/5\n"
     ]
    },
    {
     "name": "stderr",
     "output_type": "stream",
     "text": [
      "C:\\Users\\Montr\\anaconda3\\lib\\site-packages\\tensorflow\\python\\framework\\indexed_slices.py:433: UserWarning: Converting sparse IndexedSlices to a dense Tensor of unknown shape. This may consume a large amount of memory.\n",
      "  \"Converting sparse IndexedSlices to a dense Tensor of unknown shape. \"\n"
     ]
    },
    {
     "name": "stdout",
     "output_type": "stream",
     "text": [
      "452/452 - 6s - loss: 2.1141 - mse: 2.1132 - val_loss: 1.4167 - val_mse: 1.4145\n",
      "Epoch 2/5\n",
      "452/452 - 6s - loss: 0.6691 - mse: 0.6654 - val_loss: 1.5570 - val_mse: 1.5517\n",
      "Epoch 3/5\n",
      "452/452 - 6s - loss: 0.3057 - mse: 0.2994 - val_loss: 1.5496 - val_mse: 1.5423\n",
      "Epoch 4/5\n",
      "452/452 - 6s - loss: 0.1657 - mse: 0.1579 - val_loss: 1.5996 - val_mse: 1.5912\n",
      "Epoch 5/5\n",
      "452/452 - 6s - loss: 0.1154 - mse: 0.1068 - val_loss: 1.5825 - val_mse: 1.5736\n",
      "MSE: 1.63737\n",
      "optimizer:Adam | embedding_dim:32 | lr:0.0001 | dropout:0.5 | hidden_units:(128, 128) | epochs:3 | batch_size:32\n",
      "Epoch 1/3\n"
     ]
    },
    {
     "name": "stderr",
     "output_type": "stream",
     "text": [
      "C:\\Users\\Montr\\anaconda3\\lib\\site-packages\\tensorflow\\python\\framework\\indexed_slices.py:433: UserWarning: Converting sparse IndexedSlices to a dense Tensor of unknown shape. This may consume a large amount of memory.\n",
      "  \"Converting sparse IndexedSlices to a dense Tensor of unknown shape. \"\n"
     ]
    },
    {
     "name": "stdout",
     "output_type": "stream",
     "text": [
      "904/904 - 12s - loss: 1.8257 - mse: 1.8242 - val_loss: 1.4500 - val_mse: 1.4463\n",
      "Epoch 2/3\n",
      "904/904 - 12s - loss: 0.6267 - mse: 0.6206 - val_loss: 1.5231 - val_mse: 1.5147\n",
      "Epoch 3/3\n",
      "904/904 - 11s - loss: 0.3266 - mse: 0.3168 - val_loss: 1.5491 - val_mse: 1.5377\n",
      "MSE: 1.6205446\n",
      "optimizer:Adam | embedding_dim:32 | lr:0.0001 | dropout:0.5 | hidden_units:(128, 128) | epochs:3 | batch_size:64\n",
      "Epoch 1/3\n"
     ]
    },
    {
     "name": "stderr",
     "output_type": "stream",
     "text": [
      "C:\\Users\\Montr\\anaconda3\\lib\\site-packages\\tensorflow\\python\\framework\\indexed_slices.py:433: UserWarning: Converting sparse IndexedSlices to a dense Tensor of unknown shape. This may consume a large amount of memory.\n",
      "  \"Converting sparse IndexedSlices to a dense Tensor of unknown shape. \"\n"
     ]
    },
    {
     "name": "stdout",
     "output_type": "stream",
     "text": [
      "452/452 - 6s - loss: 2.1216 - mse: 2.1208 - val_loss: 1.3886 - val_mse: 1.3864\n",
      "Epoch 2/3\n",
      "452/452 - 6s - loss: 0.6792 - mse: 0.6756 - val_loss: 1.5690 - val_mse: 1.5636\n",
      "Epoch 3/3\n",
      "452/452 - 6s - loss: 0.2914 - mse: 0.2852 - val_loss: 1.5307 - val_mse: 1.5236\n",
      "MSE: 1.591211\n",
      "optimizer:Adam | embedding_dim:32 | lr:0.0001 | dropout:0.5 | hidden_units:(128, 128) | epochs:5 | batch_size:32\n",
      "Epoch 1/5\n"
     ]
    },
    {
     "name": "stderr",
     "output_type": "stream",
     "text": [
      "C:\\Users\\Montr\\anaconda3\\lib\\site-packages\\tensorflow\\python\\framework\\indexed_slices.py:433: UserWarning: Converting sparse IndexedSlices to a dense Tensor of unknown shape. This may consume a large amount of memory.\n",
      "  \"Converting sparse IndexedSlices to a dense Tensor of unknown shape. \"\n"
     ]
    },
    {
     "name": "stdout",
     "output_type": "stream",
     "text": [
      "904/904 - 12s - loss: 1.8088 - mse: 1.8073 - val_loss: 1.4062 - val_mse: 1.4024\n",
      "Epoch 2/5\n",
      "904/904 - 12s - loss: 0.6466 - mse: 0.6407 - val_loss: 1.5153 - val_mse: 1.5071\n",
      "Epoch 3/5\n",
      "904/904 - 12s - loss: 0.3196 - mse: 0.3101 - val_loss: 1.5351 - val_mse: 1.5240\n",
      "Epoch 4/5\n",
      "904/904 - 12s - loss: 0.1807 - mse: 0.1688 - val_loss: 1.5996 - val_mse: 1.5870\n",
      "Epoch 5/5\n",
      "904/904 - 12s - loss: 0.1309 - mse: 0.1177 - val_loss: 1.6320 - val_mse: 1.6181\n",
      "MSE: 1.7254815\n",
      "optimizer:Adam | embedding_dim:32 | lr:0.0001 | dropout:0.5 | hidden_units:(128, 128) | epochs:5 | batch_size:64\n",
      "Epoch 1/5\n"
     ]
    },
    {
     "name": "stderr",
     "output_type": "stream",
     "text": [
      "C:\\Users\\Montr\\anaconda3\\lib\\site-packages\\tensorflow\\python\\framework\\indexed_slices.py:433: UserWarning: Converting sparse IndexedSlices to a dense Tensor of unknown shape. This may consume a large amount of memory.\n",
      "  \"Converting sparse IndexedSlices to a dense Tensor of unknown shape. \"\n"
     ]
    },
    {
     "name": "stdout",
     "output_type": "stream",
     "text": [
      "452/452 - 7s - loss: 2.1254 - mse: 2.1246 - val_loss: 1.3922 - val_mse: 1.3900\n",
      "Epoch 2/5\n",
      "452/452 - 6s - loss: 0.6819 - mse: 0.6782 - val_loss: 1.5387 - val_mse: 1.5332\n",
      "Epoch 3/5\n",
      "452/452 - 6s - loss: 0.3134 - mse: 0.3071 - val_loss: 1.5080 - val_mse: 1.5007\n",
      "Epoch 4/5\n",
      "452/452 - 6s - loss: 0.1540 - mse: 0.1463 - val_loss: 1.6181 - val_mse: 1.6099\n",
      "Epoch 5/5\n",
      "452/452 - 6s - loss: 0.1137 - mse: 0.1052 - val_loss: 1.6188 - val_mse: 1.6099\n",
      "MSE: 1.709431\n",
      "optimizer:Adam | embedding_dim:32 | lr:0.0001 | dropout:0.5 | hidden_units:(128, 128) | epochs:3 | batch_size:32\n",
      "Epoch 1/3\n"
     ]
    },
    {
     "name": "stderr",
     "output_type": "stream",
     "text": [
      "C:\\Users\\Montr\\anaconda3\\lib\\site-packages\\tensorflow\\python\\framework\\indexed_slices.py:433: UserWarning: Converting sparse IndexedSlices to a dense Tensor of unknown shape. This may consume a large amount of memory.\n",
      "  \"Converting sparse IndexedSlices to a dense Tensor of unknown shape. \"\n"
     ]
    },
    {
     "name": "stdout",
     "output_type": "stream",
     "text": [
      "904/904 - 12s - loss: 1.7999 - mse: 1.7984 - val_loss: 1.4064 - val_mse: 1.4025\n",
      "Epoch 2/3\n",
      "904/904 - 11s - loss: 0.6321 - mse: 0.6262 - val_loss: 1.4946 - val_mse: 1.4866\n",
      "Epoch 3/3\n",
      "904/904 - 11s - loss: 0.3206 - mse: 0.3111 - val_loss: 1.5061 - val_mse: 1.4949\n",
      "MSE: 1.5801417\n",
      "optimizer:Adam | embedding_dim:32 | lr:0.0001 | dropout:0.5 | hidden_units:(128, 128) | epochs:3 | batch_size:64\n",
      "Epoch 1/3\n"
     ]
    },
    {
     "name": "stderr",
     "output_type": "stream",
     "text": [
      "C:\\Users\\Montr\\anaconda3\\lib\\site-packages\\tensorflow\\python\\framework\\indexed_slices.py:433: UserWarning: Converting sparse IndexedSlices to a dense Tensor of unknown shape. This may consume a large amount of memory.\n",
      "  \"Converting sparse IndexedSlices to a dense Tensor of unknown shape. \"\n"
     ]
    },
    {
     "name": "stdout",
     "output_type": "stream",
     "text": [
      "452/452 - 6s - loss: 2.0802 - mse: 2.0794 - val_loss: 1.4198 - val_mse: 1.4177\n",
      "Epoch 2/3\n",
      "452/452 - 6s - loss: 0.6759 - mse: 0.6723 - val_loss: 1.4924 - val_mse: 1.4870\n",
      "Epoch 3/3\n",
      "452/452 - 6s - loss: 0.3095 - mse: 0.3032 - val_loss: 1.5129 - val_mse: 1.5056\n",
      "MSE: 1.5917645\n",
      "optimizer:Adam | embedding_dim:32 | lr:0.0001 | dropout:0.5 | hidden_units:(128, 128) | epochs:5 | batch_size:32\n",
      "Epoch 1/5\n"
     ]
    },
    {
     "name": "stderr",
     "output_type": "stream",
     "text": [
      "C:\\Users\\Montr\\anaconda3\\lib\\site-packages\\tensorflow\\python\\framework\\indexed_slices.py:433: UserWarning: Converting sparse IndexedSlices to a dense Tensor of unknown shape. This may consume a large amount of memory.\n",
      "  \"Converting sparse IndexedSlices to a dense Tensor of unknown shape. \"\n"
     ]
    },
    {
     "name": "stdout",
     "output_type": "stream",
     "text": [
      "904/904 - 12s - loss: 1.8390 - mse: 1.8375 - val_loss: 1.4006 - val_mse: 1.3967\n",
      "Epoch 2/5\n",
      "904/904 - 12s - loss: 0.6338 - mse: 0.6278 - val_loss: 1.4903 - val_mse: 1.4822\n",
      "Epoch 3/5\n",
      "904/904 - 12s - loss: 0.3102 - mse: 0.3007 - val_loss: 1.5258 - val_mse: 1.5149\n",
      "Epoch 4/5\n",
      "904/904 - 12s - loss: 0.1805 - mse: 0.1687 - val_loss: 1.5660 - val_mse: 1.5532\n",
      "Epoch 5/5\n",
      "904/904 - 12s - loss: 0.1309 - mse: 0.1176 - val_loss: 1.6611 - val_mse: 1.6471\n",
      "MSE: 1.7262564\n",
      "optimizer:Adam | embedding_dim:32 | lr:0.0001 | dropout:0.5 | hidden_units:(128, 128) | epochs:5 | batch_size:64\n",
      "Epoch 1/5\n"
     ]
    },
    {
     "name": "stderr",
     "output_type": "stream",
     "text": [
      "C:\\Users\\Montr\\anaconda3\\lib\\site-packages\\tensorflow\\python\\framework\\indexed_slices.py:433: UserWarning: Converting sparse IndexedSlices to a dense Tensor of unknown shape. This may consume a large amount of memory.\n",
      "  \"Converting sparse IndexedSlices to a dense Tensor of unknown shape. \"\n"
     ]
    },
    {
     "name": "stdout",
     "output_type": "stream",
     "text": [
      "452/452 - 6s - loss: 2.1230 - mse: 2.1222 - val_loss: 1.4033 - val_mse: 1.4012\n",
      "Epoch 2/5\n",
      "452/452 - 6s - loss: 0.7062 - mse: 0.7026 - val_loss: 1.5260 - val_mse: 1.5206\n",
      "Epoch 3/5\n",
      "452/452 - 6s - loss: 0.3040 - mse: 0.2977 - val_loss: 1.5389 - val_mse: 1.5317\n",
      "Epoch 4/5\n",
      "452/452 - 6s - loss: 0.1535 - mse: 0.1458 - val_loss: 1.6384 - val_mse: 1.6302\n",
      "Epoch 5/5\n",
      "452/452 - 6s - loss: 0.1102 - mse: 0.1018 - val_loss: 1.6229 - val_mse: 1.6142\n",
      "MSE: 1.6906133\n",
      "optimizer:Adam | embedding_dim:32 | lr:0.0001 | dropout:0.5 | hidden_units:(128, 128) | epochs:3 | batch_size:32\n",
      "Epoch 1/3\n"
     ]
    },
    {
     "name": "stderr",
     "output_type": "stream",
     "text": [
      "C:\\Users\\Montr\\anaconda3\\lib\\site-packages\\tensorflow\\python\\framework\\indexed_slices.py:433: UserWarning: Converting sparse IndexedSlices to a dense Tensor of unknown shape. This may consume a large amount of memory.\n",
      "  \"Converting sparse IndexedSlices to a dense Tensor of unknown shape. \"\n"
     ]
    },
    {
     "name": "stdout",
     "output_type": "stream",
     "text": [
      "904/904 - 12s - loss: 1.8201 - mse: 1.8186 - val_loss: 1.3910 - val_mse: 1.3872\n",
      "Epoch 2/3\n",
      "904/904 - 12s - loss: 0.6394 - mse: 0.6334 - val_loss: 1.5196 - val_mse: 1.5113\n",
      "Epoch 3/3\n",
      "904/904 - 12s - loss: 0.3165 - mse: 0.3067 - val_loss: 1.5131 - val_mse: 1.5016\n",
      "MSE: 1.5564533\n",
      "optimizer:Adam | embedding_dim:32 | lr:0.0001 | dropout:0.5 | hidden_units:(128, 128) | epochs:3 | batch_size:64\n",
      "Epoch 1/3\n"
     ]
    },
    {
     "name": "stderr",
     "output_type": "stream",
     "text": [
      "C:\\Users\\Montr\\anaconda3\\lib\\site-packages\\tensorflow\\python\\framework\\indexed_slices.py:433: UserWarning: Converting sparse IndexedSlices to a dense Tensor of unknown shape. This may consume a large amount of memory.\n",
      "  \"Converting sparse IndexedSlices to a dense Tensor of unknown shape. \"\n"
     ]
    },
    {
     "name": "stdout",
     "output_type": "stream",
     "text": [
      "452/452 - 7s - loss: 2.1145 - mse: 2.1137 - val_loss: 1.3891 - val_mse: 1.3869\n",
      "Epoch 2/3\n",
      "452/452 - 6s - loss: 0.7011 - mse: 0.6974 - val_loss: 1.5776 - val_mse: 1.5722\n",
      "Epoch 3/3\n",
      "452/452 - 6s - loss: 0.3181 - mse: 0.3120 - val_loss: 1.5107 - val_mse: 1.5037\n",
      "MSE: 1.6077043\n",
      "optimizer:Adam | embedding_dim:32 | lr:0.0001 | dropout:0.5 | hidden_units:(128, 128) | epochs:5 | batch_size:32\n",
      "Epoch 1/5\n"
     ]
    },
    {
     "name": "stderr",
     "output_type": "stream",
     "text": [
      "C:\\Users\\Montr\\anaconda3\\lib\\site-packages\\tensorflow\\python\\framework\\indexed_slices.py:433: UserWarning: Converting sparse IndexedSlices to a dense Tensor of unknown shape. This may consume a large amount of memory.\n",
      "  \"Converting sparse IndexedSlices to a dense Tensor of unknown shape. \"\n"
     ]
    },
    {
     "name": "stdout",
     "output_type": "stream",
     "text": [
      "904/904 - 12s - loss: 1.8334 - mse: 1.8319 - val_loss: 1.4521 - val_mse: 1.4483\n",
      "Epoch 2/5\n",
      "904/904 - 12s - loss: 0.6359 - mse: 0.6299 - val_loss: 1.6232 - val_mse: 1.6149\n",
      "Epoch 3/5\n",
      "904/904 - 12s - loss: 0.3186 - mse: 0.3090 - val_loss: 1.4983 - val_mse: 1.4871\n",
      "Epoch 4/5\n",
      "904/904 - 12s - loss: 0.1830 - mse: 0.1710 - val_loss: 1.6470 - val_mse: 1.6339\n",
      "Epoch 5/5\n",
      "904/904 - 12s - loss: 0.1321 - mse: 0.1185 - val_loss: 1.5613 - val_mse: 1.5470\n",
      "MSE: 1.6564091\n",
      "optimizer:Adam | embedding_dim:32 | lr:0.0001 | dropout:0.5 | hidden_units:(128, 128) | epochs:5 | batch_size:64\n",
      "Epoch 1/5\n"
     ]
    },
    {
     "name": "stderr",
     "output_type": "stream",
     "text": [
      "C:\\Users\\Montr\\anaconda3\\lib\\site-packages\\tensorflow\\python\\framework\\indexed_slices.py:433: UserWarning: Converting sparse IndexedSlices to a dense Tensor of unknown shape. This may consume a large amount of memory.\n",
      "  \"Converting sparse IndexedSlices to a dense Tensor of unknown shape. \"\n"
     ]
    },
    {
     "name": "stdout",
     "output_type": "stream",
     "text": [
      "452/452 - 6s - loss: 2.0988 - mse: 2.0980 - val_loss: 1.4036 - val_mse: 1.4014\n",
      "Epoch 2/5\n",
      "452/452 - 6s - loss: 0.6905 - mse: 0.6868 - val_loss: 1.5442 - val_mse: 1.5389\n",
      "Epoch 3/5\n",
      "452/452 - 6s - loss: 0.3054 - mse: 0.2992 - val_loss: 1.5257 - val_mse: 1.5186\n",
      "Epoch 4/5\n",
      "452/452 - 6s - loss: 0.1690 - mse: 0.1614 - val_loss: 1.6457 - val_mse: 1.6375\n",
      "Epoch 5/5\n",
      "452/452 - 6s - loss: 0.1222 - mse: 0.1136 - val_loss: 1.6418 - val_mse: 1.6328\n",
      "MSE: 1.7313483\n",
      "optimizer:Adam | embedding_dim:32 | lr:0.0001 | dropout:0.5 | hidden_units:(128, 128) | epochs:3 | batch_size:32\n",
      "Epoch 1/3\n"
     ]
    },
    {
     "name": "stderr",
     "output_type": "stream",
     "text": [
      "C:\\Users\\Montr\\anaconda3\\lib\\site-packages\\tensorflow\\python\\framework\\indexed_slices.py:433: UserWarning: Converting sparse IndexedSlices to a dense Tensor of unknown shape. This may consume a large amount of memory.\n",
      "  \"Converting sparse IndexedSlices to a dense Tensor of unknown shape. \"\n"
     ]
    },
    {
     "name": "stdout",
     "output_type": "stream",
     "text": [
      "904/904 - 12s - loss: 1.8067 - mse: 1.8052 - val_loss: 1.3977 - val_mse: 1.3939\n",
      "Epoch 2/3\n",
      "904/904 - 11s - loss: 0.6564 - mse: 0.6503 - val_loss: 1.5305 - val_mse: 1.5218\n",
      "Epoch 3/3\n",
      "904/904 - 12s - loss: 0.3265 - mse: 0.3165 - val_loss: 1.5252 - val_mse: 1.5135\n",
      "MSE: 1.5994023\n",
      "optimizer:Adam | embedding_dim:32 | lr:0.0001 | dropout:0.5 | hidden_units:(128, 128) | epochs:3 | batch_size:64\n",
      "Epoch 1/3\n"
     ]
    },
    {
     "name": "stderr",
     "output_type": "stream",
     "text": [
      "C:\\Users\\Montr\\anaconda3\\lib\\site-packages\\tensorflow\\python\\framework\\indexed_slices.py:433: UserWarning: Converting sparse IndexedSlices to a dense Tensor of unknown shape. This may consume a large amount of memory.\n",
      "  \"Converting sparse IndexedSlices to a dense Tensor of unknown shape. \"\n"
     ]
    },
    {
     "name": "stdout",
     "output_type": "stream",
     "text": [
      "452/452 - 6s - loss: 2.1635 - mse: 2.1627 - val_loss: 1.4050 - val_mse: 1.4028\n",
      "Epoch 2/3\n",
      "452/452 - 6s - loss: 0.6903 - mse: 0.6866 - val_loss: 1.4889 - val_mse: 1.4835\n",
      "Epoch 3/3\n",
      "452/452 - 6s - loss: 0.3049 - mse: 0.2986 - val_loss: 1.5535 - val_mse: 1.5463\n",
      "MSE: 1.6219836\n",
      "optimizer:Adam | embedding_dim:32 | lr:0.0001 | dropout:0.5 | hidden_units:(128, 128) | epochs:5 | batch_size:32\n",
      "Epoch 1/5\n"
     ]
    },
    {
     "name": "stderr",
     "output_type": "stream",
     "text": [
      "C:\\Users\\Montr\\anaconda3\\lib\\site-packages\\tensorflow\\python\\framework\\indexed_slices.py:433: UserWarning: Converting sparse IndexedSlices to a dense Tensor of unknown shape. This may consume a large amount of memory.\n",
      "  \"Converting sparse IndexedSlices to a dense Tensor of unknown shape. \"\n"
     ]
    },
    {
     "name": "stdout",
     "output_type": "stream",
     "text": [
      "904/904 - 12s - loss: 1.8036 - mse: 1.8022 - val_loss: 1.4202 - val_mse: 1.4164\n",
      "Epoch 2/5\n",
      "904/904 - 12s - loss: 0.6738 - mse: 0.6680 - val_loss: 1.4911 - val_mse: 1.4831\n",
      "Epoch 3/5\n",
      "904/904 - 12s - loss: 0.3110 - mse: 0.3016 - val_loss: 1.5404 - val_mse: 1.5294\n",
      "Epoch 4/5\n",
      "904/904 - 12s - loss: 0.1791 - mse: 0.1674 - val_loss: 1.5493 - val_mse: 1.5368\n",
      "Epoch 5/5\n",
      "904/904 - 12s - loss: 0.1325 - mse: 0.1196 - val_loss: 1.6054 - val_mse: 1.5918\n",
      "MSE: 1.673788\n",
      "optimizer:Adam | embedding_dim:32 | lr:0.0001 | dropout:0.5 | hidden_units:(128, 128) | epochs:5 | batch_size:64\n",
      "Epoch 1/5\n"
     ]
    },
    {
     "name": "stderr",
     "output_type": "stream",
     "text": [
      "C:\\Users\\Montr\\anaconda3\\lib\\site-packages\\tensorflow\\python\\framework\\indexed_slices.py:433: UserWarning: Converting sparse IndexedSlices to a dense Tensor of unknown shape. This may consume a large amount of memory.\n",
      "  \"Converting sparse IndexedSlices to a dense Tensor of unknown shape. \"\n"
     ]
    },
    {
     "name": "stdout",
     "output_type": "stream",
     "text": [
      "452/452 - 7s - loss: 2.1636 - mse: 2.1627 - val_loss: 1.3947 - val_mse: 1.3925\n",
      "Epoch 2/5\n",
      "452/452 - 6s - loss: 0.6765 - mse: 0.6728 - val_loss: 1.5036 - val_mse: 1.4983\n",
      "Epoch 3/5\n",
      "452/452 - 6s - loss: 0.3022 - mse: 0.2962 - val_loss: 1.5645 - val_mse: 1.5576\n",
      "Epoch 4/5\n",
      "452/452 - 6s - loss: 0.1644 - mse: 0.1570 - val_loss: 1.6013 - val_mse: 1.5934\n",
      "Epoch 5/5\n",
      "452/452 - 6s - loss: 0.1154 - mse: 0.1073 - val_loss: 1.6557 - val_mse: 1.6471\n",
      "MSE: 1.7253708\n",
      "optimizer:Adam | embedding_dim:32 | lr:0.0001 | dropout:0.5 | hidden_units:(128, 128) | epochs:3 | batch_size:32\n",
      "Epoch 1/3\n"
     ]
    },
    {
     "name": "stderr",
     "output_type": "stream",
     "text": [
      "C:\\Users\\Montr\\anaconda3\\lib\\site-packages\\tensorflow\\python\\framework\\indexed_slices.py:433: UserWarning: Converting sparse IndexedSlices to a dense Tensor of unknown shape. This may consume a large amount of memory.\n",
      "  \"Converting sparse IndexedSlices to a dense Tensor of unknown shape. \"\n"
     ]
    },
    {
     "name": "stdout",
     "output_type": "stream",
     "text": [
      "904/904 - 12s - loss: 1.8121 - mse: 1.8106 - val_loss: 1.4053 - val_mse: 1.4015\n",
      "Epoch 2/3\n",
      "904/904 - 12s - loss: 0.6455 - mse: 0.6395 - val_loss: 1.5386 - val_mse: 1.5304\n",
      "Epoch 3/3\n",
      "904/904 - 12s - loss: 0.3166 - mse: 0.3069 - val_loss: 1.5352 - val_mse: 1.5238\n",
      "MSE: 1.6090325\n",
      "optimizer:Adam | embedding_dim:32 | lr:0.0001 | dropout:0.5 | hidden_units:(128, 128) | epochs:3 | batch_size:64\n",
      "Epoch 1/3\n"
     ]
    },
    {
     "name": "stderr",
     "output_type": "stream",
     "text": [
      "C:\\Users\\Montr\\anaconda3\\lib\\site-packages\\tensorflow\\python\\framework\\indexed_slices.py:433: UserWarning: Converting sparse IndexedSlices to a dense Tensor of unknown shape. This may consume a large amount of memory.\n",
      "  \"Converting sparse IndexedSlices to a dense Tensor of unknown shape. \"\n"
     ]
    },
    {
     "name": "stdout",
     "output_type": "stream",
     "text": [
      "452/452 - 6s - loss: 2.1022 - mse: 2.1014 - val_loss: 1.3981 - val_mse: 1.3959\n",
      "Epoch 2/3\n",
      "452/452 - 6s - loss: 0.6766 - mse: 0.6730 - val_loss: 1.5246 - val_mse: 1.5193\n",
      "Epoch 3/3\n",
      "452/452 - 6s - loss: 0.2977 - mse: 0.2917 - val_loss: 1.5522 - val_mse: 1.5453\n",
      "MSE: 1.6265221\n",
      "optimizer:Adam | embedding_dim:32 | lr:0.0001 | dropout:0.5 | hidden_units:(128, 128) | epochs:5 | batch_size:32\n",
      "Epoch 1/5\n"
     ]
    },
    {
     "name": "stderr",
     "output_type": "stream",
     "text": [
      "C:\\Users\\Montr\\anaconda3\\lib\\site-packages\\tensorflow\\python\\framework\\indexed_slices.py:433: UserWarning: Converting sparse IndexedSlices to a dense Tensor of unknown shape. This may consume a large amount of memory.\n",
      "  \"Converting sparse IndexedSlices to a dense Tensor of unknown shape. \"\n"
     ]
    },
    {
     "name": "stdout",
     "output_type": "stream",
     "text": [
      "904/904 - 12s - loss: 1.8355 - mse: 1.8341 - val_loss: 1.3956 - val_mse: 1.3918\n",
      "Epoch 2/5\n",
      "904/904 - 12s - loss: 0.6655 - mse: 0.6594 - val_loss: 1.5127 - val_mse: 1.5042\n",
      "Epoch 3/5\n",
      "904/904 - 12s - loss: 0.3027 - mse: 0.2927 - val_loss: 1.5272 - val_mse: 1.5157\n",
      "Epoch 4/5\n",
      "904/904 - 12s - loss: 0.1767 - mse: 0.1644 - val_loss: 1.6573 - val_mse: 1.6442\n",
      "Epoch 5/5\n",
      "904/904 - 12s - loss: 0.1326 - mse: 0.1190 - val_loss: 1.5931 - val_mse: 1.5789\n",
      "MSE: 1.676998\n",
      "optimizer:Adam | embedding_dim:32 | lr:0.0001 | dropout:0.5 | hidden_units:(128, 128) | epochs:5 | batch_size:64\n",
      "Epoch 1/5\n"
     ]
    },
    {
     "name": "stderr",
     "output_type": "stream",
     "text": [
      "C:\\Users\\Montr\\anaconda3\\lib\\site-packages\\tensorflow\\python\\framework\\indexed_slices.py:433: UserWarning: Converting sparse IndexedSlices to a dense Tensor of unknown shape. This may consume a large amount of memory.\n",
      "  \"Converting sparse IndexedSlices to a dense Tensor of unknown shape. \"\n"
     ]
    },
    {
     "name": "stdout",
     "output_type": "stream",
     "text": [
      "452/452 - 6s - loss: 2.1371 - mse: 2.1363 - val_loss: 1.3942 - val_mse: 1.3920\n",
      "Epoch 2/5\n",
      "452/452 - 6s - loss: 0.6762 - mse: 0.6725 - val_loss: 1.5660 - val_mse: 1.5607\n",
      "Epoch 3/5\n",
      "452/452 - 6s - loss: 0.3016 - mse: 0.2954 - val_loss: 1.4976 - val_mse: 1.4905\n",
      "Epoch 4/5\n",
      "452/452 - 6s - loss: 0.1729 - mse: 0.1653 - val_loss: 1.5852 - val_mse: 1.5770\n",
      "Epoch 5/5\n",
      "452/452 - 6s - loss: 0.1216 - mse: 0.1131 - val_loss: 1.6531 - val_mse: 1.6443\n",
      "MSE: 1.7133052\n",
      "optimizer:Adam | embedding_dim:32 | lr:0.0001 | dropout:0.5 | hidden_units:(128, 128) | epochs:3 | batch_size:32\n",
      "Epoch 1/3\n"
     ]
    },
    {
     "name": "stderr",
     "output_type": "stream",
     "text": [
      "C:\\Users\\Montr\\anaconda3\\lib\\site-packages\\tensorflow\\python\\framework\\indexed_slices.py:433: UserWarning: Converting sparse IndexedSlices to a dense Tensor of unknown shape. This may consume a large amount of memory.\n",
      "  \"Converting sparse IndexedSlices to a dense Tensor of unknown shape. \"\n"
     ]
    },
    {
     "name": "stdout",
     "output_type": "stream",
     "text": [
      "904/904 - 12s - loss: 1.8236 - mse: 1.8221 - val_loss: 1.4025 - val_mse: 1.3987\n",
      "Epoch 2/3\n",
      "904/904 - 12s - loss: 0.6429 - mse: 0.6368 - val_loss: 1.4647 - val_mse: 1.4563\n",
      "Epoch 3/3\n",
      "904/904 - 12s - loss: 0.3220 - mse: 0.3120 - val_loss: 1.5178 - val_mse: 1.5062\n",
      "MSE: 1.5946425\n",
      "optimizer:Adam | embedding_dim:32 | lr:0.0001 | dropout:0.5 | hidden_units:(128, 128) | epochs:3 | batch_size:64\n",
      "Epoch 1/3\n"
     ]
    },
    {
     "name": "stderr",
     "output_type": "stream",
     "text": [
      "C:\\Users\\Montr\\anaconda3\\lib\\site-packages\\tensorflow\\python\\framework\\indexed_slices.py:433: UserWarning: Converting sparse IndexedSlices to a dense Tensor of unknown shape. This may consume a large amount of memory.\n",
      "  \"Converting sparse IndexedSlices to a dense Tensor of unknown shape. \"\n"
     ]
    },
    {
     "name": "stdout",
     "output_type": "stream",
     "text": [
      "452/452 - 6s - loss: 2.1364 - mse: 2.1355 - val_loss: 1.4278 - val_mse: 1.4256\n",
      "Epoch 2/3\n",
      "452/452 - 6s - loss: 0.6831 - mse: 0.6795 - val_loss: 1.5312 - val_mse: 1.5260\n",
      "Epoch 3/3\n",
      "452/452 - 6s - loss: 0.3061 - mse: 0.3001 - val_loss: 1.5226 - val_mse: 1.5157\n",
      "MSE: 1.6154528\n",
      "optimizer:Adam | embedding_dim:32 | lr:0.0001 | dropout:0.5 | hidden_units:(128, 128) | epochs:5 | batch_size:32\n",
      "Epoch 1/5\n"
     ]
    },
    {
     "name": "stderr",
     "output_type": "stream",
     "text": [
      "C:\\Users\\Montr\\anaconda3\\lib\\site-packages\\tensorflow\\python\\framework\\indexed_slices.py:433: UserWarning: Converting sparse IndexedSlices to a dense Tensor of unknown shape. This may consume a large amount of memory.\n",
      "  \"Converting sparse IndexedSlices to a dense Tensor of unknown shape. \"\n"
     ]
    },
    {
     "name": "stdout",
     "output_type": "stream",
     "text": [
      "904/904 - 12s - loss: 1.8088 - mse: 1.8074 - val_loss: 1.3930 - val_mse: 1.3892\n",
      "Epoch 2/5\n",
      "904/904 - 12s - loss: 0.6494 - mse: 0.6434 - val_loss: 1.4677 - val_mse: 1.4594\n",
      "Epoch 3/5\n",
      "904/904 - 12s - loss: 0.3123 - mse: 0.3026 - val_loss: 1.5191 - val_mse: 1.5079\n",
      "Epoch 4/5\n",
      "904/904 - 12s - loss: 0.1840 - mse: 0.1720 - val_loss: 1.5408 - val_mse: 1.5279\n",
      "Epoch 5/5\n",
      "904/904 - 11s - loss: 0.1324 - mse: 0.1187 - val_loss: 1.5505 - val_mse: 1.5360\n",
      "MSE: 1.6338278\n",
      "optimizer:Adam | embedding_dim:32 | lr:0.0001 | dropout:0.5 | hidden_units:(128, 128) | epochs:5 | batch_size:64\n",
      "Epoch 1/5\n"
     ]
    },
    {
     "name": "stderr",
     "output_type": "stream",
     "text": [
      "C:\\Users\\Montr\\anaconda3\\lib\\site-packages\\tensorflow\\python\\framework\\indexed_slices.py:433: UserWarning: Converting sparse IndexedSlices to a dense Tensor of unknown shape. This may consume a large amount of memory.\n",
      "  \"Converting sparse IndexedSlices to a dense Tensor of unknown shape. \"\n"
     ]
    },
    {
     "name": "stdout",
     "output_type": "stream",
     "text": [
      "452/452 - 6s - loss: 2.1705 - mse: 2.1697 - val_loss: 1.4194 - val_mse: 1.4172\n",
      "Epoch 2/5\n",
      "452/452 - 6s - loss: 0.6635 - mse: 0.6599 - val_loss: 1.4815 - val_mse: 1.4763\n",
      "Epoch 3/5\n",
      "452/452 - 6s - loss: 0.2850 - mse: 0.2791 - val_loss: 1.6291 - val_mse: 1.6222\n",
      "Epoch 4/5\n",
      "452/452 - 6s - loss: 0.1681 - mse: 0.1607 - val_loss: 1.6564 - val_mse: 1.6484\n",
      "Epoch 5/5\n",
      "452/452 - 6s - loss: 0.1204 - mse: 0.1122 - val_loss: 1.6368 - val_mse: 1.6282\n",
      "MSE: 1.704007\n",
      "optimizer:Adam | embedding_dim:32 | lr:0.0001 | dropout:0.5 | hidden_units:(128, 128) | epochs:3 | batch_size:32\n",
      "Epoch 1/3\n"
     ]
    },
    {
     "name": "stderr",
     "output_type": "stream",
     "text": [
      "C:\\Users\\Montr\\anaconda3\\lib\\site-packages\\tensorflow\\python\\framework\\indexed_slices.py:433: UserWarning: Converting sparse IndexedSlices to a dense Tensor of unknown shape. This may consume a large amount of memory.\n",
      "  \"Converting sparse IndexedSlices to a dense Tensor of unknown shape. \"\n"
     ]
    },
    {
     "name": "stdout",
     "output_type": "stream",
     "text": [
      "904/904 - 12s - loss: 1.8112 - mse: 1.8097 - val_loss: 1.4461 - val_mse: 1.4422\n",
      "Epoch 2/3\n",
      "904/904 - 12s - loss: 0.6270 - mse: 0.6210 - val_loss: 1.5101 - val_mse: 1.5019\n",
      "Epoch 3/3\n",
      "904/904 - 12s - loss: 0.3170 - mse: 0.3074 - val_loss: 1.5378 - val_mse: 1.5263\n",
      "MSE: 1.5754926\n",
      "optimizer:Adam | embedding_dim:32 | lr:0.0001 | dropout:0.5 | hidden_units:(128, 128) | epochs:3 | batch_size:64\n",
      "Epoch 1/3\n"
     ]
    },
    {
     "name": "stderr",
     "output_type": "stream",
     "text": [
      "C:\\Users\\Montr\\anaconda3\\lib\\site-packages\\tensorflow\\python\\framework\\indexed_slices.py:433: UserWarning: Converting sparse IndexedSlices to a dense Tensor of unknown shape. This may consume a large amount of memory.\n",
      "  \"Converting sparse IndexedSlices to a dense Tensor of unknown shape. \"\n"
     ]
    },
    {
     "name": "stdout",
     "output_type": "stream",
     "text": [
      "452/452 - 6s - loss: 2.1189 - mse: 2.1180 - val_loss: 1.3979 - val_mse: 1.3957\n",
      "Epoch 2/3\n",
      "452/452 - 6s - loss: 0.6559 - mse: 0.6524 - val_loss: 1.5204 - val_mse: 1.5154\n",
      "Epoch 3/3\n",
      "452/452 - 6s - loss: 0.3030 - mse: 0.2971 - val_loss: 1.4843 - val_mse: 1.4774\n",
      "MSE: 1.5646447\n",
      "optimizer:Adam | embedding_dim:32 | lr:0.0001 | dropout:0.5 | hidden_units:(128, 128) | epochs:5 | batch_size:32\n",
      "Epoch 1/5\n"
     ]
    },
    {
     "name": "stderr",
     "output_type": "stream",
     "text": [
      "C:\\Users\\Montr\\anaconda3\\lib\\site-packages\\tensorflow\\python\\framework\\indexed_slices.py:433: UserWarning: Converting sparse IndexedSlices to a dense Tensor of unknown shape. This may consume a large amount of memory.\n",
      "  \"Converting sparse IndexedSlices to a dense Tensor of unknown shape. \"\n"
     ]
    },
    {
     "name": "stdout",
     "output_type": "stream",
     "text": [
      "904/904 - 12s - loss: 1.8075 - mse: 1.8061 - val_loss: 1.4226 - val_mse: 1.4188\n",
      "Epoch 2/5\n",
      "904/904 - 12s - loss: 0.6517 - mse: 0.6457 - val_loss: 1.4778 - val_mse: 1.4695\n",
      "Epoch 3/5\n",
      "904/904 - 12s - loss: 0.3183 - mse: 0.3087 - val_loss: 1.5007 - val_mse: 1.4896\n",
      "Epoch 4/5\n",
      "904/904 - 12s - loss: 0.1817 - mse: 0.1700 - val_loss: 1.6078 - val_mse: 1.5951\n",
      "Epoch 5/5\n",
      "904/904 - 12s - loss: 0.1386 - mse: 0.1252 - val_loss: 1.7073 - val_mse: 1.6931\n",
      "MSE: 1.753044\n",
      "optimizer:Adam | embedding_dim:32 | lr:0.0001 | dropout:0.5 | hidden_units:(128, 128) | epochs:5 | batch_size:64\n",
      "Epoch 1/5\n"
     ]
    },
    {
     "name": "stderr",
     "output_type": "stream",
     "text": [
      "C:\\Users\\Montr\\anaconda3\\lib\\site-packages\\tensorflow\\python\\framework\\indexed_slices.py:433: UserWarning: Converting sparse IndexedSlices to a dense Tensor of unknown shape. This may consume a large amount of memory.\n",
      "  \"Converting sparse IndexedSlices to a dense Tensor of unknown shape. \"\n"
     ]
    },
    {
     "name": "stdout",
     "output_type": "stream",
     "text": [
      "452/452 - 7s - loss: 2.1262 - mse: 2.1254 - val_loss: 1.4016 - val_mse: 1.3994\n",
      "Epoch 2/5\n",
      "452/452 - 6s - loss: 0.6699 - mse: 0.6662 - val_loss: 1.5533 - val_mse: 1.5481\n",
      "Epoch 3/5\n",
      "452/452 - 6s - loss: 0.3055 - mse: 0.2993 - val_loss: 1.5075 - val_mse: 1.5004\n",
      "Epoch 4/5\n",
      "452/452 - 6s - loss: 0.1594 - mse: 0.1517 - val_loss: 1.5967 - val_mse: 1.5885\n",
      "Epoch 5/5\n",
      "452/452 - 6s - loss: 0.1114 - mse: 0.1029 - val_loss: 1.6244 - val_mse: 1.6156\n",
      "MSE: 1.7001328\n",
      "optimizer:Adam | embedding_dim:32 | lr:0.0001 | dropout:0.5 | hidden_units:(128, 128) | epochs:3 | batch_size:32\n",
      "Epoch 1/3\n"
     ]
    },
    {
     "name": "stderr",
     "output_type": "stream",
     "text": [
      "C:\\Users\\Montr\\anaconda3\\lib\\site-packages\\tensorflow\\python\\framework\\indexed_slices.py:433: UserWarning: Converting sparse IndexedSlices to a dense Tensor of unknown shape. This may consume a large amount of memory.\n",
      "  \"Converting sparse IndexedSlices to a dense Tensor of unknown shape. \"\n"
     ]
    },
    {
     "name": "stdout",
     "output_type": "stream",
     "text": [
      "904/904 - 12s - loss: 1.8232 - mse: 1.8217 - val_loss: 1.5342 - val_mse: 1.5304\n",
      "Epoch 2/3\n",
      "904/904 - 12s - loss: 0.6477 - mse: 0.6418 - val_loss: 1.4809 - val_mse: 1.4726\n",
      "Epoch 3/3\n",
      "904/904 - 12s - loss: 0.3136 - mse: 0.3040 - val_loss: 1.5375 - val_mse: 1.5262\n",
      "MSE: 1.6129068\n",
      "optimizer:Adam | embedding_dim:32 | lr:0.0001 | dropout:0.5 | hidden_units:(128, 128) | epochs:3 | batch_size:64\n",
      "Epoch 1/3\n"
     ]
    },
    {
     "name": "stderr",
     "output_type": "stream",
     "text": [
      "C:\\Users\\Montr\\anaconda3\\lib\\site-packages\\tensorflow\\python\\framework\\indexed_slices.py:433: UserWarning: Converting sparse IndexedSlices to a dense Tensor of unknown shape. This may consume a large amount of memory.\n",
      "  \"Converting sparse IndexedSlices to a dense Tensor of unknown shape. \"\n"
     ]
    },
    {
     "name": "stdout",
     "output_type": "stream",
     "text": [
      "452/452 - 6s - loss: 2.1108 - mse: 2.1100 - val_loss: 1.3911 - val_mse: 1.3889\n",
      "Epoch 2/3\n",
      "452/452 - 6s - loss: 0.6848 - mse: 0.6812 - val_loss: 1.6425 - val_mse: 1.6371\n",
      "Epoch 3/3\n",
      "452/452 - 6s - loss: 0.3099 - mse: 0.3038 - val_loss: 1.4844 - val_mse: 1.4774\n",
      "MSE: 1.5945318\n",
      "optimizer:Adam | embedding_dim:32 | lr:0.0001 | dropout:0.5 | hidden_units:(128, 128) | epochs:5 | batch_size:32\n",
      "Epoch 1/5\n"
     ]
    },
    {
     "name": "stderr",
     "output_type": "stream",
     "text": [
      "C:\\Users\\Montr\\anaconda3\\lib\\site-packages\\tensorflow\\python\\framework\\indexed_slices.py:433: UserWarning: Converting sparse IndexedSlices to a dense Tensor of unknown shape. This may consume a large amount of memory.\n",
      "  \"Converting sparse IndexedSlices to a dense Tensor of unknown shape. \"\n"
     ]
    },
    {
     "name": "stdout",
     "output_type": "stream",
     "text": [
      "904/904 - 12s - loss: 1.8173 - mse: 1.8158 - val_loss: 1.4488 - val_mse: 1.4450\n",
      "Epoch 2/5\n",
      "904/904 - 12s - loss: 0.6665 - mse: 0.6604 - val_loss: 1.4817 - val_mse: 1.4732\n",
      "Epoch 3/5\n",
      "904/904 - 12s - loss: 0.3239 - mse: 0.3142 - val_loss: 1.4858 - val_mse: 1.4747\n",
      "Epoch 4/5\n",
      "904/904 - 11s - loss: 0.1681 - mse: 0.1563 - val_loss: 1.7588 - val_mse: 1.7463\n",
      "Epoch 5/5\n",
      "904/904 - 12s - loss: 0.1315 - mse: 0.1183 - val_loss: 1.5986 - val_mse: 1.5848\n",
      "MSE: 1.6655966\n",
      "optimizer:Adam | embedding_dim:32 | lr:0.0001 | dropout:0.5 | hidden_units:(128, 128) | epochs:5 | batch_size:64\n",
      "Epoch 1/5\n"
     ]
    },
    {
     "name": "stderr",
     "output_type": "stream",
     "text": [
      "C:\\Users\\Montr\\anaconda3\\lib\\site-packages\\tensorflow\\python\\framework\\indexed_slices.py:433: UserWarning: Converting sparse IndexedSlices to a dense Tensor of unknown shape. This may consume a large amount of memory.\n",
      "  \"Converting sparse IndexedSlices to a dense Tensor of unknown shape. \"\n"
     ]
    },
    {
     "name": "stdout",
     "output_type": "stream",
     "text": [
      "452/452 - 6s - loss: 2.1288 - mse: 2.1280 - val_loss: 1.4265 - val_mse: 1.4243\n",
      "Epoch 2/5\n",
      "452/452 - 6s - loss: 0.6563 - mse: 0.6527 - val_loss: 1.5166 - val_mse: 1.5115\n",
      "Epoch 3/5\n",
      "452/452 - 6s - loss: 0.2804 - mse: 0.2745 - val_loss: 1.6183 - val_mse: 1.6114\n",
      "Epoch 4/5\n",
      "452/452 - 6s - loss: 0.1601 - mse: 0.1526 - val_loss: 1.6189 - val_mse: 1.6108\n",
      "Epoch 5/5\n",
      "452/452 - 6s - loss: 0.1183 - mse: 0.1099 - val_loss: 1.6373 - val_mse: 1.6285\n",
      "MSE: 1.7055568\n",
      "optimizer:Adam | embedding_dim:32 | lr:0.0001 | dropout:0.5 | hidden_units:(128, 128) | epochs:3 | batch_size:32\n",
      "Epoch 1/3\n"
     ]
    },
    {
     "name": "stderr",
     "output_type": "stream",
     "text": [
      "C:\\Users\\Montr\\anaconda3\\lib\\site-packages\\tensorflow\\python\\framework\\indexed_slices.py:433: UserWarning: Converting sparse IndexedSlices to a dense Tensor of unknown shape. This may consume a large amount of memory.\n",
      "  \"Converting sparse IndexedSlices to a dense Tensor of unknown shape. \"\n"
     ]
    },
    {
     "name": "stdout",
     "output_type": "stream",
     "text": [
      "904/904 - 12s - loss: 1.8150 - mse: 1.8135 - val_loss: 1.4739 - val_mse: 1.4701\n",
      "Epoch 2/3\n",
      "904/904 - 12s - loss: 0.6368 - mse: 0.6308 - val_loss: 1.4820 - val_mse: 1.4736\n",
      "Epoch 3/3\n",
      "904/904 - 12s - loss: 0.3159 - mse: 0.3062 - val_loss: 1.5951 - val_mse: 1.5838\n",
      "MSE: 1.7320124\n",
      "optimizer:Adam | embedding_dim:32 | lr:0.0001 | dropout:0.5 | hidden_units:(128, 128) | epochs:3 | batch_size:64\n",
      "Epoch 1/3\n"
     ]
    },
    {
     "name": "stderr",
     "output_type": "stream",
     "text": [
      "C:\\Users\\Montr\\anaconda3\\lib\\site-packages\\tensorflow\\python\\framework\\indexed_slices.py:433: UserWarning: Converting sparse IndexedSlices to a dense Tensor of unknown shape. This may consume a large amount of memory.\n",
      "  \"Converting sparse IndexedSlices to a dense Tensor of unknown shape. \"\n"
     ]
    },
    {
     "name": "stdout",
     "output_type": "stream",
     "text": [
      "452/452 - 6s - loss: 2.1370 - mse: 2.1362 - val_loss: 1.4192 - val_mse: 1.4170\n",
      "Epoch 2/3\n",
      "452/452 - 6s - loss: 0.6732 - mse: 0.6695 - val_loss: 1.4988 - val_mse: 1.4933\n",
      "Epoch 3/3\n",
      "452/452 - 6s - loss: 0.3178 - mse: 0.3114 - val_loss: 1.4942 - val_mse: 1.4869\n",
      "MSE: 1.5970777\n",
      "optimizer:Adam | embedding_dim:32 | lr:0.0001 | dropout:0.5 | hidden_units:(128, 128) | epochs:5 | batch_size:32\n",
      "Epoch 1/5\n"
     ]
    },
    {
     "name": "stderr",
     "output_type": "stream",
     "text": [
      "C:\\Users\\Montr\\anaconda3\\lib\\site-packages\\tensorflow\\python\\framework\\indexed_slices.py:433: UserWarning: Converting sparse IndexedSlices to a dense Tensor of unknown shape. This may consume a large amount of memory.\n",
      "  \"Converting sparse IndexedSlices to a dense Tensor of unknown shape. \"\n"
     ]
    },
    {
     "name": "stdout",
     "output_type": "stream",
     "text": [
      "904/904 - 12s - loss: 1.8134 - mse: 1.8120 - val_loss: 1.4077 - val_mse: 1.4039\n",
      "Epoch 2/5\n",
      "904/904 - 12s - loss: 0.6318 - mse: 0.6259 - val_loss: 1.5103 - val_mse: 1.5023\n",
      "Epoch 3/5\n",
      "904/904 - 12s - loss: 0.3163 - mse: 0.3070 - val_loss: 1.5524 - val_mse: 1.5414\n",
      "Epoch 4/5\n",
      "904/904 - 12s - loss: 0.1915 - mse: 0.1796 - val_loss: 1.5907 - val_mse: 1.5777\n",
      "Epoch 5/5\n",
      "904/904 - 12s - loss: 0.1391 - mse: 0.1254 - val_loss: 1.5996 - val_mse: 1.5851\n",
      "MSE: 1.6965907\n",
      "optimizer:Adam | embedding_dim:32 | lr:0.0001 | dropout:0.5 | hidden_units:(128, 128) | epochs:5 | batch_size:64\n",
      "Epoch 1/5\n"
     ]
    },
    {
     "name": "stderr",
     "output_type": "stream",
     "text": [
      "C:\\Users\\Montr\\anaconda3\\lib\\site-packages\\tensorflow\\python\\framework\\indexed_slices.py:433: UserWarning: Converting sparse IndexedSlices to a dense Tensor of unknown shape. This may consume a large amount of memory.\n",
      "  \"Converting sparse IndexedSlices to a dense Tensor of unknown shape. \"\n"
     ]
    },
    {
     "name": "stdout",
     "output_type": "stream",
     "text": [
      "452/452 - 7s - loss: 2.1217 - mse: 2.1209 - val_loss: 1.3869 - val_mse: 1.3848\n",
      "Epoch 2/5\n",
      "452/452 - 6s - loss: 0.6663 - mse: 0.6626 - val_loss: 1.5135 - val_mse: 1.5082\n",
      "Epoch 3/5\n",
      "452/452 - 6s - loss: 0.3074 - mse: 0.3012 - val_loss: 1.5228 - val_mse: 1.5157\n",
      "Epoch 4/5\n",
      "452/452 - 6s - loss: 0.1536 - mse: 0.1460 - val_loss: 1.5931 - val_mse: 1.5849\n",
      "Epoch 5/5\n",
      "452/452 - 6s - loss: 0.1189 - mse: 0.1104 - val_loss: 1.6033 - val_mse: 1.5944\n",
      "MSE: 1.6746734\n",
      "optimizer:Adam | embedding_dim:32 | lr:0.0001 | dropout:0.5 | hidden_units:(128, 128) | epochs:3 | batch_size:32\n",
      "Epoch 1/3\n"
     ]
    },
    {
     "name": "stderr",
     "output_type": "stream",
     "text": [
      "C:\\Users\\Montr\\anaconda3\\lib\\site-packages\\tensorflow\\python\\framework\\indexed_slices.py:433: UserWarning: Converting sparse IndexedSlices to a dense Tensor of unknown shape. This may consume a large amount of memory.\n",
      "  \"Converting sparse IndexedSlices to a dense Tensor of unknown shape. \"\n"
     ]
    },
    {
     "name": "stdout",
     "output_type": "stream",
     "text": [
      "904/904 - 12s - loss: 1.8221 - mse: 1.8206 - val_loss: 1.4140 - val_mse: 1.4102\n",
      "Epoch 2/3\n",
      "904/904 - 11s - loss: 0.6320 - mse: 0.6261 - val_loss: 1.4670 - val_mse: 1.4589\n",
      "Epoch 3/3\n",
      "904/904 - 12s - loss: 0.3190 - mse: 0.3096 - val_loss: 1.5359 - val_mse: 1.5249\n",
      "MSE: 1.6015054\n",
      "optimizer:Adam | embedding_dim:32 | lr:0.0001 | dropout:0.5 | hidden_units:(128, 128) | epochs:3 | batch_size:64\n",
      "Epoch 1/3\n"
     ]
    },
    {
     "name": "stderr",
     "output_type": "stream",
     "text": [
      "C:\\Users\\Montr\\anaconda3\\lib\\site-packages\\tensorflow\\python\\framework\\indexed_slices.py:433: UserWarning: Converting sparse IndexedSlices to a dense Tensor of unknown shape. This may consume a large amount of memory.\n",
      "  \"Converting sparse IndexedSlices to a dense Tensor of unknown shape. \"\n"
     ]
    },
    {
     "name": "stdout",
     "output_type": "stream",
     "text": [
      "452/452 - 6s - loss: 2.1394 - mse: 2.1385 - val_loss: 1.3975 - val_mse: 1.3953\n",
      "Epoch 2/3\n",
      "452/452 - 6s - loss: 0.6731 - mse: 0.6694 - val_loss: 1.5035 - val_mse: 1.4981\n",
      "Epoch 3/3\n",
      "452/452 - 6s - loss: 0.3134 - mse: 0.3071 - val_loss: 1.4817 - val_mse: 1.4746\n",
      "MSE: 1.5575603\n",
      "optimizer:Adam | embedding_dim:32 | lr:0.0001 | dropout:0.5 | hidden_units:(128, 128) | epochs:5 | batch_size:32\n",
      "Epoch 1/5\n"
     ]
    },
    {
     "name": "stderr",
     "output_type": "stream",
     "text": [
      "C:\\Users\\Montr\\anaconda3\\lib\\site-packages\\tensorflow\\python\\framework\\indexed_slices.py:433: UserWarning: Converting sparse IndexedSlices to a dense Tensor of unknown shape. This may consume a large amount of memory.\n",
      "  \"Converting sparse IndexedSlices to a dense Tensor of unknown shape. \"\n"
     ]
    },
    {
     "name": "stdout",
     "output_type": "stream",
     "text": [
      "904/904 - 12s - loss: 1.8237 - mse: 1.8223 - val_loss: 1.4070 - val_mse: 1.4031\n",
      "Epoch 2/5\n",
      "904/904 - 12s - loss: 0.6326 - mse: 0.6266 - val_loss: 1.4692 - val_mse: 1.4609\n",
      "Epoch 3/5\n",
      "904/904 - 12s - loss: 0.3152 - mse: 0.3054 - val_loss: 1.5447 - val_mse: 1.5333\n",
      "Epoch 4/5\n",
      "904/904 - 12s - loss: 0.1868 - mse: 0.1747 - val_loss: 1.6886 - val_mse: 1.6755\n",
      "Epoch 5/5\n",
      "904/904 - 12s - loss: 0.1394 - mse: 0.1258 - val_loss: 1.6710 - val_mse: 1.6567\n",
      "MSE: 1.7383219\n",
      "optimizer:Adam | embedding_dim:32 | lr:0.0001 | dropout:0.5 | hidden_units:(128, 128) | epochs:5 | batch_size:64\n",
      "Epoch 1/5\n"
     ]
    },
    {
     "name": "stderr",
     "output_type": "stream",
     "text": [
      "C:\\Users\\Montr\\anaconda3\\lib\\site-packages\\tensorflow\\python\\framework\\indexed_slices.py:433: UserWarning: Converting sparse IndexedSlices to a dense Tensor of unknown shape. This may consume a large amount of memory.\n",
      "  \"Converting sparse IndexedSlices to a dense Tensor of unknown shape. \"\n"
     ]
    },
    {
     "name": "stdout",
     "output_type": "stream",
     "text": [
      "452/452 - 6s - loss: 2.1244 - mse: 2.1236 - val_loss: 1.4273 - val_mse: 1.4251\n",
      "Epoch 2/5\n",
      "452/452 - 6s - loss: 0.6773 - mse: 0.6737 - val_loss: 1.5341 - val_mse: 1.5287\n",
      "Epoch 3/5\n",
      "452/452 - 6s - loss: 0.3062 - mse: 0.2999 - val_loss: 1.5148 - val_mse: 1.5077\n",
      "Epoch 4/5\n",
      "452/452 - 6s - loss: 0.1638 - mse: 0.1562 - val_loss: 1.5805 - val_mse: 1.5723\n",
      "Epoch 5/5\n",
      "452/452 - 6s - loss: 0.1247 - mse: 0.1162 - val_loss: 1.5827 - val_mse: 1.5738\n",
      "MSE: 1.6424618\n",
      "optimizer:Adam | embedding_dim:32 | lr:0.0001 | dropout:0.5 | hidden_units:(128, 128) | epochs:3 | batch_size:32\n",
      "Epoch 1/3\n"
     ]
    },
    {
     "name": "stderr",
     "output_type": "stream",
     "text": [
      "C:\\Users\\Montr\\anaconda3\\lib\\site-packages\\tensorflow\\python\\framework\\indexed_slices.py:433: UserWarning: Converting sparse IndexedSlices to a dense Tensor of unknown shape. This may consume a large amount of memory.\n",
      "  \"Converting sparse IndexedSlices to a dense Tensor of unknown shape. \"\n"
     ]
    },
    {
     "name": "stdout",
     "output_type": "stream",
     "text": [
      "904/904 - 12s - loss: 1.8347 - mse: 1.8333 - val_loss: 1.3971 - val_mse: 1.3934\n",
      "Epoch 2/3\n",
      "904/904 - 12s - loss: 0.6748 - mse: 0.6688 - val_loss: 1.5126 - val_mse: 1.5040\n",
      "Epoch 3/3\n",
      "904/904 - 12s - loss: 0.3154 - mse: 0.3055 - val_loss: 1.5114 - val_mse: 1.5001\n",
      "MSE: 1.6172239\n",
      "optimizer:Adam | embedding_dim:32 | lr:0.0001 | dropout:0.5 | hidden_units:(128, 128) | epochs:3 | batch_size:64\n",
      "Epoch 1/3\n"
     ]
    },
    {
     "name": "stderr",
     "output_type": "stream",
     "text": [
      "C:\\Users\\Montr\\anaconda3\\lib\\site-packages\\tensorflow\\python\\framework\\indexed_slices.py:433: UserWarning: Converting sparse IndexedSlices to a dense Tensor of unknown shape. This may consume a large amount of memory.\n",
      "  \"Converting sparse IndexedSlices to a dense Tensor of unknown shape. \"\n"
     ]
    },
    {
     "name": "stdout",
     "output_type": "stream",
     "text": [
      "452/452 - 6s - loss: 2.1781 - mse: 2.1773 - val_loss: 1.3903 - val_mse: 1.3881\n",
      "Epoch 2/3\n",
      "452/452 - 6s - loss: 0.6744 - mse: 0.6706 - val_loss: 1.5199 - val_mse: 1.5143\n",
      "Epoch 3/3\n",
      "452/452 - 6s - loss: 0.3038 - mse: 0.2973 - val_loss: 1.5499 - val_mse: 1.5425\n",
      "MSE: 1.6579589\n",
      "optimizer:Adam | embedding_dim:32 | lr:0.0001 | dropout:0.5 | hidden_units:(128, 128) | epochs:5 | batch_size:32\n",
      "Epoch 1/5\n"
     ]
    },
    {
     "name": "stderr",
     "output_type": "stream",
     "text": [
      "C:\\Users\\Montr\\anaconda3\\lib\\site-packages\\tensorflow\\python\\framework\\indexed_slices.py:433: UserWarning: Converting sparse IndexedSlices to a dense Tensor of unknown shape. This may consume a large amount of memory.\n",
      "  \"Converting sparse IndexedSlices to a dense Tensor of unknown shape. \"\n"
     ]
    },
    {
     "name": "stdout",
     "output_type": "stream",
     "text": [
      "904/904 - 12s - loss: 1.8179 - mse: 1.8165 - val_loss: 1.4122 - val_mse: 1.4084\n",
      "Epoch 2/5\n",
      "904/904 - 12s - loss: 0.6585 - mse: 0.6523 - val_loss: 1.5309 - val_mse: 1.5219\n",
      "Epoch 3/5\n",
      "904/904 - 12s - loss: 0.3266 - mse: 0.3164 - val_loss: 1.5186 - val_mse: 1.5068\n",
      "Epoch 4/5\n",
      "904/904 - 12s - loss: 0.1731 - mse: 0.1607 - val_loss: 1.6737 - val_mse: 1.6605\n",
      "Epoch 5/5\n",
      "904/904 - 12s - loss: 0.1412 - mse: 0.1273 - val_loss: 1.6309 - val_mse: 1.6162\n",
      "MSE: 1.7161833\n",
      "optimizer:Adam | embedding_dim:32 | lr:0.0001 | dropout:0.5 | hidden_units:(128, 128) | epochs:5 | batch_size:64\n",
      "Epoch 1/5\n"
     ]
    },
    {
     "name": "stderr",
     "output_type": "stream",
     "text": [
      "C:\\Users\\Montr\\anaconda3\\lib\\site-packages\\tensorflow\\python\\framework\\indexed_slices.py:433: UserWarning: Converting sparse IndexedSlices to a dense Tensor of unknown shape. This may consume a large amount of memory.\n",
      "  \"Converting sparse IndexedSlices to a dense Tensor of unknown shape. \"\n"
     ]
    },
    {
     "name": "stdout",
     "output_type": "stream",
     "text": [
      "452/452 - 6s - loss: 2.1468 - mse: 2.1460 - val_loss: 1.3931 - val_mse: 1.3910\n",
      "Epoch 2/5\n",
      "452/452 - 6s - loss: 0.6834 - mse: 0.6797 - val_loss: 1.5194 - val_mse: 1.5140\n",
      "Epoch 3/5\n",
      "452/452 - 6s - loss: 0.3014 - mse: 0.2951 - val_loss: 1.5437 - val_mse: 1.5364\n",
      "Epoch 4/5\n",
      "452/452 - 6s - loss: 0.1577 - mse: 0.1499 - val_loss: 1.6711 - val_mse: 1.6628\n",
      "Epoch 5/5\n",
      "452/452 - 6s - loss: 0.1137 - mse: 0.1051 - val_loss: 1.6372 - val_mse: 1.6283\n",
      "MSE: 1.7035643\n",
      "optimizer:Adam | embedding_dim:32 | lr:0.0001 | dropout:0.5 | hidden_units:(128, 128) | epochs:3 | batch_size:32\n",
      "Epoch 1/3\n"
     ]
    },
    {
     "name": "stderr",
     "output_type": "stream",
     "text": [
      "C:\\Users\\Montr\\anaconda3\\lib\\site-packages\\tensorflow\\python\\framework\\indexed_slices.py:433: UserWarning: Converting sparse IndexedSlices to a dense Tensor of unknown shape. This may consume a large amount of memory.\n",
      "  \"Converting sparse IndexedSlices to a dense Tensor of unknown shape. \"\n"
     ]
    },
    {
     "name": "stdout",
     "output_type": "stream",
     "text": [
      "904/904 - 12s - loss: 1.8098 - mse: 1.8083 - val_loss: 1.4547 - val_mse: 1.4508\n",
      "Epoch 2/3\n",
      "904/904 - 12s - loss: 0.6419 - mse: 0.6359 - val_loss: 1.4909 - val_mse: 1.4825\n",
      "Epoch 3/3\n",
      "904/904 - 12s - loss: 0.3241 - mse: 0.3142 - val_loss: 1.5025 - val_mse: 1.4909\n",
      "MSE: 1.5639805\n",
      "optimizer:Adam | embedding_dim:32 | lr:0.0001 | dropout:0.5 | hidden_units:(128, 128) | epochs:3 | batch_size:64\n",
      "Epoch 1/3\n"
     ]
    },
    {
     "name": "stderr",
     "output_type": "stream",
     "text": [
      "C:\\Users\\Montr\\anaconda3\\lib\\site-packages\\tensorflow\\python\\framework\\indexed_slices.py:433: UserWarning: Converting sparse IndexedSlices to a dense Tensor of unknown shape. This may consume a large amount of memory.\n",
      "  \"Converting sparse IndexedSlices to a dense Tensor of unknown shape. \"\n"
     ]
    },
    {
     "name": "stdout",
     "output_type": "stream",
     "text": [
      "452/452 - 7s - loss: 2.1284 - mse: 2.1276 - val_loss: 1.4249 - val_mse: 1.4228\n",
      "Epoch 2/3\n",
      "452/452 - 6s - loss: 0.6664 - mse: 0.6627 - val_loss: 1.4995 - val_mse: 1.4939\n",
      "Epoch 3/3\n",
      "452/452 - 6s - loss: 0.3045 - mse: 0.2980 - val_loss: 1.4985 - val_mse: 1.4910\n",
      "MSE: 1.5515829\n",
      "optimizer:Adam | embedding_dim:32 | lr:0.0001 | dropout:0.5 | hidden_units:(128, 128) | epochs:5 | batch_size:32\n",
      "Epoch 1/5\n"
     ]
    },
    {
     "name": "stderr",
     "output_type": "stream",
     "text": [
      "C:\\Users\\Montr\\anaconda3\\lib\\site-packages\\tensorflow\\python\\framework\\indexed_slices.py:433: UserWarning: Converting sparse IndexedSlices to a dense Tensor of unknown shape. This may consume a large amount of memory.\n",
      "  \"Converting sparse IndexedSlices to a dense Tensor of unknown shape. \"\n"
     ]
    },
    {
     "name": "stdout",
     "output_type": "stream",
     "text": [
      "904/904 - 12s - loss: 1.8072 - mse: 1.8057 - val_loss: 1.4660 - val_mse: 1.4622\n",
      "Epoch 2/5\n",
      "904/904 - 12s - loss: 0.6425 - mse: 0.6363 - val_loss: 1.4604 - val_mse: 1.4516\n",
      "Epoch 3/5\n",
      "904/904 - 12s - loss: 0.3282 - mse: 0.3181 - val_loss: 1.5378 - val_mse: 1.5259\n",
      "Epoch 4/5\n",
      "904/904 - 12s - loss: 0.1861 - mse: 0.1734 - val_loss: 1.6214 - val_mse: 1.6077\n",
      "Epoch 5/5\n",
      "904/904 - 12s - loss: 0.1425 - mse: 0.1284 - val_loss: 1.6453 - val_mse: 1.6303\n",
      "MSE: 1.7197255\n",
      "optimizer:Adam | embedding_dim:32 | lr:0.0001 | dropout:0.5 | hidden_units:(128, 128) | epochs:5 | batch_size:64\n",
      "Epoch 1/5\n"
     ]
    },
    {
     "name": "stderr",
     "output_type": "stream",
     "text": [
      "C:\\Users\\Montr\\anaconda3\\lib\\site-packages\\tensorflow\\python\\framework\\indexed_slices.py:433: UserWarning: Converting sparse IndexedSlices to a dense Tensor of unknown shape. This may consume a large amount of memory.\n",
      "  \"Converting sparse IndexedSlices to a dense Tensor of unknown shape. \"\n"
     ]
    },
    {
     "name": "stdout",
     "output_type": "stream",
     "text": [
      "452/452 - 6s - loss: 2.1232 - mse: 2.1224 - val_loss: 1.3878 - val_mse: 1.3856\n",
      "Epoch 2/5\n",
      "452/452 - 6s - loss: 0.6718 - mse: 0.6682 - val_loss: 1.6148 - val_mse: 1.6096\n",
      "Epoch 3/5\n",
      "452/452 - 6s - loss: 0.2992 - mse: 0.2933 - val_loss: 1.5301 - val_mse: 1.5232\n",
      "Epoch 4/5\n",
      "452/452 - 6s - loss: 0.1612 - mse: 0.1538 - val_loss: 1.6100 - val_mse: 1.6021\n",
      "Epoch 5/5\n",
      "452/452 - 6s - loss: 0.1115 - mse: 0.1033 - val_loss: 1.6704 - val_mse: 1.6618\n",
      "MSE: 1.7293558\n",
      "optimizer:Adam | embedding_dim:32 | lr:0.0001 | dropout:0.5 | hidden_units:(128, 128) | epochs:3 | batch_size:32\n",
      "Epoch 1/3\n"
     ]
    },
    {
     "name": "stderr",
     "output_type": "stream",
     "text": [
      "C:\\Users\\Montr\\anaconda3\\lib\\site-packages\\tensorflow\\python\\framework\\indexed_slices.py:433: UserWarning: Converting sparse IndexedSlices to a dense Tensor of unknown shape. This may consume a large amount of memory.\n",
      "  \"Converting sparse IndexedSlices to a dense Tensor of unknown shape. \"\n"
     ]
    },
    {
     "name": "stdout",
     "output_type": "stream",
     "text": [
      "904/904 - 12s - loss: 1.8297 - mse: 1.8282 - val_loss: 1.4009 - val_mse: 1.3970\n",
      "Epoch 2/3\n",
      "904/904 - 12s - loss: 0.6280 - mse: 0.6219 - val_loss: 1.4717 - val_mse: 1.4633\n",
      "Epoch 3/3\n",
      "904/904 - 12s - loss: 0.3061 - mse: 0.2964 - val_loss: 1.5236 - val_mse: 1.5123\n",
      "MSE: 1.6010627\n",
      "optimizer:Adam | embedding_dim:32 | lr:0.0001 | dropout:0.5 | hidden_units:(128, 128) | epochs:3 | batch_size:64\n",
      "Epoch 1/3\n"
     ]
    },
    {
     "name": "stderr",
     "output_type": "stream",
     "text": [
      "C:\\Users\\Montr\\anaconda3\\lib\\site-packages\\tensorflow\\python\\framework\\indexed_slices.py:433: UserWarning: Converting sparse IndexedSlices to a dense Tensor of unknown shape. This may consume a large amount of memory.\n",
      "  \"Converting sparse IndexedSlices to a dense Tensor of unknown shape. \"\n"
     ]
    },
    {
     "name": "stdout",
     "output_type": "stream",
     "text": [
      "452/452 - 6s - loss: 2.1271 - mse: 2.1263 - val_loss: 1.3948 - val_mse: 1.3927\n",
      "Epoch 2/3\n",
      "452/452 - 6s - loss: 0.6718 - mse: 0.6681 - val_loss: 1.5089 - val_mse: 1.5034\n",
      "Epoch 3/3\n",
      "452/452 - 6s - loss: 0.2888 - mse: 0.2825 - val_loss: 1.5095 - val_mse: 1.5022\n",
      "MSE: 1.5855657\n",
      "optimizer:Adam | embedding_dim:32 | lr:0.0001 | dropout:0.5 | hidden_units:(128, 128) | epochs:5 | batch_size:32\n",
      "Epoch 1/5\n"
     ]
    },
    {
     "name": "stderr",
     "output_type": "stream",
     "text": [
      "C:\\Users\\Montr\\anaconda3\\lib\\site-packages\\tensorflow\\python\\framework\\indexed_slices.py:433: UserWarning: Converting sparse IndexedSlices to a dense Tensor of unknown shape. This may consume a large amount of memory.\n",
      "  \"Converting sparse IndexedSlices to a dense Tensor of unknown shape. \"\n"
     ]
    },
    {
     "name": "stdout",
     "output_type": "stream",
     "text": [
      "904/904 - 12s - loss: 1.8243 - mse: 1.8228 - val_loss: 1.4030 - val_mse: 1.3991\n",
      "Epoch 2/5\n",
      "904/904 - 12s - loss: 0.6289 - mse: 0.6229 - val_loss: 1.5489 - val_mse: 1.5408\n",
      "Epoch 3/5\n",
      "904/904 - 12s - loss: 0.3146 - mse: 0.3050 - val_loss: 1.5207 - val_mse: 1.5094\n",
      "Epoch 4/5\n",
      "904/904 - 12s - loss: 0.1726 - mse: 0.1606 - val_loss: 1.6668 - val_mse: 1.6538\n",
      "Epoch 5/5\n",
      "904/904 - 12s - loss: 0.1373 - mse: 0.1238 - val_loss: 1.6092 - val_mse: 1.5948\n",
      "MSE: 1.6661501\n",
      "optimizer:Adam | embedding_dim:32 | lr:0.0001 | dropout:0.5 | hidden_units:(128, 128) | epochs:5 | batch_size:64\n",
      "Epoch 1/5\n"
     ]
    },
    {
     "name": "stderr",
     "output_type": "stream",
     "text": [
      "C:\\Users\\Montr\\anaconda3\\lib\\site-packages\\tensorflow\\python\\framework\\indexed_slices.py:433: UserWarning: Converting sparse IndexedSlices to a dense Tensor of unknown shape. This may consume a large amount of memory.\n",
      "  \"Converting sparse IndexedSlices to a dense Tensor of unknown shape. \"\n"
     ]
    },
    {
     "name": "stdout",
     "output_type": "stream",
     "text": [
      "452/452 - 6s - loss: 2.1162 - mse: 2.1153 - val_loss: 1.3918 - val_mse: 1.3896\n",
      "Epoch 2/5\n",
      "452/452 - 6s - loss: 0.6838 - mse: 0.6802 - val_loss: 1.4887 - val_mse: 1.4834\n",
      "Epoch 3/5\n",
      "452/452 - 6s - loss: 0.3143 - mse: 0.3082 - val_loss: 1.5029 - val_mse: 1.4957\n",
      "Epoch 4/5\n",
      "452/452 - 6s - loss: 0.1557 - mse: 0.1481 - val_loss: 1.5682 - val_mse: 1.5601\n",
      "Epoch 5/5\n",
      "452/452 - 6s - loss: 0.1148 - mse: 0.1064 - val_loss: 1.5915 - val_mse: 1.5828\n",
      "MSE: 1.6582909\n",
      "optimizer:Adam | embedding_dim:32 | lr:0.0001 | dropout:0.5 | hidden_units:(128, 128) | epochs:3 | batch_size:32\n",
      "Epoch 1/3\n"
     ]
    },
    {
     "name": "stderr",
     "output_type": "stream",
     "text": [
      "C:\\Users\\Montr\\anaconda3\\lib\\site-packages\\tensorflow\\python\\framework\\indexed_slices.py:433: UserWarning: Converting sparse IndexedSlices to a dense Tensor of unknown shape. This may consume a large amount of memory.\n",
      "  \"Converting sparse IndexedSlices to a dense Tensor of unknown shape. \"\n"
     ]
    },
    {
     "name": "stdout",
     "output_type": "stream",
     "text": [
      "904/904 - 12s - loss: 1.8339 - mse: 1.8324 - val_loss: 1.3939 - val_mse: 1.3901\n",
      "Epoch 2/3\n",
      "904/904 - 12s - loss: 0.6225 - mse: 0.6167 - val_loss: 1.4811 - val_mse: 1.4733\n",
      "Epoch 3/3\n",
      "904/904 - 12s - loss: 0.3144 - mse: 0.3050 - val_loss: 1.5257 - val_mse: 1.5145\n",
      "MSE: 1.5750498\n",
      "optimizer:Adam | embedding_dim:32 | lr:0.0001 | dropout:0.5 | hidden_units:(128, 128) | epochs:3 | batch_size:64\n",
      "Epoch 1/3\n"
     ]
    },
    {
     "name": "stderr",
     "output_type": "stream",
     "text": [
      "C:\\Users\\Montr\\anaconda3\\lib\\site-packages\\tensorflow\\python\\framework\\indexed_slices.py:433: UserWarning: Converting sparse IndexedSlices to a dense Tensor of unknown shape. This may consume a large amount of memory.\n",
      "  \"Converting sparse IndexedSlices to a dense Tensor of unknown shape. \"\n"
     ]
    },
    {
     "name": "stdout",
     "output_type": "stream",
     "text": [
      "452/452 - 6s - loss: 2.1299 - mse: 2.1291 - val_loss: 1.3868 - val_mse: 1.3846\n",
      "Epoch 2/3\n",
      "452/452 - 6s - loss: 0.6597 - mse: 0.6561 - val_loss: 1.6060 - val_mse: 1.6009\n",
      "Epoch 3/3\n",
      "452/452 - 6s - loss: 0.3003 - mse: 0.2944 - val_loss: 1.5095 - val_mse: 1.5027\n",
      "MSE: 1.5805844\n",
      "optimizer:Adam | embedding_dim:32 | lr:0.0001 | dropout:0.5 | hidden_units:(128, 128) | epochs:5 | batch_size:32\n",
      "Epoch 1/5\n"
     ]
    },
    {
     "name": "stderr",
     "output_type": "stream",
     "text": [
      "C:\\Users\\Montr\\anaconda3\\lib\\site-packages\\tensorflow\\python\\framework\\indexed_slices.py:433: UserWarning: Converting sparse IndexedSlices to a dense Tensor of unknown shape. This may consume a large amount of memory.\n",
      "  \"Converting sparse IndexedSlices to a dense Tensor of unknown shape. \"\n"
     ]
    },
    {
     "name": "stdout",
     "output_type": "stream",
     "text": [
      "904/904 - 12s - loss: 1.7884 - mse: 1.7869 - val_loss: 1.4436 - val_mse: 1.4398\n",
      "Epoch 2/5\n",
      "904/904 - 12s - loss: 0.6623 - mse: 0.6564 - val_loss: 1.4988 - val_mse: 1.4905\n",
      "Epoch 3/5\n",
      "904/904 - 12s - loss: 0.3226 - mse: 0.3130 - val_loss: 1.4847 - val_mse: 1.4736\n",
      "Epoch 4/5\n",
      "904/904 - 12s - loss: 0.1819 - mse: 0.1701 - val_loss: 1.5783 - val_mse: 1.5656\n",
      "Epoch 5/5\n",
      "904/904 - 12s - loss: 0.1391 - mse: 0.1258 - val_loss: 1.5775 - val_mse: 1.5635\n",
      "MSE: 1.6461147\n",
      "optimizer:Adam | embedding_dim:32 | lr:0.0001 | dropout:0.5 | hidden_units:(128, 128) | epochs:5 | batch_size:64\n",
      "Epoch 1/5\n"
     ]
    },
    {
     "name": "stderr",
     "output_type": "stream",
     "text": [
      "C:\\Users\\Montr\\anaconda3\\lib\\site-packages\\tensorflow\\python\\framework\\indexed_slices.py:433: UserWarning: Converting sparse IndexedSlices to a dense Tensor of unknown shape. This may consume a large amount of memory.\n",
      "  \"Converting sparse IndexedSlices to a dense Tensor of unknown shape. \"\n"
     ]
    },
    {
     "name": "stdout",
     "output_type": "stream",
     "text": [
      "452/452 - 7s - loss: 2.1298 - mse: 2.1290 - val_loss: 1.4096 - val_mse: 1.4075\n",
      "Epoch 2/5\n",
      "452/452 - 6s - loss: 0.6722 - mse: 0.6686 - val_loss: 1.5140 - val_mse: 1.5089\n",
      "Epoch 3/5\n",
      "452/452 - 6s - loss: 0.3098 - mse: 0.3040 - val_loss: 1.5268 - val_mse: 1.5201\n",
      "Epoch 4/5\n",
      "452/452 - 6s - loss: 0.1681 - mse: 0.1609 - val_loss: 1.6649 - val_mse: 1.6572\n",
      "Epoch 5/5\n",
      "452/452 - 6s - loss: 0.1181 - mse: 0.1100 - val_loss: 1.6307 - val_mse: 1.6221\n",
      "MSE: 1.7114235\n",
      "optimizer:Adam | embedding_dim:32 | lr:0.0001 | dropout:0.5 | hidden_units:(128, 128) | epochs:3 | batch_size:32\n",
      "Epoch 1/3\n"
     ]
    },
    {
     "name": "stderr",
     "output_type": "stream",
     "text": [
      "C:\\Users\\Montr\\anaconda3\\lib\\site-packages\\tensorflow\\python\\framework\\indexed_slices.py:433: UserWarning: Converting sparse IndexedSlices to a dense Tensor of unknown shape. This may consume a large amount of memory.\n",
      "  \"Converting sparse IndexedSlices to a dense Tensor of unknown shape. \"\n"
     ]
    },
    {
     "name": "stdout",
     "output_type": "stream",
     "text": [
      "904/904 - 12s - loss: 1.7991 - mse: 1.7976 - val_loss: 1.4002 - val_mse: 1.3963\n",
      "Epoch 2/3\n",
      "904/904 - 11s - loss: 0.6388 - mse: 0.6328 - val_loss: 1.4964 - val_mse: 1.4880\n",
      "Epoch 3/3\n",
      "904/904 - 12s - loss: 0.3155 - mse: 0.3056 - val_loss: 1.5152 - val_mse: 1.5035\n",
      "MSE: 1.5863405\n",
      "optimizer:Adam | embedding_dim:32 | lr:0.0001 | dropout:0.5 | hidden_units:(128, 128) | epochs:3 | batch_size:64\n",
      "Epoch 1/3\n"
     ]
    },
    {
     "name": "stderr",
     "output_type": "stream",
     "text": [
      "C:\\Users\\Montr\\anaconda3\\lib\\site-packages\\tensorflow\\python\\framework\\indexed_slices.py:433: UserWarning: Converting sparse IndexedSlices to a dense Tensor of unknown shape. This may consume a large amount of memory.\n",
      "  \"Converting sparse IndexedSlices to a dense Tensor of unknown shape. \"\n"
     ]
    },
    {
     "name": "stdout",
     "output_type": "stream",
     "text": [
      "452/452 - 6s - loss: 2.1173 - mse: 2.1165 - val_loss: 1.3944 - val_mse: 1.3922\n",
      "Epoch 2/3\n",
      "452/452 - 6s - loss: 0.6576 - mse: 0.6540 - val_loss: 1.5500 - val_mse: 1.5448\n",
      "Epoch 3/3\n",
      "452/452 - 6s - loss: 0.2940 - mse: 0.2880 - val_loss: 1.5264 - val_mse: 1.5195\n",
      "MSE: 1.5970777\n",
      "optimizer:Adam | embedding_dim:32 | lr:0.0001 | dropout:0.5 | hidden_units:(128, 128) | epochs:5 | batch_size:32\n",
      "Epoch 1/5\n"
     ]
    },
    {
     "name": "stderr",
     "output_type": "stream",
     "text": [
      "C:\\Users\\Montr\\anaconda3\\lib\\site-packages\\tensorflow\\python\\framework\\indexed_slices.py:433: UserWarning: Converting sparse IndexedSlices to a dense Tensor of unknown shape. This may consume a large amount of memory.\n",
      "  \"Converting sparse IndexedSlices to a dense Tensor of unknown shape. \"\n"
     ]
    },
    {
     "name": "stdout",
     "output_type": "stream",
     "text": [
      "904/904 - 12s - loss: 1.8022 - mse: 1.8008 - val_loss: 1.4046 - val_mse: 1.4008\n",
      "Epoch 2/5\n",
      "904/904 - 12s - loss: 0.6734 - mse: 0.6673 - val_loss: 1.6853 - val_mse: 1.6765\n",
      "Epoch 3/5\n",
      "904/904 - 12s - loss: 0.3370 - mse: 0.3268 - val_loss: 1.4869 - val_mse: 1.4751\n",
      "Epoch 4/5\n",
      "904/904 - 12s - loss: 0.1893 - mse: 0.1767 - val_loss: 1.5444 - val_mse: 1.5309\n",
      "Epoch 5/5\n",
      "904/904 - 12s - loss: 0.1494 - mse: 0.1352 - val_loss: 1.5636 - val_mse: 1.5485\n",
      "MSE: 1.6289573\n",
      "optimizer:Adam | embedding_dim:32 | lr:0.0001 | dropout:0.5 | hidden_units:(128, 128) | epochs:5 | batch_size:64\n",
      "Epoch 1/5\n"
     ]
    },
    {
     "name": "stderr",
     "output_type": "stream",
     "text": [
      "C:\\Users\\Montr\\anaconda3\\lib\\site-packages\\tensorflow\\python\\framework\\indexed_slices.py:433: UserWarning: Converting sparse IndexedSlices to a dense Tensor of unknown shape. This may consume a large amount of memory.\n",
      "  \"Converting sparse IndexedSlices to a dense Tensor of unknown shape. \"\n"
     ]
    },
    {
     "name": "stdout",
     "output_type": "stream",
     "text": [
      "452/452 - 6s - loss: 2.0973 - mse: 2.0964 - val_loss: 1.3970 - val_mse: 1.3948\n",
      "Epoch 2/5\n",
      "452/452 - 6s - loss: 0.6742 - mse: 0.6706 - val_loss: 1.5093 - val_mse: 1.5040\n",
      "Epoch 3/5\n",
      "452/452 - 6s - loss: 0.3012 - mse: 0.2951 - val_loss: 1.5041 - val_mse: 1.4970\n",
      "Epoch 4/5\n",
      "452/452 - 6s - loss: 0.1607 - mse: 0.1531 - val_loss: 1.6146 - val_mse: 1.6065\n",
      "Epoch 5/5\n",
      "452/452 - 6s - loss: 0.1177 - mse: 0.1092 - val_loss: 1.6968 - val_mse: 1.6880\n",
      "MSE: 1.753044\n",
      "optimizer:Adam | embedding_dim:32 | lr:0.0001 | dropout:0.5 | hidden_units:(128, 128) | epochs:3 | batch_size:32\n",
      "Epoch 1/3\n"
     ]
    },
    {
     "name": "stderr",
     "output_type": "stream",
     "text": [
      "C:\\Users\\Montr\\anaconda3\\lib\\site-packages\\tensorflow\\python\\framework\\indexed_slices.py:433: UserWarning: Converting sparse IndexedSlices to a dense Tensor of unknown shape. This may consume a large amount of memory.\n",
      "  \"Converting sparse IndexedSlices to a dense Tensor of unknown shape. \"\n"
     ]
    },
    {
     "name": "stdout",
     "output_type": "stream",
     "text": [
      "904/904 - 12s - loss: 1.8101 - mse: 1.8086 - val_loss: 1.3911 - val_mse: 1.3873\n",
      "Epoch 2/3\n",
      "904/904 - 12s - loss: 0.6235 - mse: 0.6176 - val_loss: 1.4927 - val_mse: 1.4847\n",
      "Epoch 3/3\n",
      "904/904 - 12s - loss: 0.3227 - mse: 0.3131 - val_loss: 1.5263 - val_mse: 1.5149\n",
      "MSE: 1.6223156\n",
      "optimizer:Adam | embedding_dim:32 | lr:0.0001 | dropout:0.5 | hidden_units:(128, 128) | epochs:3 | batch_size:64\n",
      "Epoch 1/3\n"
     ]
    },
    {
     "name": "stderr",
     "output_type": "stream",
     "text": [
      "C:\\Users\\Montr\\anaconda3\\lib\\site-packages\\tensorflow\\python\\framework\\indexed_slices.py:433: UserWarning: Converting sparse IndexedSlices to a dense Tensor of unknown shape. This may consume a large amount of memory.\n",
      "  \"Converting sparse IndexedSlices to a dense Tensor of unknown shape. \"\n"
     ]
    },
    {
     "name": "stdout",
     "output_type": "stream",
     "text": [
      "452/452 - 6s - loss: 2.1104 - mse: 2.1096 - val_loss: 1.4232 - val_mse: 1.4210\n",
      "Epoch 2/3\n",
      "452/452 - 6s - loss: 0.6853 - mse: 0.6817 - val_loss: 1.5025 - val_mse: 1.4971\n",
      "Epoch 3/3\n",
      "452/452 - 6s - loss: 0.3124 - mse: 0.3063 - val_loss: 1.4983 - val_mse: 1.4913\n",
      "MSE: 1.5893292\n",
      "optimizer:Adam | embedding_dim:32 | lr:0.0001 | dropout:0.5 | hidden_units:(128, 128) | epochs:5 | batch_size:32\n",
      "Epoch 1/5\n"
     ]
    },
    {
     "name": "stderr",
     "output_type": "stream",
     "text": [
      "C:\\Users\\Montr\\anaconda3\\lib\\site-packages\\tensorflow\\python\\framework\\indexed_slices.py:433: UserWarning: Converting sparse IndexedSlices to a dense Tensor of unknown shape. This may consume a large amount of memory.\n",
      "  \"Converting sparse IndexedSlices to a dense Tensor of unknown shape. \"\n"
     ]
    },
    {
     "name": "stdout",
     "output_type": "stream",
     "text": [
      "904/904 - 12s - loss: 1.8256 - mse: 1.8242 - val_loss: 1.4375 - val_mse: 1.4337\n",
      "Epoch 2/5\n",
      "904/904 - 12s - loss: 0.6400 - mse: 0.6340 - val_loss: 1.4746 - val_mse: 1.4661\n",
      "Epoch 3/5\n",
      "904/904 - 12s - loss: 0.3206 - mse: 0.3109 - val_loss: 1.5288 - val_mse: 1.5174\n",
      "Epoch 4/5\n",
      "904/904 - 12s - loss: 0.1770 - mse: 0.1649 - val_loss: 1.5791 - val_mse: 1.5660\n",
      "Epoch 5/5\n",
      "904/904 - 12s - loss: 0.1344 - mse: 0.1207 - val_loss: 1.6192 - val_mse: 1.6048\n",
      "MSE: 1.6990259\n",
      "optimizer:Adam | embedding_dim:32 | lr:0.0001 | dropout:0.5 | hidden_units:(128, 128) | epochs:5 | batch_size:64\n",
      "Epoch 1/5\n"
     ]
    },
    {
     "name": "stderr",
     "output_type": "stream",
     "text": [
      "C:\\Users\\Montr\\anaconda3\\lib\\site-packages\\tensorflow\\python\\framework\\indexed_slices.py:433: UserWarning: Converting sparse IndexedSlices to a dense Tensor of unknown shape. This may consume a large amount of memory.\n",
      "  \"Converting sparse IndexedSlices to a dense Tensor of unknown shape. \"\n"
     ]
    },
    {
     "name": "stdout",
     "output_type": "stream",
     "text": [
      "452/452 - 7s - loss: 2.1548 - mse: 2.1540 - val_loss: 1.4030 - val_mse: 1.4008\n",
      "Epoch 2/5\n",
      "452/452 - 6s - loss: 0.6804 - mse: 0.6768 - val_loss: 1.5433 - val_mse: 1.5381\n",
      "Epoch 3/5\n",
      "452/452 - 6s - loss: 0.3077 - mse: 0.3016 - val_loss: 1.4911 - val_mse: 1.4842\n",
      "Epoch 4/5\n",
      "452/452 - 6s - loss: 0.1611 - mse: 0.1538 - val_loss: 1.5865 - val_mse: 1.5788\n",
      "Epoch 5/5\n",
      "452/452 - 6s - loss: 0.1122 - mse: 0.1041 - val_loss: 1.6355 - val_mse: 1.6270\n",
      "MSE: 1.7012397\n",
      "optimizer:Adam | embedding_dim:32 | lr:0.0001 | dropout:0.5 | hidden_units:(128, 128) | epochs:3 | batch_size:32\n",
      "Epoch 1/3\n"
     ]
    },
    {
     "name": "stderr",
     "output_type": "stream",
     "text": [
      "C:\\Users\\Montr\\anaconda3\\lib\\site-packages\\tensorflow\\python\\framework\\indexed_slices.py:433: UserWarning: Converting sparse IndexedSlices to a dense Tensor of unknown shape. This may consume a large amount of memory.\n",
      "  \"Converting sparse IndexedSlices to a dense Tensor of unknown shape. \"\n"
     ]
    },
    {
     "name": "stdout",
     "output_type": "stream",
     "text": [
      "904/904 - 12s - loss: 1.8191 - mse: 1.8176 - val_loss: 1.4618 - val_mse: 1.4580\n",
      "Epoch 2/3\n",
      "904/904 - 12s - loss: 0.6483 - mse: 0.6422 - val_loss: 1.4883 - val_mse: 1.4796\n",
      "Epoch 3/3\n",
      "904/904 - 12s - loss: 0.3188 - mse: 0.3087 - val_loss: 1.5026 - val_mse: 1.4910\n",
      "MSE: 1.5895506\n",
      "optimizer:Adam | embedding_dim:32 | lr:0.0001 | dropout:0.5 | hidden_units:(128, 128) | epochs:3 | batch_size:64\n",
      "Epoch 1/3\n"
     ]
    },
    {
     "name": "stderr",
     "output_type": "stream",
     "text": [
      "C:\\Users\\Montr\\anaconda3\\lib\\site-packages\\tensorflow\\python\\framework\\indexed_slices.py:433: UserWarning: Converting sparse IndexedSlices to a dense Tensor of unknown shape. This may consume a large amount of memory.\n",
      "  \"Converting sparse IndexedSlices to a dense Tensor of unknown shape. \"\n"
     ]
    },
    {
     "name": "stdout",
     "output_type": "stream",
     "text": [
      "452/452 - 7s - loss: 2.1070 - mse: 2.1061 - val_loss: 1.3925 - val_mse: 1.3903\n",
      "Epoch 2/3\n",
      "452/452 - 6s - loss: 0.6766 - mse: 0.6729 - val_loss: 1.4921 - val_mse: 1.4867\n",
      "Epoch 3/3\n",
      "452/452 - 6s - loss: 0.3107 - mse: 0.3044 - val_loss: 1.4994 - val_mse: 1.4922\n",
      "MSE: 1.5790348\n",
      "optimizer:Adam | embedding_dim:32 | lr:0.0001 | dropout:0.5 | hidden_units:(128, 128) | epochs:5 | batch_size:32\n",
      "Epoch 1/5\n"
     ]
    },
    {
     "name": "stderr",
     "output_type": "stream",
     "text": [
      "C:\\Users\\Montr\\anaconda3\\lib\\site-packages\\tensorflow\\python\\framework\\indexed_slices.py:433: UserWarning: Converting sparse IndexedSlices to a dense Tensor of unknown shape. This may consume a large amount of memory.\n",
      "  \"Converting sparse IndexedSlices to a dense Tensor of unknown shape. \"\n"
     ]
    },
    {
     "name": "stdout",
     "output_type": "stream",
     "text": [
      "904/904 - 12s - loss: 1.8174 - mse: 1.8159 - val_loss: 1.4030 - val_mse: 1.3991\n",
      "Epoch 2/5\n",
      "904/904 - 11s - loss: 0.6464 - mse: 0.6403 - val_loss: 1.5437 - val_mse: 1.5354\n",
      "Epoch 3/5\n",
      "904/904 - 12s - loss: 0.2993 - mse: 0.2896 - val_loss: 1.5640 - val_mse: 1.5526\n",
      "Epoch 4/5\n",
      "904/904 - 12s - loss: 0.1765 - mse: 0.1645 - val_loss: 1.6926 - val_mse: 1.6797\n",
      "Epoch 5/5\n",
      "904/904 - 12s - loss: 0.1392 - mse: 0.1259 - val_loss: 1.5853 - val_mse: 1.5714\n",
      "MSE: 1.6702458\n",
      "optimizer:Adam | embedding_dim:32 | lr:0.0001 | dropout:0.5 | hidden_units:(128, 128) | epochs:5 | batch_size:64\n",
      "Epoch 1/5\n"
     ]
    },
    {
     "name": "stderr",
     "output_type": "stream",
     "text": [
      "C:\\Users\\Montr\\anaconda3\\lib\\site-packages\\tensorflow\\python\\framework\\indexed_slices.py:433: UserWarning: Converting sparse IndexedSlices to a dense Tensor of unknown shape. This may consume a large amount of memory.\n",
      "  \"Converting sparse IndexedSlices to a dense Tensor of unknown shape. \"\n"
     ]
    },
    {
     "name": "stdout",
     "output_type": "stream",
     "text": [
      "452/452 - 6s - loss: 2.0928 - mse: 2.0920 - val_loss: 1.3917 - val_mse: 1.3896\n",
      "Epoch 2/5\n",
      "452/452 - 6s - loss: 0.7060 - mse: 0.7024 - val_loss: 1.6252 - val_mse: 1.6200\n",
      "Epoch 3/5\n",
      "452/452 - 6s - loss: 0.3323 - mse: 0.3262 - val_loss: 1.4865 - val_mse: 1.4794\n",
      "Epoch 4/5\n",
      "452/452 - 6s - loss: 0.1732 - mse: 0.1657 - val_loss: 1.5776 - val_mse: 1.5695\n",
      "Epoch 5/5\n",
      "452/452 - 6s - loss: 0.1223 - mse: 0.1138 - val_loss: 1.5715 - val_mse: 1.5626\n",
      "MSE: 1.6446756\n",
      "optimizer:Adam | embedding_dim:32 | lr:0.0001 | dropout:0.5 | hidden_units:(128, 128) | epochs:3 | batch_size:32\n",
      "Epoch 1/3\n"
     ]
    },
    {
     "name": "stderr",
     "output_type": "stream",
     "text": [
      "C:\\Users\\Montr\\anaconda3\\lib\\site-packages\\tensorflow\\python\\framework\\indexed_slices.py:433: UserWarning: Converting sparse IndexedSlices to a dense Tensor of unknown shape. This may consume a large amount of memory.\n",
      "  \"Converting sparse IndexedSlices to a dense Tensor of unknown shape. \"\n"
     ]
    },
    {
     "name": "stdout",
     "output_type": "stream",
     "text": [
      "904/904 - 12s - loss: 1.8061 - mse: 1.8046 - val_loss: 1.3948 - val_mse: 1.3909\n",
      "Epoch 2/3\n",
      "904/904 - 12s - loss: 0.6451 - mse: 0.6390 - val_loss: 1.5051 - val_mse: 1.4966\n",
      "Epoch 3/3\n",
      "904/904 - 12s - loss: 0.3201 - mse: 0.3102 - val_loss: 1.5447 - val_mse: 1.5332\n",
      "MSE: 1.643458\n",
      "optimizer:Adam | embedding_dim:32 | lr:0.0001 | dropout:0.5 | hidden_units:(128, 128) | epochs:3 | batch_size:64\n",
      "Epoch 1/3\n"
     ]
    },
    {
     "name": "stderr",
     "output_type": "stream",
     "text": [
      "C:\\Users\\Montr\\anaconda3\\lib\\site-packages\\tensorflow\\python\\framework\\indexed_slices.py:433: UserWarning: Converting sparse IndexedSlices to a dense Tensor of unknown shape. This may consume a large amount of memory.\n",
      "  \"Converting sparse IndexedSlices to a dense Tensor of unknown shape. \"\n"
     ]
    },
    {
     "name": "stdout",
     "output_type": "stream",
     "text": [
      "452/452 - 6s - loss: 2.1384 - mse: 2.1376 - val_loss: 1.3922 - val_mse: 1.3901\n",
      "Epoch 2/3\n",
      "452/452 - 6s - loss: 0.6769 - mse: 0.6733 - val_loss: 1.5261 - val_mse: 1.5208\n",
      "Epoch 3/3\n",
      "452/452 - 6s - loss: 0.3041 - mse: 0.2980 - val_loss: 1.5562 - val_mse: 1.5492\n",
      "MSE: 1.6631614\n",
      "optimizer:Adam | embedding_dim:32 | lr:0.0001 | dropout:0.5 | hidden_units:(128, 128) | epochs:5 | batch_size:32\n",
      "Epoch 1/5\n"
     ]
    },
    {
     "name": "stderr",
     "output_type": "stream",
     "text": [
      "C:\\Users\\Montr\\anaconda3\\lib\\site-packages\\tensorflow\\python\\framework\\indexed_slices.py:433: UserWarning: Converting sparse IndexedSlices to a dense Tensor of unknown shape. This may consume a large amount of memory.\n",
      "  \"Converting sparse IndexedSlices to a dense Tensor of unknown shape. \"\n"
     ]
    },
    {
     "name": "stdout",
     "output_type": "stream",
     "text": [
      "904/904 - 12s - loss: 1.8319 - mse: 1.8304 - val_loss: 1.4042 - val_mse: 1.4004\n",
      "Epoch 2/5\n",
      "904/904 - 12s - loss: 0.6531 - mse: 0.6469 - val_loss: 1.6687 - val_mse: 1.6599\n",
      "Epoch 3/5\n",
      "904/904 - 12s - loss: 0.3224 - mse: 0.3121 - val_loss: 1.5282 - val_mse: 1.5162\n",
      "Epoch 4/5\n",
      "904/904 - 12s - loss: 0.1741 - mse: 0.1614 - val_loss: 1.6573 - val_mse: 1.6438\n",
      "Epoch 5/5\n",
      "904/904 - 12s - loss: 0.1389 - mse: 0.1250 - val_loss: 1.6290 - val_mse: 1.6143\n",
      "MSE: 1.7092097\n",
      "optimizer:Adam | embedding_dim:32 | lr:0.0001 | dropout:0.5 | hidden_units:(128, 128) | epochs:5 | batch_size:64\n",
      "Epoch 1/5\n"
     ]
    },
    {
     "name": "stderr",
     "output_type": "stream",
     "text": [
      "C:\\Users\\Montr\\anaconda3\\lib\\site-packages\\tensorflow\\python\\framework\\indexed_slices.py:433: UserWarning: Converting sparse IndexedSlices to a dense Tensor of unknown shape. This may consume a large amount of memory.\n",
      "  \"Converting sparse IndexedSlices to a dense Tensor of unknown shape. \"\n"
     ]
    },
    {
     "name": "stdout",
     "output_type": "stream",
     "text": [
      "452/452 - 6s - loss: 2.1200 - mse: 2.1192 - val_loss: 1.3975 - val_mse: 1.3953\n",
      "Epoch 2/5\n",
      "452/452 - 6s - loss: 0.7061 - mse: 0.7024 - val_loss: 1.5663 - val_mse: 1.5609\n",
      "Epoch 3/5\n",
      "452/452 - 6s - loss: 0.3187 - mse: 0.3125 - val_loss: 1.4880 - val_mse: 1.4810\n",
      "Epoch 4/5\n",
      "452/452 - 6s - loss: 0.1713 - mse: 0.1638 - val_loss: 1.6193 - val_mse: 1.6112\n",
      "Epoch 5/5\n",
      "452/452 - 6s - loss: 0.1166 - mse: 0.1081 - val_loss: 1.6550 - val_mse: 1.6461\n",
      "MSE: 1.7356653\n",
      "optimizer:Adam | embedding_dim:32 | lr:0.0001 | dropout:0.5 | hidden_units:(128, 128) | epochs:3 | batch_size:32\n",
      "Epoch 1/3\n"
     ]
    },
    {
     "name": "stderr",
     "output_type": "stream",
     "text": [
      "C:\\Users\\Montr\\anaconda3\\lib\\site-packages\\tensorflow\\python\\framework\\indexed_slices.py:433: UserWarning: Converting sparse IndexedSlices to a dense Tensor of unknown shape. This may consume a large amount of memory.\n",
      "  \"Converting sparse IndexedSlices to a dense Tensor of unknown shape. \"\n"
     ]
    },
    {
     "name": "stdout",
     "output_type": "stream",
     "text": [
      "904/904 - 13s - loss: 1.8242 - mse: 1.8227 - val_loss: 1.4010 - val_mse: 1.3972\n",
      "Epoch 2/3\n",
      "904/904 - 12s - loss: 0.6204 - mse: 0.6146 - val_loss: 1.4661 - val_mse: 1.4583\n",
      "Epoch 3/3\n",
      "904/904 - 12s - loss: 0.3094 - mse: 0.3001 - val_loss: 1.5176 - val_mse: 1.5065\n",
      "MSE: 1.5798097\n",
      "optimizer:Adam | embedding_dim:32 | lr:0.0001 | dropout:0.5 | hidden_units:(128, 128) | epochs:3 | batch_size:64\n",
      "Epoch 1/3\n"
     ]
    },
    {
     "name": "stderr",
     "output_type": "stream",
     "text": [
      "C:\\Users\\Montr\\anaconda3\\lib\\site-packages\\tensorflow\\python\\framework\\indexed_slices.py:433: UserWarning: Converting sparse IndexedSlices to a dense Tensor of unknown shape. This may consume a large amount of memory.\n",
      "  \"Converting sparse IndexedSlices to a dense Tensor of unknown shape. \"\n"
     ]
    },
    {
     "name": "stdout",
     "output_type": "stream",
     "text": [
      "452/452 - 7s - loss: 2.1447 - mse: 2.1439 - val_loss: 1.4007 - val_mse: 1.3986\n",
      "Epoch 2/3\n",
      "452/452 - 6s - loss: 0.6853 - mse: 0.6816 - val_loss: 1.5198 - val_mse: 1.5142\n",
      "Epoch 3/3\n",
      "452/452 - 6s - loss: 0.3137 - mse: 0.3074 - val_loss: 1.5351 - val_mse: 1.5279\n",
      "MSE: 1.6196591\n",
      "optimizer:Adam | embedding_dim:32 | lr:0.0001 | dropout:0.5 | hidden_units:(128, 128) | epochs:5 | batch_size:32\n",
      "Epoch 1/5\n"
     ]
    },
    {
     "name": "stderr",
     "output_type": "stream",
     "text": [
      "C:\\Users\\Montr\\anaconda3\\lib\\site-packages\\tensorflow\\python\\framework\\indexed_slices.py:433: UserWarning: Converting sparse IndexedSlices to a dense Tensor of unknown shape. This may consume a large amount of memory.\n",
      "  \"Converting sparse IndexedSlices to a dense Tensor of unknown shape. \"\n"
     ]
    },
    {
     "name": "stdout",
     "output_type": "stream",
     "text": [
      "904/904 - 12s - loss: 1.8267 - mse: 1.8252 - val_loss: 1.4089 - val_mse: 1.4051\n",
      "Epoch 2/5\n",
      "904/904 - 12s - loss: 0.6453 - mse: 0.6393 - val_loss: 1.5072 - val_mse: 1.4987\n",
      "Epoch 3/5\n",
      "904/904 - 12s - loss: 0.3248 - mse: 0.3150 - val_loss: 1.5082 - val_mse: 1.4969\n",
      "Epoch 4/5\n",
      "904/904 - 12s - loss: 0.1681 - mse: 0.1563 - val_loss: 1.5625 - val_mse: 1.5500\n",
      "Epoch 5/5\n",
      "904/904 - 12s - loss: 0.1321 - mse: 0.1190 - val_loss: 1.6509 - val_mse: 1.6370\n",
      "MSE: 1.7097632\n",
      "optimizer:Adam | embedding_dim:32 | lr:0.0001 | dropout:0.5 | hidden_units:(128, 128) | epochs:5 | batch_size:64\n",
      "Epoch 1/5\n"
     ]
    },
    {
     "name": "stderr",
     "output_type": "stream",
     "text": [
      "C:\\Users\\Montr\\anaconda3\\lib\\site-packages\\tensorflow\\python\\framework\\indexed_slices.py:433: UserWarning: Converting sparse IndexedSlices to a dense Tensor of unknown shape. This may consume a large amount of memory.\n",
      "  \"Converting sparse IndexedSlices to a dense Tensor of unknown shape. \"\n"
     ]
    },
    {
     "name": "stdout",
     "output_type": "stream",
     "text": [
      "452/452 - 7s - loss: 2.1536 - mse: 2.1528 - val_loss: 1.3930 - val_mse: 1.3908\n",
      "Epoch 2/5\n",
      "452/452 - 6s - loss: 0.6908 - mse: 0.6871 - val_loss: 1.4759 - val_mse: 1.4704\n",
      "Epoch 3/5\n",
      "452/452 - 6s - loss: 0.3176 - mse: 0.3113 - val_loss: 1.5119 - val_mse: 1.5047\n",
      "Epoch 4/5\n",
      "452/452 - 6s - loss: 0.1678 - mse: 0.1602 - val_loss: 1.6003 - val_mse: 1.5923\n",
      "Epoch 5/5\n",
      "452/452 - 6s - loss: 0.1144 - mse: 0.1060 - val_loss: 1.5899 - val_mse: 1.5811\n",
      "MSE: 1.6735666\n",
      "optimizer:Adam | embedding_dim:32 | lr:0.0001 | dropout:0.5 | hidden_units:(128, 128) | epochs:3 | batch_size:32\n",
      "Epoch 1/3\n"
     ]
    },
    {
     "name": "stderr",
     "output_type": "stream",
     "text": [
      "C:\\Users\\Montr\\anaconda3\\lib\\site-packages\\tensorflow\\python\\framework\\indexed_slices.py:433: UserWarning: Converting sparse IndexedSlices to a dense Tensor of unknown shape. This may consume a large amount of memory.\n",
      "  \"Converting sparse IndexedSlices to a dense Tensor of unknown shape. \"\n"
     ]
    },
    {
     "name": "stdout",
     "output_type": "stream",
     "text": [
      "904/904 - 12s - loss: 1.8015 - mse: 1.8001 - val_loss: 1.4026 - val_mse: 1.3988\n",
      "Epoch 2/3\n",
      "904/904 - 12s - loss: 0.6405 - mse: 0.6344 - val_loss: 1.4980 - val_mse: 1.4895\n",
      "Epoch 3/3\n",
      "904/904 - 12s - loss: 0.3137 - mse: 0.3038 - val_loss: 1.5086 - val_mse: 1.4972\n",
      "MSE: 1.5394067\n",
      "optimizer:Adam | embedding_dim:32 | lr:0.0001 | dropout:0.5 | hidden_units:(128, 128) | epochs:3 | batch_size:64\n",
      "Epoch 1/3\n"
     ]
    },
    {
     "name": "stderr",
     "output_type": "stream",
     "text": [
      "C:\\Users\\Montr\\anaconda3\\lib\\site-packages\\tensorflow\\python\\framework\\indexed_slices.py:433: UserWarning: Converting sparse IndexedSlices to a dense Tensor of unknown shape. This may consume a large amount of memory.\n",
      "  \"Converting sparse IndexedSlices to a dense Tensor of unknown shape. \"\n"
     ]
    },
    {
     "name": "stdout",
     "output_type": "stream",
     "text": [
      "452/452 - 6s - loss: 2.1586 - mse: 2.1578 - val_loss: 1.3961 - val_mse: 1.3939\n",
      "Epoch 2/3\n",
      "452/452 - 6s - loss: 0.6891 - mse: 0.6854 - val_loss: 1.5387 - val_mse: 1.5333\n",
      "Epoch 3/3\n",
      "452/452 - 6s - loss: 0.3091 - mse: 0.3030 - val_loss: 1.5162 - val_mse: 1.5093\n",
      "MSE: 1.6074828\n",
      "optimizer:Adam | embedding_dim:32 | lr:0.0001 | dropout:0.5 | hidden_units:(128, 128) | epochs:5 | batch_size:32\n",
      "Epoch 1/5\n"
     ]
    },
    {
     "name": "stderr",
     "output_type": "stream",
     "text": [
      "C:\\Users\\Montr\\anaconda3\\lib\\site-packages\\tensorflow\\python\\framework\\indexed_slices.py:433: UserWarning: Converting sparse IndexedSlices to a dense Tensor of unknown shape. This may consume a large amount of memory.\n",
      "  \"Converting sparse IndexedSlices to a dense Tensor of unknown shape. \"\n"
     ]
    },
    {
     "name": "stdout",
     "output_type": "stream",
     "text": [
      "904/904 - 12s - loss: 1.8596 - mse: 1.8581 - val_loss: 1.4449 - val_mse: 1.4410\n",
      "Epoch 2/5\n",
      "904/904 - 12s - loss: 0.6210 - mse: 0.6151 - val_loss: 1.4625 - val_mse: 1.4545\n",
      "Epoch 3/5\n",
      "904/904 - 12s - loss: 0.3156 - mse: 0.3062 - val_loss: 1.5406 - val_mse: 1.5294\n",
      "Epoch 4/5\n",
      "904/904 - 12s - loss: 0.1864 - mse: 0.1745 - val_loss: 1.5270 - val_mse: 1.5140\n",
      "Epoch 5/5\n",
      "904/904 - 12s - loss: 0.1413 - mse: 0.1277 - val_loss: 1.5940 - val_mse: 1.5795\n",
      "MSE: 1.6489927\n",
      "optimizer:Adam | embedding_dim:32 | lr:0.0001 | dropout:0.5 | hidden_units:(128, 128) | epochs:5 | batch_size:64\n",
      "Epoch 1/5\n"
     ]
    },
    {
     "name": "stderr",
     "output_type": "stream",
     "text": [
      "C:\\Users\\Montr\\anaconda3\\lib\\site-packages\\tensorflow\\python\\framework\\indexed_slices.py:433: UserWarning: Converting sparse IndexedSlices to a dense Tensor of unknown shape. This may consume a large amount of memory.\n",
      "  \"Converting sparse IndexedSlices to a dense Tensor of unknown shape. \"\n"
     ]
    },
    {
     "name": "stdout",
     "output_type": "stream",
     "text": [
      "452/452 - 7s - loss: 2.0947 - mse: 2.0938 - val_loss: 1.3880 - val_mse: 1.3858\n",
      "Epoch 2/5\n",
      "452/452 - 6s - loss: 0.6583 - mse: 0.6548 - val_loss: 1.5047 - val_mse: 1.4998\n",
      "Epoch 3/5\n",
      "452/452 - 6s - loss: 0.2970 - mse: 0.2913 - val_loss: 1.5409 - val_mse: 1.5344\n",
      "Epoch 4/5\n",
      "452/452 - 6s - loss: 0.1562 - mse: 0.1491 - val_loss: 1.5685 - val_mse: 1.5608\n",
      "Epoch 5/5\n",
      "452/452 - 6s - loss: 0.1117 - mse: 0.1038 - val_loss: 1.6254 - val_mse: 1.6171\n",
      "MSE: 1.6990259\n",
      "optimizer:Adam | embedding_dim:32 | lr:0.0001 | dropout:0.5 | hidden_units:(128, 128) | epochs:3 | batch_size:32\n",
      "Epoch 1/3\n"
     ]
    },
    {
     "name": "stderr",
     "output_type": "stream",
     "text": [
      "C:\\Users\\Montr\\anaconda3\\lib\\site-packages\\tensorflow\\python\\framework\\indexed_slices.py:433: UserWarning: Converting sparse IndexedSlices to a dense Tensor of unknown shape. This may consume a large amount of memory.\n",
      "  \"Converting sparse IndexedSlices to a dense Tensor of unknown shape. \"\n"
     ]
    },
    {
     "name": "stdout",
     "output_type": "stream",
     "text": [
      "904/904 - 12s - loss: 1.8036 - mse: 1.8021 - val_loss: 1.3923 - val_mse: 1.3885\n",
      "Epoch 2/3\n",
      "904/904 - 12s - loss: 0.6228 - mse: 0.6169 - val_loss: 1.5069 - val_mse: 1.4990\n",
      "Epoch 3/3\n",
      "904/904 - 12s - loss: 0.3125 - mse: 0.3031 - val_loss: 1.4991 - val_mse: 1.4879\n",
      "MSE: 1.5433916\n",
      "optimizer:Adam | embedding_dim:32 | lr:0.0001 | dropout:0.5 | hidden_units:(128, 128) | epochs:3 | batch_size:64\n",
      "Epoch 1/3\n"
     ]
    },
    {
     "name": "stderr",
     "output_type": "stream",
     "text": [
      "C:\\Users\\Montr\\anaconda3\\lib\\site-packages\\tensorflow\\python\\framework\\indexed_slices.py:433: UserWarning: Converting sparse IndexedSlices to a dense Tensor of unknown shape. This may consume a large amount of memory.\n",
      "  \"Converting sparse IndexedSlices to a dense Tensor of unknown shape. \"\n"
     ]
    },
    {
     "name": "stdout",
     "output_type": "stream",
     "text": [
      "452/452 - 6s - loss: 2.1430 - mse: 2.1422 - val_loss: 1.4045 - val_mse: 1.4023\n",
      "Epoch 2/3\n",
      "452/452 - 6s - loss: 0.6844 - mse: 0.6807 - val_loss: 1.5121 - val_mse: 1.5066\n",
      "Epoch 3/3\n",
      "452/452 - 6s - loss: 0.2953 - mse: 0.2891 - val_loss: 1.5053 - val_mse: 1.4982\n",
      "MSE: 1.5801417\n",
      "optimizer:Adam | embedding_dim:32 | lr:0.0001 | dropout:0.5 | hidden_units:(128, 128) | epochs:5 | batch_size:32\n",
      "Epoch 1/5\n"
     ]
    },
    {
     "name": "stderr",
     "output_type": "stream",
     "text": [
      "C:\\Users\\Montr\\anaconda3\\lib\\site-packages\\tensorflow\\python\\framework\\indexed_slices.py:433: UserWarning: Converting sparse IndexedSlices to a dense Tensor of unknown shape. This may consume a large amount of memory.\n",
      "  \"Converting sparse IndexedSlices to a dense Tensor of unknown shape. \"\n"
     ]
    },
    {
     "name": "stdout",
     "output_type": "stream",
     "text": [
      "904/904 - 12s - loss: 1.8172 - mse: 1.8158 - val_loss: 1.4444 - val_mse: 1.4405\n",
      "Epoch 2/5\n",
      "904/904 - 12s - loss: 0.6293 - mse: 0.6233 - val_loss: 1.5939 - val_mse: 1.5860\n",
      "Epoch 3/5\n",
      "904/904 - 12s - loss: 0.3104 - mse: 0.3010 - val_loss: 1.5226 - val_mse: 1.5114\n",
      "Epoch 4/5\n",
      "904/904 - 12s - loss: 0.1803 - mse: 0.1682 - val_loss: 1.6184 - val_mse: 1.6053\n",
      "Epoch 5/5\n",
      "904/904 - 12s - loss: 0.1319 - mse: 0.1183 - val_loss: 1.6013 - val_mse: 1.5870\n",
      "MSE: 1.6707993\n",
      "optimizer:Adam | embedding_dim:32 | lr:0.0001 | dropout:0.5 | hidden_units:(128, 128) | epochs:5 | batch_size:64\n",
      "Epoch 1/5\n"
     ]
    },
    {
     "name": "stderr",
     "output_type": "stream",
     "text": [
      "C:\\Users\\Montr\\anaconda3\\lib\\site-packages\\tensorflow\\python\\framework\\indexed_slices.py:433: UserWarning: Converting sparse IndexedSlices to a dense Tensor of unknown shape. This may consume a large amount of memory.\n",
      "  \"Converting sparse IndexedSlices to a dense Tensor of unknown shape. \"\n"
     ]
    },
    {
     "name": "stdout",
     "output_type": "stream",
     "text": [
      "452/452 - 7s - loss: 2.0905 - mse: 2.0897 - val_loss: 1.4130 - val_mse: 1.4108\n",
      "Epoch 2/5\n",
      "452/452 - 6s - loss: 0.6897 - mse: 0.6860 - val_loss: 1.5063 - val_mse: 1.5009\n",
      "Epoch 3/5\n",
      "452/452 - 6s - loss: 0.3168 - mse: 0.3105 - val_loss: 1.5122 - val_mse: 1.5052\n",
      "Epoch 4/5\n",
      "452/452 - 6s - loss: 0.1641 - mse: 0.1566 - val_loss: 1.6829 - val_mse: 1.6749\n",
      "Epoch 5/5\n",
      "452/452 - 6s - loss: 0.1163 - mse: 0.1080 - val_loss: 1.6219 - val_mse: 1.6131\n",
      "MSE: 1.6989152\n",
      "optimizer:Adam | embedding_dim:32 | lr:0.0001 | dropout:0.5 | hidden_units:(128, 128) | epochs:3 | batch_size:32\n",
      "Epoch 1/3\n"
     ]
    },
    {
     "name": "stderr",
     "output_type": "stream",
     "text": [
      "C:\\Users\\Montr\\anaconda3\\lib\\site-packages\\tensorflow\\python\\framework\\indexed_slices.py:433: UserWarning: Converting sparse IndexedSlices to a dense Tensor of unknown shape. This may consume a large amount of memory.\n",
      "  \"Converting sparse IndexedSlices to a dense Tensor of unknown shape. \"\n"
     ]
    },
    {
     "name": "stdout",
     "output_type": "stream",
     "text": [
      "904/904 - 12s - loss: 1.7867 - mse: 1.7852 - val_loss: 1.4157 - val_mse: 1.4119\n",
      "Epoch 2/3\n",
      "904/904 - 12s - loss: 0.6445 - mse: 0.6384 - val_loss: 1.5121 - val_mse: 1.5037\n",
      "Epoch 3/3\n",
      "904/904 - 12s - loss: 0.3170 - mse: 0.3073 - val_loss: 1.5045 - val_mse: 1.4932\n",
      "MSE: 1.5830197\n",
      "optimizer:Adam | embedding_dim:32 | lr:0.0001 | dropout:0.5 | hidden_units:(128, 128) | epochs:3 | batch_size:64\n",
      "Epoch 1/3\n"
     ]
    },
    {
     "name": "stderr",
     "output_type": "stream",
     "text": [
      "C:\\Users\\Montr\\anaconda3\\lib\\site-packages\\tensorflow\\python\\framework\\indexed_slices.py:433: UserWarning: Converting sparse IndexedSlices to a dense Tensor of unknown shape. This may consume a large amount of memory.\n",
      "  \"Converting sparse IndexedSlices to a dense Tensor of unknown shape. \"\n"
     ]
    },
    {
     "name": "stdout",
     "output_type": "stream",
     "text": [
      "452/452 - 7s - loss: 2.1289 - mse: 2.1281 - val_loss: 1.3863 - val_mse: 1.3841\n",
      "Epoch 2/3\n",
      "452/452 - 6s - loss: 0.6728 - mse: 0.6691 - val_loss: 1.5213 - val_mse: 1.5161\n",
      "Epoch 3/3\n",
      "452/452 - 6s - loss: 0.3044 - mse: 0.2984 - val_loss: 1.5209 - val_mse: 1.5141\n",
      "MSE: 1.5930928\n",
      "optimizer:Adam | embedding_dim:32 | lr:0.0001 | dropout:0.5 | hidden_units:(128, 128) | epochs:5 | batch_size:32\n",
      "Epoch 1/5\n"
     ]
    },
    {
     "name": "stderr",
     "output_type": "stream",
     "text": [
      "C:\\Users\\Montr\\anaconda3\\lib\\site-packages\\tensorflow\\python\\framework\\indexed_slices.py:433: UserWarning: Converting sparse IndexedSlices to a dense Tensor of unknown shape. This may consume a large amount of memory.\n",
      "  \"Converting sparse IndexedSlices to a dense Tensor of unknown shape. \"\n"
     ]
    },
    {
     "name": "stdout",
     "output_type": "stream",
     "text": [
      "904/904 - 12s - loss: 1.7998 - mse: 1.7984 - val_loss: 1.4635 - val_mse: 1.4597\n",
      "Epoch 2/5\n",
      "904/904 - 12s - loss: 0.6419 - mse: 0.6359 - val_loss: 1.5318 - val_mse: 1.5234\n",
      "Epoch 3/5\n",
      "904/904 - 12s - loss: 0.3244 - mse: 0.3146 - val_loss: 1.5858 - val_mse: 1.5744\n",
      "Epoch 4/5\n",
      "904/904 - 12s - loss: 0.1870 - mse: 0.1747 - val_loss: 1.6113 - val_mse: 1.5982\n",
      "Epoch 5/5\n",
      "904/904 - 12s - loss: 0.1407 - mse: 0.1270 - val_loss: 1.6021 - val_mse: 1.5876\n",
      "MSE: 1.687846\n",
      "optimizer:Adam | embedding_dim:32 | lr:0.0001 | dropout:0.5 | hidden_units:(128, 128) | epochs:5 | batch_size:64\n",
      "Epoch 1/5\n"
     ]
    },
    {
     "name": "stderr",
     "output_type": "stream",
     "text": [
      "C:\\Users\\Montr\\anaconda3\\lib\\site-packages\\tensorflow\\python\\framework\\indexed_slices.py:433: UserWarning: Converting sparse IndexedSlices to a dense Tensor of unknown shape. This may consume a large amount of memory.\n",
      "  \"Converting sparse IndexedSlices to a dense Tensor of unknown shape. \"\n"
     ]
    },
    {
     "name": "stdout",
     "output_type": "stream",
     "text": [
      "452/452 - 6s - loss: 2.1355 - mse: 2.1347 - val_loss: 1.4025 - val_mse: 1.4003\n",
      "Epoch 2/5\n",
      "452/452 - 6s - loss: 0.6865 - mse: 0.6828 - val_loss: 1.5138 - val_mse: 1.5083\n",
      "Epoch 3/5\n",
      "452/452 - 6s - loss: 0.2990 - mse: 0.2928 - val_loss: 1.5172 - val_mse: 1.5101\n",
      "Epoch 4/5\n",
      "452/452 - 6s - loss: 0.1660 - mse: 0.1584 - val_loss: 1.6633 - val_mse: 1.6551\n",
      "Epoch 5/5\n",
      "452/452 - 6s - loss: 0.1148 - mse: 0.1063 - val_loss: 1.6253 - val_mse: 1.6164\n",
      "MSE: 1.7054461\n",
      "optimizer:Adam | embedding_dim:32 | lr:0.0001 | dropout:0.5 | hidden_units:(128, 128) | epochs:3 | batch_size:32\n",
      "Epoch 1/3\n"
     ]
    },
    {
     "name": "stderr",
     "output_type": "stream",
     "text": [
      "C:\\Users\\Montr\\anaconda3\\lib\\site-packages\\tensorflow\\python\\framework\\indexed_slices.py:433: UserWarning: Converting sparse IndexedSlices to a dense Tensor of unknown shape. This may consume a large amount of memory.\n",
      "  \"Converting sparse IndexedSlices to a dense Tensor of unknown shape. \"\n"
     ]
    },
    {
     "name": "stdout",
     "output_type": "stream",
     "text": [
      "904/904 - 12s - loss: 1.8049 - mse: 1.8034 - val_loss: 1.4075 - val_mse: 1.4036\n",
      "Epoch 2/3\n",
      "904/904 - 12s - loss: 0.6256 - mse: 0.6197 - val_loss: 1.5241 - val_mse: 1.5161\n",
      "Epoch 3/3\n",
      "904/904 - 12s - loss: 0.3078 - mse: 0.2982 - val_loss: 1.4810 - val_mse: 1.4696\n",
      "MSE: 1.5261235\n",
      "optimizer:Adam | embedding_dim:32 | lr:0.0001 | dropout:0.5 | hidden_units:(128, 128) | epochs:3 | batch_size:64\n",
      "Epoch 1/3\n"
     ]
    },
    {
     "name": "stderr",
     "output_type": "stream",
     "text": [
      "C:\\Users\\Montr\\anaconda3\\lib\\site-packages\\tensorflow\\python\\framework\\indexed_slices.py:433: UserWarning: Converting sparse IndexedSlices to a dense Tensor of unknown shape. This may consume a large amount of memory.\n",
      "  \"Converting sparse IndexedSlices to a dense Tensor of unknown shape. \"\n"
     ]
    },
    {
     "name": "stdout",
     "output_type": "stream",
     "text": [
      "452/452 - 7s - loss: 2.1366 - mse: 2.1358 - val_loss: 1.4053 - val_mse: 1.4031\n",
      "Epoch 2/3\n",
      "452/452 - 6s - loss: 0.6705 - mse: 0.6668 - val_loss: 1.5372 - val_mse: 1.5318\n",
      "Epoch 3/3\n",
      "452/452 - 6s - loss: 0.3039 - mse: 0.2978 - val_loss: 1.5633 - val_mse: 1.5563\n",
      "MSE: 1.6671463\n",
      "optimizer:Adam | embedding_dim:32 | lr:0.0001 | dropout:0.5 | hidden_units:(128, 128) | epochs:5 | batch_size:32\n",
      "Epoch 1/5\n"
     ]
    },
    {
     "name": "stderr",
     "output_type": "stream",
     "text": [
      "C:\\Users\\Montr\\anaconda3\\lib\\site-packages\\tensorflow\\python\\framework\\indexed_slices.py:433: UserWarning: Converting sparse IndexedSlices to a dense Tensor of unknown shape. This may consume a large amount of memory.\n",
      "  \"Converting sparse IndexedSlices to a dense Tensor of unknown shape. \"\n"
     ]
    },
    {
     "name": "stdout",
     "output_type": "stream",
     "text": [
      "904/904 - 12s - loss: 1.8180 - mse: 1.8166 - val_loss: 1.4443 - val_mse: 1.4405\n",
      "Epoch 2/5\n",
      "904/904 - 12s - loss: 0.6450 - mse: 0.6389 - val_loss: 1.4994 - val_mse: 1.4909\n",
      "Epoch 3/5\n",
      "904/904 - 12s - loss: 0.3240 - mse: 0.3141 - val_loss: 1.4937 - val_mse: 1.4822\n",
      "Epoch 4/5\n",
      "904/904 - 12s - loss: 0.1799 - mse: 0.1676 - val_loss: 1.5644 - val_mse: 1.5511\n",
      "Epoch 5/5\n",
      "904/904 - 12s - loss: 0.1269 - mse: 0.1131 - val_loss: 1.6210 - val_mse: 1.6065\n",
      "MSE: 1.705114\n",
      "optimizer:Adam | embedding_dim:32 | lr:0.0001 | dropout:0.5 | hidden_units:(128, 128) | epochs:5 | batch_size:64\n",
      "Epoch 1/5\n"
     ]
    },
    {
     "name": "stderr",
     "output_type": "stream",
     "text": [
      "C:\\Users\\Montr\\anaconda3\\lib\\site-packages\\tensorflow\\python\\framework\\indexed_slices.py:433: UserWarning: Converting sparse IndexedSlices to a dense Tensor of unknown shape. This may consume a large amount of memory.\n",
      "  \"Converting sparse IndexedSlices to a dense Tensor of unknown shape. \"\n"
     ]
    },
    {
     "name": "stdout",
     "output_type": "stream",
     "text": [
      "452/452 - 6s - loss: 2.1671 - mse: 2.1663 - val_loss: 1.4013 - val_mse: 1.3991\n",
      "Epoch 2/5\n",
      "452/452 - 6s - loss: 0.6747 - mse: 0.6710 - val_loss: 1.5188 - val_mse: 1.5135\n",
      "Epoch 3/5\n",
      "452/452 - 6s - loss: 0.3097 - mse: 0.3037 - val_loss: 1.5270 - val_mse: 1.5201\n",
      "Epoch 4/5\n",
      "452/452 - 6s - loss: 0.1638 - mse: 0.1564 - val_loss: 1.6457 - val_mse: 1.6377\n",
      "Epoch 5/5\n",
      "452/452 - 6s - loss: 0.1154 - mse: 0.1072 - val_loss: 1.6543 - val_mse: 1.6456\n",
      "MSE: 1.734337\n",
      "optimizer:Adam | embedding_dim:32 | lr:0.0001 | dropout:0.5 | hidden_units:(128, 128) | epochs:3 | batch_size:32\n",
      "Epoch 1/3\n"
     ]
    },
    {
     "name": "stderr",
     "output_type": "stream",
     "text": [
      "C:\\Users\\Montr\\anaconda3\\lib\\site-packages\\tensorflow\\python\\framework\\indexed_slices.py:433: UserWarning: Converting sparse IndexedSlices to a dense Tensor of unknown shape. This may consume a large amount of memory.\n",
      "  \"Converting sparse IndexedSlices to a dense Tensor of unknown shape. \"\n"
     ]
    },
    {
     "name": "stdout",
     "output_type": "stream",
     "text": [
      "904/904 - 12s - loss: 1.8069 - mse: 1.8055 - val_loss: 1.4047 - val_mse: 1.4009\n",
      "Epoch 2/3\n",
      "904/904 - 12s - loss: 0.6310 - mse: 0.6250 - val_loss: 1.4636 - val_mse: 1.4554\n",
      "Epoch 3/3\n",
      "904/904 - 12s - loss: 0.3230 - mse: 0.3135 - val_loss: 1.5993 - val_mse: 1.5879\n",
      "MSE: 1.6688067\n",
      "optimizer:Adam | embedding_dim:32 | lr:0.0001 | dropout:0.5 | hidden_units:(128, 128) | epochs:3 | batch_size:64\n",
      "Epoch 1/3\n"
     ]
    },
    {
     "name": "stderr",
     "output_type": "stream",
     "text": [
      "C:\\Users\\Montr\\anaconda3\\lib\\site-packages\\tensorflow\\python\\framework\\indexed_slices.py:433: UserWarning: Converting sparse IndexedSlices to a dense Tensor of unknown shape. This may consume a large amount of memory.\n",
      "  \"Converting sparse IndexedSlices to a dense Tensor of unknown shape. \"\n"
     ]
    },
    {
     "name": "stdout",
     "output_type": "stream",
     "text": [
      "452/452 - 6s - loss: 2.1766 - mse: 2.1758 - val_loss: 1.3934 - val_mse: 1.3912\n",
      "Epoch 2/3\n",
      "452/452 - 6s - loss: 0.6827 - mse: 0.6790 - val_loss: 1.5274 - val_mse: 1.5218\n",
      "Epoch 3/3\n",
      "452/452 - 6s - loss: 0.3025 - mse: 0.2961 - val_loss: 1.5365 - val_mse: 1.5291\n",
      "MSE: 1.609586\n",
      "optimizer:Adam | embedding_dim:32 | lr:0.0001 | dropout:0.5 | hidden_units:(128, 128) | epochs:5 | batch_size:32\n",
      "Epoch 1/5\n"
     ]
    },
    {
     "name": "stderr",
     "output_type": "stream",
     "text": [
      "C:\\Users\\Montr\\anaconda3\\lib\\site-packages\\tensorflow\\python\\framework\\indexed_slices.py:433: UserWarning: Converting sparse IndexedSlices to a dense Tensor of unknown shape. This may consume a large amount of memory.\n",
      "  \"Converting sparse IndexedSlices to a dense Tensor of unknown shape. \"\n"
     ]
    },
    {
     "name": "stdout",
     "output_type": "stream",
     "text": [
      "904/904 - 13s - loss: 1.8169 - mse: 1.8155 - val_loss: 1.3951 - val_mse: 1.3913\n",
      "Epoch 2/5\n",
      "904/904 - 13s - loss: 0.6556 - mse: 0.6497 - val_loss: 1.4901 - val_mse: 1.4819\n",
      "Epoch 3/5\n",
      "904/904 - 13s - loss: 0.3094 - mse: 0.2998 - val_loss: 1.5804 - val_mse: 1.5692\n",
      "Epoch 4/5\n",
      "904/904 - 13s - loss: 0.1765 - mse: 0.1647 - val_loss: 1.5564 - val_mse: 1.5438\n",
      "Epoch 5/5\n",
      "904/904 - 14s - loss: 0.1390 - mse: 0.1259 - val_loss: 1.5493 - val_mse: 1.5354\n",
      "MSE: 1.6256365\n",
      "optimizer:Adam | embedding_dim:32 | lr:0.0001 | dropout:0.5 | hidden_units:(128, 128) | epochs:5 | batch_size:64\n",
      "Epoch 1/5\n"
     ]
    },
    {
     "name": "stderr",
     "output_type": "stream",
     "text": [
      "C:\\Users\\Montr\\anaconda3\\lib\\site-packages\\tensorflow\\python\\framework\\indexed_slices.py:433: UserWarning: Converting sparse IndexedSlices to a dense Tensor of unknown shape. This may consume a large amount of memory.\n",
      "  \"Converting sparse IndexedSlices to a dense Tensor of unknown shape. \"\n"
     ]
    },
    {
     "name": "stdout",
     "output_type": "stream",
     "text": [
      "452/452 - 8s - loss: 2.1266 - mse: 2.1258 - val_loss: 1.3878 - val_mse: 1.3856\n",
      "Epoch 2/5\n",
      "452/452 - 7s - loss: 0.6685 - mse: 0.6649 - val_loss: 1.5201 - val_mse: 1.5149\n",
      "Epoch 3/5\n",
      "452/452 - 6s - loss: 0.3024 - mse: 0.2964 - val_loss: 1.5141 - val_mse: 1.5073\n",
      "Epoch 4/5\n",
      "452/452 - 6s - loss: 0.1703 - mse: 0.1631 - val_loss: 1.6262 - val_mse: 1.6184\n",
      "Epoch 5/5\n",
      "452/452 - 6s - loss: 0.1191 - mse: 0.1109 - val_loss: 1.6064 - val_mse: 1.5977\n",
      "MSE: 1.6742307\n",
      "optimizer:Adam | embedding_dim:32 | lr:0.0001 | dropout:0.5 | hidden_units:(128, 128) | epochs:3 | batch_size:32\n",
      "Epoch 1/3\n"
     ]
    },
    {
     "name": "stderr",
     "output_type": "stream",
     "text": [
      "C:\\Users\\Montr\\anaconda3\\lib\\site-packages\\tensorflow\\python\\framework\\indexed_slices.py:433: UserWarning: Converting sparse IndexedSlices to a dense Tensor of unknown shape. This may consume a large amount of memory.\n",
      "  \"Converting sparse IndexedSlices to a dense Tensor of unknown shape. \"\n"
     ]
    },
    {
     "name": "stdout",
     "output_type": "stream",
     "text": [
      "904/904 - 12s - loss: 1.8168 - mse: 1.8153 - val_loss: 1.4170 - val_mse: 1.4132\n",
      "Epoch 2/3\n",
      "904/904 - 12s - loss: 0.6315 - mse: 0.6256 - val_loss: 1.4735 - val_mse: 1.4653\n",
      "Epoch 3/3\n",
      "904/904 - 12s - loss: 0.3066 - mse: 0.2971 - val_loss: 1.5675 - val_mse: 1.5563\n",
      "MSE: 1.6473323\n",
      "optimizer:Adam | embedding_dim:32 | lr:0.0001 | dropout:0.5 | hidden_units:(128, 128) | epochs:3 | batch_size:64\n",
      "Epoch 1/3\n"
     ]
    },
    {
     "name": "stderr",
     "output_type": "stream",
     "text": [
      "C:\\Users\\Montr\\anaconda3\\lib\\site-packages\\tensorflow\\python\\framework\\indexed_slices.py:433: UserWarning: Converting sparse IndexedSlices to a dense Tensor of unknown shape. This may consume a large amount of memory.\n",
      "  \"Converting sparse IndexedSlices to a dense Tensor of unknown shape. \"\n"
     ]
    },
    {
     "name": "stdout",
     "output_type": "stream",
     "text": [
      "452/452 - 6s - loss: 2.1218 - mse: 2.1210 - val_loss: 1.4028 - val_mse: 1.4006\n",
      "Epoch 2/3\n",
      "452/452 - 6s - loss: 0.6821 - mse: 0.6784 - val_loss: 1.4835 - val_mse: 1.4781\n",
      "Epoch 3/3\n",
      "452/452 - 6s - loss: 0.3190 - mse: 0.3128 - val_loss: 1.5322 - val_mse: 1.5250\n",
      "MSE: 1.6260792\n",
      "optimizer:Adam | embedding_dim:32 | lr:0.0001 | dropout:0.5 | hidden_units:(128, 128) | epochs:5 | batch_size:32\n",
      "Epoch 1/5\n"
     ]
    },
    {
     "name": "stderr",
     "output_type": "stream",
     "text": [
      "C:\\Users\\Montr\\anaconda3\\lib\\site-packages\\tensorflow\\python\\framework\\indexed_slices.py:433: UserWarning: Converting sparse IndexedSlices to a dense Tensor of unknown shape. This may consume a large amount of memory.\n",
      "  \"Converting sparse IndexedSlices to a dense Tensor of unknown shape. \"\n"
     ]
    },
    {
     "name": "stdout",
     "output_type": "stream",
     "text": [
      "904/904 - 12s - loss: 1.8128 - mse: 1.8113 - val_loss: 1.4094 - val_mse: 1.4057\n",
      "Epoch 2/5\n",
      "904/904 - 12s - loss: 0.6648 - mse: 0.6589 - val_loss: 1.7768 - val_mse: 1.7687\n",
      "Epoch 3/5\n",
      "904/904 - 12s - loss: 0.3108 - mse: 0.3012 - val_loss: 1.5490 - val_mse: 1.5378\n",
      "Epoch 4/5\n",
      "904/904 - 12s - loss: 0.1726 - mse: 0.1608 - val_loss: 1.6716 - val_mse: 1.6590\n",
      "Epoch 5/5\n",
      "904/904 - 12s - loss: 0.1336 - mse: 0.1205 - val_loss: 1.5986 - val_mse: 1.5848\n",
      "MSE: 1.6617224\n",
      "optimizer:Adam | embedding_dim:32 | lr:0.0001 | dropout:0.5 | hidden_units:(128, 128) | epochs:5 | batch_size:64\n",
      "Epoch 1/5\n"
     ]
    },
    {
     "name": "stderr",
     "output_type": "stream",
     "text": [
      "C:\\Users\\Montr\\anaconda3\\lib\\site-packages\\tensorflow\\python\\framework\\indexed_slices.py:433: UserWarning: Converting sparse IndexedSlices to a dense Tensor of unknown shape. This may consume a large amount of memory.\n",
      "  \"Converting sparse IndexedSlices to a dense Tensor of unknown shape. \"\n"
     ]
    },
    {
     "name": "stdout",
     "output_type": "stream",
     "text": [
      "452/452 - 7s - loss: 2.1220 - mse: 2.1212 - val_loss: 1.3960 - val_mse: 1.3938\n",
      "Epoch 2/5\n",
      "452/452 - 6s - loss: 0.6668 - mse: 0.6632 - val_loss: 1.5342 - val_mse: 1.5288\n",
      "Epoch 3/5\n",
      "452/452 - 6s - loss: 0.3103 - mse: 0.3042 - val_loss: 1.5027 - val_mse: 1.4957\n",
      "Epoch 4/5\n",
      "452/452 - 6s - loss: 0.1620 - mse: 0.1545 - val_loss: 1.6261 - val_mse: 1.6181\n",
      "Epoch 5/5\n",
      "452/452 - 6s - loss: 0.1141 - mse: 0.1058 - val_loss: 1.5562 - val_mse: 1.5475\n",
      "MSE: 1.633385\n",
      "optimizer:Adam | embedding_dim:32 | lr:0.0001 | dropout:0.5 | hidden_units:(128, 128) | epochs:3 | batch_size:32\n",
      "Epoch 1/3\n"
     ]
    },
    {
     "name": "stderr",
     "output_type": "stream",
     "text": [
      "C:\\Users\\Montr\\anaconda3\\lib\\site-packages\\tensorflow\\python\\framework\\indexed_slices.py:433: UserWarning: Converting sparse IndexedSlices to a dense Tensor of unknown shape. This may consume a large amount of memory.\n",
      "  \"Converting sparse IndexedSlices to a dense Tensor of unknown shape. \"\n"
     ]
    },
    {
     "name": "stdout",
     "output_type": "stream",
     "text": [
      "904/904 - 12s - loss: 1.8126 - mse: 1.8111 - val_loss: 1.3940 - val_mse: 1.3902\n",
      "Epoch 2/3\n",
      "904/904 - 12s - loss: 0.6323 - mse: 0.6264 - val_loss: 1.5029 - val_mse: 1.4948\n",
      "Epoch 3/3\n",
      "904/904 - 12s - loss: 0.3197 - mse: 0.3102 - val_loss: 1.5035 - val_mse: 1.4924\n",
      "MSE: 1.5609918\n",
      "optimizer:Adam | embedding_dim:32 | lr:0.0001 | dropout:0.5 | hidden_units:(128, 128) | epochs:3 | batch_size:64\n",
      "Epoch 1/3\n"
     ]
    },
    {
     "name": "stderr",
     "output_type": "stream",
     "text": [
      "C:\\Users\\Montr\\anaconda3\\lib\\site-packages\\tensorflow\\python\\framework\\indexed_slices.py:433: UserWarning: Converting sparse IndexedSlices to a dense Tensor of unknown shape. This may consume a large amount of memory.\n",
      "  \"Converting sparse IndexedSlices to a dense Tensor of unknown shape. \"\n"
     ]
    },
    {
     "name": "stdout",
     "output_type": "stream",
     "text": [
      "452/452 - 7s - loss: 2.1371 - mse: 2.1363 - val_loss: 1.4060 - val_mse: 1.4038\n",
      "Epoch 2/3\n",
      "452/452 - 6s - loss: 0.6617 - mse: 0.6581 - val_loss: 1.5374 - val_mse: 1.5323\n",
      "Epoch 3/3\n",
      "452/452 - 6s - loss: 0.3047 - mse: 0.2987 - val_loss: 1.5028 - val_mse: 1.4959\n",
      "MSE: 1.580031\n",
      "optimizer:Adam | embedding_dim:32 | lr:0.0001 | dropout:0.5 | hidden_units:(128, 128) | epochs:5 | batch_size:32\n",
      "Epoch 1/5\n"
     ]
    },
    {
     "name": "stderr",
     "output_type": "stream",
     "text": [
      "C:\\Users\\Montr\\anaconda3\\lib\\site-packages\\tensorflow\\python\\framework\\indexed_slices.py:433: UserWarning: Converting sparse IndexedSlices to a dense Tensor of unknown shape. This may consume a large amount of memory.\n",
      "  \"Converting sparse IndexedSlices to a dense Tensor of unknown shape. \"\n"
     ]
    },
    {
     "name": "stdout",
     "output_type": "stream",
     "text": [
      "904/904 - 12s - loss: 1.8183 - mse: 1.8168 - val_loss: 1.4837 - val_mse: 1.4799\n",
      "Epoch 2/5\n",
      "904/904 - 12s - loss: 0.6375 - mse: 0.6315 - val_loss: 1.4785 - val_mse: 1.4703\n",
      "Epoch 3/5\n",
      "904/904 - 12s - loss: 0.3042 - mse: 0.2947 - val_loss: 1.5265 - val_mse: 1.5154\n",
      "Epoch 4/5\n",
      "904/904 - 12s - loss: 0.1815 - mse: 0.1695 - val_loss: 1.6291 - val_mse: 1.6161\n",
      "Epoch 5/5\n",
      "904/904 - 12s - loss: 0.1417 - mse: 0.1282 - val_loss: 1.6057 - val_mse: 1.5915\n",
      "MSE: 1.6727917\n",
      "optimizer:Adam | embedding_dim:32 | lr:0.0001 | dropout:0.5 | hidden_units:(128, 128) | epochs:5 | batch_size:64\n",
      "Epoch 1/5\n"
     ]
    },
    {
     "name": "stderr",
     "output_type": "stream",
     "text": [
      "C:\\Users\\Montr\\anaconda3\\lib\\site-packages\\tensorflow\\python\\framework\\indexed_slices.py:433: UserWarning: Converting sparse IndexedSlices to a dense Tensor of unknown shape. This may consume a large amount of memory.\n",
      "  \"Converting sparse IndexedSlices to a dense Tensor of unknown shape. \"\n"
     ]
    },
    {
     "name": "stdout",
     "output_type": "stream",
     "text": [
      "452/452 - 6s - loss: 2.1028 - mse: 2.1020 - val_loss: 1.3897 - val_mse: 1.3876\n",
      "Epoch 2/5\n",
      "452/452 - 6s - loss: 0.6867 - mse: 0.6832 - val_loss: 1.5305 - val_mse: 1.5254\n",
      "Epoch 3/5\n",
      "452/452 - 6s - loss: 0.3193 - mse: 0.3134 - val_loss: 1.4879 - val_mse: 1.4812\n",
      "Epoch 4/5\n",
      "452/452 - 6s - loss: 0.1718 - mse: 0.1646 - val_loss: 1.6494 - val_mse: 1.6417\n",
      "Epoch 5/5\n",
      "452/452 - 6s - loss: 0.1216 - mse: 0.1136 - val_loss: 1.6264 - val_mse: 1.6180\n",
      "MSE: 1.7250388\n",
      "optimizer:Adam | embedding_dim:32 | lr:0.0001 | dropout:0.5 | hidden_units:(128, 128) | epochs:3 | batch_size:32\n",
      "Epoch 1/3\n"
     ]
    },
    {
     "name": "stderr",
     "output_type": "stream",
     "text": [
      "C:\\Users\\Montr\\anaconda3\\lib\\site-packages\\tensorflow\\python\\framework\\indexed_slices.py:433: UserWarning: Converting sparse IndexedSlices to a dense Tensor of unknown shape. This may consume a large amount of memory.\n",
      "  \"Converting sparse IndexedSlices to a dense Tensor of unknown shape. \"\n"
     ]
    },
    {
     "name": "stdout",
     "output_type": "stream",
     "text": [
      "904/904 - 12s - loss: 1.7953 - mse: 1.7939 - val_loss: 1.4007 - val_mse: 1.3970\n",
      "Epoch 2/3\n",
      "904/904 - 12s - loss: 0.6603 - mse: 0.6545 - val_loss: 1.5007 - val_mse: 1.4924\n",
      "Epoch 3/3\n",
      "904/904 - 12s - loss: 0.3101 - mse: 0.3004 - val_loss: 1.5409 - val_mse: 1.5297\n",
      "MSE: 1.5972991\n",
      "optimizer:Adam | embedding_dim:32 | lr:0.0001 | dropout:0.5 | hidden_units:(128, 128) | epochs:3 | batch_size:64\n",
      "Epoch 1/3\n"
     ]
    },
    {
     "name": "stderr",
     "output_type": "stream",
     "text": [
      "C:\\Users\\Montr\\anaconda3\\lib\\site-packages\\tensorflow\\python\\framework\\indexed_slices.py:433: UserWarning: Converting sparse IndexedSlices to a dense Tensor of unknown shape. This may consume a large amount of memory.\n",
      "  \"Converting sparse IndexedSlices to a dense Tensor of unknown shape. \"\n"
     ]
    },
    {
     "name": "stdout",
     "output_type": "stream",
     "text": [
      "452/452 - 6s - loss: 2.1457 - mse: 2.1449 - val_loss: 1.4513 - val_mse: 1.4491\n",
      "Epoch 2/3\n",
      "452/452 - 6s - loss: 0.6779 - mse: 0.6743 - val_loss: 1.5325 - val_mse: 1.5273\n",
      "Epoch 3/3\n",
      "452/452 - 6s - loss: 0.3098 - mse: 0.3038 - val_loss: 1.5414 - val_mse: 1.5345\n",
      "MSE: 1.6257472\n",
      "optimizer:Adam | embedding_dim:32 | lr:0.0001 | dropout:0.5 | hidden_units:(128, 128) | epochs:5 | batch_size:32\n",
      "Epoch 1/5\n"
     ]
    },
    {
     "name": "stderr",
     "output_type": "stream",
     "text": [
      "C:\\Users\\Montr\\anaconda3\\lib\\site-packages\\tensorflow\\python\\framework\\indexed_slices.py:433: UserWarning: Converting sparse IndexedSlices to a dense Tensor of unknown shape. This may consume a large amount of memory.\n",
      "  \"Converting sparse IndexedSlices to a dense Tensor of unknown shape. \"\n"
     ]
    },
    {
     "name": "stdout",
     "output_type": "stream",
     "text": [
      "904/904 - 12s - loss: 1.8137 - mse: 1.8123 - val_loss: 1.3919 - val_mse: 1.3881\n",
      "Epoch 2/5\n",
      "904/904 - 12s - loss: 0.6382 - mse: 0.6322 - val_loss: 1.4954 - val_mse: 1.4870\n",
      "Epoch 3/5\n",
      "904/904 - 12s - loss: 0.3141 - mse: 0.3043 - val_loss: 1.5029 - val_mse: 1.4913\n",
      "Epoch 4/5\n",
      "904/904 - 12s - loss: 0.1781 - mse: 0.1657 - val_loss: 1.6081 - val_mse: 1.5949\n",
      "Epoch 5/5\n",
      "904/904 - 12s - loss: 0.1343 - mse: 0.1206 - val_loss: 1.6567 - val_mse: 1.6423\n",
      "MSE: 1.7231569\n",
      "optimizer:Adam | embedding_dim:32 | lr:0.0001 | dropout:0.5 | hidden_units:(128, 128) | epochs:5 | batch_size:64\n",
      "Epoch 1/5\n"
     ]
    },
    {
     "name": "stderr",
     "output_type": "stream",
     "text": [
      "C:\\Users\\Montr\\anaconda3\\lib\\site-packages\\tensorflow\\python\\framework\\indexed_slices.py:433: UserWarning: Converting sparse IndexedSlices to a dense Tensor of unknown shape. This may consume a large amount of memory.\n",
      "  \"Converting sparse IndexedSlices to a dense Tensor of unknown shape. \"\n"
     ]
    },
    {
     "name": "stdout",
     "output_type": "stream",
     "text": [
      "452/452 - 6s - loss: 2.1246 - mse: 2.1237 - val_loss: 1.3978 - val_mse: 1.3956\n",
      "Epoch 2/5\n",
      "452/452 - 6s - loss: 0.6764 - mse: 0.6726 - val_loss: 1.5358 - val_mse: 1.5303\n",
      "Epoch 3/5\n",
      "452/452 - 6s - loss: 0.3127 - mse: 0.3063 - val_loss: 1.5274 - val_mse: 1.5202\n",
      "Epoch 4/5\n",
      "452/452 - 6s - loss: 0.1674 - mse: 0.1597 - val_loss: 1.6114 - val_mse: 1.6031\n",
      "Epoch 5/5\n",
      "452/452 - 6s - loss: 0.1141 - mse: 0.1057 - val_loss: 1.6274 - val_mse: 1.6186\n",
      "MSE: 1.7024574\n",
      "optimizer:Adam | embedding_dim:32 | lr:0.0001 | dropout:0.5 | hidden_units:(128, 128) | epochs:3 | batch_size:32\n",
      "Epoch 1/3\n"
     ]
    },
    {
     "name": "stderr",
     "output_type": "stream",
     "text": [
      "C:\\Users\\Montr\\anaconda3\\lib\\site-packages\\tensorflow\\python\\framework\\indexed_slices.py:433: UserWarning: Converting sparse IndexedSlices to a dense Tensor of unknown shape. This may consume a large amount of memory.\n",
      "  \"Converting sparse IndexedSlices to a dense Tensor of unknown shape. \"\n"
     ]
    },
    {
     "name": "stdout",
     "output_type": "stream",
     "text": [
      "904/904 - 12s - loss: 1.8100 - mse: 1.8085 - val_loss: 1.3991 - val_mse: 1.3953\n",
      "Epoch 2/3\n",
      "904/904 - 12s - loss: 0.6209 - mse: 0.6151 - val_loss: 1.5643 - val_mse: 1.5566\n",
      "Epoch 3/3\n",
      "904/904 - 12s - loss: 0.3135 - mse: 0.3044 - val_loss: 1.5983 - val_mse: 1.5874\n",
      "MSE: 1.6702458\n",
      "optimizer:Adam | embedding_dim:32 | lr:0.0001 | dropout:0.5 | hidden_units:(128, 128) | epochs:3 | batch_size:64\n",
      "Epoch 1/3\n"
     ]
    },
    {
     "name": "stderr",
     "output_type": "stream",
     "text": [
      "C:\\Users\\Montr\\anaconda3\\lib\\site-packages\\tensorflow\\python\\framework\\indexed_slices.py:433: UserWarning: Converting sparse IndexedSlices to a dense Tensor of unknown shape. This may consume a large amount of memory.\n",
      "  \"Converting sparse IndexedSlices to a dense Tensor of unknown shape. \"\n"
     ]
    },
    {
     "name": "stdout",
     "output_type": "stream",
     "text": [
      "452/452 - 7s - loss: 2.1778 - mse: 2.1769 - val_loss: 1.4523 - val_mse: 1.4501\n",
      "Epoch 2/3\n",
      "452/452 - 6s - loss: 0.6887 - mse: 0.6849 - val_loss: 1.4901 - val_mse: 1.4846\n",
      "Epoch 3/3\n",
      "452/452 - 6s - loss: 0.3107 - mse: 0.3044 - val_loss: 1.5565 - val_mse: 1.5493\n",
      "MSE: 1.6227585\n",
      "optimizer:Adam | embedding_dim:32 | lr:0.0001 | dropout:0.5 | hidden_units:(128, 128) | epochs:5 | batch_size:32\n",
      "Epoch 1/5\n"
     ]
    },
    {
     "name": "stderr",
     "output_type": "stream",
     "text": [
      "C:\\Users\\Montr\\anaconda3\\lib\\site-packages\\tensorflow\\python\\framework\\indexed_slices.py:433: UserWarning: Converting sparse IndexedSlices to a dense Tensor of unknown shape. This may consume a large amount of memory.\n",
      "  \"Converting sparse IndexedSlices to a dense Tensor of unknown shape. \"\n"
     ]
    },
    {
     "name": "stdout",
     "output_type": "stream",
     "text": [
      "904/904 - 12s - loss: 1.8025 - mse: 1.8010 - val_loss: 1.4482 - val_mse: 1.4444\n",
      "Epoch 2/5\n",
      "904/904 - 12s - loss: 0.6463 - mse: 0.6402 - val_loss: 1.4823 - val_mse: 1.4737\n",
      "Epoch 3/5\n",
      "904/904 - 12s - loss: 0.3193 - mse: 0.3094 - val_loss: 1.5564 - val_mse: 1.5448\n",
      "Epoch 4/5\n",
      "904/904 - 12s - loss: 0.1825 - mse: 0.1701 - val_loss: 1.5870 - val_mse: 1.5736\n",
      "Epoch 5/5\n",
      "904/904 - 12s - loss: 0.1355 - mse: 0.1217 - val_loss: 1.6504 - val_mse: 1.6358\n",
      "MSE: 1.7131946\n",
      "optimizer:Adam | embedding_dim:32 | lr:0.0001 | dropout:0.5 | hidden_units:(128, 128) | epochs:5 | batch_size:64\n",
      "Epoch 1/5\n"
     ]
    },
    {
     "name": "stderr",
     "output_type": "stream",
     "text": [
      "C:\\Users\\Montr\\anaconda3\\lib\\site-packages\\tensorflow\\python\\framework\\indexed_slices.py:433: UserWarning: Converting sparse IndexedSlices to a dense Tensor of unknown shape. This may consume a large amount of memory.\n",
      "  \"Converting sparse IndexedSlices to a dense Tensor of unknown shape. \"\n"
     ]
    },
    {
     "name": "stdout",
     "output_type": "stream",
     "text": [
      "452/452 - 7s - loss: 2.1212 - mse: 2.1204 - val_loss: 1.4216 - val_mse: 1.4194\n",
      "Epoch 2/5\n",
      "452/452 - 6s - loss: 0.6692 - mse: 0.6655 - val_loss: 1.5199 - val_mse: 1.5146\n",
      "Epoch 3/5\n",
      "452/452 - 6s - loss: 0.2991 - mse: 0.2928 - val_loss: 1.4997 - val_mse: 1.4924\n",
      "Epoch 4/5\n",
      "452/452 - 6s - loss: 0.1615 - mse: 0.1538 - val_loss: 1.6133 - val_mse: 1.6050\n",
      "Epoch 5/5\n",
      "452/452 - 6s - loss: 0.1160 - mse: 0.1074 - val_loss: 1.6233 - val_mse: 1.6143\n",
      "MSE: 1.7144122\n",
      "optimizer:Adam | embedding_dim:32 | lr:0.0001 | dropout:0.5 | hidden_units:(128, 128) | epochs:3 | batch_size:32\n",
      "Epoch 1/3\n"
     ]
    },
    {
     "name": "stderr",
     "output_type": "stream",
     "text": [
      "C:\\Users\\Montr\\anaconda3\\lib\\site-packages\\tensorflow\\python\\framework\\indexed_slices.py:433: UserWarning: Converting sparse IndexedSlices to a dense Tensor of unknown shape. This may consume a large amount of memory.\n",
      "  \"Converting sparse IndexedSlices to a dense Tensor of unknown shape. \"\n"
     ]
    },
    {
     "name": "stdout",
     "output_type": "stream",
     "text": [
      "904/904 - 12s - loss: 1.8293 - mse: 1.8278 - val_loss: 1.4075 - val_mse: 1.4037\n",
      "Epoch 2/3\n",
      "904/904 - 12s - loss: 0.6167 - mse: 0.6109 - val_loss: 1.4947 - val_mse: 1.4869\n",
      "Epoch 3/3\n",
      "904/904 - 12s - loss: 0.3131 - mse: 0.3037 - val_loss: 1.5125 - val_mse: 1.5013\n",
      "MSE: 1.5719504\n",
      "optimizer:Adam | embedding_dim:32 | lr:0.0001 | dropout:0.5 | hidden_units:(128, 128) | epochs:3 | batch_size:64\n",
      "Epoch 1/3\n"
     ]
    },
    {
     "name": "stderr",
     "output_type": "stream",
     "text": [
      "C:\\Users\\Montr\\anaconda3\\lib\\site-packages\\tensorflow\\python\\framework\\indexed_slices.py:433: UserWarning: Converting sparse IndexedSlices to a dense Tensor of unknown shape. This may consume a large amount of memory.\n",
      "  \"Converting sparse IndexedSlices to a dense Tensor of unknown shape. \"\n"
     ]
    },
    {
     "name": "stdout",
     "output_type": "stream",
     "text": [
      "452/452 - 6s - loss: 2.1619 - mse: 2.1611 - val_loss: 1.3886 - val_mse: 1.3864\n",
      "Epoch 2/3\n",
      "452/452 - 6s - loss: 0.6676 - mse: 0.6639 - val_loss: 1.5009 - val_mse: 1.4956\n",
      "Epoch 3/3\n",
      "452/452 - 6s - loss: 0.3010 - mse: 0.2949 - val_loss: 1.4959 - val_mse: 1.4888\n",
      "MSE: 1.5768209\n",
      "optimizer:Adam | embedding_dim:32 | lr:0.0001 | dropout:0.5 | hidden_units:(128, 128) | epochs:5 | batch_size:32\n",
      "Epoch 1/5\n"
     ]
    },
    {
     "name": "stderr",
     "output_type": "stream",
     "text": [
      "C:\\Users\\Montr\\anaconda3\\lib\\site-packages\\tensorflow\\python\\framework\\indexed_slices.py:433: UserWarning: Converting sparse IndexedSlices to a dense Tensor of unknown shape. This may consume a large amount of memory.\n",
      "  \"Converting sparse IndexedSlices to a dense Tensor of unknown shape. \"\n"
     ]
    },
    {
     "name": "stdout",
     "output_type": "stream",
     "text": [
      "904/904 - 12s - loss: 1.8088 - mse: 1.8073 - val_loss: 1.4278 - val_mse: 1.4239\n",
      "Epoch 2/5\n",
      "904/904 - 12s - loss: 0.6306 - mse: 0.6247 - val_loss: 1.5556 - val_mse: 1.5477\n",
      "Epoch 3/5\n",
      "904/904 - 12s - loss: 0.3111 - mse: 0.3016 - val_loss: 1.4858 - val_mse: 1.4746\n",
      "Epoch 4/5\n",
      "904/904 - 12s - loss: 0.1786 - mse: 0.1665 - val_loss: 1.6090 - val_mse: 1.5960\n",
      "Epoch 5/5\n",
      "904/904 - 12s - loss: 0.1424 - mse: 0.1288 - val_loss: 1.6475 - val_mse: 1.6331\n",
      "MSE: 1.7141908\n",
      "optimizer:Adam | embedding_dim:32 | lr:0.0001 | dropout:0.5 | hidden_units:(128, 128) | epochs:5 | batch_size:64\n",
      "Epoch 1/5\n"
     ]
    },
    {
     "name": "stderr",
     "output_type": "stream",
     "text": [
      "C:\\Users\\Montr\\anaconda3\\lib\\site-packages\\tensorflow\\python\\framework\\indexed_slices.py:433: UserWarning: Converting sparse IndexedSlices to a dense Tensor of unknown shape. This may consume a large amount of memory.\n",
      "  \"Converting sparse IndexedSlices to a dense Tensor of unknown shape. \"\n"
     ]
    },
    {
     "name": "stdout",
     "output_type": "stream",
     "text": [
      "452/452 - 6s - loss: 2.1137 - mse: 2.1129 - val_loss: 1.3988 - val_mse: 1.3966\n",
      "Epoch 2/5\n",
      "452/452 - 6s - loss: 0.6748 - mse: 0.6712 - val_loss: 1.5469 - val_mse: 1.5417\n",
      "Epoch 3/5\n",
      "452/452 - 6s - loss: 0.3046 - mse: 0.2986 - val_loss: 1.4888 - val_mse: 1.4820\n",
      "Epoch 4/5\n",
      "452/452 - 6s - loss: 0.1708 - mse: 0.1635 - val_loss: 1.5742 - val_mse: 1.5664\n",
      "Epoch 5/5\n",
      "452/452 - 6s - loss: 0.1179 - mse: 0.1097 - val_loss: 1.5933 - val_mse: 1.5847\n",
      "MSE: 1.6558557\n",
      "optimizer:Adam | embedding_dim:32 | lr:0.0001 | dropout:0.5 | hidden_units:(128, 128) | epochs:3 | batch_size:32\n",
      "Epoch 1/3\n"
     ]
    },
    {
     "name": "stderr",
     "output_type": "stream",
     "text": [
      "C:\\Users\\Montr\\anaconda3\\lib\\site-packages\\tensorflow\\python\\framework\\indexed_slices.py:433: UserWarning: Converting sparse IndexedSlices to a dense Tensor of unknown shape. This may consume a large amount of memory.\n",
      "  \"Converting sparse IndexedSlices to a dense Tensor of unknown shape. \"\n"
     ]
    },
    {
     "name": "stdout",
     "output_type": "stream",
     "text": [
      "904/904 - 12s - loss: 1.8171 - mse: 1.8156 - val_loss: 1.4118 - val_mse: 1.4079\n",
      "Epoch 2/3\n",
      "904/904 - 12s - loss: 0.6384 - mse: 0.6322 - val_loss: 1.4663 - val_mse: 1.4578\n",
      "Epoch 3/3\n",
      "904/904 - 12s - loss: 0.3194 - mse: 0.3095 - val_loss: 1.5704 - val_mse: 1.5588\n",
      "MSE: 1.64058\n",
      "optimizer:Adam | embedding_dim:32 | lr:0.0001 | dropout:0.5 | hidden_units:(128, 128) | epochs:3 | batch_size:64\n",
      "Epoch 1/3\n"
     ]
    },
    {
     "name": "stderr",
     "output_type": "stream",
     "text": [
      "C:\\Users\\Montr\\anaconda3\\lib\\site-packages\\tensorflow\\python\\framework\\indexed_slices.py:433: UserWarning: Converting sparse IndexedSlices to a dense Tensor of unknown shape. This may consume a large amount of memory.\n",
      "  \"Converting sparse IndexedSlices to a dense Tensor of unknown shape. \"\n"
     ]
    },
    {
     "name": "stdout",
     "output_type": "stream",
     "text": [
      "452/452 - 6s - loss: 2.1267 - mse: 2.1259 - val_loss: 1.3947 - val_mse: 1.3925\n",
      "Epoch 2/3\n",
      "452/452 - 6s - loss: 0.6677 - mse: 0.6641 - val_loss: 1.5016 - val_mse: 1.4964\n",
      "Epoch 3/3\n",
      "452/452 - 6s - loss: 0.3110 - mse: 0.3049 - val_loss: 1.5347 - val_mse: 1.5277\n",
      "MSE: 1.635156\n",
      "optimizer:Adam | embedding_dim:32 | lr:0.0001 | dropout:0.5 | hidden_units:(128, 128) | epochs:5 | batch_size:32\n",
      "Epoch 1/5\n"
     ]
    },
    {
     "name": "stderr",
     "output_type": "stream",
     "text": [
      "C:\\Users\\Montr\\anaconda3\\lib\\site-packages\\tensorflow\\python\\framework\\indexed_slices.py:433: UserWarning: Converting sparse IndexedSlices to a dense Tensor of unknown shape. This may consume a large amount of memory.\n",
      "  \"Converting sparse IndexedSlices to a dense Tensor of unknown shape. \"\n"
     ]
    },
    {
     "name": "stdout",
     "output_type": "stream",
     "text": [
      "904/904 - 12s - loss: 1.8095 - mse: 1.8080 - val_loss: 1.4422 - val_mse: 1.4385\n",
      "Epoch 2/5\n",
      "904/904 - 11s - loss: 0.6495 - mse: 0.6433 - val_loss: 1.4796 - val_mse: 1.4708\n",
      "Epoch 3/5\n",
      "904/904 - 11s - loss: 0.3230 - mse: 0.3129 - val_loss: 1.4798 - val_mse: 1.4682\n",
      "Epoch 4/5\n",
      "904/904 - 12s - loss: 0.1949 - mse: 0.1824 - val_loss: 1.6442 - val_mse: 1.6306\n",
      "Epoch 5/5\n",
      "904/904 - 12s - loss: 0.1348 - mse: 0.1207 - val_loss: 1.5526 - val_mse: 1.5378\n",
      "MSE: 1.6229799\n",
      "optimizer:Adam | embedding_dim:32 | lr:0.0001 | dropout:0.5 | hidden_units:(128, 128) | epochs:5 | batch_size:64\n",
      "Epoch 1/5\n"
     ]
    },
    {
     "name": "stderr",
     "output_type": "stream",
     "text": [
      "C:\\Users\\Montr\\anaconda3\\lib\\site-packages\\tensorflow\\python\\framework\\indexed_slices.py:433: UserWarning: Converting sparse IndexedSlices to a dense Tensor of unknown shape. This may consume a large amount of memory.\n",
      "  \"Converting sparse IndexedSlices to a dense Tensor of unknown shape. \"\n"
     ]
    },
    {
     "name": "stdout",
     "output_type": "stream",
     "text": [
      "452/452 - 7s - loss: 2.1236 - mse: 2.1228 - val_loss: 1.3974 - val_mse: 1.3952\n",
      "Epoch 2/5\n",
      "452/452 - 6s - loss: 0.6685 - mse: 0.6649 - val_loss: 1.5033 - val_mse: 1.4981\n",
      "Epoch 3/5\n",
      "452/452 - 6s - loss: 0.3008 - mse: 0.2949 - val_loss: 1.5098 - val_mse: 1.5030\n",
      "Epoch 4/5\n",
      "452/452 - 6s - loss: 0.1558 - mse: 0.1485 - val_loss: 1.6684 - val_mse: 1.6606\n",
      "Epoch 5/5\n",
      "452/452 - 6s - loss: 0.1141 - mse: 0.1059 - val_loss: 1.6762 - val_mse: 1.6676\n",
      "MSE: 1.7622316\n",
      "optimizer:Adam | embedding_dim:32 | lr:0.0001 | dropout:0.5 | hidden_units:(128, 128) | epochs:3 | batch_size:32\n",
      "Epoch 1/3\n"
     ]
    },
    {
     "name": "stderr",
     "output_type": "stream",
     "text": [
      "C:\\Users\\Montr\\anaconda3\\lib\\site-packages\\tensorflow\\python\\framework\\indexed_slices.py:433: UserWarning: Converting sparse IndexedSlices to a dense Tensor of unknown shape. This may consume a large amount of memory.\n",
      "  \"Converting sparse IndexedSlices to a dense Tensor of unknown shape. \"\n"
     ]
    },
    {
     "name": "stdout",
     "output_type": "stream",
     "text": [
      "904/904 - 12s - loss: 1.8247 - mse: 1.8232 - val_loss: 1.4009 - val_mse: 1.3971\n",
      "Epoch 2/3\n",
      "904/904 - 12s - loss: 0.6407 - mse: 0.6347 - val_loss: 1.5028 - val_mse: 1.4944\n",
      "Epoch 3/3\n",
      "904/904 - 12s - loss: 0.3225 - mse: 0.3125 - val_loss: 1.5268 - val_mse: 1.5150\n",
      "MSE: 1.5686296\n",
      "optimizer:Adam | embedding_dim:32 | lr:0.0001 | dropout:0.5 | hidden_units:(128, 128) | epochs:3 | batch_size:64\n",
      "Epoch 1/3\n"
     ]
    },
    {
     "name": "stderr",
     "output_type": "stream",
     "text": [
      "C:\\Users\\Montr\\anaconda3\\lib\\site-packages\\tensorflow\\python\\framework\\indexed_slices.py:433: UserWarning: Converting sparse IndexedSlices to a dense Tensor of unknown shape. This may consume a large amount of memory.\n",
      "  \"Converting sparse IndexedSlices to a dense Tensor of unknown shape. \"\n"
     ]
    },
    {
     "name": "stdout",
     "output_type": "stream",
     "text": [
      "452/452 - 7s - loss: 2.1617 - mse: 2.1609 - val_loss: 1.3998 - val_mse: 1.3977\n",
      "Epoch 2/3\n",
      "452/452 - 6s - loss: 0.7022 - mse: 0.6985 - val_loss: 1.5076 - val_mse: 1.5022\n",
      "Epoch 3/3\n",
      "452/452 - 6s - loss: 0.3010 - mse: 0.2947 - val_loss: 1.5264 - val_mse: 1.5193\n",
      "MSE: 1.6091433\n",
      "optimizer:Adam | embedding_dim:32 | lr:0.0001 | dropout:0.5 | hidden_units:(128, 128) | epochs:5 | batch_size:32\n",
      "Epoch 1/5\n"
     ]
    },
    {
     "name": "stderr",
     "output_type": "stream",
     "text": [
      "C:\\Users\\Montr\\anaconda3\\lib\\site-packages\\tensorflow\\python\\framework\\indexed_slices.py:433: UserWarning: Converting sparse IndexedSlices to a dense Tensor of unknown shape. This may consume a large amount of memory.\n",
      "  \"Converting sparse IndexedSlices to a dense Tensor of unknown shape. \"\n"
     ]
    },
    {
     "name": "stdout",
     "output_type": "stream",
     "text": [
      "904/904 - 12s - loss: 1.8476 - mse: 1.8461 - val_loss: 1.4090 - val_mse: 1.4051\n",
      "Epoch 2/5\n",
      "904/904 - 12s - loss: 0.6251 - mse: 0.6193 - val_loss: 1.5757 - val_mse: 1.5678\n",
      "Epoch 3/5\n",
      "904/904 - 12s - loss: 0.3070 - mse: 0.2975 - val_loss: 1.5758 - val_mse: 1.5646\n",
      "Epoch 4/5\n",
      "904/904 - 12s - loss: 0.1685 - mse: 0.1566 - val_loss: 1.5982 - val_mse: 1.5854\n",
      "Epoch 5/5\n",
      "904/904 - 12s - loss: 0.1367 - mse: 0.1233 - val_loss: 1.6018 - val_mse: 1.5876\n",
      "MSE: 1.6653752\n",
      "optimizer:Adam | embedding_dim:32 | lr:0.0001 | dropout:0.5 | hidden_units:(128, 128) | epochs:5 | batch_size:64\n",
      "Epoch 1/5\n"
     ]
    },
    {
     "name": "stderr",
     "output_type": "stream",
     "text": [
      "C:\\Users\\Montr\\anaconda3\\lib\\site-packages\\tensorflow\\python\\framework\\indexed_slices.py:433: UserWarning: Converting sparse IndexedSlices to a dense Tensor of unknown shape. This may consume a large amount of memory.\n",
      "  \"Converting sparse IndexedSlices to a dense Tensor of unknown shape. \"\n"
     ]
    },
    {
     "name": "stdout",
     "output_type": "stream",
     "text": [
      "452/452 - 7s - loss: 2.1342 - mse: 2.1334 - val_loss: 1.4245 - val_mse: 1.4223\n",
      "Epoch 2/5\n",
      "452/452 - 6s - loss: 0.6616 - mse: 0.6580 - val_loss: 1.5205 - val_mse: 1.5154\n",
      "Epoch 3/5\n",
      "452/452 - 6s - loss: 0.3076 - mse: 0.3017 - val_loss: 1.4989 - val_mse: 1.4921\n",
      "Epoch 4/5\n",
      "452/452 - 6s - loss: 0.1573 - mse: 0.1499 - val_loss: 1.5844 - val_mse: 1.5764\n",
      "Epoch 5/5\n",
      "452/452 - 6s - loss: 0.1073 - mse: 0.0990 - val_loss: 1.6451 - val_mse: 1.6365\n",
      "MSE: 1.7014612\n",
      "optimizer:Adam | embedding_dim:32 | lr:0.0001 | dropout:0.5 | hidden_units:(128, 128) | epochs:3 | batch_size:32\n",
      "Epoch 1/3\n"
     ]
    },
    {
     "name": "stderr",
     "output_type": "stream",
     "text": [
      "C:\\Users\\Montr\\anaconda3\\lib\\site-packages\\tensorflow\\python\\framework\\indexed_slices.py:433: UserWarning: Converting sparse IndexedSlices to a dense Tensor of unknown shape. This may consume a large amount of memory.\n",
      "  \"Converting sparse IndexedSlices to a dense Tensor of unknown shape. \"\n"
     ]
    },
    {
     "name": "stdout",
     "output_type": "stream",
     "text": [
      "904/904 - 12s - loss: 1.8246 - mse: 1.8231 - val_loss: 1.4415 - val_mse: 1.4377\n",
      "Epoch 2/3\n",
      "904/904 - 12s - loss: 0.6600 - mse: 0.6540 - val_loss: 1.4584 - val_mse: 1.4501\n",
      "Epoch 3/3\n",
      "904/904 - 12s - loss: 0.3344 - mse: 0.3246 - val_loss: 1.5353 - val_mse: 1.5238\n",
      "MSE: 1.6134603\n",
      "optimizer:Adam | embedding_dim:32 | lr:0.0001 | dropout:0.5 | hidden_units:(128, 128) | epochs:3 | batch_size:64\n",
      "Epoch 1/3\n"
     ]
    },
    {
     "name": "stderr",
     "output_type": "stream",
     "text": [
      "C:\\Users\\Montr\\anaconda3\\lib\\site-packages\\tensorflow\\python\\framework\\indexed_slices.py:433: UserWarning: Converting sparse IndexedSlices to a dense Tensor of unknown shape. This may consume a large amount of memory.\n",
      "  \"Converting sparse IndexedSlices to a dense Tensor of unknown shape. \"\n"
     ]
    },
    {
     "name": "stdout",
     "output_type": "stream",
     "text": [
      "452/452 - 7s - loss: 2.1418 - mse: 2.1410 - val_loss: 1.3866 - val_mse: 1.3844\n",
      "Epoch 2/3\n",
      "452/452 - 6s - loss: 0.6789 - mse: 0.6753 - val_loss: 1.5634 - val_mse: 1.5581\n",
      "Epoch 3/3\n",
      "452/452 - 6s - loss: 0.3116 - mse: 0.3054 - val_loss: 1.5097 - val_mse: 1.5025\n",
      "MSE: 1.582577\n",
      "optimizer:Adam | embedding_dim:32 | lr:0.0001 | dropout:0.5 | hidden_units:(128, 128) | epochs:5 | batch_size:32\n",
      "Epoch 1/5\n"
     ]
    },
    {
     "name": "stderr",
     "output_type": "stream",
     "text": [
      "C:\\Users\\Montr\\anaconda3\\lib\\site-packages\\tensorflow\\python\\framework\\indexed_slices.py:433: UserWarning: Converting sparse IndexedSlices to a dense Tensor of unknown shape. This may consume a large amount of memory.\n",
      "  \"Converting sparse IndexedSlices to a dense Tensor of unknown shape. \"\n"
     ]
    },
    {
     "name": "stdout",
     "output_type": "stream",
     "text": [
      "904/904 - 12s - loss: 1.8232 - mse: 1.8217 - val_loss: 1.4006 - val_mse: 1.3968\n",
      "Epoch 2/5\n",
      "904/904 - 12s - loss: 0.6414 - mse: 0.6355 - val_loss: 1.5360 - val_mse: 1.5278\n",
      "Epoch 3/5\n",
      "904/904 - 12s - loss: 0.3225 - mse: 0.3128 - val_loss: 1.4861 - val_mse: 1.4748\n",
      "Epoch 4/5\n",
      "904/904 - 12s - loss: 0.1767 - mse: 0.1647 - val_loss: 1.6158 - val_mse: 1.6030\n",
      "Epoch 5/5\n",
      "904/904 - 12s - loss: 0.1332 - mse: 0.1198 - val_loss: 1.6108 - val_mse: 1.5966\n",
      "MSE: 1.6587337\n",
      "optimizer:Adam | embedding_dim:32 | lr:0.0001 | dropout:0.5 | hidden_units:(128, 128) | epochs:5 | batch_size:64\n",
      "Epoch 1/5\n"
     ]
    },
    {
     "name": "stderr",
     "output_type": "stream",
     "text": [
      "C:\\Users\\Montr\\anaconda3\\lib\\site-packages\\tensorflow\\python\\framework\\indexed_slices.py:433: UserWarning: Converting sparse IndexedSlices to a dense Tensor of unknown shape. This may consume a large amount of memory.\n",
      "  \"Converting sparse IndexedSlices to a dense Tensor of unknown shape. \"\n"
     ]
    },
    {
     "name": "stdout",
     "output_type": "stream",
     "text": [
      "452/452 - 6s - loss: 2.1217 - mse: 2.1208 - val_loss: 1.3932 - val_mse: 1.3910\n",
      "Epoch 2/5\n",
      "452/452 - 6s - loss: 0.6720 - mse: 0.6683 - val_loss: 1.5603 - val_mse: 1.5550\n",
      "Epoch 3/5\n",
      "452/452 - 6s - loss: 0.3108 - mse: 0.3047 - val_loss: 1.5262 - val_mse: 1.5192\n",
      "Epoch 4/5\n",
      "452/452 - 6s - loss: 0.1588 - mse: 0.1514 - val_loss: 1.5896 - val_mse: 1.5817\n",
      "Epoch 5/5\n",
      "452/452 - 6s - loss: 0.1163 - mse: 0.1081 - val_loss: 1.5868 - val_mse: 1.5782\n",
      "MSE: 1.6537524\n",
      "optimizer:Adam | embedding_dim:32 | lr:0.0001 | dropout:0.5 | hidden_units:(128, 128) | epochs:3 | batch_size:32\n",
      "Epoch 1/3\n"
     ]
    },
    {
     "name": "stderr",
     "output_type": "stream",
     "text": [
      "C:\\Users\\Montr\\anaconda3\\lib\\site-packages\\tensorflow\\python\\framework\\indexed_slices.py:433: UserWarning: Converting sparse IndexedSlices to a dense Tensor of unknown shape. This may consume a large amount of memory.\n",
      "  \"Converting sparse IndexedSlices to a dense Tensor of unknown shape. \"\n"
     ]
    },
    {
     "name": "stdout",
     "output_type": "stream",
     "text": [
      "904/904 - 12s - loss: 1.8146 - mse: 1.8132 - val_loss: 1.4393 - val_mse: 1.4355\n",
      "Epoch 2/3\n",
      "904/904 - 12s - loss: 0.6572 - mse: 0.6513 - val_loss: 1.4714 - val_mse: 1.4630\n",
      "Epoch 3/3\n",
      "904/904 - 12s - loss: 0.3174 - mse: 0.3077 - val_loss: 1.5042 - val_mse: 1.4929\n",
      "MSE: 1.5622095\n",
      "optimizer:Adam | embedding_dim:32 | lr:0.0001 | dropout:0.5 | hidden_units:(128, 128) | epochs:3 | batch_size:64\n",
      "Epoch 1/3\n"
     ]
    },
    {
     "name": "stderr",
     "output_type": "stream",
     "text": [
      "C:\\Users\\Montr\\anaconda3\\lib\\site-packages\\tensorflow\\python\\framework\\indexed_slices.py:433: UserWarning: Converting sparse IndexedSlices to a dense Tensor of unknown shape. This may consume a large amount of memory.\n",
      "  \"Converting sparse IndexedSlices to a dense Tensor of unknown shape. \"\n"
     ]
    },
    {
     "name": "stdout",
     "output_type": "stream",
     "text": [
      "452/452 - 6s - loss: 2.1486 - mse: 2.1478 - val_loss: 1.4130 - val_mse: 1.4108\n",
      "Epoch 2/3\n",
      "452/452 - 6s - loss: 0.6609 - mse: 0.6573 - val_loss: 1.4935 - val_mse: 1.4884\n",
      "Epoch 3/3\n",
      "452/452 - 6s - loss: 0.3036 - mse: 0.2978 - val_loss: 1.5331 - val_mse: 1.5263\n",
      "MSE: 1.602391\n",
      "optimizer:Adam | embedding_dim:32 | lr:0.0001 | dropout:0.5 | hidden_units:(128, 128) | epochs:5 | batch_size:32\n",
      "Epoch 1/5\n"
     ]
    },
    {
     "name": "stderr",
     "output_type": "stream",
     "text": [
      "C:\\Users\\Montr\\anaconda3\\lib\\site-packages\\tensorflow\\python\\framework\\indexed_slices.py:433: UserWarning: Converting sparse IndexedSlices to a dense Tensor of unknown shape. This may consume a large amount of memory.\n",
      "  \"Converting sparse IndexedSlices to a dense Tensor of unknown shape. \"\n"
     ]
    },
    {
     "name": "stdout",
     "output_type": "stream",
     "text": [
      "904/904 - 12s - loss: 1.8105 - mse: 1.8091 - val_loss: 1.4195 - val_mse: 1.4157\n",
      "Epoch 2/5\n",
      "904/904 - 12s - loss: 0.6291 - mse: 0.6231 - val_loss: 1.4793 - val_mse: 1.4712\n",
      "Epoch 3/5\n",
      "904/904 - 11s - loss: 0.3247 - mse: 0.3152 - val_loss: 1.5104 - val_mse: 1.4991\n",
      "Epoch 4/5\n",
      "904/904 - 12s - loss: 0.1840 - mse: 0.1720 - val_loss: 1.5589 - val_mse: 1.5459\n",
      "Epoch 5/5\n",
      "904/904 - 12s - loss: 0.1353 - mse: 0.1217 - val_loss: 1.5791 - val_mse: 1.5646\n",
      "MSE: 1.6550808\n",
      "optimizer:Adam | embedding_dim:32 | lr:0.0001 | dropout:0.5 | hidden_units:(128, 128) | epochs:5 | batch_size:64\n",
      "Epoch 1/5\n"
     ]
    },
    {
     "name": "stderr",
     "output_type": "stream",
     "text": [
      "C:\\Users\\Montr\\anaconda3\\lib\\site-packages\\tensorflow\\python\\framework\\indexed_slices.py:433: UserWarning: Converting sparse IndexedSlices to a dense Tensor of unknown shape. This may consume a large amount of memory.\n",
      "  \"Converting sparse IndexedSlices to a dense Tensor of unknown shape. \"\n"
     ]
    },
    {
     "name": "stdout",
     "output_type": "stream",
     "text": [
      "452/452 - 7s - loss: 2.1412 - mse: 2.1403 - val_loss: 1.4528 - val_mse: 1.4506\n",
      "Epoch 2/5\n",
      "452/452 - 6s - loss: 0.6979 - mse: 0.6942 - val_loss: 1.5753 - val_mse: 1.5697\n",
      "Epoch 3/5\n",
      "452/452 - 6s - loss: 0.3001 - mse: 0.2937 - val_loss: 1.4937 - val_mse: 1.4865\n",
      "Epoch 4/5\n",
      "452/452 - 6s - loss: 0.1754 - mse: 0.1677 - val_loss: 1.5755 - val_mse: 1.5673\n",
      "Epoch 5/5\n",
      "452/452 - 6s - loss: 0.1149 - mse: 0.1064 - val_loss: 1.6283 - val_mse: 1.6195\n",
      "MSE: 1.7031215\n",
      "optimizer:Adam | embedding_dim:32 | lr:0.0001 | dropout:0.5 | hidden_units:(128, 128) | epochs:3 | batch_size:32\n",
      "Epoch 1/3\n"
     ]
    },
    {
     "name": "stderr",
     "output_type": "stream",
     "text": [
      "C:\\Users\\Montr\\anaconda3\\lib\\site-packages\\tensorflow\\python\\framework\\indexed_slices.py:433: UserWarning: Converting sparse IndexedSlices to a dense Tensor of unknown shape. This may consume a large amount of memory.\n",
      "  \"Converting sparse IndexedSlices to a dense Tensor of unknown shape. \"\n"
     ]
    },
    {
     "name": "stdout",
     "output_type": "stream",
     "text": [
      "904/904 - 12s - loss: 1.8199 - mse: 1.8184 - val_loss: 1.4022 - val_mse: 1.3984\n",
      "Epoch 2/3\n",
      "904/904 - 12s - loss: 0.6547 - mse: 0.6488 - val_loss: 1.5309 - val_mse: 1.5225\n",
      "Epoch 3/3\n",
      "904/904 - 12s - loss: 0.3062 - mse: 0.2965 - val_loss: 1.5092 - val_mse: 1.4981\n",
      "MSE: 1.5846801\n",
      "optimizer:Adam | embedding_dim:32 | lr:0.0001 | dropout:0.5 | hidden_units:(128, 128) | epochs:3 | batch_size:64\n",
      "Epoch 1/3\n"
     ]
    },
    {
     "name": "stderr",
     "output_type": "stream",
     "text": [
      "C:\\Users\\Montr\\anaconda3\\lib\\site-packages\\tensorflow\\python\\framework\\indexed_slices.py:433: UserWarning: Converting sparse IndexedSlices to a dense Tensor of unknown shape. This may consume a large amount of memory.\n",
      "  \"Converting sparse IndexedSlices to a dense Tensor of unknown shape. \"\n"
     ]
    },
    {
     "name": "stdout",
     "output_type": "stream",
     "text": [
      "452/452 - 6s - loss: 2.1433 - mse: 2.1425 - val_loss: 1.4020 - val_mse: 1.3998\n",
      "Epoch 2/3\n",
      "452/452 - 6s - loss: 0.6763 - mse: 0.6726 - val_loss: 1.6272 - val_mse: 1.6219\n",
      "Epoch 3/3\n",
      "452/452 - 6s - loss: 0.3131 - mse: 0.3070 - val_loss: 1.4984 - val_mse: 1.4913\n",
      "MSE: 1.5811379\n",
      "optimizer:Adam | embedding_dim:32 | lr:0.0001 | dropout:0.5 | hidden_units:(128, 128) | epochs:5 | batch_size:32\n",
      "Epoch 1/5\n"
     ]
    },
    {
     "name": "stderr",
     "output_type": "stream",
     "text": [
      "C:\\Users\\Montr\\anaconda3\\lib\\site-packages\\tensorflow\\python\\framework\\indexed_slices.py:433: UserWarning: Converting sparse IndexedSlices to a dense Tensor of unknown shape. This may consume a large amount of memory.\n",
      "  \"Converting sparse IndexedSlices to a dense Tensor of unknown shape. \"\n"
     ]
    },
    {
     "name": "stdout",
     "output_type": "stream",
     "text": [
      "904/904 - 12s - loss: 1.8005 - mse: 1.7991 - val_loss: 1.4131 - val_mse: 1.4093\n",
      "Epoch 2/5\n",
      "904/904 - 12s - loss: 0.6328 - mse: 0.6269 - val_loss: 1.4814 - val_mse: 1.4733\n",
      "Epoch 3/5\n",
      "904/904 - 12s - loss: 0.3231 - mse: 0.3136 - val_loss: 1.5015 - val_mse: 1.4904\n",
      "Epoch 4/5\n",
      "904/904 - 12s - loss: 0.1830 - mse: 0.1710 - val_loss: 1.6029 - val_mse: 1.5899\n",
      "Epoch 5/5\n",
      "904/904 - 12s - loss: 0.1277 - mse: 0.1143 - val_loss: 1.5834 - val_mse: 1.5695\n",
      "MSE: 1.6545273\n",
      "optimizer:Adam | embedding_dim:32 | lr:0.0001 | dropout:0.5 | hidden_units:(128, 128) | epochs:5 | batch_size:64\n",
      "Epoch 1/5\n"
     ]
    },
    {
     "name": "stderr",
     "output_type": "stream",
     "text": [
      "C:\\Users\\Montr\\anaconda3\\lib\\site-packages\\tensorflow\\python\\framework\\indexed_slices.py:433: UserWarning: Converting sparse IndexedSlices to a dense Tensor of unknown shape. This may consume a large amount of memory.\n",
      "  \"Converting sparse IndexedSlices to a dense Tensor of unknown shape. \"\n"
     ]
    },
    {
     "name": "stdout",
     "output_type": "stream",
     "text": [
      "452/452 - 7s - loss: 2.1433 - mse: 2.1425 - val_loss: 1.4078 - val_mse: 1.4056\n",
      "Epoch 2/5\n",
      "452/452 - 6s - loss: 0.6952 - mse: 0.6915 - val_loss: 1.5397 - val_mse: 1.5344\n",
      "Epoch 3/5\n",
      "452/452 - 6s - loss: 0.3143 - mse: 0.3082 - val_loss: 1.5214 - val_mse: 1.5144\n",
      "Epoch 4/5\n",
      "452/452 - 6s - loss: 0.1709 - mse: 0.1635 - val_loss: 1.6104 - val_mse: 1.6024\n",
      "Epoch 5/5\n",
      "452/452 - 6s - loss: 0.1139 - mse: 0.1057 - val_loss: 1.6521 - val_mse: 1.6435\n",
      "MSE: 1.7392074\n",
      "optimizer:Adam | embedding_dim:32 | lr:0.0001 | dropout:0.5 | hidden_units:(128, 128) | epochs:3 | batch_size:32\n",
      "Epoch 1/3\n"
     ]
    },
    {
     "name": "stderr",
     "output_type": "stream",
     "text": [
      "C:\\Users\\Montr\\anaconda3\\lib\\site-packages\\tensorflow\\python\\framework\\indexed_slices.py:433: UserWarning: Converting sparse IndexedSlices to a dense Tensor of unknown shape. This may consume a large amount of memory.\n",
      "  \"Converting sparse IndexedSlices to a dense Tensor of unknown shape. \"\n"
     ]
    },
    {
     "name": "stdout",
     "output_type": "stream",
     "text": [
      "904/904 - 12s - loss: 1.8416 - mse: 1.8402 - val_loss: 1.4214 - val_mse: 1.4176\n",
      "Epoch 2/3\n",
      "904/904 - 12s - loss: 0.6371 - mse: 0.6310 - val_loss: 1.5042 - val_mse: 1.4958\n",
      "Epoch 3/3\n",
      "904/904 - 12s - loss: 0.3153 - mse: 0.3055 - val_loss: 1.5028 - val_mse: 1.4914\n",
      "MSE: 1.560549\n",
      "optimizer:Adam | embedding_dim:32 | lr:0.0001 | dropout:0.5 | hidden_units:(128, 128) | epochs:3 | batch_size:64\n",
      "Epoch 1/3\n"
     ]
    },
    {
     "name": "stderr",
     "output_type": "stream",
     "text": [
      "C:\\Users\\Montr\\anaconda3\\lib\\site-packages\\tensorflow\\python\\framework\\indexed_slices.py:433: UserWarning: Converting sparse IndexedSlices to a dense Tensor of unknown shape. This may consume a large amount of memory.\n",
      "  \"Converting sparse IndexedSlices to a dense Tensor of unknown shape. \"\n"
     ]
    },
    {
     "name": "stdout",
     "output_type": "stream",
     "text": [
      "452/452 - 7s - loss: 2.1509 - mse: 2.1501 - val_loss: 1.3954 - val_mse: 1.3932\n",
      "Epoch 2/3\n",
      "452/452 - 6s - loss: 0.6610 - mse: 0.6573 - val_loss: 1.4926 - val_mse: 1.4873\n",
      "Epoch 3/3\n",
      "452/452 - 6s - loss: 0.3020 - mse: 0.2959 - val_loss: 1.5126 - val_mse: 1.5056\n",
      "MSE: 1.5925393\n",
      "optimizer:Adam | embedding_dim:32 | lr:0.0001 | dropout:0.5 | hidden_units:(128, 128) | epochs:5 | batch_size:32\n",
      "Epoch 1/5\n"
     ]
    },
    {
     "name": "stderr",
     "output_type": "stream",
     "text": [
      "C:\\Users\\Montr\\anaconda3\\lib\\site-packages\\tensorflow\\python\\framework\\indexed_slices.py:433: UserWarning: Converting sparse IndexedSlices to a dense Tensor of unknown shape. This may consume a large amount of memory.\n",
      "  \"Converting sparse IndexedSlices to a dense Tensor of unknown shape. \"\n"
     ]
    },
    {
     "name": "stdout",
     "output_type": "stream",
     "text": [
      "904/904 - 12s - loss: 1.8167 - mse: 1.8152 - val_loss: 1.4225 - val_mse: 1.4186\n",
      "Epoch 2/5\n",
      "904/904 - 12s - loss: 0.6299 - mse: 0.6237 - val_loss: 1.5520 - val_mse: 1.5435\n",
      "Epoch 3/5\n",
      "904/904 - 12s - loss: 0.3195 - mse: 0.3096 - val_loss: 1.5062 - val_mse: 1.4945\n",
      "Epoch 4/5\n",
      "904/904 - 12s - loss: 0.1945 - mse: 0.1820 - val_loss: 1.7099 - val_mse: 1.6961\n",
      "Epoch 5/5\n",
      "904/904 - 12s - loss: 0.1417 - mse: 0.1275 - val_loss: 1.5608 - val_mse: 1.5458\n",
      "MSE: 1.6432366\n",
      "optimizer:Adam | embedding_dim:32 | lr:0.0001 | dropout:0.5 | hidden_units:(128, 128) | epochs:5 | batch_size:64\n",
      "Epoch 1/5\n"
     ]
    },
    {
     "name": "stderr",
     "output_type": "stream",
     "text": [
      "C:\\Users\\Montr\\anaconda3\\lib\\site-packages\\tensorflow\\python\\framework\\indexed_slices.py:433: UserWarning: Converting sparse IndexedSlices to a dense Tensor of unknown shape. This may consume a large amount of memory.\n",
      "  \"Converting sparse IndexedSlices to a dense Tensor of unknown shape. \"\n"
     ]
    },
    {
     "name": "stdout",
     "output_type": "stream",
     "text": [
      "452/452 - 7s - loss: 2.1462 - mse: 2.1454 - val_loss: 1.3861 - val_mse: 1.3839\n",
      "Epoch 2/5\n",
      "452/452 - 6s - loss: 0.6852 - mse: 0.6815 - val_loss: 1.5411 - val_mse: 1.5356\n",
      "Epoch 3/5\n",
      "452/452 - 6s - loss: 0.3071 - mse: 0.3008 - val_loss: 1.5214 - val_mse: 1.5142\n",
      "Epoch 4/5\n",
      "452/452 - 6s - loss: 0.1626 - mse: 0.1549 - val_loss: 1.6211 - val_mse: 1.6129\n",
      "Epoch 5/5\n",
      "452/452 - 6s - loss: 0.1183 - mse: 0.1098 - val_loss: 1.6055 - val_mse: 1.5966\n",
      "MSE: 1.6806508\n",
      "optimizer:Adam | embedding_dim:32 | lr:0.0001 | dropout:0.5 | hidden_units:(128, 128) | epochs:3 | batch_size:32\n",
      "Epoch 1/3\n"
     ]
    },
    {
     "name": "stderr",
     "output_type": "stream",
     "text": [
      "C:\\Users\\Montr\\anaconda3\\lib\\site-packages\\tensorflow\\python\\framework\\indexed_slices.py:433: UserWarning: Converting sparse IndexedSlices to a dense Tensor of unknown shape. This may consume a large amount of memory.\n",
      "  \"Converting sparse IndexedSlices to a dense Tensor of unknown shape. \"\n"
     ]
    },
    {
     "name": "stdout",
     "output_type": "stream",
     "text": [
      "904/904 - 12s - loss: 1.8094 - mse: 1.8079 - val_loss: 1.5158 - val_mse: 1.5120\n",
      "Epoch 2/3\n",
      "904/904 - 12s - loss: 0.6228 - mse: 0.6170 - val_loss: 1.5017 - val_mse: 1.4937\n",
      "Epoch 3/3\n",
      "904/904 - 12s - loss: 0.3166 - mse: 0.3071 - val_loss: 1.5485 - val_mse: 1.5373\n",
      "MSE: 1.5887758\n",
      "optimizer:Adam | embedding_dim:32 | lr:0.0001 | dropout:0.5 | hidden_units:(128, 128) | epochs:3 | batch_size:64\n",
      "Epoch 1/3\n"
     ]
    },
    {
     "name": "stderr",
     "output_type": "stream",
     "text": [
      "C:\\Users\\Montr\\anaconda3\\lib\\site-packages\\tensorflow\\python\\framework\\indexed_slices.py:433: UserWarning: Converting sparse IndexedSlices to a dense Tensor of unknown shape. This may consume a large amount of memory.\n",
      "  \"Converting sparse IndexedSlices to a dense Tensor of unknown shape. \"\n"
     ]
    },
    {
     "name": "stdout",
     "output_type": "stream",
     "text": [
      "452/452 - 7s - loss: 2.0791 - mse: 2.0783 - val_loss: 1.3889 - val_mse: 1.3867\n",
      "Epoch 2/3\n",
      "452/452 - 6s - loss: 0.6667 - mse: 0.6631 - val_loss: 1.5058 - val_mse: 1.5006\n",
      "Epoch 3/3\n",
      "452/452 - 6s - loss: 0.3017 - mse: 0.2957 - val_loss: 1.5583 - val_mse: 1.5514\n",
      "MSE: 1.656077\n",
      "optimizer:Adam | embedding_dim:32 | lr:0.0001 | dropout:0.5 | hidden_units:(128, 128) | epochs:5 | batch_size:32\n",
      "Epoch 1/5\n"
     ]
    },
    {
     "name": "stderr",
     "output_type": "stream",
     "text": [
      "C:\\Users\\Montr\\anaconda3\\lib\\site-packages\\tensorflow\\python\\framework\\indexed_slices.py:433: UserWarning: Converting sparse IndexedSlices to a dense Tensor of unknown shape. This may consume a large amount of memory.\n",
      "  \"Converting sparse IndexedSlices to a dense Tensor of unknown shape. \"\n"
     ]
    },
    {
     "name": "stdout",
     "output_type": "stream",
     "text": [
      "904/904 - 12s - loss: 1.8438 - mse: 1.8423 - val_loss: 1.3991 - val_mse: 1.3953\n",
      "Epoch 2/5\n",
      "904/904 - 12s - loss: 0.6419 - mse: 0.6360 - val_loss: 1.4563 - val_mse: 1.4481\n",
      "Epoch 3/5\n",
      "904/904 - 12s - loss: 0.3064 - mse: 0.2968 - val_loss: 1.5552 - val_mse: 1.5440\n",
      "Epoch 4/5\n",
      "904/904 - 12s - loss: 0.1827 - mse: 0.1707 - val_loss: 1.5792 - val_mse: 1.5663\n",
      "Epoch 5/5\n",
      "904/904 - 12s - loss: 0.1421 - mse: 0.1286 - val_loss: 1.5436 - val_mse: 1.5294\n",
      "MSE: 1.6050476\n",
      "optimizer:Adam | embedding_dim:32 | lr:0.0001 | dropout:0.5 | hidden_units:(128, 128) | epochs:5 | batch_size:64\n",
      "Epoch 1/5\n"
     ]
    },
    {
     "name": "stderr",
     "output_type": "stream",
     "text": [
      "C:\\Users\\Montr\\anaconda3\\lib\\site-packages\\tensorflow\\python\\framework\\indexed_slices.py:433: UserWarning: Converting sparse IndexedSlices to a dense Tensor of unknown shape. This may consume a large amount of memory.\n",
      "  \"Converting sparse IndexedSlices to a dense Tensor of unknown shape. \"\n"
     ]
    },
    {
     "name": "stdout",
     "output_type": "stream",
     "text": [
      "452/452 - 7s - loss: 2.0986 - mse: 2.0978 - val_loss: 1.3940 - val_mse: 1.3918\n",
      "Epoch 2/5\n",
      "452/452 - 6s - loss: 0.6683 - mse: 0.6647 - val_loss: 1.5147 - val_mse: 1.5095\n",
      "Epoch 3/5\n",
      "452/452 - 6s - loss: 0.3005 - mse: 0.2944 - val_loss: 1.5317 - val_mse: 1.5247\n",
      "Epoch 4/5\n",
      "452/452 - 6s - loss: 0.1654 - mse: 0.1579 - val_loss: 1.5909 - val_mse: 1.5828\n",
      "Epoch 5/5\n",
      "452/452 - 6s - loss: 0.1166 - mse: 0.1082 - val_loss: 1.6817 - val_mse: 1.6730\n",
      "MSE: 1.7564756\n",
      "optimizer:Adam | embedding_dim:32 | lr:0.0001 | dropout:0.5 | hidden_units:(128, 128) | epochs:3 | batch_size:32\n",
      "Epoch 1/3\n"
     ]
    },
    {
     "name": "stderr",
     "output_type": "stream",
     "text": [
      "C:\\Users\\Montr\\anaconda3\\lib\\site-packages\\tensorflow\\python\\framework\\indexed_slices.py:433: UserWarning: Converting sparse IndexedSlices to a dense Tensor of unknown shape. This may consume a large amount of memory.\n",
      "  \"Converting sparse IndexedSlices to a dense Tensor of unknown shape. \"\n"
     ]
    },
    {
     "name": "stdout",
     "output_type": "stream",
     "text": [
      "904/904 - 13s - loss: 1.8051 - mse: 1.8036 - val_loss: 1.4022 - val_mse: 1.3983\n",
      "Epoch 2/3\n",
      "904/904 - 12s - loss: 0.6395 - mse: 0.6333 - val_loss: 1.5596 - val_mse: 1.5509\n",
      "Epoch 3/3\n",
      "904/904 - 12s - loss: 0.3162 - mse: 0.3062 - val_loss: 1.5236 - val_mse: 1.5119\n",
      "MSE: 1.58147\n",
      "optimizer:Adam | embedding_dim:32 | lr:0.0001 | dropout:0.5 | hidden_units:(128, 128) | epochs:3 | batch_size:64\n",
      "Epoch 1/3\n"
     ]
    },
    {
     "name": "stderr",
     "output_type": "stream",
     "text": [
      "C:\\Users\\Montr\\anaconda3\\lib\\site-packages\\tensorflow\\python\\framework\\indexed_slices.py:433: UserWarning: Converting sparse IndexedSlices to a dense Tensor of unknown shape. This may consume a large amount of memory.\n",
      "  \"Converting sparse IndexedSlices to a dense Tensor of unknown shape. \"\n"
     ]
    },
    {
     "name": "stdout",
     "output_type": "stream",
     "text": [
      "452/452 - 7s - loss: 2.0792 - mse: 2.0784 - val_loss: 1.4083 - val_mse: 1.4061\n",
      "Epoch 2/3\n",
      "452/452 - 6s - loss: 0.6514 - mse: 0.6479 - val_loss: 1.5155 - val_mse: 1.5105\n",
      "Epoch 3/3\n",
      "452/452 - 6s - loss: 0.2868 - mse: 0.2810 - val_loss: 1.4973 - val_mse: 1.4905\n",
      "MSE: 1.5748284\n",
      "optimizer:Adam | embedding_dim:32 | lr:0.0001 | dropout:0.5 | hidden_units:(128, 128) | epochs:5 | batch_size:32\n",
      "Epoch 1/5\n"
     ]
    },
    {
     "name": "stderr",
     "output_type": "stream",
     "text": [
      "C:\\Users\\Montr\\anaconda3\\lib\\site-packages\\tensorflow\\python\\framework\\indexed_slices.py:433: UserWarning: Converting sparse IndexedSlices to a dense Tensor of unknown shape. This may consume a large amount of memory.\n",
      "  \"Converting sparse IndexedSlices to a dense Tensor of unknown shape. \"\n"
     ]
    },
    {
     "name": "stdout",
     "output_type": "stream",
     "text": [
      "904/904 - 12s - loss: 1.8042 - mse: 1.8028 - val_loss: 1.3998 - val_mse: 1.3961\n",
      "Epoch 2/5\n",
      "904/904 - 12s - loss: 0.7213 - mse: 0.7154 - val_loss: 1.5676 - val_mse: 1.5591\n",
      "Epoch 3/5\n",
      "904/904 - 12s - loss: 0.3361 - mse: 0.3263 - val_loss: 1.4787 - val_mse: 1.4675\n",
      "Epoch 4/5\n",
      "904/904 - 12s - loss: 0.1770 - mse: 0.1652 - val_loss: 1.5705 - val_mse: 1.5579\n",
      "Epoch 5/5\n",
      "904/904 - 12s - loss: 0.1337 - mse: 0.1207 - val_loss: 1.6088 - val_mse: 1.5953\n",
      "MSE: 1.6876246\n",
      "optimizer:Adam | embedding_dim:32 | lr:0.0001 | dropout:0.5 | hidden_units:(128, 128) | epochs:5 | batch_size:64\n",
      "Epoch 1/5\n"
     ]
    },
    {
     "name": "stderr",
     "output_type": "stream",
     "text": [
      "C:\\Users\\Montr\\anaconda3\\lib\\site-packages\\tensorflow\\python\\framework\\indexed_slices.py:433: UserWarning: Converting sparse IndexedSlices to a dense Tensor of unknown shape. This may consume a large amount of memory.\n",
      "  \"Converting sparse IndexedSlices to a dense Tensor of unknown shape. \"\n"
     ]
    },
    {
     "name": "stdout",
     "output_type": "stream",
     "text": [
      "452/452 - 7s - loss: 2.1077 - mse: 2.1068 - val_loss: 1.4052 - val_mse: 1.4030\n",
      "Epoch 2/5\n",
      "452/452 - 6s - loss: 0.7006 - mse: 0.6969 - val_loss: 1.5571 - val_mse: 1.5516\n",
      "Epoch 3/5\n",
      "452/452 - 6s - loss: 0.3166 - mse: 0.3104 - val_loss: 1.4986 - val_mse: 1.4915\n",
      "Epoch 4/5\n",
      "452/452 - 6s - loss: 0.1762 - mse: 0.1686 - val_loss: 1.6702 - val_mse: 1.6620\n",
      "Epoch 5/5\n",
      "452/452 - 6s - loss: 0.1202 - mse: 0.1117 - val_loss: 1.5888 - val_mse: 1.5800\n",
      "MSE: 1.6761124\n",
      "optimizer:Adam | embedding_dim:32 | lr:0.0001 | dropout:0.5 | hidden_units:(128, 128) | epochs:3 | batch_size:32\n",
      "Epoch 1/3\n"
     ]
    },
    {
     "name": "stderr",
     "output_type": "stream",
     "text": [
      "C:\\Users\\Montr\\anaconda3\\lib\\site-packages\\tensorflow\\python\\framework\\indexed_slices.py:433: UserWarning: Converting sparse IndexedSlices to a dense Tensor of unknown shape. This may consume a large amount of memory.\n",
      "  \"Converting sparse IndexedSlices to a dense Tensor of unknown shape. \"\n"
     ]
    },
    {
     "name": "stdout",
     "output_type": "stream",
     "text": [
      "904/904 - 12s - loss: 1.8368 - mse: 1.8354 - val_loss: 1.3962 - val_mse: 1.3923\n",
      "Epoch 2/3\n",
      "904/904 - 12s - loss: 0.6428 - mse: 0.6367 - val_loss: 1.5357 - val_mse: 1.5273\n",
      "Epoch 3/3\n",
      "904/904 - 12s - loss: 0.3176 - mse: 0.3078 - val_loss: 1.5200 - val_mse: 1.5086\n",
      "MSE: 1.5863405\n",
      "optimizer:Adam | embedding_dim:32 | lr:0.0001 | dropout:0.5 | hidden_units:(128, 128) | epochs:3 | batch_size:64\n",
      "Epoch 1/3\n"
     ]
    },
    {
     "name": "stderr",
     "output_type": "stream",
     "text": [
      "C:\\Users\\Montr\\anaconda3\\lib\\site-packages\\tensorflow\\python\\framework\\indexed_slices.py:433: UserWarning: Converting sparse IndexedSlices to a dense Tensor of unknown shape. This may consume a large amount of memory.\n",
      "  \"Converting sparse IndexedSlices to a dense Tensor of unknown shape. \"\n"
     ]
    },
    {
     "name": "stdout",
     "output_type": "stream",
     "text": [
      "452/452 - 6s - loss: 2.1559 - mse: 2.1550 - val_loss: 1.4373 - val_mse: 1.4351\n",
      "Epoch 2/3\n",
      "452/452 - 6s - loss: 0.6626 - mse: 0.6590 - val_loss: 1.4902 - val_mse: 1.4850\n",
      "Epoch 3/3\n",
      "452/452 - 6s - loss: 0.2923 - mse: 0.2862 - val_loss: 1.5199 - val_mse: 1.5128\n",
      "MSE: 1.5868939\n",
      "optimizer:Adam | embedding_dim:32 | lr:0.0001 | dropout:0.5 | hidden_units:(128, 128) | epochs:5 | batch_size:32\n",
      "Epoch 1/5\n"
     ]
    },
    {
     "name": "stderr",
     "output_type": "stream",
     "text": [
      "C:\\Users\\Montr\\anaconda3\\lib\\site-packages\\tensorflow\\python\\framework\\indexed_slices.py:433: UserWarning: Converting sparse IndexedSlices to a dense Tensor of unknown shape. This may consume a large amount of memory.\n",
      "  \"Converting sparse IndexedSlices to a dense Tensor of unknown shape. \"\n"
     ]
    },
    {
     "name": "stdout",
     "output_type": "stream",
     "text": [
      "904/904 - 12s - loss: 1.8147 - mse: 1.8132 - val_loss: 1.4223 - val_mse: 1.4184\n",
      "Epoch 2/5\n",
      "904/904 - 12s - loss: 0.6392 - mse: 0.6330 - val_loss: 1.4806 - val_mse: 1.4719\n",
      "Epoch 3/5\n",
      "904/904 - 12s - loss: 0.3148 - mse: 0.3047 - val_loss: 1.5147 - val_mse: 1.5029\n",
      "Epoch 4/5\n",
      "904/904 - 12s - loss: 0.1639 - mse: 0.1515 - val_loss: 1.6088 - val_mse: 1.5956\n",
      "Epoch 5/5\n",
      "904/904 - 12s - loss: 0.1319 - mse: 0.1182 - val_loss: 1.5622 - val_mse: 1.5476\n",
      "MSE: 1.6520921\n",
      "optimizer:Adam | embedding_dim:32 | lr:0.0001 | dropout:0.5 | hidden_units:(128, 128) | epochs:5 | batch_size:64\n",
      "Epoch 1/5\n"
     ]
    },
    {
     "name": "stderr",
     "output_type": "stream",
     "text": [
      "C:\\Users\\Montr\\anaconda3\\lib\\site-packages\\tensorflow\\python\\framework\\indexed_slices.py:433: UserWarning: Converting sparse IndexedSlices to a dense Tensor of unknown shape. This may consume a large amount of memory.\n",
      "  \"Converting sparse IndexedSlices to a dense Tensor of unknown shape. \"\n"
     ]
    },
    {
     "name": "stdout",
     "output_type": "stream",
     "text": [
      "452/452 - 7s - loss: 2.1672 - mse: 2.1664 - val_loss: 1.3937 - val_mse: 1.3915\n",
      "Epoch 2/5\n",
      "452/452 - 6s - loss: 0.6773 - mse: 0.6736 - val_loss: 1.5683 - val_mse: 1.5628\n",
      "Epoch 3/5\n",
      "452/452 - 6s - loss: 0.3109 - mse: 0.3047 - val_loss: 1.4898 - val_mse: 1.4827\n",
      "Epoch 4/5\n",
      "452/452 - 6s - loss: 0.1634 - mse: 0.1558 - val_loss: 1.6097 - val_mse: 1.6016\n",
      "Epoch 5/5\n",
      "452/452 - 6s - loss: 0.1146 - mse: 0.1062 - val_loss: 1.6438 - val_mse: 1.6350\n",
      "MSE: 1.716626\n",
      "optimizer:Adam | embedding_dim:32 | lr:0.0001 | dropout:0.5 | hidden_units:(128, 128) | epochs:3 | batch_size:32\n",
      "Epoch 1/3\n"
     ]
    },
    {
     "name": "stderr",
     "output_type": "stream",
     "text": [
      "C:\\Users\\Montr\\anaconda3\\lib\\site-packages\\tensorflow\\python\\framework\\indexed_slices.py:433: UserWarning: Converting sparse IndexedSlices to a dense Tensor of unknown shape. This may consume a large amount of memory.\n",
      "  \"Converting sparse IndexedSlices to a dense Tensor of unknown shape. \"\n"
     ]
    },
    {
     "name": "stdout",
     "output_type": "stream",
     "text": [
      "904/904 - 12s - loss: 1.8471 - mse: 1.8456 - val_loss: 1.3981 - val_mse: 1.3943\n",
      "Epoch 2/3\n",
      "904/904 - 12s - loss: 0.6406 - mse: 0.6347 - val_loss: 1.4793 - val_mse: 1.4711\n",
      "Epoch 3/3\n",
      "904/904 - 12s - loss: 0.3121 - mse: 0.3024 - val_loss: 1.4645 - val_mse: 1.4532\n",
      "MSE: 1.5446093\n",
      "optimizer:Adam | embedding_dim:32 | lr:0.0001 | dropout:0.5 | hidden_units:(128, 128) | epochs:3 | batch_size:64\n",
      "Epoch 1/3\n"
     ]
    },
    {
     "name": "stderr",
     "output_type": "stream",
     "text": [
      "C:\\Users\\Montr\\anaconda3\\lib\\site-packages\\tensorflow\\python\\framework\\indexed_slices.py:433: UserWarning: Converting sparse IndexedSlices to a dense Tensor of unknown shape. This may consume a large amount of memory.\n",
      "  \"Converting sparse IndexedSlices to a dense Tensor of unknown shape. \"\n"
     ]
    },
    {
     "name": "stdout",
     "output_type": "stream",
     "text": [
      "452/452 - 7s - loss: 2.1382 - mse: 2.1374 - val_loss: 1.3911 - val_mse: 1.3889\n",
      "Epoch 2/3\n",
      "452/452 - 6s - loss: 0.6633 - mse: 0.6597 - val_loss: 1.5106 - val_mse: 1.5055\n",
      "Epoch 3/3\n",
      "452/452 - 6s - loss: 0.3077 - mse: 0.3017 - val_loss: 1.5786 - val_mse: 1.5715\n",
      "MSE: 1.6632721\n",
      "optimizer:Adam | embedding_dim:32 | lr:0.0001 | dropout:0.5 | hidden_units:(128, 128) | epochs:5 | batch_size:32\n",
      "Epoch 1/5\n"
     ]
    },
    {
     "name": "stderr",
     "output_type": "stream",
     "text": [
      "C:\\Users\\Montr\\anaconda3\\lib\\site-packages\\tensorflow\\python\\framework\\indexed_slices.py:433: UserWarning: Converting sparse IndexedSlices to a dense Tensor of unknown shape. This may consume a large amount of memory.\n",
      "  \"Converting sparse IndexedSlices to a dense Tensor of unknown shape. \"\n"
     ]
    },
    {
     "name": "stdout",
     "output_type": "stream",
     "text": [
      "904/904 - 12s - loss: 1.7950 - mse: 1.7935 - val_loss: 1.3993 - val_mse: 1.3955\n",
      "Epoch 2/5\n",
      "904/904 - 12s - loss: 0.6169 - mse: 0.6110 - val_loss: 1.4826 - val_mse: 1.4746\n",
      "Epoch 3/5\n",
      "904/904 - 12s - loss: 0.3311 - mse: 0.3215 - val_loss: 1.5032 - val_mse: 1.4917\n",
      "Epoch 4/5\n",
      "904/904 - 12s - loss: 0.1915 - mse: 0.1792 - val_loss: 1.5731 - val_mse: 1.5598\n",
      "Epoch 5/5\n",
      "904/904 - 12s - loss: 0.1321 - mse: 0.1182 - val_loss: 1.5379 - val_mse: 1.5234\n",
      "MSE: 1.5946425\n",
      "optimizer:Adam | embedding_dim:32 | lr:0.0001 | dropout:0.5 | hidden_units:(128, 128) | epochs:5 | batch_size:64\n",
      "Epoch 1/5\n"
     ]
    },
    {
     "name": "stderr",
     "output_type": "stream",
     "text": [
      "C:\\Users\\Montr\\anaconda3\\lib\\site-packages\\tensorflow\\python\\framework\\indexed_slices.py:433: UserWarning: Converting sparse IndexedSlices to a dense Tensor of unknown shape. This may consume a large amount of memory.\n",
      "  \"Converting sparse IndexedSlices to a dense Tensor of unknown shape. \"\n"
     ]
    },
    {
     "name": "stdout",
     "output_type": "stream",
     "text": [
      "452/452 - 7s - loss: 2.1712 - mse: 2.1703 - val_loss: 1.3981 - val_mse: 1.3959\n",
      "Epoch 2/5\n",
      "452/452 - 6s - loss: 0.6724 - mse: 0.6686 - val_loss: 1.5416 - val_mse: 1.5360\n",
      "Epoch 3/5\n",
      "452/452 - 6s - loss: 0.2985 - mse: 0.2920 - val_loss: 1.4958 - val_mse: 1.4883\n",
      "Epoch 4/5\n",
      "452/452 - 6s - loss: 0.1705 - mse: 0.1625 - val_loss: 1.6189 - val_mse: 1.6103\n",
      "Epoch 5/5\n",
      "452/452 - 6s - loss: 0.1198 - mse: 0.1109 - val_loss: 1.6428 - val_mse: 1.6336\n",
      "MSE: 1.7264777\n",
      "optimizer:Adam | embedding_dim:32 | lr:0.0001 | dropout:0.5 | hidden_units:(128, 128) | epochs:3 | batch_size:32\n",
      "Epoch 1/3\n"
     ]
    },
    {
     "name": "stderr",
     "output_type": "stream",
     "text": [
      "C:\\Users\\Montr\\anaconda3\\lib\\site-packages\\tensorflow\\python\\framework\\indexed_slices.py:433: UserWarning: Converting sparse IndexedSlices to a dense Tensor of unknown shape. This may consume a large amount of memory.\n",
      "  \"Converting sparse IndexedSlices to a dense Tensor of unknown shape. \"\n"
     ]
    },
    {
     "name": "stdout",
     "output_type": "stream",
     "text": [
      "904/904 - 12s - loss: 1.8204 - mse: 1.8189 - val_loss: 1.4219 - val_mse: 1.4180\n",
      "Epoch 2/3\n",
      "904/904 - 12s - loss: 0.6381 - mse: 0.6319 - val_loss: 1.5006 - val_mse: 1.4919\n",
      "Epoch 3/3\n",
      "904/904 - 12s - loss: 0.3199 - mse: 0.3099 - val_loss: 1.5137 - val_mse: 1.5021\n",
      "MSE: 1.5963029\n",
      "optimizer:Adam | embedding_dim:32 | lr:0.0001 | dropout:0.5 | hidden_units:(128, 128) | epochs:3 | batch_size:64\n",
      "Epoch 1/3\n"
     ]
    },
    {
     "name": "stderr",
     "output_type": "stream",
     "text": [
      "C:\\Users\\Montr\\anaconda3\\lib\\site-packages\\tensorflow\\python\\framework\\indexed_slices.py:433: UserWarning: Converting sparse IndexedSlices to a dense Tensor of unknown shape. This may consume a large amount of memory.\n",
      "  \"Converting sparse IndexedSlices to a dense Tensor of unknown shape. \"\n"
     ]
    },
    {
     "name": "stdout",
     "output_type": "stream",
     "text": [
      "452/452 - 7s - loss: 2.0801 - mse: 2.0793 - val_loss: 1.3979 - val_mse: 1.3957\n",
      "Epoch 2/3\n",
      "452/452 - 7s - loss: 0.6653 - mse: 0.6616 - val_loss: 1.5254 - val_mse: 1.5202\n",
      "Epoch 3/3\n",
      "452/452 - 7s - loss: 0.3008 - mse: 0.2947 - val_loss: 1.5957 - val_mse: 1.5887\n",
      "MSE: 1.6653752\n",
      "optimizer:Adam | embedding_dim:32 | lr:0.0001 | dropout:0.5 | hidden_units:(128, 128) | epochs:5 | batch_size:32\n",
      "Epoch 1/5\n"
     ]
    },
    {
     "name": "stderr",
     "output_type": "stream",
     "text": [
      "C:\\Users\\Montr\\anaconda3\\lib\\site-packages\\tensorflow\\python\\framework\\indexed_slices.py:433: UserWarning: Converting sparse IndexedSlices to a dense Tensor of unknown shape. This may consume a large amount of memory.\n",
      "  \"Converting sparse IndexedSlices to a dense Tensor of unknown shape. \"\n"
     ]
    },
    {
     "name": "stdout",
     "output_type": "stream",
     "text": [
      "904/904 - 12s - loss: 1.8072 - mse: 1.8058 - val_loss: 1.3936 - val_mse: 1.3899\n",
      "Epoch 2/5\n",
      "904/904 - 12s - loss: 0.6607 - mse: 0.6546 - val_loss: 1.5440 - val_mse: 1.5352\n",
      "Epoch 3/5\n",
      "904/904 - 12s - loss: 0.3259 - mse: 0.3157 - val_loss: 1.4897 - val_mse: 1.4779\n",
      "Epoch 4/5\n",
      "904/904 - 12s - loss: 0.1742 - mse: 0.1617 - val_loss: 1.5834 - val_mse: 1.5702\n",
      "Epoch 5/5\n",
      "904/904 - 12s - loss: 0.1292 - mse: 0.1153 - val_loss: 1.6094 - val_mse: 1.5947\n",
      "MSE: 1.7104273\n",
      "optimizer:Adam | embedding_dim:32 | lr:0.0001 | dropout:0.5 | hidden_units:(128, 128) | epochs:5 | batch_size:64\n",
      "Epoch 1/5\n"
     ]
    },
    {
     "name": "stderr",
     "output_type": "stream",
     "text": [
      "C:\\Users\\Montr\\anaconda3\\lib\\site-packages\\tensorflow\\python\\framework\\indexed_slices.py:433: UserWarning: Converting sparse IndexedSlices to a dense Tensor of unknown shape. This may consume a large amount of memory.\n",
      "  \"Converting sparse IndexedSlices to a dense Tensor of unknown shape. \"\n"
     ]
    },
    {
     "name": "stdout",
     "output_type": "stream",
     "text": [
      "452/452 - 7s - loss: 2.1120 - mse: 2.1112 - val_loss: 1.3976 - val_mse: 1.3954\n",
      "Epoch 2/5\n",
      "452/452 - 6s - loss: 0.6795 - mse: 0.6758 - val_loss: 1.5349 - val_mse: 1.5295\n",
      "Epoch 3/5\n",
      "452/452 - 6s - loss: 0.2937 - mse: 0.2874 - val_loss: 1.5515 - val_mse: 1.5443\n",
      "Epoch 4/5\n",
      "452/452 - 6s - loss: 0.1556 - mse: 0.1479 - val_loss: 1.7186 - val_mse: 1.7103\n",
      "Epoch 5/5\n",
      "452/452 - 6s - loss: 0.1145 - mse: 0.1060 - val_loss: 1.6630 - val_mse: 1.6541\n",
      "MSE: 1.738986\n",
      "optimizer:Adam | embedding_dim:32 | lr:0.0001 | dropout:0.5 | hidden_units:(128, 128) | epochs:3 | batch_size:32\n",
      "Epoch 1/3\n"
     ]
    },
    {
     "name": "stderr",
     "output_type": "stream",
     "text": [
      "C:\\Users\\Montr\\anaconda3\\lib\\site-packages\\tensorflow\\python\\framework\\indexed_slices.py:433: UserWarning: Converting sparse IndexedSlices to a dense Tensor of unknown shape. This may consume a large amount of memory.\n",
      "  \"Converting sparse IndexedSlices to a dense Tensor of unknown shape. \"\n"
     ]
    },
    {
     "name": "stdout",
     "output_type": "stream",
     "text": [
      "904/904 - 12s - loss: 1.8213 - mse: 1.8199 - val_loss: 1.4165 - val_mse: 1.4126\n",
      "Epoch 2/3\n",
      "904/904 - 12s - loss: 0.6394 - mse: 0.6334 - val_loss: 1.5421 - val_mse: 1.5337\n",
      "Epoch 3/3\n",
      "904/904 - 12s - loss: 0.3174 - mse: 0.3076 - val_loss: 1.5137 - val_mse: 1.5023\n",
      "MSE: 1.5788133\n",
      "optimizer:Adam | embedding_dim:32 | lr:0.0001 | dropout:0.5 | hidden_units:(128, 128) | epochs:3 | batch_size:64\n",
      "Epoch 1/3\n"
     ]
    },
    {
     "name": "stderr",
     "output_type": "stream",
     "text": [
      "C:\\Users\\Montr\\anaconda3\\lib\\site-packages\\tensorflow\\python\\framework\\indexed_slices.py:433: UserWarning: Converting sparse IndexedSlices to a dense Tensor of unknown shape. This may consume a large amount of memory.\n",
      "  \"Converting sparse IndexedSlices to a dense Tensor of unknown shape. \"\n"
     ]
    },
    {
     "name": "stdout",
     "output_type": "stream",
     "text": [
      "452/452 - 7s - loss: 2.1010 - mse: 2.1002 - val_loss: 1.5363 - val_mse: 1.5341\n",
      "Epoch 2/3\n",
      "452/452 - 6s - loss: 0.6552 - mse: 0.6517 - val_loss: 1.4851 - val_mse: 1.4801\n",
      "Epoch 3/3\n",
      "452/452 - 6s - loss: 0.3017 - mse: 0.2959 - val_loss: 1.5674 - val_mse: 1.5606\n",
      "MSE: 1.6430153\n",
      "optimizer:Adam | embedding_dim:32 | lr:0.0001 | dropout:0.5 | hidden_units:(128, 128) | epochs:5 | batch_size:32\n",
      "Epoch 1/5\n"
     ]
    },
    {
     "name": "stderr",
     "output_type": "stream",
     "text": [
      "C:\\Users\\Montr\\anaconda3\\lib\\site-packages\\tensorflow\\python\\framework\\indexed_slices.py:433: UserWarning: Converting sparse IndexedSlices to a dense Tensor of unknown shape. This may consume a large amount of memory.\n",
      "  \"Converting sparse IndexedSlices to a dense Tensor of unknown shape. \"\n"
     ]
    },
    {
     "name": "stdout",
     "output_type": "stream",
     "text": [
      "904/904 - 12s - loss: 1.8070 - mse: 1.8055 - val_loss: 1.4308 - val_mse: 1.4269\n",
      "Epoch 2/5\n",
      "904/904 - 12s - loss: 0.6206 - mse: 0.6148 - val_loss: 1.4896 - val_mse: 1.4818\n",
      "Epoch 3/5\n",
      "904/904 - 12s - loss: 0.3063 - mse: 0.2971 - val_loss: 1.5467 - val_mse: 1.5357\n",
      "Epoch 4/5\n",
      "904/904 - 12s - loss: 0.1785 - mse: 0.1668 - val_loss: 1.6244 - val_mse: 1.6116\n",
      "Epoch 5/5\n",
      "904/904 - 12s - loss: 0.1485 - mse: 0.1351 - val_loss: 1.5269 - val_mse: 1.5126\n",
      "MSE: 1.5974098\n",
      "optimizer:Adam | embedding_dim:32 | lr:0.0001 | dropout:0.5 | hidden_units:(128, 128) | epochs:5 | batch_size:64\n",
      "Epoch 1/5\n"
     ]
    },
    {
     "name": "stderr",
     "output_type": "stream",
     "text": [
      "C:\\Users\\Montr\\anaconda3\\lib\\site-packages\\tensorflow\\python\\framework\\indexed_slices.py:433: UserWarning: Converting sparse IndexedSlices to a dense Tensor of unknown shape. This may consume a large amount of memory.\n",
      "  \"Converting sparse IndexedSlices to a dense Tensor of unknown shape. \"\n"
     ]
    },
    {
     "name": "stdout",
     "output_type": "stream",
     "text": [
      "452/452 - 7s - loss: 2.1216 - mse: 2.1208 - val_loss: 1.4047 - val_mse: 1.4026\n",
      "Epoch 2/5\n",
      "452/452 - 6s - loss: 0.6651 - mse: 0.6615 - val_loss: 1.5307 - val_mse: 1.5256\n",
      "Epoch 3/5\n",
      "452/452 - 6s - loss: 0.3020 - mse: 0.2960 - val_loss: 1.5250 - val_mse: 1.5180\n",
      "Epoch 4/5\n",
      "452/452 - 6s - loss: 0.1543 - mse: 0.1470 - val_loss: 1.6522 - val_mse: 1.6443\n",
      "Epoch 5/5\n",
      "452/452 - 6s - loss: 0.1189 - mse: 0.1107 - val_loss: 1.6028 - val_mse: 1.5942\n",
      "MSE: 1.6779943\n",
      "optimizer:Adam | embedding_dim:32 | lr:0.0001 | dropout:0.5 | hidden_units:(128, 128) | epochs:3 | batch_size:32\n",
      "Epoch 1/3\n"
     ]
    },
    {
     "name": "stderr",
     "output_type": "stream",
     "text": [
      "C:\\Users\\Montr\\anaconda3\\lib\\site-packages\\tensorflow\\python\\framework\\indexed_slices.py:433: UserWarning: Converting sparse IndexedSlices to a dense Tensor of unknown shape. This may consume a large amount of memory.\n",
      "  \"Converting sparse IndexedSlices to a dense Tensor of unknown shape. \"\n"
     ]
    },
    {
     "name": "stdout",
     "output_type": "stream",
     "text": [
      "904/904 - 13s - loss: 1.8307 - mse: 1.8292 - val_loss: 1.3921 - val_mse: 1.3884\n",
      "Epoch 2/3\n",
      "904/904 - 12s - loss: 0.6435 - mse: 0.6377 - val_loss: 1.5594 - val_mse: 1.5513\n",
      "Epoch 3/3\n",
      "904/904 - 12s - loss: 0.3290 - mse: 0.3196 - val_loss: 1.5118 - val_mse: 1.5008\n",
      "MSE: 1.5826876\n",
      "optimizer:Adam | embedding_dim:32 | lr:0.0001 | dropout:0.5 | hidden_units:(128, 128) | epochs:3 | batch_size:64\n",
      "Epoch 1/3\n"
     ]
    },
    {
     "name": "stderr",
     "output_type": "stream",
     "text": [
      "C:\\Users\\Montr\\anaconda3\\lib\\site-packages\\tensorflow\\python\\framework\\indexed_slices.py:433: UserWarning: Converting sparse IndexedSlices to a dense Tensor of unknown shape. This may consume a large amount of memory.\n",
      "  \"Converting sparse IndexedSlices to a dense Tensor of unknown shape. \"\n"
     ]
    },
    {
     "name": "stdout",
     "output_type": "stream",
     "text": [
      "452/452 - 7s - loss: 2.1205 - mse: 2.1197 - val_loss: 1.4030 - val_mse: 1.4008\n",
      "Epoch 2/3\n",
      "452/452 - 6s - loss: 0.6939 - mse: 0.6902 - val_loss: 1.5197 - val_mse: 1.5143\n",
      "Epoch 3/3\n",
      "452/452 - 6s - loss: 0.3084 - mse: 0.3021 - val_loss: 1.5284 - val_mse: 1.5211\n",
      "MSE: 1.6061546\n",
      "optimizer:Adam | embedding_dim:32 | lr:0.0001 | dropout:0.5 | hidden_units:(128, 128) | epochs:5 | batch_size:32\n",
      "Epoch 1/5\n"
     ]
    },
    {
     "name": "stderr",
     "output_type": "stream",
     "text": [
      "C:\\Users\\Montr\\anaconda3\\lib\\site-packages\\tensorflow\\python\\framework\\indexed_slices.py:433: UserWarning: Converting sparse IndexedSlices to a dense Tensor of unknown shape. This may consume a large amount of memory.\n",
      "  \"Converting sparse IndexedSlices to a dense Tensor of unknown shape. \"\n"
     ]
    },
    {
     "name": "stdout",
     "output_type": "stream",
     "text": [
      "904/904 - 13s - loss: 1.8140 - mse: 1.8125 - val_loss: 1.3929 - val_mse: 1.3890\n",
      "Epoch 2/5\n",
      "904/904 - 12s - loss: 0.6234 - mse: 0.6174 - val_loss: 1.5196 - val_mse: 1.5115\n",
      "Epoch 3/5\n",
      "904/904 - 12s - loss: 0.3114 - mse: 0.3019 - val_loss: 1.5357 - val_mse: 1.5245\n",
      "Epoch 4/5\n",
      "904/904 - 12s - loss: 0.1772 - mse: 0.1652 - val_loss: 1.5967 - val_mse: 1.5837\n",
      "Epoch 5/5\n",
      "904/904 - 12s - loss: 0.1444 - mse: 0.1309 - val_loss: 1.5692 - val_mse: 1.5549\n",
      "MSE: 1.6296214\n",
      "optimizer:Adam | embedding_dim:32 | lr:0.0001 | dropout:0.5 | hidden_units:(128, 128) | epochs:5 | batch_size:64\n",
      "Epoch 1/5\n"
     ]
    },
    {
     "name": "stderr",
     "output_type": "stream",
     "text": [
      "C:\\Users\\Montr\\anaconda3\\lib\\site-packages\\tensorflow\\python\\framework\\indexed_slices.py:433: UserWarning: Converting sparse IndexedSlices to a dense Tensor of unknown shape. This may consume a large amount of memory.\n",
      "  \"Converting sparse IndexedSlices to a dense Tensor of unknown shape. \"\n"
     ]
    },
    {
     "name": "stdout",
     "output_type": "stream",
     "text": [
      "452/452 - 7s - loss: 2.1490 - mse: 2.1481 - val_loss: 1.3843 - val_mse: 1.3822\n",
      "Epoch 2/5\n",
      "452/452 - 6s - loss: 0.6981 - mse: 0.6943 - val_loss: 1.5698 - val_mse: 1.5642\n",
      "Epoch 3/5\n",
      "452/452 - 6s - loss: 0.3188 - mse: 0.3123 - val_loss: 1.5328 - val_mse: 1.5254\n",
      "Epoch 4/5\n",
      "452/452 - 6s - loss: 0.1685 - mse: 0.1607 - val_loss: 1.6075 - val_mse: 1.5991\n",
      "Epoch 5/5\n",
      "452/452 - 6s - loss: 0.1180 - mse: 0.1093 - val_loss: 1.5883 - val_mse: 1.5793\n",
      "MSE: 1.6561878\n",
      "optimizer:Adam | embedding_dim:32 | lr:0.0001 | dropout:0.5 | hidden_units:(128, 128) | epochs:3 | batch_size:32\n",
      "Epoch 1/3\n"
     ]
    },
    {
     "name": "stderr",
     "output_type": "stream",
     "text": [
      "C:\\Users\\Montr\\anaconda3\\lib\\site-packages\\tensorflow\\python\\framework\\indexed_slices.py:433: UserWarning: Converting sparse IndexedSlices to a dense Tensor of unknown shape. This may consume a large amount of memory.\n",
      "  \"Converting sparse IndexedSlices to a dense Tensor of unknown shape. \"\n"
     ]
    },
    {
     "name": "stdout",
     "output_type": "stream",
     "text": [
      "904/904 - 12s - loss: 1.8090 - mse: 1.8076 - val_loss: 1.4652 - val_mse: 1.4614\n",
      "Epoch 2/3\n",
      "904/904 - 12s - loss: 0.6338 - mse: 0.6278 - val_loss: 1.6682 - val_mse: 1.6600\n",
      "Epoch 3/3\n",
      "904/904 - 12s - loss: 0.3192 - mse: 0.3095 - val_loss: 1.5808 - val_mse: 1.5693\n",
      "MSE: 1.6277397\n",
      "optimizer:Adam | embedding_dim:32 | lr:0.0001 | dropout:0.5 | hidden_units:(128, 128) | epochs:3 | batch_size:64\n",
      "Epoch 1/3\n"
     ]
    },
    {
     "name": "stderr",
     "output_type": "stream",
     "text": [
      "C:\\Users\\Montr\\anaconda3\\lib\\site-packages\\tensorflow\\python\\framework\\indexed_slices.py:433: UserWarning: Converting sparse IndexedSlices to a dense Tensor of unknown shape. This may consume a large amount of memory.\n",
      "  \"Converting sparse IndexedSlices to a dense Tensor of unknown shape. \"\n"
     ]
    },
    {
     "name": "stdout",
     "output_type": "stream",
     "text": [
      "452/452 - 7s - loss: 2.1139 - mse: 2.1131 - val_loss: 1.4106 - val_mse: 1.4084\n",
      "Epoch 2/3\n",
      "452/452 - 6s - loss: 0.6691 - mse: 0.6656 - val_loss: 1.5279 - val_mse: 1.5227\n",
      "Epoch 3/3\n",
      "452/452 - 6s - loss: 0.3083 - mse: 0.3024 - val_loss: 1.5672 - val_mse: 1.5605\n",
      "MSE: 1.6601727\n",
      "optimizer:Adam | embedding_dim:32 | lr:0.0001 | dropout:0.5 | hidden_units:(128, 128) | epochs:5 | batch_size:32\n",
      "Epoch 1/5\n"
     ]
    },
    {
     "name": "stderr",
     "output_type": "stream",
     "text": [
      "C:\\Users\\Montr\\anaconda3\\lib\\site-packages\\tensorflow\\python\\framework\\indexed_slices.py:433: UserWarning: Converting sparse IndexedSlices to a dense Tensor of unknown shape. This may consume a large amount of memory.\n",
      "  \"Converting sparse IndexedSlices to a dense Tensor of unknown shape. \"\n"
     ]
    },
    {
     "name": "stdout",
     "output_type": "stream",
     "text": [
      "904/904 - 12s - loss: 1.8439 - mse: 1.8424 - val_loss: 1.4485 - val_mse: 1.4446\n",
      "Epoch 2/5\n",
      "904/904 - 12s - loss: 0.6367 - mse: 0.6308 - val_loss: 1.5617 - val_mse: 1.5536\n",
      "Epoch 3/5\n",
      "904/904 - 12s - loss: 0.3055 - mse: 0.2961 - val_loss: 1.5453 - val_mse: 1.5343\n",
      "Epoch 4/5\n",
      "904/904 - 12s - loss: 0.1753 - mse: 0.1635 - val_loss: 1.6876 - val_mse: 1.6749\n",
      "Epoch 5/5\n",
      "904/904 - 12s - loss: 0.1419 - mse: 0.1285 - val_loss: 1.5659 - val_mse: 1.5516\n",
      "MSE: 1.6647111\n",
      "optimizer:Adam | embedding_dim:32 | lr:0.0001 | dropout:0.5 | hidden_units:(128, 128) | epochs:5 | batch_size:64\n",
      "Epoch 1/5\n"
     ]
    },
    {
     "name": "stderr",
     "output_type": "stream",
     "text": [
      "C:\\Users\\Montr\\anaconda3\\lib\\site-packages\\tensorflow\\python\\framework\\indexed_slices.py:433: UserWarning: Converting sparse IndexedSlices to a dense Tensor of unknown shape. This may consume a large amount of memory.\n",
      "  \"Converting sparse IndexedSlices to a dense Tensor of unknown shape. \"\n"
     ]
    },
    {
     "name": "stdout",
     "output_type": "stream",
     "text": [
      "452/452 - 7s - loss: 2.1761 - mse: 2.1753 - val_loss: 1.3951 - val_mse: 1.3929\n",
      "Epoch 2/5\n",
      "452/452 - 6s - loss: 0.6850 - mse: 0.6813 - val_loss: 1.5217 - val_mse: 1.5161\n",
      "Epoch 3/5\n",
      "452/452 - 7s - loss: 0.2925 - mse: 0.2861 - val_loss: 1.5275 - val_mse: 1.5203\n",
      "Epoch 4/5\n",
      "452/452 - 7s - loss: 0.1687 - mse: 0.1609 - val_loss: 1.5663 - val_mse: 1.5580\n",
      "Epoch 5/5\n",
      "452/452 - 6s - loss: 0.1215 - mse: 0.1130 - val_loss: 1.5800 - val_mse: 1.5711\n",
      "MSE: 1.6792119\n",
      "optimizer:Adam | embedding_dim:32 | lr:0.0001 | dropout:0.5 | hidden_units:(128, 128) | epochs:3 | batch_size:32\n",
      "Epoch 1/3\n"
     ]
    },
    {
     "name": "stderr",
     "output_type": "stream",
     "text": [
      "C:\\Users\\Montr\\anaconda3\\lib\\site-packages\\tensorflow\\python\\framework\\indexed_slices.py:433: UserWarning: Converting sparse IndexedSlices to a dense Tensor of unknown shape. This may consume a large amount of memory.\n",
      "  \"Converting sparse IndexedSlices to a dense Tensor of unknown shape. \"\n"
     ]
    },
    {
     "name": "stdout",
     "output_type": "stream",
     "text": [
      "904/904 - 13s - loss: 1.8124 - mse: 1.8109 - val_loss: 1.4062 - val_mse: 1.4023\n",
      "Epoch 2/3\n",
      "904/904 - 12s - loss: 0.6376 - mse: 0.6317 - val_loss: 1.4925 - val_mse: 1.4844\n",
      "Epoch 3/3\n",
      "904/904 - 12s - loss: 0.3157 - mse: 0.3062 - val_loss: 1.4895 - val_mse: 1.4784\n",
      "MSE: 1.5676334\n",
      "optimizer:Adam | embedding_dim:32 | lr:0.0001 | dropout:0.5 | hidden_units:(128, 128) | epochs:3 | batch_size:64\n",
      "Epoch 1/3\n"
     ]
    },
    {
     "name": "stderr",
     "output_type": "stream",
     "text": [
      "C:\\Users\\Montr\\anaconda3\\lib\\site-packages\\tensorflow\\python\\framework\\indexed_slices.py:433: UserWarning: Converting sparse IndexedSlices to a dense Tensor of unknown shape. This may consume a large amount of memory.\n",
      "  \"Converting sparse IndexedSlices to a dense Tensor of unknown shape. \"\n"
     ]
    },
    {
     "name": "stdout",
     "output_type": "stream",
     "text": [
      "452/452 - 7s - loss: 2.1347 - mse: 2.1339 - val_loss: 1.4017 - val_mse: 1.3995\n",
      "Epoch 2/3\n",
      "452/452 - 6s - loss: 0.6847 - mse: 0.6810 - val_loss: 1.5324 - val_mse: 1.5269\n",
      "Epoch 3/3\n",
      "452/452 - 6s - loss: 0.3106 - mse: 0.3044 - val_loss: 1.5045 - val_mse: 1.4975\n",
      "MSE: 1.5691831\n",
      "optimizer:Adam | embedding_dim:32 | lr:0.0001 | dropout:0.5 | hidden_units:(128, 128) | epochs:5 | batch_size:32\n",
      "Epoch 1/5\n"
     ]
    },
    {
     "name": "stderr",
     "output_type": "stream",
     "text": [
      "C:\\Users\\Montr\\anaconda3\\lib\\site-packages\\tensorflow\\python\\framework\\indexed_slices.py:433: UserWarning: Converting sparse IndexedSlices to a dense Tensor of unknown shape. This may consume a large amount of memory.\n",
      "  \"Converting sparse IndexedSlices to a dense Tensor of unknown shape. \"\n"
     ]
    },
    {
     "name": "stdout",
     "output_type": "stream",
     "text": [
      "904/904 - 13s - loss: 1.8360 - mse: 1.8345 - val_loss: 1.4414 - val_mse: 1.4376\n",
      "Epoch 2/5\n",
      "904/904 - 12s - loss: 0.6261 - mse: 0.6204 - val_loss: 1.5141 - val_mse: 1.5063\n",
      "Epoch 3/5\n",
      "904/904 - 12s - loss: 0.3204 - mse: 0.3111 - val_loss: 1.5497 - val_mse: 1.5386\n",
      "Epoch 4/5\n",
      "904/904 - 12s - loss: 0.1852 - mse: 0.1732 - val_loss: 1.5176 - val_mse: 1.5045\n",
      "Epoch 5/5\n",
      "904/904 - 12s - loss: 0.1373 - mse: 0.1236 - val_loss: 1.6440 - val_mse: 1.6297\n",
      "MSE: 1.7100952\n",
      "optimizer:Adam | embedding_dim:32 | lr:0.0001 | dropout:0.5 | hidden_units:(128, 128) | epochs:5 | batch_size:64\n",
      "Epoch 1/5\n"
     ]
    },
    {
     "name": "stderr",
     "output_type": "stream",
     "text": [
      "C:\\Users\\Montr\\anaconda3\\lib\\site-packages\\tensorflow\\python\\framework\\indexed_slices.py:433: UserWarning: Converting sparse IndexedSlices to a dense Tensor of unknown shape. This may consume a large amount of memory.\n",
      "  \"Converting sparse IndexedSlices to a dense Tensor of unknown shape. \"\n"
     ]
    },
    {
     "name": "stdout",
     "output_type": "stream",
     "text": [
      "452/452 - 7s - loss: 2.1609 - mse: 2.1601 - val_loss: 1.3833 - val_mse: 1.3811\n",
      "Epoch 2/5\n",
      "452/452 - 6s - loss: 0.6513 - mse: 0.6479 - val_loss: 1.4689 - val_mse: 1.4641\n",
      "Epoch 3/5\n",
      "452/452 - 6s - loss: 0.2936 - mse: 0.2879 - val_loss: 1.5303 - val_mse: 1.5235\n",
      "Epoch 4/5\n",
      "452/452 - 6s - loss: 0.1526 - mse: 0.1453 - val_loss: 1.6347 - val_mse: 1.6269\n",
      "Epoch 5/5\n",
      "452/452 - 6s - loss: 0.1217 - mse: 0.1136 - val_loss: 1.6789 - val_mse: 1.6703\n",
      "MSE: 1.7579145\n",
      "optimizer:Adam | embedding_dim:32 | lr:0.0001 | dropout:0.5 | hidden_units:(128, 128) | epochs:3 | batch_size:32\n",
      "Epoch 1/3\n"
     ]
    },
    {
     "name": "stderr",
     "output_type": "stream",
     "text": [
      "C:\\Users\\Montr\\anaconda3\\lib\\site-packages\\tensorflow\\python\\framework\\indexed_slices.py:433: UserWarning: Converting sparse IndexedSlices to a dense Tensor of unknown shape. This may consume a large amount of memory.\n",
      "  \"Converting sparse IndexedSlices to a dense Tensor of unknown shape. \"\n"
     ]
    },
    {
     "name": "stdout",
     "output_type": "stream",
     "text": [
      "904/904 - 13s - loss: 1.8158 - mse: 1.8143 - val_loss: 1.4017 - val_mse: 1.3978\n",
      "Epoch 2/3\n",
      "904/904 - 12s - loss: 0.6404 - mse: 0.6343 - val_loss: 1.4697 - val_mse: 1.4614\n",
      "Epoch 3/3\n",
      "904/904 - 12s - loss: 0.3129 - mse: 0.3031 - val_loss: 1.5016 - val_mse: 1.4901\n",
      "MSE: 1.5675226\n",
      "optimizer:Adam | embedding_dim:32 | lr:0.0001 | dropout:0.5 | hidden_units:(128, 128) | epochs:3 | batch_size:64\n",
      "Epoch 1/3\n"
     ]
    },
    {
     "name": "stderr",
     "output_type": "stream",
     "text": [
      "C:\\Users\\Montr\\anaconda3\\lib\\site-packages\\tensorflow\\python\\framework\\indexed_slices.py:433: UserWarning: Converting sparse IndexedSlices to a dense Tensor of unknown shape. This may consume a large amount of memory.\n",
      "  \"Converting sparse IndexedSlices to a dense Tensor of unknown shape. \"\n"
     ]
    },
    {
     "name": "stdout",
     "output_type": "stream",
     "text": [
      "452/452 - 7s - loss: 2.0959 - mse: 2.0951 - val_loss: 1.3935 - val_mse: 1.3914\n",
      "Epoch 2/3\n",
      "452/452 - 6s - loss: 0.6695 - mse: 0.6659 - val_loss: 1.5085 - val_mse: 1.5034\n",
      "Epoch 3/3\n",
      "452/452 - 6s - loss: 0.3070 - mse: 0.3011 - val_loss: 1.4949 - val_mse: 1.4881\n",
      "MSE: 1.5721718\n",
      "optimizer:Adam | embedding_dim:32 | lr:0.0001 | dropout:0.5 | hidden_units:(128, 128) | epochs:5 | batch_size:32\n",
      "Epoch 1/5\n"
     ]
    },
    {
     "name": "stderr",
     "output_type": "stream",
     "text": [
      "C:\\Users\\Montr\\anaconda3\\lib\\site-packages\\tensorflow\\python\\framework\\indexed_slices.py:433: UserWarning: Converting sparse IndexedSlices to a dense Tensor of unknown shape. This may consume a large amount of memory.\n",
      "  \"Converting sparse IndexedSlices to a dense Tensor of unknown shape. \"\n"
     ]
    },
    {
     "name": "stdout",
     "output_type": "stream",
     "text": [
      "904/904 - 12s - loss: 1.8065 - mse: 1.8051 - val_loss: 1.4541 - val_mse: 1.4503\n",
      "Epoch 2/5\n",
      "904/904 - 12s - loss: 0.6318 - mse: 0.6259 - val_loss: 1.4810 - val_mse: 1.4729\n",
      "Epoch 3/5\n",
      "904/904 - 12s - loss: 0.3098 - mse: 0.3004 - val_loss: 1.4977 - val_mse: 1.4866\n",
      "Epoch 4/5\n",
      "904/904 - 12s - loss: 0.1841 - mse: 0.1722 - val_loss: 1.6126 - val_mse: 1.5998\n",
      "Epoch 5/5\n",
      "904/904 - 12s - loss: 0.1366 - mse: 0.1232 - val_loss: 1.6068 - val_mse: 1.5925\n",
      "MSE: 1.6796546\n",
      "optimizer:Adam | embedding_dim:32 | lr:0.0001 | dropout:0.5 | hidden_units:(128, 128) | epochs:5 | batch_size:64\n",
      "Epoch 1/5\n"
     ]
    },
    {
     "name": "stderr",
     "output_type": "stream",
     "text": [
      "C:\\Users\\Montr\\anaconda3\\lib\\site-packages\\tensorflow\\python\\framework\\indexed_slices.py:433: UserWarning: Converting sparse IndexedSlices to a dense Tensor of unknown shape. This may consume a large amount of memory.\n",
      "  \"Converting sparse IndexedSlices to a dense Tensor of unknown shape. \"\n"
     ]
    },
    {
     "name": "stdout",
     "output_type": "stream",
     "text": [
      "452/452 - 7s - loss: 2.1201 - mse: 2.1193 - val_loss: 1.4046 - val_mse: 1.4024\n",
      "Epoch 2/5\n",
      "452/452 - 7s - loss: 0.6730 - mse: 0.6694 - val_loss: 1.4944 - val_mse: 1.4890\n",
      "Epoch 3/5\n",
      "452/452 - 7s - loss: 0.3096 - mse: 0.3035 - val_loss: 1.5008 - val_mse: 1.4938\n",
      "Epoch 4/5\n",
      "452/452 - 6s - loss: 0.1645 - mse: 0.1570 - val_loss: 1.6716 - val_mse: 1.6635\n",
      "Epoch 5/5\n",
      "452/452 - 6s - loss: 0.1188 - mse: 0.1104 - val_loss: 1.6496 - val_mse: 1.6408\n",
      "MSE: 1.7107594\n",
      "optimizer:Adam | embedding_dim:32 | lr:0.0001 | dropout:0.5 | hidden_units:(128, 128) | epochs:3 | batch_size:32\n",
      "Epoch 1/3\n"
     ]
    },
    {
     "name": "stderr",
     "output_type": "stream",
     "text": [
      "C:\\Users\\Montr\\anaconda3\\lib\\site-packages\\tensorflow\\python\\framework\\indexed_slices.py:433: UserWarning: Converting sparse IndexedSlices to a dense Tensor of unknown shape. This may consume a large amount of memory.\n",
      "  \"Converting sparse IndexedSlices to a dense Tensor of unknown shape. \"\n"
     ]
    },
    {
     "name": "stdout",
     "output_type": "stream",
     "text": [
      "904/904 - 13s - loss: 1.8146 - mse: 1.8131 - val_loss: 1.4151 - val_mse: 1.4113\n",
      "Epoch 2/3\n",
      "904/904 - 12s - loss: 0.6512 - mse: 0.6452 - val_loss: 1.4910 - val_mse: 1.4826\n",
      "Epoch 3/3\n",
      "904/904 - 12s - loss: 0.3172 - mse: 0.3074 - val_loss: 1.5100 - val_mse: 1.4986\n",
      "MSE: 1.5633163\n",
      "optimizer:Adam | embedding_dim:32 | lr:0.0001 | dropout:0.5 | hidden_units:(128, 128) | epochs:3 | batch_size:64\n",
      "Epoch 1/3\n"
     ]
    },
    {
     "name": "stderr",
     "output_type": "stream",
     "text": [
      "C:\\Users\\Montr\\anaconda3\\lib\\site-packages\\tensorflow\\python\\framework\\indexed_slices.py:433: UserWarning: Converting sparse IndexedSlices to a dense Tensor of unknown shape. This may consume a large amount of memory.\n",
      "  \"Converting sparse IndexedSlices to a dense Tensor of unknown shape. \"\n"
     ]
    },
    {
     "name": "stdout",
     "output_type": "stream",
     "text": [
      "452/452 - 7s - loss: 2.1462 - mse: 2.1454 - val_loss: 1.4478 - val_mse: 1.4456\n",
      "Epoch 2/3\n",
      "452/452 - 6s - loss: 0.6656 - mse: 0.6620 - val_loss: 1.5113 - val_mse: 1.5061\n",
      "Epoch 3/3\n",
      "452/452 - 6s - loss: 0.2867 - mse: 0.2807 - val_loss: 1.4838 - val_mse: 1.4769\n",
      "MSE: 1.5511402\n",
      "optimizer:Adam | embedding_dim:32 | lr:0.0001 | dropout:0.5 | hidden_units:(128, 128) | epochs:5 | batch_size:32\n",
      "Epoch 1/5\n"
     ]
    },
    {
     "name": "stderr",
     "output_type": "stream",
     "text": [
      "C:\\Users\\Montr\\anaconda3\\lib\\site-packages\\tensorflow\\python\\framework\\indexed_slices.py:433: UserWarning: Converting sparse IndexedSlices to a dense Tensor of unknown shape. This may consume a large amount of memory.\n",
      "  \"Converting sparse IndexedSlices to a dense Tensor of unknown shape. \"\n"
     ]
    },
    {
     "name": "stdout",
     "output_type": "stream",
     "text": [
      "904/904 - 12s - loss: 1.8228 - mse: 1.8213 - val_loss: 1.4142 - val_mse: 1.4103\n",
      "Epoch 2/5\n",
      "904/904 - 12s - loss: 0.6536 - mse: 0.6475 - val_loss: 1.5297 - val_mse: 1.5212\n",
      "Epoch 3/5\n",
      "904/904 - 12s - loss: 0.3134 - mse: 0.3036 - val_loss: 1.5320 - val_mse: 1.5205\n",
      "Epoch 4/5\n",
      "904/904 - 12s - loss: 0.1807 - mse: 0.1685 - val_loss: 1.5957 - val_mse: 1.5827\n",
      "Epoch 5/5\n",
      "904/904 - 12s - loss: 0.1336 - mse: 0.1201 - val_loss: 1.6090 - val_mse: 1.5949\n",
      "MSE: 1.6667036\n",
      "optimizer:Adam | embedding_dim:32 | lr:0.0001 | dropout:0.5 | hidden_units:(128, 128) | epochs:5 | batch_size:64\n",
      "Epoch 1/5\n"
     ]
    },
    {
     "name": "stderr",
     "output_type": "stream",
     "text": [
      "C:\\Users\\Montr\\anaconda3\\lib\\site-packages\\tensorflow\\python\\framework\\indexed_slices.py:433: UserWarning: Converting sparse IndexedSlices to a dense Tensor of unknown shape. This may consume a large amount of memory.\n",
      "  \"Converting sparse IndexedSlices to a dense Tensor of unknown shape. \"\n"
     ]
    },
    {
     "name": "stdout",
     "output_type": "stream",
     "text": [
      "452/452 - 7s - loss: 2.1674 - mse: 2.1666 - val_loss: 1.4150 - val_mse: 1.4128\n",
      "Epoch 2/5\n",
      "452/452 - 6s - loss: 0.6865 - mse: 0.6828 - val_loss: 1.5123 - val_mse: 1.5068\n",
      "Epoch 3/5\n",
      "452/452 - 6s - loss: 0.3021 - mse: 0.2958 - val_loss: 1.5371 - val_mse: 1.5297\n",
      "Epoch 4/5\n",
      "452/452 - 6s - loss: 0.1622 - mse: 0.1542 - val_loss: 1.6309 - val_mse: 1.6223\n",
      "Epoch 5/5\n",
      "452/452 - 6s - loss: 0.1109 - mse: 0.1021 - val_loss: 1.6253 - val_mse: 1.6162\n",
      "MSE: 1.6914988\n",
      "optimizer:Adam | embedding_dim:32 | lr:0.0001 | dropout:0.5 | hidden_units:(128, 128) | epochs:3 | batch_size:32\n",
      "Epoch 1/3\n"
     ]
    },
    {
     "name": "stderr",
     "output_type": "stream",
     "text": [
      "C:\\Users\\Montr\\anaconda3\\lib\\site-packages\\tensorflow\\python\\framework\\indexed_slices.py:433: UserWarning: Converting sparse IndexedSlices to a dense Tensor of unknown shape. This may consume a large amount of memory.\n",
      "  \"Converting sparse IndexedSlices to a dense Tensor of unknown shape. \"\n"
     ]
    },
    {
     "name": "stdout",
     "output_type": "stream",
     "text": [
      "904/904 - 12s - loss: 1.8094 - mse: 1.8079 - val_loss: 1.3943 - val_mse: 1.3905\n",
      "Epoch 2/3\n",
      "904/904 - 12s - loss: 0.6295 - mse: 0.6236 - val_loss: 1.4966 - val_mse: 1.4886\n",
      "Epoch 3/3\n",
      "904/904 - 12s - loss: 0.3107 - mse: 0.3011 - val_loss: 1.5253 - val_mse: 1.5141\n",
      "MSE: 1.5898826\n",
      "optimizer:Adam | embedding_dim:32 | lr:0.0001 | dropout:0.5 | hidden_units:(128, 128) | epochs:3 | batch_size:64\n",
      "Epoch 1/3\n"
     ]
    },
    {
     "name": "stderr",
     "output_type": "stream",
     "text": [
      "C:\\Users\\Montr\\anaconda3\\lib\\site-packages\\tensorflow\\python\\framework\\indexed_slices.py:433: UserWarning: Converting sparse IndexedSlices to a dense Tensor of unknown shape. This may consume a large amount of memory.\n",
      "  \"Converting sparse IndexedSlices to a dense Tensor of unknown shape. \"\n"
     ]
    },
    {
     "name": "stdout",
     "output_type": "stream",
     "text": [
      "452/452 - 7s - loss: 2.1612 - mse: 2.1604 - val_loss: 1.3986 - val_mse: 1.3965\n",
      "Epoch 2/3\n",
      "452/452 - 7s - loss: 0.7102 - mse: 0.7066 - val_loss: 1.5776 - val_mse: 1.5724\n",
      "Epoch 3/3\n",
      "452/452 - 7s - loss: 0.3063 - mse: 0.3003 - val_loss: 1.5612 - val_mse: 1.5542\n",
      "MSE: 1.6204339\n",
      "optimizer:Adam | embedding_dim:32 | lr:0.0001 | dropout:0.5 | hidden_units:(128, 128) | epochs:5 | batch_size:32\n",
      "Epoch 1/5\n"
     ]
    },
    {
     "name": "stderr",
     "output_type": "stream",
     "text": [
      "C:\\Users\\Montr\\anaconda3\\lib\\site-packages\\tensorflow\\python\\framework\\indexed_slices.py:433: UserWarning: Converting sparse IndexedSlices to a dense Tensor of unknown shape. This may consume a large amount of memory.\n",
      "  \"Converting sparse IndexedSlices to a dense Tensor of unknown shape. \"\n"
     ]
    },
    {
     "name": "stdout",
     "output_type": "stream",
     "text": [
      "904/904 - 13s - loss: 1.8295 - mse: 1.8280 - val_loss: 1.4492 - val_mse: 1.4453\n",
      "Epoch 2/5\n",
      "904/904 - 12s - loss: 0.6716 - mse: 0.6655 - val_loss: 1.4741 - val_mse: 1.4657\n",
      "Epoch 3/5\n",
      "904/904 - 12s - loss: 0.3174 - mse: 0.3077 - val_loss: 1.5666 - val_mse: 1.5554\n",
      "Epoch 4/5\n",
      "904/904 - 12s - loss: 0.1816 - mse: 0.1697 - val_loss: 1.6900 - val_mse: 1.6773\n",
      "Epoch 5/5\n",
      "904/904 - 12s - loss: 0.1280 - mse: 0.1149 - val_loss: 1.5868 - val_mse: 1.5732\n",
      "MSE: 1.6443436\n",
      "optimizer:Adam | embedding_dim:32 | lr:0.0001 | dropout:0.5 | hidden_units:(128, 128) | epochs:5 | batch_size:64\n",
      "Epoch 1/5\n"
     ]
    },
    {
     "name": "stderr",
     "output_type": "stream",
     "text": [
      "C:\\Users\\Montr\\anaconda3\\lib\\site-packages\\tensorflow\\python\\framework\\indexed_slices.py:433: UserWarning: Converting sparse IndexedSlices to a dense Tensor of unknown shape. This may consume a large amount of memory.\n",
      "  \"Converting sparse IndexedSlices to a dense Tensor of unknown shape. \"\n"
     ]
    },
    {
     "name": "stdout",
     "output_type": "stream",
     "text": [
      "452/452 - 7s - loss: 2.1016 - mse: 2.1007 - val_loss: 1.3926 - val_mse: 1.3904\n",
      "Epoch 2/5\n",
      "452/452 - 6s - loss: 0.6919 - mse: 0.6882 - val_loss: 1.5303 - val_mse: 1.5249\n",
      "Epoch 3/5\n",
      "452/452 - 6s - loss: 0.3205 - mse: 0.3143 - val_loss: 1.4848 - val_mse: 1.4778\n",
      "Epoch 4/5\n",
      "452/452 - 7s - loss: 0.1690 - mse: 0.1616 - val_loss: 1.5727 - val_mse: 1.5648\n",
      "Epoch 5/5\n",
      "452/452 - 6s - loss: 0.1108 - mse: 0.1026 - val_loss: 1.6345 - val_mse: 1.6259\n",
      "MSE: 1.7073278\n",
      "optimizer:Adam | embedding_dim:32 | lr:0.0001 | dropout:0.5 | hidden_units:(128, 128) | epochs:3 | batch_size:32\n",
      "Epoch 1/3\n"
     ]
    },
    {
     "name": "stderr",
     "output_type": "stream",
     "text": [
      "C:\\Users\\Montr\\anaconda3\\lib\\site-packages\\tensorflow\\python\\framework\\indexed_slices.py:433: UserWarning: Converting sparse IndexedSlices to a dense Tensor of unknown shape. This may consume a large amount of memory.\n",
      "  \"Converting sparse IndexedSlices to a dense Tensor of unknown shape. \"\n"
     ]
    },
    {
     "name": "stdout",
     "output_type": "stream",
     "text": [
      "904/904 - 12s - loss: 1.8252 - mse: 1.8237 - val_loss: 1.3974 - val_mse: 1.3936\n",
      "Epoch 2/3\n",
      "904/904 - 12s - loss: 0.6807 - mse: 0.6746 - val_loss: 1.5125 - val_mse: 1.5037\n",
      "Epoch 3/3\n",
      "904/904 - 12s - loss: 0.3110 - mse: 0.3010 - val_loss: 1.6313 - val_mse: 1.6197\n",
      "MSE: 1.6999115\n",
      "optimizer:Adam | embedding_dim:32 | lr:0.0001 | dropout:0.5 | hidden_units:(128, 128) | epochs:3 | batch_size:64\n",
      "Epoch 1/3\n"
     ]
    },
    {
     "name": "stderr",
     "output_type": "stream",
     "text": [
      "C:\\Users\\Montr\\anaconda3\\lib\\site-packages\\tensorflow\\python\\framework\\indexed_slices.py:433: UserWarning: Converting sparse IndexedSlices to a dense Tensor of unknown shape. This may consume a large amount of memory.\n",
      "  \"Converting sparse IndexedSlices to a dense Tensor of unknown shape. \"\n"
     ]
    },
    {
     "name": "stdout",
     "output_type": "stream",
     "text": [
      "452/452 - 7s - loss: 2.1625 - mse: 2.1617 - val_loss: 1.3906 - val_mse: 1.3885\n",
      "Epoch 2/3\n",
      "452/452 - 6s - loss: 0.6807 - mse: 0.6770 - val_loss: 1.5185 - val_mse: 1.5130\n",
      "Epoch 3/3\n",
      "452/452 - 6s - loss: 0.3137 - mse: 0.3073 - val_loss: 1.5044 - val_mse: 1.4971\n",
      "MSE: 1.5799203\n",
      "optimizer:Adam | embedding_dim:32 | lr:0.0001 | dropout:0.5 | hidden_units:(128, 128) | epochs:5 | batch_size:32\n",
      "Epoch 1/5\n"
     ]
    },
    {
     "name": "stderr",
     "output_type": "stream",
     "text": [
      "C:\\Users\\Montr\\anaconda3\\lib\\site-packages\\tensorflow\\python\\framework\\indexed_slices.py:433: UserWarning: Converting sparse IndexedSlices to a dense Tensor of unknown shape. This may consume a large amount of memory.\n",
      "  \"Converting sparse IndexedSlices to a dense Tensor of unknown shape. \"\n"
     ]
    },
    {
     "name": "stdout",
     "output_type": "stream",
     "text": [
      "904/904 - 13s - loss: 1.8096 - mse: 1.8081 - val_loss: 1.4404 - val_mse: 1.4366\n",
      "Epoch 2/5\n",
      "904/904 - 12s - loss: 0.6630 - mse: 0.6570 - val_loss: 1.4959 - val_mse: 1.4876\n",
      "Epoch 3/5\n",
      "904/904 - 12s - loss: 0.3233 - mse: 0.3137 - val_loss: 1.4856 - val_mse: 1.4745\n",
      "Epoch 4/5\n",
      "904/904 - 12s - loss: 0.1756 - mse: 0.1638 - val_loss: 1.6665 - val_mse: 1.6539\n",
      "Epoch 5/5\n",
      "904/904 - 13s - loss: 0.1266 - mse: 0.1136 - val_loss: 1.6291 - val_mse: 1.6156\n",
      "MSE: 1.7193934\n",
      "optimizer:Adam | embedding_dim:32 | lr:0.0001 | dropout:0.5 | hidden_units:(128, 128) | epochs:5 | batch_size:64\n",
      "Epoch 1/5\n"
     ]
    },
    {
     "name": "stderr",
     "output_type": "stream",
     "text": [
      "C:\\Users\\Montr\\anaconda3\\lib\\site-packages\\tensorflow\\python\\framework\\indexed_slices.py:433: UserWarning: Converting sparse IndexedSlices to a dense Tensor of unknown shape. This may consume a large amount of memory.\n",
      "  \"Converting sparse IndexedSlices to a dense Tensor of unknown shape. \"\n"
     ]
    },
    {
     "name": "stdout",
     "output_type": "stream",
     "text": [
      "452/452 - 7s - loss: 2.1442 - mse: 2.1434 - val_loss: 1.4184 - val_mse: 1.4163\n",
      "Epoch 2/5\n",
      "452/452 - 6s - loss: 0.6832 - mse: 0.6795 - val_loss: 1.5152 - val_mse: 1.5098\n",
      "Epoch 3/5\n",
      "452/452 - 6s - loss: 0.3107 - mse: 0.3044 - val_loss: 1.5409 - val_mse: 1.5336\n",
      "Epoch 4/5\n",
      "452/452 - 6s - loss: 0.1663 - mse: 0.1586 - val_loss: 1.5781 - val_mse: 1.5698\n",
      "Epoch 5/5\n",
      "452/452 - 6s - loss: 0.1129 - mse: 0.1043 - val_loss: 1.5886 - val_mse: 1.5797\n",
      "MSE: 1.6453398\n",
      "optimizer:Adam | embedding_dim:32 | lr:0.0001 | dropout:0.5 | hidden_units:(128, 128) | epochs:3 | batch_size:32\n",
      "Epoch 1/3\n"
     ]
    },
    {
     "name": "stderr",
     "output_type": "stream",
     "text": [
      "C:\\Users\\Montr\\anaconda3\\lib\\site-packages\\tensorflow\\python\\framework\\indexed_slices.py:433: UserWarning: Converting sparse IndexedSlices to a dense Tensor of unknown shape. This may consume a large amount of memory.\n",
      "  \"Converting sparse IndexedSlices to a dense Tensor of unknown shape. \"\n"
     ]
    },
    {
     "name": "stdout",
     "output_type": "stream",
     "text": [
      "904/904 - 13s - loss: 1.8196 - mse: 1.8182 - val_loss: 1.4644 - val_mse: 1.4605\n",
      "Epoch 2/3\n",
      "904/904 - 12s - loss: 0.6576 - mse: 0.6515 - val_loss: 1.5697 - val_mse: 1.5613\n",
      "Epoch 3/3\n",
      "904/904 - 12s - loss: 0.3186 - mse: 0.3089 - val_loss: 1.5242 - val_mse: 1.5129\n",
      "MSE: 1.5837946\n",
      "optimizer:Adam | embedding_dim:32 | lr:0.0001 | dropout:0.5 | hidden_units:(128, 128) | epochs:3 | batch_size:64\n",
      "Epoch 1/3\n"
     ]
    },
    {
     "name": "stderr",
     "output_type": "stream",
     "text": [
      "C:\\Users\\Montr\\anaconda3\\lib\\site-packages\\tensorflow\\python\\framework\\indexed_slices.py:433: UserWarning: Converting sparse IndexedSlices to a dense Tensor of unknown shape. This may consume a large amount of memory.\n",
      "  \"Converting sparse IndexedSlices to a dense Tensor of unknown shape. \"\n"
     ]
    },
    {
     "name": "stdout",
     "output_type": "stream",
     "text": [
      "452/452 - 7s - loss: 2.1519 - mse: 2.1511 - val_loss: 1.4122 - val_mse: 1.4100\n",
      "Epoch 2/3\n",
      "452/452 - 6s - loss: 0.6532 - mse: 0.6495 - val_loss: 1.5102 - val_mse: 1.5048\n",
      "Epoch 3/3\n",
      "452/452 - 6s - loss: 0.3018 - mse: 0.2955 - val_loss: 1.5274 - val_mse: 1.5202\n",
      "MSE: 1.6057117\n",
      "optimizer:Adam | embedding_dim:32 | lr:0.0001 | dropout:0.5 | hidden_units:(128, 128) | epochs:5 | batch_size:32\n",
      "Epoch 1/5\n"
     ]
    },
    {
     "name": "stderr",
     "output_type": "stream",
     "text": [
      "C:\\Users\\Montr\\anaconda3\\lib\\site-packages\\tensorflow\\python\\framework\\indexed_slices.py:433: UserWarning: Converting sparse IndexedSlices to a dense Tensor of unknown shape. This may consume a large amount of memory.\n",
      "  \"Converting sparse IndexedSlices to a dense Tensor of unknown shape. \"\n"
     ]
    },
    {
     "name": "stdout",
     "output_type": "stream",
     "text": [
      "904/904 - 13s - loss: 1.8269 - mse: 1.8254 - val_loss: 1.4050 - val_mse: 1.4011\n",
      "Epoch 2/5\n",
      "904/904 - 12s - loss: 0.6351 - mse: 0.6292 - val_loss: 1.4783 - val_mse: 1.4702\n",
      "Epoch 3/5\n",
      "904/904 - 13s - loss: 0.3176 - mse: 0.3081 - val_loss: 1.5717 - val_mse: 1.5607\n",
      "Epoch 4/5\n",
      "904/904 - 12s - loss: 0.1778 - mse: 0.1660 - val_loss: 1.6451 - val_mse: 1.6322\n",
      "Epoch 5/5\n",
      "904/904 - 12s - loss: 0.1386 - mse: 0.1251 - val_loss: 1.7273 - val_mse: 1.7131\n",
      "MSE: 1.7720833\n",
      "optimizer:Adam | embedding_dim:32 | lr:0.0001 | dropout:0.5 | hidden_units:(128, 128) | epochs:5 | batch_size:64\n",
      "Epoch 1/5\n"
     ]
    },
    {
     "name": "stderr",
     "output_type": "stream",
     "text": [
      "C:\\Users\\Montr\\anaconda3\\lib\\site-packages\\tensorflow\\python\\framework\\indexed_slices.py:433: UserWarning: Converting sparse IndexedSlices to a dense Tensor of unknown shape. This may consume a large amount of memory.\n",
      "  \"Converting sparse IndexedSlices to a dense Tensor of unknown shape. \"\n"
     ]
    },
    {
     "name": "stdout",
     "output_type": "stream",
     "text": [
      "452/452 - 7s - loss: 2.1263 - mse: 2.1255 - val_loss: 1.4036 - val_mse: 1.4014\n",
      "Epoch 2/5\n",
      "452/452 - 6s - loss: 0.6830 - mse: 0.6793 - val_loss: 1.6246 - val_mse: 1.6192\n",
      "Epoch 3/5\n",
      "452/452 - 6s - loss: 0.3092 - mse: 0.3030 - val_loss: 1.5494 - val_mse: 1.5423\n",
      "Epoch 4/5\n",
      "452/452 - 6s - loss: 0.1610 - mse: 0.1535 - val_loss: 1.5489 - val_mse: 1.5408\n",
      "Epoch 5/5\n",
      "452/452 - 6s - loss: 0.1152 - mse: 0.1068 - val_loss: 1.5960 - val_mse: 1.5873\n",
      "MSE: 1.6684747\n",
      "optimizer:Adam | embedding_dim:32 | lr:0.0001 | dropout:0.5 | hidden_units:(128, 128) | epochs:3 | batch_size:32\n",
      "Epoch 1/3\n"
     ]
    },
    {
     "name": "stderr",
     "output_type": "stream",
     "text": [
      "C:\\Users\\Montr\\anaconda3\\lib\\site-packages\\tensorflow\\python\\framework\\indexed_slices.py:433: UserWarning: Converting sparse IndexedSlices to a dense Tensor of unknown shape. This may consume a large amount of memory.\n",
      "  \"Converting sparse IndexedSlices to a dense Tensor of unknown shape. \"\n"
     ]
    },
    {
     "name": "stdout",
     "output_type": "stream",
     "text": [
      "904/904 - 12s - loss: 1.7830 - mse: 1.7815 - val_loss: 1.4060 - val_mse: 1.4022\n",
      "Epoch 2/3\n",
      "904/904 - 12s - loss: 0.6385 - mse: 0.6326 - val_loss: 1.4756 - val_mse: 1.4672\n",
      "Epoch 3/3\n",
      "904/904 - 12s - loss: 0.3154 - mse: 0.3057 - val_loss: 1.5015 - val_mse: 1.4903\n",
      "MSE: 1.5775957\n",
      "optimizer:Adam | embedding_dim:32 | lr:0.0001 | dropout:0.5 | hidden_units:(128, 128) | epochs:3 | batch_size:64\n",
      "Epoch 1/3\n"
     ]
    },
    {
     "name": "stderr",
     "output_type": "stream",
     "text": [
      "C:\\Users\\Montr\\anaconda3\\lib\\site-packages\\tensorflow\\python\\framework\\indexed_slices.py:433: UserWarning: Converting sparse IndexedSlices to a dense Tensor of unknown shape. This may consume a large amount of memory.\n",
      "  \"Converting sparse IndexedSlices to a dense Tensor of unknown shape. \"\n"
     ]
    },
    {
     "name": "stdout",
     "output_type": "stream",
     "text": [
      "452/452 - 7s - loss: 2.2031 - mse: 2.2023 - val_loss: 1.4192 - val_mse: 1.4170\n",
      "Epoch 2/3\n",
      "452/452 - 6s - loss: 0.6670 - mse: 0.6634 - val_loss: 1.5115 - val_mse: 1.5062\n",
      "Epoch 3/3\n",
      "452/452 - 6s - loss: 0.2964 - mse: 0.2904 - val_loss: 1.5473 - val_mse: 1.5405\n",
      "MSE: 1.6219836\n",
      "optimizer:Adam | embedding_dim:32 | lr:0.0001 | dropout:0.5 | hidden_units:(128, 128) | epochs:5 | batch_size:32\n",
      "Epoch 1/5\n"
     ]
    },
    {
     "name": "stderr",
     "output_type": "stream",
     "text": [
      "C:\\Users\\Montr\\anaconda3\\lib\\site-packages\\tensorflow\\python\\framework\\indexed_slices.py:433: UserWarning: Converting sparse IndexedSlices to a dense Tensor of unknown shape. This may consume a large amount of memory.\n",
      "  \"Converting sparse IndexedSlices to a dense Tensor of unknown shape. \"\n"
     ]
    },
    {
     "name": "stdout",
     "output_type": "stream",
     "text": [
      "904/904 - 12s - loss: 1.8000 - mse: 1.7985 - val_loss: 1.3977 - val_mse: 1.3939\n",
      "Epoch 2/5\n",
      "904/904 - 12s - loss: 0.6398 - mse: 0.6339 - val_loss: 1.5213 - val_mse: 1.5131\n",
      "Epoch 3/5\n",
      "904/904 - 12s - loss: 0.3187 - mse: 0.3091 - val_loss: 1.4885 - val_mse: 1.4774\n",
      "Epoch 4/5\n",
      "904/904 - 12s - loss: 0.1833 - mse: 0.1714 - val_loss: 1.5529 - val_mse: 1.5401\n",
      "Epoch 5/5\n",
      "904/904 - 12s - loss: 0.1385 - mse: 0.1250 - val_loss: 1.5984 - val_mse: 1.5841\n",
      "MSE: 1.6378127\n",
      "optimizer:Adam | embedding_dim:32 | lr:0.0001 | dropout:0.5 | hidden_units:(128, 128) | epochs:5 | batch_size:64\n",
      "Epoch 1/5\n"
     ]
    },
    {
     "name": "stderr",
     "output_type": "stream",
     "text": [
      "C:\\Users\\Montr\\anaconda3\\lib\\site-packages\\tensorflow\\python\\framework\\indexed_slices.py:433: UserWarning: Converting sparse IndexedSlices to a dense Tensor of unknown shape. This may consume a large amount of memory.\n",
      "  \"Converting sparse IndexedSlices to a dense Tensor of unknown shape. \"\n"
     ]
    },
    {
     "name": "stdout",
     "output_type": "stream",
     "text": [
      "452/452 - 7s - loss: 2.2054 - mse: 2.2045 - val_loss: 1.4173 - val_mse: 1.4151\n",
      "Epoch 2/5\n",
      "452/452 - 6s - loss: 0.6857 - mse: 0.6820 - val_loss: 1.5070 - val_mse: 1.5015\n",
      "Epoch 3/5\n",
      "452/452 - 6s - loss: 0.3085 - mse: 0.3022 - val_loss: 1.5115 - val_mse: 1.5043\n",
      "Epoch 4/5\n",
      "452/452 - 6s - loss: 0.1777 - mse: 0.1701 - val_loss: 1.5962 - val_mse: 1.5881\n",
      "Epoch 5/5\n",
      "452/452 - 6s - loss: 0.1183 - mse: 0.1098 - val_loss: 1.6177 - val_mse: 1.6088\n",
      "MSE: 1.6901705\n",
      "optimizer:Adam | embedding_dim:32 | lr:0.0001 | dropout:0.5 | hidden_units:(128, 128) | epochs:3 | batch_size:32\n",
      "Epoch 1/3\n"
     ]
    },
    {
     "name": "stderr",
     "output_type": "stream",
     "text": [
      "C:\\Users\\Montr\\anaconda3\\lib\\site-packages\\tensorflow\\python\\framework\\indexed_slices.py:433: UserWarning: Converting sparse IndexedSlices to a dense Tensor of unknown shape. This may consume a large amount of memory.\n",
      "  \"Converting sparse IndexedSlices to a dense Tensor of unknown shape. \"\n"
     ]
    },
    {
     "name": "stdout",
     "output_type": "stream",
     "text": [
      "904/904 - 13s - loss: 1.8324 - mse: 1.8309 - val_loss: 1.4232 - val_mse: 1.4193\n",
      "Epoch 2/3\n",
      "904/904 - 12s - loss: 0.6422 - mse: 0.6360 - val_loss: 1.5111 - val_mse: 1.5025\n",
      "Epoch 3/3\n",
      "904/904 - 12s - loss: 0.3260 - mse: 0.3159 - val_loss: 1.5732 - val_mse: 1.5614\n",
      "MSE: 1.6462253\n",
      "optimizer:Adam | embedding_dim:32 | lr:0.0001 | dropout:0.5 | hidden_units:(128, 128) | epochs:3 | batch_size:64\n",
      "Epoch 1/3\n"
     ]
    },
    {
     "name": "stderr",
     "output_type": "stream",
     "text": [
      "C:\\Users\\Montr\\anaconda3\\lib\\site-packages\\tensorflow\\python\\framework\\indexed_slices.py:433: UserWarning: Converting sparse IndexedSlices to a dense Tensor of unknown shape. This may consume a large amount of memory.\n",
      "  \"Converting sparse IndexedSlices to a dense Tensor of unknown shape. \"\n"
     ]
    },
    {
     "name": "stdout",
     "output_type": "stream",
     "text": [
      "452/452 - 7s - loss: 2.1205 - mse: 2.1197 - val_loss: 1.4856 - val_mse: 1.4834\n",
      "Epoch 2/3\n",
      "452/452 - 6s - loss: 0.6574 - mse: 0.6539 - val_loss: 1.5083 - val_mse: 1.5033\n",
      "Epoch 3/3\n",
      "452/452 - 7s - loss: 0.2735 - mse: 0.2678 - val_loss: 1.5211 - val_mse: 1.5144\n",
      "MSE: 1.5936462\n",
      "optimizer:Adam | embedding_dim:32 | lr:0.0001 | dropout:0.5 | hidden_units:(128, 128) | epochs:5 | batch_size:32\n",
      "Epoch 1/5\n"
     ]
    },
    {
     "name": "stderr",
     "output_type": "stream",
     "text": [
      "C:\\Users\\Montr\\anaconda3\\lib\\site-packages\\tensorflow\\python\\framework\\indexed_slices.py:433: UserWarning: Converting sparse IndexedSlices to a dense Tensor of unknown shape. This may consume a large amount of memory.\n",
      "  \"Converting sparse IndexedSlices to a dense Tensor of unknown shape. \"\n"
     ]
    },
    {
     "name": "stdout",
     "output_type": "stream",
     "text": [
      "904/904 - 13s - loss: 1.8082 - mse: 1.8067 - val_loss: 1.4023 - val_mse: 1.3985\n",
      "Epoch 2/5\n",
      "904/904 - 13s - loss: 0.6702 - mse: 0.6643 - val_loss: 1.5246 - val_mse: 1.5164\n",
      "Epoch 3/5\n",
      "904/904 - 13s - loss: 0.3125 - mse: 0.3030 - val_loss: 1.5162 - val_mse: 1.5051\n",
      "Epoch 4/5\n",
      "904/904 - 13s - loss: 0.1750 - mse: 0.1632 - val_loss: 1.6179 - val_mse: 1.6053\n",
      "Epoch 5/5\n",
      "904/904 - 12s - loss: 0.1376 - mse: 0.1244 - val_loss: 1.5800 - val_mse: 1.5660\n",
      "MSE: 1.6683639\n",
      "optimizer:Adam | embedding_dim:32 | lr:0.0001 | dropout:0.5 | hidden_units:(128, 128) | epochs:5 | batch_size:64\n",
      "Epoch 1/5\n"
     ]
    },
    {
     "name": "stderr",
     "output_type": "stream",
     "text": [
      "C:\\Users\\Montr\\anaconda3\\lib\\site-packages\\tensorflow\\python\\framework\\indexed_slices.py:433: UserWarning: Converting sparse IndexedSlices to a dense Tensor of unknown shape. This may consume a large amount of memory.\n",
      "  \"Converting sparse IndexedSlices to a dense Tensor of unknown shape. \"\n"
     ]
    },
    {
     "name": "stdout",
     "output_type": "stream",
     "text": [
      "452/452 - 7s - loss: 2.1312 - mse: 2.1304 - val_loss: 1.4014 - val_mse: 1.3992\n",
      "Epoch 2/5\n",
      "452/452 - 6s - loss: 0.6708 - mse: 0.6671 - val_loss: 1.4906 - val_mse: 1.4853\n",
      "Epoch 3/5\n",
      "452/452 - 6s - loss: 0.3034 - mse: 0.2973 - val_loss: 1.5323 - val_mse: 1.5252\n",
      "Epoch 4/5\n",
      "452/452 - 6s - loss: 0.1547 - mse: 0.1471 - val_loss: 1.5521 - val_mse: 1.5440\n",
      "Epoch 5/5\n",
      "452/452 - 6s - loss: 0.1113 - mse: 0.1029 - val_loss: 1.5755 - val_mse: 1.5667\n",
      "MSE: 1.6603941\n",
      "optimizer:Adam | embedding_dim:32 | lr:0.0001 | dropout:0.5 | hidden_units:(128, 128) | epochs:3 | batch_size:32\n",
      "Epoch 1/3\n"
     ]
    },
    {
     "name": "stderr",
     "output_type": "stream",
     "text": [
      "C:\\Users\\Montr\\anaconda3\\lib\\site-packages\\tensorflow\\python\\framework\\indexed_slices.py:433: UserWarning: Converting sparse IndexedSlices to a dense Tensor of unknown shape. This may consume a large amount of memory.\n",
      "  \"Converting sparse IndexedSlices to a dense Tensor of unknown shape. \"\n"
     ]
    },
    {
     "name": "stdout",
     "output_type": "stream",
     "text": [
      "904/904 - 13s - loss: 1.8093 - mse: 1.8079 - val_loss: 1.3958 - val_mse: 1.3919\n",
      "Epoch 2/3\n",
      "904/904 - 12s - loss: 0.6299 - mse: 0.6239 - val_loss: 1.4586 - val_mse: 1.4504\n",
      "Epoch 3/3\n",
      "904/904 - 12s - loss: 0.2992 - mse: 0.2897 - val_loss: 1.5973 - val_mse: 1.5862\n",
      "MSE: 1.6554129\n",
      "optimizer:Adam | embedding_dim:32 | lr:0.0001 | dropout:0.5 | hidden_units:(128, 128) | epochs:3 | batch_size:64\n",
      "Epoch 1/3\n"
     ]
    },
    {
     "name": "stderr",
     "output_type": "stream",
     "text": [
      "C:\\Users\\Montr\\anaconda3\\lib\\site-packages\\tensorflow\\python\\framework\\indexed_slices.py:433: UserWarning: Converting sparse IndexedSlices to a dense Tensor of unknown shape. This may consume a large amount of memory.\n",
      "  \"Converting sparse IndexedSlices to a dense Tensor of unknown shape. \"\n"
     ]
    },
    {
     "name": "stdout",
     "output_type": "stream",
     "text": [
      "452/452 - 7s - loss: 2.1695 - mse: 2.1687 - val_loss: 1.3960 - val_mse: 1.3938\n",
      "Epoch 2/3\n",
      "452/452 - 6s - loss: 0.6805 - mse: 0.6768 - val_loss: 1.4874 - val_mse: 1.4819\n",
      "Epoch 3/3\n",
      "452/452 - 6s - loss: 0.3055 - mse: 0.2992 - val_loss: 1.5212 - val_mse: 1.5141\n",
      "MSE: 1.6015054\n",
      "optimizer:Adam | embedding_dim:32 | lr:0.0001 | dropout:0.5 | hidden_units:(128, 128) | epochs:5 | batch_size:32\n",
      "Epoch 1/5\n"
     ]
    },
    {
     "name": "stderr",
     "output_type": "stream",
     "text": [
      "C:\\Users\\Montr\\anaconda3\\lib\\site-packages\\tensorflow\\python\\framework\\indexed_slices.py:433: UserWarning: Converting sparse IndexedSlices to a dense Tensor of unknown shape. This may consume a large amount of memory.\n",
      "  \"Converting sparse IndexedSlices to a dense Tensor of unknown shape. \"\n"
     ]
    },
    {
     "name": "stdout",
     "output_type": "stream",
     "text": [
      "904/904 - 13s - loss: 1.7996 - mse: 1.7982 - val_loss: 1.3968 - val_mse: 1.3930\n",
      "Epoch 2/5\n",
      "904/904 - 12s - loss: 0.6454 - mse: 0.6393 - val_loss: 1.4561 - val_mse: 1.4477\n",
      "Epoch 3/5\n",
      "904/904 - 12s - loss: 0.3225 - mse: 0.3127 - val_loss: 1.4963 - val_mse: 1.4849\n",
      "Epoch 4/5\n",
      "904/904 - 12s - loss: 0.1837 - mse: 0.1715 - val_loss: 1.6951 - val_mse: 1.6820\n",
      "Epoch 5/5\n",
      "904/904 - 12s - loss: 0.1399 - mse: 0.1263 - val_loss: 1.6161 - val_mse: 1.6017\n",
      "MSE: 1.6839716\n",
      "optimizer:Adam | embedding_dim:32 | lr:0.0001 | dropout:0.5 | hidden_units:(128, 128) | epochs:5 | batch_size:64\n",
      "Epoch 1/5\n"
     ]
    },
    {
     "name": "stderr",
     "output_type": "stream",
     "text": [
      "C:\\Users\\Montr\\anaconda3\\lib\\site-packages\\tensorflow\\python\\framework\\indexed_slices.py:433: UserWarning: Converting sparse IndexedSlices to a dense Tensor of unknown shape. This may consume a large amount of memory.\n",
      "  \"Converting sparse IndexedSlices to a dense Tensor of unknown shape. \"\n"
     ]
    },
    {
     "name": "stdout",
     "output_type": "stream",
     "text": [
      "452/452 - 7s - loss: 2.1035 - mse: 2.1027 - val_loss: 1.4823 - val_mse: 1.4801\n",
      "Epoch 2/5\n",
      "452/452 - 6s - loss: 0.6779 - mse: 0.6742 - val_loss: 1.5538 - val_mse: 1.5485\n",
      "Epoch 3/5\n",
      "452/452 - 7s - loss: 0.3081 - mse: 0.3020 - val_loss: 1.5168 - val_mse: 1.5098\n",
      "Epoch 4/5\n",
      "452/452 - 6s - loss: 0.1558 - mse: 0.1484 - val_loss: 1.6521 - val_mse: 1.6440\n",
      "Epoch 5/5\n",
      "452/452 - 7s - loss: 0.1165 - mse: 0.1082 - val_loss: 1.6234 - val_mse: 1.6148\n",
      "MSE: 1.6963693\n",
      "optimizer:Adam | embedding_dim:32 | lr:0.0001 | dropout:0.5 | hidden_units:(128, 128) | epochs:3 | batch_size:32\n",
      "Epoch 1/3\n"
     ]
    },
    {
     "name": "stderr",
     "output_type": "stream",
     "text": [
      "C:\\Users\\Montr\\anaconda3\\lib\\site-packages\\tensorflow\\python\\framework\\indexed_slices.py:433: UserWarning: Converting sparse IndexedSlices to a dense Tensor of unknown shape. This may consume a large amount of memory.\n",
      "  \"Converting sparse IndexedSlices to a dense Tensor of unknown shape. \"\n"
     ]
    },
    {
     "name": "stdout",
     "output_type": "stream",
     "text": [
      "904/904 - 13s - loss: 1.8288 - mse: 1.8273 - val_loss: 1.5101 - val_mse: 1.5062\n",
      "Epoch 2/3\n",
      "904/904 - 13s - loss: 0.6225 - mse: 0.6166 - val_loss: 1.4733 - val_mse: 1.4654\n",
      "Epoch 3/3\n",
      "904/904 - 13s - loss: 0.3081 - mse: 0.2987 - val_loss: 1.6225 - val_mse: 1.6114\n",
      "MSE: 1.6685853\n",
      "optimizer:Adam | embedding_dim:32 | lr:0.0001 | dropout:0.5 | hidden_units:(128, 128) | epochs:3 | batch_size:64\n",
      "Epoch 1/3\n"
     ]
    },
    {
     "name": "stderr",
     "output_type": "stream",
     "text": [
      "C:\\Users\\Montr\\anaconda3\\lib\\site-packages\\tensorflow\\python\\framework\\indexed_slices.py:433: UserWarning: Converting sparse IndexedSlices to a dense Tensor of unknown shape. This may consume a large amount of memory.\n",
      "  \"Converting sparse IndexedSlices to a dense Tensor of unknown shape. \"\n"
     ]
    },
    {
     "name": "stdout",
     "output_type": "stream",
     "text": [
      "452/452 - 7s - loss: 2.1159 - mse: 2.1151 - val_loss: 1.3949 - val_mse: 1.3927\n",
      "Epoch 2/3\n",
      "452/452 - 6s - loss: 0.6561 - mse: 0.6525 - val_loss: 1.5126 - val_mse: 1.5076\n",
      "Epoch 3/3\n",
      "452/452 - 7s - loss: 0.2958 - mse: 0.2899 - val_loss: 1.5134 - val_mse: 1.5066\n",
      "MSE: 1.5837946\n",
      "optimizer:Adam | embedding_dim:32 | lr:0.0001 | dropout:0.5 | hidden_units:(128, 128) | epochs:5 | batch_size:32\n",
      "Epoch 1/5\n"
     ]
    },
    {
     "name": "stderr",
     "output_type": "stream",
     "text": [
      "C:\\Users\\Montr\\anaconda3\\lib\\site-packages\\tensorflow\\python\\framework\\indexed_slices.py:433: UserWarning: Converting sparse IndexedSlices to a dense Tensor of unknown shape. This may consume a large amount of memory.\n",
      "  \"Converting sparse IndexedSlices to a dense Tensor of unknown shape. \"\n"
     ]
    },
    {
     "name": "stdout",
     "output_type": "stream",
     "text": [
      "904/904 - 13s - loss: 1.8070 - mse: 1.8055 - val_loss: 1.4431 - val_mse: 1.4392\n",
      "Epoch 2/5\n",
      "904/904 - 13s - loss: 0.6338 - mse: 0.6279 - val_loss: 1.5126 - val_mse: 1.5046\n",
      "Epoch 3/5\n",
      "904/904 - 12s - loss: 0.3204 - mse: 0.3107 - val_loss: 1.6230 - val_mse: 1.6114\n",
      "Epoch 4/5\n",
      "904/904 - 12s - loss: 0.1756 - mse: 0.1633 - val_loss: 1.5908 - val_mse: 1.5776\n",
      "Epoch 5/5\n",
      "904/904 - 12s - loss: 0.1421 - mse: 0.1283 - val_loss: 1.5582 - val_mse: 1.5436\n",
      "MSE: 1.636263\n",
      "optimizer:Adam | embedding_dim:32 | lr:0.0001 | dropout:0.5 | hidden_units:(128, 128) | epochs:5 | batch_size:64\n",
      "Epoch 1/5\n"
     ]
    },
    {
     "name": "stderr",
     "output_type": "stream",
     "text": [
      "C:\\Users\\Montr\\anaconda3\\lib\\site-packages\\tensorflow\\python\\framework\\indexed_slices.py:433: UserWarning: Converting sparse IndexedSlices to a dense Tensor of unknown shape. This may consume a large amount of memory.\n",
      "  \"Converting sparse IndexedSlices to a dense Tensor of unknown shape. \"\n"
     ]
    },
    {
     "name": "stdout",
     "output_type": "stream",
     "text": [
      "452/452 - 7s - loss: 2.0991 - mse: 2.0983 - val_loss: 1.3975 - val_mse: 1.3953\n",
      "Epoch 2/5\n",
      "452/452 - 6s - loss: 0.6696 - mse: 0.6659 - val_loss: 1.5023 - val_mse: 1.4969\n",
      "Epoch 3/5\n",
      "452/452 - 7s - loss: 0.3150 - mse: 0.3088 - val_loss: 1.5268 - val_mse: 1.5198\n",
      "Epoch 4/5\n",
      "452/452 - 6s - loss: 0.1703 - mse: 0.1628 - val_loss: 1.6404 - val_mse: 1.6324\n",
      "Epoch 5/5\n",
      "452/452 - 6s - loss: 0.1180 - mse: 0.1096 - val_loss: 1.6238 - val_mse: 1.6150\n",
      "MSE: 1.6974761\n",
      "optimizer:Adam | embedding_dim:32 | lr:0.0001 | dropout:0.5 | hidden_units:(128, 128) | epochs:3 | batch_size:32\n",
      "Epoch 1/3\n"
     ]
    },
    {
     "name": "stderr",
     "output_type": "stream",
     "text": [
      "C:\\Users\\Montr\\anaconda3\\lib\\site-packages\\tensorflow\\python\\framework\\indexed_slices.py:433: UserWarning: Converting sparse IndexedSlices to a dense Tensor of unknown shape. This may consume a large amount of memory.\n",
      "  \"Converting sparse IndexedSlices to a dense Tensor of unknown shape. \"\n"
     ]
    },
    {
     "name": "stdout",
     "output_type": "stream",
     "text": [
      "904/904 - 13s - loss: 1.8266 - mse: 1.8252 - val_loss: 1.3990 - val_mse: 1.3951\n",
      "Epoch 2/3\n",
      "904/904 - 12s - loss: 0.6309 - mse: 0.6250 - val_loss: 1.4627 - val_mse: 1.4547\n",
      "Epoch 3/3\n",
      "904/904 - 12s - loss: 0.3155 - mse: 0.3059 - val_loss: 1.5341 - val_mse: 1.5228\n",
      "MSE: 1.6075935\n",
      "optimizer:Adam | embedding_dim:32 | lr:0.0001 | dropout:0.5 | hidden_units:(128, 128) | epochs:3 | batch_size:64\n",
      "Epoch 1/3\n"
     ]
    },
    {
     "name": "stderr",
     "output_type": "stream",
     "text": [
      "C:\\Users\\Montr\\anaconda3\\lib\\site-packages\\tensorflow\\python\\framework\\indexed_slices.py:433: UserWarning: Converting sparse IndexedSlices to a dense Tensor of unknown shape. This may consume a large amount of memory.\n",
      "  \"Converting sparse IndexedSlices to a dense Tensor of unknown shape. \"\n"
     ]
    },
    {
     "name": "stdout",
     "output_type": "stream",
     "text": [
      "452/452 - 7s - loss: 2.1758 - mse: 2.1750 - val_loss: 1.4207 - val_mse: 1.4185\n",
      "Epoch 2/3\n",
      "452/452 - 6s - loss: 0.6782 - mse: 0.6745 - val_loss: 1.4978 - val_mse: 1.4925\n",
      "Epoch 3/3\n",
      "452/452 - 6s - loss: 0.3059 - mse: 0.2998 - val_loss: 1.4978 - val_mse: 1.4908\n",
      "MSE: 1.5773743\n",
      "optimizer:Adam | embedding_dim:32 | lr:0.0001 | dropout:0.5 | hidden_units:(128, 128) | epochs:5 | batch_size:32\n",
      "Epoch 1/5\n"
     ]
    },
    {
     "name": "stderr",
     "output_type": "stream",
     "text": [
      "C:\\Users\\Montr\\anaconda3\\lib\\site-packages\\tensorflow\\python\\framework\\indexed_slices.py:433: UserWarning: Converting sparse IndexedSlices to a dense Tensor of unknown shape. This may consume a large amount of memory.\n",
      "  \"Converting sparse IndexedSlices to a dense Tensor of unknown shape. \"\n"
     ]
    },
    {
     "name": "stdout",
     "output_type": "stream",
     "text": [
      "904/904 - 13s - loss: 1.8231 - mse: 1.8217 - val_loss: 1.4092 - val_mse: 1.4054\n",
      "Epoch 2/5\n",
      "904/904 - 12s - loss: 0.6227 - mse: 0.6169 - val_loss: 1.5272 - val_mse: 1.5193\n",
      "Epoch 3/5\n",
      "904/904 - 12s - loss: 0.3049 - mse: 0.2957 - val_loss: 1.6098 - val_mse: 1.5990\n",
      "Epoch 4/5\n",
      "904/904 - 12s - loss: 0.1832 - mse: 0.1714 - val_loss: 1.6334 - val_mse: 1.6203\n",
      "Epoch 5/5\n",
      "904/904 - 12s - loss: 0.1276 - mse: 0.1141 - val_loss: 1.6555 - val_mse: 1.6414\n",
      "MSE: 1.7207217\n",
      "optimizer:Adam | embedding_dim:32 | lr:0.0001 | dropout:0.5 | hidden_units:(128, 128) | epochs:5 | batch_size:64\n",
      "Epoch 1/5\n"
     ]
    },
    {
     "name": "stderr",
     "output_type": "stream",
     "text": [
      "C:\\Users\\Montr\\anaconda3\\lib\\site-packages\\tensorflow\\python\\framework\\indexed_slices.py:433: UserWarning: Converting sparse IndexedSlices to a dense Tensor of unknown shape. This may consume a large amount of memory.\n",
      "  \"Converting sparse IndexedSlices to a dense Tensor of unknown shape. \"\n"
     ]
    },
    {
     "name": "stdout",
     "output_type": "stream",
     "text": [
      "452/452 - 7s - loss: 2.1307 - mse: 2.1298 - val_loss: 1.3923 - val_mse: 1.3902\n",
      "Epoch 2/5\n",
      "452/452 - 7s - loss: 0.6891 - mse: 0.6854 - val_loss: 1.5267 - val_mse: 1.5213\n",
      "Epoch 3/5\n",
      "452/452 - 7s - loss: 0.3219 - mse: 0.3157 - val_loss: 1.5137 - val_mse: 1.5067\n",
      "Epoch 4/5\n",
      "452/452 - 7s - loss: 0.1723 - mse: 0.1649 - val_loss: 1.6193 - val_mse: 1.6114\n",
      "Epoch 5/5\n",
      "452/452 - 7s - loss: 0.1170 - mse: 0.1088 - val_loss: 1.6069 - val_mse: 1.5983\n",
      "MSE: 1.679876\n",
      "optimizer:Adam | embedding_dim:32 | lr:0.0001 | dropout:0.5 | hidden_units:(128, 128) | epochs:3 | batch_size:32\n",
      "Epoch 1/3\n"
     ]
    },
    {
     "name": "stderr",
     "output_type": "stream",
     "text": [
      "C:\\Users\\Montr\\anaconda3\\lib\\site-packages\\tensorflow\\python\\framework\\indexed_slices.py:433: UserWarning: Converting sparse IndexedSlices to a dense Tensor of unknown shape. This may consume a large amount of memory.\n",
      "  \"Converting sparse IndexedSlices to a dense Tensor of unknown shape. \"\n"
     ]
    },
    {
     "name": "stdout",
     "output_type": "stream",
     "text": [
      "904/904 - 13s - loss: 1.8220 - mse: 1.8206 - val_loss: 1.3957 - val_mse: 1.3919\n",
      "Epoch 2/3\n",
      "904/904 - 13s - loss: 0.6522 - mse: 0.6462 - val_loss: 1.5248 - val_mse: 1.5163\n",
      "Epoch 3/3\n",
      "904/904 - 12s - loss: 0.3146 - mse: 0.3047 - val_loss: 1.5230 - val_mse: 1.5116\n",
      "MSE: 1.5816914\n",
      "optimizer:Adam | embedding_dim:32 | lr:0.0001 | dropout:0.5 | hidden_units:(128, 128) | epochs:3 | batch_size:64\n",
      "Epoch 1/3\n"
     ]
    },
    {
     "name": "stderr",
     "output_type": "stream",
     "text": [
      "C:\\Users\\Montr\\anaconda3\\lib\\site-packages\\tensorflow\\python\\framework\\indexed_slices.py:433: UserWarning: Converting sparse IndexedSlices to a dense Tensor of unknown shape. This may consume a large amount of memory.\n",
      "  \"Converting sparse IndexedSlices to a dense Tensor of unknown shape. \"\n"
     ]
    },
    {
     "name": "stdout",
     "output_type": "stream",
     "text": [
      "452/452 - 8s - loss: 2.1477 - mse: 2.1469 - val_loss: 1.3953 - val_mse: 1.3931\n",
      "Epoch 2/3\n",
      "452/452 - 8s - loss: 0.6730 - mse: 0.6694 - val_loss: 1.5151 - val_mse: 1.5098\n",
      "Epoch 3/3\n",
      "452/452 - 8s - loss: 0.2963 - mse: 0.2902 - val_loss: 1.5181 - val_mse: 1.5111\n",
      "MSE: 1.5950853\n",
      "optimizer:Adam | embedding_dim:32 | lr:0.0001 | dropout:0.5 | hidden_units:(128, 128) | epochs:5 | batch_size:32\n",
      "Epoch 1/5\n"
     ]
    },
    {
     "name": "stderr",
     "output_type": "stream",
     "text": [
      "C:\\Users\\Montr\\anaconda3\\lib\\site-packages\\tensorflow\\python\\framework\\indexed_slices.py:433: UserWarning: Converting sparse IndexedSlices to a dense Tensor of unknown shape. This may consume a large amount of memory.\n",
      "  \"Converting sparse IndexedSlices to a dense Tensor of unknown shape. \"\n"
     ]
    },
    {
     "name": "stdout",
     "output_type": "stream",
     "text": [
      "904/904 - 60s - loss: 1.8007 - mse: 1.7992 - val_loss: 1.4393 - val_mse: 1.4354\n",
      "Epoch 2/5\n",
      "904/904 - 12s - loss: 0.6442 - mse: 0.6380 - val_loss: 1.5081 - val_mse: 1.4994\n",
      "Epoch 3/5\n",
      "904/904 - 12s - loss: 0.3181 - mse: 0.3080 - val_loss: 1.5073 - val_mse: 1.4955\n",
      "Epoch 4/5\n",
      "904/904 - 12s - loss: 0.1697 - mse: 0.1573 - val_loss: 1.5902 - val_mse: 1.5769\n",
      "Epoch 5/5\n",
      "904/904 - 12s - loss: 0.1372 - mse: 0.1232 - val_loss: 1.6381 - val_mse: 1.6232\n",
      "MSE: 1.7054461\n",
      "optimizer:Adam | embedding_dim:32 | lr:0.0001 | dropout:0.5 | hidden_units:(128, 128) | epochs:5 | batch_size:64\n",
      "Epoch 1/5\n"
     ]
    },
    {
     "name": "stderr",
     "output_type": "stream",
     "text": [
      "C:\\Users\\Montr\\anaconda3\\lib\\site-packages\\tensorflow\\python\\framework\\indexed_slices.py:433: UserWarning: Converting sparse IndexedSlices to a dense Tensor of unknown shape. This may consume a large amount of memory.\n",
      "  \"Converting sparse IndexedSlices to a dense Tensor of unknown shape. \"\n"
     ]
    },
    {
     "name": "stdout",
     "output_type": "stream",
     "text": [
      "452/452 - 6s - loss: 2.1196 - mse: 2.1188 - val_loss: 1.3893 - val_mse: 1.3871\n",
      "Epoch 2/5\n",
      "452/452 - 6s - loss: 0.6804 - mse: 0.6768 - val_loss: 1.5520 - val_mse: 1.5468\n",
      "Epoch 3/5\n",
      "452/452 - 7s - loss: 0.3031 - mse: 0.2971 - val_loss: 1.5312 - val_mse: 1.5243\n",
      "Epoch 4/5\n",
      "452/452 - 7s - loss: 0.1529 - mse: 0.1454 - val_loss: 1.6576 - val_mse: 1.6496\n",
      "Epoch 5/5\n",
      "452/452 - 7s - loss: 0.1052 - mse: 0.0969 - val_loss: 1.5751 - val_mse: 1.5665\n",
      "MSE: 1.6548594\n",
      "The best mse is 1.843369483947754\n",
      "WARNING:tensorflow:From C:\\Users\\Montr\\anaconda3\\lib\\site-packages\\tensorflow\\python\\training\\tracking\\tracking.py:111: Model.state_updates (from tensorflow.python.keras.engine.training) is deprecated and will be removed in a future version.\n",
      "Instructions for updating:\n",
      "This property should not be used in TensorFlow 2.0, as updates are applied automatically.\n",
      "WARNING:tensorflow:From C:\\Users\\Montr\\anaconda3\\lib\\site-packages\\tensorflow\\python\\training\\tracking\\tracking.py:111: Layer.updates (from tensorflow.python.keras.engine.base_layer) is deprecated and will be removed in a future version.\n",
      "Instructions for updating:\n",
      "This property should not be used in TensorFlow 2.0, as updates are applied automatically.\n",
      "INFO:tensorflow:Assets written to: DeepFMclothRating\\assets\n"
     ]
    }
   ],
   "source": [
    "bestmodel={}\n",
    "bestMSE=0.0\n",
    "for optimizer in tuningConfig[\"optimizer\"]:\n",
    "    for learning_rate in tuningConfig[\"learning_rate\"]:\n",
    "        for dnn_hidden_units in tuningConfig[\"dnn_hidden_units\"]:\n",
    "            for dnn_dropout in tuningConfig[\"dnn_dropout\"]:\n",
    "                for embedding_dim in tuningConfig[\"embedding_dim\"]:\n",
    "                    for epochs in tuningConfig[\"epochs\"]:\n",
    "                        for batch_size in tuningConfig[\"batch_size\"]:                            \n",
    "                            model, MSE = RecommenderDeepFM(electronicstraindata,electronicstestdata, sparse_features, sequence_features, PK_features,\n",
    "                                  target, batch_size, epochs, sep=\"&\")\n",
    "                            if MSE > bestMSE:\n",
    "                                bestMSE = MSE\n",
    "                                bestmodel = model\n",
    "\n",
    "print('The best mse is {0}'.format(bestMSE))\n",
    "# Save the model in order that we can use it as much as we want without training it everytime\n",
    "model.save(\"DeepFMclothRating\")"
   ]
  }
 ],
 "metadata": {
  "kernelspec": {
   "display_name": "Python 3",
   "language": "python",
   "name": "python3"
  },
  "language_info": {
   "codemirror_mode": {
    "name": "ipython",
    "version": 3
   },
   "file_extension": ".py",
   "mimetype": "text/x-python",
   "name": "python",
   "nbconvert_exporter": "python",
   "pygments_lexer": "ipython3",
   "version": "3.7.6"
  }
 },
 "nbformat": 4,
 "nbformat_minor": 4
}
