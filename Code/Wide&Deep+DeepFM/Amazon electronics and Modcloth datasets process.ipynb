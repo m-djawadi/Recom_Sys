{
 "cells": [
  {
   "cell_type": "code",
   "execution_count": 1,
   "metadata": {},
   "outputs": [],
   "source": [
    "import pandas as pd\n",
    "import numpy as np\n"
   ]
  },
  {
   "cell_type": "code",
   "execution_count": 154,
   "metadata": {},
   "outputs": [
    {
     "data": {
      "text/plain": [
       "'C:\\\\Users\\\\Montr\\\\Documents\\\\HEC MSC\\\\Deep learning\\\\team project\\\\data2'"
      ]
     },
     "execution_count": 154,
     "metadata": {},
     "output_type": "execute_result"
    }
   ],
   "source": [
    "import os\n",
    "\n",
    "os.getcwd()"
   ]
  },
  {
   "cell_type": "code",
   "execution_count": 22,
   "metadata": {},
   "outputs": [],
   "source": [
    "df_review = pd.read_csv('./df_modcloth.txt')"
   ]
  },
  {
   "cell_type": "code",
   "execution_count": 23,
   "metadata": {},
   "outputs": [],
   "source": [
    "df_review.to_csv('df_modcloth.csv')"
   ]
  },
  {
   "cell_type": "code",
   "execution_count": 24,
   "metadata": {},
   "outputs": [],
   "source": [
    "df_review = pd.read_csv('./df_modcloth.csv')"
   ]
  },
  {
   "cell_type": "code",
   "execution_count": 25,
   "metadata": {},
   "outputs": [
    {
     "data": {
      "text/html": [
       "<div>\n",
       "<style scoped>\n",
       "    .dataframe tbody tr th:only-of-type {\n",
       "        vertical-align: middle;\n",
       "    }\n",
       "\n",
       "    .dataframe tbody tr th {\n",
       "        vertical-align: top;\n",
       "    }\n",
       "\n",
       "    .dataframe thead th {\n",
       "        text-align: right;\n",
       "    }\n",
       "</style>\n",
       "<table border=\"1\" class=\"dataframe\">\n",
       "  <thead>\n",
       "    <tr style=\"text-align: right;\">\n",
       "      <th></th>\n",
       "      <th>Unnamed: 0</th>\n",
       "      <th>item_id</th>\n",
       "      <th>user_id</th>\n",
       "      <th>rating</th>\n",
       "      <th>timestamp</th>\n",
       "      <th>size</th>\n",
       "      <th>fit</th>\n",
       "      <th>user_attr</th>\n",
       "      <th>model_attr</th>\n",
       "      <th>category</th>\n",
       "      <th>brand</th>\n",
       "      <th>year</th>\n",
       "      <th>split</th>\n",
       "    </tr>\n",
       "  </thead>\n",
       "  <tbody>\n",
       "    <tr>\n",
       "      <th>0</th>\n",
       "      <td>0</td>\n",
       "      <td>7443</td>\n",
       "      <td>Alex</td>\n",
       "      <td>4</td>\n",
       "      <td>2010-01-21 08:00:00+00:00</td>\n",
       "      <td>NaN</td>\n",
       "      <td>NaN</td>\n",
       "      <td>Small</td>\n",
       "      <td>Small</td>\n",
       "      <td>Dresses</td>\n",
       "      <td>NaN</td>\n",
       "      <td>2012</td>\n",
       "      <td>0</td>\n",
       "    </tr>\n",
       "    <tr>\n",
       "      <th>1</th>\n",
       "      <td>1</td>\n",
       "      <td>7443</td>\n",
       "      <td>carolyn.agan</td>\n",
       "      <td>3</td>\n",
       "      <td>2010-01-27 08:00:00+00:00</td>\n",
       "      <td>NaN</td>\n",
       "      <td>NaN</td>\n",
       "      <td>NaN</td>\n",
       "      <td>Small</td>\n",
       "      <td>Dresses</td>\n",
       "      <td>NaN</td>\n",
       "      <td>2012</td>\n",
       "      <td>0</td>\n",
       "    </tr>\n",
       "    <tr>\n",
       "      <th>2</th>\n",
       "      <td>2</td>\n",
       "      <td>7443</td>\n",
       "      <td>Robyn</td>\n",
       "      <td>4</td>\n",
       "      <td>2010-01-29 08:00:00+00:00</td>\n",
       "      <td>NaN</td>\n",
       "      <td>NaN</td>\n",
       "      <td>Small</td>\n",
       "      <td>Small</td>\n",
       "      <td>Dresses</td>\n",
       "      <td>NaN</td>\n",
       "      <td>2012</td>\n",
       "      <td>0</td>\n",
       "    </tr>\n",
       "    <tr>\n",
       "      <th>3</th>\n",
       "      <td>3</td>\n",
       "      <td>7443</td>\n",
       "      <td>De</td>\n",
       "      <td>4</td>\n",
       "      <td>2010-02-13 08:00:00+00:00</td>\n",
       "      <td>NaN</td>\n",
       "      <td>NaN</td>\n",
       "      <td>NaN</td>\n",
       "      <td>Small</td>\n",
       "      <td>Dresses</td>\n",
       "      <td>NaN</td>\n",
       "      <td>2012</td>\n",
       "      <td>0</td>\n",
       "    </tr>\n",
       "    <tr>\n",
       "      <th>4</th>\n",
       "      <td>4</td>\n",
       "      <td>7443</td>\n",
       "      <td>tasha</td>\n",
       "      <td>4</td>\n",
       "      <td>2010-02-18 08:00:00+00:00</td>\n",
       "      <td>NaN</td>\n",
       "      <td>NaN</td>\n",
       "      <td>Small</td>\n",
       "      <td>Small</td>\n",
       "      <td>Dresses</td>\n",
       "      <td>NaN</td>\n",
       "      <td>2012</td>\n",
       "      <td>0</td>\n",
       "    </tr>\n",
       "  </tbody>\n",
       "</table>\n",
       "</div>"
      ],
      "text/plain": [
       "   Unnamed: 0  item_id       user_id  rating                  timestamp  size  \\\n",
       "0           0     7443          Alex       4  2010-01-21 08:00:00+00:00   NaN   \n",
       "1           1     7443  carolyn.agan       3  2010-01-27 08:00:00+00:00   NaN   \n",
       "2           2     7443         Robyn       4  2010-01-29 08:00:00+00:00   NaN   \n",
       "3           3     7443            De       4  2010-02-13 08:00:00+00:00   NaN   \n",
       "4           4     7443         tasha       4  2010-02-18 08:00:00+00:00   NaN   \n",
       "\n",
       "   fit user_attr model_attr category brand  year  split  \n",
       "0  NaN     Small      Small  Dresses   NaN  2012      0  \n",
       "1  NaN       NaN      Small  Dresses   NaN  2012      0  \n",
       "2  NaN     Small      Small  Dresses   NaN  2012      0  \n",
       "3  NaN       NaN      Small  Dresses   NaN  2012      0  \n",
       "4  NaN     Small      Small  Dresses   NaN  2012      0  "
      ]
     },
     "execution_count": 25,
     "metadata": {},
     "output_type": "execute_result"
    }
   ],
   "source": [
    "df_review.head()"
   ]
  },
  {
   "cell_type": "code",
   "execution_count": 113,
   "metadata": {},
   "outputs": [
    {
     "data": {
      "text/plain": [
       "(18557, 9)"
      ]
     },
     "execution_count": 113,
     "metadata": {},
     "output_type": "execute_result"
    }
   ],
   "source": [
    "df_review.shape"
   ]
  },
  {
   "cell_type": "code",
   "execution_count": 144,
   "metadata": {},
   "outputs": [],
   "source": [
    "item_id=set(df_review['item_id'])"
   ]
  },
  {
   "cell_type": "code",
   "execution_count": 145,
   "metadata": {},
   "outputs": [
    {
     "data": {
      "text/plain": [
       "516"
      ]
     },
     "execution_count": 145,
     "metadata": {},
     "output_type": "execute_result"
    }
   ],
   "source": [
    "len(item_id)"
   ]
  },
  {
   "cell_type": "code",
   "execution_count": 139,
   "metadata": {},
   "outputs": [
    {
     "data": {
      "text/plain": [
       "18557"
      ]
     },
     "execution_count": 139,
     "metadata": {},
     "output_type": "execute_result"
    }
   ],
   "source": [
    "df_review['rating'].count()"
   ]
  },
  {
   "cell_type": "code",
   "execution_count": 99,
   "metadata": {},
   "outputs": [
    {
     "name": "stdout",
     "output_type": "stream",
     "text": [
      "<class 'pandas.core.frame.DataFrame'>\n",
      "Int64Index: 18557 entries, 328 to 99880\n",
      "Data columns (total 9 columns):\n",
      " #   Column      Non-Null Count  Dtype  \n",
      "---  ------      --------------  -----  \n",
      " 0   item_id     18557 non-null  int64  \n",
      " 1   user_id     18557 non-null  object \n",
      " 2   rating      18557 non-null  int64  \n",
      " 3   timestamp   18557 non-null  object \n",
      " 4   size        18557 non-null  float64\n",
      " 5   user_attr   18557 non-null  object \n",
      " 6   model_attr  18557 non-null  object \n",
      " 7   category    18557 non-null  object \n",
      " 8   brand       18557 non-null  object \n",
      "dtypes: float64(1), int64(2), object(6)\n",
      "memory usage: 1.4+ MB\n"
     ]
    }
   ],
   "source": [
    "df_review.info()"
   ]
  },
  {
   "cell_type": "code",
   "execution_count": 28,
   "metadata": {},
   "outputs": [],
   "source": [
    "df_review.drop(columns=['Unnamed: 0','split','year','fit'],axis=1,inplace=True)"
   ]
  },
  {
   "cell_type": "code",
   "execution_count": 29,
   "metadata": {},
   "outputs": [],
   "source": [
    "df_review.dropna(inplace=True)"
   ]
  },
  {
   "cell_type": "code",
   "execution_count": 30,
   "metadata": {},
   "outputs": [
    {
     "data": {
      "text/plain": [
       "item_id       0\n",
       "user_id       0\n",
       "rating        0\n",
       "timestamp     0\n",
       "size          0\n",
       "user_attr     0\n",
       "model_attr    0\n",
       "category      0\n",
       "brand         0\n",
       "dtype: int64"
      ]
     },
     "execution_count": 30,
     "metadata": {},
     "output_type": "execute_result"
    }
   ],
   "source": [
    "df_review.isnull().sum()"
   ]
  },
  {
   "cell_type": "code",
   "execution_count": 115,
   "metadata": {},
   "outputs": [
    {
     "data": {
      "text/plain": [
       "(18557, 9)"
      ]
     },
     "execution_count": 115,
     "metadata": {},
     "output_type": "execute_result"
    }
   ],
   "source": [
    "df_review.shape"
   ]
  },
  {
   "cell_type": "code",
   "execution_count": 147,
   "metadata": {},
   "outputs": [
    {
     "data": {
      "text/plain": [
       "<matplotlib.axes._subplots.AxesSubplot at 0x1989b9e2708>"
      ]
     },
     "execution_count": 147,
     "metadata": {},
     "output_type": "execute_result"
    },
    {
     "data": {
      "image/png": "[encoded data removed]",
      "text/plain": [
       "<Figure size 432x288 with 1 Axes>"
      ]
     },
     "metadata": {
      "needs_background": "light"
     },
     "output_type": "display_data"
    }
   ],
   "source": [
    "df_review['rating'].hist()"
   ]
  },
  {
   "cell_type": "code",
   "execution_count": 32,
   "metadata": {},
   "outputs": [
    {
     "data": {
      "text/html": [
       "<div>\n",
       "<style scoped>\n",
       "    .dataframe tbody tr th:only-of-type {\n",
       "        vertical-align: middle;\n",
       "    }\n",
       "\n",
       "    .dataframe tbody tr th {\n",
       "        vertical-align: top;\n",
       "    }\n",
       "\n",
       "    .dataframe thead th {\n",
       "        text-align: right;\n",
       "    }\n",
       "</style>\n",
       "<table border=\"1\" class=\"dataframe\">\n",
       "  <thead>\n",
       "    <tr style=\"text-align: right;\">\n",
       "      <th></th>\n",
       "      <th>item_id</th>\n",
       "      <th>user_id</th>\n",
       "      <th>rating</th>\n",
       "      <th>timestamp</th>\n",
       "      <th>size</th>\n",
       "      <th>user_attr</th>\n",
       "      <th>model_attr</th>\n",
       "      <th>category</th>\n",
       "      <th>brand</th>\n",
       "    </tr>\n",
       "  </thead>\n",
       "  <tbody>\n",
       "    <tr>\n",
       "      <th>328</th>\n",
       "      <td>21296</td>\n",
       "      <td>Nikki</td>\n",
       "      <td>5</td>\n",
       "      <td>2011-02-16 08:00:00+00:00</td>\n",
       "      <td>3.0</td>\n",
       "      <td>Small</td>\n",
       "      <td>Small</td>\n",
       "      <td>Bottoms</td>\n",
       "      <td>ModCloth</td>\n",
       "    </tr>\n",
       "    <tr>\n",
       "      <th>329</th>\n",
       "      <td>21296</td>\n",
       "      <td>ellen</td>\n",
       "      <td>5</td>\n",
       "      <td>2011-02-16 08:00:00+00:00</td>\n",
       "      <td>1.0</td>\n",
       "      <td>Large</td>\n",
       "      <td>Small</td>\n",
       "      <td>Bottoms</td>\n",
       "      <td>ModCloth</td>\n",
       "    </tr>\n",
       "    <tr>\n",
       "      <th>340</th>\n",
       "      <td>21296</td>\n",
       "      <td>Sarita</td>\n",
       "      <td>5</td>\n",
       "      <td>2011-02-22 08:00:00+00:00</td>\n",
       "      <td>2.0</td>\n",
       "      <td>Small</td>\n",
       "      <td>Small</td>\n",
       "      <td>Bottoms</td>\n",
       "      <td>ModCloth</td>\n",
       "    </tr>\n",
       "    <tr>\n",
       "      <th>351</th>\n",
       "      <td>21296</td>\n",
       "      <td>kacikorn</td>\n",
       "      <td>4</td>\n",
       "      <td>2011-03-01 08:00:00+00:00</td>\n",
       "      <td>1.0</td>\n",
       "      <td>Small</td>\n",
       "      <td>Small</td>\n",
       "      <td>Bottoms</td>\n",
       "      <td>ModCloth</td>\n",
       "    </tr>\n",
       "    <tr>\n",
       "      <th>361</th>\n",
       "      <td>21296</td>\n",
       "      <td>lesleydawn88</td>\n",
       "      <td>4</td>\n",
       "      <td>2011-03-06 08:00:00+00:00</td>\n",
       "      <td>1.0</td>\n",
       "      <td>Small</td>\n",
       "      <td>Small</td>\n",
       "      <td>Bottoms</td>\n",
       "      <td>ModCloth</td>\n",
       "    </tr>\n",
       "  </tbody>\n",
       "</table>\n",
       "</div>"
      ],
      "text/plain": [
       "     item_id       user_id  rating                  timestamp  size user_attr  \\\n",
       "328    21296         Nikki       5  2011-02-16 08:00:00+00:00   3.0     Small   \n",
       "329    21296         ellen       5  2011-02-16 08:00:00+00:00   1.0     Large   \n",
       "340    21296        Sarita       5  2011-02-22 08:00:00+00:00   2.0     Small   \n",
       "351    21296      kacikorn       4  2011-03-01 08:00:00+00:00   1.0     Small   \n",
       "361    21296  lesleydawn88       4  2011-03-06 08:00:00+00:00   1.0     Small   \n",
       "\n",
       "    model_attr category     brand  \n",
       "328      Small  Bottoms  ModCloth  \n",
       "329      Small  Bottoms  ModCloth  \n",
       "340      Small  Bottoms  ModCloth  \n",
       "351      Small  Bottoms  ModCloth  \n",
       "361      Small  Bottoms  ModCloth  "
      ]
     },
     "execution_count": 32,
     "metadata": {},
     "output_type": "execute_result"
    }
   ],
   "source": [
    "df_review.head()"
   ]
  },
  {
   "cell_type": "code",
   "execution_count": 274,
   "metadata": {},
   "outputs": [],
   "source": [
    " df_review.reset_index(drop=True, inplace=True)"
   ]
  },
  {
   "cell_type": "code",
   "execution_count": 275,
   "metadata": {},
   "outputs": [
    {
     "data": {
      "text/html": [
       "<div>\n",
       "<style scoped>\n",
       "    .dataframe tbody tr th:only-of-type {\n",
       "        vertical-align: middle;\n",
       "    }\n",
       "\n",
       "    .dataframe tbody tr th {\n",
       "        vertical-align: top;\n",
       "    }\n",
       "\n",
       "    .dataframe thead th {\n",
       "        text-align: right;\n",
       "    }\n",
       "</style>\n",
       "<table border=\"1\" class=\"dataframe\">\n",
       "  <thead>\n",
       "    <tr style=\"text-align: right;\">\n",
       "      <th></th>\n",
       "      <th>item_id</th>\n",
       "      <th>user_id</th>\n",
       "      <th>rating</th>\n",
       "      <th>timestamp</th>\n",
       "      <th>size</th>\n",
       "      <th>user_attr</th>\n",
       "      <th>model_attr</th>\n",
       "      <th>category</th>\n",
       "      <th>brand</th>\n",
       "    </tr>\n",
       "  </thead>\n",
       "  <tbody>\n",
       "    <tr>\n",
       "      <th>0</th>\n",
       "      <td>21296</td>\n",
       "      <td>Nikki</td>\n",
       "      <td>5</td>\n",
       "      <td>2011-02-16 08:00:00+00:00</td>\n",
       "      <td>3.0</td>\n",
       "      <td>Small</td>\n",
       "      <td>Small</td>\n",
       "      <td>Bottoms</td>\n",
       "      <td>ModCloth</td>\n",
       "    </tr>\n",
       "    <tr>\n",
       "      <th>1</th>\n",
       "      <td>21296</td>\n",
       "      <td>ellen</td>\n",
       "      <td>5</td>\n",
       "      <td>2011-02-16 08:00:00+00:00</td>\n",
       "      <td>1.0</td>\n",
       "      <td>Large</td>\n",
       "      <td>Small</td>\n",
       "      <td>Bottoms</td>\n",
       "      <td>ModCloth</td>\n",
       "    </tr>\n",
       "    <tr>\n",
       "      <th>2</th>\n",
       "      <td>21296</td>\n",
       "      <td>Sarita</td>\n",
       "      <td>5</td>\n",
       "      <td>2011-02-22 08:00:00+00:00</td>\n",
       "      <td>2.0</td>\n",
       "      <td>Small</td>\n",
       "      <td>Small</td>\n",
       "      <td>Bottoms</td>\n",
       "      <td>ModCloth</td>\n",
       "    </tr>\n",
       "    <tr>\n",
       "      <th>3</th>\n",
       "      <td>21296</td>\n",
       "      <td>kacikorn</td>\n",
       "      <td>4</td>\n",
       "      <td>2011-03-01 08:00:00+00:00</td>\n",
       "      <td>1.0</td>\n",
       "      <td>Small</td>\n",
       "      <td>Small</td>\n",
       "      <td>Bottoms</td>\n",
       "      <td>ModCloth</td>\n",
       "    </tr>\n",
       "    <tr>\n",
       "      <th>4</th>\n",
       "      <td>21296</td>\n",
       "      <td>lesleydawn88</td>\n",
       "      <td>4</td>\n",
       "      <td>2011-03-06 08:00:00+00:00</td>\n",
       "      <td>1.0</td>\n",
       "      <td>Small</td>\n",
       "      <td>Small</td>\n",
       "      <td>Bottoms</td>\n",
       "      <td>ModCloth</td>\n",
       "    </tr>\n",
       "  </tbody>\n",
       "</table>\n",
       "</div>"
      ],
      "text/plain": [
       "   item_id       user_id  rating                  timestamp  size user_attr  \\\n",
       "0    21296         Nikki       5  2011-02-16 08:00:00+00:00   3.0     Small   \n",
       "1    21296         ellen       5  2011-02-16 08:00:00+00:00   1.0     Large   \n",
       "2    21296        Sarita       5  2011-02-22 08:00:00+00:00   2.0     Small   \n",
       "3    21296      kacikorn       4  2011-03-01 08:00:00+00:00   1.0     Small   \n",
       "4    21296  lesleydawn88       4  2011-03-06 08:00:00+00:00   1.0     Small   \n",
       "\n",
       "  model_attr category     brand  \n",
       "0      Small  Bottoms  ModCloth  \n",
       "1      Small  Bottoms  ModCloth  \n",
       "2      Small  Bottoms  ModCloth  \n",
       "3      Small  Bottoms  ModCloth  \n",
       "4      Small  Bottoms  ModCloth  "
      ]
     },
     "execution_count": 275,
     "metadata": {},
     "output_type": "execute_result"
    }
   ],
   "source": [
    "df_review.head()"
   ]
  },
  {
   "cell_type": "code",
   "execution_count": 276,
   "metadata": {},
   "outputs": [
    {
     "name": "stdout",
     "output_type": "stream",
     "text": [
      "<class 'pandas.core.frame.DataFrame'>\n",
      "RangeIndex: 18557 entries, 0 to 18556\n",
      "Data columns (total 9 columns):\n",
      " #   Column      Non-Null Count  Dtype  \n",
      "---  ------      --------------  -----  \n",
      " 0   item_id     18557 non-null  int64  \n",
      " 1   user_id     18557 non-null  object \n",
      " 2   rating      18557 non-null  int64  \n",
      " 3   timestamp   18557 non-null  object \n",
      " 4   size        18557 non-null  float64\n",
      " 5   user_attr   18557 non-null  object \n",
      " 6   model_attr  18557 non-null  object \n",
      " 7   category    18557 non-null  object \n",
      " 8   brand       18557 non-null  object \n",
      "dtypes: float64(1), int64(2), object(6)\n",
      "memory usage: 1.3+ MB\n"
     ]
    }
   ],
   "source": [
    "df_review.info()"
   ]
  },
  {
   "cell_type": "code",
   "execution_count": 260,
   "metadata": {},
   "outputs": [
    {
     "data": {
      "text/plain": [
       "0              Small\n",
       "1              Small\n",
       "2              Small\n",
       "3              Small\n",
       "4              Small\n",
       "            ...     \n",
       "99888    Small&Large\n",
       "99889    Small&Large\n",
       "99890    Small&Large\n",
       "99891    Small&Large\n",
       "99892          Small\n",
       "Name: model_attr, Length: 99893, dtype: object"
      ]
     },
     "execution_count": 260,
     "metadata": {},
     "output_type": "execute_result"
    }
   ],
   "source": [
    "df_review.loc[:,'model_attr']"
   ]
  },
  {
   "cell_type": "code",
   "execution_count": 249,
   "metadata": {},
   "outputs": [],
   "source": [
    "from sklearn.model_selection import train_test_split\n",
    "import pandas as pd"
   ]
  },
  {
   "cell_type": "code",
   "execution_count": 277,
   "metadata": {},
   "outputs": [],
   "source": [
    "train, test = train_test_split(df_review, test_size=0.2)"
   ]
  },
  {
   "cell_type": "code",
   "execution_count": 278,
   "metadata": {},
   "outputs": [
    {
     "data": {
      "text/plain": [
       "(14845, 9)"
      ]
     },
     "execution_count": 278,
     "metadata": {},
     "output_type": "execute_result"
    }
   ],
   "source": [
    "train.shape"
   ]
  },
  {
   "cell_type": "code",
   "execution_count": 279,
   "metadata": {},
   "outputs": [
    {
     "data": {
      "text/plain": [
       "(3712, 9)"
      ]
     },
     "execution_count": 279,
     "metadata": {},
     "output_type": "execute_result"
    }
   ],
   "source": [
    "test.shape"
   ]
  },
  {
   "cell_type": "code",
   "execution_count": 280,
   "metadata": {},
   "outputs": [],
   "source": [
    "train.to_csv(\"./df_modcloth_train.csv\",index=False)\n",
    "\n",
    "test.to_csv(\"./df_modcloth_test.csv\",index=False)"
   ]
  },
  {
   "cell_type": "code",
   "execution_count": 260,
   "metadata": {},
   "outputs": [],
   "source": [
    "# Books' Ratings\n",
    "BXBookRatings = pd.read_csv('./BX-Book-Ratings.csv',sep=';', encoding='ISO-8859–1')"
   ]
  },
  {
   "cell_type": "code",
   "execution_count": 255,
   "metadata": {},
   "outputs": [
    {
     "data": {
      "text/html": [
       "<div>\n",
       "<style scoped>\n",
       "    .dataframe tbody tr th:only-of-type {\n",
       "        vertical-align: middle;\n",
       "    }\n",
       "\n",
       "    .dataframe tbody tr th {\n",
       "        vertical-align: top;\n",
       "    }\n",
       "\n",
       "    .dataframe thead th {\n",
       "        text-align: right;\n",
       "    }\n",
       "</style>\n",
       "<table border=\"1\" class=\"dataframe\">\n",
       "  <thead>\n",
       "    <tr style=\"text-align: right;\">\n",
       "      <th></th>\n",
       "      <th>User-ID</th>\n",
       "      <th>ISBN</th>\n",
       "      <th>Book-Rating</th>\n",
       "    </tr>\n",
       "  </thead>\n",
       "  <tbody>\n",
       "    <tr>\n",
       "      <th>0</th>\n",
       "      <td>276725</td>\n",
       "      <td>034545104X</td>\n",
       "      <td>0</td>\n",
       "    </tr>\n",
       "    <tr>\n",
       "      <th>1</th>\n",
       "      <td>276726</td>\n",
       "      <td>0155061224</td>\n",
       "      <td>5</td>\n",
       "    </tr>\n",
       "    <tr>\n",
       "      <th>2</th>\n",
       "      <td>276727</td>\n",
       "      <td>0446520802</td>\n",
       "      <td>0</td>\n",
       "    </tr>\n",
       "    <tr>\n",
       "      <th>3</th>\n",
       "      <td>276729</td>\n",
       "      <td>052165615X</td>\n",
       "      <td>3</td>\n",
       "    </tr>\n",
       "    <tr>\n",
       "      <th>4</th>\n",
       "      <td>276729</td>\n",
       "      <td>0521795028</td>\n",
       "      <td>6</td>\n",
       "    </tr>\n",
       "  </tbody>\n",
       "</table>\n",
       "</div>"
      ],
      "text/plain": [
       "   User-ID        ISBN  Book-Rating\n",
       "0   276725  034545104X            0\n",
       "1   276726  0155061224            5\n",
       "2   276727  0446520802            0\n",
       "3   276729  052165615X            3\n",
       "4   276729  0521795028            6"
      ]
     },
     "execution_count": 255,
     "metadata": {},
     "output_type": "execute_result"
    }
   ],
   "source": [
    "BXBookRatings.head()"
   ]
  },
  {
   "cell_type": "code",
   "execution_count": 261,
   "metadata": {},
   "outputs": [
    {
     "data": {
      "text/plain": [
       "(1149780, 3)"
      ]
     },
     "execution_count": 261,
     "metadata": {},
     "output_type": "execute_result"
    }
   ],
   "source": [
    "BXBookRatings.shape"
   ]
  },
  {
   "cell_type": "code",
   "execution_count": 257,
   "metadata": {},
   "outputs": [
    {
     "name": "stdout",
     "output_type": "stream",
     "text": [
      "except\n",
      "except\n",
      "except\n",
      "data-ISO-8859–1-success!!\n"
     ]
    }
   ],
   "source": [
    "for decode in ('gbk','utf-8','gb18030','ISO-8859–1'):\n",
    "    try:    \n",
    "        data = pd.read_csv('./BX-Book-Ratings.csv',encoding=decode,error_bad_lines=False,sep=';')\n",
    "        print('data-' +  decode + '-success!!')\n",
    "        break\n",
    "    except:\n",
    "        print(\"except\")"
   ]
  },
  {
   "cell_type": "code",
   "execution_count": 262,
   "metadata": {},
   "outputs": [
    {
     "data": {
      "text/plain": [
       "User-ID        0\n",
       "ISBN           0\n",
       "Book-Rating    0\n",
       "dtype: int64"
      ]
     },
     "execution_count": 262,
     "metadata": {},
     "output_type": "execute_result"
    }
   ],
   "source": [
    "BXBookRatings.isnull().sum()"
   ]
  },
  {
   "cell_type": "code",
   "execution_count": 383,
   "metadata": {},
   "outputs": [],
   "source": [
    "# Books\n",
    "BXBook = pd.read_csv('./BX-Books2.csv', encoding='ISO-8859–1',sep='\\t')"
   ]
  },
  {
   "cell_type": "code",
   "execution_count": 384,
   "metadata": {},
   "outputs": [
    {
     "data": {
      "text/html": [
       "<div>\n",
       "<style scoped>\n",
       "    .dataframe tbody tr th:only-of-type {\n",
       "        vertical-align: middle;\n",
       "    }\n",
       "\n",
       "    .dataframe tbody tr th {\n",
       "        vertical-align: top;\n",
       "    }\n",
       "\n",
       "    .dataframe thead th {\n",
       "        text-align: right;\n",
       "    }\n",
       "</style>\n",
       "<table border=\"1\" class=\"dataframe\">\n",
       "  <thead>\n",
       "    <tr style=\"text-align: right;\">\n",
       "      <th></th>\n",
       "      <th>\"ISBN\";\"Book-Title\";\"Book-Author\";\"Year-Of-Publication\";\"Publisher\";\"Image-URL-S\";\"Image-URL-M\";\"Image-URL-L\"</th>\n",
       "    </tr>\n",
       "  </thead>\n",
       "  <tbody>\n",
       "    <tr>\n",
       "      <th>0</th>\n",
       "      <td>0195153448;\"Classical Mythology\";\"Mark P. O. M...</td>\n",
       "    </tr>\n",
       "    <tr>\n",
       "      <th>1</th>\n",
       "      <td>0002005018;\"Clara Callan\";\"Richard Bruce Wrigh...</td>\n",
       "    </tr>\n",
       "    <tr>\n",
       "      <th>2</th>\n",
       "      <td>0060973129;\"Decision in Normandy\";\"Carlo D'Est...</td>\n",
       "    </tr>\n",
       "    <tr>\n",
       "      <th>3</th>\n",
       "      <td>0374157065;\"Flu: The Story of the Great Influe...</td>\n",
       "    </tr>\n",
       "    <tr>\n",
       "      <th>4</th>\n",
       "      <td>0393045218;\"The Mummies of Urumchi\";\"E. J. W. ...</td>\n",
       "    </tr>\n",
       "  </tbody>\n",
       "</table>\n",
       "</div>"
      ],
      "text/plain": [
       "  \"ISBN\";\"Book-Title\";\"Book-Author\";\"Year-Of-Publication\";\"Publisher\";\"Image-URL-S\";\"Image-URL-M\";\"Image-URL-L\"\n",
       "0  0195153448;\"Classical Mythology\";\"Mark P. O. M...                                                           \n",
       "1  0002005018;\"Clara Callan\";\"Richard Bruce Wrigh...                                                           \n",
       "2  0060973129;\"Decision in Normandy\";\"Carlo D'Est...                                                           \n",
       "3  0374157065;\"Flu: The Story of the Great Influe...                                                           \n",
       "4  0393045218;\"The Mummies of Urumchi\";\"E. J. W. ...                                                           "
      ]
     },
     "execution_count": 384,
     "metadata": {},
     "output_type": "execute_result"
    }
   ],
   "source": [
    "BXBook.head()"
   ]
  },
  {
   "cell_type": "code",
   "execution_count": 385,
   "metadata": {},
   "outputs": [
    {
     "data": {
      "text/plain": [
       "(271379, 1)"
      ]
     },
     "execution_count": 385,
     "metadata": {},
     "output_type": "execute_result"
    }
   ],
   "source": [
    "BXBook.shape"
   ]
  },
  {
   "cell_type": "code",
   "execution_count": 386,
   "metadata": {},
   "outputs": [],
   "source": [
    "BXBook['ISBN']=BXBook['\"ISBN\";\"Book-Title\";\"Book-Author\";\"Year-Of-Publication\";\"Publisher\";\"Image-URL-S\";\"Image-URL-M\";\"Image-URL-L\"'].map(lambda x:x.split(';')[0])\n",
    "BXBook['Book-Title']=BXBook['\"ISBN\";\"Book-Title\";\"Book-Author\";\"Year-Of-Publication\";\"Publisher\";\"Image-URL-S\";\"Image-URL-M\";\"Image-URL-L\"'].map(lambda x:x.split(';')[1])\n",
    "BXBook['Book-Author']=BXBook['\"ISBN\";\"Book-Title\";\"Book-Author\";\"Year-Of-Publication\";\"Publisher\";\"Image-URL-S\";\"Image-URL-M\";\"Image-URL-L\"'].map(lambda x:x.split(';')[2])\n",
    "BXBook['Year-Of-Publication']=BXBook['\"ISBN\";\"Book-Title\";\"Book-Author\";\"Year-Of-Publication\";\"Publisher\";\"Image-URL-S\";\"Image-URL-M\";\"Image-URL-L\"'].map(lambda x:x.split(';')[3])\n",
    "BXBook['Publisher']=BXBook['\"ISBN\";\"Book-Title\";\"Book-Author\";\"Year-Of-Publication\";\"Publisher\";\"Image-URL-S\";\"Image-URL-M\";\"Image-URL-L\"'].map(lambda x:x.split(';')[4])"
   ]
  },
  {
   "cell_type": "code",
   "execution_count": 387,
   "metadata": {
    "scrolled": true
   },
   "outputs": [
    {
     "data": {
      "text/html": [
       "<div>\n",
       "<style scoped>\n",
       "    .dataframe tbody tr th:only-of-type {\n",
       "        vertical-align: middle;\n",
       "    }\n",
       "\n",
       "    .dataframe tbody tr th {\n",
       "        vertical-align: top;\n",
       "    }\n",
       "\n",
       "    .dataframe thead th {\n",
       "        text-align: right;\n",
       "    }\n",
       "</style>\n",
       "<table border=\"1\" class=\"dataframe\">\n",
       "  <thead>\n",
       "    <tr style=\"text-align: right;\">\n",
       "      <th></th>\n",
       "      <th>\"ISBN\";\"Book-Title\";\"Book-Author\";\"Year-Of-Publication\";\"Publisher\";\"Image-URL-S\";\"Image-URL-M\";\"Image-URL-L\"</th>\n",
       "      <th>ISBN</th>\n",
       "      <th>Book-Title</th>\n",
       "      <th>Book-Author</th>\n",
       "      <th>Year-Of-Publication</th>\n",
       "      <th>Publisher</th>\n",
       "    </tr>\n",
       "  </thead>\n",
       "  <tbody>\n",
       "    <tr>\n",
       "      <th>0</th>\n",
       "      <td>0195153448;\"Classical Mythology\";\"Mark P. O. M...</td>\n",
       "      <td>0195153448</td>\n",
       "      <td>\"Classical Mythology\"</td>\n",
       "      <td>\"Mark P. O. Morford\"</td>\n",
       "      <td>\"2002\"</td>\n",
       "      <td>\"Oxford University Press\"</td>\n",
       "    </tr>\n",
       "    <tr>\n",
       "      <th>1</th>\n",
       "      <td>0002005018;\"Clara Callan\";\"Richard Bruce Wrigh...</td>\n",
       "      <td>0002005018</td>\n",
       "      <td>\"Clara Callan\"</td>\n",
       "      <td>\"Richard Bruce Wright\"</td>\n",
       "      <td>\"2001\"</td>\n",
       "      <td>\"HarperFlamingo Canada\"</td>\n",
       "    </tr>\n",
       "    <tr>\n",
       "      <th>2</th>\n",
       "      <td>0060973129;\"Decision in Normandy\";\"Carlo D'Est...</td>\n",
       "      <td>0060973129</td>\n",
       "      <td>\"Decision in Normandy\"</td>\n",
       "      <td>\"Carlo D'Este\"</td>\n",
       "      <td>\"1991\"</td>\n",
       "      <td>\"HarperPerennial\"</td>\n",
       "    </tr>\n",
       "    <tr>\n",
       "      <th>3</th>\n",
       "      <td>0374157065;\"Flu: The Story of the Great Influe...</td>\n",
       "      <td>0374157065</td>\n",
       "      <td>\"Flu: The Story of the Great Influenza Pandemi...</td>\n",
       "      <td>\"Gina Bari Kolata\"</td>\n",
       "      <td>\"1999\"</td>\n",
       "      <td>\"Farrar Straus Giroux\"</td>\n",
       "    </tr>\n",
       "    <tr>\n",
       "      <th>4</th>\n",
       "      <td>0393045218;\"The Mummies of Urumchi\";\"E. J. W. ...</td>\n",
       "      <td>0393045218</td>\n",
       "      <td>\"The Mummies of Urumchi\"</td>\n",
       "      <td>\"E. J. W. Barber\"</td>\n",
       "      <td>\"1999\"</td>\n",
       "      <td>\"W. W. Norton &amp;amp</td>\n",
       "    </tr>\n",
       "  </tbody>\n",
       "</table>\n",
       "</div>"
      ],
      "text/plain": [
       "  \"ISBN\";\"Book-Title\";\"Book-Author\";\"Year-Of-Publication\";\"Publisher\";\"Image-URL-S\";\"Image-URL-M\";\"Image-URL-L\"  \\\n",
       "0  0195153448;\"Classical Mythology\";\"Mark P. O. M...                                                              \n",
       "1  0002005018;\"Clara Callan\";\"Richard Bruce Wrigh...                                                              \n",
       "2  0060973129;\"Decision in Normandy\";\"Carlo D'Est...                                                              \n",
       "3  0374157065;\"Flu: The Story of the Great Influe...                                                              \n",
       "4  0393045218;\"The Mummies of Urumchi\";\"E. J. W. ...                                                              \n",
       "\n",
       "         ISBN                                         Book-Title  \\\n",
       "0  0195153448                              \"Classical Mythology\"   \n",
       "1  0002005018                                     \"Clara Callan\"   \n",
       "2  0060973129                             \"Decision in Normandy\"   \n",
       "3  0374157065  \"Flu: The Story of the Great Influenza Pandemi...   \n",
       "4  0393045218                           \"The Mummies of Urumchi\"   \n",
       "\n",
       "              Book-Author Year-Of-Publication                  Publisher  \n",
       "0    \"Mark P. O. Morford\"              \"2002\"  \"Oxford University Press\"  \n",
       "1  \"Richard Bruce Wright\"              \"2001\"    \"HarperFlamingo Canada\"  \n",
       "2          \"Carlo D'Este\"              \"1991\"          \"HarperPerennial\"  \n",
       "3      \"Gina Bari Kolata\"              \"1999\"     \"Farrar Straus Giroux\"  \n",
       "4       \"E. J. W. Barber\"              \"1999\"         \"W. W. Norton &amp  "
      ]
     },
     "execution_count": 387,
     "metadata": {},
     "output_type": "execute_result"
    }
   ],
   "source": [
    "BXBook.head()"
   ]
  },
  {
   "cell_type": "code",
   "execution_count": 388,
   "metadata": {},
   "outputs": [],
   "source": [
    "BXBooknew=BXBook.drop(columns=['\"ISBN\";\"Book-Title\";\"Book-Author\";\"Year-Of-Publication\";\"Publisher\";\"Image-URL-S\";\"Image-URL-M\";\"Image-URL-L\"'],axis=1)"
   ]
  },
  {
   "cell_type": "code",
   "execution_count": 389,
   "metadata": {},
   "outputs": [
    {
     "data": {
      "text/html": [
       "<div>\n",
       "<style scoped>\n",
       "    .dataframe tbody tr th:only-of-type {\n",
       "        vertical-align: middle;\n",
       "    }\n",
       "\n",
       "    .dataframe tbody tr th {\n",
       "        vertical-align: top;\n",
       "    }\n",
       "\n",
       "    .dataframe thead th {\n",
       "        text-align: right;\n",
       "    }\n",
       "</style>\n",
       "<table border=\"1\" class=\"dataframe\">\n",
       "  <thead>\n",
       "    <tr style=\"text-align: right;\">\n",
       "      <th></th>\n",
       "      <th>ISBN</th>\n",
       "      <th>Book-Title</th>\n",
       "      <th>Book-Author</th>\n",
       "      <th>Year-Of-Publication</th>\n",
       "      <th>Publisher</th>\n",
       "    </tr>\n",
       "  </thead>\n",
       "  <tbody>\n",
       "    <tr>\n",
       "      <th>0</th>\n",
       "      <td>0195153448</td>\n",
       "      <td>\"Classical Mythology\"</td>\n",
       "      <td>\"Mark P. O. Morford\"</td>\n",
       "      <td>\"2002\"</td>\n",
       "      <td>\"Oxford University Press\"</td>\n",
       "    </tr>\n",
       "    <tr>\n",
       "      <th>1</th>\n",
       "      <td>0002005018</td>\n",
       "      <td>\"Clara Callan\"</td>\n",
       "      <td>\"Richard Bruce Wright\"</td>\n",
       "      <td>\"2001\"</td>\n",
       "      <td>\"HarperFlamingo Canada\"</td>\n",
       "    </tr>\n",
       "    <tr>\n",
       "      <th>2</th>\n",
       "      <td>0060973129</td>\n",
       "      <td>\"Decision in Normandy\"</td>\n",
       "      <td>\"Carlo D'Este\"</td>\n",
       "      <td>\"1991\"</td>\n",
       "      <td>\"HarperPerennial\"</td>\n",
       "    </tr>\n",
       "    <tr>\n",
       "      <th>3</th>\n",
       "      <td>0374157065</td>\n",
       "      <td>\"Flu: The Story of the Great Influenza Pandemi...</td>\n",
       "      <td>\"Gina Bari Kolata\"</td>\n",
       "      <td>\"1999\"</td>\n",
       "      <td>\"Farrar Straus Giroux\"</td>\n",
       "    </tr>\n",
       "    <tr>\n",
       "      <th>4</th>\n",
       "      <td>0393045218</td>\n",
       "      <td>\"The Mummies of Urumchi\"</td>\n",
       "      <td>\"E. J. W. Barber\"</td>\n",
       "      <td>\"1999\"</td>\n",
       "      <td>\"W. W. Norton &amp;amp</td>\n",
       "    </tr>\n",
       "  </tbody>\n",
       "</table>\n",
       "</div>"
      ],
      "text/plain": [
       "         ISBN                                         Book-Title  \\\n",
       "0  0195153448                              \"Classical Mythology\"   \n",
       "1  0002005018                                     \"Clara Callan\"   \n",
       "2  0060973129                             \"Decision in Normandy\"   \n",
       "3  0374157065  \"Flu: The Story of the Great Influenza Pandemi...   \n",
       "4  0393045218                           \"The Mummies of Urumchi\"   \n",
       "\n",
       "              Book-Author Year-Of-Publication                  Publisher  \n",
       "0    \"Mark P. O. Morford\"              \"2002\"  \"Oxford University Press\"  \n",
       "1  \"Richard Bruce Wright\"              \"2001\"    \"HarperFlamingo Canada\"  \n",
       "2          \"Carlo D'Este\"              \"1991\"          \"HarperPerennial\"  \n",
       "3      \"Gina Bari Kolata\"              \"1999\"     \"Farrar Straus Giroux\"  \n",
       "4       \"E. J. W. Barber\"              \"1999\"         \"W. W. Norton &amp  "
      ]
     },
     "execution_count": 389,
     "metadata": {},
     "output_type": "execute_result"
    }
   ],
   "source": [
    "BXBooknew.head()"
   ]
  },
  {
   "cell_type": "code",
   "execution_count": 595,
   "metadata": {},
   "outputs": [
    {
     "data": {
      "text/plain": [
       "0"
      ]
     },
     "execution_count": 595,
     "metadata": {},
     "output_type": "execute_result"
    }
   ],
   "source": [
    "BXBooknew['Publisher'].isnull().sum()"
   ]
  },
  {
   "cell_type": "code",
   "execution_count": 578,
   "metadata": {},
   "outputs": [],
   "source": [
    "# Users\n",
    "BXUsers = pd.read_csv('./BX-Users2.csv', encoding='ISO-8859–1',sep='\\t')"
   ]
  },
  {
   "cell_type": "code",
   "execution_count": 535,
   "metadata": {},
   "outputs": [
    {
     "data": {
      "text/plain": [
       "(278859, 1)"
      ]
     },
     "execution_count": 535,
     "metadata": {},
     "output_type": "execute_result"
    }
   ],
   "source": [
    "BXUsers.shape"
   ]
  },
  {
   "cell_type": "code",
   "execution_count": 571,
   "metadata": {},
   "outputs": [
    {
     "data": {
      "text/html": [
       "<div>\n",
       "<style scoped>\n",
       "    .dataframe tbody tr th:only-of-type {\n",
       "        vertical-align: middle;\n",
       "    }\n",
       "\n",
       "    .dataframe tbody tr th {\n",
       "        vertical-align: top;\n",
       "    }\n",
       "\n",
       "    .dataframe thead th {\n",
       "        text-align: right;\n",
       "    }\n",
       "</style>\n",
       "<table border=\"1\" class=\"dataframe\">\n",
       "  <thead>\n",
       "    <tr style=\"text-align: right;\">\n",
       "      <th></th>\n",
       "      <th>UserID;City;Region;Country;Age</th>\n",
       "    </tr>\n",
       "  </thead>\n",
       "  <tbody>\n",
       "    <tr>\n",
       "      <th>0</th>\n",
       "      <td>1;nyc; new york; usa;</td>\n",
       "    </tr>\n",
       "    <tr>\n",
       "      <th>1</th>\n",
       "      <td>2;stockton; california; usa;18</td>\n",
       "    </tr>\n",
       "    <tr>\n",
       "      <th>2</th>\n",
       "      <td>3;moscow; yukon territory; russia;</td>\n",
       "    </tr>\n",
       "    <tr>\n",
       "      <th>3</th>\n",
       "      <td>4;porto; v.n.gaia; portugal;17</td>\n",
       "    </tr>\n",
       "    <tr>\n",
       "      <th>4</th>\n",
       "      <td>5;farnborough; hants; united kingdom;</td>\n",
       "    </tr>\n",
       "  </tbody>\n",
       "</table>\n",
       "</div>"
      ],
      "text/plain": [
       "          UserID;City;Region;Country;Age\n",
       "0                  1;nyc; new york; usa;\n",
       "1         2;stockton; california; usa;18\n",
       "2     3;moscow; yukon territory; russia;\n",
       "3         4;porto; v.n.gaia; portugal;17\n",
       "4  5;farnborough; hants; united kingdom;"
      ]
     },
     "execution_count": 571,
     "metadata": {},
     "output_type": "execute_result"
    }
   ],
   "source": [
    "BXUsers.head()"
   ]
  },
  {
   "cell_type": "code",
   "execution_count": 579,
   "metadata": {},
   "outputs": [
    {
     "data": {
      "text/plain": [
       "array(['UserID;City;Region;Country;Age'], dtype=object)"
      ]
     },
     "execution_count": 579,
     "metadata": {},
     "output_type": "execute_result"
    }
   ],
   "source": [
    "BXUsers.columns.values"
   ]
  },
  {
   "cell_type": "code",
   "execution_count": 587,
   "metadata": {},
   "outputs": [],
   "source": [
    "BXUsers['UserID']=BXUsers['UserID;City;Region;Country;Age'].apply(lambda x:x.split(';')[0])\n",
    "BXUsers['City']=BXUsers['UserID;City;Region;Country;Age'].apply(lambda x:x.split(';')[1])\n",
    "BXUsers['Region']=BXUsers['UserID;City;Region;Country;Age'].apply(lambda x:x.split(';')[2])\n",
    "BXUsers['Country']=BXUsers['UserID;City;Region;Country;Age'].apply(lambda x:x.split(';')[3])\n",
    "#BXUsers['Age']=BXUsers['UserID;City;Region;Country;Age'].apply(lambda x:x.split(';')[4])"
   ]
  },
  {
   "cell_type": "code",
   "execution_count": 455,
   "metadata": {},
   "outputs": [],
   "source": [
    "BXUsers['Country']=BXUsers['\"UserID\";\"City\",Region,\"Country;\"\"Age\"\"\"'].map(lambda x:x.split(';')[0])\n"
   ]
  },
  {
   "cell_type": "code",
   "execution_count": 581,
   "metadata": {},
   "outputs": [
    {
     "data": {
      "text/html": [
       "<div>\n",
       "<style scoped>\n",
       "    .dataframe tbody tr th:only-of-type {\n",
       "        vertical-align: middle;\n",
       "    }\n",
       "\n",
       "    .dataframe tbody tr th {\n",
       "        vertical-align: top;\n",
       "    }\n",
       "\n",
       "    .dataframe thead th {\n",
       "        text-align: right;\n",
       "    }\n",
       "</style>\n",
       "<table border=\"1\" class=\"dataframe\">\n",
       "  <thead>\n",
       "    <tr style=\"text-align: right;\">\n",
       "      <th></th>\n",
       "      <th>UserID;City;Region;Country;Age</th>\n",
       "      <th>UserID</th>\n",
       "      <th>City</th>\n",
       "      <th>Region</th>\n",
       "      <th>Country</th>\n",
       "    </tr>\n",
       "  </thead>\n",
       "  <tbody>\n",
       "    <tr>\n",
       "      <th>0</th>\n",
       "      <td>1;nyc; new york; usa;NULL</td>\n",
       "      <td>1</td>\n",
       "      <td>nyc</td>\n",
       "      <td>new york</td>\n",
       "      <td>usa</td>\n",
       "    </tr>\n",
       "    <tr>\n",
       "      <th>1</th>\n",
       "      <td>2;stockton; california; usa;18</td>\n",
       "      <td>2</td>\n",
       "      <td>stockton</td>\n",
       "      <td>california</td>\n",
       "      <td>usa</td>\n",
       "    </tr>\n",
       "    <tr>\n",
       "      <th>2</th>\n",
       "      <td>3;moscow; yukon territory; russia;NULL</td>\n",
       "      <td>3</td>\n",
       "      <td>moscow</td>\n",
       "      <td>yukon territory</td>\n",
       "      <td>russia</td>\n",
       "    </tr>\n",
       "    <tr>\n",
       "      <th>3</th>\n",
       "      <td>4;porto; v.n.gaia; portugal;17</td>\n",
       "      <td>4</td>\n",
       "      <td>porto</td>\n",
       "      <td>v.n.gaia</td>\n",
       "      <td>portugal</td>\n",
       "    </tr>\n",
       "    <tr>\n",
       "      <th>4</th>\n",
       "      <td>5;farnborough; hants; united kingdom;NULL</td>\n",
       "      <td>5</td>\n",
       "      <td>farnborough</td>\n",
       "      <td>hants</td>\n",
       "      <td>united kingdom</td>\n",
       "    </tr>\n",
       "  </tbody>\n",
       "</table>\n",
       "</div>"
      ],
      "text/plain": [
       "              UserID;City;Region;Country;Age UserID         City  \\\n",
       "0                  1;nyc; new york; usa;NULL      1          nyc   \n",
       "1             2;stockton; california; usa;18      2     stockton   \n",
       "2     3;moscow; yukon territory; russia;NULL      3       moscow   \n",
       "3             4;porto; v.n.gaia; portugal;17      4        porto   \n",
       "4  5;farnborough; hants; united kingdom;NULL      5  farnborough   \n",
       "\n",
       "             Region          Country  \n",
       "0          new york              usa  \n",
       "1        california              usa  \n",
       "2   yukon territory           russia  \n",
       "3          v.n.gaia         portugal  \n",
       "4             hants   united kingdom  "
      ]
     },
     "execution_count": 581,
     "metadata": {},
     "output_type": "execute_result"
    }
   ],
   "source": [
    "BXUsers.head()"
   ]
  },
  {
   "cell_type": "code",
   "execution_count": 585,
   "metadata": {},
   "outputs": [
    {
     "data": {
      "text/html": [
       "<div>\n",
       "<style scoped>\n",
       "    .dataframe tbody tr th:only-of-type {\n",
       "        vertical-align: middle;\n",
       "    }\n",
       "\n",
       "    .dataframe tbody tr th {\n",
       "        vertical-align: top;\n",
       "    }\n",
       "\n",
       "    .dataframe thead th {\n",
       "        text-align: right;\n",
       "    }\n",
       "</style>\n",
       "<table border=\"1\" class=\"dataframe\">\n",
       "  <thead>\n",
       "    <tr style=\"text-align: right;\">\n",
       "      <th></th>\n",
       "      <th>UserID;City;Region;Country;Age</th>\n",
       "      <th>UserID</th>\n",
       "      <th>City</th>\n",
       "      <th>Region</th>\n",
       "      <th>Country</th>\n",
       "    </tr>\n",
       "  </thead>\n",
       "  <tbody>\n",
       "    <tr>\n",
       "      <th>18</th>\n",
       "      <td>19;weston; ;;14</td>\n",
       "      <td>19</td>\n",
       "      <td>weston</td>\n",
       "      <td></td>\n",
       "      <td></td>\n",
       "    </tr>\n",
       "    <tr>\n",
       "      <th>90</th>\n",
       "      <td>91;toronto/newmarket; ;;NULL</td>\n",
       "      <td>91</td>\n",
       "      <td>toronto/newmarket</td>\n",
       "      <td></td>\n",
       "      <td></td>\n",
       "    </tr>\n",
       "    <tr>\n",
       "      <th>311</th>\n",
       "      <td>312;lk; jlk;;NULL</td>\n",
       "      <td>312</td>\n",
       "      <td>lk</td>\n",
       "      <td>jlk</td>\n",
       "      <td></td>\n",
       "    </tr>\n",
       "    <tr>\n",
       "      <th>317</th>\n",
       "      <td>318;berlin; n/a;;NULL</td>\n",
       "      <td>318</td>\n",
       "      <td>berlin</td>\n",
       "      <td>n/a</td>\n",
       "      <td></td>\n",
       "    </tr>\n",
       "    <tr>\n",
       "      <th>536</th>\n",
       "      <td>537;davis; california;;NULL</td>\n",
       "      <td>537</td>\n",
       "      <td>davis</td>\n",
       "      <td>california</td>\n",
       "      <td></td>\n",
       "    </tr>\n",
       "    <tr>\n",
       "      <th>...</th>\n",
       "      <td>...</td>\n",
       "      <td>...</td>\n",
       "      <td>...</td>\n",
       "      <td>...</td>\n",
       "      <td>...</td>\n",
       "    </tr>\n",
       "    <tr>\n",
       "      <th>278625</th>\n",
       "      <td>278625;savona; ;;36</td>\n",
       "      <td>278625</td>\n",
       "      <td>savona</td>\n",
       "      <td></td>\n",
       "      <td></td>\n",
       "    </tr>\n",
       "    <tr>\n",
       "      <th>278652</th>\n",
       "      <td>278652;murrieta; ;;NULL</td>\n",
       "      <td>278652</td>\n",
       "      <td>murrieta</td>\n",
       "      <td></td>\n",
       "      <td></td>\n",
       "    </tr>\n",
       "    <tr>\n",
       "      <th>278698</th>\n",
       "      <td>278698;pasadena; maryland;;NULL</td>\n",
       "      <td>278698</td>\n",
       "      <td>pasadena</td>\n",
       "      <td>maryland</td>\n",
       "      <td></td>\n",
       "    </tr>\n",
       "    <tr>\n",
       "      <th>278717</th>\n",
       "      <td>278717;mayagüez; puerto rico;;53</td>\n",
       "      <td>278717</td>\n",
       "      <td>mayagüez</td>\n",
       "      <td>puerto rico</td>\n",
       "      <td></td>\n",
       "    </tr>\n",
       "    <tr>\n",
       "      <th>278777</th>\n",
       "      <td>278777;overland park; kansas;;NULL</td>\n",
       "      <td>278777</td>\n",
       "      <td>overland park</td>\n",
       "      <td>kansas</td>\n",
       "      <td></td>\n",
       "    </tr>\n",
       "  </tbody>\n",
       "</table>\n",
       "<p>4661 rows × 5 columns</p>\n",
       "</div>"
      ],
      "text/plain": [
       "            UserID;City;Region;Country;Age  UserID               City  \\\n",
       "18                         19;weston; ;;14      19             weston   \n",
       "90            91;toronto/newmarket; ;;NULL      91  toronto/newmarket   \n",
       "311                      312;lk; jlk;;NULL     312                 lk   \n",
       "317                  318;berlin; n/a;;NULL     318             berlin   \n",
       "536            537;davis; california;;NULL     537              davis   \n",
       "...                                    ...     ...                ...   \n",
       "278625                 278625;savona; ;;36  278625             savona   \n",
       "278652             278652;murrieta; ;;NULL  278652           murrieta   \n",
       "278698     278698;pasadena; maryland;;NULL  278698           pasadena   \n",
       "278717    278717;mayagüez; puerto rico;;53  278717           mayagüez   \n",
       "278777  278777;overland park; kansas;;NULL  278777      overland park   \n",
       "\n",
       "              Region Country  \n",
       "18                            \n",
       "90                            \n",
       "311              jlk          \n",
       "317              n/a          \n",
       "536       california          \n",
       "...              ...     ...  \n",
       "278625                        \n",
       "278652                        \n",
       "278698      maryland          \n",
       "278717   puerto rico          \n",
       "278777        kansas          \n",
       "\n",
       "[4661 rows x 5 columns]"
      ]
     },
     "execution_count": 585,
     "metadata": {},
     "output_type": "execute_result"
    }
   ],
   "source": [
    "BXUsers.loc[BXUsers['Country'] == '']"
   ]
  },
  {
   "cell_type": "code",
   "execution_count": null,
   "metadata": {},
   "outputs": [],
   "source": [
    "# df_electronics"
   ]
  },
  {
   "cell_type": "code",
   "execution_count": 72,
   "metadata": {},
   "outputs": [],
   "source": [
    "df_electronics = pd.read_csv('./df_electronics.txt')"
   ]
  },
  {
   "cell_type": "code",
   "execution_count": 73,
   "metadata": {},
   "outputs": [],
   "source": [
    "df_electronics.to_csv('df_electronics.csv')\n",
    "\n",
    "df_electronics = pd.read_csv('./df_electronics.csv')"
   ]
  },
  {
   "cell_type": "code",
   "execution_count": 53,
   "metadata": {},
   "outputs": [
    {
     "name": "stdout",
     "output_type": "stream",
     "text": [
      "<class 'pandas.core.frame.DataFrame'>\n",
      "RangeIndex: 1292954 entries, 0 to 1292953\n",
      "Data columns (total 9 columns):\n",
      " #   Column      Non-Null Count    Dtype  \n",
      "---  ------      --------------    -----  \n",
      " 0   item_id     1292954 non-null  int64  \n",
      " 1   user_id     1292954 non-null  int64  \n",
      " 2   rating      1292954 non-null  float64\n",
      " 3   timestamp   1292954 non-null  object \n",
      " 4   model_attr  1292954 non-null  object \n",
      " 5   category    1292954 non-null  object \n",
      " 6   brand       331120 non-null   object \n",
      " 7   year        1292954 non-null  int64  \n",
      " 8   user_attr   174124 non-null   object \n",
      "dtypes: float64(1), int64(3), object(5)\n",
      "memory usage: 88.8+ MB\n",
      "None\n"
     ]
    }
   ],
   "source": [
    "print(df_electronics.info())"
   ]
  },
  {
   "cell_type": "code",
   "execution_count": 76,
   "metadata": {},
   "outputs": [],
   "source": [
    "df_electronics=df_electronics.drop(columns=['Unnamed: 0','split'],axis=1)"
   ]
  },
  {
   "cell_type": "code",
   "execution_count": 78,
   "metadata": {},
   "outputs": [
    {
     "data": {
      "text/plain": [
       "item_id             0\n",
       "user_id             0\n",
       "rating              0\n",
       "timestamp           0\n",
       "model_attr          0\n",
       "category            0\n",
       "brand          961834\n",
       "year                0\n",
       "user_attr     1118830\n",
       "dtype: int64"
      ]
     },
     "execution_count": 78,
     "metadata": {},
     "output_type": "execute_result"
    }
   ],
   "source": [
    "df_electronics.isnull().sum() "
   ]
  },
  {
   "cell_type": "code",
   "execution_count": 79,
   "metadata": {},
   "outputs": [
    {
     "data": {
      "text/plain": [
       "array(['Portable Audio & Video', 'Computers & Accessories', 'Headphones',\n",
       "       'Camera & Photo', 'Television & Video', 'Home Audio',\n",
       "       'Accessories & Supplies', 'Car Electronics & GPS',\n",
       "       'Security & Surveillance', 'Wearable Technology'], dtype=object)"
      ]
     },
     "execution_count": 79,
     "metadata": {},
     "output_type": "execute_result"
    }
   ],
   "source": [
    "#df_electronics['user_attr'].unique()\n",
    "df_electronics['category'].unique()"
   ]
  },
  {
   "cell_type": "code",
   "execution_count": 136,
   "metadata": {},
   "outputs": [],
   "source": [
    "user2=set(df_electronics['user_id'])"
   ]
  },
  {
   "cell_type": "code",
   "execution_count": 137,
   "metadata": {},
   "outputs": [
    {
     "data": {
      "text/plain": [
       "40401"
      ]
     },
     "execution_count": 137,
     "metadata": {},
     "output_type": "execute_result"
    }
   ],
   "source": [
    "len(user2)"
   ]
  },
  {
   "cell_type": "code",
   "execution_count": null,
   "metadata": {},
   "outputs": [],
   "source": [
    "#df_review.dropna(inplace=True)\n",
    "d#f_electronics.fillna(df_electronics.mean())"
   ]
  },
  {
   "cell_type": "code",
   "execution_count": 146,
   "metadata": {},
   "outputs": [
    {
     "data": {
      "text/plain": [
       "<matplotlib.axes._subplots.AxesSubplot at 0x1989d0b1f08>"
      ]
     },
     "execution_count": 146,
     "metadata": {},
     "output_type": "execute_result"
    },
    {
     "data": {
      "image/png": "[encoded data removed]",
      "text/plain": [
       "<Figure size 432x288 with 1 Axes>"
      ]
     },
     "metadata": {
      "needs_background": "light"
     },
     "output_type": "display_data"
    }
   ],
   "source": [
    "df_electronics['rating'].hist()"
   ]
  },
  {
   "cell_type": "code",
   "execution_count": 27,
   "metadata": {},
   "outputs": [
    {
     "data": {
      "text/plain": [
       "False"
      ]
     },
     "execution_count": 27,
     "metadata": {},
     "output_type": "execute_result"
    }
   ],
   "source": [
    "df_electronics['model_attr'].equals(df_electronics['user_attr'])"
   ]
  },
  {
   "cell_type": "code",
   "execution_count": 301,
   "metadata": {},
   "outputs": [
    {
     "data": {
      "text/plain": [
       "array(['Female', 'Female&Male', 'Male'], dtype=object)"
      ]
     },
     "execution_count": 301,
     "metadata": {},
     "output_type": "execute_result"
    }
   ],
   "source": [
    "df_electronics['model_attr'].unique()"
   ]
  },
  {
   "cell_type": "code",
   "execution_count": 84,
   "metadata": {},
   "outputs": [],
   "source": [
    "\n",
    "def function(a, b):\n",
    "    if a == b:\n",
    "        return 1\n",
    "    else:\n",
    "        return 0\n",
    "    \n",
    "df_electronics['bool'] = df_electronics.apply(lambda x : function(x['brand'],x['user_attr']),axis = 1)"
   ]
  },
  {
   "cell_type": "code",
   "execution_count": 85,
   "metadata": {},
   "outputs": [
    {
     "data": {
      "text/plain": [
       "0"
      ]
     },
     "execution_count": 85,
     "metadata": {},
     "output_type": "execute_result"
    }
   ],
   "source": [
    "df_electronics['bool'].sum()"
   ]
  },
  {
   "cell_type": "code",
   "execution_count": 80,
   "metadata": {},
   "outputs": [],
   "source": [
    "df_electronics.dropna(inplace=True)"
   ]
  },
  {
   "cell_type": "code",
   "execution_count": 128,
   "metadata": {},
   "outputs": [
    {
     "name": "stdout",
     "output_type": "stream",
     "text": [
      "<class 'pandas.core.frame.DataFrame'>\n",
      "Int64Index: 45166 entries, 131 to 1292953\n",
      "Data columns (total 8 columns):\n",
      " #   Column      Non-Null Count  Dtype  \n",
      "---  ------      --------------  -----  \n",
      " 0   item_id     45166 non-null  int64  \n",
      " 1   user_id     45166 non-null  int64  \n",
      " 2   rating      45166 non-null  float64\n",
      " 3   timestamp   45166 non-null  object \n",
      " 4   model_attr  45166 non-null  object \n",
      " 5   category    45166 non-null  object \n",
      " 6   brand       45166 non-null  object \n",
      " 7   user_attr   45166 non-null  object \n",
      "dtypes: float64(1), int64(2), object(5)\n",
      "memory usage: 3.1+ MB\n"
     ]
    }
   ],
   "source": [
    "df_electronics.info()"
   ]
  },
  {
   "cell_type": "code",
   "execution_count": 86,
   "metadata": {},
   "outputs": [],
   "source": [
    "df_electronics=df_electronics.drop(columns=['bool'],axis=1)"
   ]
  },
  {
   "cell_type": "code",
   "execution_count": 87,
   "metadata": {},
   "outputs": [],
   "source": [
    "df_electronics=df_electronics.drop(columns=['year'],axis=1)"
   ]
  },
  {
   "cell_type": "code",
   "execution_count": 88,
   "metadata": {},
   "outputs": [
    {
     "name": "stdout",
     "output_type": "stream",
     "text": [
      "<class 'pandas.core.frame.DataFrame'>\n",
      "Int64Index: 45166 entries, 131 to 1292953\n",
      "Data columns (total 8 columns):\n",
      " #   Column      Non-Null Count  Dtype  \n",
      "---  ------      --------------  -----  \n",
      " 0   item_id     45166 non-null  int64  \n",
      " 1   user_id     45166 non-null  int64  \n",
      " 2   rating      45166 non-null  float64\n",
      " 3   timestamp   45166 non-null  object \n",
      " 4   model_attr  45166 non-null  object \n",
      " 5   category    45166 non-null  object \n",
      " 6   brand       45166 non-null  object \n",
      " 7   user_attr   45166 non-null  object \n",
      "dtypes: float64(1), int64(2), object(5)\n",
      "memory usage: 3.1+ MB\n"
     ]
    }
   ],
   "source": [
    "df_electronics.info()"
   ]
  },
  {
   "cell_type": "code",
   "execution_count": 296,
   "metadata": {},
   "outputs": [],
   "source": [
    "from sklearn.model_selection import train_test_split\n",
    "import pandas as pd"
   ]
  },
  {
   "cell_type": "code",
   "execution_count": 297,
   "metadata": {},
   "outputs": [],
   "source": [
    "train, test = train_test_split(df_electronics, test_size=0.2)"
   ]
  },
  {
   "cell_type": "code",
   "execution_count": 300,
   "metadata": {},
   "outputs": [],
   "source": [
    "train.to_csv(\"./df_electronics_train.csv\",index=False)\n",
    "\n",
    "test.to_csv(\"./df_electronics_test.csv\",index=False)"
   ]
  },
  {
   "cell_type": "code",
   "execution_count": 62,
   "metadata": {},
   "outputs": [],
   "source": [
    "#Google Local Reviews dataset"
   ]
  },
  {
   "cell_type": "code",
   "execution_count": 101,
   "metadata": {},
   "outputs": [],
   "source": [
    "# load json data from file\n",
    "import json\n",
    "\n",
    "GoogleUserData = open(\"./users.clean.json\",'r')\n"
   ]
  },
  {
   "cell_type": "code",
   "execution_count": 106,
   "metadata": {},
   "outputs": [
    {
     "data": {
      "text/plain": [
       "_io.TextIOWrapper"
      ]
     },
     "execution_count": 106,
     "metadata": {},
     "output_type": "execute_result"
    }
   ],
   "source": [
    "type(GoogleUserData)"
   ]
  },
  {
   "cell_type": "code",
   "execution_count": 102,
   "metadata": {},
   "outputs": [
    {
     "data": {
      "text/plain": [
       "_io.TextIOWrapper"
      ]
     },
     "execution_count": 102,
     "metadata": {},
     "output_type": "execute_result"
    }
   ],
   "source": [
    "type(GoogleUserData)"
   ]
  },
  {
   "cell_type": "code",
   "execution_count": 155,
   "metadata": {},
   "outputs": [],
   "source": [
    "with open('./users.clean.json','r') as f:\n",
    "    lines = [eval(line) for line in f]"
   ]
  },
  {
   "cell_type": "code",
   "execution_count": 178,
   "metadata": {},
   "outputs": [
    {
     "data": {
      "text/plain": [
       "{'userName': 'an lam',\n",
       " 'jobs': [['Tổng công ty IDICO',\n",
       "   'Chuyên viên Kỹ thuật XD',\n",
       "   [[1, 1, 1998], [1, 1, 2013], 1],\n",
       "   '',\n",
       "   '']],\n",
       " 'currentPlace': ['Thành phố Hồ Chí Minh, Việt Nam',\n",
       "  [[], 108230990, 1066296640, 1]],\n",
       " 'previousPlaces': [['tp. Nam Định, Nam Định, Việt Nam',\n",
       "   [[], 204200000, 1061683330, 1]]],\n",
       " 'education': [[[], [], [], [], [], 6],\n",
       "  [['Đại học Kiến trúc tp Hồ chí minh, Việt nam',\n",
       "    'KS.XD',\n",
       "    [[], [1, 1, 2013], 1],\n",
       "    '',\n",
       "    '']]],\n",
       " 'gPlusUserId': '100000010817154263736'}"
      ]
     },
     "execution_count": 178,
     "metadata": {},
     "output_type": "execute_result"
    }
   ],
   "source": [
    "lines[0]"
   ]
  },
  {
   "cell_type": "code",
   "execution_count": 157,
   "metadata": {},
   "outputs": [],
   "source": [
    "df = pd.DataFrame.from_dict(lines)"
   ]
  },
  {
   "cell_type": "code",
   "execution_count": 158,
   "metadata": {},
   "outputs": [
    {
     "data": {
      "text/html": [
       "<div>\n",
       "<style scoped>\n",
       "    .dataframe tbody tr th:only-of-type {\n",
       "        vertical-align: middle;\n",
       "    }\n",
       "\n",
       "    .dataframe tbody tr th {\n",
       "        vertical-align: top;\n",
       "    }\n",
       "\n",
       "    .dataframe thead th {\n",
       "        text-align: right;\n",
       "    }\n",
       "</style>\n",
       "<table border=\"1\" class=\"dataframe\">\n",
       "  <thead>\n",
       "    <tr style=\"text-align: right;\">\n",
       "      <th></th>\n",
       "      <th>userName</th>\n",
       "      <th>jobs</th>\n",
       "      <th>currentPlace</th>\n",
       "      <th>previousPlaces</th>\n",
       "      <th>education</th>\n",
       "      <th>gPlusUserId</th>\n",
       "    </tr>\n",
       "  </thead>\n",
       "  <tbody>\n",
       "    <tr>\n",
       "      <th>0</th>\n",
       "      <td>an lam</td>\n",
       "      <td>[[Tổng công ty IDICO, Chuyên viên Kỹ thuật XD,...</td>\n",
       "      <td>[Thành phố Hồ Chí Minh, Việt Nam, [[], 1082309...</td>\n",
       "      <td>[[tp. Nam Định, Nam Định, Việt Nam, [[], 20420...</td>\n",
       "      <td>[[[], [], [], [], [], 6], [[Đại học Kiến trúc ...</td>\n",
       "      <td>100000010817154263736</td>\n",
       "    </tr>\n",
       "    <tr>\n",
       "      <th>1</th>\n",
       "      <td>HALİL TURGUT</td>\n",
       "      <td>[[Mustafa Nevzat İlaç San. A.Ş., Rebrezant, []...</td>\n",
       "      <td>[Adana, [[], 370000000, 353213330, 1]]</td>\n",
       "      <td>None</td>\n",
       "      <td>[[[], [], [], [], [], 6], [[Anadolu University...</td>\n",
       "      <td>100000013500285534661</td>\n",
       "    </tr>\n",
       "    <tr>\n",
       "      <th>2</th>\n",
       "      <td>森田さとこ</td>\n",
       "      <td>None</td>\n",
       "      <td>None</td>\n",
       "      <td>None</td>\n",
       "      <td>[[[], [], [], [], [], 6], []]</td>\n",
       "      <td>100000021336848867366</td>\n",
       "    </tr>\n",
       "    <tr>\n",
       "      <th>3</th>\n",
       "      <td>amey kore</td>\n",
       "      <td>None</td>\n",
       "      <td>None</td>\n",
       "      <td>None</td>\n",
       "      <td>[[[], [], [], [], [], 6], []]</td>\n",
       "      <td>100000030557048145331</td>\n",
       "    </tr>\n",
       "    <tr>\n",
       "      <th>4</th>\n",
       "      <td>william spindler</td>\n",
       "      <td>None</td>\n",
       "      <td>None</td>\n",
       "      <td>None</td>\n",
       "      <td>[[[], [], [], [], [], 6], []]</td>\n",
       "      <td>100000032416892623125</td>\n",
       "    </tr>\n",
       "  </tbody>\n",
       "</table>\n",
       "</div>"
      ],
      "text/plain": [
       "           userName                                               jobs  \\\n",
       "0            an lam  [[Tổng công ty IDICO, Chuyên viên Kỹ thuật XD,...   \n",
       "1      HALİL TURGUT  [[Mustafa Nevzat İlaç San. A.Ş., Rebrezant, []...   \n",
       "2             森田さとこ                                               None   \n",
       "3         amey kore                                               None   \n",
       "4  william spindler                                               None   \n",
       "\n",
       "                                        currentPlace  \\\n",
       "0  [Thành phố Hồ Chí Minh, Việt Nam, [[], 1082309...   \n",
       "1             [Adana, [[], 370000000, 353213330, 1]]   \n",
       "2                                               None   \n",
       "3                                               None   \n",
       "4                                               None   \n",
       "\n",
       "                                      previousPlaces  \\\n",
       "0  [[tp. Nam Định, Nam Định, Việt Nam, [[], 20420...   \n",
       "1                                               None   \n",
       "2                                               None   \n",
       "3                                               None   \n",
       "4                                               None   \n",
       "\n",
       "                                           education            gPlusUserId  \n",
       "0  [[[], [], [], [], [], 6], [[Đại học Kiến trúc ...  100000010817154263736  \n",
       "1  [[[], [], [], [], [], 6], [[Anadolu University...  100000013500285534661  \n",
       "2                      [[[], [], [], [], [], 6], []]  100000021336848867366  \n",
       "3                      [[[], [], [], [], [], 6], []]  100000030557048145331  \n",
       "4                      [[[], [], [], [], [], 6], []]  100000032416892623125  "
      ]
     },
     "execution_count": 158,
     "metadata": {},
     "output_type": "execute_result"
    }
   ],
   "source": [
    "df.head()"
   ]
  },
  {
   "cell_type": "code",
   "execution_count": 173,
   "metadata": {},
   "outputs": [
    {
     "data": {
      "text/plain": [
       "jobs    [[Tổng công ty IDICO, Chuyên viên Kỹ thuật XD,...\n",
       "Name: 0, dtype: object"
      ]
     },
     "execution_count": 173,
     "metadata": {},
     "output_type": "execute_result"
    }
   ],
   "source": [
    "df.loc[0,['jobs']].values"
   ]
  },
  {
   "cell_type": "code",
   "execution_count": 175,
   "metadata": {},
   "outputs": [
    {
     "data": {
      "text/plain": [
       "array([list(['Thành phố Hồ Chí Minh, Việt Nam', [[], 108230990, 1066296640, 1]])],\n",
       "      dtype=object)"
      ]
     },
     "execution_count": 175,
     "metadata": {},
     "output_type": "execute_result"
    }
   ],
   "source": [
    "df.loc[0,['currentPlace']].values"
   ]
  },
  {
   "cell_type": "code",
   "execution_count": 176,
   "metadata": {},
   "outputs": [
    {
     "data": {
      "text/plain": [
       "array([list([['tp. Nam Định, Nam Định, Việt Nam', [[], 204200000, 1061683330, 1]]])],\n",
       "      dtype=object)"
      ]
     },
     "execution_count": 176,
     "metadata": {},
     "output_type": "execute_result"
    }
   ],
   "source": [
    "df.loc[0,['previousPlaces']].values"
   ]
  },
  {
   "cell_type": "code",
   "execution_count": 177,
   "metadata": {},
   "outputs": [
    {
     "data": {
      "text/plain": [
       "array([list([[[], [], [], [], [], 6], [['Đại học Kiến trúc tp Hồ chí minh, Việt nam', 'KS.XD', [[], [1, 1, 2013], 1], '', '']]])],\n",
       "      dtype=object)"
      ]
     },
     "execution_count": 177,
     "metadata": {},
     "output_type": "execute_result"
    }
   ],
   "source": [
    "df.loc[0,['education']].values"
   ]
  },
  {
   "cell_type": "code",
   "execution_count": 155,
   "metadata": {},
   "outputs": [],
   "source": [
    "os.chdir(\"C:\\\\Users\\\\Montr\\\\Documents\\\\HEC MSC\\\\Deep learning\\\\team project\\\\data2\\\\traning and test datasets\")"
   ]
  },
  {
   "cell_type": "code",
   "execution_count": 157,
   "metadata": {},
   "outputs": [],
   "source": [
    "movietraindata = pd.read_csv(\"./Movies_train.csv\") "
   ]
  },
  {
   "cell_type": "code",
   "execution_count": 158,
   "metadata": {},
   "outputs": [],
   "source": [
    "movieTestdata = pd.read_csv('./Movies_test.csv')"
   ]
  },
  {
   "cell_type": "code",
   "execution_count": 166,
   "metadata": {},
   "outputs": [
    {
     "data": {
      "text/plain": [
       "220411"
      ]
     },
     "execution_count": 166,
     "metadata": {},
     "output_type": "execute_result"
    }
   ],
   "source": [
    "movieTestdata['RATING'].count()+movietraindata['RATING'].count()"
   ]
  },
  {
   "cell_type": "code",
   "execution_count": null,
   "metadata": {},
   "outputs": [],
   "source": []
  }
 ],
 "metadata": {
  "kernelspec": {
   "display_name": "Python 3",
   "language": "python",
   "name": "python3"
  },
  "language_info": {
   "codemirror_mode": {
    "name": "ipython",
    "version": 3
   },
   "file_extension": ".py",
   "mimetype": "text/x-python",
   "name": "python",
   "nbconvert_exporter": "python",
   "pygments_lexer": "ipython3",
   "version": "3.7.6"
  }
 },
 "nbformat": 4,
 "nbformat_minor": 4
}
